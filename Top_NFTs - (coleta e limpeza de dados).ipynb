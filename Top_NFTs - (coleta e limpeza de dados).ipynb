{
  "nbformat": 4,
  "nbformat_minor": 0,
  "metadata": {
    "colab": {
      "name": "Top-NFTs - Coleta e limpeza de dados.ipynb",
      "provenance": []
    },
    "kernelspec": {
      "name": "python3",
      "display_name": "Python 3"
    },
    "language_info": {
      "name": "python"
    }
  },
  "cells": [
    {
      "cell_type": "markdown",
      "source": [
        "#Importando as Bibliotecas:"
      ],
      "metadata": {
        "id": "5vh35CtnLfxH"
      }
    },
    {
      "cell_type": "code",
      "execution_count": 144,
      "metadata": {
        "id": "c2oc3bhRmRk6"
      },
      "outputs": [],
      "source": [
        "import pandas as pd\n",
        "import requests\n",
        "from bs4 import BeautifulSoup as bs\n",
        "\n",
        "import matplotlib.pyplot as plt\n",
        "import seaborn as sns"
      ]
    },
    {
      "cell_type": "markdown",
      "source": [
        "#1ºParte: Coleta de dados e preparação do dataframe:"
      ],
      "metadata": {
        "id": "L_vb_pu0Ljvi"
      }
    },
    {
      "cell_type": "markdown",
      "source": [
        "Interessante notar que cada vez que os comandos abaixo são postos para funcionar, os preços e volumes são constantemente atualizados. Isso gera uma dificuldade, mas também gera uma análise mais precisa que deve considerar a mudança dos preços."
      ],
      "metadata": {
        "id": "qj3GAGeQzAii"
      }
    },
    {
      "cell_type": "code",
      "source": [
        "request = requests.get(\"https://www.coingecko.com/en/nft\").text"
      ],
      "metadata": {
        "id": "XudfWz_ooGHC"
      },
      "execution_count": 145,
      "outputs": []
    },
    {
      "cell_type": "code",
      "source": [
        "df = pd.read_html(request)"
      ],
      "metadata": {
        "id": "2D2QdNWIomlc"
      },
      "execution_count": 146,
      "outputs": []
    },
    {
      "cell_type": "code",
      "source": [
        "df1 = df[0]"
      ],
      "metadata": {
        "id": "iFGHeVHAondA"
      },
      "execution_count": 147,
      "outputs": []
    },
    {
      "cell_type": "code",
      "source": [
        "df1"
      ],
      "metadata": {
        "colab": {
          "base_uri": "https://localhost:8080/",
          "height": 833
        },
        "id": "_z_WbZ5BSIfX",
        "outputId": "87826a22-d1ed-44f2-853d-30607e5a8994"
      },
      "execution_count": 148,
      "outputs": [
        {
          "output_type": "execute_result",
          "data": {
            "text/html": [
              "\n",
              "  <div id=\"df-dc329577-934e-4b8e-8f07-072f4a4c5c66\">\n",
              "    <div class=\"colab-df-container\">\n",
              "      <div>\n",
              "<style scoped>\n",
              "    .dataframe tbody tr th:only-of-type {\n",
              "        vertical-align: middle;\n",
              "    }\n",
              "\n",
              "    .dataframe tbody tr th {\n",
              "        vertical-align: top;\n",
              "    }\n",
              "\n",
              "    .dataframe thead th {\n",
              "        text-align: right;\n",
              "    }\n",
              "</style>\n",
              "<table border=\"1\" class=\"dataframe\">\n",
              "  <thead>\n",
              "    <tr style=\"text-align: right;\">\n",
              "      <th></th>\n",
              "      <th>#</th>\n",
              "      <th>NFT</th>\n",
              "      <th>Floor Price</th>\n",
              "      <th>24h</th>\n",
              "      <th>7d</th>\n",
              "      <th>Market Cap</th>\n",
              "      <th>24h Volume</th>\n",
              "      <th>Owners</th>\n",
              "      <th>24h Owners</th>\n",
              "      <th>Total Assets</th>\n",
              "    </tr>\n",
              "  </thead>\n",
              "  <tbody>\n",
              "    <tr>\n",
              "      <th>0</th>\n",
              "      <td>1</td>\n",
              "      <td>CloneX</td>\n",
              "      <td>13.99 ETH</td>\n",
              "      <td>0.3%</td>\n",
              "      <td>NaN</td>\n",
              "      <td>263,431.7 ETH</td>\n",
              "      <td>1,483.47 ETH</td>\n",
              "      <td>8201.0</td>\n",
              "      <td>0.0%</td>\n",
              "      <td>18830.0</td>\n",
              "    </tr>\n",
              "    <tr>\n",
              "      <th>1</th>\n",
              "      <td>2</td>\n",
              "      <td>Cool Pets</td>\n",
              "      <td>2.73 ETH</td>\n",
              "      <td>20.4%</td>\n",
              "      <td>NaN</td>\n",
              "      <td>43,262.31 ETH</td>\n",
              "      <td>1,371.08 ETH</td>\n",
              "      <td>9639.0</td>\n",
              "      <td>0.4%</td>\n",
              "      <td>15847.0</td>\n",
              "    </tr>\n",
              "    <tr>\n",
              "      <th>2</th>\n",
              "      <td>3</td>\n",
              "      <td>Azuki</td>\n",
              "      <td>9.9 ETH</td>\n",
              "      <td>-10.4%</td>\n",
              "      <td>NaN</td>\n",
              "      <td>99,000.0 ETH</td>\n",
              "      <td>890.01 ETH</td>\n",
              "      <td>5414.0</td>\n",
              "      <td>-0.1%</td>\n",
              "      <td>10000.0</td>\n",
              "    </tr>\n",
              "    <tr>\n",
              "      <th>3</th>\n",
              "      <td>4</td>\n",
              "      <td>Mutant Ape Yacht Club</td>\n",
              "      <td>20.0 ETH</td>\n",
              "      <td>-1.5%</td>\n",
              "      <td>NaN</td>\n",
              "      <td>359,000.0 ETH</td>\n",
              "      <td>855.02 ETH</td>\n",
              "      <td>11696.0</td>\n",
              "      <td>0.1%</td>\n",
              "      <td>17950.0</td>\n",
              "    </tr>\n",
              "    <tr>\n",
              "      <th>4</th>\n",
              "      <td>5</td>\n",
              "      <td>Bored Ape Yacht Club</td>\n",
              "      <td>92.0 ETH</td>\n",
              "      <td>-3.2%</td>\n",
              "      <td>NaN</td>\n",
              "      <td>920,000.0 ETH</td>\n",
              "      <td>852.03 ETH</td>\n",
              "      <td>6316.0</td>\n",
              "      <td>0.1%</td>\n",
              "      <td>10000.0</td>\n",
              "    </tr>\n",
              "    <tr>\n",
              "      <th>5</th>\n",
              "      <td>6</td>\n",
              "      <td>LAND</td>\n",
              "      <td>3.6988 ETH</td>\n",
              "      <td>3.1%</td>\n",
              "      <td>NaN</td>\n",
              "      <td>517,155.12 ETH</td>\n",
              "      <td>356.76 ETH</td>\n",
              "      <td>19237.0</td>\n",
              "      <td>0.1%</td>\n",
              "      <td>139817.0</td>\n",
              "    </tr>\n",
              "    <tr>\n",
              "      <th>6</th>\n",
              "      <td>7</td>\n",
              "      <td>Doodles</td>\n",
              "      <td>13.97 ETH</td>\n",
              "      <td>-3.6%</td>\n",
              "      <td>NaN</td>\n",
              "      <td>139,700.0 ETH</td>\n",
              "      <td>244.87 ETH</td>\n",
              "      <td>5982.0</td>\n",
              "      <td>0.1%</td>\n",
              "      <td>10000.0</td>\n",
              "    </tr>\n",
              "    <tr>\n",
              "      <th>7</th>\n",
              "      <td>8</td>\n",
              "      <td>World of Women</td>\n",
              "      <td>10.7499 ETH</td>\n",
              "      <td>0.8%</td>\n",
              "      <td>NaN</td>\n",
              "      <td>107,499.0 ETH</td>\n",
              "      <td>207.02 ETH</td>\n",
              "      <td>5065.0</td>\n",
              "      <td>0.1%</td>\n",
              "      <td>10000.0</td>\n",
              "    </tr>\n",
              "    <tr>\n",
              "      <th>8</th>\n",
              "      <td>9</td>\n",
              "      <td>VeeFriends</td>\n",
              "      <td>13.75 ETH</td>\n",
              "      <td>2.0%</td>\n",
              "      <td>NaN</td>\n",
              "      <td>141,006.25 ETH</td>\n",
              "      <td>163.08 ETH</td>\n",
              "      <td>5201.0</td>\n",
              "      <td>0.1%</td>\n",
              "      <td>10255.0</td>\n",
              "    </tr>\n",
              "    <tr>\n",
              "      <th>9</th>\n",
              "      <td>10</td>\n",
              "      <td>Decentral Games ICE Poker</td>\n",
              "      <td>1.99 ETH</td>\n",
              "      <td>-4.1%</td>\n",
              "      <td>NaN</td>\n",
              "      <td>28,878.88 ETH</td>\n",
              "      <td>135.54 ETH</td>\n",
              "      <td>3367.0</td>\n",
              "      <td>-0.5%</td>\n",
              "      <td>14512.0</td>\n",
              "    </tr>\n",
              "    <tr>\n",
              "      <th>10</th>\n",
              "      <td>11</td>\n",
              "      <td>Capsule House</td>\n",
              "      <td>1.69 ETH</td>\n",
              "      <td>5.7%</td>\n",
              "      <td>NaN</td>\n",
              "      <td>16,900.0 ETH</td>\n",
              "      <td>135.09 ETH</td>\n",
              "      <td>3737.0</td>\n",
              "      <td>-0.2%</td>\n",
              "      <td>10000.0</td>\n",
              "    </tr>\n",
              "    <tr>\n",
              "      <th>11</th>\n",
              "      <td>12</td>\n",
              "      <td>Boss Beauties</td>\n",
              "      <td>2.19 ETH</td>\n",
              "      <td>-9.7%</td>\n",
              "      <td>NaN</td>\n",
              "      <td>21,900.0 ETH</td>\n",
              "      <td>124.04 ETH</td>\n",
              "      <td>5397.0</td>\n",
              "      <td>0.2%</td>\n",
              "      <td>10000.0</td>\n",
              "    </tr>\n",
              "    <tr>\n",
              "      <th>12</th>\n",
              "      <td>13</td>\n",
              "      <td>FLUF World</td>\n",
              "      <td>3.93 ETH</td>\n",
              "      <td>-0.8%</td>\n",
              "      <td>NaN</td>\n",
              "      <td>39,300.0 ETH</td>\n",
              "      <td>112.15 ETH</td>\n",
              "      <td>3514.0</td>\n",
              "      <td>0.0%</td>\n",
              "      <td>10000.0</td>\n",
              "    </tr>\n",
              "    <tr>\n",
              "      <th>13</th>\n",
              "      <td>14</td>\n",
              "      <td>Cool Cats</td>\n",
              "      <td>11.0 ETH</td>\n",
              "      <td>-4.6%</td>\n",
              "      <td>NaN</td>\n",
              "      <td>109,263.0 ETH</td>\n",
              "      <td>111.7 ETH</td>\n",
              "      <td>5159.0</td>\n",
              "      <td>0.1%</td>\n",
              "      <td>9933.0</td>\n",
              "    </tr>\n",
              "    <tr>\n",
              "      <th>14</th>\n",
              "      <td>15</td>\n",
              "      <td>CyberKongz</td>\n",
              "      <td>7.4 ETH</td>\n",
              "      <td>10.6%</td>\n",
              "      <td>NaN</td>\n",
              "      <td>37,000.0 ETH</td>\n",
              "      <td>109.38 ETH</td>\n",
              "      <td>2427.0</td>\n",
              "      <td>-0.0%</td>\n",
              "      <td>5000.0</td>\n",
              "    </tr>\n",
              "    <tr>\n",
              "      <th>15</th>\n",
              "      <td>16</td>\n",
              "      <td>Crypto Unicorns</td>\n",
              "      <td>2.0 ETH</td>\n",
              "      <td>-6.2%</td>\n",
              "      <td>NaN</td>\n",
              "      <td>20,000.0 ETH</td>\n",
              "      <td>108.93 ETH</td>\n",
              "      <td>522.0</td>\n",
              "      <td>-3.2%</td>\n",
              "      <td>10000.0</td>\n",
              "    </tr>\n",
              "    <tr>\n",
              "      <th>16</th>\n",
              "      <td>17</td>\n",
              "      <td>Metroverse</td>\n",
              "      <td>0.76 ETH</td>\n",
              "      <td>-7.8%</td>\n",
              "      <td>NaN</td>\n",
              "      <td>7,600.0 ETH</td>\n",
              "      <td>88.66 ETH</td>\n",
              "      <td>650.0</td>\n",
              "      <td>0.3%</td>\n",
              "      <td>10000.0</td>\n",
              "    </tr>\n",
              "    <tr>\n",
              "      <th>17</th>\n",
              "      <td>18</td>\n",
              "      <td>FVCK_CRYSTAL//</td>\n",
              "      <td>2.88 ETH</td>\n",
              "      <td>8.1%</td>\n",
              "      <td>NaN</td>\n",
              "      <td>12,006.72 ETH</td>\n",
              "      <td>76.16 ETH</td>\n",
              "      <td>2071.0</td>\n",
              "      <td>0.2%</td>\n",
              "      <td>4169.0</td>\n",
              "    </tr>\n",
              "    <tr>\n",
              "      <th>18</th>\n",
              "      <td>19</td>\n",
              "      <td>Adam Bomb Squad</td>\n",
              "      <td>0.8 ETH</td>\n",
              "      <td>-2.8%</td>\n",
              "      <td>NaN</td>\n",
              "      <td>19,999.2 ETH</td>\n",
              "      <td>64.34 ETH</td>\n",
              "      <td>8731.0</td>\n",
              "      <td>-0.2%</td>\n",
              "      <td>24999.0</td>\n",
              "    </tr>\n",
              "    <tr>\n",
              "      <th>19</th>\n",
              "      <td>20</td>\n",
              "      <td>Smilesss</td>\n",
              "      <td>1.77 ETH</td>\n",
              "      <td>-8.2%</td>\n",
              "      <td>NaN</td>\n",
              "      <td>15,455.64 ETH</td>\n",
              "      <td>57.22 ETH</td>\n",
              "      <td>4471.0</td>\n",
              "      <td>0.2%</td>\n",
              "      <td>8732.0</td>\n",
              "    </tr>\n",
              "    <tr>\n",
              "      <th>20</th>\n",
              "      <td>21</td>\n",
              "      <td>Crypto Coven</td>\n",
              "      <td>1.95 ETH</td>\n",
              "      <td>-5.3%</td>\n",
              "      <td>NaN</td>\n",
              "      <td>19,026.15 ETH</td>\n",
              "      <td>54.2 ETH</td>\n",
              "      <td>4705.0</td>\n",
              "      <td>0.4%</td>\n",
              "      <td>9757.0</td>\n",
              "    </tr>\n",
              "    <tr>\n",
              "      <th>21</th>\n",
              "      <td>22</td>\n",
              "      <td>JRNY NFT Club</td>\n",
              "      <td>3.7 ETH</td>\n",
              "      <td>-3.4%</td>\n",
              "      <td>NaN</td>\n",
              "      <td>37,000.0 ETH</td>\n",
              "      <td>46.2 ETH</td>\n",
              "      <td>6936.0</td>\n",
              "      <td>-0.2%</td>\n",
              "      <td>10000.0</td>\n",
              "    </tr>\n",
              "    <tr>\n",
              "      <th>22</th>\n",
              "      <td>23</td>\n",
              "      <td>the littles nft</td>\n",
              "      <td>0.58 ETH</td>\n",
              "      <td>3.2%</td>\n",
              "      <td>NaN</td>\n",
              "      <td>5,800.0 ETH</td>\n",
              "      <td>45.83 ETH</td>\n",
              "      <td>5623.0</td>\n",
              "      <td>-0.2%</td>\n",
              "      <td>10000.0</td>\n",
              "    </tr>\n",
              "    <tr>\n",
              "      <th>23</th>\n",
              "      <td>24</td>\n",
              "      <td>inbetweeners</td>\n",
              "      <td>0.618 ETH</td>\n",
              "      <td>-0.4%</td>\n",
              "      <td>NaN</td>\n",
              "      <td>6,660.19 ETH</td>\n",
              "      <td>45.72 ETH</td>\n",
              "      <td>5741.0</td>\n",
              "      <td>-0.1%</td>\n",
              "      <td>10777.0</td>\n",
              "    </tr>\n",
              "    <tr>\n",
              "      <th>24</th>\n",
              "      <td>25</td>\n",
              "      <td>MekaVerse</td>\n",
              "      <td>0.8999999 ETH</td>\n",
              "      <td>6.1%</td>\n",
              "      <td>NaN</td>\n",
              "      <td>7,999.2 ETH</td>\n",
              "      <td>43.14 ETH</td>\n",
              "      <td>5136.0</td>\n",
              "      <td>-0.3%</td>\n",
              "      <td>8888.0</td>\n",
              "    </tr>\n",
              "  </tbody>\n",
              "</table>\n",
              "</div>\n",
              "      <button class=\"colab-df-convert\" onclick=\"convertToInteractive('df-dc329577-934e-4b8e-8f07-072f4a4c5c66')\"\n",
              "              title=\"Convert this dataframe to an interactive table.\"\n",
              "              style=\"display:none;\">\n",
              "        \n",
              "  <svg xmlns=\"http://www.w3.org/2000/svg\" height=\"24px\"viewBox=\"0 0 24 24\"\n",
              "       width=\"24px\">\n",
              "    <path d=\"M0 0h24v24H0V0z\" fill=\"none\"/>\n",
              "    <path d=\"M18.56 5.44l.94 2.06.94-2.06 2.06-.94-2.06-.94-.94-2.06-.94 2.06-2.06.94zm-11 1L8.5 8.5l.94-2.06 2.06-.94-2.06-.94L8.5 2.5l-.94 2.06-2.06.94zm10 10l.94 2.06.94-2.06 2.06-.94-2.06-.94-.94-2.06-.94 2.06-2.06.94z\"/><path d=\"M17.41 7.96l-1.37-1.37c-.4-.4-.92-.59-1.43-.59-.52 0-1.04.2-1.43.59L10.3 9.45l-7.72 7.72c-.78.78-.78 2.05 0 2.83L4 21.41c.39.39.9.59 1.41.59.51 0 1.02-.2 1.41-.59l7.78-7.78 2.81-2.81c.8-.78.8-2.07 0-2.86zM5.41 20L4 18.59l7.72-7.72 1.47 1.35L5.41 20z\"/>\n",
              "  </svg>\n",
              "      </button>\n",
              "      \n",
              "  <style>\n",
              "    .colab-df-container {\n",
              "      display:flex;\n",
              "      flex-wrap:wrap;\n",
              "      gap: 12px;\n",
              "    }\n",
              "\n",
              "    .colab-df-convert {\n",
              "      background-color: #E8F0FE;\n",
              "      border: none;\n",
              "      border-radius: 50%;\n",
              "      cursor: pointer;\n",
              "      display: none;\n",
              "      fill: #1967D2;\n",
              "      height: 32px;\n",
              "      padding: 0 0 0 0;\n",
              "      width: 32px;\n",
              "    }\n",
              "\n",
              "    .colab-df-convert:hover {\n",
              "      background-color: #E2EBFA;\n",
              "      box-shadow: 0px 1px 2px rgba(60, 64, 67, 0.3), 0px 1px 3px 1px rgba(60, 64, 67, 0.15);\n",
              "      fill: #174EA6;\n",
              "    }\n",
              "\n",
              "    [theme=dark] .colab-df-convert {\n",
              "      background-color: #3B4455;\n",
              "      fill: #D2E3FC;\n",
              "    }\n",
              "\n",
              "    [theme=dark] .colab-df-convert:hover {\n",
              "      background-color: #434B5C;\n",
              "      box-shadow: 0px 1px 3px 1px rgba(0, 0, 0, 0.15);\n",
              "      filter: drop-shadow(0px 1px 2px rgba(0, 0, 0, 0.3));\n",
              "      fill: #FFFFFF;\n",
              "    }\n",
              "  </style>\n",
              "\n",
              "      <script>\n",
              "        const buttonEl =\n",
              "          document.querySelector('#df-dc329577-934e-4b8e-8f07-072f4a4c5c66 button.colab-df-convert');\n",
              "        buttonEl.style.display =\n",
              "          google.colab.kernel.accessAllowed ? 'block' : 'none';\n",
              "\n",
              "        async function convertToInteractive(key) {\n",
              "          const element = document.querySelector('#df-dc329577-934e-4b8e-8f07-072f4a4c5c66');\n",
              "          const dataTable =\n",
              "            await google.colab.kernel.invokeFunction('convertToInteractive',\n",
              "                                                     [key], {});\n",
              "          if (!dataTable) return;\n",
              "\n",
              "          const docLinkHtml = 'Like what you see? Visit the ' +\n",
              "            '<a target=\"_blank\" href=https://colab.research.google.com/notebooks/data_table.ipynb>data table notebook</a>'\n",
              "            + ' to learn more about interactive tables.';\n",
              "          element.innerHTML = '';\n",
              "          dataTable['output_type'] = 'display_data';\n",
              "          await google.colab.output.renderOutput(dataTable, element);\n",
              "          const docLink = document.createElement('div');\n",
              "          docLink.innerHTML = docLinkHtml;\n",
              "          element.appendChild(docLink);\n",
              "        }\n",
              "      </script>\n",
              "    </div>\n",
              "  </div>\n",
              "  "
            ],
            "text/plain": [
              "     #                        NFT  ... 24h Owners Total Assets\n",
              "0    1                     CloneX  ...       0.0%      18830.0\n",
              "1    2                  Cool Pets  ...       0.4%      15847.0\n",
              "2    3                      Azuki  ...      -0.1%      10000.0\n",
              "3    4      Mutant Ape Yacht Club  ...       0.1%      17950.0\n",
              "4    5       Bored Ape Yacht Club  ...       0.1%      10000.0\n",
              "5    6                       LAND  ...       0.1%     139817.0\n",
              "6    7                    Doodles  ...       0.1%      10000.0\n",
              "7    8             World of Women  ...       0.1%      10000.0\n",
              "8    9                 VeeFriends  ...       0.1%      10255.0\n",
              "9   10  Decentral Games ICE Poker  ...      -0.5%      14512.0\n",
              "10  11              Capsule House  ...      -0.2%      10000.0\n",
              "11  12              Boss Beauties  ...       0.2%      10000.0\n",
              "12  13                 FLUF World  ...       0.0%      10000.0\n",
              "13  14                  Cool Cats  ...       0.1%       9933.0\n",
              "14  15                 CyberKongz  ...      -0.0%       5000.0\n",
              "15  16            Crypto Unicorns  ...      -3.2%      10000.0\n",
              "16  17                 Metroverse  ...       0.3%      10000.0\n",
              "17  18             FVCK_CRYSTAL//  ...       0.2%       4169.0\n",
              "18  19            Adam Bomb Squad  ...      -0.2%      24999.0\n",
              "19  20                   Smilesss  ...       0.2%       8732.0\n",
              "20  21               Crypto Coven  ...       0.4%       9757.0\n",
              "21  22              JRNY NFT Club  ...      -0.2%      10000.0\n",
              "22  23            the littles nft  ...      -0.2%      10000.0\n",
              "23  24               inbetweeners  ...      -0.1%      10777.0\n",
              "24  25                  MekaVerse  ...      -0.3%       8888.0\n",
              "\n",
              "[25 rows x 10 columns]"
            ]
          },
          "metadata": {},
          "execution_count": 148
        }
      ]
    },
    {
      "cell_type": "markdown",
      "source": [
        "- Como eu quero por volta dos últimos 500 NFTs e cada página da coingecko oferece 25 nfts, preciso acessar até a página 20."
      ],
      "metadata": {
        "id": "vzRgZIMlLqsr"
      }
    },
    {
      "cell_type": "code",
      "source": [
        "dfs = []\n",
        "for i in range (2, 6):\n",
        "  request2 = requests.get(f\"https://www.coingecko.com/en/nft?page={i}\").text\n",
        "  df = pd.read_html(request2)\n",
        "  dfs.append(df)"
      ],
      "metadata": {
        "id": "yluQB6A-Kh6d"
      },
      "execution_count": 149,
      "outputs": []
    },
    {
      "cell_type": "code",
      "source": [
        "dfs"
      ],
      "metadata": {
        "colab": {
          "base_uri": "https://localhost:8080/"
        },
        "id": "RqKCglZQR8hk",
        "outputId": "2885fdc0-062f-40a0-beb7-9f751528a7be"
      },
      "execution_count": 150,
      "outputs": [
        {
          "output_type": "execute_result",
          "data": {
            "text/plain": [
              "[[     #                                   NFT  ... 24h Owners Total Assets\n",
              "  0   26                           CHIBI DINOS  ...       0.6%      10000.0\n",
              "  1   27                           Phanta Bear  ...       0.4%      10000.0\n",
              "  2   28                                  Loot  ...       0.0%       7779.0\n",
              "  3   29                             LilHeroes  ...      -0.4%       7776.0\n",
              "  4   30          Forgotten Runes Wizards Cult  ...       0.1%       9409.0\n",
              "  5   31                            Lazy Lions  ...      -0.1%      10080.0\n",
              "  6   32                           PUNKS Comic  ...       0.2%      23204.0\n",
              "  7   33                              MetaHero  ...       1.7%       6453.0\n",
              "  8   34                        Creature World  ...       0.1%      10000.0\n",
              "  9   35               Revenants by Alethea AI  ...       0.0%        100.0\n",
              "  10  36  Jenkins the Valet: The Writer's Room  ...       0.1%       6942.0\n",
              "  11  37                        The Doge Pound  ...      -0.0%      10000.0\n",
              "  12  38                             CrypToadz  ...      -0.2%       7025.0\n",
              "  13  39                             Hashmasks  ...       0.0%      16370.0\n",
              "  14  40                              BYOPills  ...       0.0%      10000.0\n",
              "  15  41                              IreneDAO  ...       0.0%       1106.0\n",
              "  16  42                         PudgyPenguins  ...       0.0%       8888.0\n",
              "  17  43                            Lost Poets  ...       0.1%      27669.0\n",
              "  18  44                         OnChainMonkey  ...       0.1%       9500.0\n",
              "  19  45                                 merge  ...       0.4%      27134.0\n",
              "  20  46              Sneaky Vampire Syndicate  ...       0.1%       8888.0\n",
              "  21  47                          loomlock NFT  ...      -0.2%       9546.0\n",
              "  22  48                 Neo Tokyo: Identities  ...       0.0%       2021.0\n",
              "  23  49                              BYO Land  ...       0.1%      10056.0\n",
              "  24  50                          The Currency  ...       0.1%       2195.0\n",
              "  \n",
              "  [25 rows x 10 columns]],\n",
              " [     #                               NFT  ... 24h Owners Total Assets\n",
              "  0   51                    X Rabbits Club  ...      -0.0%       7502.0\n",
              "  1   52                    GenesisApostle  ...       0.1%       7212.0\n",
              "  2   53               Global Citizen Club  ...      -0.7%       8888.0\n",
              "  3   54                   Treeverse Plots  ...      -0.0%      10420.0\n",
              "  4   55                     Chain Runners  ...       0.2%      10000.0\n",
              "  5   56             MoonCats - Acclimated  ...       0.0%      18898.0\n",
              "  6   57                             8SIAN  ...       0.4%       8785.0\n",
              "  7   58                         0N1 Force  ...       0.0%       7777.0\n",
              "  8   59                         Anonymice  ...      -1.1%      10000.0\n",
              "  9   60                    Divine Anarchy  ...      -0.0%      10011.0\n",
              "  10  61                          Animetas  ...      -0.2%      10101.0\n",
              "  11  62                      Samurai Saga  ...      -1.0%       9999.0\n",
              "  12  63              iNFT Personality Pod  ...      -0.1%       9811.0\n",
              "  13  64                           Blitmap  ...      -0.2%       1700.0\n",
              "  14  65                          Timeless  ...      -0.6%       9421.0\n",
              "  15  66                       EtherLambos  ...       0.3%       1600.0\n",
              "  16  67                         Fomoverse  ...      -0.2%       1234.0\n",
              "  17  68                        Lil Pudgys  ...      -0.3%      18735.0\n",
              "  18  69                     Ethereals WTF  ...      -0.3%      12345.0\n",
              "  19  70  CryptoHoots Steampunk Parliament  ...       0.0%       2500.0\n",
              "  20  71                  PartyDegenerates  ...      -0.1%      10000.0\n",
              "  21  72                        The Sevens  ...      -0.3%       7000.0\n",
              "  22  73      Citizens of Bulliever Island  ...      -0.0%      10000.0\n",
              "  23  74                       Stoner Cats  ...      -0.1%      10419.0\n",
              "  24  75                    SpacePunksClub  ...      -0.1%       9995.0\n",
              "  \n",
              "  [25 rows x 10 columns]],\n",
              " [      #                          NFT  ... 24h Owners Total Assets\n",
              "  0    76                  Galaxy Eggs  ...      -0.0%       9999.0\n",
              "  1    77  Tom Sachs Rocket Components  ...       0.0%       1866.0\n",
              "  2    78                  SquidDAONFT  ...       0.0%        131.0\n",
              "  3    79               Corruption(s*)  ...       0.1%       4196.0\n",
              "  4    80    Koala Intelligence Agency  ...       0.0%      10000.0\n",
              "  5    81  Curious Addys' Trading Club  ...      -0.0%       5000.0\n",
              "  6    82                 Lee Mullican  ...       0.0%         16.0\n",
              "  7    83                Sipherian Inu  ...       0.0%       9999.0\n",
              "  8    84     Purrnelopes Country Club  ...       0.1%      10000.0\n",
              "  9    85                   dotdotdots  ...       0.1%       4870.0\n",
              "  10   86          Star Sailor Sibings  ...       0.0%      10100.0\n",
              "  11   87           AlphaBetty Doodles  ...       1.2%      10000.0\n",
              "  12   88          The Wicked Craniums  ...       0.1%      10762.0\n",
              "  13   89                      HeadDAO  ...       0.4%      10000.0\n",
              "  14   90                   Chibi Apes  ...       0.0%       3000.0\n",
              "  15   91                      Feudalz  ...       0.0%       4444.0\n",
              "  16   92          The Vogu Collective  ...       0.0%       7777.0\n",
              "  17   93       Wizards & Dragons Game  ...       0.1%      46169.0\n",
              "  18   94                  Satoshibles  ...      -0.3%       5000.0\n",
              "  19   95                 Genesis Mana  ...      -0.3%       7648.0\n",
              "  20   96                   StarryNift  ...       0.0%        142.0\n",
              "  21   97                     Avastars  ...      -0.1%      25453.0\n",
              "  22   98         Ready Player Cat NFT  ...       0.0%       4950.0\n",
              "  23   99                     Metakrew  ...      -0.0%       7335.0\n",
              "  24  100                Apes of Space  ...       0.1%      10000.0\n",
              "  \n",
              "  [25 rows x 10 columns]],\n",
              " [      #                     NFT   Floor Price  ...  Owners  24h Owners Total Assets\n",
              "  0   101          APE DAO REMIX!      0.05 ETH  ...  2615.0       -0.2%       5550.0\n",
              "  1   102        Generative Masks      0.06 ETH  ...  3467.0        0.0%       9999.0\n",
              "  2   103            JunkYardDogs     0.042 ETH  ...  3403.0        0.1%       7976.0\n",
              "  3   104       Angry Apes United     0.035 ETH  ...  4944.0       -0.0%       8888.0\n",
              "  4   105     Baby Battle Bots G1      0.04 ETH  ...  1378.0       -0.1%       3498.0\n",
              "  5   106          HeavenComputer      0.09 ETH  ...  2907.0        0.0%       7777.0\n",
              "  6   107        MOONDOGS ODYSSEY     0.019 ETH  ...  1922.0        0.0%       5000.0\n",
              "  7   108                   Bloot      0.04 ETH  ...  3970.0       -0.2%       8008.0\n",
              "  8   109           CryptoZombiez     0.025 ETH  ...   813.0       -0.6%       5555.0\n",
              "  9   110      CryptoZoo Base Egg     0.144 ETH  ...  1477.0        0.0%       4160.0\n",
              "  10  111         Bored Ape Comic     0.031 ETH  ...  2705.0        0.0%       9999.0\n",
              "  11  112                  Skullx     0.035 ETH  ...  2573.0       -0.1%      10000.0\n",
              "  12  113             MondrianNFT     0.012 ETH  ...  1837.0        0.0%       4096.0\n",
              "  13  114             Dope Shibas      0.02 ETH  ...  3980.0        0.0%       9899.0\n",
              "  14  115           Bored Bananas     0.057 ETH  ...  1837.0        0.0%       4027.0\n",
              "  15  116       Non-Fungible Soup    0.0895 ETH  ...  1100.0        0.1%       2048.0\n",
              "  16  117                Spookies      0.01 ETH  ...  2675.0        0.1%       8888.0\n",
              "  17  118                Template      0.01 ETH  ...  2067.0        0.0%       8992.0\n",
              "  18  119  Extension Loot (xLoot)  0.000001 ETH  ...  2213.0        0.0%       7779.0\n",
              "  19  120      United Punks Union     0.002 ETH  ...  1192.0        0.0%       3624.0\n",
              "  20  121               Ethermore     0.026 ETH  ...  2861.0        0.0%      15000.0\n",
              "  21  122               Gauntlets     0.079 ETH  ...  3847.0        0.0%      10000.0\n",
              "  22  123           Space Poggers    0.0195 ETH  ...  3444.0        0.0%      12442.0\n",
              "  23  124         Spirit Orb Pets      0.05 ETH  ...   370.0        0.0%        777.0\n",
              "  24  125      Dark Super Bunnies   0.01769 ETH  ...  1737.0        0.0%       4409.0\n",
              "  \n",
              "  [25 rows x 10 columns]]]"
            ]
          },
          "metadata": {},
          "execution_count": 150
        }
      ]
    },
    {
      "cell_type": "code",
      "source": [
        "len(dfs)"
      ],
      "metadata": {
        "colab": {
          "base_uri": "https://localhost:8080/"
        },
        "id": "6Jai6uF5R_ad",
        "outputId": "0a949b6a-297a-4a6b-f9b0-5869a2aa67a3"
      },
      "execution_count": 151,
      "outputs": [
        {
          "output_type": "execute_result",
          "data": {
            "text/plain": [
              "4"
            ]
          },
          "metadata": {},
          "execution_count": 151
        }
      ]
    },
    {
      "cell_type": "code",
      "source": [
        "datasets = []\n",
        "for i in range(len(dfs)):\n",
        "  datasets.append(dfs[i][0])"
      ],
      "metadata": {
        "id": "C1vP8GABMUsB"
      },
      "execution_count": 152,
      "outputs": []
    },
    {
      "cell_type": "code",
      "source": [
        "len(datasets)"
      ],
      "metadata": {
        "colab": {
          "base_uri": "https://localhost:8080/"
        },
        "id": "3g2nDxFuR40o",
        "outputId": "7a76019f-4ca6-4248-97fb-561542277870"
      },
      "execution_count": 153,
      "outputs": [
        {
          "output_type": "execute_result",
          "data": {
            "text/plain": [
              "4"
            ]
          },
          "metadata": {},
          "execution_count": 153
        }
      ]
    },
    {
      "cell_type": "code",
      "source": [
        "df_final = pd.concat([df1, datasets[0], datasets[1], datasets[2], datasets[3]], ignore_index=True)"
      ],
      "metadata": {
        "id": "WVO9n2rqNSnR"
      },
      "execution_count": 154,
      "outputs": []
    },
    {
      "cell_type": "code",
      "source": [
        "df_final"
      ],
      "metadata": {
        "colab": {
          "base_uri": "https://localhost:8080/",
          "height": 424
        },
        "id": "omXfHi57RY6K",
        "outputId": "6abcfbad-5773-4bb8-e433-65bc71025581"
      },
      "execution_count": 155,
      "outputs": [
        {
          "output_type": "execute_result",
          "data": {
            "text/html": [
              "\n",
              "  <div id=\"df-840e74b4-41f2-45c1-8643-96d0f8da9291\">\n",
              "    <div class=\"colab-df-container\">\n",
              "      <div>\n",
              "<style scoped>\n",
              "    .dataframe tbody tr th:only-of-type {\n",
              "        vertical-align: middle;\n",
              "    }\n",
              "\n",
              "    .dataframe tbody tr th {\n",
              "        vertical-align: top;\n",
              "    }\n",
              "\n",
              "    .dataframe thead th {\n",
              "        text-align: right;\n",
              "    }\n",
              "</style>\n",
              "<table border=\"1\" class=\"dataframe\">\n",
              "  <thead>\n",
              "    <tr style=\"text-align: right;\">\n",
              "      <th></th>\n",
              "      <th>#</th>\n",
              "      <th>NFT</th>\n",
              "      <th>Floor Price</th>\n",
              "      <th>24h</th>\n",
              "      <th>7d</th>\n",
              "      <th>Market Cap</th>\n",
              "      <th>24h Volume</th>\n",
              "      <th>Owners</th>\n",
              "      <th>24h Owners</th>\n",
              "      <th>Total Assets</th>\n",
              "    </tr>\n",
              "  </thead>\n",
              "  <tbody>\n",
              "    <tr>\n",
              "      <th>0</th>\n",
              "      <td>1</td>\n",
              "      <td>CloneX</td>\n",
              "      <td>13.99 ETH</td>\n",
              "      <td>0.3%</td>\n",
              "      <td>NaN</td>\n",
              "      <td>263,431.7 ETH</td>\n",
              "      <td>1,483.47 ETH</td>\n",
              "      <td>8201.0</td>\n",
              "      <td>0.0%</td>\n",
              "      <td>18830.0</td>\n",
              "    </tr>\n",
              "    <tr>\n",
              "      <th>1</th>\n",
              "      <td>2</td>\n",
              "      <td>Cool Pets</td>\n",
              "      <td>2.73 ETH</td>\n",
              "      <td>20.4%</td>\n",
              "      <td>NaN</td>\n",
              "      <td>43,262.31 ETH</td>\n",
              "      <td>1,371.08 ETH</td>\n",
              "      <td>9639.0</td>\n",
              "      <td>0.4%</td>\n",
              "      <td>15847.0</td>\n",
              "    </tr>\n",
              "    <tr>\n",
              "      <th>2</th>\n",
              "      <td>3</td>\n",
              "      <td>Azuki</td>\n",
              "      <td>9.9 ETH</td>\n",
              "      <td>-10.4%</td>\n",
              "      <td>NaN</td>\n",
              "      <td>99,000.0 ETH</td>\n",
              "      <td>890.01 ETH</td>\n",
              "      <td>5414.0</td>\n",
              "      <td>-0.1%</td>\n",
              "      <td>10000.0</td>\n",
              "    </tr>\n",
              "    <tr>\n",
              "      <th>3</th>\n",
              "      <td>4</td>\n",
              "      <td>Mutant Ape Yacht Club</td>\n",
              "      <td>20.0 ETH</td>\n",
              "      <td>-1.5%</td>\n",
              "      <td>NaN</td>\n",
              "      <td>359,000.0 ETH</td>\n",
              "      <td>855.02 ETH</td>\n",
              "      <td>11696.0</td>\n",
              "      <td>0.1%</td>\n",
              "      <td>17950.0</td>\n",
              "    </tr>\n",
              "    <tr>\n",
              "      <th>4</th>\n",
              "      <td>5</td>\n",
              "      <td>Bored Ape Yacht Club</td>\n",
              "      <td>92.0 ETH</td>\n",
              "      <td>-3.2%</td>\n",
              "      <td>NaN</td>\n",
              "      <td>920,000.0 ETH</td>\n",
              "      <td>852.03 ETH</td>\n",
              "      <td>6316.0</td>\n",
              "      <td>0.1%</td>\n",
              "      <td>10000.0</td>\n",
              "    </tr>\n",
              "    <tr>\n",
              "      <th>...</th>\n",
              "      <td>...</td>\n",
              "      <td>...</td>\n",
              "      <td>...</td>\n",
              "      <td>...</td>\n",
              "      <td>...</td>\n",
              "      <td>...</td>\n",
              "      <td>...</td>\n",
              "      <td>...</td>\n",
              "      <td>...</td>\n",
              "      <td>...</td>\n",
              "    </tr>\n",
              "    <tr>\n",
              "      <th>120</th>\n",
              "      <td>121</td>\n",
              "      <td>Ethermore</td>\n",
              "      <td>0.026 ETH</td>\n",
              "      <td>-7.2%</td>\n",
              "      <td>NaN</td>\n",
              "      <td>390.0 ETH</td>\n",
              "      <td>0.1 ETH</td>\n",
              "      <td>2861.0</td>\n",
              "      <td>0.0%</td>\n",
              "      <td>15000.0</td>\n",
              "    </tr>\n",
              "    <tr>\n",
              "      <th>121</th>\n",
              "      <td>122</td>\n",
              "      <td>Gauntlets</td>\n",
              "      <td>0.079 ETH</td>\n",
              "      <td>-7.4%</td>\n",
              "      <td>NaN</td>\n",
              "      <td>790.0 ETH</td>\n",
              "      <td>0.08 ETH</td>\n",
              "      <td>3847.0</td>\n",
              "      <td>0.0%</td>\n",
              "      <td>10000.0</td>\n",
              "    </tr>\n",
              "    <tr>\n",
              "      <th>122</th>\n",
              "      <td>123</td>\n",
              "      <td>Space Poggers</td>\n",
              "      <td>0.0195 ETH</td>\n",
              "      <td>3.2%</td>\n",
              "      <td>NaN</td>\n",
              "      <td>242.62 ETH</td>\n",
              "      <td>0.07 ETH</td>\n",
              "      <td>3444.0</td>\n",
              "      <td>0.0%</td>\n",
              "      <td>12442.0</td>\n",
              "    </tr>\n",
              "    <tr>\n",
              "      <th>123</th>\n",
              "      <td>124</td>\n",
              "      <td>Spirit Orb Pets</td>\n",
              "      <td>0.05 ETH</td>\n",
              "      <td>3.2%</td>\n",
              "      <td>NaN</td>\n",
              "      <td>38.85 ETH</td>\n",
              "      <td>0.07 ETH</td>\n",
              "      <td>370.0</td>\n",
              "      <td>0.0%</td>\n",
              "      <td>777.0</td>\n",
              "    </tr>\n",
              "    <tr>\n",
              "      <th>124</th>\n",
              "      <td>125</td>\n",
              "      <td>Dark Super Bunnies</td>\n",
              "      <td>0.01769 ETH</td>\n",
              "      <td>17.8%</td>\n",
              "      <td>NaN</td>\n",
              "      <td>78.0 ETH</td>\n",
              "      <td>0.05 ETH</td>\n",
              "      <td>1737.0</td>\n",
              "      <td>0.0%</td>\n",
              "      <td>4409.0</td>\n",
              "    </tr>\n",
              "  </tbody>\n",
              "</table>\n",
              "<p>125 rows × 10 columns</p>\n",
              "</div>\n",
              "      <button class=\"colab-df-convert\" onclick=\"convertToInteractive('df-840e74b4-41f2-45c1-8643-96d0f8da9291')\"\n",
              "              title=\"Convert this dataframe to an interactive table.\"\n",
              "              style=\"display:none;\">\n",
              "        \n",
              "  <svg xmlns=\"http://www.w3.org/2000/svg\" height=\"24px\"viewBox=\"0 0 24 24\"\n",
              "       width=\"24px\">\n",
              "    <path d=\"M0 0h24v24H0V0z\" fill=\"none\"/>\n",
              "    <path d=\"M18.56 5.44l.94 2.06.94-2.06 2.06-.94-2.06-.94-.94-2.06-.94 2.06-2.06.94zm-11 1L8.5 8.5l.94-2.06 2.06-.94-2.06-.94L8.5 2.5l-.94 2.06-2.06.94zm10 10l.94 2.06.94-2.06 2.06-.94-2.06-.94-.94-2.06-.94 2.06-2.06.94z\"/><path d=\"M17.41 7.96l-1.37-1.37c-.4-.4-.92-.59-1.43-.59-.52 0-1.04.2-1.43.59L10.3 9.45l-7.72 7.72c-.78.78-.78 2.05 0 2.83L4 21.41c.39.39.9.59 1.41.59.51 0 1.02-.2 1.41-.59l7.78-7.78 2.81-2.81c.8-.78.8-2.07 0-2.86zM5.41 20L4 18.59l7.72-7.72 1.47 1.35L5.41 20z\"/>\n",
              "  </svg>\n",
              "      </button>\n",
              "      \n",
              "  <style>\n",
              "    .colab-df-container {\n",
              "      display:flex;\n",
              "      flex-wrap:wrap;\n",
              "      gap: 12px;\n",
              "    }\n",
              "\n",
              "    .colab-df-convert {\n",
              "      background-color: #E8F0FE;\n",
              "      border: none;\n",
              "      border-radius: 50%;\n",
              "      cursor: pointer;\n",
              "      display: none;\n",
              "      fill: #1967D2;\n",
              "      height: 32px;\n",
              "      padding: 0 0 0 0;\n",
              "      width: 32px;\n",
              "    }\n",
              "\n",
              "    .colab-df-convert:hover {\n",
              "      background-color: #E2EBFA;\n",
              "      box-shadow: 0px 1px 2px rgba(60, 64, 67, 0.3), 0px 1px 3px 1px rgba(60, 64, 67, 0.15);\n",
              "      fill: #174EA6;\n",
              "    }\n",
              "\n",
              "    [theme=dark] .colab-df-convert {\n",
              "      background-color: #3B4455;\n",
              "      fill: #D2E3FC;\n",
              "    }\n",
              "\n",
              "    [theme=dark] .colab-df-convert:hover {\n",
              "      background-color: #434B5C;\n",
              "      box-shadow: 0px 1px 3px 1px rgba(0, 0, 0, 0.15);\n",
              "      filter: drop-shadow(0px 1px 2px rgba(0, 0, 0, 0.3));\n",
              "      fill: #FFFFFF;\n",
              "    }\n",
              "  </style>\n",
              "\n",
              "      <script>\n",
              "        const buttonEl =\n",
              "          document.querySelector('#df-840e74b4-41f2-45c1-8643-96d0f8da9291 button.colab-df-convert');\n",
              "        buttonEl.style.display =\n",
              "          google.colab.kernel.accessAllowed ? 'block' : 'none';\n",
              "\n",
              "        async function convertToInteractive(key) {\n",
              "          const element = document.querySelector('#df-840e74b4-41f2-45c1-8643-96d0f8da9291');\n",
              "          const dataTable =\n",
              "            await google.colab.kernel.invokeFunction('convertToInteractive',\n",
              "                                                     [key], {});\n",
              "          if (!dataTable) return;\n",
              "\n",
              "          const docLinkHtml = 'Like what you see? Visit the ' +\n",
              "            '<a target=\"_blank\" href=https://colab.research.google.com/notebooks/data_table.ipynb>data table notebook</a>'\n",
              "            + ' to learn more about interactive tables.';\n",
              "          element.innerHTML = '';\n",
              "          dataTable['output_type'] = 'display_data';\n",
              "          await google.colab.output.renderOutput(dataTable, element);\n",
              "          const docLink = document.createElement('div');\n",
              "          docLink.innerHTML = docLinkHtml;\n",
              "          element.appendChild(docLink);\n",
              "        }\n",
              "      </script>\n",
              "    </div>\n",
              "  </div>\n",
              "  "
            ],
            "text/plain": [
              "       #                    NFT  Floor Price  ...   Owners  24h Owners Total Assets\n",
              "0      1                 CloneX    13.99 ETH  ...   8201.0        0.0%      18830.0\n",
              "1      2              Cool Pets     2.73 ETH  ...   9639.0        0.4%      15847.0\n",
              "2      3                  Azuki      9.9 ETH  ...   5414.0       -0.1%      10000.0\n",
              "3      4  Mutant Ape Yacht Club     20.0 ETH  ...  11696.0        0.1%      17950.0\n",
              "4      5   Bored Ape Yacht Club     92.0 ETH  ...   6316.0        0.1%      10000.0\n",
              "..   ...                    ...          ...  ...      ...         ...          ...\n",
              "120  121              Ethermore    0.026 ETH  ...   2861.0        0.0%      15000.0\n",
              "121  122              Gauntlets    0.079 ETH  ...   3847.0        0.0%      10000.0\n",
              "122  123          Space Poggers   0.0195 ETH  ...   3444.0        0.0%      12442.0\n",
              "123  124        Spirit Orb Pets     0.05 ETH  ...    370.0        0.0%        777.0\n",
              "124  125     Dark Super Bunnies  0.01769 ETH  ...   1737.0        0.0%       4409.0\n",
              "\n",
              "[125 rows x 10 columns]"
            ]
          },
          "metadata": {},
          "execution_count": 155
        }
      ]
    },
    {
      "cell_type": "markdown",
      "source": [
        "###Floor Price:"
      ],
      "metadata": {
        "id": "YjoXVEOdfN-I"
      }
    },
    {
      "cell_type": "code",
      "source": [
        "prices = []\n",
        "for price in df_final['Floor Price']:\n",
        "  price = price.split()\n",
        "  if price[0] == 'ETH':\n",
        "    price[0] = 0\n",
        "    price.append('ETH')\n",
        "  \n",
        "  prices.append(price[0])"
      ],
      "metadata": {
        "id": "BQrX_LsGf6bo"
      },
      "execution_count": 156,
      "outputs": []
    },
    {
      "cell_type": "code",
      "source": [
        "df_final['Floor Price'] = prices"
      ],
      "metadata": {
        "id": "55ULsGhpftl1"
      },
      "execution_count": 157,
      "outputs": []
    },
    {
      "cell_type": "code",
      "source": [
        "df_final['Floor Price'] = df_final['Floor Price'].astype(float)"
      ],
      "metadata": {
        "id": "HfzET68qftop"
      },
      "execution_count": 158,
      "outputs": []
    },
    {
      "cell_type": "markdown",
      "source": [
        "###Market Cap:"
      ],
      "metadata": {
        "id": "9GhRQOwDjpIp"
      }
    },
    {
      "cell_type": "code",
      "source": [
        "df_final['Market Cap']"
      ],
      "metadata": {
        "colab": {
          "base_uri": "https://localhost:8080/"
        },
        "id": "_Oq0-qigjus4",
        "outputId": "863f84b0-d71c-4708-fa59-bcbd984d1f20"
      },
      "execution_count": 159,
      "outputs": [
        {
          "output_type": "execute_result",
          "data": {
            "text/plain": [
              "0      263,431.7 ETH\n",
              "1      43,262.31 ETH\n",
              "2       99,000.0 ETH\n",
              "3      359,000.0 ETH\n",
              "4      920,000.0 ETH\n",
              "           ...      \n",
              "120        390.0 ETH\n",
              "121        790.0 ETH\n",
              "122       242.62 ETH\n",
              "123        38.85 ETH\n",
              "124         78.0 ETH\n",
              "Name: Market Cap, Length: 125, dtype: object"
            ]
          },
          "metadata": {},
          "execution_count": 159
        }
      ]
    },
    {
      "cell_type": "code",
      "source": [
        "market_caps = []\n",
        "for market_cap in df_final['Market Cap']:\n",
        "  market_cap = market_cap.split()\n",
        "  market_caps.append(market_cap[0])"
      ],
      "metadata": {
        "id": "oFaEtQWIjvAv"
      },
      "execution_count": 160,
      "outputs": []
    },
    {
      "cell_type": "code",
      "source": [
        "for i in market_caps:\n",
        "  if type(i) != type('str'):\n",
        "    print('Não tem dados com tipo string')"
      ],
      "metadata": {
        "id": "XKJT8jwLjvDF"
      },
      "execution_count": 161,
      "outputs": []
    },
    {
      "cell_type": "code",
      "source": [
        "market_caps_final = []\n",
        "for mks in market_caps:\n",
        "  mks = mks.split(',')\n",
        "  if len(mks) > 1:\n",
        "    mks = mks[0] + '' + mks[1]\n",
        "    market_caps_final.append(mks)\n",
        "  else:\n",
        "    market_caps_final.append(mks[0])\n"
      ],
      "metadata": {
        "id": "86C46eLklEmg"
      },
      "execution_count": 162,
      "outputs": []
    },
    {
      "cell_type": "code",
      "source": [
        "df_final['Market Cap'] = market_caps_final"
      ],
      "metadata": {
        "id": "UzeW_6qmkpkD"
      },
      "execution_count": 163,
      "outputs": []
    },
    {
      "cell_type": "code",
      "source": [
        "market_caps_final = df_final['Market Cap'].astype(float)"
      ],
      "metadata": {
        "id": "Kh5QR4IZkyHW"
      },
      "execution_count": 164,
      "outputs": []
    },
    {
      "cell_type": "markdown",
      "source": [
        "###24h Volume:"
      ],
      "metadata": {
        "id": "g_qwfMLxnfGS"
      }
    },
    {
      "cell_type": "code",
      "source": [
        "df_final['24h Volume']"
      ],
      "metadata": {
        "colab": {
          "base_uri": "https://localhost:8080/"
        },
        "id": "bhTJ_s1Vnqjs",
        "outputId": "72250182-603e-485d-bed4-af99a2edf923"
      },
      "execution_count": 165,
      "outputs": [
        {
          "output_type": "execute_result",
          "data": {
            "text/plain": [
              "0      1,483.47 ETH\n",
              "1      1,371.08 ETH\n",
              "2        890.01 ETH\n",
              "3        855.02 ETH\n",
              "4        852.03 ETH\n",
              "           ...     \n",
              "120         0.1 ETH\n",
              "121        0.08 ETH\n",
              "122        0.07 ETH\n",
              "123        0.07 ETH\n",
              "124        0.05 ETH\n",
              "Name: 24h Volume, Length: 125, dtype: object"
            ]
          },
          "metadata": {},
          "execution_count": 165
        }
      ]
    },
    {
      "cell_type": "code",
      "source": [
        "daily_volumes  = []\n",
        "for daily_volume in df_final['24h Volume']:\n",
        "  if ',' in daily_volume:\n",
        "    daily_volume = daily_volume.split(',')\n",
        "    daily_volume = daily_volume[0] + '' + daily_volume[1]\n",
        "    daily_volume = daily_volume.split()\n",
        "    daily_volumes.append(daily_volume[0])\n",
        "  else:  \n",
        "    daily_volume = daily_volume.split()\n",
        "    daily_volume = daily_volume[0]\n",
        "    daily_volumes.append(daily_volume)\n"
      ],
      "metadata": {
        "id": "_2Boa-oXnqm5"
      },
      "execution_count": 166,
      "outputs": []
    },
    {
      "cell_type": "code",
      "source": [
        "daily_volumes\n",
        "    "
      ],
      "metadata": {
        "colab": {
          "base_uri": "https://localhost:8080/"
        },
        "id": "8fmKgFsInqqv",
        "outputId": "b560585d-794e-4069-bef3-1bc61ca13fe9"
      },
      "execution_count": 167,
      "outputs": [
        {
          "output_type": "execute_result",
          "data": {
            "text/plain": [
              "['1483.47',\n",
              " '1371.08',\n",
              " '890.01',\n",
              " '855.02',\n",
              " '852.03',\n",
              " '356.76',\n",
              " '244.87',\n",
              " '207.02',\n",
              " '163.08',\n",
              " '135.54',\n",
              " '135.09',\n",
              " '124.04',\n",
              " '112.15',\n",
              " '111.7',\n",
              " '109.38',\n",
              " '108.93',\n",
              " '88.66',\n",
              " '76.16',\n",
              " '64.34',\n",
              " '57.22',\n",
              " '54.2',\n",
              " '46.2',\n",
              " '45.83',\n",
              " '45.72',\n",
              " '43.14',\n",
              " '42.81',\n",
              " '42.68',\n",
              " '35.37',\n",
              " '34.38',\n",
              " '34.19',\n",
              " '32.9',\n",
              " '31.7',\n",
              " '30.15',\n",
              " '30.09',\n",
              " '30.0',\n",
              " '28.77',\n",
              " '27.82',\n",
              " '27.63',\n",
              " '25.63',\n",
              " '22.86',\n",
              " '19.62',\n",
              " '18.67',\n",
              " '18.37',\n",
              " '18.15',\n",
              " '17.64',\n",
              " '16.85',\n",
              " '16.85',\n",
              " '16.5',\n",
              " '16.46',\n",
              " '15.9',\n",
              " '14.66',\n",
              " '13.63',\n",
              " '13.17',\n",
              " '13.05',\n",
              " '12.84',\n",
              " '12.73',\n",
              " '12.44',\n",
              " '11.6',\n",
              " '11.13',\n",
              " '11.09',\n",
              " '5.23',\n",
              " '5.13',\n",
              " '4.91',\n",
              " '4.9',\n",
              " '4.76',\n",
              " '3.73',\n",
              " '3.6',\n",
              " '3.34',\n",
              " '3.31',\n",
              " '3.28',\n",
              " '3.13',\n",
              " '2.9',\n",
              " '2.86',\n",
              " '2.83',\n",
              " '2.7',\n",
              " '2.53',\n",
              " '2.5',\n",
              " '2.5',\n",
              " '2.49',\n",
              " '2.28',\n",
              " '2.06',\n",
              " '2.0',\n",
              " '2.0',\n",
              " '1.7',\n",
              " '1.68',\n",
              " '1.53',\n",
              " '1.38',\n",
              " '1.32',\n",
              " '1.26',\n",
              " '1.09',\n",
              " '1.08',\n",
              " '0.98',\n",
              " '0.97',\n",
              " '0.92',\n",
              " '0.81',\n",
              " '0.51',\n",
              " '0.48',\n",
              " '0.48',\n",
              " '0.43',\n",
              " '0.39',\n",
              " '0.34',\n",
              " '0.33',\n",
              " '0.32',\n",
              " '0.31',\n",
              " '0.29',\n",
              " '0.27',\n",
              " '0.27',\n",
              " '0.26',\n",
              " '0.25',\n",
              " '0.25',\n",
              " '0.24',\n",
              " '0.24',\n",
              " '0.23',\n",
              " '0.21',\n",
              " '0.16',\n",
              " '0.16',\n",
              " '0.14',\n",
              " '0.12',\n",
              " '0.11',\n",
              " '0.1',\n",
              " '0.1',\n",
              " '0.08',\n",
              " '0.07',\n",
              " '0.07',\n",
              " '0.05']"
            ]
          },
          "metadata": {},
          "execution_count": 167
        }
      ]
    },
    {
      "cell_type": "code",
      "source": [
        "df_final['24h Volume'] = daily_volumes"
      ],
      "metadata": {
        "id": "lVM5xe1YpoE8"
      },
      "execution_count": 168,
      "outputs": []
    },
    {
      "cell_type": "code",
      "source": [
        "df_final['24h Volume'].astype(float)"
      ],
      "metadata": {
        "colab": {
          "base_uri": "https://localhost:8080/"
        },
        "id": "wGFEst4BsfPP",
        "outputId": "a24e1bab-cc47-4ca2-8441-a533f91b97b8"
      },
      "execution_count": 169,
      "outputs": [
        {
          "output_type": "execute_result",
          "data": {
            "text/plain": [
              "0      1483.47\n",
              "1      1371.08\n",
              "2       890.01\n",
              "3       855.02\n",
              "4       852.03\n",
              "        ...   \n",
              "120       0.10\n",
              "121       0.08\n",
              "122       0.07\n",
              "123       0.07\n",
              "124       0.05\n",
              "Name: 24h Volume, Length: 125, dtype: float64"
            ]
          },
          "metadata": {},
          "execution_count": 169
        }
      ]
    },
    {
      "cell_type": "markdown",
      "source": [
        "###24h Owners:"
      ],
      "metadata": {
        "id": "xW7wRJPpstCt"
      }
    },
    {
      "cell_type": "code",
      "source": [
        "df_final['24h Owners']"
      ],
      "metadata": {
        "colab": {
          "base_uri": "https://localhost:8080/"
        },
        "id": "JaekVl2Esvpr",
        "outputId": "1edaf2f1-f701-4a7c-be4a-9a810d66257d"
      },
      "execution_count": 170,
      "outputs": [
        {
          "output_type": "execute_result",
          "data": {
            "text/plain": [
              "0       0.0%\n",
              "1       0.4%\n",
              "2      -0.1%\n",
              "3       0.1%\n",
              "4       0.1%\n",
              "       ...  \n",
              "120     0.0%\n",
              "121     0.0%\n",
              "122     0.0%\n",
              "123     0.0%\n",
              "124     0.0%\n",
              "Name: 24h Owners, Length: 125, dtype: object"
            ]
          },
          "metadata": {},
          "execution_count": 170
        }
      ]
    },
    {
      "cell_type": "code",
      "source": [
        "daily_owners = []\n",
        "for d_owner in df_final['24h Owners']:\n",
        "  d_owner = d_owner.split('%')\n",
        "  daily_owners.append(d_owner[0])"
      ],
      "metadata": {
        "id": "Cu9TppYysvz3"
      },
      "execution_count": 171,
      "outputs": []
    },
    {
      "cell_type": "code",
      "source": [
        "df_final['24h Owners'] = daily_owners"
      ],
      "metadata": {
        "id": "bTSulz1XtNpB"
      },
      "execution_count": 172,
      "outputs": []
    },
    {
      "cell_type": "code",
      "source": [
        "df_final['24h Owners'].astype(float)"
      ],
      "metadata": {
        "colab": {
          "base_uri": "https://localhost:8080/"
        },
        "id": "vd_cLZi2sv8w",
        "outputId": "240357c0-0beb-4878-a3a3-68351e36c367"
      },
      "execution_count": 173,
      "outputs": [
        {
          "output_type": "execute_result",
          "data": {
            "text/plain": [
              "0      0.0\n",
              "1      0.4\n",
              "2     -0.1\n",
              "3      0.1\n",
              "4      0.1\n",
              "      ... \n",
              "120    0.0\n",
              "121    0.0\n",
              "122    0.0\n",
              "123    0.0\n",
              "124    0.0\n",
              "Name: 24h Owners, Length: 125, dtype: float64"
            ]
          },
          "metadata": {},
          "execution_count": 173
        }
      ]
    },
    {
      "cell_type": "markdown",
      "source": [
        "#2ºParte: Limpeza dos dados"
      ],
      "metadata": {
        "id": "Jl2hE-TUybQJ"
      }
    },
    {
      "cell_type": "code",
      "source": [
        "df_final.isnull().sum()"
      ],
      "metadata": {
        "id": "29urF9sSSPMj",
        "colab": {
          "base_uri": "https://localhost:8080/"
        },
        "outputId": "f045c42b-5bb7-46b7-9b44-75f3b4c4c56b"
      },
      "execution_count": 174,
      "outputs": [
        {
          "output_type": "execute_result",
          "data": {
            "text/plain": [
              "#                 0\n",
              "NFT               0\n",
              "Floor Price       0\n",
              "24h               0\n",
              "7d              125\n",
              "Market Cap        0\n",
              "24h Volume        0\n",
              "Owners            0\n",
              "24h Owners        0\n",
              "Total Assets      0\n",
              "dtype: int64"
            ]
          },
          "metadata": {},
          "execution_count": 174
        }
      ]
    },
    {
      "cell_type": "code",
      "source": [
        "df_final.drop(columns=[\"7d\", \"#\"], inplace=True)"
      ],
      "metadata": {
        "id": "fsZoVQ_Nysbo"
      },
      "execution_count": 175,
      "outputs": []
    },
    {
      "cell_type": "code",
      "source": [
        "df_final.duplicated().sum()"
      ],
      "metadata": {
        "id": "nW7zTundyzGL",
        "colab": {
          "base_uri": "https://localhost:8080/"
        },
        "outputId": "e1d3ce1d-1901-438b-86c5-7528782036f2"
      },
      "execution_count": 176,
      "outputs": [
        {
          "output_type": "execute_result",
          "data": {
            "text/plain": [
              "0"
            ]
          },
          "metadata": {},
          "execution_count": 176
        }
      ]
    },
    {
      "cell_type": "code",
      "source": [
        "df = df_final"
      ],
      "metadata": {
        "id": "8xV1jvctdg2z"
      },
      "execution_count": 177,
      "outputs": []
    },
    {
      "cell_type": "markdown",
      "source": [
        "#Salvando em CSV:"
      ],
      "metadata": {
        "id": "mzaRze_yt0jw"
      }
    },
    {
      "cell_type": "code",
      "source": [
        "df.to_csv(r'/content/df_final.csv', index=False, header=True)"
      ],
      "metadata": {
        "id": "Qmfk_rEdt0B7"
      },
      "execution_count": 178,
      "outputs": []
    },
    {
      "cell_type": "code",
      "source": [
        "df_test = pd.read_csv(\"df_final.csv\")"
      ],
      "metadata": {
        "id": "Zbcx9Iiqt-b8"
      },
      "execution_count": 179,
      "outputs": []
    },
    {
      "cell_type": "code",
      "source": [
        "df_test.head()"
      ],
      "metadata": {
        "colab": {
          "base_uri": "https://localhost:8080/",
          "height": 206
        },
        "id": "4T7CXXhUuCFz",
        "outputId": "363bba55-4f4c-4a26-bc31-7cd21e787b7d"
      },
      "execution_count": 181,
      "outputs": [
        {
          "output_type": "execute_result",
          "data": {
            "text/html": [
              "\n",
              "  <div id=\"df-aea5ef0d-70d8-4b57-9aff-f754fe96df86\">\n",
              "    <div class=\"colab-df-container\">\n",
              "      <div>\n",
              "<style scoped>\n",
              "    .dataframe tbody tr th:only-of-type {\n",
              "        vertical-align: middle;\n",
              "    }\n",
              "\n",
              "    .dataframe tbody tr th {\n",
              "        vertical-align: top;\n",
              "    }\n",
              "\n",
              "    .dataframe thead th {\n",
              "        text-align: right;\n",
              "    }\n",
              "</style>\n",
              "<table border=\"1\" class=\"dataframe\">\n",
              "  <thead>\n",
              "    <tr style=\"text-align: right;\">\n",
              "      <th></th>\n",
              "      <th>NFT</th>\n",
              "      <th>Floor Price</th>\n",
              "      <th>24h</th>\n",
              "      <th>Market Cap</th>\n",
              "      <th>24h Volume</th>\n",
              "      <th>Owners</th>\n",
              "      <th>24h Owners</th>\n",
              "      <th>Total Assets</th>\n",
              "    </tr>\n",
              "  </thead>\n",
              "  <tbody>\n",
              "    <tr>\n",
              "      <th>0</th>\n",
              "      <td>CloneX</td>\n",
              "      <td>13.99</td>\n",
              "      <td>0.3%</td>\n",
              "      <td>263431.70</td>\n",
              "      <td>1483.47</td>\n",
              "      <td>8201.0</td>\n",
              "      <td>0.0</td>\n",
              "      <td>18830.0</td>\n",
              "    </tr>\n",
              "    <tr>\n",
              "      <th>1</th>\n",
              "      <td>Cool Pets</td>\n",
              "      <td>2.73</td>\n",
              "      <td>20.4%</td>\n",
              "      <td>43262.31</td>\n",
              "      <td>1371.08</td>\n",
              "      <td>9639.0</td>\n",
              "      <td>0.4</td>\n",
              "      <td>15847.0</td>\n",
              "    </tr>\n",
              "    <tr>\n",
              "      <th>2</th>\n",
              "      <td>Azuki</td>\n",
              "      <td>9.90</td>\n",
              "      <td>-10.4%</td>\n",
              "      <td>99000.00</td>\n",
              "      <td>890.01</td>\n",
              "      <td>5414.0</td>\n",
              "      <td>-0.1</td>\n",
              "      <td>10000.0</td>\n",
              "    </tr>\n",
              "    <tr>\n",
              "      <th>3</th>\n",
              "      <td>Mutant Ape Yacht Club</td>\n",
              "      <td>20.00</td>\n",
              "      <td>-1.5%</td>\n",
              "      <td>359000.00</td>\n",
              "      <td>855.02</td>\n",
              "      <td>11696.0</td>\n",
              "      <td>0.1</td>\n",
              "      <td>17950.0</td>\n",
              "    </tr>\n",
              "    <tr>\n",
              "      <th>4</th>\n",
              "      <td>Bored Ape Yacht Club</td>\n",
              "      <td>92.00</td>\n",
              "      <td>-3.2%</td>\n",
              "      <td>920000.00</td>\n",
              "      <td>852.03</td>\n",
              "      <td>6316.0</td>\n",
              "      <td>0.1</td>\n",
              "      <td>10000.0</td>\n",
              "    </tr>\n",
              "  </tbody>\n",
              "</table>\n",
              "</div>\n",
              "      <button class=\"colab-df-convert\" onclick=\"convertToInteractive('df-aea5ef0d-70d8-4b57-9aff-f754fe96df86')\"\n",
              "              title=\"Convert this dataframe to an interactive table.\"\n",
              "              style=\"display:none;\">\n",
              "        \n",
              "  <svg xmlns=\"http://www.w3.org/2000/svg\" height=\"24px\"viewBox=\"0 0 24 24\"\n",
              "       width=\"24px\">\n",
              "    <path d=\"M0 0h24v24H0V0z\" fill=\"none\"/>\n",
              "    <path d=\"M18.56 5.44l.94 2.06.94-2.06 2.06-.94-2.06-.94-.94-2.06-.94 2.06-2.06.94zm-11 1L8.5 8.5l.94-2.06 2.06-.94-2.06-.94L8.5 2.5l-.94 2.06-2.06.94zm10 10l.94 2.06.94-2.06 2.06-.94-2.06-.94-.94-2.06-.94 2.06-2.06.94z\"/><path d=\"M17.41 7.96l-1.37-1.37c-.4-.4-.92-.59-1.43-.59-.52 0-1.04.2-1.43.59L10.3 9.45l-7.72 7.72c-.78.78-.78 2.05 0 2.83L4 21.41c.39.39.9.59 1.41.59.51 0 1.02-.2 1.41-.59l7.78-7.78 2.81-2.81c.8-.78.8-2.07 0-2.86zM5.41 20L4 18.59l7.72-7.72 1.47 1.35L5.41 20z\"/>\n",
              "  </svg>\n",
              "      </button>\n",
              "      \n",
              "  <style>\n",
              "    .colab-df-container {\n",
              "      display:flex;\n",
              "      flex-wrap:wrap;\n",
              "      gap: 12px;\n",
              "    }\n",
              "\n",
              "    .colab-df-convert {\n",
              "      background-color: #E8F0FE;\n",
              "      border: none;\n",
              "      border-radius: 50%;\n",
              "      cursor: pointer;\n",
              "      display: none;\n",
              "      fill: #1967D2;\n",
              "      height: 32px;\n",
              "      padding: 0 0 0 0;\n",
              "      width: 32px;\n",
              "    }\n",
              "\n",
              "    .colab-df-convert:hover {\n",
              "      background-color: #E2EBFA;\n",
              "      box-shadow: 0px 1px 2px rgba(60, 64, 67, 0.3), 0px 1px 3px 1px rgba(60, 64, 67, 0.15);\n",
              "      fill: #174EA6;\n",
              "    }\n",
              "\n",
              "    [theme=dark] .colab-df-convert {\n",
              "      background-color: #3B4455;\n",
              "      fill: #D2E3FC;\n",
              "    }\n",
              "\n",
              "    [theme=dark] .colab-df-convert:hover {\n",
              "      background-color: #434B5C;\n",
              "      box-shadow: 0px 1px 3px 1px rgba(0, 0, 0, 0.15);\n",
              "      filter: drop-shadow(0px 1px 2px rgba(0, 0, 0, 0.3));\n",
              "      fill: #FFFFFF;\n",
              "    }\n",
              "  </style>\n",
              "\n",
              "      <script>\n",
              "        const buttonEl =\n",
              "          document.querySelector('#df-aea5ef0d-70d8-4b57-9aff-f754fe96df86 button.colab-df-convert');\n",
              "        buttonEl.style.display =\n",
              "          google.colab.kernel.accessAllowed ? 'block' : 'none';\n",
              "\n",
              "        async function convertToInteractive(key) {\n",
              "          const element = document.querySelector('#df-aea5ef0d-70d8-4b57-9aff-f754fe96df86');\n",
              "          const dataTable =\n",
              "            await google.colab.kernel.invokeFunction('convertToInteractive',\n",
              "                                                     [key], {});\n",
              "          if (!dataTable) return;\n",
              "\n",
              "          const docLinkHtml = 'Like what you see? Visit the ' +\n",
              "            '<a target=\"_blank\" href=https://colab.research.google.com/notebooks/data_table.ipynb>data table notebook</a>'\n",
              "            + ' to learn more about interactive tables.';\n",
              "          element.innerHTML = '';\n",
              "          dataTable['output_type'] = 'display_data';\n",
              "          await google.colab.output.renderOutput(dataTable, element);\n",
              "          const docLink = document.createElement('div');\n",
              "          docLink.innerHTML = docLinkHtml;\n",
              "          element.appendChild(docLink);\n",
              "        }\n",
              "      </script>\n",
              "    </div>\n",
              "  </div>\n",
              "  "
            ],
            "text/plain": [
              "                     NFT  Floor Price  ... 24h Owners  Total Assets\n",
              "0                 CloneX        13.99  ...        0.0       18830.0\n",
              "1              Cool Pets         2.73  ...        0.4       15847.0\n",
              "2                  Azuki         9.90  ...       -0.1       10000.0\n",
              "3  Mutant Ape Yacht Club        20.00  ...        0.1       17950.0\n",
              "4   Bored Ape Yacht Club        92.00  ...        0.1       10000.0\n",
              "\n",
              "[5 rows x 8 columns]"
            ]
          },
          "metadata": {},
          "execution_count": 181
        }
      ]
    },
    {
      "cell_type": "code",
      "source": [
        ""
      ],
      "metadata": {
        "id": "7V8itbdVuD_X"
      },
      "execution_count": null,
      "outputs": []
    }
  ]
}