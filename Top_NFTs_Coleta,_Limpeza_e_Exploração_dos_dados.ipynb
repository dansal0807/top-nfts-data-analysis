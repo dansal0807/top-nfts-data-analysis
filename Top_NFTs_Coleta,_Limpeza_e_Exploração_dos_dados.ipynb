{
  "nbformat": 4,
  "nbformat_minor": 0,
  "metadata": {
    "colab": {
      "name": "Top-NFTs - Coleta, Limpeza e Exploração dos dados.ipynb",
      "provenance": []
    },
    "kernelspec": {
      "name": "python3",
      "display_name": "Python 3"
    },
    "language_info": {
      "name": "python"
    }
  },
  "cells": [
    {
      "cell_type": "markdown",
      "source": [
        "#Importando as Bibliotecas:"
      ],
      "metadata": {
        "id": "5vh35CtnLfxH"
      }
    },
    {
      "cell_type": "code",
      "execution_count": 114,
      "metadata": {
        "id": "c2oc3bhRmRk6"
      },
      "outputs": [],
      "source": [
        "import pandas as pd\n",
        "import requests\n",
        "from bs4 import BeautifulSoup as bs\n",
        "\n",
        "import matplotlib.pyplot as plt\n",
        "import seaborn as sns"
      ]
    },
    {
      "cell_type": "markdown",
      "source": [
        "#1ºParte: Coleta de dados e preparação do dataframe:"
      ],
      "metadata": {
        "id": "L_vb_pu0Ljvi"
      }
    },
    {
      "cell_type": "markdown",
      "source": [
        "Interessante notar que cada vez que os comandos abaixo são postos para funcionar, os preços e volumes são constantemente atualizados. Isso gera uma dificuldade, mas também gera uma análise mais precisa que deve considerar a mudança dos preços."
      ],
      "metadata": {
        "id": "qj3GAGeQzAii"
      }
    },
    {
      "cell_type": "code",
      "source": [
        "request = requests.get(\"https://www.coingecko.com/en/nft\").text"
      ],
      "metadata": {
        "id": "XudfWz_ooGHC"
      },
      "execution_count": 115,
      "outputs": []
    },
    {
      "cell_type": "code",
      "source": [
        "df = pd.read_html(request)"
      ],
      "metadata": {
        "id": "2D2QdNWIomlc"
      },
      "execution_count": 116,
      "outputs": []
    },
    {
      "cell_type": "code",
      "source": [
        "df1 = df[0]"
      ],
      "metadata": {
        "id": "iFGHeVHAondA"
      },
      "execution_count": 117,
      "outputs": []
    },
    {
      "cell_type": "code",
      "source": [
        "df1"
      ],
      "metadata": {
        "colab": {
          "base_uri": "https://localhost:8080/",
          "height": 877
        },
        "id": "_z_WbZ5BSIfX",
        "outputId": "46b713cc-39ee-48ec-8080-01b1e3bf99bd"
      },
      "execution_count": 118,
      "outputs": [
        {
          "output_type": "execute_result",
          "data": {
            "text/html": [
              "\n",
              "  <div id=\"df-108c888e-455e-4390-a152-04a82470b0a8\">\n",
              "    <div class=\"colab-df-container\">\n",
              "      <div>\n",
              "<style scoped>\n",
              "    .dataframe tbody tr th:only-of-type {\n",
              "        vertical-align: middle;\n",
              "    }\n",
              "\n",
              "    .dataframe tbody tr th {\n",
              "        vertical-align: top;\n",
              "    }\n",
              "\n",
              "    .dataframe thead th {\n",
              "        text-align: right;\n",
              "    }\n",
              "</style>\n",
              "<table border=\"1\" class=\"dataframe\">\n",
              "  <thead>\n",
              "    <tr style=\"text-align: right;\">\n",
              "      <th></th>\n",
              "      <th>#</th>\n",
              "      <th>NFT</th>\n",
              "      <th>Floor Price</th>\n",
              "      <th>24h</th>\n",
              "      <th>7d</th>\n",
              "      <th>Market Cap</th>\n",
              "      <th>24h Volume</th>\n",
              "      <th>Owners</th>\n",
              "      <th>24h Owners</th>\n",
              "      <th>Total Assets</th>\n",
              "    </tr>\n",
              "  </thead>\n",
              "  <tbody>\n",
              "    <tr>\n",
              "      <th>0</th>\n",
              "      <td>1</td>\n",
              "      <td>dotdotdots</td>\n",
              "      <td>0.198 ETH</td>\n",
              "      <td>27.6%</td>\n",
              "      <td>NaN</td>\n",
              "      <td>964.26 ETH</td>\n",
              "      <td>6,349.59 ETH</td>\n",
              "      <td>2647.0</td>\n",
              "      <td>0.1%</td>\n",
              "      <td>4870.0</td>\n",
              "    </tr>\n",
              "    <tr>\n",
              "      <th>1</th>\n",
              "      <td>2</td>\n",
              "      <td>Azuki</td>\n",
              "      <td>11.05 ETH</td>\n",
              "      <td>14.1%</td>\n",
              "      <td>NaN</td>\n",
              "      <td>110,488.95 ETH</td>\n",
              "      <td>1,404.14 ETH</td>\n",
              "      <td>5404.0</td>\n",
              "      <td>-0.2%</td>\n",
              "      <td>9999.0</td>\n",
              "    </tr>\n",
              "    <tr>\n",
              "      <th>2</th>\n",
              "      <td>3</td>\n",
              "      <td>LAND</td>\n",
              "      <td>3.698 ETH</td>\n",
              "      <td>3.1%</td>\n",
              "      <td>NaN</td>\n",
              "      <td>520,996.43 ETH</td>\n",
              "      <td>1,373.18 ETH</td>\n",
              "      <td>19620.0</td>\n",
              "      <td>2.0%</td>\n",
              "      <td>140886.0</td>\n",
              "    </tr>\n",
              "    <tr>\n",
              "      <th>3</th>\n",
              "      <td>4</td>\n",
              "      <td>Bored Ape Yacht Club</td>\n",
              "      <td>91.0 ETH</td>\n",
              "      <td>1.9%</td>\n",
              "      <td>NaN</td>\n",
              "      <td>909,909.0 ETH</td>\n",
              "      <td>1,364.87 ETH</td>\n",
              "      <td>6314.0</td>\n",
              "      <td>-0.0%</td>\n",
              "      <td>9999.0</td>\n",
              "    </tr>\n",
              "    <tr>\n",
              "      <th>4</th>\n",
              "      <td>5</td>\n",
              "      <td>CloneX</td>\n",
              "      <td>14.7 ETH</td>\n",
              "      <td>11.6%</td>\n",
              "      <td>NaN</td>\n",
              "      <td>276,859.8 ETH</td>\n",
              "      <td>1,122.92 ETH</td>\n",
              "      <td>8223.0</td>\n",
              "      <td>0.3%</td>\n",
              "      <td>18834.0</td>\n",
              "    </tr>\n",
              "    <tr>\n",
              "      <th>5</th>\n",
              "      <td>6</td>\n",
              "      <td>Mutant Ape Yacht Club</td>\n",
              "      <td>19.99 ETH</td>\n",
              "      <td>3.2%</td>\n",
              "      <td>NaN</td>\n",
              "      <td>358,880.47 ETH</td>\n",
              "      <td>999.15 ETH</td>\n",
              "      <td>11706.0</td>\n",
              "      <td>0.1%</td>\n",
              "      <td>17953.0</td>\n",
              "    </tr>\n",
              "    <tr>\n",
              "      <th>6</th>\n",
              "      <td>7</td>\n",
              "      <td>Cool Pets</td>\n",
              "      <td>2.55 ETH</td>\n",
              "      <td>5.2%</td>\n",
              "      <td>NaN</td>\n",
              "      <td>40,458.3 ETH</td>\n",
              "      <td>879.52 ETH</td>\n",
              "      <td>9604.0</td>\n",
              "      <td>-1.0%</td>\n",
              "      <td>15866.0</td>\n",
              "    </tr>\n",
              "    <tr>\n",
              "      <th>7</th>\n",
              "      <td>8</td>\n",
              "      <td>Doodles</td>\n",
              "      <td>13.5 ETH</td>\n",
              "      <td>-0.7%</td>\n",
              "      <td>NaN</td>\n",
              "      <td>135,000.0 ETH</td>\n",
              "      <td>443.98 ETH</td>\n",
              "      <td>5982.0</td>\n",
              "      <td>0.1%</td>\n",
              "      <td>10000.0</td>\n",
              "    </tr>\n",
              "    <tr>\n",
              "      <th>8</th>\n",
              "      <td>9</td>\n",
              "      <td>MekaVerse</td>\n",
              "      <td>1.12 ETH</td>\n",
              "      <td>32.8%</td>\n",
              "      <td>NaN</td>\n",
              "      <td>9,954.56 ETH</td>\n",
              "      <td>394.86 ETH</td>\n",
              "      <td>5054.0</td>\n",
              "      <td>-1.8%</td>\n",
              "      <td>8888.0</td>\n",
              "    </tr>\n",
              "    <tr>\n",
              "      <th>9</th>\n",
              "      <td>10</td>\n",
              "      <td>World of Women</td>\n",
              "      <td>9.88 ETH</td>\n",
              "      <td>-5.3%</td>\n",
              "      <td>NaN</td>\n",
              "      <td>98,800.0 ETH</td>\n",
              "      <td>213.5 ETH</td>\n",
              "      <td>5066.0</td>\n",
              "      <td>0.0%</td>\n",
              "      <td>10000.0</td>\n",
              "    </tr>\n",
              "    <tr>\n",
              "      <th>10</th>\n",
              "      <td>11</td>\n",
              "      <td>Lives of Asuna</td>\n",
              "      <td>0.35 ETH</td>\n",
              "      <td>-15.4%</td>\n",
              "      <td>NaN</td>\n",
              "      <td>3,500.0 ETH</td>\n",
              "      <td>184.55 ETH</td>\n",
              "      <td>6156.0</td>\n",
              "      <td>-0.3%</td>\n",
              "      <td>10000.0</td>\n",
              "    </tr>\n",
              "    <tr>\n",
              "      <th>11</th>\n",
              "      <td>12</td>\n",
              "      <td>Zipcy's SuperNormal</td>\n",
              "      <td>1.2 ETH</td>\n",
              "      <td>9.8%</td>\n",
              "      <td>NaN</td>\n",
              "      <td>10,665.6 ETH</td>\n",
              "      <td>167.89 ETH</td>\n",
              "      <td>4955.0</td>\n",
              "      <td>0.0%</td>\n",
              "      <td>8888.0</td>\n",
              "    </tr>\n",
              "    <tr>\n",
              "      <th>12</th>\n",
              "      <td>13</td>\n",
              "      <td>Cool Cats</td>\n",
              "      <td>10.4 ETH</td>\n",
              "      <td>-2.6%</td>\n",
              "      <td>NaN</td>\n",
              "      <td>103,303.2 ETH</td>\n",
              "      <td>164.19 ETH</td>\n",
              "      <td>5158.0</td>\n",
              "      <td>-0.0%</td>\n",
              "      <td>9933.0</td>\n",
              "    </tr>\n",
              "    <tr>\n",
              "      <th>13</th>\n",
              "      <td>14</td>\n",
              "      <td>CyberKongz</td>\n",
              "      <td>7.58 ETH</td>\n",
              "      <td>5.5%</td>\n",
              "      <td>NaN</td>\n",
              "      <td>37,900.0 ETH</td>\n",
              "      <td>134.49 ETH</td>\n",
              "      <td>2432.0</td>\n",
              "      <td>0.3%</td>\n",
              "      <td>5000.0</td>\n",
              "    </tr>\n",
              "    <tr>\n",
              "      <th>14</th>\n",
              "      <td>15</td>\n",
              "      <td>Capsule House</td>\n",
              "      <td>1.75 ETH</td>\n",
              "      <td>6.8%</td>\n",
              "      <td>NaN</td>\n",
              "      <td>17,500.0 ETH</td>\n",
              "      <td>116.01 ETH</td>\n",
              "      <td>3731.0</td>\n",
              "      <td>-0.3%</td>\n",
              "      <td>10000.0</td>\n",
              "    </tr>\n",
              "    <tr>\n",
              "      <th>15</th>\n",
              "      <td>16</td>\n",
              "      <td>Crypto Coven</td>\n",
              "      <td>2.01 ETH</td>\n",
              "      <td>2.6%</td>\n",
              "      <td>NaN</td>\n",
              "      <td>19,609.56 ETH</td>\n",
              "      <td>115.08 ETH</td>\n",
              "      <td>4731.0</td>\n",
              "      <td>0.7%</td>\n",
              "      <td>9756.0</td>\n",
              "    </tr>\n",
              "    <tr>\n",
              "      <th>16</th>\n",
              "      <td>17</td>\n",
              "      <td>Decentral Games ICE Poker</td>\n",
              "      <td>2.01 ETH</td>\n",
              "      <td>3.7%</td>\n",
              "      <td>NaN</td>\n",
              "      <td>29,211.33 ETH</td>\n",
              "      <td>110.53 ETH</td>\n",
              "      <td>3358.0</td>\n",
              "      <td>-0.3%</td>\n",
              "      <td>14533.0</td>\n",
              "    </tr>\n",
              "    <tr>\n",
              "      <th>17</th>\n",
              "      <td>18</td>\n",
              "      <td>Metroverse</td>\n",
              "      <td>0.7999 ETH</td>\n",
              "      <td>3.1%</td>\n",
              "      <td>NaN</td>\n",
              "      <td>7,999.0 ETH</td>\n",
              "      <td>95.92 ETH</td>\n",
              "      <td>621.0</td>\n",
              "      <td>-2.8%</td>\n",
              "      <td>10000.0</td>\n",
              "    </tr>\n",
              "    <tr>\n",
              "      <th>18</th>\n",
              "      <td>19</td>\n",
              "      <td>JRNY NFT Club</td>\n",
              "      <td>3.4 ETH</td>\n",
              "      <td>-8.9%</td>\n",
              "      <td>NaN</td>\n",
              "      <td>34,000.0 ETH</td>\n",
              "      <td>84.01 ETH</td>\n",
              "      <td>6930.0</td>\n",
              "      <td>-0.1%</td>\n",
              "      <td>10000.0</td>\n",
              "    </tr>\n",
              "    <tr>\n",
              "      <th>19</th>\n",
              "      <td>20</td>\n",
              "      <td>Smilesss</td>\n",
              "      <td>1.795 ETH</td>\n",
              "      <td>5.8%</td>\n",
              "      <td>NaN</td>\n",
              "      <td>15,673.94 ETH</td>\n",
              "      <td>81.83 ETH</td>\n",
              "      <td>4505.0</td>\n",
              "      <td>0.7%</td>\n",
              "      <td>8732.0</td>\n",
              "    </tr>\n",
              "    <tr>\n",
              "      <th>20</th>\n",
              "      <td>21</td>\n",
              "      <td>FLUF World</td>\n",
              "      <td>3.94 ETH</td>\n",
              "      <td>1.6%</td>\n",
              "      <td>NaN</td>\n",
              "      <td>39,400.0 ETH</td>\n",
              "      <td>80.23 ETH</td>\n",
              "      <td>3514.0</td>\n",
              "      <td>-0.1%</td>\n",
              "      <td>10000.0</td>\n",
              "    </tr>\n",
              "    <tr>\n",
              "      <th>21</th>\n",
              "      <td>22</td>\n",
              "      <td>Boss Beauties</td>\n",
              "      <td>2.07 ETH</td>\n",
              "      <td>-9.1%</td>\n",
              "      <td>NaN</td>\n",
              "      <td>20,700.0 ETH</td>\n",
              "      <td>78.81 ETH</td>\n",
              "      <td>5409.0</td>\n",
              "      <td>0.3%</td>\n",
              "      <td>10000.0</td>\n",
              "    </tr>\n",
              "    <tr>\n",
              "      <th>22</th>\n",
              "      <td>23</td>\n",
              "      <td>FVCK_CRYSTAL//</td>\n",
              "      <td>2.75 ETH</td>\n",
              "      <td>-1.8%</td>\n",
              "      <td>NaN</td>\n",
              "      <td>11,464.75 ETH</td>\n",
              "      <td>78.46 ETH</td>\n",
              "      <td>2080.0</td>\n",
              "      <td>0.5%</td>\n",
              "      <td>4169.0</td>\n",
              "    </tr>\n",
              "    <tr>\n",
              "      <th>23</th>\n",
              "      <td>24</td>\n",
              "      <td>Adam Bomb Squad</td>\n",
              "      <td>0.833 ETH</td>\n",
              "      <td>10.0%</td>\n",
              "      <td>NaN</td>\n",
              "      <td>20,824.17 ETH</td>\n",
              "      <td>70.78 ETH</td>\n",
              "      <td>8729.0</td>\n",
              "      <td>-0.1%</td>\n",
              "      <td>24999.0</td>\n",
              "    </tr>\n",
              "    <tr>\n",
              "      <th>24</th>\n",
              "      <td>25</td>\n",
              "      <td>Crypto Unicorns</td>\n",
              "      <td>1.68 ETH</td>\n",
              "      <td>-17.6%</td>\n",
              "      <td>NaN</td>\n",
              "      <td>16,800.0 ETH</td>\n",
              "      <td>68.12 ETH</td>\n",
              "      <td>519.0</td>\n",
              "      <td>-2.8%</td>\n",
              "      <td>10000.0</td>\n",
              "    </tr>\n",
              "  </tbody>\n",
              "</table>\n",
              "</div>\n",
              "      <button class=\"colab-df-convert\" onclick=\"convertToInteractive('df-108c888e-455e-4390-a152-04a82470b0a8')\"\n",
              "              title=\"Convert this dataframe to an interactive table.\"\n",
              "              style=\"display:none;\">\n",
              "        \n",
              "  <svg xmlns=\"http://www.w3.org/2000/svg\" height=\"24px\"viewBox=\"0 0 24 24\"\n",
              "       width=\"24px\">\n",
              "    <path d=\"M0 0h24v24H0V0z\" fill=\"none\"/>\n",
              "    <path d=\"M18.56 5.44l.94 2.06.94-2.06 2.06-.94-2.06-.94-.94-2.06-.94 2.06-2.06.94zm-11 1L8.5 8.5l.94-2.06 2.06-.94-2.06-.94L8.5 2.5l-.94 2.06-2.06.94zm10 10l.94 2.06.94-2.06 2.06-.94-2.06-.94-.94-2.06-.94 2.06-2.06.94z\"/><path d=\"M17.41 7.96l-1.37-1.37c-.4-.4-.92-.59-1.43-.59-.52 0-1.04.2-1.43.59L10.3 9.45l-7.72 7.72c-.78.78-.78 2.05 0 2.83L4 21.41c.39.39.9.59 1.41.59.51 0 1.02-.2 1.41-.59l7.78-7.78 2.81-2.81c.8-.78.8-2.07 0-2.86zM5.41 20L4 18.59l7.72-7.72 1.47 1.35L5.41 20z\"/>\n",
              "  </svg>\n",
              "      </button>\n",
              "      \n",
              "  <style>\n",
              "    .colab-df-container {\n",
              "      display:flex;\n",
              "      flex-wrap:wrap;\n",
              "      gap: 12px;\n",
              "    }\n",
              "\n",
              "    .colab-df-convert {\n",
              "      background-color: #E8F0FE;\n",
              "      border: none;\n",
              "      border-radius: 50%;\n",
              "      cursor: pointer;\n",
              "      display: none;\n",
              "      fill: #1967D2;\n",
              "      height: 32px;\n",
              "      padding: 0 0 0 0;\n",
              "      width: 32px;\n",
              "    }\n",
              "\n",
              "    .colab-df-convert:hover {\n",
              "      background-color: #E2EBFA;\n",
              "      box-shadow: 0px 1px 2px rgba(60, 64, 67, 0.3), 0px 1px 3px 1px rgba(60, 64, 67, 0.15);\n",
              "      fill: #174EA6;\n",
              "    }\n",
              "\n",
              "    [theme=dark] .colab-df-convert {\n",
              "      background-color: #3B4455;\n",
              "      fill: #D2E3FC;\n",
              "    }\n",
              "\n",
              "    [theme=dark] .colab-df-convert:hover {\n",
              "      background-color: #434B5C;\n",
              "      box-shadow: 0px 1px 3px 1px rgba(0, 0, 0, 0.15);\n",
              "      filter: drop-shadow(0px 1px 2px rgba(0, 0, 0, 0.3));\n",
              "      fill: #FFFFFF;\n",
              "    }\n",
              "  </style>\n",
              "\n",
              "      <script>\n",
              "        const buttonEl =\n",
              "          document.querySelector('#df-108c888e-455e-4390-a152-04a82470b0a8 button.colab-df-convert');\n",
              "        buttonEl.style.display =\n",
              "          google.colab.kernel.accessAllowed ? 'block' : 'none';\n",
              "\n",
              "        async function convertToInteractive(key) {\n",
              "          const element = document.querySelector('#df-108c888e-455e-4390-a152-04a82470b0a8');\n",
              "          const dataTable =\n",
              "            await google.colab.kernel.invokeFunction('convertToInteractive',\n",
              "                                                     [key], {});\n",
              "          if (!dataTable) return;\n",
              "\n",
              "          const docLinkHtml = 'Like what you see? Visit the ' +\n",
              "            '<a target=\"_blank\" href=https://colab.research.google.com/notebooks/data_table.ipynb>data table notebook</a>'\n",
              "            + ' to learn more about interactive tables.';\n",
              "          element.innerHTML = '';\n",
              "          dataTable['output_type'] = 'display_data';\n",
              "          await google.colab.output.renderOutput(dataTable, element);\n",
              "          const docLink = document.createElement('div');\n",
              "          docLink.innerHTML = docLinkHtml;\n",
              "          element.appendChild(docLink);\n",
              "        }\n",
              "      </script>\n",
              "    </div>\n",
              "  </div>\n",
              "  "
            ],
            "text/plain": [
              "     #                        NFT Floor Price  ...   Owners  24h Owners Total Assets\n",
              "0    1                 dotdotdots   0.198 ETH  ...   2647.0        0.1%       4870.0\n",
              "1    2                      Azuki   11.05 ETH  ...   5404.0       -0.2%       9999.0\n",
              "2    3                       LAND   3.698 ETH  ...  19620.0        2.0%     140886.0\n",
              "3    4       Bored Ape Yacht Club    91.0 ETH  ...   6314.0       -0.0%       9999.0\n",
              "4    5                     CloneX    14.7 ETH  ...   8223.0        0.3%      18834.0\n",
              "5    6      Mutant Ape Yacht Club   19.99 ETH  ...  11706.0        0.1%      17953.0\n",
              "6    7                  Cool Pets    2.55 ETH  ...   9604.0       -1.0%      15866.0\n",
              "7    8                    Doodles    13.5 ETH  ...   5982.0        0.1%      10000.0\n",
              "8    9                  MekaVerse    1.12 ETH  ...   5054.0       -1.8%       8888.0\n",
              "9   10             World of Women    9.88 ETH  ...   5066.0        0.0%      10000.0\n",
              "10  11             Lives of Asuna    0.35 ETH  ...   6156.0       -0.3%      10000.0\n",
              "11  12        Zipcy's SuperNormal     1.2 ETH  ...   4955.0        0.0%       8888.0\n",
              "12  13                  Cool Cats    10.4 ETH  ...   5158.0       -0.0%       9933.0\n",
              "13  14                 CyberKongz    7.58 ETH  ...   2432.0        0.3%       5000.0\n",
              "14  15              Capsule House    1.75 ETH  ...   3731.0       -0.3%      10000.0\n",
              "15  16               Crypto Coven    2.01 ETH  ...   4731.0        0.7%       9756.0\n",
              "16  17  Decentral Games ICE Poker    2.01 ETH  ...   3358.0       -0.3%      14533.0\n",
              "17  18                 Metroverse  0.7999 ETH  ...    621.0       -2.8%      10000.0\n",
              "18  19              JRNY NFT Club     3.4 ETH  ...   6930.0       -0.1%      10000.0\n",
              "19  20                   Smilesss   1.795 ETH  ...   4505.0        0.7%       8732.0\n",
              "20  21                 FLUF World    3.94 ETH  ...   3514.0       -0.1%      10000.0\n",
              "21  22              Boss Beauties    2.07 ETH  ...   5409.0        0.3%      10000.0\n",
              "22  23             FVCK_CRYSTAL//    2.75 ETH  ...   2080.0        0.5%       4169.0\n",
              "23  24            Adam Bomb Squad   0.833 ETH  ...   8729.0       -0.1%      24999.0\n",
              "24  25            Crypto Unicorns    1.68 ETH  ...    519.0       -2.8%      10000.0\n",
              "\n",
              "[25 rows x 10 columns]"
            ]
          },
          "metadata": {},
          "execution_count": 118
        }
      ]
    },
    {
      "cell_type": "markdown",
      "source": [
        "- Como eu quero por volta dos últimos 500 NFTs e cada página da coingecko oferece 25 nfts, preciso acessar até a página 20."
      ],
      "metadata": {
        "id": "vzRgZIMlLqsr"
      }
    },
    {
      "cell_type": "code",
      "source": [
        "dfs = []\n",
        "for i in range (2, 6):\n",
        "  request2 = requests.get(f\"https://www.coingecko.com/en/nft?page={i}\").text\n",
        "  df = pd.read_html(request2)\n",
        "  dfs.append(df)"
      ],
      "metadata": {
        "id": "yluQB6A-Kh6d"
      },
      "execution_count": 119,
      "outputs": []
    },
    {
      "cell_type": "code",
      "source": [
        "dfs"
      ],
      "metadata": {
        "colab": {
          "base_uri": "https://localhost:8080/"
        },
        "id": "RqKCglZQR8hk",
        "outputId": "d0290559-7ecb-4ba0-e363-c967339705b8"
      },
      "execution_count": 120,
      "outputs": [
        {
          "output_type": "execute_result",
          "data": {
            "text/plain": [
              "[[     #                           NFT  ... 24h Owners Total Assets\n",
              "  0   26                    VeeFriends  ...       0.0%      10255.0\n",
              "  1   27                       Blitmap  ...       0.3%       1700.0\n",
              "  2   28                   PUNKS Comic  ...       0.1%      23204.0\n",
              "  3   29                  inbetweeners  ...      -0.1%      10777.0\n",
              "  4   30                     CrypToadz  ...      -0.1%       7025.0\n",
              "  5   31                    Lazy Lions  ...      -0.2%      10080.0\n",
              "  6   32                   Phanta Bear  ...       0.4%      10000.0\n",
              "  7   33                 OnChainMonkey  ...      -0.0%       9500.0\n",
              "  8   34                Creature World  ...       0.0%      10000.0\n",
              "  9   35                          Loot  ...      -0.1%       7779.0\n",
              "  10  36                      BYO Land  ...      -0.1%      10056.0\n",
              "  11  37       Revenants by Alethea AI  ...       0.0%        100.0\n",
              "  12  38                X Rabbits Club  ...       0.1%       7502.0\n",
              "  13  39         Neo Tokyo: Identities  ...       0.0%       2021.0\n",
              "  14  40                  loomlock NFT  ...      -0.4%       9546.0\n",
              "  15  41               the littles nft  ...      -0.0%      10000.0\n",
              "  16  42      Sneaky Vampire Syndicate  ...      -0.1%       8888.0\n",
              "  17  43  Forgotten Runes Wizards Cult  ...       0.3%       9409.0\n",
              "  18  44                      IreneDAO  ...       0.0%       1106.0\n",
              "  19  45                The Doge Pound  ...       0.0%      10000.0\n",
              "  20  46                     LilHeroes  ...      -0.1%       7776.0\n",
              "  21  47                    Lost Poets  ...      -0.0%      27671.0\n",
              "  22  48                  The Currency  ...       0.1%       2195.0\n",
              "  23  49                      MetaHero  ...      -1.3%       6454.0\n",
              "  24  50                 PudgyPenguins  ...      -0.1%       8888.0\n",
              "  \n",
              "  [25 rows x 10 columns]],\n",
              " [     #                                   NFT  ... 24h Owners Total Assets\n",
              "  0   51                              BYOPills  ...      -0.1%      10000.0\n",
              "  1   52                                 merge  ...       0.2%      27110.0\n",
              "  2   53                 MoonCats - Acclimated  ...      -0.1%      18903.0\n",
              "  3   54                                 8SIAN  ...       0.6%       8785.0\n",
              "  4   55              Purrnelopes Country Club  ...      -0.1%      10000.0\n",
              "  5   56                        GenesisApostle  ...      -0.2%       7214.0\n",
              "  6   57                             Hashmasks  ...       0.1%      16370.0\n",
              "  7   58  Jenkins the Valet: The Writer's Room  ...       0.2%       6942.0\n",
              "  8   59                         Chain Runners  ...       0.2%      10000.0\n",
              "  9   60                       Treeverse Plots  ...      -0.1%      10420.0\n",
              "  10  61                        Divine Anarchy  ...      -0.3%      10011.0\n",
              "  11  62                              Timeless  ...      -0.1%       9421.0\n",
              "  12  63                           CHIBI DINOS  ...      -0.4%      10000.0\n",
              "  13  64                             0N1 Force  ...       0.1%       7777.0\n",
              "  14  65                              Animetas  ...      -0.1%      10101.0\n",
              "  15  66                   Global Citizen Club  ...      -1.1%       8888.0\n",
              "  16  67                             Anonymice  ...      -1.1%      10000.0\n",
              "  17  68                          Samurai Saga  ...      -0.9%       9999.0\n",
              "  18  69      CryptoHoots Steampunk Parliament  ...      -0.6%       2500.0\n",
              "  19  70                           Stoner Cats  ...      -0.1%      10419.0\n",
              "  20  71                        SpacePunksClub  ...      -0.0%       9995.0\n",
              "  21  72                            Lil Pudgys  ...      -0.3%      18737.0\n",
              "  22  73                             Fomoverse  ...      -0.9%       1234.0\n",
              "  23  74                   The Wicked Craniums  ...       0.1%      10762.0\n",
              "  24  75                  iNFT Personality Pod  ...       0.4%       9811.0\n",
              "  \n",
              "  [25 rows x 10 columns]],\n",
              " [      #                           NFT  ... 24h Owners Total Assets\n",
              "  0    76                   Galaxy Eggs  ...      -0.1%       9999.0\n",
              "  1    77                 Ethereals WTF  ...      -0.3%      12345.0\n",
              "  2    78  Citizens of Bulliever Island  ...       0.1%      10000.0\n",
              "  3    79        Wizards & Dragons Game  ...       0.5%      46169.0\n",
              "  4    80                       Feudalz  ...      -1.9%       4444.0\n",
              "  5    81                  Genesis Mana  ...       0.2%       7682.0\n",
              "  6    82   Curious Addys' Trading Club  ...       0.3%       5000.0\n",
              "  7    83                   EtherLambos  ...       0.1%       1600.0\n",
              "  8    84                   Satoshibles  ...      -0.4%       4999.0\n",
              "  9    85           Star Sailor Sibings  ...      -0.0%      10100.0\n",
              "  10   86              PartyDegenerates  ...      -0.0%       9999.0\n",
              "  11   87                 Sipherian Inu  ...      -0.0%       9999.0\n",
              "  12   88                Corruption(s*)  ...      -0.1%       4196.0\n",
              "  13   89            CryptoZoo Base Egg  ...       0.0%       4160.0\n",
              "  14   90           The Vogu Collective  ...       0.1%       7777.0\n",
              "  15   91                       HeadDAO  ...       0.2%      10000.0\n",
              "  16   92                    Chibi Apes  ...       0.1%       3000.0\n",
              "  17   93                     Gauntlets  ...      -0.0%      10000.0\n",
              "  18   94          Ready Player Cat NFT  ...      -0.0%       4950.0\n",
              "  19   95                  JunkYardDogs  ...      -0.1%       7976.0\n",
              "  20   96                 Apes of Space  ...       0.0%      10000.0\n",
              "  21   97           Baby Battle Bots G1  ...       0.3%       3498.0\n",
              "  22   98     Koala Intelligence Agency  ...      -0.0%      10000.0\n",
              "  23   99                 Tools of Rock  ...      -0.0%       7535.0\n",
              "  24  100                      Avastars  ...       0.0%      25455.0\n",
              "  \n",
              "  [25 rows x 10 columns]],\n",
              " [      #                  NFT  Floor Price  ...  Owners  24h Owners Total Assets\n",
              "  0   101               Skullx    0.035 ETH  ...  2573.0       -0.0%      10000.0\n",
              "  1   102             Metakrew    0.085 ETH  ...  3241.0        0.1%       7335.0\n",
              "  2   103           The Sevens    0.169 ETH  ...  2785.0       -0.1%       7000.0\n",
              "  3   104   AlphaBetty Doodles     0.05 ETH  ...  3545.0        0.0%      10000.0\n",
              "  4   105   CryptoDragons Eggs    0.079 ETH  ...  1377.0       -0.1%       2797.0\n",
              "  5   106                Bloot     0.04 ETH  ...  3970.0       -0.1%       8008.0\n",
              "  6   107    Angry Apes United    0.035 ETH  ...  4945.0        0.0%       8888.0\n",
              "  7   108       APE DAO REMIX!     0.05 ETH  ...  2615.0       -0.0%       5550.0\n",
              "  8   109  Light Super Bunnies   0.0123 ETH  ...  1718.0        0.0%       4457.0\n",
              "  9   110           Borpacasso    0.069 ETH  ...  1149.0       -0.1%       2250.0\n",
              "  10  111        CryptoZombiez     0.02 ETH  ...   813.0       -0.5%       5555.0\n",
              "  11  112     Generative Masks    0.032 ETH  ...  3466.0       -0.0%       9999.0\n",
              "  12  113   United Punks Union    0.001 ETH  ...  1192.0        0.0%       3624.0\n",
              "  13  114        Bored Bananas    0.035 ETH  ...  1838.0        0.1%       4027.0\n",
              "  14  115          Dope Shibas     0.01 ETH  ...  3982.0        0.1%       9899.0\n",
              "  15  116      Spirit Orb Pets     0.05 ETH  ...   370.0        0.0%        777.0\n",
              "  16  117     MOONDOGS ODYSSEY    0.015 ETH  ...  1923.0        0.1%       5000.0\n",
              "  17  118        Space Poggers   0.0195 ETH  ...  3448.0        0.1%      12442.0\n",
              "  18  119          Derpy Birbs    0.009 ETH  ...  1841.0        0.2%       8192.0\n",
              "  19  120   Dark Super Bunnies  0.01769 ETH  ...  1738.0        0.1%       4409.0\n",
              "  20  121           COVIDPunks    0.009 ETH  ...   189.0        0.0%        305.0\n",
              "  21  122      Bored Ape Comic    0.028 ETH  ...  2708.0        0.1%       9999.0\n",
              "  22  123          MondrianNFT     0.01 ETH  ...  1840.0        0.2%       4096.0\n",
              "  23  124             Spookies     0.01 ETH  ...  2676.0        0.0%       8888.0\n",
              "  24  125         Passive Apes    0.001 ETH  ...  1239.0        0.1%       4500.0\n",
              "  \n",
              "  [25 rows x 10 columns]]]"
            ]
          },
          "metadata": {},
          "execution_count": 120
        }
      ]
    },
    {
      "cell_type": "code",
      "source": [
        "len(dfs)"
      ],
      "metadata": {
        "colab": {
          "base_uri": "https://localhost:8080/"
        },
        "id": "6Jai6uF5R_ad",
        "outputId": "cddfc3f1-4fbd-42e1-898f-caf78ed63b95"
      },
      "execution_count": 121,
      "outputs": [
        {
          "output_type": "execute_result",
          "data": {
            "text/plain": [
              "4"
            ]
          },
          "metadata": {},
          "execution_count": 121
        }
      ]
    },
    {
      "cell_type": "code",
      "source": [
        "datasets = []\n",
        "for i in range(len(dfs)):\n",
        "  datasets.append(dfs[i][0])"
      ],
      "metadata": {
        "id": "C1vP8GABMUsB"
      },
      "execution_count": 122,
      "outputs": []
    },
    {
      "cell_type": "code",
      "source": [
        "len(datasets)"
      ],
      "metadata": {
        "colab": {
          "base_uri": "https://localhost:8080/"
        },
        "id": "3g2nDxFuR40o",
        "outputId": "5ba3bce6-2c9c-4231-cba6-1eb26f0bfb0e"
      },
      "execution_count": 123,
      "outputs": [
        {
          "output_type": "execute_result",
          "data": {
            "text/plain": [
              "4"
            ]
          },
          "metadata": {},
          "execution_count": 123
        }
      ]
    },
    {
      "cell_type": "code",
      "source": [
        "df_final = pd.concat([df1, datasets[0], datasets[1], datasets[2], datasets[3]], ignore_index=True)"
      ],
      "metadata": {
        "id": "WVO9n2rqNSnR"
      },
      "execution_count": 124,
      "outputs": []
    },
    {
      "cell_type": "code",
      "source": [
        "df_final"
      ],
      "metadata": {
        "colab": {
          "base_uri": "https://localhost:8080/",
          "height": 468
        },
        "id": "omXfHi57RY6K",
        "outputId": "4e54fa88-e272-44b8-dd71-c0b4ba427573"
      },
      "execution_count": 125,
      "outputs": [
        {
          "output_type": "execute_result",
          "data": {
            "text/html": [
              "\n",
              "  <div id=\"df-0e65d0c5-3aea-4537-9086-6c9fba143d4d\">\n",
              "    <div class=\"colab-df-container\">\n",
              "      <div>\n",
              "<style scoped>\n",
              "    .dataframe tbody tr th:only-of-type {\n",
              "        vertical-align: middle;\n",
              "    }\n",
              "\n",
              "    .dataframe tbody tr th {\n",
              "        vertical-align: top;\n",
              "    }\n",
              "\n",
              "    .dataframe thead th {\n",
              "        text-align: right;\n",
              "    }\n",
              "</style>\n",
              "<table border=\"1\" class=\"dataframe\">\n",
              "  <thead>\n",
              "    <tr style=\"text-align: right;\">\n",
              "      <th></th>\n",
              "      <th>#</th>\n",
              "      <th>NFT</th>\n",
              "      <th>Floor Price</th>\n",
              "      <th>24h</th>\n",
              "      <th>7d</th>\n",
              "      <th>Market Cap</th>\n",
              "      <th>24h Volume</th>\n",
              "      <th>Owners</th>\n",
              "      <th>24h Owners</th>\n",
              "      <th>Total Assets</th>\n",
              "    </tr>\n",
              "  </thead>\n",
              "  <tbody>\n",
              "    <tr>\n",
              "      <th>0</th>\n",
              "      <td>1</td>\n",
              "      <td>dotdotdots</td>\n",
              "      <td>0.198 ETH</td>\n",
              "      <td>27.6%</td>\n",
              "      <td>NaN</td>\n",
              "      <td>964.26 ETH</td>\n",
              "      <td>6,349.59 ETH</td>\n",
              "      <td>2647.0</td>\n",
              "      <td>0.1%</td>\n",
              "      <td>4870.0</td>\n",
              "    </tr>\n",
              "    <tr>\n",
              "      <th>1</th>\n",
              "      <td>2</td>\n",
              "      <td>Azuki</td>\n",
              "      <td>11.05 ETH</td>\n",
              "      <td>14.1%</td>\n",
              "      <td>NaN</td>\n",
              "      <td>110,488.95 ETH</td>\n",
              "      <td>1,404.14 ETH</td>\n",
              "      <td>5404.0</td>\n",
              "      <td>-0.2%</td>\n",
              "      <td>9999.0</td>\n",
              "    </tr>\n",
              "    <tr>\n",
              "      <th>2</th>\n",
              "      <td>3</td>\n",
              "      <td>LAND</td>\n",
              "      <td>3.698 ETH</td>\n",
              "      <td>3.1%</td>\n",
              "      <td>NaN</td>\n",
              "      <td>520,996.43 ETH</td>\n",
              "      <td>1,373.18 ETH</td>\n",
              "      <td>19620.0</td>\n",
              "      <td>2.0%</td>\n",
              "      <td>140886.0</td>\n",
              "    </tr>\n",
              "    <tr>\n",
              "      <th>3</th>\n",
              "      <td>4</td>\n",
              "      <td>Bored Ape Yacht Club</td>\n",
              "      <td>91.0 ETH</td>\n",
              "      <td>1.9%</td>\n",
              "      <td>NaN</td>\n",
              "      <td>909,909.0 ETH</td>\n",
              "      <td>1,364.87 ETH</td>\n",
              "      <td>6314.0</td>\n",
              "      <td>-0.0%</td>\n",
              "      <td>9999.0</td>\n",
              "    </tr>\n",
              "    <tr>\n",
              "      <th>4</th>\n",
              "      <td>5</td>\n",
              "      <td>CloneX</td>\n",
              "      <td>14.7 ETH</td>\n",
              "      <td>11.6%</td>\n",
              "      <td>NaN</td>\n",
              "      <td>276,859.8 ETH</td>\n",
              "      <td>1,122.92 ETH</td>\n",
              "      <td>8223.0</td>\n",
              "      <td>0.3%</td>\n",
              "      <td>18834.0</td>\n",
              "    </tr>\n",
              "    <tr>\n",
              "      <th>...</th>\n",
              "      <td>...</td>\n",
              "      <td>...</td>\n",
              "      <td>...</td>\n",
              "      <td>...</td>\n",
              "      <td>...</td>\n",
              "      <td>...</td>\n",
              "      <td>...</td>\n",
              "      <td>...</td>\n",
              "      <td>...</td>\n",
              "      <td>...</td>\n",
              "    </tr>\n",
              "    <tr>\n",
              "      <th>120</th>\n",
              "      <td>121</td>\n",
              "      <td>COVIDPunks</td>\n",
              "      <td>0.009 ETH</td>\n",
              "      <td>-64.2%</td>\n",
              "      <td>NaN</td>\n",
              "      <td>2.74 ETH</td>\n",
              "      <td>0.03 ETH</td>\n",
              "      <td>189.0</td>\n",
              "      <td>0.0%</td>\n",
              "      <td>305.0</td>\n",
              "    </tr>\n",
              "    <tr>\n",
              "      <th>121</th>\n",
              "      <td>122</td>\n",
              "      <td>Bored Ape Comic</td>\n",
              "      <td>0.028 ETH</td>\n",
              "      <td>-6.6%</td>\n",
              "      <td>NaN</td>\n",
              "      <td>279.97 ETH</td>\n",
              "      <td>0.03 ETH</td>\n",
              "      <td>2708.0</td>\n",
              "      <td>0.1%</td>\n",
              "      <td>9999.0</td>\n",
              "    </tr>\n",
              "    <tr>\n",
              "      <th>122</th>\n",
              "      <td>123</td>\n",
              "      <td>MondrianNFT</td>\n",
              "      <td>0.01 ETH</td>\n",
              "      <td>-13.8%</td>\n",
              "      <td>NaN</td>\n",
              "      <td>40.96 ETH</td>\n",
              "      <td>0.02 ETH</td>\n",
              "      <td>1840.0</td>\n",
              "      <td>0.2%</td>\n",
              "      <td>4096.0</td>\n",
              "    </tr>\n",
              "    <tr>\n",
              "      <th>123</th>\n",
              "      <td>124</td>\n",
              "      <td>Spookies</td>\n",
              "      <td>0.01 ETH</td>\n",
              "      <td>3.4%</td>\n",
              "      <td>NaN</td>\n",
              "      <td>88.88 ETH</td>\n",
              "      <td>0.02 ETH</td>\n",
              "      <td>2676.0</td>\n",
              "      <td>0.0%</td>\n",
              "      <td>8888.0</td>\n",
              "    </tr>\n",
              "    <tr>\n",
              "      <th>124</th>\n",
              "      <td>125</td>\n",
              "      <td>Passive Apes</td>\n",
              "      <td>0.001 ETH</td>\n",
              "      <td>904.0%</td>\n",
              "      <td>NaN</td>\n",
              "      <td>4.5 ETH</td>\n",
              "      <td>0.0 ETH</td>\n",
              "      <td>1239.0</td>\n",
              "      <td>0.1%</td>\n",
              "      <td>4500.0</td>\n",
              "    </tr>\n",
              "  </tbody>\n",
              "</table>\n",
              "<p>125 rows × 10 columns</p>\n",
              "</div>\n",
              "      <button class=\"colab-df-convert\" onclick=\"convertToInteractive('df-0e65d0c5-3aea-4537-9086-6c9fba143d4d')\"\n",
              "              title=\"Convert this dataframe to an interactive table.\"\n",
              "              style=\"display:none;\">\n",
              "        \n",
              "  <svg xmlns=\"http://www.w3.org/2000/svg\" height=\"24px\"viewBox=\"0 0 24 24\"\n",
              "       width=\"24px\">\n",
              "    <path d=\"M0 0h24v24H0V0z\" fill=\"none\"/>\n",
              "    <path d=\"M18.56 5.44l.94 2.06.94-2.06 2.06-.94-2.06-.94-.94-2.06-.94 2.06-2.06.94zm-11 1L8.5 8.5l.94-2.06 2.06-.94-2.06-.94L8.5 2.5l-.94 2.06-2.06.94zm10 10l.94 2.06.94-2.06 2.06-.94-2.06-.94-.94-2.06-.94 2.06-2.06.94z\"/><path d=\"M17.41 7.96l-1.37-1.37c-.4-.4-.92-.59-1.43-.59-.52 0-1.04.2-1.43.59L10.3 9.45l-7.72 7.72c-.78.78-.78 2.05 0 2.83L4 21.41c.39.39.9.59 1.41.59.51 0 1.02-.2 1.41-.59l7.78-7.78 2.81-2.81c.8-.78.8-2.07 0-2.86zM5.41 20L4 18.59l7.72-7.72 1.47 1.35L5.41 20z\"/>\n",
              "  </svg>\n",
              "      </button>\n",
              "      \n",
              "  <style>\n",
              "    .colab-df-container {\n",
              "      display:flex;\n",
              "      flex-wrap:wrap;\n",
              "      gap: 12px;\n",
              "    }\n",
              "\n",
              "    .colab-df-convert {\n",
              "      background-color: #E8F0FE;\n",
              "      border: none;\n",
              "      border-radius: 50%;\n",
              "      cursor: pointer;\n",
              "      display: none;\n",
              "      fill: #1967D2;\n",
              "      height: 32px;\n",
              "      padding: 0 0 0 0;\n",
              "      width: 32px;\n",
              "    }\n",
              "\n",
              "    .colab-df-convert:hover {\n",
              "      background-color: #E2EBFA;\n",
              "      box-shadow: 0px 1px 2px rgba(60, 64, 67, 0.3), 0px 1px 3px 1px rgba(60, 64, 67, 0.15);\n",
              "      fill: #174EA6;\n",
              "    }\n",
              "\n",
              "    [theme=dark] .colab-df-convert {\n",
              "      background-color: #3B4455;\n",
              "      fill: #D2E3FC;\n",
              "    }\n",
              "\n",
              "    [theme=dark] .colab-df-convert:hover {\n",
              "      background-color: #434B5C;\n",
              "      box-shadow: 0px 1px 3px 1px rgba(0, 0, 0, 0.15);\n",
              "      filter: drop-shadow(0px 1px 2px rgba(0, 0, 0, 0.3));\n",
              "      fill: #FFFFFF;\n",
              "    }\n",
              "  </style>\n",
              "\n",
              "      <script>\n",
              "        const buttonEl =\n",
              "          document.querySelector('#df-0e65d0c5-3aea-4537-9086-6c9fba143d4d button.colab-df-convert');\n",
              "        buttonEl.style.display =\n",
              "          google.colab.kernel.accessAllowed ? 'block' : 'none';\n",
              "\n",
              "        async function convertToInteractive(key) {\n",
              "          const element = document.querySelector('#df-0e65d0c5-3aea-4537-9086-6c9fba143d4d');\n",
              "          const dataTable =\n",
              "            await google.colab.kernel.invokeFunction('convertToInteractive',\n",
              "                                                     [key], {});\n",
              "          if (!dataTable) return;\n",
              "\n",
              "          const docLinkHtml = 'Like what you see? Visit the ' +\n",
              "            '<a target=\"_blank\" href=https://colab.research.google.com/notebooks/data_table.ipynb>data table notebook</a>'\n",
              "            + ' to learn more about interactive tables.';\n",
              "          element.innerHTML = '';\n",
              "          dataTable['output_type'] = 'display_data';\n",
              "          await google.colab.output.renderOutput(dataTable, element);\n",
              "          const docLink = document.createElement('div');\n",
              "          docLink.innerHTML = docLinkHtml;\n",
              "          element.appendChild(docLink);\n",
              "        }\n",
              "      </script>\n",
              "    </div>\n",
              "  </div>\n",
              "  "
            ],
            "text/plain": [
              "       #                   NFT Floor Price  ...   Owners  24h Owners Total Assets\n",
              "0      1            dotdotdots   0.198 ETH  ...   2647.0        0.1%       4870.0\n",
              "1      2                 Azuki   11.05 ETH  ...   5404.0       -0.2%       9999.0\n",
              "2      3                  LAND   3.698 ETH  ...  19620.0        2.0%     140886.0\n",
              "3      4  Bored Ape Yacht Club    91.0 ETH  ...   6314.0       -0.0%       9999.0\n",
              "4      5                CloneX    14.7 ETH  ...   8223.0        0.3%      18834.0\n",
              "..   ...                   ...         ...  ...      ...         ...          ...\n",
              "120  121            COVIDPunks   0.009 ETH  ...    189.0        0.0%        305.0\n",
              "121  122       Bored Ape Comic   0.028 ETH  ...   2708.0        0.1%       9999.0\n",
              "122  123           MondrianNFT    0.01 ETH  ...   1840.0        0.2%       4096.0\n",
              "123  124              Spookies    0.01 ETH  ...   2676.0        0.0%       8888.0\n",
              "124  125          Passive Apes   0.001 ETH  ...   1239.0        0.1%       4500.0\n",
              "\n",
              "[125 rows x 10 columns]"
            ]
          },
          "metadata": {},
          "execution_count": 125
        }
      ]
    },
    {
      "cell_type": "markdown",
      "source": [
        "###Floor Price:"
      ],
      "metadata": {
        "id": "YjoXVEOdfN-I"
      }
    },
    {
      "cell_type": "code",
      "source": [
        "prices = []\n",
        "for price in df_final['Floor Price']:\n",
        "  price = price.split()\n",
        "  if price[0] == 'ETH':\n",
        "    price[0] = 0\n",
        "    price.append('ETH')\n",
        "  \n",
        "  prices.append(price[0])"
      ],
      "metadata": {
        "id": "BQrX_LsGf6bo"
      },
      "execution_count": 126,
      "outputs": []
    },
    {
      "cell_type": "code",
      "source": [
        "df_final['Floor Price'] = prices"
      ],
      "metadata": {
        "id": "55ULsGhpftl1"
      },
      "execution_count": 127,
      "outputs": []
    },
    {
      "cell_type": "code",
      "source": [
        "df_final['Floor Price'] = df_final['Floor Price'].astype(float)"
      ],
      "metadata": {
        "id": "HfzET68qftop"
      },
      "execution_count": 128,
      "outputs": []
    },
    {
      "cell_type": "markdown",
      "source": [
        "###Market Cap:"
      ],
      "metadata": {
        "id": "9GhRQOwDjpIp"
      }
    },
    {
      "cell_type": "code",
      "source": [
        "df_final['Market Cap']"
      ],
      "metadata": {
        "colab": {
          "base_uri": "https://localhost:8080/"
        },
        "id": "_Oq0-qigjus4",
        "outputId": "0f181fd6-5242-4425-aa53-41037b958725"
      },
      "execution_count": 129,
      "outputs": [
        {
          "output_type": "execute_result",
          "data": {
            "text/plain": [
              "0          964.26 ETH\n",
              "1      110,488.95 ETH\n",
              "2      520,996.43 ETH\n",
              "3       909,909.0 ETH\n",
              "4       276,859.8 ETH\n",
              "            ...      \n",
              "120          2.74 ETH\n",
              "121        279.97 ETH\n",
              "122         40.96 ETH\n",
              "123         88.88 ETH\n",
              "124           4.5 ETH\n",
              "Name: Market Cap, Length: 125, dtype: object"
            ]
          },
          "metadata": {},
          "execution_count": 129
        }
      ]
    },
    {
      "cell_type": "code",
      "source": [
        "market_caps = []\n",
        "for market_cap in df_final['Market Cap']:\n",
        "  market_cap = market_cap.split()\n",
        "  market_caps.append(market_cap[0])"
      ],
      "metadata": {
        "id": "oFaEtQWIjvAv"
      },
      "execution_count": 130,
      "outputs": []
    },
    {
      "cell_type": "code",
      "source": [
        "for i in market_caps:\n",
        "  if type(i) != type('str'):\n",
        "    print('Não tem dados com tipo string')"
      ],
      "metadata": {
        "id": "XKJT8jwLjvDF"
      },
      "execution_count": 131,
      "outputs": []
    },
    {
      "cell_type": "code",
      "source": [
        "market_caps_final = []\n",
        "for mks in market_caps:\n",
        "  mks = mks.split(',')\n",
        "  if len(mks) > 1:\n",
        "    mks = mks[0] + '' + mks[1]\n",
        "    market_caps_final.append(mks)\n",
        "  else:\n",
        "    market_caps_final.append(mks[0])\n"
      ],
      "metadata": {
        "id": "86C46eLklEmg"
      },
      "execution_count": 132,
      "outputs": []
    },
    {
      "cell_type": "code",
      "source": [
        "df_final['Market Cap'] = market_caps_final"
      ],
      "metadata": {
        "id": "UzeW_6qmkpkD"
      },
      "execution_count": 133,
      "outputs": []
    },
    {
      "cell_type": "code",
      "source": [
        "market_caps_final = df_final['Market Cap'].astype(float)"
      ],
      "metadata": {
        "id": "Kh5QR4IZkyHW"
      },
      "execution_count": 134,
      "outputs": []
    },
    {
      "cell_type": "markdown",
      "source": [
        "###24h(Variação em %):"
      ],
      "metadata": {
        "id": "kHueQHARYQ-y"
      }
    },
    {
      "cell_type": "code",
      "source": [
        "df_final = df_final.rename(columns={'24h':'24h(%)'})"
      ],
      "metadata": {
        "id": "8H57jgygYQWO"
      },
      "execution_count": 135,
      "outputs": []
    },
    {
      "cell_type": "code",
      "source": [
        "df_final.head()"
      ],
      "metadata": {
        "colab": {
          "base_uri": "https://localhost:8080/",
          "height": 206
        },
        "id": "hwqsOMc4Y3Yv",
        "outputId": "7295eee5-d528-4464-9d86-e2f6b0b12aff"
      },
      "execution_count": 136,
      "outputs": [
        {
          "output_type": "execute_result",
          "data": {
            "text/html": [
              "\n",
              "  <div id=\"df-761bb263-3987-416d-8f57-ba5a474dc4a0\">\n",
              "    <div class=\"colab-df-container\">\n",
              "      <div>\n",
              "<style scoped>\n",
              "    .dataframe tbody tr th:only-of-type {\n",
              "        vertical-align: middle;\n",
              "    }\n",
              "\n",
              "    .dataframe tbody tr th {\n",
              "        vertical-align: top;\n",
              "    }\n",
              "\n",
              "    .dataframe thead th {\n",
              "        text-align: right;\n",
              "    }\n",
              "</style>\n",
              "<table border=\"1\" class=\"dataframe\">\n",
              "  <thead>\n",
              "    <tr style=\"text-align: right;\">\n",
              "      <th></th>\n",
              "      <th>#</th>\n",
              "      <th>NFT</th>\n",
              "      <th>Floor Price</th>\n",
              "      <th>24h(%)</th>\n",
              "      <th>7d</th>\n",
              "      <th>Market Cap</th>\n",
              "      <th>24h Volume</th>\n",
              "      <th>Owners</th>\n",
              "      <th>24h Owners</th>\n",
              "      <th>Total Assets</th>\n",
              "    </tr>\n",
              "  </thead>\n",
              "  <tbody>\n",
              "    <tr>\n",
              "      <th>0</th>\n",
              "      <td>1</td>\n",
              "      <td>dotdotdots</td>\n",
              "      <td>0.198</td>\n",
              "      <td>27.6%</td>\n",
              "      <td>NaN</td>\n",
              "      <td>964.26</td>\n",
              "      <td>6,349.59 ETH</td>\n",
              "      <td>2647.0</td>\n",
              "      <td>0.1%</td>\n",
              "      <td>4870.0</td>\n",
              "    </tr>\n",
              "    <tr>\n",
              "      <th>1</th>\n",
              "      <td>2</td>\n",
              "      <td>Azuki</td>\n",
              "      <td>11.050</td>\n",
              "      <td>14.1%</td>\n",
              "      <td>NaN</td>\n",
              "      <td>110488.95</td>\n",
              "      <td>1,404.14 ETH</td>\n",
              "      <td>5404.0</td>\n",
              "      <td>-0.2%</td>\n",
              "      <td>9999.0</td>\n",
              "    </tr>\n",
              "    <tr>\n",
              "      <th>2</th>\n",
              "      <td>3</td>\n",
              "      <td>LAND</td>\n",
              "      <td>3.698</td>\n",
              "      <td>3.1%</td>\n",
              "      <td>NaN</td>\n",
              "      <td>520996.43</td>\n",
              "      <td>1,373.18 ETH</td>\n",
              "      <td>19620.0</td>\n",
              "      <td>2.0%</td>\n",
              "      <td>140886.0</td>\n",
              "    </tr>\n",
              "    <tr>\n",
              "      <th>3</th>\n",
              "      <td>4</td>\n",
              "      <td>Bored Ape Yacht Club</td>\n",
              "      <td>91.000</td>\n",
              "      <td>1.9%</td>\n",
              "      <td>NaN</td>\n",
              "      <td>909909.0</td>\n",
              "      <td>1,364.87 ETH</td>\n",
              "      <td>6314.0</td>\n",
              "      <td>-0.0%</td>\n",
              "      <td>9999.0</td>\n",
              "    </tr>\n",
              "    <tr>\n",
              "      <th>4</th>\n",
              "      <td>5</td>\n",
              "      <td>CloneX</td>\n",
              "      <td>14.700</td>\n",
              "      <td>11.6%</td>\n",
              "      <td>NaN</td>\n",
              "      <td>276859.8</td>\n",
              "      <td>1,122.92 ETH</td>\n",
              "      <td>8223.0</td>\n",
              "      <td>0.3%</td>\n",
              "      <td>18834.0</td>\n",
              "    </tr>\n",
              "  </tbody>\n",
              "</table>\n",
              "</div>\n",
              "      <button class=\"colab-df-convert\" onclick=\"convertToInteractive('df-761bb263-3987-416d-8f57-ba5a474dc4a0')\"\n",
              "              title=\"Convert this dataframe to an interactive table.\"\n",
              "              style=\"display:none;\">\n",
              "        \n",
              "  <svg xmlns=\"http://www.w3.org/2000/svg\" height=\"24px\"viewBox=\"0 0 24 24\"\n",
              "       width=\"24px\">\n",
              "    <path d=\"M0 0h24v24H0V0z\" fill=\"none\"/>\n",
              "    <path d=\"M18.56 5.44l.94 2.06.94-2.06 2.06-.94-2.06-.94-.94-2.06-.94 2.06-2.06.94zm-11 1L8.5 8.5l.94-2.06 2.06-.94-2.06-.94L8.5 2.5l-.94 2.06-2.06.94zm10 10l.94 2.06.94-2.06 2.06-.94-2.06-.94-.94-2.06-.94 2.06-2.06.94z\"/><path d=\"M17.41 7.96l-1.37-1.37c-.4-.4-.92-.59-1.43-.59-.52 0-1.04.2-1.43.59L10.3 9.45l-7.72 7.72c-.78.78-.78 2.05 0 2.83L4 21.41c.39.39.9.59 1.41.59.51 0 1.02-.2 1.41-.59l7.78-7.78 2.81-2.81c.8-.78.8-2.07 0-2.86zM5.41 20L4 18.59l7.72-7.72 1.47 1.35L5.41 20z\"/>\n",
              "  </svg>\n",
              "      </button>\n",
              "      \n",
              "  <style>\n",
              "    .colab-df-container {\n",
              "      display:flex;\n",
              "      flex-wrap:wrap;\n",
              "      gap: 12px;\n",
              "    }\n",
              "\n",
              "    .colab-df-convert {\n",
              "      background-color: #E8F0FE;\n",
              "      border: none;\n",
              "      border-radius: 50%;\n",
              "      cursor: pointer;\n",
              "      display: none;\n",
              "      fill: #1967D2;\n",
              "      height: 32px;\n",
              "      padding: 0 0 0 0;\n",
              "      width: 32px;\n",
              "    }\n",
              "\n",
              "    .colab-df-convert:hover {\n",
              "      background-color: #E2EBFA;\n",
              "      box-shadow: 0px 1px 2px rgba(60, 64, 67, 0.3), 0px 1px 3px 1px rgba(60, 64, 67, 0.15);\n",
              "      fill: #174EA6;\n",
              "    }\n",
              "\n",
              "    [theme=dark] .colab-df-convert {\n",
              "      background-color: #3B4455;\n",
              "      fill: #D2E3FC;\n",
              "    }\n",
              "\n",
              "    [theme=dark] .colab-df-convert:hover {\n",
              "      background-color: #434B5C;\n",
              "      box-shadow: 0px 1px 3px 1px rgba(0, 0, 0, 0.15);\n",
              "      filter: drop-shadow(0px 1px 2px rgba(0, 0, 0, 0.3));\n",
              "      fill: #FFFFFF;\n",
              "    }\n",
              "  </style>\n",
              "\n",
              "      <script>\n",
              "        const buttonEl =\n",
              "          document.querySelector('#df-761bb263-3987-416d-8f57-ba5a474dc4a0 button.colab-df-convert');\n",
              "        buttonEl.style.display =\n",
              "          google.colab.kernel.accessAllowed ? 'block' : 'none';\n",
              "\n",
              "        async function convertToInteractive(key) {\n",
              "          const element = document.querySelector('#df-761bb263-3987-416d-8f57-ba5a474dc4a0');\n",
              "          const dataTable =\n",
              "            await google.colab.kernel.invokeFunction('convertToInteractive',\n",
              "                                                     [key], {});\n",
              "          if (!dataTable) return;\n",
              "\n",
              "          const docLinkHtml = 'Like what you see? Visit the ' +\n",
              "            '<a target=\"_blank\" href=https://colab.research.google.com/notebooks/data_table.ipynb>data table notebook</a>'\n",
              "            + ' to learn more about interactive tables.';\n",
              "          element.innerHTML = '';\n",
              "          dataTable['output_type'] = 'display_data';\n",
              "          await google.colab.output.renderOutput(dataTable, element);\n",
              "          const docLink = document.createElement('div');\n",
              "          docLink.innerHTML = docLinkHtml;\n",
              "          element.appendChild(docLink);\n",
              "        }\n",
              "      </script>\n",
              "    </div>\n",
              "  </div>\n",
              "  "
            ],
            "text/plain": [
              "   #                   NFT  Floor Price  ...   Owners  24h Owners Total Assets\n",
              "0  1            dotdotdots        0.198  ...   2647.0        0.1%       4870.0\n",
              "1  2                 Azuki       11.050  ...   5404.0       -0.2%       9999.0\n",
              "2  3                  LAND        3.698  ...  19620.0        2.0%     140886.0\n",
              "3  4  Bored Ape Yacht Club       91.000  ...   6314.0       -0.0%       9999.0\n",
              "4  5                CloneX       14.700  ...   8223.0        0.3%      18834.0\n",
              "\n",
              "[5 rows x 10 columns]"
            ]
          },
          "metadata": {},
          "execution_count": 136
        }
      ]
    },
    {
      "cell_type": "code",
      "source": [
        "tfhours = []\n",
        "for per in df_final['24h(%)']:\n",
        "  per = per.split('%')\n",
        "  tfhours.append(float(per[0]))"
      ],
      "metadata": {
        "id": "-Va35MMwYTxl"
      },
      "execution_count": 137,
      "outputs": []
    },
    {
      "cell_type": "code",
      "source": [
        "df_final['24h(%)'] = tfhours"
      ],
      "metadata": {
        "id": "kZKS5lkLYTz7"
      },
      "execution_count": 138,
      "outputs": []
    },
    {
      "cell_type": "code",
      "source": [
        "df_final.head()"
      ],
      "metadata": {
        "colab": {
          "base_uri": "https://localhost:8080/",
          "height": 206
        },
        "id": "G1HuslchYT2Z",
        "outputId": "9faa9358-3196-4a78-db92-806b5cb8ca0a"
      },
      "execution_count": 139,
      "outputs": [
        {
          "output_type": "execute_result",
          "data": {
            "text/html": [
              "\n",
              "  <div id=\"df-6378ef6f-dd3d-4e7d-8746-135f3806228b\">\n",
              "    <div class=\"colab-df-container\">\n",
              "      <div>\n",
              "<style scoped>\n",
              "    .dataframe tbody tr th:only-of-type {\n",
              "        vertical-align: middle;\n",
              "    }\n",
              "\n",
              "    .dataframe tbody tr th {\n",
              "        vertical-align: top;\n",
              "    }\n",
              "\n",
              "    .dataframe thead th {\n",
              "        text-align: right;\n",
              "    }\n",
              "</style>\n",
              "<table border=\"1\" class=\"dataframe\">\n",
              "  <thead>\n",
              "    <tr style=\"text-align: right;\">\n",
              "      <th></th>\n",
              "      <th>#</th>\n",
              "      <th>NFT</th>\n",
              "      <th>Floor Price</th>\n",
              "      <th>24h(%)</th>\n",
              "      <th>7d</th>\n",
              "      <th>Market Cap</th>\n",
              "      <th>24h Volume</th>\n",
              "      <th>Owners</th>\n",
              "      <th>24h Owners</th>\n",
              "      <th>Total Assets</th>\n",
              "    </tr>\n",
              "  </thead>\n",
              "  <tbody>\n",
              "    <tr>\n",
              "      <th>0</th>\n",
              "      <td>1</td>\n",
              "      <td>dotdotdots</td>\n",
              "      <td>0.198</td>\n",
              "      <td>27.6</td>\n",
              "      <td>NaN</td>\n",
              "      <td>964.26</td>\n",
              "      <td>6,349.59 ETH</td>\n",
              "      <td>2647.0</td>\n",
              "      <td>0.1%</td>\n",
              "      <td>4870.0</td>\n",
              "    </tr>\n",
              "    <tr>\n",
              "      <th>1</th>\n",
              "      <td>2</td>\n",
              "      <td>Azuki</td>\n",
              "      <td>11.050</td>\n",
              "      <td>14.1</td>\n",
              "      <td>NaN</td>\n",
              "      <td>110488.95</td>\n",
              "      <td>1,404.14 ETH</td>\n",
              "      <td>5404.0</td>\n",
              "      <td>-0.2%</td>\n",
              "      <td>9999.0</td>\n",
              "    </tr>\n",
              "    <tr>\n",
              "      <th>2</th>\n",
              "      <td>3</td>\n",
              "      <td>LAND</td>\n",
              "      <td>3.698</td>\n",
              "      <td>3.1</td>\n",
              "      <td>NaN</td>\n",
              "      <td>520996.43</td>\n",
              "      <td>1,373.18 ETH</td>\n",
              "      <td>19620.0</td>\n",
              "      <td>2.0%</td>\n",
              "      <td>140886.0</td>\n",
              "    </tr>\n",
              "    <tr>\n",
              "      <th>3</th>\n",
              "      <td>4</td>\n",
              "      <td>Bored Ape Yacht Club</td>\n",
              "      <td>91.000</td>\n",
              "      <td>1.9</td>\n",
              "      <td>NaN</td>\n",
              "      <td>909909.0</td>\n",
              "      <td>1,364.87 ETH</td>\n",
              "      <td>6314.0</td>\n",
              "      <td>-0.0%</td>\n",
              "      <td>9999.0</td>\n",
              "    </tr>\n",
              "    <tr>\n",
              "      <th>4</th>\n",
              "      <td>5</td>\n",
              "      <td>CloneX</td>\n",
              "      <td>14.700</td>\n",
              "      <td>11.6</td>\n",
              "      <td>NaN</td>\n",
              "      <td>276859.8</td>\n",
              "      <td>1,122.92 ETH</td>\n",
              "      <td>8223.0</td>\n",
              "      <td>0.3%</td>\n",
              "      <td>18834.0</td>\n",
              "    </tr>\n",
              "  </tbody>\n",
              "</table>\n",
              "</div>\n",
              "      <button class=\"colab-df-convert\" onclick=\"convertToInteractive('df-6378ef6f-dd3d-4e7d-8746-135f3806228b')\"\n",
              "              title=\"Convert this dataframe to an interactive table.\"\n",
              "              style=\"display:none;\">\n",
              "        \n",
              "  <svg xmlns=\"http://www.w3.org/2000/svg\" height=\"24px\"viewBox=\"0 0 24 24\"\n",
              "       width=\"24px\">\n",
              "    <path d=\"M0 0h24v24H0V0z\" fill=\"none\"/>\n",
              "    <path d=\"M18.56 5.44l.94 2.06.94-2.06 2.06-.94-2.06-.94-.94-2.06-.94 2.06-2.06.94zm-11 1L8.5 8.5l.94-2.06 2.06-.94-2.06-.94L8.5 2.5l-.94 2.06-2.06.94zm10 10l.94 2.06.94-2.06 2.06-.94-2.06-.94-.94-2.06-.94 2.06-2.06.94z\"/><path d=\"M17.41 7.96l-1.37-1.37c-.4-.4-.92-.59-1.43-.59-.52 0-1.04.2-1.43.59L10.3 9.45l-7.72 7.72c-.78.78-.78 2.05 0 2.83L4 21.41c.39.39.9.59 1.41.59.51 0 1.02-.2 1.41-.59l7.78-7.78 2.81-2.81c.8-.78.8-2.07 0-2.86zM5.41 20L4 18.59l7.72-7.72 1.47 1.35L5.41 20z\"/>\n",
              "  </svg>\n",
              "      </button>\n",
              "      \n",
              "  <style>\n",
              "    .colab-df-container {\n",
              "      display:flex;\n",
              "      flex-wrap:wrap;\n",
              "      gap: 12px;\n",
              "    }\n",
              "\n",
              "    .colab-df-convert {\n",
              "      background-color: #E8F0FE;\n",
              "      border: none;\n",
              "      border-radius: 50%;\n",
              "      cursor: pointer;\n",
              "      display: none;\n",
              "      fill: #1967D2;\n",
              "      height: 32px;\n",
              "      padding: 0 0 0 0;\n",
              "      width: 32px;\n",
              "    }\n",
              "\n",
              "    .colab-df-convert:hover {\n",
              "      background-color: #E2EBFA;\n",
              "      box-shadow: 0px 1px 2px rgba(60, 64, 67, 0.3), 0px 1px 3px 1px rgba(60, 64, 67, 0.15);\n",
              "      fill: #174EA6;\n",
              "    }\n",
              "\n",
              "    [theme=dark] .colab-df-convert {\n",
              "      background-color: #3B4455;\n",
              "      fill: #D2E3FC;\n",
              "    }\n",
              "\n",
              "    [theme=dark] .colab-df-convert:hover {\n",
              "      background-color: #434B5C;\n",
              "      box-shadow: 0px 1px 3px 1px rgba(0, 0, 0, 0.15);\n",
              "      filter: drop-shadow(0px 1px 2px rgba(0, 0, 0, 0.3));\n",
              "      fill: #FFFFFF;\n",
              "    }\n",
              "  </style>\n",
              "\n",
              "      <script>\n",
              "        const buttonEl =\n",
              "          document.querySelector('#df-6378ef6f-dd3d-4e7d-8746-135f3806228b button.colab-df-convert');\n",
              "        buttonEl.style.display =\n",
              "          google.colab.kernel.accessAllowed ? 'block' : 'none';\n",
              "\n",
              "        async function convertToInteractive(key) {\n",
              "          const element = document.querySelector('#df-6378ef6f-dd3d-4e7d-8746-135f3806228b');\n",
              "          const dataTable =\n",
              "            await google.colab.kernel.invokeFunction('convertToInteractive',\n",
              "                                                     [key], {});\n",
              "          if (!dataTable) return;\n",
              "\n",
              "          const docLinkHtml = 'Like what you see? Visit the ' +\n",
              "            '<a target=\"_blank\" href=https://colab.research.google.com/notebooks/data_table.ipynb>data table notebook</a>'\n",
              "            + ' to learn more about interactive tables.';\n",
              "          element.innerHTML = '';\n",
              "          dataTable['output_type'] = 'display_data';\n",
              "          await google.colab.output.renderOutput(dataTable, element);\n",
              "          const docLink = document.createElement('div');\n",
              "          docLink.innerHTML = docLinkHtml;\n",
              "          element.appendChild(docLink);\n",
              "        }\n",
              "      </script>\n",
              "    </div>\n",
              "  </div>\n",
              "  "
            ],
            "text/plain": [
              "   #                   NFT  Floor Price  ...   Owners  24h Owners Total Assets\n",
              "0  1            dotdotdots        0.198  ...   2647.0        0.1%       4870.0\n",
              "1  2                 Azuki       11.050  ...   5404.0       -0.2%       9999.0\n",
              "2  3                  LAND        3.698  ...  19620.0        2.0%     140886.0\n",
              "3  4  Bored Ape Yacht Club       91.000  ...   6314.0       -0.0%       9999.0\n",
              "4  5                CloneX       14.700  ...   8223.0        0.3%      18834.0\n",
              "\n",
              "[5 rows x 10 columns]"
            ]
          },
          "metadata": {},
          "execution_count": 139
        }
      ]
    },
    {
      "cell_type": "markdown",
      "source": [
        "###24h Volume:"
      ],
      "metadata": {
        "id": "g_qwfMLxnfGS"
      }
    },
    {
      "cell_type": "code",
      "source": [
        "df_final['24h Volume']"
      ],
      "metadata": {
        "colab": {
          "base_uri": "https://localhost:8080/"
        },
        "id": "bhTJ_s1Vnqjs",
        "outputId": "28c73b24-cea1-4ebf-fa81-31bad1418418"
      },
      "execution_count": 140,
      "outputs": [
        {
          "output_type": "execute_result",
          "data": {
            "text/plain": [
              "0      6,349.59 ETH\n",
              "1      1,404.14 ETH\n",
              "2      1,373.18 ETH\n",
              "3      1,364.87 ETH\n",
              "4      1,122.92 ETH\n",
              "           ...     \n",
              "120        0.03 ETH\n",
              "121        0.03 ETH\n",
              "122        0.02 ETH\n",
              "123        0.02 ETH\n",
              "124         0.0 ETH\n",
              "Name: 24h Volume, Length: 125, dtype: object"
            ]
          },
          "metadata": {},
          "execution_count": 140
        }
      ]
    },
    {
      "cell_type": "code",
      "source": [
        "daily_volumes  = []\n",
        "for daily_volume in df_final['24h Volume']:\n",
        "  if ',' in daily_volume:\n",
        "    daily_volume = daily_volume.split(',')\n",
        "    daily_volume = daily_volume[0] + '' + daily_volume[1]\n",
        "    daily_volume = daily_volume.split()\n",
        "    daily_volumes.append(daily_volume[0])\n",
        "  else:  \n",
        "    daily_volume = daily_volume.split()\n",
        "    daily_volume = daily_volume[0]\n",
        "    daily_volumes.append(daily_volume)\n"
      ],
      "metadata": {
        "id": "_2Boa-oXnqm5"
      },
      "execution_count": 141,
      "outputs": []
    },
    {
      "cell_type": "code",
      "source": [
        "daily_volumes\n",
        "    "
      ],
      "metadata": {
        "colab": {
          "base_uri": "https://localhost:8080/"
        },
        "id": "8fmKgFsInqqv",
        "outputId": "fc87051a-2a73-44d6-a0a0-2dfe6c48c476"
      },
      "execution_count": 142,
      "outputs": [
        {
          "output_type": "execute_result",
          "data": {
            "text/plain": [
              "['6349.59',\n",
              " '1404.14',\n",
              " '1373.18',\n",
              " '1364.87',\n",
              " '1122.92',\n",
              " '999.15',\n",
              " '879.52',\n",
              " '443.98',\n",
              " '394.86',\n",
              " '213.5',\n",
              " '184.55',\n",
              " '167.89',\n",
              " '164.19',\n",
              " '134.49',\n",
              " '116.01',\n",
              " '115.08',\n",
              " '110.53',\n",
              " '95.92',\n",
              " '84.01',\n",
              " '81.83',\n",
              " '80.23',\n",
              " '78.81',\n",
              " '78.46',\n",
              " '70.78',\n",
              " '68.12',\n",
              " '56.25',\n",
              " '55.58',\n",
              " '49.7',\n",
              " '48.25',\n",
              " '45.94',\n",
              " '45.68',\n",
              " '45.0',\n",
              " '41.82',\n",
              " '36.67',\n",
              " '31.81',\n",
              " '31.11',\n",
              " '30.0',\n",
              " '29.17',\n",
              " '27.97',\n",
              " '27.9',\n",
              " '24.87',\n",
              " '23.95',\n",
              " '22.17',\n",
              " '20.87',\n",
              " '20.81',\n",
              " '19.52',\n",
              " '18.91',\n",
              " '16.36',\n",
              " '15.55',\n",
              " '15.3',\n",
              " '14.01',\n",
              " '13.76',\n",
              " '12.59',\n",
              " '12.42',\n",
              " '11.84',\n",
              " '11.16',\n",
              " '10.85',\n",
              " '10.28',\n",
              " '9.56',\n",
              " '9.46',\n",
              " '8.94',\n",
              " '8.22',\n",
              " '7.9',\n",
              " '7.61',\n",
              " '7.46',\n",
              " '6.89',\n",
              " '6.74',\n",
              " '5.8',\n",
              " '4.69',\n",
              " '4.0',\n",
              " '3.57',\n",
              " '3.52',\n",
              " '3.5',\n",
              " '3.31',\n",
              " '3.24',\n",
              " '3.2',\n",
              " '2.8',\n",
              " '2.23',\n",
              " '2.19',\n",
              " '2.19',\n",
              " '1.75',\n",
              " '1.69',\n",
              " '1.68',\n",
              " '1.64',\n",
              " '1.34',\n",
              " '1.3',\n",
              " '1.19',\n",
              " '1.17',\n",
              " '1.15',\n",
              " '0.93',\n",
              " '0.92',\n",
              " '0.88',\n",
              " '0.7',\n",
              " '0.69',\n",
              " '0.67',\n",
              " '0.58',\n",
              " '0.54',\n",
              " '0.5',\n",
              " '0.48',\n",
              " '0.48',\n",
              " '0.42',\n",
              " '0.37',\n",
              " '0.35',\n",
              " '0.32',\n",
              " '0.29',\n",
              " '0.26',\n",
              " '0.17',\n",
              " '0.16',\n",
              " '0.16',\n",
              " '0.15',\n",
              " '0.15',\n",
              " '0.15',\n",
              " '0.1',\n",
              " '0.1',\n",
              " '0.09',\n",
              " '0.07',\n",
              " '0.05',\n",
              " '0.04',\n",
              " '0.04',\n",
              " '0.04',\n",
              " '0.03',\n",
              " '0.03',\n",
              " '0.02',\n",
              " '0.02',\n",
              " '0.0']"
            ]
          },
          "metadata": {},
          "execution_count": 142
        }
      ]
    },
    {
      "cell_type": "code",
      "source": [
        "df_final['24h Volume'] = daily_volumes"
      ],
      "metadata": {
        "id": "lVM5xe1YpoE8"
      },
      "execution_count": 143,
      "outputs": []
    },
    {
      "cell_type": "code",
      "source": [
        "df_final['24h Volume'].astype(float)"
      ],
      "metadata": {
        "colab": {
          "base_uri": "https://localhost:8080/"
        },
        "id": "wGFEst4BsfPP",
        "outputId": "ad9d16d8-a434-42ec-9506-0d04821aa0ab"
      },
      "execution_count": 144,
      "outputs": [
        {
          "output_type": "execute_result",
          "data": {
            "text/plain": [
              "0      6349.59\n",
              "1      1404.14\n",
              "2      1373.18\n",
              "3      1364.87\n",
              "4      1122.92\n",
              "        ...   \n",
              "120       0.03\n",
              "121       0.03\n",
              "122       0.02\n",
              "123       0.02\n",
              "124       0.00\n",
              "Name: 24h Volume, Length: 125, dtype: float64"
            ]
          },
          "metadata": {},
          "execution_count": 144
        }
      ]
    },
    {
      "cell_type": "markdown",
      "source": [
        "###24h Owners:"
      ],
      "metadata": {
        "id": "xW7wRJPpstCt"
      }
    },
    {
      "cell_type": "code",
      "source": [
        "df_final['24h Owners']"
      ],
      "metadata": {
        "colab": {
          "base_uri": "https://localhost:8080/"
        },
        "id": "JaekVl2Esvpr",
        "outputId": "929432b4-d599-427f-e270-0d715213f246"
      },
      "execution_count": 145,
      "outputs": [
        {
          "output_type": "execute_result",
          "data": {
            "text/plain": [
              "0       0.1%\n",
              "1      -0.2%\n",
              "2       2.0%\n",
              "3      -0.0%\n",
              "4       0.3%\n",
              "       ...  \n",
              "120     0.0%\n",
              "121     0.1%\n",
              "122     0.2%\n",
              "123     0.0%\n",
              "124     0.1%\n",
              "Name: 24h Owners, Length: 125, dtype: object"
            ]
          },
          "metadata": {},
          "execution_count": 145
        }
      ]
    },
    {
      "cell_type": "code",
      "source": [
        "daily_owners = []\n",
        "for d_owner in df_final['24h Owners']:\n",
        "  d_owner = d_owner.split('%')\n",
        "  daily_owners.append(d_owner[0])"
      ],
      "metadata": {
        "id": "Cu9TppYysvz3"
      },
      "execution_count": 146,
      "outputs": []
    },
    {
      "cell_type": "code",
      "source": [
        "df_final['24h Owners'] = daily_owners"
      ],
      "metadata": {
        "id": "bTSulz1XtNpB"
      },
      "execution_count": 147,
      "outputs": []
    },
    {
      "cell_type": "code",
      "source": [
        "df_final['24h Owners'].astype(float)"
      ],
      "metadata": {
        "colab": {
          "base_uri": "https://localhost:8080/"
        },
        "id": "vd_cLZi2sv8w",
        "outputId": "8a189de1-eb52-4011-9022-abbffd43efaa"
      },
      "execution_count": 148,
      "outputs": [
        {
          "output_type": "execute_result",
          "data": {
            "text/plain": [
              "0      0.1\n",
              "1     -0.2\n",
              "2      2.0\n",
              "3     -0.0\n",
              "4      0.3\n",
              "      ... \n",
              "120    0.0\n",
              "121    0.1\n",
              "122    0.2\n",
              "123    0.0\n",
              "124    0.1\n",
              "Name: 24h Owners, Length: 125, dtype: float64"
            ]
          },
          "metadata": {},
          "execution_count": 148
        }
      ]
    },
    {
      "cell_type": "markdown",
      "source": [
        "##Razão dos proprietários (Owner Ratio):"
      ],
      "metadata": {
        "id": "J16Z8Oin0bd5"
      }
    },
    {
      "cell_type": "code",
      "source": [
        "df_final['Owner Ratio'] = df_final['Owners'] / df_final ['Total Assets']"
      ],
      "metadata": {
        "id": "4vwYveAK0f6M"
      },
      "execution_count": 218,
      "outputs": []
    },
    {
      "cell_type": "code",
      "source": [
        "df_final['Owner Ratio'] = df_final['Owner Ratio']*100"
      ],
      "metadata": {
        "id": "xJsR2g6Q0f6M"
      },
      "execution_count": 219,
      "outputs": []
    },
    {
      "cell_type": "markdown",
      "source": [
        "#2ºParte: Limpeza dos dados"
      ],
      "metadata": {
        "id": "Jl2hE-TUybQJ"
      }
    },
    {
      "cell_type": "code",
      "source": [
        "df_final.isnull().sum()"
      ],
      "metadata": {
        "id": "29urF9sSSPMj",
        "colab": {
          "base_uri": "https://localhost:8080/"
        },
        "outputId": "39aec521-7ab2-4653-e7fe-12b44a5f1346"
      },
      "execution_count": 220,
      "outputs": [
        {
          "output_type": "execute_result",
          "data": {
            "text/plain": [
              "NFT             0\n",
              "Floor Price     0\n",
              "24h(%)          0\n",
              "Market Cap      0\n",
              "24h Volume      0\n",
              "Owners          0\n",
              "24h Owners      0\n",
              "Total Assets    0\n",
              "Owner Ratio     0\n",
              "dtype: int64"
            ]
          },
          "metadata": {},
          "execution_count": 220
        }
      ]
    },
    {
      "cell_type": "code",
      "source": [
        "df_final.drop(columns=[\"7d\", \"#\"], inplace=True)"
      ],
      "metadata": {
        "id": "fsZoVQ_Nysbo",
        "colab": {
          "base_uri": "https://localhost:8080/",
          "height": 311
        },
        "outputId": "78d3b9b3-e31b-4e57-baf0-689a9461ce84"
      },
      "execution_count": 221,
      "outputs": [
        {
          "output_type": "error",
          "ename": "KeyError",
          "evalue": "ignored",
          "traceback": [
            "\u001b[0;31m---------------------------------------------------------------------------\u001b[0m",
            "\u001b[0;31mKeyError\u001b[0m                                  Traceback (most recent call last)",
            "\u001b[0;32m<ipython-input-221-26420affd029>\u001b[0m in \u001b[0;36m<module>\u001b[0;34m()\u001b[0m\n\u001b[0;32m----> 1\u001b[0;31m \u001b[0mdf_final\u001b[0m\u001b[0;34m.\u001b[0m\u001b[0mdrop\u001b[0m\u001b[0;34m(\u001b[0m\u001b[0mcolumns\u001b[0m\u001b[0;34m=\u001b[0m\u001b[0;34m[\u001b[0m\u001b[0;34m\"7d\"\u001b[0m\u001b[0;34m,\u001b[0m \u001b[0;34m\"#\"\u001b[0m\u001b[0;34m]\u001b[0m\u001b[0;34m,\u001b[0m \u001b[0minplace\u001b[0m\u001b[0;34m=\u001b[0m\u001b[0;32mTrue\u001b[0m\u001b[0;34m)\u001b[0m\u001b[0;34m\u001b[0m\u001b[0;34m\u001b[0m\u001b[0m\n\u001b[0m",
            "\u001b[0;32m/usr/local/lib/python3.7/dist-packages/pandas/util/_decorators.py\u001b[0m in \u001b[0;36mwrapper\u001b[0;34m(*args, **kwargs)\u001b[0m\n\u001b[1;32m    309\u001b[0m                     \u001b[0mstacklevel\u001b[0m\u001b[0;34m=\u001b[0m\u001b[0mstacklevel\u001b[0m\u001b[0;34m,\u001b[0m\u001b[0;34m\u001b[0m\u001b[0;34m\u001b[0m\u001b[0m\n\u001b[1;32m    310\u001b[0m                 )\n\u001b[0;32m--> 311\u001b[0;31m             \u001b[0;32mreturn\u001b[0m \u001b[0mfunc\u001b[0m\u001b[0;34m(\u001b[0m\u001b[0;34m*\u001b[0m\u001b[0margs\u001b[0m\u001b[0;34m,\u001b[0m \u001b[0;34m**\u001b[0m\u001b[0mkwargs\u001b[0m\u001b[0;34m)\u001b[0m\u001b[0;34m\u001b[0m\u001b[0;34m\u001b[0m\u001b[0m\n\u001b[0m\u001b[1;32m    312\u001b[0m \u001b[0;34m\u001b[0m\u001b[0m\n\u001b[1;32m    313\u001b[0m         \u001b[0;32mreturn\u001b[0m \u001b[0mwrapper\u001b[0m\u001b[0;34m\u001b[0m\u001b[0;34m\u001b[0m\u001b[0m\n",
            "\u001b[0;32m/usr/local/lib/python3.7/dist-packages/pandas/core/frame.py\u001b[0m in \u001b[0;36mdrop\u001b[0;34m(self, labels, axis, index, columns, level, inplace, errors)\u001b[0m\n\u001b[1;32m   4911\u001b[0m             \u001b[0mlevel\u001b[0m\u001b[0;34m=\u001b[0m\u001b[0mlevel\u001b[0m\u001b[0;34m,\u001b[0m\u001b[0;34m\u001b[0m\u001b[0;34m\u001b[0m\u001b[0m\n\u001b[1;32m   4912\u001b[0m             \u001b[0minplace\u001b[0m\u001b[0;34m=\u001b[0m\u001b[0minplace\u001b[0m\u001b[0;34m,\u001b[0m\u001b[0;34m\u001b[0m\u001b[0;34m\u001b[0m\u001b[0m\n\u001b[0;32m-> 4913\u001b[0;31m             \u001b[0merrors\u001b[0m\u001b[0;34m=\u001b[0m\u001b[0merrors\u001b[0m\u001b[0;34m,\u001b[0m\u001b[0;34m\u001b[0m\u001b[0;34m\u001b[0m\u001b[0m\n\u001b[0m\u001b[1;32m   4914\u001b[0m         )\n\u001b[1;32m   4915\u001b[0m \u001b[0;34m\u001b[0m\u001b[0m\n",
            "\u001b[0;32m/usr/local/lib/python3.7/dist-packages/pandas/core/generic.py\u001b[0m in \u001b[0;36mdrop\u001b[0;34m(self, labels, axis, index, columns, level, inplace, errors)\u001b[0m\n\u001b[1;32m   4148\u001b[0m         \u001b[0;32mfor\u001b[0m \u001b[0maxis\u001b[0m\u001b[0;34m,\u001b[0m \u001b[0mlabels\u001b[0m \u001b[0;32min\u001b[0m \u001b[0maxes\u001b[0m\u001b[0;34m.\u001b[0m\u001b[0mitems\u001b[0m\u001b[0;34m(\u001b[0m\u001b[0;34m)\u001b[0m\u001b[0;34m:\u001b[0m\u001b[0;34m\u001b[0m\u001b[0;34m\u001b[0m\u001b[0m\n\u001b[1;32m   4149\u001b[0m             \u001b[0;32mif\u001b[0m \u001b[0mlabels\u001b[0m \u001b[0;32mis\u001b[0m \u001b[0;32mnot\u001b[0m \u001b[0;32mNone\u001b[0m\u001b[0;34m:\u001b[0m\u001b[0;34m\u001b[0m\u001b[0;34m\u001b[0m\u001b[0m\n\u001b[0;32m-> 4150\u001b[0;31m                 \u001b[0mobj\u001b[0m \u001b[0;34m=\u001b[0m \u001b[0mobj\u001b[0m\u001b[0;34m.\u001b[0m\u001b[0m_drop_axis\u001b[0m\u001b[0;34m(\u001b[0m\u001b[0mlabels\u001b[0m\u001b[0;34m,\u001b[0m \u001b[0maxis\u001b[0m\u001b[0;34m,\u001b[0m \u001b[0mlevel\u001b[0m\u001b[0;34m=\u001b[0m\u001b[0mlevel\u001b[0m\u001b[0;34m,\u001b[0m \u001b[0merrors\u001b[0m\u001b[0;34m=\u001b[0m\u001b[0merrors\u001b[0m\u001b[0;34m)\u001b[0m\u001b[0;34m\u001b[0m\u001b[0;34m\u001b[0m\u001b[0m\n\u001b[0m\u001b[1;32m   4151\u001b[0m \u001b[0;34m\u001b[0m\u001b[0m\n\u001b[1;32m   4152\u001b[0m         \u001b[0;32mif\u001b[0m \u001b[0minplace\u001b[0m\u001b[0;34m:\u001b[0m\u001b[0;34m\u001b[0m\u001b[0;34m\u001b[0m\u001b[0m\n",
            "\u001b[0;32m/usr/local/lib/python3.7/dist-packages/pandas/core/generic.py\u001b[0m in \u001b[0;36m_drop_axis\u001b[0;34m(self, labels, axis, level, errors)\u001b[0m\n\u001b[1;32m   4183\u001b[0m                 \u001b[0mnew_axis\u001b[0m \u001b[0;34m=\u001b[0m \u001b[0maxis\u001b[0m\u001b[0;34m.\u001b[0m\u001b[0mdrop\u001b[0m\u001b[0;34m(\u001b[0m\u001b[0mlabels\u001b[0m\u001b[0;34m,\u001b[0m \u001b[0mlevel\u001b[0m\u001b[0;34m=\u001b[0m\u001b[0mlevel\u001b[0m\u001b[0;34m,\u001b[0m \u001b[0merrors\u001b[0m\u001b[0;34m=\u001b[0m\u001b[0merrors\u001b[0m\u001b[0;34m)\u001b[0m\u001b[0;34m\u001b[0m\u001b[0;34m\u001b[0m\u001b[0m\n\u001b[1;32m   4184\u001b[0m             \u001b[0;32melse\u001b[0m\u001b[0;34m:\u001b[0m\u001b[0;34m\u001b[0m\u001b[0;34m\u001b[0m\u001b[0m\n\u001b[0;32m-> 4185\u001b[0;31m                 \u001b[0mnew_axis\u001b[0m \u001b[0;34m=\u001b[0m \u001b[0maxis\u001b[0m\u001b[0;34m.\u001b[0m\u001b[0mdrop\u001b[0m\u001b[0;34m(\u001b[0m\u001b[0mlabels\u001b[0m\u001b[0;34m,\u001b[0m \u001b[0merrors\u001b[0m\u001b[0;34m=\u001b[0m\u001b[0merrors\u001b[0m\u001b[0;34m)\u001b[0m\u001b[0;34m\u001b[0m\u001b[0;34m\u001b[0m\u001b[0m\n\u001b[0m\u001b[1;32m   4186\u001b[0m             \u001b[0mresult\u001b[0m \u001b[0;34m=\u001b[0m \u001b[0mself\u001b[0m\u001b[0;34m.\u001b[0m\u001b[0mreindex\u001b[0m\u001b[0;34m(\u001b[0m\u001b[0;34m**\u001b[0m\u001b[0;34m{\u001b[0m\u001b[0maxis_name\u001b[0m\u001b[0;34m:\u001b[0m \u001b[0mnew_axis\u001b[0m\u001b[0;34m}\u001b[0m\u001b[0;34m)\u001b[0m\u001b[0;34m\u001b[0m\u001b[0;34m\u001b[0m\u001b[0m\n\u001b[1;32m   4187\u001b[0m \u001b[0;34m\u001b[0m\u001b[0m\n",
            "\u001b[0;32m/usr/local/lib/python3.7/dist-packages/pandas/core/indexes/base.py\u001b[0m in \u001b[0;36mdrop\u001b[0;34m(self, labels, errors)\u001b[0m\n\u001b[1;32m   6015\u001b[0m         \u001b[0;32mif\u001b[0m \u001b[0mmask\u001b[0m\u001b[0;34m.\u001b[0m\u001b[0many\u001b[0m\u001b[0;34m(\u001b[0m\u001b[0;34m)\u001b[0m\u001b[0;34m:\u001b[0m\u001b[0;34m\u001b[0m\u001b[0;34m\u001b[0m\u001b[0m\n\u001b[1;32m   6016\u001b[0m             \u001b[0;32mif\u001b[0m \u001b[0merrors\u001b[0m \u001b[0;34m!=\u001b[0m \u001b[0;34m\"ignore\"\u001b[0m\u001b[0;34m:\u001b[0m\u001b[0;34m\u001b[0m\u001b[0;34m\u001b[0m\u001b[0m\n\u001b[0;32m-> 6017\u001b[0;31m                 \u001b[0;32mraise\u001b[0m \u001b[0mKeyError\u001b[0m\u001b[0;34m(\u001b[0m\u001b[0;34mf\"{labels[mask]} not found in axis\"\u001b[0m\u001b[0;34m)\u001b[0m\u001b[0;34m\u001b[0m\u001b[0;34m\u001b[0m\u001b[0m\n\u001b[0m\u001b[1;32m   6018\u001b[0m             \u001b[0mindexer\u001b[0m \u001b[0;34m=\u001b[0m \u001b[0mindexer\u001b[0m\u001b[0;34m[\u001b[0m\u001b[0;34m~\u001b[0m\u001b[0mmask\u001b[0m\u001b[0;34m]\u001b[0m\u001b[0;34m\u001b[0m\u001b[0;34m\u001b[0m\u001b[0m\n\u001b[1;32m   6019\u001b[0m         \u001b[0;32mreturn\u001b[0m \u001b[0mself\u001b[0m\u001b[0;34m.\u001b[0m\u001b[0mdelete\u001b[0m\u001b[0;34m(\u001b[0m\u001b[0mindexer\u001b[0m\u001b[0;34m)\u001b[0m\u001b[0;34m\u001b[0m\u001b[0;34m\u001b[0m\u001b[0m\n",
            "\u001b[0;31mKeyError\u001b[0m: \"['7d' '#'] not found in axis\""
          ]
        }
      ]
    },
    {
      "cell_type": "code",
      "source": [
        "df_final.duplicated().sum()"
      ],
      "metadata": {
        "id": "nW7zTundyzGL"
      },
      "execution_count": null,
      "outputs": []
    },
    {
      "cell_type": "code",
      "source": [
        "df = df_final"
      ],
      "metadata": {
        "id": "8xV1jvctdg2z"
      },
      "execution_count": null,
      "outputs": []
    },
    {
      "cell_type": "markdown",
      "source": [
        "#Salvando em CSV:"
      ],
      "metadata": {
        "id": "mzaRze_yt0jw"
      }
    },
    {
      "cell_type": "code",
      "source": [
        "df.to_csv(r'/content/df_final.csv', index=False, header=True)"
      ],
      "metadata": {
        "id": "Qmfk_rEdt0B7"
      },
      "execution_count": 223,
      "outputs": []
    },
    {
      "cell_type": "code",
      "source": [
        "df_test = pd.read_csv(\"df_final.csv\")"
      ],
      "metadata": {
        "id": "Zbcx9Iiqt-b8"
      },
      "execution_count": 224,
      "outputs": []
    },
    {
      "cell_type": "code",
      "source": [
        "df_test.head()"
      ],
      "metadata": {
        "id": "4T7CXXhUuCFz",
        "outputId": "48d13cfe-711c-4c14-f70f-4f4cf882915b",
        "colab": {
          "base_uri": "https://localhost:8080/",
          "height": 206
        }
      },
      "execution_count": 225,
      "outputs": [
        {
          "output_type": "execute_result",
          "data": {
            "text/html": [
              "\n",
              "  <div id=\"df-abffb119-54ee-46e1-a5f6-03671ec0c4d0\">\n",
              "    <div class=\"colab-df-container\">\n",
              "      <div>\n",
              "<style scoped>\n",
              "    .dataframe tbody tr th:only-of-type {\n",
              "        vertical-align: middle;\n",
              "    }\n",
              "\n",
              "    .dataframe tbody tr th {\n",
              "        vertical-align: top;\n",
              "    }\n",
              "\n",
              "    .dataframe thead th {\n",
              "        text-align: right;\n",
              "    }\n",
              "</style>\n",
              "<table border=\"1\" class=\"dataframe\">\n",
              "  <thead>\n",
              "    <tr style=\"text-align: right;\">\n",
              "      <th></th>\n",
              "      <th>NFT</th>\n",
              "      <th>Floor Price</th>\n",
              "      <th>24h(%)</th>\n",
              "      <th>Market Cap</th>\n",
              "      <th>24h Volume</th>\n",
              "      <th>Owners</th>\n",
              "      <th>24h Owners</th>\n",
              "      <th>Total Assets</th>\n",
              "      <th>Owner Ratio</th>\n",
              "    </tr>\n",
              "  </thead>\n",
              "  <tbody>\n",
              "    <tr>\n",
              "      <th>0</th>\n",
              "      <td>dotdotdots</td>\n",
              "      <td>0.198</td>\n",
              "      <td>27.6</td>\n",
              "      <td>964.26</td>\n",
              "      <td>6349.59</td>\n",
              "      <td>2647.0</td>\n",
              "      <td>0.1</td>\n",
              "      <td>4870.0</td>\n",
              "      <td>54.353183</td>\n",
              "    </tr>\n",
              "    <tr>\n",
              "      <th>1</th>\n",
              "      <td>Azuki</td>\n",
              "      <td>11.050</td>\n",
              "      <td>14.1</td>\n",
              "      <td>110488.95</td>\n",
              "      <td>1404.14</td>\n",
              "      <td>5404.0</td>\n",
              "      <td>-0.2</td>\n",
              "      <td>9999.0</td>\n",
              "      <td>54.045405</td>\n",
              "    </tr>\n",
              "    <tr>\n",
              "      <th>2</th>\n",
              "      <td>LAND</td>\n",
              "      <td>3.698</td>\n",
              "      <td>3.1</td>\n",
              "      <td>520996.43</td>\n",
              "      <td>1373.18</td>\n",
              "      <td>19620.0</td>\n",
              "      <td>2.0</td>\n",
              "      <td>140886.0</td>\n",
              "      <td>13.926153</td>\n",
              "    </tr>\n",
              "    <tr>\n",
              "      <th>3</th>\n",
              "      <td>Bored Ape Yacht Club</td>\n",
              "      <td>91.000</td>\n",
              "      <td>1.9</td>\n",
              "      <td>909909.00</td>\n",
              "      <td>1364.87</td>\n",
              "      <td>6314.0</td>\n",
              "      <td>-0.0</td>\n",
              "      <td>9999.0</td>\n",
              "      <td>63.146315</td>\n",
              "    </tr>\n",
              "    <tr>\n",
              "      <th>4</th>\n",
              "      <td>CloneX</td>\n",
              "      <td>14.700</td>\n",
              "      <td>11.6</td>\n",
              "      <td>276859.80</td>\n",
              "      <td>1122.92</td>\n",
              "      <td>8223.0</td>\n",
              "      <td>0.3</td>\n",
              "      <td>18834.0</td>\n",
              "      <td>43.660401</td>\n",
              "    </tr>\n",
              "  </tbody>\n",
              "</table>\n",
              "</div>\n",
              "      <button class=\"colab-df-convert\" onclick=\"convertToInteractive('df-abffb119-54ee-46e1-a5f6-03671ec0c4d0')\"\n",
              "              title=\"Convert this dataframe to an interactive table.\"\n",
              "              style=\"display:none;\">\n",
              "        \n",
              "  <svg xmlns=\"http://www.w3.org/2000/svg\" height=\"24px\"viewBox=\"0 0 24 24\"\n",
              "       width=\"24px\">\n",
              "    <path d=\"M0 0h24v24H0V0z\" fill=\"none\"/>\n",
              "    <path d=\"M18.56 5.44l.94 2.06.94-2.06 2.06-.94-2.06-.94-.94-2.06-.94 2.06-2.06.94zm-11 1L8.5 8.5l.94-2.06 2.06-.94-2.06-.94L8.5 2.5l-.94 2.06-2.06.94zm10 10l.94 2.06.94-2.06 2.06-.94-2.06-.94-.94-2.06-.94 2.06-2.06.94z\"/><path d=\"M17.41 7.96l-1.37-1.37c-.4-.4-.92-.59-1.43-.59-.52 0-1.04.2-1.43.59L10.3 9.45l-7.72 7.72c-.78.78-.78 2.05 0 2.83L4 21.41c.39.39.9.59 1.41.59.51 0 1.02-.2 1.41-.59l7.78-7.78 2.81-2.81c.8-.78.8-2.07 0-2.86zM5.41 20L4 18.59l7.72-7.72 1.47 1.35L5.41 20z\"/>\n",
              "  </svg>\n",
              "      </button>\n",
              "      \n",
              "  <style>\n",
              "    .colab-df-container {\n",
              "      display:flex;\n",
              "      flex-wrap:wrap;\n",
              "      gap: 12px;\n",
              "    }\n",
              "\n",
              "    .colab-df-convert {\n",
              "      background-color: #E8F0FE;\n",
              "      border: none;\n",
              "      border-radius: 50%;\n",
              "      cursor: pointer;\n",
              "      display: none;\n",
              "      fill: #1967D2;\n",
              "      height: 32px;\n",
              "      padding: 0 0 0 0;\n",
              "      width: 32px;\n",
              "    }\n",
              "\n",
              "    .colab-df-convert:hover {\n",
              "      background-color: #E2EBFA;\n",
              "      box-shadow: 0px 1px 2px rgba(60, 64, 67, 0.3), 0px 1px 3px 1px rgba(60, 64, 67, 0.15);\n",
              "      fill: #174EA6;\n",
              "    }\n",
              "\n",
              "    [theme=dark] .colab-df-convert {\n",
              "      background-color: #3B4455;\n",
              "      fill: #D2E3FC;\n",
              "    }\n",
              "\n",
              "    [theme=dark] .colab-df-convert:hover {\n",
              "      background-color: #434B5C;\n",
              "      box-shadow: 0px 1px 3px 1px rgba(0, 0, 0, 0.15);\n",
              "      filter: drop-shadow(0px 1px 2px rgba(0, 0, 0, 0.3));\n",
              "      fill: #FFFFFF;\n",
              "    }\n",
              "  </style>\n",
              "\n",
              "      <script>\n",
              "        const buttonEl =\n",
              "          document.querySelector('#df-abffb119-54ee-46e1-a5f6-03671ec0c4d0 button.colab-df-convert');\n",
              "        buttonEl.style.display =\n",
              "          google.colab.kernel.accessAllowed ? 'block' : 'none';\n",
              "\n",
              "        async function convertToInteractive(key) {\n",
              "          const element = document.querySelector('#df-abffb119-54ee-46e1-a5f6-03671ec0c4d0');\n",
              "          const dataTable =\n",
              "            await google.colab.kernel.invokeFunction('convertToInteractive',\n",
              "                                                     [key], {});\n",
              "          if (!dataTable) return;\n",
              "\n",
              "          const docLinkHtml = 'Like what you see? Visit the ' +\n",
              "            '<a target=\"_blank\" href=https://colab.research.google.com/notebooks/data_table.ipynb>data table notebook</a>'\n",
              "            + ' to learn more about interactive tables.';\n",
              "          element.innerHTML = '';\n",
              "          dataTable['output_type'] = 'display_data';\n",
              "          await google.colab.output.renderOutput(dataTable, element);\n",
              "          const docLink = document.createElement('div');\n",
              "          docLink.innerHTML = docLinkHtml;\n",
              "          element.appendChild(docLink);\n",
              "        }\n",
              "      </script>\n",
              "    </div>\n",
              "  </div>\n",
              "  "
            ],
            "text/plain": [
              "                    NFT  Floor Price  ...  Total Assets  Owner Ratio\n",
              "0            dotdotdots        0.198  ...        4870.0    54.353183\n",
              "1                 Azuki       11.050  ...        9999.0    54.045405\n",
              "2                  LAND        3.698  ...      140886.0    13.926153\n",
              "3  Bored Ape Yacht Club       91.000  ...        9999.0    63.146315\n",
              "4                CloneX       14.700  ...       18834.0    43.660401\n",
              "\n",
              "[5 rows x 9 columns]"
            ]
          },
          "metadata": {},
          "execution_count": 225
        }
      ]
    },
    {
      "cell_type": "code",
      "source": [
        ""
      ],
      "metadata": {
        "id": "7V8itbdVuD_X"
      },
      "execution_count": 155,
      "outputs": []
    },
    {
      "cell_type": "markdown",
      "source": [
        ""
      ],
      "metadata": {
        "id": "aJ27Mc4NZwb4"
      }
    },
    {
      "cell_type": "markdown",
      "source": [
        "#A continuação das partes será imediata para aproveitar a sincronicidade via API do dataset. No entanto, deixo o dataset salvo pós-tratamento para qualquer motivo que seja."
      ],
      "metadata": {
        "id": "jTtn9KaKZ5x3"
      }
    },
    {
      "cell_type": "markdown",
      "source": [
        "#3ºParte: Análise do dataframe\n",
        "\n",
        "\n"
      ],
      "metadata": {
        "id": "BcIfUoDYdMmj"
      }
    },
    {
      "cell_type": "markdown",
      "source": [
        "##Importando as bibliotecas:"
      ],
      "metadata": {
        "id": "gTXc22ZfX28V"
      }
    },
    {
      "cell_type": "code",
      "source": [
        "import pandas as pd\n",
        "import numpy as np\n",
        "\n",
        "import matplotlib.pyplot as plt\n",
        "import seaborn as sns"
      ],
      "metadata": {
        "id": "hQw1R9X_X5si"
      },
      "execution_count": 156,
      "outputs": []
    },
    {
      "cell_type": "markdown",
      "source": [
        "##Importando o dataset:"
      ],
      "metadata": {
        "id": "Bix_Y6OqVhyI"
      }
    },
    {
      "cell_type": "code",
      "source": [
        "df = df_final.copy()"
      ],
      "metadata": {
        "id": "T16yI_eFYGVN"
      },
      "execution_count": 157,
      "outputs": []
    },
    {
      "cell_type": "markdown",
      "source": [
        "##Quais colunas nos interessam?"
      ],
      "metadata": {
        "id": "lqfSDiaUdZFm"
      }
    },
    {
      "cell_type": "code",
      "source": [
        "df.columns"
      ],
      "metadata": {
        "id": "ko1W-gMhaINi",
        "colab": {
          "base_uri": "https://localhost:8080/"
        },
        "outputId": "298a42cb-d463-44f8-9431-00b956de92f0"
      },
      "execution_count": 158,
      "outputs": [
        {
          "output_type": "execute_result",
          "data": {
            "text/plain": [
              "Index(['NFT', 'Floor Price', '24h(%)', 'Market Cap', '24h Volume', 'Owners',\n",
              "       '24h Owners', 'Total Assets'],\n",
              "      dtype='object')"
            ]
          },
          "metadata": {},
          "execution_count": 158
        }
      ]
    },
    {
      "cell_type": "code",
      "source": [
        "df.info()"
      ],
      "metadata": {
        "id": "iRQ9IqKJdbpC",
        "colab": {
          "base_uri": "https://localhost:8080/"
        },
        "outputId": "e2b5c80b-6830-445b-ccc0-eb49a5844970"
      },
      "execution_count": 159,
      "outputs": [
        {
          "output_type": "stream",
          "name": "stdout",
          "text": [
            "<class 'pandas.core.frame.DataFrame'>\n",
            "RangeIndex: 125 entries, 0 to 124\n",
            "Data columns (total 8 columns):\n",
            " #   Column        Non-Null Count  Dtype  \n",
            "---  ------        --------------  -----  \n",
            " 0   NFT           125 non-null    object \n",
            " 1   Floor Price   125 non-null    float64\n",
            " 2   24h(%)        125 non-null    float64\n",
            " 3   Market Cap    125 non-null    object \n",
            " 4   24h Volume    125 non-null    object \n",
            " 5   Owners        125 non-null    float64\n",
            " 6   24h Owners    125 non-null    object \n",
            " 7   Total Assets  125 non-null    float64\n",
            "dtypes: float64(4), object(4)\n",
            "memory usage: 7.9+ KB\n"
          ]
        }
      ]
    },
    {
      "cell_type": "code",
      "source": [
        "df.head()"
      ],
      "metadata": {
        "id": "PP16xP7Pe1fP",
        "colab": {
          "base_uri": "https://localhost:8080/",
          "height": 206
        },
        "outputId": "9d5345b4-5eea-40eb-de2a-9b79612ee005"
      },
      "execution_count": 226,
      "outputs": [
        {
          "output_type": "execute_result",
          "data": {
            "text/html": [
              "\n",
              "  <div id=\"df-52d6cab3-be9f-490e-99d3-dd8179d3d543\">\n",
              "    <div class=\"colab-df-container\">\n",
              "      <div>\n",
              "<style scoped>\n",
              "    .dataframe tbody tr th:only-of-type {\n",
              "        vertical-align: middle;\n",
              "    }\n",
              "\n",
              "    .dataframe tbody tr th {\n",
              "        vertical-align: top;\n",
              "    }\n",
              "\n",
              "    .dataframe thead th {\n",
              "        text-align: right;\n",
              "    }\n",
              "</style>\n",
              "<table border=\"1\" class=\"dataframe\">\n",
              "  <thead>\n",
              "    <tr style=\"text-align: right;\">\n",
              "      <th></th>\n",
              "      <th>NFT</th>\n",
              "      <th>Floor Price</th>\n",
              "      <th>24h(%)</th>\n",
              "      <th>Market Cap</th>\n",
              "      <th>24h Volume</th>\n",
              "      <th>Owners</th>\n",
              "      <th>24h Owners</th>\n",
              "      <th>Total Assets</th>\n",
              "      <th>Owner Ratio</th>\n",
              "    </tr>\n",
              "  </thead>\n",
              "  <tbody>\n",
              "    <tr>\n",
              "      <th>0</th>\n",
              "      <td>dotdotdots</td>\n",
              "      <td>0.198</td>\n",
              "      <td>27.6</td>\n",
              "      <td>964.26</td>\n",
              "      <td>6349.59</td>\n",
              "      <td>2647.0</td>\n",
              "      <td>0.1</td>\n",
              "      <td>4870.0</td>\n",
              "      <td>54.353183</td>\n",
              "    </tr>\n",
              "    <tr>\n",
              "      <th>1</th>\n",
              "      <td>Azuki</td>\n",
              "      <td>11.050</td>\n",
              "      <td>14.1</td>\n",
              "      <td>110488.95</td>\n",
              "      <td>1404.14</td>\n",
              "      <td>5404.0</td>\n",
              "      <td>-0.2</td>\n",
              "      <td>9999.0</td>\n",
              "      <td>54.045405</td>\n",
              "    </tr>\n",
              "    <tr>\n",
              "      <th>2</th>\n",
              "      <td>LAND</td>\n",
              "      <td>3.698</td>\n",
              "      <td>3.1</td>\n",
              "      <td>520996.43</td>\n",
              "      <td>1373.18</td>\n",
              "      <td>19620.0</td>\n",
              "      <td>2.0</td>\n",
              "      <td>140886.0</td>\n",
              "      <td>13.926153</td>\n",
              "    </tr>\n",
              "    <tr>\n",
              "      <th>3</th>\n",
              "      <td>Bored Ape Yacht Club</td>\n",
              "      <td>91.000</td>\n",
              "      <td>1.9</td>\n",
              "      <td>909909.0</td>\n",
              "      <td>1364.87</td>\n",
              "      <td>6314.0</td>\n",
              "      <td>-0.0</td>\n",
              "      <td>9999.0</td>\n",
              "      <td>63.146315</td>\n",
              "    </tr>\n",
              "    <tr>\n",
              "      <th>4</th>\n",
              "      <td>CloneX</td>\n",
              "      <td>14.700</td>\n",
              "      <td>11.6</td>\n",
              "      <td>276859.8</td>\n",
              "      <td>1122.92</td>\n",
              "      <td>8223.0</td>\n",
              "      <td>0.3</td>\n",
              "      <td>18834.0</td>\n",
              "      <td>43.660401</td>\n",
              "    </tr>\n",
              "  </tbody>\n",
              "</table>\n",
              "</div>\n",
              "      <button class=\"colab-df-convert\" onclick=\"convertToInteractive('df-52d6cab3-be9f-490e-99d3-dd8179d3d543')\"\n",
              "              title=\"Convert this dataframe to an interactive table.\"\n",
              "              style=\"display:none;\">\n",
              "        \n",
              "  <svg xmlns=\"http://www.w3.org/2000/svg\" height=\"24px\"viewBox=\"0 0 24 24\"\n",
              "       width=\"24px\">\n",
              "    <path d=\"M0 0h24v24H0V0z\" fill=\"none\"/>\n",
              "    <path d=\"M18.56 5.44l.94 2.06.94-2.06 2.06-.94-2.06-.94-.94-2.06-.94 2.06-2.06.94zm-11 1L8.5 8.5l.94-2.06 2.06-.94-2.06-.94L8.5 2.5l-.94 2.06-2.06.94zm10 10l.94 2.06.94-2.06 2.06-.94-2.06-.94-.94-2.06-.94 2.06-2.06.94z\"/><path d=\"M17.41 7.96l-1.37-1.37c-.4-.4-.92-.59-1.43-.59-.52 0-1.04.2-1.43.59L10.3 9.45l-7.72 7.72c-.78.78-.78 2.05 0 2.83L4 21.41c.39.39.9.59 1.41.59.51 0 1.02-.2 1.41-.59l7.78-7.78 2.81-2.81c.8-.78.8-2.07 0-2.86zM5.41 20L4 18.59l7.72-7.72 1.47 1.35L5.41 20z\"/>\n",
              "  </svg>\n",
              "      </button>\n",
              "      \n",
              "  <style>\n",
              "    .colab-df-container {\n",
              "      display:flex;\n",
              "      flex-wrap:wrap;\n",
              "      gap: 12px;\n",
              "    }\n",
              "\n",
              "    .colab-df-convert {\n",
              "      background-color: #E8F0FE;\n",
              "      border: none;\n",
              "      border-radius: 50%;\n",
              "      cursor: pointer;\n",
              "      display: none;\n",
              "      fill: #1967D2;\n",
              "      height: 32px;\n",
              "      padding: 0 0 0 0;\n",
              "      width: 32px;\n",
              "    }\n",
              "\n",
              "    .colab-df-convert:hover {\n",
              "      background-color: #E2EBFA;\n",
              "      box-shadow: 0px 1px 2px rgba(60, 64, 67, 0.3), 0px 1px 3px 1px rgba(60, 64, 67, 0.15);\n",
              "      fill: #174EA6;\n",
              "    }\n",
              "\n",
              "    [theme=dark] .colab-df-convert {\n",
              "      background-color: #3B4455;\n",
              "      fill: #D2E3FC;\n",
              "    }\n",
              "\n",
              "    [theme=dark] .colab-df-convert:hover {\n",
              "      background-color: #434B5C;\n",
              "      box-shadow: 0px 1px 3px 1px rgba(0, 0, 0, 0.15);\n",
              "      filter: drop-shadow(0px 1px 2px rgba(0, 0, 0, 0.3));\n",
              "      fill: #FFFFFF;\n",
              "    }\n",
              "  </style>\n",
              "\n",
              "      <script>\n",
              "        const buttonEl =\n",
              "          document.querySelector('#df-52d6cab3-be9f-490e-99d3-dd8179d3d543 button.colab-df-convert');\n",
              "        buttonEl.style.display =\n",
              "          google.colab.kernel.accessAllowed ? 'block' : 'none';\n",
              "\n",
              "        async function convertToInteractive(key) {\n",
              "          const element = document.querySelector('#df-52d6cab3-be9f-490e-99d3-dd8179d3d543');\n",
              "          const dataTable =\n",
              "            await google.colab.kernel.invokeFunction('convertToInteractive',\n",
              "                                                     [key], {});\n",
              "          if (!dataTable) return;\n",
              "\n",
              "          const docLinkHtml = 'Like what you see? Visit the ' +\n",
              "            '<a target=\"_blank\" href=https://colab.research.google.com/notebooks/data_table.ipynb>data table notebook</a>'\n",
              "            + ' to learn more about interactive tables.';\n",
              "          element.innerHTML = '';\n",
              "          dataTable['output_type'] = 'display_data';\n",
              "          await google.colab.output.renderOutput(dataTable, element);\n",
              "          const docLink = document.createElement('div');\n",
              "          docLink.innerHTML = docLinkHtml;\n",
              "          element.appendChild(docLink);\n",
              "        }\n",
              "      </script>\n",
              "    </div>\n",
              "  </div>\n",
              "  "
            ],
            "text/plain": [
              "                    NFT  Floor Price  ...  Total Assets Owner Ratio\n",
              "0            dotdotdots        0.198  ...        4870.0   54.353183\n",
              "1                 Azuki       11.050  ...        9999.0   54.045405\n",
              "2                  LAND        3.698  ...      140886.0   13.926153\n",
              "3  Bored Ape Yacht Club       91.000  ...        9999.0   63.146315\n",
              "4                CloneX       14.700  ...       18834.0   43.660401\n",
              "\n",
              "[5 rows x 9 columns]"
            ]
          },
          "metadata": {},
          "execution_count": 226
        }
      ]
    },
    {
      "cell_type": "code",
      "source": [
        "df.tail()"
      ],
      "metadata": {
        "colab": {
          "base_uri": "https://localhost:8080/",
          "height": 206
        },
        "id": "R_wmETqXadqs",
        "outputId": "7d36dd35-bd43-469a-ffe6-cbadf92ae9a4"
      },
      "execution_count": 227,
      "outputs": [
        {
          "output_type": "execute_result",
          "data": {
            "text/html": [
              "\n",
              "  <div id=\"df-ea3e8ee1-c738-47e0-8cf5-7408c1657215\">\n",
              "    <div class=\"colab-df-container\">\n",
              "      <div>\n",
              "<style scoped>\n",
              "    .dataframe tbody tr th:only-of-type {\n",
              "        vertical-align: middle;\n",
              "    }\n",
              "\n",
              "    .dataframe tbody tr th {\n",
              "        vertical-align: top;\n",
              "    }\n",
              "\n",
              "    .dataframe thead th {\n",
              "        text-align: right;\n",
              "    }\n",
              "</style>\n",
              "<table border=\"1\" class=\"dataframe\">\n",
              "  <thead>\n",
              "    <tr style=\"text-align: right;\">\n",
              "      <th></th>\n",
              "      <th>NFT</th>\n",
              "      <th>Floor Price</th>\n",
              "      <th>24h(%)</th>\n",
              "      <th>Market Cap</th>\n",
              "      <th>24h Volume</th>\n",
              "      <th>Owners</th>\n",
              "      <th>24h Owners</th>\n",
              "      <th>Total Assets</th>\n",
              "      <th>Owner Ratio</th>\n",
              "    </tr>\n",
              "  </thead>\n",
              "  <tbody>\n",
              "    <tr>\n",
              "      <th>120</th>\n",
              "      <td>COVIDPunks</td>\n",
              "      <td>0.009</td>\n",
              "      <td>-64.2</td>\n",
              "      <td>2.74</td>\n",
              "      <td>0.03</td>\n",
              "      <td>189.0</td>\n",
              "      <td>0.0</td>\n",
              "      <td>305.0</td>\n",
              "      <td>61.967213</td>\n",
              "    </tr>\n",
              "    <tr>\n",
              "      <th>121</th>\n",
              "      <td>Bored Ape Comic</td>\n",
              "      <td>0.028</td>\n",
              "      <td>-6.6</td>\n",
              "      <td>279.97</td>\n",
              "      <td>0.03</td>\n",
              "      <td>2708.0</td>\n",
              "      <td>0.1</td>\n",
              "      <td>9999.0</td>\n",
              "      <td>27.082708</td>\n",
              "    </tr>\n",
              "    <tr>\n",
              "      <th>122</th>\n",
              "      <td>MondrianNFT</td>\n",
              "      <td>0.010</td>\n",
              "      <td>-13.8</td>\n",
              "      <td>40.96</td>\n",
              "      <td>0.02</td>\n",
              "      <td>1840.0</td>\n",
              "      <td>0.2</td>\n",
              "      <td>4096.0</td>\n",
              "      <td>44.921875</td>\n",
              "    </tr>\n",
              "    <tr>\n",
              "      <th>123</th>\n",
              "      <td>Spookies</td>\n",
              "      <td>0.010</td>\n",
              "      <td>3.4</td>\n",
              "      <td>88.88</td>\n",
              "      <td>0.02</td>\n",
              "      <td>2676.0</td>\n",
              "      <td>0.0</td>\n",
              "      <td>8888.0</td>\n",
              "      <td>30.108011</td>\n",
              "    </tr>\n",
              "    <tr>\n",
              "      <th>124</th>\n",
              "      <td>Passive Apes</td>\n",
              "      <td>0.001</td>\n",
              "      <td>904.0</td>\n",
              "      <td>4.5</td>\n",
              "      <td>0.0</td>\n",
              "      <td>1239.0</td>\n",
              "      <td>0.1</td>\n",
              "      <td>4500.0</td>\n",
              "      <td>27.533333</td>\n",
              "    </tr>\n",
              "  </tbody>\n",
              "</table>\n",
              "</div>\n",
              "      <button class=\"colab-df-convert\" onclick=\"convertToInteractive('df-ea3e8ee1-c738-47e0-8cf5-7408c1657215')\"\n",
              "              title=\"Convert this dataframe to an interactive table.\"\n",
              "              style=\"display:none;\">\n",
              "        \n",
              "  <svg xmlns=\"http://www.w3.org/2000/svg\" height=\"24px\"viewBox=\"0 0 24 24\"\n",
              "       width=\"24px\">\n",
              "    <path d=\"M0 0h24v24H0V0z\" fill=\"none\"/>\n",
              "    <path d=\"M18.56 5.44l.94 2.06.94-2.06 2.06-.94-2.06-.94-.94-2.06-.94 2.06-2.06.94zm-11 1L8.5 8.5l.94-2.06 2.06-.94-2.06-.94L8.5 2.5l-.94 2.06-2.06.94zm10 10l.94 2.06.94-2.06 2.06-.94-2.06-.94-.94-2.06-.94 2.06-2.06.94z\"/><path d=\"M17.41 7.96l-1.37-1.37c-.4-.4-.92-.59-1.43-.59-.52 0-1.04.2-1.43.59L10.3 9.45l-7.72 7.72c-.78.78-.78 2.05 0 2.83L4 21.41c.39.39.9.59 1.41.59.51 0 1.02-.2 1.41-.59l7.78-7.78 2.81-2.81c.8-.78.8-2.07 0-2.86zM5.41 20L4 18.59l7.72-7.72 1.47 1.35L5.41 20z\"/>\n",
              "  </svg>\n",
              "      </button>\n",
              "      \n",
              "  <style>\n",
              "    .colab-df-container {\n",
              "      display:flex;\n",
              "      flex-wrap:wrap;\n",
              "      gap: 12px;\n",
              "    }\n",
              "\n",
              "    .colab-df-convert {\n",
              "      background-color: #E8F0FE;\n",
              "      border: none;\n",
              "      border-radius: 50%;\n",
              "      cursor: pointer;\n",
              "      display: none;\n",
              "      fill: #1967D2;\n",
              "      height: 32px;\n",
              "      padding: 0 0 0 0;\n",
              "      width: 32px;\n",
              "    }\n",
              "\n",
              "    .colab-df-convert:hover {\n",
              "      background-color: #E2EBFA;\n",
              "      box-shadow: 0px 1px 2px rgba(60, 64, 67, 0.3), 0px 1px 3px 1px rgba(60, 64, 67, 0.15);\n",
              "      fill: #174EA6;\n",
              "    }\n",
              "\n",
              "    [theme=dark] .colab-df-convert {\n",
              "      background-color: #3B4455;\n",
              "      fill: #D2E3FC;\n",
              "    }\n",
              "\n",
              "    [theme=dark] .colab-df-convert:hover {\n",
              "      background-color: #434B5C;\n",
              "      box-shadow: 0px 1px 3px 1px rgba(0, 0, 0, 0.15);\n",
              "      filter: drop-shadow(0px 1px 2px rgba(0, 0, 0, 0.3));\n",
              "      fill: #FFFFFF;\n",
              "    }\n",
              "  </style>\n",
              "\n",
              "      <script>\n",
              "        const buttonEl =\n",
              "          document.querySelector('#df-ea3e8ee1-c738-47e0-8cf5-7408c1657215 button.colab-df-convert');\n",
              "        buttonEl.style.display =\n",
              "          google.colab.kernel.accessAllowed ? 'block' : 'none';\n",
              "\n",
              "        async function convertToInteractive(key) {\n",
              "          const element = document.querySelector('#df-ea3e8ee1-c738-47e0-8cf5-7408c1657215');\n",
              "          const dataTable =\n",
              "            await google.colab.kernel.invokeFunction('convertToInteractive',\n",
              "                                                     [key], {});\n",
              "          if (!dataTable) return;\n",
              "\n",
              "          const docLinkHtml = 'Like what you see? Visit the ' +\n",
              "            '<a target=\"_blank\" href=https://colab.research.google.com/notebooks/data_table.ipynb>data table notebook</a>'\n",
              "            + ' to learn more about interactive tables.';\n",
              "          element.innerHTML = '';\n",
              "          dataTable['output_type'] = 'display_data';\n",
              "          await google.colab.output.renderOutput(dataTable, element);\n",
              "          const docLink = document.createElement('div');\n",
              "          docLink.innerHTML = docLinkHtml;\n",
              "          element.appendChild(docLink);\n",
              "        }\n",
              "      </script>\n",
              "    </div>\n",
              "  </div>\n",
              "  "
            ],
            "text/plain": [
              "                 NFT  Floor Price  24h(%)  ... 24h Owners Total Assets  Owner Ratio\n",
              "120       COVIDPunks        0.009   -64.2  ...        0.0        305.0    61.967213\n",
              "121  Bored Ape Comic        0.028    -6.6  ...        0.1       9999.0    27.082708\n",
              "122      MondrianNFT        0.010   -13.8  ...        0.2       4096.0    44.921875\n",
              "123         Spookies        0.010     3.4  ...        0.0       8888.0    30.108011\n",
              "124     Passive Apes        0.001   904.0  ...        0.1       4500.0    27.533333\n",
              "\n",
              "[5 rows x 9 columns]"
            ]
          },
          "metadata": {},
          "execution_count": 227
        }
      ]
    },
    {
      "cell_type": "markdown",
      "source": [
        ""
      ],
      "metadata": {
        "id": "xm4mYGYu3NCO"
      }
    },
    {
      "cell_type": "markdown",
      "source": [
        "##Análise de cada coluna:"
      ],
      "metadata": {
        "id": "ROnLSA7pe1xU"
      }
    },
    {
      "cell_type": "markdown",
      "source": [
        "###Floor Price:"
      ],
      "metadata": {
        "id": "0eq6pKY9xCIi"
      }
    },
    {
      "cell_type": "code",
      "source": [
        "df['Floor Price']"
      ],
      "metadata": {
        "id": "lyENhLtXftrB",
        "colab": {
          "base_uri": "https://localhost:8080/"
        },
        "outputId": "e586c07a-e94b-41ff-d947-8c7e8be91639"
      },
      "execution_count": 162,
      "outputs": [
        {
          "output_type": "execute_result",
          "data": {
            "text/plain": [
              "0       0.198\n",
              "1      11.050\n",
              "2       3.698\n",
              "3      91.000\n",
              "4      14.700\n",
              "        ...  \n",
              "120     0.009\n",
              "121     0.028\n",
              "122     0.010\n",
              "123     0.010\n",
              "124     0.001\n",
              "Name: Floor Price, Length: 125, dtype: float64"
            ]
          },
          "metadata": {},
          "execution_count": 162
        }
      ]
    },
    {
      "cell_type": "code",
      "source": [
        "df['Floor Price'].describe()"
      ],
      "metadata": {
        "id": "CCa6ox0jftth",
        "colab": {
          "base_uri": "https://localhost:8080/"
        },
        "outputId": "c6bb297b-90b1-458c-e12f-26c03b846690"
      },
      "execution_count": 163,
      "outputs": [
        {
          "output_type": "execute_result",
          "data": {
            "text/plain": [
              "count    125.000000\n",
              "mean       2.608534\n",
              "std        8.971495\n",
              "min        0.001000\n",
              "25%        0.075000\n",
              "50%        0.269000\n",
              "75%        1.450000\n",
              "max       91.000000\n",
              "Name: Floor Price, dtype: float64"
            ]
          },
          "metadata": {},
          "execution_count": 163
        }
      ]
    },
    {
      "cell_type": "code",
      "source": [
        "df2 = df[df['Floor Price'] < 80]"
      ],
      "metadata": {
        "id": "cZXd5RYYvKXV"
      },
      "execution_count": 205,
      "outputs": []
    },
    {
      "cell_type": "code",
      "source": [
        "df2['Floor Price'].describe()"
      ],
      "metadata": {
        "colab": {
          "base_uri": "https://localhost:8080/"
        },
        "id": "5SvpGn46vbZY",
        "outputId": "ed743403-1f6e-4d5a-d19e-d6faab36d0c2"
      },
      "execution_count": 208,
      "outputs": [
        {
          "output_type": "execute_result",
          "data": {
            "text/plain": [
              "count    124.000000\n",
              "mean       1.895699\n",
              "std        4.136313\n",
              "min        0.001000\n",
              "25%        0.073750\n",
              "50%        0.268400\n",
              "75%        1.412500\n",
              "max       25.000000\n",
              "Name: Floor Price, dtype: float64"
            ]
          },
          "metadata": {},
          "execution_count": 208
        }
      ]
    },
    {
      "cell_type": "code",
      "source": [
        "plt.figure(figsize=(12,6))\n",
        "df2.boxplot('Floor Price')\n",
        "plt.show()"
      ],
      "metadata": {
        "id": "keXhXAx8ftv8",
        "colab": {
          "base_uri": "https://localhost:8080/",
          "height": 374
        },
        "outputId": "227665cc-ff2f-48c4-c829-8b37d2ae725f"
      },
      "execution_count": 206,
      "outputs": [
        {
          "output_type": "display_data",
          "data": {
            "image/png": "[encoded data removed]",
            "text/plain": [
              "<Figure size 864x432 with 1 Axes>"
            ]
          },
          "metadata": {
            "needs_background": "light"
          }
        }
      ]
    },
    {
      "cell_type": "markdown",
      "source": [
        "- Os dados estão concentrados por volta de 0 e 5 ETH. O que nos indica lançamentos baixos, exceto por alguns outliers discrepantes."
      ],
      "metadata": {
        "id": "5Tw1wf1TvjvW"
      }
    },
    {
      "cell_type": "markdown",
      "source": [
        "####Visualização dos dados:"
      ],
      "metadata": {
        "id": "-fb5XnfbviD2"
      }
    },
    {
      "cell_type": "code",
      "source": [
        "plt.figure(figsize=(12,6))\n",
        "sns.distplot(df['Floor Price'], bins=10)"
      ],
      "metadata": {
        "colab": {
          "base_uri": "https://localhost:8080/",
          "height": 460
        },
        "id": "duW9MbToqVvY",
        "outputId": "0a7b8488-e24d-4661-c66c-cc5e457fd345"
      },
      "execution_count": 197,
      "outputs": [
        {
          "output_type": "stream",
          "name": "stderr",
          "text": [
            "/usr/local/lib/python3.7/dist-packages/seaborn/distributions.py:2619: FutureWarning: `distplot` is a deprecated function and will be removed in a future version. Please adapt your code to use either `displot` (a figure-level function with similar flexibility) or `histplot` (an axes-level function for histograms).\n",
            "  warnings.warn(msg, FutureWarning)\n"
          ]
        },
        {
          "output_type": "execute_result",
          "data": {
            "text/plain": [
              "<matplotlib.axes._subplots.AxesSubplot at 0x7f9564130b10>"
            ]
          },
          "metadata": {},
          "execution_count": 197
        },
        {
          "output_type": "display_data",
          "data": {
            "image/png": "[encoded data removed]",
            "text/plain": [
              "<Figure size 864x432 with 1 Axes>"
            ]
          },
          "metadata": {
            "needs_background": "light"
          }
        }
      ]
    },
    {
      "cell_type": "code",
      "source": [
        "plt.figure(figsize=(12,8))\n",
        "sns.kdeplot(df['Floor Price'])\n",
        "sns.rugplot(df['Floor Price'])"
      ],
      "metadata": {
        "colab": {
          "base_uri": "https://localhost:8080/",
          "height": 514
        },
        "id": "UYRCxJhnrH80",
        "outputId": "b64bd98c-46c2-4d58-ba3a-e06a1f987e43"
      },
      "execution_count": 200,
      "outputs": [
        {
          "output_type": "execute_result",
          "data": {
            "text/plain": [
              "<matplotlib.axes._subplots.AxesSubplot at 0x7f9564050dd0>"
            ]
          },
          "metadata": {},
          "execution_count": 200
        },
        {
          "output_type": "display_data",
          "data": {
            "image/png": "[encoded data removed]",
            "text/plain": [
              "<Figure size 864x576 with 1 Axes>"
            ]
          },
          "metadata": {
            "needs_background": "light"
          }
        }
      ]
    },
    {
      "cell_type": "code",
      "source": [
        "plt.figure(figsize=(12,8))\n",
        "sns.scatterplot(data=df['Floor Price'])"
      ],
      "metadata": {
        "colab": {
          "base_uri": "https://localhost:8080/",
          "height": 500
        },
        "id": "SoUCTB1Rr_gE",
        "outputId": "44ddd9fb-d850-4c91-f448-f1d43c475b2a"
      },
      "execution_count": 201,
      "outputs": [
        {
          "output_type": "execute_result",
          "data": {
            "text/plain": [
              "<matplotlib.axes._subplots.AxesSubplot at 0x7f9563f63f10>"
            ]
          },
          "metadata": {},
          "execution_count": 201
        },
        {
          "output_type": "display_data",
          "data": {
            "image/png": "[encoded data removed]",
            "text/plain": [
              "<Figure size 864x576 with 1 Axes>"
            ]
          },
          "metadata": {
            "needs_background": "light"
          }
        }
      ]
    },
    {
      "cell_type": "markdown",
      "source": [
        "- As visualizações ajudam a gente perceber a distribuição concentrada entre 0 e 5 ETH. Lembrando que 1 ETH, atualmente (10/02/2022) está por volta de $3.000,00. O Floor Price é o valor mais baixo para alguém ser participante de um projeto NFT. Considerando que são os projetos mais valorizados, é natural que esses projetos tenham floor prices altos."
      ],
      "metadata": {
        "id": "R9rPzcHBwlDd"
      }
    },
    {
      "cell_type": "markdown",
      "source": [
        "###"
      ],
      "metadata": {
        "id": "aKueE3le3DYg"
      }
    },
    {
      "cell_type": "markdown",
      "source": [
        "###Variação nas últimas 24 horas:"
      ],
      "metadata": {
        "id": "kOqfOjfnzAsx"
      }
    },
    {
      "cell_type": "markdown",
      "source": [
        "- Essa coluna não nos informa muito sobre o dataset de um modo geral, visto que para termos uma informação de qualidade, sempre terá de ser dinâmica a relação mética fornecida nessa coluna, por isso as informações de estatística descritiva serão suficiente"
      ],
      "metadata": {
        "id": "FGFX790pzGOl"
      }
    },
    {
      "cell_type": "code",
      "source": [
        "df['24h(%)'].describe()"
      ],
      "metadata": {
        "colab": {
          "base_uri": "https://localhost:8080/"
        },
        "id": "NEcY_WbVzROy",
        "outputId": "ec0313ac-c2b8-4472-a553-b7245c899541"
      },
      "execution_count": 210,
      "outputs": [
        {
          "output_type": "execute_result",
          "data": {
            "text/plain": [
              "count    125.000000\n",
              "mean       5.849600\n",
              "std       82.969429\n",
              "min      -64.200000\n",
              "25%       -7.600000\n",
              "50%       -0.200000\n",
              "75%        3.700000\n",
              "max      904.000000\n",
              "Name: 24h(%), dtype: float64"
            ]
          },
          "metadata": {},
          "execution_count": 210
        }
      ]
    },
    {
      "cell_type": "code",
      "source": [
        "df[df['24h(%)'] == 904]"
      ],
      "metadata": {
        "colab": {
          "base_uri": "https://localhost:8080/",
          "height": 81
        },
        "id": "cnGI1w9-zZDF",
        "outputId": "42b06e06-7d41-4082-cf2a-fe00b6bd99aa"
      },
      "execution_count": 213,
      "outputs": [
        {
          "output_type": "execute_result",
          "data": {
            "text/html": [
              "\n",
              "  <div id=\"df-b0e69b57-edba-49d5-ba28-445340cb5ea0\">\n",
              "    <div class=\"colab-df-container\">\n",
              "      <div>\n",
              "<style scoped>\n",
              "    .dataframe tbody tr th:only-of-type {\n",
              "        vertical-align: middle;\n",
              "    }\n",
              "\n",
              "    .dataframe tbody tr th {\n",
              "        vertical-align: top;\n",
              "    }\n",
              "\n",
              "    .dataframe thead th {\n",
              "        text-align: right;\n",
              "    }\n",
              "</style>\n",
              "<table border=\"1\" class=\"dataframe\">\n",
              "  <thead>\n",
              "    <tr style=\"text-align: right;\">\n",
              "      <th></th>\n",
              "      <th>NFT</th>\n",
              "      <th>Floor Price</th>\n",
              "      <th>24h(%)</th>\n",
              "      <th>Market Cap</th>\n",
              "      <th>24h Volume</th>\n",
              "      <th>Owners</th>\n",
              "      <th>24h Owners</th>\n",
              "      <th>Total Assets</th>\n",
              "      <th>Owner Ratio</th>\n",
              "    </tr>\n",
              "  </thead>\n",
              "  <tbody>\n",
              "    <tr>\n",
              "      <th>124</th>\n",
              "      <td>Passive Apes</td>\n",
              "      <td>0.001</td>\n",
              "      <td>904.0</td>\n",
              "      <td>4.5</td>\n",
              "      <td>0.0</td>\n",
              "      <td>1239.0</td>\n",
              "      <td>0.1</td>\n",
              "      <td>4500.0</td>\n",
              "      <td>27.533333</td>\n",
              "    </tr>\n",
              "  </tbody>\n",
              "</table>\n",
              "</div>\n",
              "      <button class=\"colab-df-convert\" onclick=\"convertToInteractive('df-b0e69b57-edba-49d5-ba28-445340cb5ea0')\"\n",
              "              title=\"Convert this dataframe to an interactive table.\"\n",
              "              style=\"display:none;\">\n",
              "        \n",
              "  <svg xmlns=\"http://www.w3.org/2000/svg\" height=\"24px\"viewBox=\"0 0 24 24\"\n",
              "       width=\"24px\">\n",
              "    <path d=\"M0 0h24v24H0V0z\" fill=\"none\"/>\n",
              "    <path d=\"M18.56 5.44l.94 2.06.94-2.06 2.06-.94-2.06-.94-.94-2.06-.94 2.06-2.06.94zm-11 1L8.5 8.5l.94-2.06 2.06-.94-2.06-.94L8.5 2.5l-.94 2.06-2.06.94zm10 10l.94 2.06.94-2.06 2.06-.94-2.06-.94-.94-2.06-.94 2.06-2.06.94z\"/><path d=\"M17.41 7.96l-1.37-1.37c-.4-.4-.92-.59-1.43-.59-.52 0-1.04.2-1.43.59L10.3 9.45l-7.72 7.72c-.78.78-.78 2.05 0 2.83L4 21.41c.39.39.9.59 1.41.59.51 0 1.02-.2 1.41-.59l7.78-7.78 2.81-2.81c.8-.78.8-2.07 0-2.86zM5.41 20L4 18.59l7.72-7.72 1.47 1.35L5.41 20z\"/>\n",
              "  </svg>\n",
              "      </button>\n",
              "      \n",
              "  <style>\n",
              "    .colab-df-container {\n",
              "      display:flex;\n",
              "      flex-wrap:wrap;\n",
              "      gap: 12px;\n",
              "    }\n",
              "\n",
              "    .colab-df-convert {\n",
              "      background-color: #E8F0FE;\n",
              "      border: none;\n",
              "      border-radius: 50%;\n",
              "      cursor: pointer;\n",
              "      display: none;\n",
              "      fill: #1967D2;\n",
              "      height: 32px;\n",
              "      padding: 0 0 0 0;\n",
              "      width: 32px;\n",
              "    }\n",
              "\n",
              "    .colab-df-convert:hover {\n",
              "      background-color: #E2EBFA;\n",
              "      box-shadow: 0px 1px 2px rgba(60, 64, 67, 0.3), 0px 1px 3px 1px rgba(60, 64, 67, 0.15);\n",
              "      fill: #174EA6;\n",
              "    }\n",
              "\n",
              "    [theme=dark] .colab-df-convert {\n",
              "      background-color: #3B4455;\n",
              "      fill: #D2E3FC;\n",
              "    }\n",
              "\n",
              "    [theme=dark] .colab-df-convert:hover {\n",
              "      background-color: #434B5C;\n",
              "      box-shadow: 0px 1px 3px 1px rgba(0, 0, 0, 0.15);\n",
              "      filter: drop-shadow(0px 1px 2px rgba(0, 0, 0, 0.3));\n",
              "      fill: #FFFFFF;\n",
              "    }\n",
              "  </style>\n",
              "\n",
              "      <script>\n",
              "        const buttonEl =\n",
              "          document.querySelector('#df-b0e69b57-edba-49d5-ba28-445340cb5ea0 button.colab-df-convert');\n",
              "        buttonEl.style.display =\n",
              "          google.colab.kernel.accessAllowed ? 'block' : 'none';\n",
              "\n",
              "        async function convertToInteractive(key) {\n",
              "          const element = document.querySelector('#df-b0e69b57-edba-49d5-ba28-445340cb5ea0');\n",
              "          const dataTable =\n",
              "            await google.colab.kernel.invokeFunction('convertToInteractive',\n",
              "                                                     [key], {});\n",
              "          if (!dataTable) return;\n",
              "\n",
              "          const docLinkHtml = 'Like what you see? Visit the ' +\n",
              "            '<a target=\"_blank\" href=https://colab.research.google.com/notebooks/data_table.ipynb>data table notebook</a>'\n",
              "            + ' to learn more about interactive tables.';\n",
              "          element.innerHTML = '';\n",
              "          dataTable['output_type'] = 'display_data';\n",
              "          await google.colab.output.renderOutput(dataTable, element);\n",
              "          const docLink = document.createElement('div');\n",
              "          docLink.innerHTML = docLinkHtml;\n",
              "          element.appendChild(docLink);\n",
              "        }\n",
              "      </script>\n",
              "    </div>\n",
              "  </div>\n",
              "  "
            ],
            "text/plain": [
              "              NFT  Floor Price  24h(%)  ... 24h Owners Total Assets  Owner Ratio\n",
              "124  Passive Apes        0.001   904.0  ...        0.1       4500.0    27.533333\n",
              "\n",
              "[1 rows x 9 columns]"
            ]
          },
          "metadata": {},
          "execution_count": 213
        }
      ]
    },
    {
      "cell_type": "markdown",
      "source": [
        "- É possível sabermos os NFTs que tem um crescimento nas últimas 24 horas acima da média:"
      ],
      "metadata": {
        "id": "wPEfFafdzkVp"
      }
    },
    {
      "cell_type": "code",
      "source": [
        "df_mean24h = df[df['24h(%)'] > df['24h(%)'].mean() ]"
      ],
      "metadata": {
        "id": "TsZETMknzjzd"
      },
      "execution_count": 216,
      "outputs": []
    },
    {
      "cell_type": "code",
      "source": [
        "df_mean24h.describe()"
      ],
      "metadata": {
        "colab": {
          "base_uri": "https://localhost:8080/",
          "height": 300
        },
        "id": "wsTBz0uwz2RE",
        "outputId": "a3837fca-ed54-4841-c46d-f3815d054a82"
      },
      "execution_count": 217,
      "outputs": [
        {
          "output_type": "execute_result",
          "data": {
            "text/html": [
              "\n",
              "  <div id=\"df-0b3534cd-9c2c-4213-92d9-199735fc0377\">\n",
              "    <div class=\"colab-df-container\">\n",
              "      <div>\n",
              "<style scoped>\n",
              "    .dataframe tbody tr th:only-of-type {\n",
              "        vertical-align: middle;\n",
              "    }\n",
              "\n",
              "    .dataframe tbody tr th {\n",
              "        vertical-align: top;\n",
              "    }\n",
              "\n",
              "    .dataframe thead th {\n",
              "        text-align: right;\n",
              "    }\n",
              "</style>\n",
              "<table border=\"1\" class=\"dataframe\">\n",
              "  <thead>\n",
              "    <tr style=\"text-align: right;\">\n",
              "      <th></th>\n",
              "      <th>Floor Price</th>\n",
              "      <th>24h(%)</th>\n",
              "      <th>Owners</th>\n",
              "      <th>Total Assets</th>\n",
              "      <th>Owner Ratio</th>\n",
              "    </tr>\n",
              "  </thead>\n",
              "  <tbody>\n",
              "    <tr>\n",
              "      <th>count</th>\n",
              "      <td>25.000000</td>\n",
              "      <td>25.000000</td>\n",
              "      <td>25.00000</td>\n",
              "      <td>25.000000</td>\n",
              "      <td>25.000000</td>\n",
              "    </tr>\n",
              "    <tr>\n",
              "      <th>mean</th>\n",
              "      <td>1.968744</td>\n",
              "      <td>56.348000</td>\n",
              "      <td>3395.48000</td>\n",
              "      <td>9328.560000</td>\n",
              "      <td>39.582017</td>\n",
              "    </tr>\n",
              "    <tr>\n",
              "      <th>std</th>\n",
              "      <td>3.875378</td>\n",
              "      <td>177.599181</td>\n",
              "      <td>2333.45238</td>\n",
              "      <td>6516.283105</td>\n",
              "      <td>15.032374</td>\n",
              "    </tr>\n",
              "    <tr>\n",
              "      <th>min</th>\n",
              "      <td>0.001000</td>\n",
              "      <td>6.400000</td>\n",
              "      <td>352.00000</td>\n",
              "      <td>1234.000000</td>\n",
              "      <td>3.520000</td>\n",
              "    </tr>\n",
              "    <tr>\n",
              "      <th>25%</th>\n",
              "      <td>0.089000</td>\n",
              "      <td>11.600000</td>\n",
              "      <td>1239.00000</td>\n",
              "      <td>4500.000000</td>\n",
              "      <td>34.917397</td>\n",
              "    </tr>\n",
              "    <tr>\n",
              "      <th>50%</th>\n",
              "      <td>0.290000</td>\n",
              "      <td>16.400000</td>\n",
              "      <td>3401.00000</td>\n",
              "      <td>8888.000000</td>\n",
              "      <td>38.460000</td>\n",
              "    </tr>\n",
              "    <tr>\n",
              "      <th>75%</th>\n",
              "      <td>1.200000</td>\n",
              "      <td>27.600000</td>\n",
              "      <td>4955.00000</td>\n",
              "      <td>10000.000000</td>\n",
              "      <td>49.575425</td>\n",
              "    </tr>\n",
              "    <tr>\n",
              "      <th>max</th>\n",
              "      <td>14.700000</td>\n",
              "      <td>904.000000</td>\n",
              "      <td>8729.00000</td>\n",
              "      <td>25455.000000</td>\n",
              "      <td>74.068071</td>\n",
              "    </tr>\n",
              "  </tbody>\n",
              "</table>\n",
              "</div>\n",
              "      <button class=\"colab-df-convert\" onclick=\"convertToInteractive('df-0b3534cd-9c2c-4213-92d9-199735fc0377')\"\n",
              "              title=\"Convert this dataframe to an interactive table.\"\n",
              "              style=\"display:none;\">\n",
              "        \n",
              "  <svg xmlns=\"http://www.w3.org/2000/svg\" height=\"24px\"viewBox=\"0 0 24 24\"\n",
              "       width=\"24px\">\n",
              "    <path d=\"M0 0h24v24H0V0z\" fill=\"none\"/>\n",
              "    <path d=\"M18.56 5.44l.94 2.06.94-2.06 2.06-.94-2.06-.94-.94-2.06-.94 2.06-2.06.94zm-11 1L8.5 8.5l.94-2.06 2.06-.94-2.06-.94L8.5 2.5l-.94 2.06-2.06.94zm10 10l.94 2.06.94-2.06 2.06-.94-2.06-.94-.94-2.06-.94 2.06-2.06.94z\"/><path d=\"M17.41 7.96l-1.37-1.37c-.4-.4-.92-.59-1.43-.59-.52 0-1.04.2-1.43.59L10.3 9.45l-7.72 7.72c-.78.78-.78 2.05 0 2.83L4 21.41c.39.39.9.59 1.41.59.51 0 1.02-.2 1.41-.59l7.78-7.78 2.81-2.81c.8-.78.8-2.07 0-2.86zM5.41 20L4 18.59l7.72-7.72 1.47 1.35L5.41 20z\"/>\n",
              "  </svg>\n",
              "      </button>\n",
              "      \n",
              "  <style>\n",
              "    .colab-df-container {\n",
              "      display:flex;\n",
              "      flex-wrap:wrap;\n",
              "      gap: 12px;\n",
              "    }\n",
              "\n",
              "    .colab-df-convert {\n",
              "      background-color: #E8F0FE;\n",
              "      border: none;\n",
              "      border-radius: 50%;\n",
              "      cursor: pointer;\n",
              "      display: none;\n",
              "      fill: #1967D2;\n",
              "      height: 32px;\n",
              "      padding: 0 0 0 0;\n",
              "      width: 32px;\n",
              "    }\n",
              "\n",
              "    .colab-df-convert:hover {\n",
              "      background-color: #E2EBFA;\n",
              "      box-shadow: 0px 1px 2px rgba(60, 64, 67, 0.3), 0px 1px 3px 1px rgba(60, 64, 67, 0.15);\n",
              "      fill: #174EA6;\n",
              "    }\n",
              "\n",
              "    [theme=dark] .colab-df-convert {\n",
              "      background-color: #3B4455;\n",
              "      fill: #D2E3FC;\n",
              "    }\n",
              "\n",
              "    [theme=dark] .colab-df-convert:hover {\n",
              "      background-color: #434B5C;\n",
              "      box-shadow: 0px 1px 3px 1px rgba(0, 0, 0, 0.15);\n",
              "      filter: drop-shadow(0px 1px 2px rgba(0, 0, 0, 0.3));\n",
              "      fill: #FFFFFF;\n",
              "    }\n",
              "  </style>\n",
              "\n",
              "      <script>\n",
              "        const buttonEl =\n",
              "          document.querySelector('#df-0b3534cd-9c2c-4213-92d9-199735fc0377 button.colab-df-convert');\n",
              "        buttonEl.style.display =\n",
              "          google.colab.kernel.accessAllowed ? 'block' : 'none';\n",
              "\n",
              "        async function convertToInteractive(key) {\n",
              "          const element = document.querySelector('#df-0b3534cd-9c2c-4213-92d9-199735fc0377');\n",
              "          const dataTable =\n",
              "            await google.colab.kernel.invokeFunction('convertToInteractive',\n",
              "                                                     [key], {});\n",
              "          if (!dataTable) return;\n",
              "\n",
              "          const docLinkHtml = 'Like what you see? Visit the ' +\n",
              "            '<a target=\"_blank\" href=https://colab.research.google.com/notebooks/data_table.ipynb>data table notebook</a>'\n",
              "            + ' to learn more about interactive tables.';\n",
              "          element.innerHTML = '';\n",
              "          dataTable['output_type'] = 'display_data';\n",
              "          await google.colab.output.renderOutput(dataTable, element);\n",
              "          const docLink = document.createElement('div');\n",
              "          docLink.innerHTML = docLinkHtml;\n",
              "          element.appendChild(docLink);\n",
              "        }\n",
              "      </script>\n",
              "    </div>\n",
              "  </div>\n",
              "  "
            ],
            "text/plain": [
              "       Floor Price      24h(%)      Owners  Total Assets  Owner Ratio\n",
              "count    25.000000   25.000000    25.00000     25.000000    25.000000\n",
              "mean      1.968744   56.348000  3395.48000   9328.560000    39.582017\n",
              "std       3.875378  177.599181  2333.45238   6516.283105    15.032374\n",
              "min       0.001000    6.400000   352.00000   1234.000000     3.520000\n",
              "25%       0.089000   11.600000  1239.00000   4500.000000    34.917397\n",
              "50%       0.290000   16.400000  3401.00000   8888.000000    38.460000\n",
              "75%       1.200000   27.600000  4955.00000  10000.000000    49.575425\n",
              "max      14.700000  904.000000  8729.00000  25455.000000    74.068071"
            ]
          },
          "metadata": {},
          "execution_count": 217
        }
      ]
    },
    {
      "cell_type": "markdown",
      "source": [
        "Essas informações são bem interessantes, válida para o dia 10/02/2022:\n",
        "- 25 NFTs dos 125 tem crescimento das últimas 24 horas acima da média\n",
        "- 1.96 ETH é a média do Floor Price"
      ],
      "metadata": {
        "id": "YUogrghKz6DA"
      }
    },
    {
      "cell_type": "markdown",
      "source": [
        "####Visualização de dados:"
      ],
      "metadata": {
        "id": "oYN7Zujh1eAf"
      }
    },
    {
      "cell_type": "code",
      "source": [
        "plt.figure(figsize=(12,6))\n",
        "df.boxplot('24h(%)')\n",
        "plt.show()"
      ],
      "metadata": {
        "colab": {
          "base_uri": "https://localhost:8080/",
          "height": 374
        },
        "id": "g6FDFJ2L1f8J",
        "outputId": "9345cca1-72df-44ae-e604-58f5076d87ef"
      },
      "execution_count": 228,
      "outputs": [
        {
          "output_type": "display_data",
          "data": {
            "image/png": "[encoded data removed]",
            "text/plain": [
              "<Figure size 864x432 with 1 Axes>"
            ]
          },
          "metadata": {
            "needs_background": "light"
          }
        }
      ]
    },
    {
      "cell_type": "code",
      "source": [
        "plt.figure(figsize=(12,6))\n",
        "df_mean24h.boxplot('24h(%)')\n",
        "plt.show()"
      ],
      "metadata": {
        "colab": {
          "base_uri": "https://localhost:8080/",
          "height": 374
        },
        "id": "RfvH0-Ku1ptc",
        "outputId": "f8a336cc-3538-4321-9392-cccac9fc47bb"
      },
      "execution_count": 229,
      "outputs": [
        {
          "output_type": "display_data",
          "data": {
            "image/png": "[encoded data removed]",
            "text/plain": [
              "<Figure size 864x432 with 1 Axes>"
            ]
          },
          "metadata": {
            "needs_background": "light"
          }
        }
      ]
    },
    {
      "cell_type": "code",
      "source": [
        "plt.figure(figsize=(12,6))\n",
        "sns.distplot(df_mean24h['24h(%)'], bins=10)"
      ],
      "metadata": {
        "colab": {
          "base_uri": "https://localhost:8080/",
          "height": 460
        },
        "id": "QEGVXaEA1urS",
        "outputId": "9648f6a6-f3eb-4367-d2ed-88596a2364cb"
      },
      "execution_count": 233,
      "outputs": [
        {
          "output_type": "stream",
          "name": "stderr",
          "text": [
            "/usr/local/lib/python3.7/dist-packages/seaborn/distributions.py:2619: FutureWarning: `distplot` is a deprecated function and will be removed in a future version. Please adapt your code to use either `displot` (a figure-level function with similar flexibility) or `histplot` (an axes-level function for histograms).\n",
            "  warnings.warn(msg, FutureWarning)\n"
          ]
        },
        {
          "output_type": "execute_result",
          "data": {
            "text/plain": [
              "<matplotlib.axes._subplots.AxesSubplot at 0x7f95646cc850>"
            ]
          },
          "metadata": {},
          "execution_count": 233
        },
        {
          "output_type": "display_data",
          "data": {
            "image/png": "[encoded data removed]",
            "text/plain": [
              "<Figure size 864x432 with 1 Axes>"
            ]
          },
          "metadata": {
            "needs_background": "light"
          }
        }
      ]
    },
    {
      "cell_type": "code",
      "source": [
        "plt.figure(figsize=(12,8))\n",
        "sns.kdeplot(df_mean24h['24h(%)'])\n",
        "sns.rugplot(df_mean24h['24h(%)'])"
      ],
      "metadata": {
        "colab": {
          "base_uri": "https://localhost:8080/",
          "height": 514
        },
        "id": "h_8gi2--1uuB",
        "outputId": "a7c7504f-7ff4-4d47-dd6c-906a09bf40f2"
      },
      "execution_count": 231,
      "outputs": [
        {
          "output_type": "execute_result",
          "data": {
            "text/plain": [
              "<matplotlib.axes._subplots.AxesSubplot at 0x7f9563ed8590>"
            ]
          },
          "metadata": {},
          "execution_count": 231
        },
        {
          "output_type": "display_data",
          "data": {
            "image/png": "[encoded data removed]",
            "text/plain": [
              "<Figure size 864x576 with 1 Axes>"
            ]
          },
          "metadata": {
            "needs_background": "light"
          }
        }
      ]
    },
    {
      "cell_type": "code",
      "source": [
        "plt.figure(figsize=(12,8))\n",
        "sns.scatterplot(data=df_mean24h['24h(%)'])"
      ],
      "metadata": {
        "colab": {
          "base_uri": "https://localhost:8080/",
          "height": 500
        },
        "id": "DliypXLn1uw4",
        "outputId": "6ca37da7-f84c-43a6-b3ca-8329b46f41b2"
      },
      "execution_count": 232,
      "outputs": [
        {
          "output_type": "execute_result",
          "data": {
            "text/plain": [
              "<matplotlib.axes._subplots.AxesSubplot at 0x7f9563fc9a50>"
            ]
          },
          "metadata": {},
          "execution_count": 232
        },
        {
          "output_type": "display_data",
          "data": {
            "image/png": "[encoded data removed]",
            "text/plain": [
              "<Figure size 864x576 with 1 Axes>"
            ]
          },
          "metadata": {
            "needs_background": "light"
          }
        }
      ]
    },
    {
      "cell_type": "markdown",
      "source": [
        "- O Floor Price desses projetos com crescimento acima da média:"
      ],
      "metadata": {
        "id": "FBj5IBs42dIg"
      }
    },
    {
      "cell_type": "code",
      "source": [
        "plt.figure(figsize=(12,6))\n",
        "sns.distplot(df_mean24h['Floor Price'], bins=10)"
      ],
      "metadata": {
        "colab": {
          "base_uri": "https://localhost:8080/",
          "height": 460
        },
        "id": "9bahSerN2jTd",
        "outputId": "365d3563-0c19-49d4-94b6-8bbd49518d65"
      },
      "execution_count": 234,
      "outputs": [
        {
          "output_type": "stream",
          "name": "stderr",
          "text": [
            "/usr/local/lib/python3.7/dist-packages/seaborn/distributions.py:2619: FutureWarning: `distplot` is a deprecated function and will be removed in a future version. Please adapt your code to use either `displot` (a figure-level function with similar flexibility) or `histplot` (an axes-level function for histograms).\n",
            "  warnings.warn(msg, FutureWarning)\n"
          ]
        },
        {
          "output_type": "execute_result",
          "data": {
            "text/plain": [
              "<matplotlib.axes._subplots.AxesSubplot at 0x7f956cbaf3d0>"
            ]
          },
          "metadata": {},
          "execution_count": 234
        },
        {
          "output_type": "display_data",
          "data": {
            "image/png": "[encoded data removed]",
            "text/plain": [
              "<Figure size 864x432 with 1 Axes>"
            ]
          },
          "metadata": {
            "needs_background": "light"
          }
        }
      ]
    },
    {
      "cell_type": "code",
      "source": [
        "plt.figure(figsize=(12,8))\n",
        "sns.kdeplot(df_mean24h['Floor Price'])\n",
        "sns.rugplot(df_mean24h['Floor Price'])"
      ],
      "metadata": {
        "colab": {
          "base_uri": "https://localhost:8080/",
          "height": 514
        },
        "id": "N3KV2i-_2jdH",
        "outputId": "0016bfb1-62ca-4c2c-d421-02ec568ee2bd"
      },
      "execution_count": 236,
      "outputs": [
        {
          "output_type": "execute_result",
          "data": {
            "text/plain": [
              "<matplotlib.axes._subplots.AxesSubplot at 0x7f9563edf050>"
            ]
          },
          "metadata": {},
          "execution_count": 236
        },
        {
          "output_type": "display_data",
          "data": {
            "image/png": "[encoded data removed]",
            "text/plain": [
              "<Figure size 864x576 with 1 Axes>"
            ]
          },
          "metadata": {
            "needs_background": "light"
          }
        }
      ]
    },
    {
      "cell_type": "markdown",
      "source": [
        ""
      ],
      "metadata": {
        "id": "t1WMH9fO28uW"
      }
    },
    {
      "cell_type": "code",
      "source": [
        ""
      ],
      "metadata": {
        "id": "6iaQaiX428DA"
      },
      "execution_count": null,
      "outputs": []
    },
    {
      "cell_type": "code",
      "source": [
        ""
      ],
      "metadata": {
        "id": "Xrv3gvYY28HN"
      },
      "execution_count": null,
      "outputs": []
    },
    {
      "cell_type": "code",
      "source": [
        ""
      ],
      "metadata": {
        "id": "Zmw0jjaP28Jt"
      },
      "execution_count": null,
      "outputs": []
    },
    {
      "cell_type": "markdown",
      "source": [
        "###Market Cap:"
      ],
      "metadata": {
        "id": "mZsHwtmO2_s-"
      }
    },
    {
      "cell_type": "code",
      "source": [
        ""
      ],
      "metadata": {
        "id": "DfPqr9HR4Rzr"
      },
      "execution_count": null,
      "outputs": []
    },
    {
      "cell_type": "markdown",
      "source": [
        "###Owners"
      ],
      "metadata": {
        "id": "7-07E3JW3KOE"
      }
    },
    {
      "cell_type": "code",
      "source": [
        ""
      ],
      "metadata": {
        "id": "r2kAP0nA4SQW"
      },
      "execution_count": null,
      "outputs": []
    },
    {
      "cell_type": "markdown",
      "source": [
        "###Total Assets"
      ],
      "metadata": {
        "id": "qTTPJcls3Nsh"
      }
    },
    {
      "cell_type": "code",
      "source": [
        ""
      ],
      "metadata": {
        "id": "rTBgCSve4S0d"
      },
      "execution_count": null,
      "outputs": []
    },
    {
      "cell_type": "markdown",
      "source": [
        "###Owner Ratio:"
      ],
      "metadata": {
        "id": "iPKfd1aI3Sky"
      }
    },
    {
      "cell_type": "code",
      "source": [
        ""
      ],
      "metadata": {
        "id": "c20h9sE04RPx"
      },
      "execution_count": null,
      "outputs": []
    },
    {
      "cell_type": "markdown",
      "source": [
        "#4ºParte: Analisando as relações do início:"
      ],
      "metadata": {
        "id": "nXhvASnTfOBK"
      }
    },
    {
      "cell_type": "code",
      "source": [
        ""
      ],
      "metadata": {
        "id": "I_507tBB1ty3"
      },
      "execution_count": null,
      "outputs": []
    },
    {
      "cell_type": "code",
      "source": [
        ""
      ],
      "metadata": {
        "id": "E7wI81cl1uPA"
      },
      "execution_count": null,
      "outputs": []
    },
    {
      "cell_type": "code",
      "source": [
        ""
      ],
      "metadata": {
        "id": "mHW_zM7O1uRk"
      },
      "execution_count": null,
      "outputs": []
    },
    {
      "cell_type": "code",
      "source": [
        ""
      ],
      "metadata": {
        "id": "tGs7eikT1uT2"
      },
      "execution_count": null,
      "outputs": []
    },
    {
      "cell_type": "code",
      "source": [
        ""
      ],
      "metadata": {
        "id": "vEcFgekCr_EY"
      },
      "execution_count": null,
      "outputs": []
    },
    {
      "cell_type": "code",
      "source": [
        ""
      ],
      "metadata": {
        "id": "b-jCdGUrrHg9"
      },
      "execution_count": null,
      "outputs": []
    },
    {
      "cell_type": "markdown",
      "source": [
        "##As relações:\n",
        "- Fazer uma coluna chamada owners_ratio (total de owners / total de ativos).\n",
        "- Filtrar os owners_ratio que tenham 10% ou menos.\n",
        "- Fazer uma correlação com o floor price"
      ],
      "metadata": {
        "id": "XVU74pytiHPb"
      }
    },
    {
      "cell_type": "code",
      "source": [
        "df['Owners']"
      ],
      "metadata": {
        "id": "eTOc4Izxfs7i",
        "colab": {
          "base_uri": "https://localhost:8080/"
        },
        "outputId": "77e7dce0-ddf3-4e5d-d878-9e6f2978abf2"
      },
      "execution_count": 165,
      "outputs": [
        {
          "output_type": "execute_result",
          "data": {
            "text/plain": [
              "0       2647.0\n",
              "1       5404.0\n",
              "2      19620.0\n",
              "3       6314.0\n",
              "4       8223.0\n",
              "        ...   \n",
              "120      189.0\n",
              "121     2708.0\n",
              "122     1840.0\n",
              "123     2676.0\n",
              "124     1239.0\n",
              "Name: Owners, Length: 125, dtype: float64"
            ]
          },
          "metadata": {},
          "execution_count": 165
        }
      ]
    },
    {
      "cell_type": "code",
      "source": [
        "df['Total Assets']"
      ],
      "metadata": {
        "id": "9RUi_af1iR7q",
        "colab": {
          "base_uri": "https://localhost:8080/"
        },
        "outputId": "49763072-9687-4312-fc99-9ea928c16df6"
      },
      "execution_count": 166,
      "outputs": [
        {
          "output_type": "execute_result",
          "data": {
            "text/plain": [
              "0        4870.0\n",
              "1        9999.0\n",
              "2      140886.0\n",
              "3        9999.0\n",
              "4       18834.0\n",
              "         ...   \n",
              "120       305.0\n",
              "121      9999.0\n",
              "122      4096.0\n",
              "123      8888.0\n",
              "124      4500.0\n",
              "Name: Total Assets, Length: 125, dtype: float64"
            ]
          },
          "metadata": {},
          "execution_count": 166
        }
      ]
    },
    {
      "cell_type": "code",
      "source": [
        "df['Owner Ratio'] = df['Owners'] / df ['Total Assets']"
      ],
      "metadata": {
        "id": "9qg4BZdwiXgI"
      },
      "execution_count": 167,
      "outputs": []
    },
    {
      "cell_type": "code",
      "source": [
        "df['Owner Ratio'] = df['Owner Ratio']*100"
      ],
      "metadata": {
        "id": "Qa2LDoDsifg6"
      },
      "execution_count": 168,
      "outputs": []
    },
    {
      "cell_type": "code",
      "source": [
        "df['Owner Ratio'].describe()"
      ],
      "metadata": {
        "id": "WGC_I6qMihDz",
        "colab": {
          "base_uri": "https://localhost:8080/"
        },
        "outputId": "e583e88e-4fb0-43da-d301-7bdbbe535cd9"
      },
      "execution_count": 169,
      "outputs": [
        {
          "output_type": "execute_result",
          "data": {
            "text/plain": [
              "count    125.000000\n",
              "mean      39.736668\n",
              "std       15.667696\n",
              "min        2.721425\n",
              "25%       30.966193\n",
              "50%       39.508290\n",
              "75%       50.930000\n",
              "max       77.904328\n",
              "Name: Owner Ratio, dtype: float64"
            ]
          },
          "metadata": {},
          "execution_count": 169
        }
      ]
    },
    {
      "cell_type": "code",
      "source": [
        "df[df['Owner Ratio'] <= 30].describe()"
      ],
      "metadata": {
        "id": "-jCpzxnIjJD9",
        "colab": {
          "base_uri": "https://localhost:8080/",
          "height": 300
        },
        "outputId": "5cba5f42-05a4-45ea-b3a8-6ec34a96ebaf"
      },
      "execution_count": 170,
      "outputs": [
        {
          "output_type": "execute_result",
          "data": {
            "text/html": [
              "\n",
              "  <div id=\"df-4c9291e7-4500-45be-a98f-4849f3216d7d\">\n",
              "    <div class=\"colab-df-container\">\n",
              "      <div>\n",
              "<style scoped>\n",
              "    .dataframe tbody tr th:only-of-type {\n",
              "        vertical-align: middle;\n",
              "    }\n",
              "\n",
              "    .dataframe tbody tr th {\n",
              "        vertical-align: top;\n",
              "    }\n",
              "\n",
              "    .dataframe thead th {\n",
              "        text-align: right;\n",
              "    }\n",
              "</style>\n",
              "<table border=\"1\" class=\"dataframe\">\n",
              "  <thead>\n",
              "    <tr style=\"text-align: right;\">\n",
              "      <th></th>\n",
              "      <th>Floor Price</th>\n",
              "      <th>24h(%)</th>\n",
              "      <th>Owners</th>\n",
              "      <th>Total Assets</th>\n",
              "      <th>Owner Ratio</th>\n",
              "    </tr>\n",
              "  </thead>\n",
              "  <tbody>\n",
              "    <tr>\n",
              "      <th>count</th>\n",
              "      <td>27.000000</td>\n",
              "      <td>27.000000</td>\n",
              "      <td>27.000000</td>\n",
              "      <td>27.000000</td>\n",
              "      <td>27.000000</td>\n",
              "    </tr>\n",
              "    <tr>\n",
              "      <th>mean</th>\n",
              "      <td>1.399570</td>\n",
              "      <td>31.911111</td>\n",
              "      <td>2655.666667</td>\n",
              "      <td>16112.740741</td>\n",
              "      <td>17.600661</td>\n",
              "    </tr>\n",
              "    <tr>\n",
              "      <th>std</th>\n",
              "      <td>3.326736</td>\n",
              "      <td>174.569088</td>\n",
              "      <td>3672.580355</td>\n",
              "      <td>26269.828238</td>\n",
              "      <td>9.313799</td>\n",
              "    </tr>\n",
              "    <tr>\n",
              "      <th>min</th>\n",
              "      <td>0.001000</td>\n",
              "      <td>-21.800000</td>\n",
              "      <td>55.000000</td>\n",
              "      <td>2021.000000</td>\n",
              "      <td>2.721425</td>\n",
              "    </tr>\n",
              "    <tr>\n",
              "      <th>25%</th>\n",
              "      <td>0.052500</td>\n",
              "      <td>-7.100000</td>\n",
              "      <td>717.000000</td>\n",
              "      <td>8540.000000</td>\n",
              "      <td>7.842570</td>\n",
              "    </tr>\n",
              "    <tr>\n",
              "      <th>50%</th>\n",
              "      <td>0.172000</td>\n",
              "      <td>2.300000</td>\n",
              "      <td>1868.000000</td>\n",
              "      <td>10000.000000</td>\n",
              "      <td>18.988890</td>\n",
              "    </tr>\n",
              "    <tr>\n",
              "      <th>75%</th>\n",
              "      <td>1.330000</td>\n",
              "      <td>3.400000</td>\n",
              "      <td>2836.000000</td>\n",
              "      <td>10078.000000</td>\n",
              "      <td>26.646320</td>\n",
              "    </tr>\n",
              "    <tr>\n",
              "      <th>max</th>\n",
              "      <td>16.990000</td>\n",
              "      <td>904.000000</td>\n",
              "      <td>19620.000000</td>\n",
              "      <td>140886.000000</td>\n",
              "      <td>29.455642</td>\n",
              "    </tr>\n",
              "  </tbody>\n",
              "</table>\n",
              "</div>\n",
              "      <button class=\"colab-df-convert\" onclick=\"convertToInteractive('df-4c9291e7-4500-45be-a98f-4849f3216d7d')\"\n",
              "              title=\"Convert this dataframe to an interactive table.\"\n",
              "              style=\"display:none;\">\n",
              "        \n",
              "  <svg xmlns=\"http://www.w3.org/2000/svg\" height=\"24px\"viewBox=\"0 0 24 24\"\n",
              "       width=\"24px\">\n",
              "    <path d=\"M0 0h24v24H0V0z\" fill=\"none\"/>\n",
              "    <path d=\"M18.56 5.44l.94 2.06.94-2.06 2.06-.94-2.06-.94-.94-2.06-.94 2.06-2.06.94zm-11 1L8.5 8.5l.94-2.06 2.06-.94-2.06-.94L8.5 2.5l-.94 2.06-2.06.94zm10 10l.94 2.06.94-2.06 2.06-.94-2.06-.94-.94-2.06-.94 2.06-2.06.94z\"/><path d=\"M17.41 7.96l-1.37-1.37c-.4-.4-.92-.59-1.43-.59-.52 0-1.04.2-1.43.59L10.3 9.45l-7.72 7.72c-.78.78-.78 2.05 0 2.83L4 21.41c.39.39.9.59 1.41.59.51 0 1.02-.2 1.41-.59l7.78-7.78 2.81-2.81c.8-.78.8-2.07 0-2.86zM5.41 20L4 18.59l7.72-7.72 1.47 1.35L5.41 20z\"/>\n",
              "  </svg>\n",
              "      </button>\n",
              "      \n",
              "  <style>\n",
              "    .colab-df-container {\n",
              "      display:flex;\n",
              "      flex-wrap:wrap;\n",
              "      gap: 12px;\n",
              "    }\n",
              "\n",
              "    .colab-df-convert {\n",
              "      background-color: #E8F0FE;\n",
              "      border: none;\n",
              "      border-radius: 50%;\n",
              "      cursor: pointer;\n",
              "      display: none;\n",
              "      fill: #1967D2;\n",
              "      height: 32px;\n",
              "      padding: 0 0 0 0;\n",
              "      width: 32px;\n",
              "    }\n",
              "\n",
              "    .colab-df-convert:hover {\n",
              "      background-color: #E2EBFA;\n",
              "      box-shadow: 0px 1px 2px rgba(60, 64, 67, 0.3), 0px 1px 3px 1px rgba(60, 64, 67, 0.15);\n",
              "      fill: #174EA6;\n",
              "    }\n",
              "\n",
              "    [theme=dark] .colab-df-convert {\n",
              "      background-color: #3B4455;\n",
              "      fill: #D2E3FC;\n",
              "    }\n",
              "\n",
              "    [theme=dark] .colab-df-convert:hover {\n",
              "      background-color: #434B5C;\n",
              "      box-shadow: 0px 1px 3px 1px rgba(0, 0, 0, 0.15);\n",
              "      filter: drop-shadow(0px 1px 2px rgba(0, 0, 0, 0.3));\n",
              "      fill: #FFFFFF;\n",
              "    }\n",
              "  </style>\n",
              "\n",
              "      <script>\n",
              "        const buttonEl =\n",
              "          document.querySelector('#df-4c9291e7-4500-45be-a98f-4849f3216d7d button.colab-df-convert');\n",
              "        buttonEl.style.display =\n",
              "          google.colab.kernel.accessAllowed ? 'block' : 'none';\n",
              "\n",
              "        async function convertToInteractive(key) {\n",
              "          const element = document.querySelector('#df-4c9291e7-4500-45be-a98f-4849f3216d7d');\n",
              "          const dataTable =\n",
              "            await google.colab.kernel.invokeFunction('convertToInteractive',\n",
              "                                                     [key], {});\n",
              "          if (!dataTable) return;\n",
              "\n",
              "          const docLinkHtml = 'Like what you see? Visit the ' +\n",
              "            '<a target=\"_blank\" href=https://colab.research.google.com/notebooks/data_table.ipynb>data table notebook</a>'\n",
              "            + ' to learn more about interactive tables.';\n",
              "          element.innerHTML = '';\n",
              "          dataTable['output_type'] = 'display_data';\n",
              "          await google.colab.output.renderOutput(dataTable, element);\n",
              "          const docLink = document.createElement('div');\n",
              "          docLink.innerHTML = docLinkHtml;\n",
              "          element.appendChild(docLink);\n",
              "        }\n",
              "      </script>\n",
              "    </div>\n",
              "  </div>\n",
              "  "
            ],
            "text/plain": [
              "       Floor Price      24h(%)        Owners   Total Assets  Owner Ratio\n",
              "count    27.000000   27.000000     27.000000      27.000000    27.000000\n",
              "mean      1.399570   31.911111   2655.666667   16112.740741    17.600661\n",
              "std       3.326736  174.569088   3672.580355   26269.828238     9.313799\n",
              "min       0.001000  -21.800000     55.000000    2021.000000     2.721425\n",
              "25%       0.052500   -7.100000    717.000000    8540.000000     7.842570\n",
              "50%       0.172000    2.300000   1868.000000   10000.000000    18.988890\n",
              "75%       1.330000    3.400000   2836.000000   10078.000000    26.646320\n",
              "max      16.990000  904.000000  19620.000000  140886.000000    29.455642"
            ]
          },
          "metadata": {},
          "execution_count": 170
        }
      ]
    },
    {
      "cell_type": "code",
      "source": [
        "df_sold_in = df[df['Owner Ratio'] <= 30]"
      ],
      "metadata": {
        "id": "397hFbNHio2l"
      },
      "execution_count": 171,
      "outputs": []
    },
    {
      "cell_type": "code",
      "source": [
        "df_sold_in"
      ],
      "metadata": {
        "id": "OKKDEmZnitNu",
        "colab": {
          "base_uri": "https://localhost:8080/",
          "height": 940
        },
        "outputId": "8683025e-c0fd-4308-8c12-fed2dc9b8d23"
      },
      "execution_count": 172,
      "outputs": [
        {
          "output_type": "execute_result",
          "data": {
            "text/html": [
              "\n",
              "  <div id=\"df-803f7e31-1fad-4d34-ad21-5da5d488d07a\">\n",
              "    <div class=\"colab-df-container\">\n",
              "      <div>\n",
              "<style scoped>\n",
              "    .dataframe tbody tr th:only-of-type {\n",
              "        vertical-align: middle;\n",
              "    }\n",
              "\n",
              "    .dataframe tbody tr th {\n",
              "        vertical-align: top;\n",
              "    }\n",
              "\n",
              "    .dataframe thead th {\n",
              "        text-align: right;\n",
              "    }\n",
              "</style>\n",
              "<table border=\"1\" class=\"dataframe\">\n",
              "  <thead>\n",
              "    <tr style=\"text-align: right;\">\n",
              "      <th></th>\n",
              "      <th>NFT</th>\n",
              "      <th>Floor Price</th>\n",
              "      <th>24h(%)</th>\n",
              "      <th>Market Cap</th>\n",
              "      <th>24h Volume</th>\n",
              "      <th>Owners</th>\n",
              "      <th>24h Owners</th>\n",
              "      <th>Total Assets</th>\n",
              "      <th>Owner Ratio</th>\n",
              "    </tr>\n",
              "  </thead>\n",
              "  <tbody>\n",
              "    <tr>\n",
              "      <th>2</th>\n",
              "      <td>LAND</td>\n",
              "      <td>3.6980</td>\n",
              "      <td>3.1</td>\n",
              "      <td>520996.43</td>\n",
              "      <td>1373.18</td>\n",
              "      <td>19620.0</td>\n",
              "      <td>2.0</td>\n",
              "      <td>140886.0</td>\n",
              "      <td>13.926153</td>\n",
              "    </tr>\n",
              "    <tr>\n",
              "      <th>16</th>\n",
              "      <td>Decentral Games ICE Poker</td>\n",
              "      <td>2.0100</td>\n",
              "      <td>3.7</td>\n",
              "      <td>29211.33</td>\n",
              "      <td>110.53</td>\n",
              "      <td>3358.0</td>\n",
              "      <td>-0.3</td>\n",
              "      <td>14533.0</td>\n",
              "      <td>23.106035</td>\n",
              "    </tr>\n",
              "    <tr>\n",
              "      <th>17</th>\n",
              "      <td>Metroverse</td>\n",
              "      <td>0.7999</td>\n",
              "      <td>3.1</td>\n",
              "      <td>7999.0</td>\n",
              "      <td>95.92</td>\n",
              "      <td>621.0</td>\n",
              "      <td>-2.8</td>\n",
              "      <td>10000.0</td>\n",
              "      <td>6.210000</td>\n",
              "    </tr>\n",
              "    <tr>\n",
              "      <th>24</th>\n",
              "      <td>Crypto Unicorns</td>\n",
              "      <td>1.6800</td>\n",
              "      <td>-17.6</td>\n",
              "      <td>16800.0</td>\n",
              "      <td>68.12</td>\n",
              "      <td>519.0</td>\n",
              "      <td>-2.8</td>\n",
              "      <td>10000.0</td>\n",
              "      <td>5.190000</td>\n",
              "    </tr>\n",
              "    <tr>\n",
              "      <th>35</th>\n",
              "      <td>BYO Land</td>\n",
              "      <td>0.5900</td>\n",
              "      <td>-10.3</td>\n",
              "      <td>5933.04</td>\n",
              "      <td>31.11</td>\n",
              "      <td>2890.0</td>\n",
              "      <td>-0.1</td>\n",
              "      <td>10056.0</td>\n",
              "      <td>28.739061</td>\n",
              "    </tr>\n",
              "    <tr>\n",
              "      <th>38</th>\n",
              "      <td>Neo Tokyo: Identities</td>\n",
              "      <td>16.9900</td>\n",
              "      <td>-21.8</td>\n",
              "      <td>34336.79</td>\n",
              "      <td>27.97</td>\n",
              "      <td>55.0</td>\n",
              "      <td>0.0</td>\n",
              "      <td>2021.0</td>\n",
              "      <td>2.721425</td>\n",
              "    </tr>\n",
              "    <tr>\n",
              "      <th>39</th>\n",
              "      <td>loomlock NFT</td>\n",
              "      <td>0.9800</td>\n",
              "      <td>1.0</td>\n",
              "      <td>9355.08</td>\n",
              "      <td>27.9</td>\n",
              "      <td>2502.0</td>\n",
              "      <td>-0.4</td>\n",
              "      <td>9546.0</td>\n",
              "      <td>26.209931</td>\n",
              "    </tr>\n",
              "    <tr>\n",
              "      <th>41</th>\n",
              "      <td>Sneaky Vampire Syndicate</td>\n",
              "      <td>0.9900</td>\n",
              "      <td>2.3</td>\n",
              "      <td>8799.12</td>\n",
              "      <td>23.95</td>\n",
              "      <td>1458.0</td>\n",
              "      <td>-0.1</td>\n",
              "      <td>8888.0</td>\n",
              "      <td>16.404140</td>\n",
              "    </tr>\n",
              "    <tr>\n",
              "      <th>42</th>\n",
              "      <td>Forgotten Runes Wizards Cult</td>\n",
              "      <td>1.9000</td>\n",
              "      <td>-14.8</td>\n",
              "      <td>17877.1</td>\n",
              "      <td>22.17</td>\n",
              "      <td>2746.0</td>\n",
              "      <td>0.3</td>\n",
              "      <td>9409.0</td>\n",
              "      <td>29.184823</td>\n",
              "    </tr>\n",
              "    <tr>\n",
              "      <th>48</th>\n",
              "      <td>MetaHero</td>\n",
              "      <td>4.6500</td>\n",
              "      <td>2.3</td>\n",
              "      <td>30011.1</td>\n",
              "      <td>15.55</td>\n",
              "      <td>305.0</td>\n",
              "      <td>-1.3</td>\n",
              "      <td>6454.0</td>\n",
              "      <td>4.725751</td>\n",
              "    </tr>\n",
              "    <tr>\n",
              "      <th>52</th>\n",
              "      <td>MoonCats - Acclimated</td>\n",
              "      <td>0.5450</td>\n",
              "      <td>-7.6</td>\n",
              "      <td>10302.14</td>\n",
              "      <td>12.59</td>\n",
              "      <td>5568.0</td>\n",
              "      <td>-0.1</td>\n",
              "      <td>18903.0</td>\n",
              "      <td>29.455642</td>\n",
              "    </tr>\n",
              "    <tr>\n",
              "      <th>66</th>\n",
              "      <td>Anonymice</td>\n",
              "      <td>1.6700</td>\n",
              "      <td>15.9</td>\n",
              "      <td>16700.0</td>\n",
              "      <td>6.74</td>\n",
              "      <td>352.0</td>\n",
              "      <td>-1.1</td>\n",
              "      <td>10000.0</td>\n",
              "      <td>3.520000</td>\n",
              "    </tr>\n",
              "    <tr>\n",
              "      <th>67</th>\n",
              "      <td>Samurai Saga</td>\n",
              "      <td>0.1700</td>\n",
              "      <td>-1.8</td>\n",
              "      <td>1699.83</td>\n",
              "      <td>5.8</td>\n",
              "      <td>1868.0</td>\n",
              "      <td>-0.9</td>\n",
              "      <td>9999.0</td>\n",
              "      <td>18.681868</td>\n",
              "    </tr>\n",
              "    <tr>\n",
              "      <th>74</th>\n",
              "      <td>iNFT Personality Pod</td>\n",
              "      <td>0.2400</td>\n",
              "      <td>3.8</td>\n",
              "      <td>2354.64</td>\n",
              "      <td>3.24</td>\n",
              "      <td>1863.0</td>\n",
              "      <td>0.4</td>\n",
              "      <td>9811.0</td>\n",
              "      <td>18.988890</td>\n",
              "    </tr>\n",
              "    <tr>\n",
              "      <th>77</th>\n",
              "      <td>Citizens of Bulliever Island</td>\n",
              "      <td>0.1720</td>\n",
              "      <td>1.0</td>\n",
              "      <td>1720.0</td>\n",
              "      <td>2.23</td>\n",
              "      <td>2258.0</td>\n",
              "      <td>0.1</td>\n",
              "      <td>10000.0</td>\n",
              "      <td>22.580000</td>\n",
              "    </tr>\n",
              "    <tr>\n",
              "      <th>78</th>\n",
              "      <td>Wizards &amp; Dragons Game</td>\n",
              "      <td>0.0240</td>\n",
              "      <td>-4.2</td>\n",
              "      <td>1108.06</td>\n",
              "      <td>2.19</td>\n",
              "      <td>3372.0</td>\n",
              "      <td>0.5</td>\n",
              "      <td>46169.0</td>\n",
              "      <td>7.303602</td>\n",
              "    </tr>\n",
              "    <tr>\n",
              "      <th>79</th>\n",
              "      <td>Feudalz</td>\n",
              "      <td>0.1200</td>\n",
              "      <td>-16.7</td>\n",
              "      <td>533.28</td>\n",
              "      <td>2.19</td>\n",
              "      <td>354.0</td>\n",
              "      <td>-1.9</td>\n",
              "      <td>4444.0</td>\n",
              "      <td>7.965797</td>\n",
              "    </tr>\n",
              "    <tr>\n",
              "      <th>80</th>\n",
              "      <td>Genesis Mana</td>\n",
              "      <td>0.1680</td>\n",
              "      <td>3.4</td>\n",
              "      <td>1290.58</td>\n",
              "      <td>1.75</td>\n",
              "      <td>593.0</td>\n",
              "      <td>0.2</td>\n",
              "      <td>7682.0</td>\n",
              "      <td>7.719344</td>\n",
              "    </tr>\n",
              "    <tr>\n",
              "      <th>84</th>\n",
              "      <td>Star Sailor Sibings</td>\n",
              "      <td>0.0700</td>\n",
              "      <td>3.4</td>\n",
              "      <td>707.0</td>\n",
              "      <td>1.34</td>\n",
              "      <td>2782.0</td>\n",
              "      <td>-0.0</td>\n",
              "      <td>10100.0</td>\n",
              "      <td>27.544554</td>\n",
              "    </tr>\n",
              "    <tr>\n",
              "      <th>90</th>\n",
              "      <td>HeadDAO</td>\n",
              "      <td>0.0890</td>\n",
              "      <td>16.4</td>\n",
              "      <td>890.0</td>\n",
              "      <td>0.92</td>\n",
              "      <td>1040.0</td>\n",
              "      <td>0.2</td>\n",
              "      <td>10000.0</td>\n",
              "      <td>10.400000</td>\n",
              "    </tr>\n",
              "    <tr>\n",
              "      <th>99</th>\n",
              "      <td>Avastars</td>\n",
              "      <td>0.1200</td>\n",
              "      <td>12.8</td>\n",
              "      <td>3054.6</td>\n",
              "      <td>0.48</td>\n",
              "      <td>4957.0</td>\n",
              "      <td>0.0</td>\n",
              "      <td>25455.0</td>\n",
              "      <td>19.473581</td>\n",
              "    </tr>\n",
              "    <tr>\n",
              "      <th>100</th>\n",
              "      <td>Skullx</td>\n",
              "      <td>0.0350</td>\n",
              "      <td>-2.2</td>\n",
              "      <td>350.0</td>\n",
              "      <td>0.42</td>\n",
              "      <td>2573.0</td>\n",
              "      <td>-0.0</td>\n",
              "      <td>10000.0</td>\n",
              "      <td>25.730000</td>\n",
              "    </tr>\n",
              "    <tr>\n",
              "      <th>110</th>\n",
              "      <td>CryptoZombiez</td>\n",
              "      <td>0.0200</td>\n",
              "      <td>-17.5</td>\n",
              "      <td>111.1</td>\n",
              "      <td>0.15</td>\n",
              "      <td>813.0</td>\n",
              "      <td>-0.5</td>\n",
              "      <td>5555.0</td>\n",
              "      <td>14.635464</td>\n",
              "    </tr>\n",
              "    <tr>\n",
              "      <th>117</th>\n",
              "      <td>Space Poggers</td>\n",
              "      <td>0.0195</td>\n",
              "      <td>3.4</td>\n",
              "      <td>242.62</td>\n",
              "      <td>0.04</td>\n",
              "      <td>3448.0</td>\n",
              "      <td>0.1</td>\n",
              "      <td>12442.0</td>\n",
              "      <td>27.712586</td>\n",
              "    </tr>\n",
              "    <tr>\n",
              "      <th>118</th>\n",
              "      <td>Derpy Birbs</td>\n",
              "      <td>0.0090</td>\n",
              "      <td>3.1</td>\n",
              "      <td>73.73</td>\n",
              "      <td>0.04</td>\n",
              "      <td>1841.0</td>\n",
              "      <td>0.2</td>\n",
              "      <td>8192.0</td>\n",
              "      <td>22.473145</td>\n",
              "    </tr>\n",
              "    <tr>\n",
              "      <th>121</th>\n",
              "      <td>Bored Ape Comic</td>\n",
              "      <td>0.0280</td>\n",
              "      <td>-6.6</td>\n",
              "      <td>279.97</td>\n",
              "      <td>0.03</td>\n",
              "      <td>2708.0</td>\n",
              "      <td>0.1</td>\n",
              "      <td>9999.0</td>\n",
              "      <td>27.082708</td>\n",
              "    </tr>\n",
              "    <tr>\n",
              "      <th>124</th>\n",
              "      <td>Passive Apes</td>\n",
              "      <td>0.0010</td>\n",
              "      <td>904.0</td>\n",
              "      <td>4.5</td>\n",
              "      <td>0.0</td>\n",
              "      <td>1239.0</td>\n",
              "      <td>0.1</td>\n",
              "      <td>4500.0</td>\n",
              "      <td>27.533333</td>\n",
              "    </tr>\n",
              "  </tbody>\n",
              "</table>\n",
              "</div>\n",
              "      <button class=\"colab-df-convert\" onclick=\"convertToInteractive('df-803f7e31-1fad-4d34-ad21-5da5d488d07a')\"\n",
              "              title=\"Convert this dataframe to an interactive table.\"\n",
              "              style=\"display:none;\">\n",
              "        \n",
              "  <svg xmlns=\"http://www.w3.org/2000/svg\" height=\"24px\"viewBox=\"0 0 24 24\"\n",
              "       width=\"24px\">\n",
              "    <path d=\"M0 0h24v24H0V0z\" fill=\"none\"/>\n",
              "    <path d=\"M18.56 5.44l.94 2.06.94-2.06 2.06-.94-2.06-.94-.94-2.06-.94 2.06-2.06.94zm-11 1L8.5 8.5l.94-2.06 2.06-.94-2.06-.94L8.5 2.5l-.94 2.06-2.06.94zm10 10l.94 2.06.94-2.06 2.06-.94-2.06-.94-.94-2.06-.94 2.06-2.06.94z\"/><path d=\"M17.41 7.96l-1.37-1.37c-.4-.4-.92-.59-1.43-.59-.52 0-1.04.2-1.43.59L10.3 9.45l-7.72 7.72c-.78.78-.78 2.05 0 2.83L4 21.41c.39.39.9.59 1.41.59.51 0 1.02-.2 1.41-.59l7.78-7.78 2.81-2.81c.8-.78.8-2.07 0-2.86zM5.41 20L4 18.59l7.72-7.72 1.47 1.35L5.41 20z\"/>\n",
              "  </svg>\n",
              "      </button>\n",
              "      \n",
              "  <style>\n",
              "    .colab-df-container {\n",
              "      display:flex;\n",
              "      flex-wrap:wrap;\n",
              "      gap: 12px;\n",
              "    }\n",
              "\n",
              "    .colab-df-convert {\n",
              "      background-color: #E8F0FE;\n",
              "      border: none;\n",
              "      border-radius: 50%;\n",
              "      cursor: pointer;\n",
              "      display: none;\n",
              "      fill: #1967D2;\n",
              "      height: 32px;\n",
              "      padding: 0 0 0 0;\n",
              "      width: 32px;\n",
              "    }\n",
              "\n",
              "    .colab-df-convert:hover {\n",
              "      background-color: #E2EBFA;\n",
              "      box-shadow: 0px 1px 2px rgba(60, 64, 67, 0.3), 0px 1px 3px 1px rgba(60, 64, 67, 0.15);\n",
              "      fill: #174EA6;\n",
              "    }\n",
              "\n",
              "    [theme=dark] .colab-df-convert {\n",
              "      background-color: #3B4455;\n",
              "      fill: #D2E3FC;\n",
              "    }\n",
              "\n",
              "    [theme=dark] .colab-df-convert:hover {\n",
              "      background-color: #434B5C;\n",
              "      box-shadow: 0px 1px 3px 1px rgba(0, 0, 0, 0.15);\n",
              "      filter: drop-shadow(0px 1px 2px rgba(0, 0, 0, 0.3));\n",
              "      fill: #FFFFFF;\n",
              "    }\n",
              "  </style>\n",
              "\n",
              "      <script>\n",
              "        const buttonEl =\n",
              "          document.querySelector('#df-803f7e31-1fad-4d34-ad21-5da5d488d07a button.colab-df-convert');\n",
              "        buttonEl.style.display =\n",
              "          google.colab.kernel.accessAllowed ? 'block' : 'none';\n",
              "\n",
              "        async function convertToInteractive(key) {\n",
              "          const element = document.querySelector('#df-803f7e31-1fad-4d34-ad21-5da5d488d07a');\n",
              "          const dataTable =\n",
              "            await google.colab.kernel.invokeFunction('convertToInteractive',\n",
              "                                                     [key], {});\n",
              "          if (!dataTable) return;\n",
              "\n",
              "          const docLinkHtml = 'Like what you see? Visit the ' +\n",
              "            '<a target=\"_blank\" href=https://colab.research.google.com/notebooks/data_table.ipynb>data table notebook</a>'\n",
              "            + ' to learn more about interactive tables.';\n",
              "          element.innerHTML = '';\n",
              "          dataTable['output_type'] = 'display_data';\n",
              "          await google.colab.output.renderOutput(dataTable, element);\n",
              "          const docLink = document.createElement('div');\n",
              "          docLink.innerHTML = docLinkHtml;\n",
              "          element.appendChild(docLink);\n",
              "        }\n",
              "      </script>\n",
              "    </div>\n",
              "  </div>\n",
              "  "
            ],
            "text/plain": [
              "                              NFT  Floor Price  ...  Total Assets Owner Ratio\n",
              "2                            LAND       3.6980  ...      140886.0   13.926153\n",
              "16      Decentral Games ICE Poker       2.0100  ...       14533.0   23.106035\n",
              "17                     Metroverse       0.7999  ...       10000.0    6.210000\n",
              "24                Crypto Unicorns       1.6800  ...       10000.0    5.190000\n",
              "35                       BYO Land       0.5900  ...       10056.0   28.739061\n",
              "38          Neo Tokyo: Identities      16.9900  ...        2021.0    2.721425\n",
              "39                   loomlock NFT       0.9800  ...        9546.0   26.209931\n",
              "41       Sneaky Vampire Syndicate       0.9900  ...        8888.0   16.404140\n",
              "42   Forgotten Runes Wizards Cult       1.9000  ...        9409.0   29.184823\n",
              "48                       MetaHero       4.6500  ...        6454.0    4.725751\n",
              "52          MoonCats - Acclimated       0.5450  ...       18903.0   29.455642\n",
              "66                      Anonymice       1.6700  ...       10000.0    3.520000\n",
              "67                   Samurai Saga       0.1700  ...        9999.0   18.681868\n",
              "74           iNFT Personality Pod       0.2400  ...        9811.0   18.988890\n",
              "77   Citizens of Bulliever Island       0.1720  ...       10000.0   22.580000\n",
              "78         Wizards & Dragons Game       0.0240  ...       46169.0    7.303602\n",
              "79                        Feudalz       0.1200  ...        4444.0    7.965797\n",
              "80                   Genesis Mana       0.1680  ...        7682.0    7.719344\n",
              "84            Star Sailor Sibings       0.0700  ...       10100.0   27.544554\n",
              "90                        HeadDAO       0.0890  ...       10000.0   10.400000\n",
              "99                       Avastars       0.1200  ...       25455.0   19.473581\n",
              "100                        Skullx       0.0350  ...       10000.0   25.730000\n",
              "110                 CryptoZombiez       0.0200  ...        5555.0   14.635464\n",
              "117                 Space Poggers       0.0195  ...       12442.0   27.712586\n",
              "118                   Derpy Birbs       0.0090  ...        8192.0   22.473145\n",
              "121               Bored Ape Comic       0.0280  ...        9999.0   27.082708\n",
              "124                  Passive Apes       0.0010  ...        4500.0   27.533333\n",
              "\n",
              "[27 rows x 9 columns]"
            ]
          },
          "metadata": {},
          "execution_count": 172
        }
      ]
    },
    {
      "cell_type": "markdown",
      "source": [
        "###Fazendo relações com o floor price:"
      ],
      "metadata": {
        "id": "Ast_X_L8k1kS"
      }
    },
    {
      "cell_type": "code",
      "source": [
        "df_sold_in['Floor Price']"
      ],
      "metadata": {
        "id": "U7G13qQCiyGG",
        "colab": {
          "base_uri": "https://localhost:8080/"
        },
        "outputId": "744a5930-c425-4de7-b25b-0e79c3bf2533"
      },
      "execution_count": 173,
      "outputs": [
        {
          "output_type": "execute_result",
          "data": {
            "text/plain": [
              "2       3.6980\n",
              "16      2.0100\n",
              "17      0.7999\n",
              "24      1.6800\n",
              "35      0.5900\n",
              "38     16.9900\n",
              "39      0.9800\n",
              "41      0.9900\n",
              "42      1.9000\n",
              "48      4.6500\n",
              "52      0.5450\n",
              "66      1.6700\n",
              "67      0.1700\n",
              "74      0.2400\n",
              "77      0.1720\n",
              "78      0.0240\n",
              "79      0.1200\n",
              "80      0.1680\n",
              "84      0.0700\n",
              "90      0.0890\n",
              "99      0.1200\n",
              "100     0.0350\n",
              "110     0.0200\n",
              "117     0.0195\n",
              "118     0.0090\n",
              "121     0.0280\n",
              "124     0.0010\n",
              "Name: Floor Price, dtype: float64"
            ]
          },
          "metadata": {},
          "execution_count": 173
        }
      ]
    },
    {
      "cell_type": "code",
      "source": [
        "df_sold_in['Floor Price']"
      ],
      "metadata": {
        "id": "VZJuiTnimIX4"
      },
      "execution_count": null,
      "outputs": []
    },
    {
      "cell_type": "code",
      "source": [
        "df_sold_in['Floor Price'] = df_sold_in['Floor Price'].astype(float)"
      ],
      "metadata": {
        "id": "YQ90zy1RmJdm"
      },
      "execution_count": null,
      "outputs": []
    },
    {
      "cell_type": "code",
      "source": [
        "df3 = df_sold_in[df_sold_in['Floor Price'] < 22]"
      ],
      "metadata": {
        "id": "OAkGyFL3nz0J"
      },
      "execution_count": null,
      "outputs": []
    },
    {
      "cell_type": "code",
      "source": [
        "df3['Floor Price'].describe()"
      ],
      "metadata": {
        "id": "AXWKdyeVmNkW"
      },
      "execution_count": null,
      "outputs": []
    },
    {
      "cell_type": "code",
      "source": [
        "df2 = pd.DataFrame([df3['Owner Ratio'], df3['Floor Price']])"
      ],
      "metadata": {
        "id": "07QJiRHGmS4q"
      },
      "execution_count": null,
      "outputs": []
    },
    {
      "cell_type": "code",
      "source": [
        "df2 = df2.transpose()"
      ],
      "metadata": {
        "id": "K2UehkKrnN89"
      },
      "execution_count": null,
      "outputs": []
    },
    {
      "cell_type": "code",
      "source": [
        "df2.corr(method=\"pearson\")"
      ],
      "metadata": {
        "id": "9Ala3fgNndCa"
      },
      "execution_count": null,
      "outputs": []
    },
    {
      "cell_type": "code",
      "source": [
        ""
      ],
      "metadata": {
        "id": "6A7hQB-pnnMo"
      },
      "execution_count": null,
      "outputs": []
    }
  ]
}