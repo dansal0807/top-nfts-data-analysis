{
  "nbformat": 4,
  "nbformat_minor": 0,
  "metadata": {
    "colab": {
      "name": "Top-NFTs - Coleta, Limpeza e Exploração dos dados.ipynb",
      "provenance": []
    },
    "kernelspec": {
      "name": "python3",
      "display_name": "Python 3"
    },
    "language_info": {
      "name": "python"
    }
  },
  "cells": [
    {
      "cell_type": "markdown",
      "source": [
        "#Importando as Bibliotecas:"
      ],
      "metadata": {
        "id": "5vh35CtnLfxH"
      }
    },
    {
      "cell_type": "code",
      "execution_count": 2,
      "metadata": {
        "id": "c2oc3bhRmRk6"
      },
      "outputs": [],
      "source": [
        "import pandas as pd\n",
        "import requests\n",
        "from bs4 import BeautifulSoup as bs\n",
        "\n",
        "import matplotlib.pyplot as plt\n",
        "import seaborn as sns"
      ]
    },
    {
      "cell_type": "markdown",
      "source": [
        "#1ºParte: Coleta de dados e preparação do dataframe:"
      ],
      "metadata": {
        "id": "L_vb_pu0Ljvi"
      }
    },
    {
      "cell_type": "markdown",
      "source": [
        "Interessante notar que cada vez que os comandos abaixo são postos para funcionar, os preços e volumes são constantemente atualizados. Isso gera uma dificuldade, mas também gera uma análise mais precisa que deve considerar a mudança dos preços."
      ],
      "metadata": {
        "id": "qj3GAGeQzAii"
      }
    },
    {
      "cell_type": "code",
      "source": [
        "request = requests.get(\"https://www.coingecko.com/en/nft\").text"
      ],
      "metadata": {
        "id": "XudfWz_ooGHC"
      },
      "execution_count": 3,
      "outputs": []
    },
    {
      "cell_type": "code",
      "source": [
        "df = pd.read_html(request)"
      ],
      "metadata": {
        "id": "2D2QdNWIomlc"
      },
      "execution_count": 4,
      "outputs": []
    },
    {
      "cell_type": "code",
      "source": [
        "df1 = df[0]"
      ],
      "metadata": {
        "id": "iFGHeVHAondA"
      },
      "execution_count": 5,
      "outputs": []
    },
    {
      "cell_type": "code",
      "source": [
        "df1"
      ],
      "metadata": {
        "colab": {
          "base_uri": "https://localhost:8080/",
          "height": 0
        },
        "id": "_z_WbZ5BSIfX",
        "outputId": "fe44fa58-191e-40a3-a157-97e3299f6961"
      },
      "execution_count": 6,
      "outputs": [
        {
          "output_type": "execute_result",
          "data": {
            "text/html": [
              "\n",
              "  <div id=\"df-f087df3e-0c22-42d0-8657-a14137453e8f\">\n",
              "    <div class=\"colab-df-container\">\n",
              "      <div>\n",
              "<style scoped>\n",
              "    .dataframe tbody tr th:only-of-type {\n",
              "        vertical-align: middle;\n",
              "    }\n",
              "\n",
              "    .dataframe tbody tr th {\n",
              "        vertical-align: top;\n",
              "    }\n",
              "\n",
              "    .dataframe thead th {\n",
              "        text-align: right;\n",
              "    }\n",
              "</style>\n",
              "<table border=\"1\" class=\"dataframe\">\n",
              "  <thead>\n",
              "    <tr style=\"text-align: right;\">\n",
              "      <th></th>\n",
              "      <th>#</th>\n",
              "      <th>NFT</th>\n",
              "      <th>Floor Price</th>\n",
              "      <th>24h</th>\n",
              "      <th>7d</th>\n",
              "      <th>Market Cap</th>\n",
              "      <th>24h Volume</th>\n",
              "      <th>Owners</th>\n",
              "      <th>24h Owners</th>\n",
              "      <th>Total Assets</th>\n",
              "    </tr>\n",
              "  </thead>\n",
              "  <tbody>\n",
              "    <tr>\n",
              "      <th>0</th>\n",
              "      <td>1</td>\n",
              "      <td>dotdotdots</td>\n",
              "      <td>0.175 ETH</td>\n",
              "      <td>-17.4%</td>\n",
              "      <td>NaN</td>\n",
              "      <td>852.25 ETH</td>\n",
              "      <td>12,306.69 ETH</td>\n",
              "      <td>2650.0</td>\n",
              "      <td>0.2%</td>\n",
              "      <td>4870.0</td>\n",
              "    </tr>\n",
              "    <tr>\n",
              "      <th>1</th>\n",
              "      <td>2</td>\n",
              "      <td>Bored Ape Yacht Club</td>\n",
              "      <td>92.0 ETH</td>\n",
              "      <td>-4.5%</td>\n",
              "      <td>NaN</td>\n",
              "      <td>919,908.0 ETH</td>\n",
              "      <td>1,207.09 ETH</td>\n",
              "      <td>6310.0</td>\n",
              "      <td>-0.1%</td>\n",
              "      <td>9999.0</td>\n",
              "    </tr>\n",
              "    <tr>\n",
              "      <th>2</th>\n",
              "      <td>3</td>\n",
              "      <td>Cool Pets</td>\n",
              "      <td>2.334 ETH</td>\n",
              "      <td>-13.4%</td>\n",
              "      <td>NaN</td>\n",
              "      <td>42,385.44 ETH</td>\n",
              "      <td>1,007.5 ETH</td>\n",
              "      <td>10753.0</td>\n",
              "      <td>11.8%</td>\n",
              "      <td>18160.0</td>\n",
              "    </tr>\n",
              "    <tr>\n",
              "      <th>3</th>\n",
              "      <td>4</td>\n",
              "      <td>CloneX</td>\n",
              "      <td>14.5 ETH</td>\n",
              "      <td>-2.6%</td>\n",
              "      <td>NaN</td>\n",
              "      <td>273,310.5 ETH</td>\n",
              "      <td>825.25 ETH</td>\n",
              "      <td>8259.0</td>\n",
              "      <td>0.4%</td>\n",
              "      <td>18849.0</td>\n",
              "    </tr>\n",
              "    <tr>\n",
              "      <th>4</th>\n",
              "      <td>5</td>\n",
              "      <td>Azuki</td>\n",
              "      <td>10.6 ETH</td>\n",
              "      <td>-9.3%</td>\n",
              "      <td>NaN</td>\n",
              "      <td>106,000.0 ETH</td>\n",
              "      <td>817.38 ETH</td>\n",
              "      <td>5403.0</td>\n",
              "      <td>-0.1%</td>\n",
              "      <td>10000.0</td>\n",
              "    </tr>\n",
              "    <tr>\n",
              "      <th>5</th>\n",
              "      <td>6</td>\n",
              "      <td>Mutant Ape Yacht Club</td>\n",
              "      <td>19.694201 ETH</td>\n",
              "      <td>-7.7%</td>\n",
              "      <td>NaN</td>\n",
              "      <td>353,589.68 ETH</td>\n",
              "      <td>581.84 ETH</td>\n",
              "      <td>11724.0</td>\n",
              "      <td>0.2%</td>\n",
              "      <td>17954.0</td>\n",
              "    </tr>\n",
              "    <tr>\n",
              "      <th>6</th>\n",
              "      <td>7</td>\n",
              "      <td>LAND</td>\n",
              "      <td>3.8 ETH</td>\n",
              "      <td>5.8%</td>\n",
              "      <td>NaN</td>\n",
              "      <td>547,010.0 ETH</td>\n",
              "      <td>401.62 ETH</td>\n",
              "      <td>19643.0</td>\n",
              "      <td>2.0%</td>\n",
              "      <td>143950.0</td>\n",
              "    </tr>\n",
              "    <tr>\n",
              "      <th>7</th>\n",
              "      <td>8</td>\n",
              "      <td>Cool Cats</td>\n",
              "      <td>10.99 ETH</td>\n",
              "      <td>-2.5%</td>\n",
              "      <td>NaN</td>\n",
              "      <td>109,163.67 ETH</td>\n",
              "      <td>279.05 ETH</td>\n",
              "      <td>5172.0</td>\n",
              "      <td>0.3%</td>\n",
              "      <td>9933.0</td>\n",
              "    </tr>\n",
              "    <tr>\n",
              "      <th>8</th>\n",
              "      <td>9</td>\n",
              "      <td>Zipcy's SuperNormal</td>\n",
              "      <td>1.044 ETH</td>\n",
              "      <td>-17.5%</td>\n",
              "      <td>NaN</td>\n",
              "      <td>9,279.07 ETH</td>\n",
              "      <td>236.54 ETH</td>\n",
              "      <td>4943.0</td>\n",
              "      <td>-0.3%</td>\n",
              "      <td>8888.0</td>\n",
              "    </tr>\n",
              "    <tr>\n",
              "      <th>9</th>\n",
              "      <td>10</td>\n",
              "      <td>Doodles</td>\n",
              "      <td>13.2 ETH</td>\n",
              "      <td>-11.3%</td>\n",
              "      <td>NaN</td>\n",
              "      <td>132,000.0 ETH</td>\n",
              "      <td>196.71 ETH</td>\n",
              "      <td>5987.0</td>\n",
              "      <td>0.1%</td>\n",
              "      <td>10000.0</td>\n",
              "    </tr>\n",
              "    <tr>\n",
              "      <th>10</th>\n",
              "      <td>11</td>\n",
              "      <td>CrypToadz</td>\n",
              "      <td>3.0 ETH</td>\n",
              "      <td>16.9%</td>\n",
              "      <td>NaN</td>\n",
              "      <td>21,075.0 ETH</td>\n",
              "      <td>191.18 ETH</td>\n",
              "      <td>3846.0</td>\n",
              "      <td>0.4%</td>\n",
              "      <td>7025.0</td>\n",
              "    </tr>\n",
              "    <tr>\n",
              "      <th>11</th>\n",
              "      <td>12</td>\n",
              "      <td>World of Women</td>\n",
              "      <td>9.74 ETH</td>\n",
              "      <td>-7.0%</td>\n",
              "      <td>NaN</td>\n",
              "      <td>97,400.0 ETH</td>\n",
              "      <td>152.24 ETH</td>\n",
              "      <td>5070.0</td>\n",
              "      <td>0.1%</td>\n",
              "      <td>10000.0</td>\n",
              "    </tr>\n",
              "    <tr>\n",
              "      <th>12</th>\n",
              "      <td>13</td>\n",
              "      <td>Adam Bomb Squad</td>\n",
              "      <td>0.97 ETH</td>\n",
              "      <td>10.6%</td>\n",
              "      <td>NaN</td>\n",
              "      <td>24,249.03 ETH</td>\n",
              "      <td>149.35 ETH</td>\n",
              "      <td>8710.0</td>\n",
              "      <td>-0.2%</td>\n",
              "      <td>24999.0</td>\n",
              "    </tr>\n",
              "    <tr>\n",
              "      <th>13</th>\n",
              "      <td>14</td>\n",
              "      <td>Lives of Asuna</td>\n",
              "      <td>0.425 ETH</td>\n",
              "      <td>-1.7%</td>\n",
              "      <td>NaN</td>\n",
              "      <td>4,250.0 ETH</td>\n",
              "      <td>113.75 ETH</td>\n",
              "      <td>6163.0</td>\n",
              "      <td>0.0%</td>\n",
              "      <td>10000.0</td>\n",
              "    </tr>\n",
              "    <tr>\n",
              "      <th>14</th>\n",
              "      <td>15</td>\n",
              "      <td>Decentral Games ICE Poker</td>\n",
              "      <td>2.04 ETH</td>\n",
              "      <td>-4.0%</td>\n",
              "      <td>NaN</td>\n",
              "      <td>29,647.32 ETH</td>\n",
              "      <td>113.01 ETH</td>\n",
              "      <td>3358.0</td>\n",
              "      <td>0.0%</td>\n",
              "      <td>14533.0</td>\n",
              "    </tr>\n",
              "    <tr>\n",
              "      <th>15</th>\n",
              "      <td>16</td>\n",
              "      <td>Metroverse</td>\n",
              "      <td>0.98 ETH</td>\n",
              "      <td>16.2%</td>\n",
              "      <td>NaN</td>\n",
              "      <td>9,800.0 ETH</td>\n",
              "      <td>98.51 ETH</td>\n",
              "      <td>563.0</td>\n",
              "      <td>-11.1%</td>\n",
              "      <td>10000.0</td>\n",
              "    </tr>\n",
              "    <tr>\n",
              "      <th>16</th>\n",
              "      <td>17</td>\n",
              "      <td>Lazy Lions</td>\n",
              "      <td>1.525 ETH</td>\n",
              "      <td>1.6%</td>\n",
              "      <td>NaN</td>\n",
              "      <td>15,372.0 ETH</td>\n",
              "      <td>82.12 ETH</td>\n",
              "      <td>5020.0</td>\n",
              "      <td>0.2%</td>\n",
              "      <td>10080.0</td>\n",
              "    </tr>\n",
              "    <tr>\n",
              "      <th>17</th>\n",
              "      <td>18</td>\n",
              "      <td>PUNKS Comic</td>\n",
              "      <td>0.21 ETH</td>\n",
              "      <td>-1.8%</td>\n",
              "      <td>NaN</td>\n",
              "      <td>4,872.84 ETH</td>\n",
              "      <td>82.07 ETH</td>\n",
              "      <td>8110.0</td>\n",
              "      <td>0.2%</td>\n",
              "      <td>23204.0</td>\n",
              "    </tr>\n",
              "    <tr>\n",
              "      <th>18</th>\n",
              "      <td>19</td>\n",
              "      <td>Ready Player Cat NFT</td>\n",
              "      <td>0.095 ETH</td>\n",
              "      <td>-5.9%</td>\n",
              "      <td>NaN</td>\n",
              "      <td>470.25 ETH</td>\n",
              "      <td>80.36 ETH</td>\n",
              "      <td>2084.0</td>\n",
              "      <td>-0.0%</td>\n",
              "      <td>4950.0</td>\n",
              "    </tr>\n",
              "    <tr>\n",
              "      <th>19</th>\n",
              "      <td>20</td>\n",
              "      <td>Smilesss</td>\n",
              "      <td>1.77 ETH</td>\n",
              "      <td>-10.6%</td>\n",
              "      <td>NaN</td>\n",
              "      <td>15,455.64 ETH</td>\n",
              "      <td>68.73 ETH</td>\n",
              "      <td>4519.0</td>\n",
              "      <td>0.3%</td>\n",
              "      <td>8732.0</td>\n",
              "    </tr>\n",
              "    <tr>\n",
              "      <th>20</th>\n",
              "      <td>21</td>\n",
              "      <td>CyberKongz</td>\n",
              "      <td>7.56 ETH</td>\n",
              "      <td>-3.2%</td>\n",
              "      <td>NaN</td>\n",
              "      <td>37,800.0 ETH</td>\n",
              "      <td>62.38 ETH</td>\n",
              "      <td>2433.0</td>\n",
              "      <td>0.1%</td>\n",
              "      <td>5000.0</td>\n",
              "    </tr>\n",
              "    <tr>\n",
              "      <th>21</th>\n",
              "      <td>22</td>\n",
              "      <td>inbetweeners</td>\n",
              "      <td>0.63 ETH</td>\n",
              "      <td>-4.7%</td>\n",
              "      <td>NaN</td>\n",
              "      <td>6,789.51 ETH</td>\n",
              "      <td>62.1 ETH</td>\n",
              "      <td>5738.0</td>\n",
              "      <td>-0.1%</td>\n",
              "      <td>10777.0</td>\n",
              "    </tr>\n",
              "    <tr>\n",
              "      <th>22</th>\n",
              "      <td>23</td>\n",
              "      <td>Capsule House</td>\n",
              "      <td>1.89 ETH</td>\n",
              "      <td>1.0%</td>\n",
              "      <td>NaN</td>\n",
              "      <td>18,900.0 ETH</td>\n",
              "      <td>55.05 ETH</td>\n",
              "      <td>3743.0</td>\n",
              "      <td>0.3%</td>\n",
              "      <td>10000.0</td>\n",
              "    </tr>\n",
              "    <tr>\n",
              "      <th>23</th>\n",
              "      <td>24</td>\n",
              "      <td>Crypto Coven</td>\n",
              "      <td>1.94 ETH</td>\n",
              "      <td>-9.8%</td>\n",
              "      <td>NaN</td>\n",
              "      <td>18,928.58 ETH</td>\n",
              "      <td>50.6 ETH</td>\n",
              "      <td>4737.0</td>\n",
              "      <td>0.2%</td>\n",
              "      <td>9757.0</td>\n",
              "    </tr>\n",
              "    <tr>\n",
              "      <th>24</th>\n",
              "      <td>25</td>\n",
              "      <td>Creature World</td>\n",
              "      <td>1.16 ETH</td>\n",
              "      <td>-6.8%</td>\n",
              "      <td>NaN</td>\n",
              "      <td>11,600.0 ETH</td>\n",
              "      <td>50.47 ETH</td>\n",
              "      <td>6177.0</td>\n",
              "      <td>0.0%</td>\n",
              "      <td>10000.0</td>\n",
              "    </tr>\n",
              "  </tbody>\n",
              "</table>\n",
              "</div>\n",
              "      <button class=\"colab-df-convert\" onclick=\"convertToInteractive('df-f087df3e-0c22-42d0-8657-a14137453e8f')\"\n",
              "              title=\"Convert this dataframe to an interactive table.\"\n",
              "              style=\"display:none;\">\n",
              "        \n",
              "  <svg xmlns=\"http://www.w3.org/2000/svg\" height=\"24px\"viewBox=\"0 0 24 24\"\n",
              "       width=\"24px\">\n",
              "    <path d=\"M0 0h24v24H0V0z\" fill=\"none\"/>\n",
              "    <path d=\"M18.56 5.44l.94 2.06.94-2.06 2.06-.94-2.06-.94-.94-2.06-.94 2.06-2.06.94zm-11 1L8.5 8.5l.94-2.06 2.06-.94-2.06-.94L8.5 2.5l-.94 2.06-2.06.94zm10 10l.94 2.06.94-2.06 2.06-.94-2.06-.94-.94-2.06-.94 2.06-2.06.94z\"/><path d=\"M17.41 7.96l-1.37-1.37c-.4-.4-.92-.59-1.43-.59-.52 0-1.04.2-1.43.59L10.3 9.45l-7.72 7.72c-.78.78-.78 2.05 0 2.83L4 21.41c.39.39.9.59 1.41.59.51 0 1.02-.2 1.41-.59l7.78-7.78 2.81-2.81c.8-.78.8-2.07 0-2.86zM5.41 20L4 18.59l7.72-7.72 1.47 1.35L5.41 20z\"/>\n",
              "  </svg>\n",
              "      </button>\n",
              "      \n",
              "  <style>\n",
              "    .colab-df-container {\n",
              "      display:flex;\n",
              "      flex-wrap:wrap;\n",
              "      gap: 12px;\n",
              "    }\n",
              "\n",
              "    .colab-df-convert {\n",
              "      background-color: #E8F0FE;\n",
              "      border: none;\n",
              "      border-radius: 50%;\n",
              "      cursor: pointer;\n",
              "      display: none;\n",
              "      fill: #1967D2;\n",
              "      height: 32px;\n",
              "      padding: 0 0 0 0;\n",
              "      width: 32px;\n",
              "    }\n",
              "\n",
              "    .colab-df-convert:hover {\n",
              "      background-color: #E2EBFA;\n",
              "      box-shadow: 0px 1px 2px rgba(60, 64, 67, 0.3), 0px 1px 3px 1px rgba(60, 64, 67, 0.15);\n",
              "      fill: #174EA6;\n",
              "    }\n",
              "\n",
              "    [theme=dark] .colab-df-convert {\n",
              "      background-color: #3B4455;\n",
              "      fill: #D2E3FC;\n",
              "    }\n",
              "\n",
              "    [theme=dark] .colab-df-convert:hover {\n",
              "      background-color: #434B5C;\n",
              "      box-shadow: 0px 1px 3px 1px rgba(0, 0, 0, 0.15);\n",
              "      filter: drop-shadow(0px 1px 2px rgba(0, 0, 0, 0.3));\n",
              "      fill: #FFFFFF;\n",
              "    }\n",
              "  </style>\n",
              "\n",
              "      <script>\n",
              "        const buttonEl =\n",
              "          document.querySelector('#df-f087df3e-0c22-42d0-8657-a14137453e8f button.colab-df-convert');\n",
              "        buttonEl.style.display =\n",
              "          google.colab.kernel.accessAllowed ? 'block' : 'none';\n",
              "\n",
              "        async function convertToInteractive(key) {\n",
              "          const element = document.querySelector('#df-f087df3e-0c22-42d0-8657-a14137453e8f');\n",
              "          const dataTable =\n",
              "            await google.colab.kernel.invokeFunction('convertToInteractive',\n",
              "                                                     [key], {});\n",
              "          if (!dataTable) return;\n",
              "\n",
              "          const docLinkHtml = 'Like what you see? Visit the ' +\n",
              "            '<a target=\"_blank\" href=https://colab.research.google.com/notebooks/data_table.ipynb>data table notebook</a>'\n",
              "            + ' to learn more about interactive tables.';\n",
              "          element.innerHTML = '';\n",
              "          dataTable['output_type'] = 'display_data';\n",
              "          await google.colab.output.renderOutput(dataTable, element);\n",
              "          const docLink = document.createElement('div');\n",
              "          docLink.innerHTML = docLinkHtml;\n",
              "          element.appendChild(docLink);\n",
              "        }\n",
              "      </script>\n",
              "    </div>\n",
              "  </div>\n",
              "  "
            ],
            "text/plain": [
              "     #                        NFT  ... 24h Owners Total Assets\n",
              "0    1                 dotdotdots  ...       0.2%       4870.0\n",
              "1    2       Bored Ape Yacht Club  ...      -0.1%       9999.0\n",
              "2    3                  Cool Pets  ...      11.8%      18160.0\n",
              "3    4                     CloneX  ...       0.4%      18849.0\n",
              "4    5                      Azuki  ...      -0.1%      10000.0\n",
              "5    6      Mutant Ape Yacht Club  ...       0.2%      17954.0\n",
              "6    7                       LAND  ...       2.0%     143950.0\n",
              "7    8                  Cool Cats  ...       0.3%       9933.0\n",
              "8    9        Zipcy's SuperNormal  ...      -0.3%       8888.0\n",
              "9   10                    Doodles  ...       0.1%      10000.0\n",
              "10  11                  CrypToadz  ...       0.4%       7025.0\n",
              "11  12             World of Women  ...       0.1%      10000.0\n",
              "12  13            Adam Bomb Squad  ...      -0.2%      24999.0\n",
              "13  14             Lives of Asuna  ...       0.0%      10000.0\n",
              "14  15  Decentral Games ICE Poker  ...       0.0%      14533.0\n",
              "15  16                 Metroverse  ...     -11.1%      10000.0\n",
              "16  17                 Lazy Lions  ...       0.2%      10080.0\n",
              "17  18                PUNKS Comic  ...       0.2%      23204.0\n",
              "18  19       Ready Player Cat NFT  ...      -0.0%       4950.0\n",
              "19  20                   Smilesss  ...       0.3%       8732.0\n",
              "20  21                 CyberKongz  ...       0.1%       5000.0\n",
              "21  22               inbetweeners  ...      -0.1%      10777.0\n",
              "22  23              Capsule House  ...       0.3%      10000.0\n",
              "23  24               Crypto Coven  ...       0.2%       9757.0\n",
              "24  25             Creature World  ...       0.0%      10000.0\n",
              "\n",
              "[25 rows x 10 columns]"
            ]
          },
          "metadata": {},
          "execution_count": 6
        }
      ]
    },
    {
      "cell_type": "markdown",
      "source": [
        "- Como eu quero por volta dos últimos 500 NFTs e cada página da coingecko oferece 25 nfts, preciso acessar até a página 20."
      ],
      "metadata": {
        "id": "vzRgZIMlLqsr"
      }
    },
    {
      "cell_type": "code",
      "source": [
        "dfs = []\n",
        "for i in range (2, 6):\n",
        "  request2 = requests.get(f\"https://www.coingecko.com/en/nft?page={i}\").text\n",
        "  df = pd.read_html(request2)\n",
        "  dfs.append(df)"
      ],
      "metadata": {
        "id": "yluQB6A-Kh6d"
      },
      "execution_count": 7,
      "outputs": []
    },
    {
      "cell_type": "code",
      "source": [
        "dfs"
      ],
      "metadata": {
        "colab": {
          "base_uri": "https://localhost:8080/"
        },
        "id": "RqKCglZQR8hk",
        "outputId": "f01bb87d-281c-49e9-b2ae-0630c95e1e23"
      },
      "execution_count": 8,
      "outputs": [
        {
          "output_type": "execute_result",
          "data": {
            "text/plain": [
              "[[     #                           NFT  ... 24h Owners Total Assets\n",
              "  0   26                    VeeFriends  ...      -0.0%      10255.0\n",
              "  1   27  Forgotten Runes Wizards Cult  ...       0.1%       9409.0\n",
              "  2   28                 Boss Beauties  ...      -0.1%      10000.0\n",
              "  3   29                 Chain Runners  ...      -0.2%      10000.0\n",
              "  4   30                FVCK_CRYSTAL//  ...      -0.1%       4169.0\n",
              "  5   31               Crypto Unicorns  ...       0.0%      10000.0\n",
              "  6   32                 JRNY NFT Club  ...      -0.1%      10000.0\n",
              "  7   33                       Blitmap  ...       1.5%       1700.0\n",
              "  8   34                     LilHeroes  ...      -0.2%       7776.0\n",
              "  9   35                      MetaHero  ...       2.0%       6457.0\n",
              "  10  36                    FLUF World  ...       0.3%      10000.0\n",
              "  11  37                     MekaVerse  ...      -0.2%       8888.0\n",
              "  12  38               the littles nft  ...      -0.4%      10000.0\n",
              "  13  39                X Rabbits Club  ...       0.1%       7502.0\n",
              "  14  40                   CHIBI DINOS  ...      -1.3%      10000.0\n",
              "  15  41                 OnChainMonkey  ...       0.1%       9500.0\n",
              "  16  42                   Phanta Bear  ...       0.1%      10000.0\n",
              "  17  43                The Doge Pound  ...      -0.1%      10000.0\n",
              "  18  44      Sneaky Vampire Syndicate  ...      -0.8%       8888.0\n",
              "  19  45                      BYO Land  ...      -0.2%      10056.0\n",
              "  20  46                    Lost Poets  ...      -0.1%      27675.0\n",
              "  21  47                      BYOPills  ...      -0.1%      10000.0\n",
              "  22  48                 PudgyPenguins  ...      -0.1%       8888.0\n",
              "  23  49                  loomlock NFT  ...      -0.0%       9546.0\n",
              "  24  50                     0N1 Force  ...      -0.0%       7777.0\n",
              "  \n",
              "  [25 rows x 10 columns]],\n",
              " [     #                                   NFT  ... 24h Owners Total Assets\n",
              "  0   51                                  Loot  ...      -0.0%       7779.0\n",
              "  1   52                                 merge  ...       0.1%      27087.0\n",
              "  2   53                        Corruption(s*)  ...      -0.9%       4196.0\n",
              "  3   54                       Treeverse Plots  ...      -0.2%      10420.0\n",
              "  4   55                 MoonCats - Acclimated  ...       0.1%      18903.0\n",
              "  5   56                          The Currency  ...       0.5%       2204.0\n",
              "  6   57                        Divine Anarchy  ...      -0.1%      10011.0\n",
              "  7   58                              Timeless  ...      -0.1%       9421.0\n",
              "  8   59                   Global Citizen Club  ...      -0.9%       8888.0\n",
              "  9   60                           Satoshibles  ...      -1.8%       5000.0\n",
              "  10  61                             Hashmasks  ...       0.0%      16370.0\n",
              "  11  62                          Samurai Saga  ...      -0.8%       9999.0\n",
              "  12  63                        GenesisApostle  ...       0.0%       7214.0\n",
              "  13  64  Jenkins the Valet: The Writer's Room  ...       0.0%       6942.0\n",
              "  14  65                              Animetas  ...      -0.0%      10101.0\n",
              "  15  66                             Anonymice  ...      -0.3%      10000.0\n",
              "  16  67                                 8SIAN  ...       0.0%       8786.0\n",
              "  17  68                         Sipherian Inu  ...      -0.0%       9999.0\n",
              "  18  69              Purrnelopes Country Club  ...       0.0%      10000.0\n",
              "  19  70                        SpacePunksClub  ...      -0.1%       9995.0\n",
              "  20  71                           Galaxy Eggs  ...       0.0%       9999.0\n",
              "  21  72                            Lil Pudgys  ...      -0.1%      18749.0\n",
              "  22  73                         Ethereals WTF  ...      -0.4%      12345.0\n",
              "  23  74                   The Vogu Collective  ...      -0.0%       7777.0\n",
              "  24  75          Citizens of Bulliever Island  ...       0.0%      10000.0\n",
              "  \n",
              "  [25 rows x 10 columns]],\n",
              " [      #                               NFT  ... 24h Owners Total Assets\n",
              "  0    76                          IreneDAO  ...       0.0%       1106.0\n",
              "  1    77            Wizards & Dragons Game  ...       0.0%      46169.0\n",
              "  2    78              iNFT Personality Pod  ...       0.2%       9811.0\n",
              "  3    79                       EtherLambos  ...       0.0%       1600.0\n",
              "  4    80       Curious Addys' Trading Club  ...       0.2%       5000.0\n",
              "  5    81       Tom Sachs Rocket Components  ...      -0.2%       1866.0\n",
              "  6    82                           Fortune  ...       0.5%          4.0\n",
              "  7    83                       Stoner Cats  ...       0.1%      10419.0\n",
              "  8    84               The Wicked Craniums  ...       0.1%      10762.0\n",
              "  9    85                        Chibi Apes  ...      -0.2%       3000.0\n",
              "  10   86                           HeadDAO  ...       0.8%      10000.0\n",
              "  11   87               Star Sailor Sibings  ...       0.0%      10100.0\n",
              "  12   88  CryptoHoots Steampunk Parliament  ...       0.3%       2500.0\n",
              "  13   89                           Feudalz  ...      -2.2%       4444.0\n",
              "  14   90         Koala Intelligence Agency  ...      -0.0%      10000.0\n",
              "  15   91                          Avastars  ...       0.0%      25455.0\n",
              "  16   92                  PartyDegenerates  ...      -0.1%       9999.0\n",
              "  17   93                  Generative Masks  ...      -0.1%       9999.0\n",
              "  18   94                        The Sevens  ...      -0.6%       7000.0\n",
              "  19   95                     Apes of Space  ...       0.1%      10000.0\n",
              "  20   96                         Ethermore  ...       0.0%      15000.0\n",
              "  21   97                 Angry Apes United  ...       0.0%       8888.0\n",
              "  22   98               Baby Battle Bots G1  ...       0.1%       3498.0\n",
              "  23   99                    APE DAO REMIX!  ...      -0.1%       5550.0\n",
              "  24  100                         Gauntlets  ...       0.1%      10000.0\n",
              "  \n",
              "  [25 rows x 10 columns]],\n",
              " [      #                  NFT Floor Price  ...  Owners  24h Owners Total Assets\n",
              "  0   101      Bored Ape Comic   0.029 ETH  ...  2705.0       -0.1%       9999.0\n",
              "  1   102                Bloot    0.04 ETH  ...  3965.0       -0.1%       8008.0\n",
              "  2   103        Tools of Rock    0.04 ETH  ...  2274.0       -0.1%       7535.0\n",
              "  3   104   CryptoZoo Base Egg  0.1299 ETH  ...  1477.0        0.0%       4160.0\n",
              "  4   105             Metakrew    0.08 ETH  ...  3239.0       -0.1%       7335.0\n",
              "  5   106       HeavenComputer   0.085 ETH  ...  2904.0       -0.1%       7777.0\n",
              "  6   107         Genesis Mana   0.168 ETH  ...   593.0        0.0%       7712.0\n",
              "  7   108         JunkYardDogs    0.04 ETH  ...  3401.0        0.0%       7976.0\n",
              "  8   109   AlphaBetty Doodles  0.0399 ETH  ...  3545.0        0.0%      10000.0\n",
              "  9   110        Space Poggers   0.015 ETH  ...  3447.0       -0.0%      12442.0\n",
              "  10  111          Dope Shibas   0.022 ETH  ...  3987.0        0.2%       9899.0\n",
              "  11  112        Bored Bananas    0.05 ETH  ...  1839.0        0.1%       4027.0\n",
              "  12  113  Light Super Bunnies  0.0123 ETH  ...  1718.0        0.0%       4457.0\n",
              "  13  114               Skullx   0.035 ETH  ...  2572.0       -0.0%      10000.0\n",
              "  14  115    Cometh Spaceships   0.065 ETH  ...   678.0        0.0%      11357.0\n",
              "  15  116          Derpy Birbs   0.009 ETH  ...  1843.0        0.1%       8192.0\n",
              "  16  117        CryptoZombiez    0.03 ETH  ...   813.0        0.0%       5555.0\n",
              "  17  118           Night Kids    0.02 ETH  ...  2192.0        0.0%       5554.0\n",
              "  18  119           COVIDPunks   0.009 ETH  ...   189.0        0.0%        305.0\n",
              "  19  120         Passive Apes         ETH  ...  1239.0        0.0%       4500.0\n",
              "  20  121         Lee Mullican         ETH  ...    15.0        0.0%         16.0\n",
              "  21  122      Spirit Orb Pets     1.0 ETH  ...   370.0        0.0%        777.0\n",
              "  22  123   United Punks Union         ETH  ...  1192.0        0.0%       3624.0\n",
              "  23  124           Borpacasso         ETH  ...  1149.0       -0.1%       2250.0\n",
              "  24  125      Pudgy Halloween         ETH  ...  1327.0        0.0%          3.0\n",
              "  \n",
              "  [25 rows x 10 columns]]]"
            ]
          },
          "metadata": {},
          "execution_count": 8
        }
      ]
    },
    {
      "cell_type": "code",
      "source": [
        "len(dfs)"
      ],
      "metadata": {
        "colab": {
          "base_uri": "https://localhost:8080/"
        },
        "id": "6Jai6uF5R_ad",
        "outputId": "f148c245-32e8-4eb2-c88f-ffc3184e7b14"
      },
      "execution_count": 9,
      "outputs": [
        {
          "output_type": "execute_result",
          "data": {
            "text/plain": [
              "4"
            ]
          },
          "metadata": {},
          "execution_count": 9
        }
      ]
    },
    {
      "cell_type": "code",
      "source": [
        "datasets = []\n",
        "for i in range(len(dfs)):\n",
        "  datasets.append(dfs[i][0])"
      ],
      "metadata": {
        "id": "C1vP8GABMUsB"
      },
      "execution_count": 10,
      "outputs": []
    },
    {
      "cell_type": "code",
      "source": [
        "len(datasets)"
      ],
      "metadata": {
        "colab": {
          "base_uri": "https://localhost:8080/"
        },
        "id": "3g2nDxFuR40o",
        "outputId": "163ff796-2e5f-4ccf-9e3f-4d0e7b780e7b"
      },
      "execution_count": 11,
      "outputs": [
        {
          "output_type": "execute_result",
          "data": {
            "text/plain": [
              "4"
            ]
          },
          "metadata": {},
          "execution_count": 11
        }
      ]
    },
    {
      "cell_type": "code",
      "source": [
        "df_final = pd.concat([df1, datasets[0], datasets[1], datasets[2], datasets[3]], ignore_index=True)"
      ],
      "metadata": {
        "id": "WVO9n2rqNSnR"
      },
      "execution_count": 12,
      "outputs": []
    },
    {
      "cell_type": "code",
      "source": [
        "df_final"
      ],
      "metadata": {
        "colab": {
          "base_uri": "https://localhost:8080/",
          "height": 0
        },
        "id": "omXfHi57RY6K",
        "outputId": "0b265ef4-9639-4c73-d825-13bc45930508"
      },
      "execution_count": 13,
      "outputs": [
        {
          "output_type": "execute_result",
          "data": {
            "text/html": [
              "\n",
              "  <div id=\"df-ee67cb57-8455-4fe3-841d-d9eff56e5316\">\n",
              "    <div class=\"colab-df-container\">\n",
              "      <div>\n",
              "<style scoped>\n",
              "    .dataframe tbody tr th:only-of-type {\n",
              "        vertical-align: middle;\n",
              "    }\n",
              "\n",
              "    .dataframe tbody tr th {\n",
              "        vertical-align: top;\n",
              "    }\n",
              "\n",
              "    .dataframe thead th {\n",
              "        text-align: right;\n",
              "    }\n",
              "</style>\n",
              "<table border=\"1\" class=\"dataframe\">\n",
              "  <thead>\n",
              "    <tr style=\"text-align: right;\">\n",
              "      <th></th>\n",
              "      <th>#</th>\n",
              "      <th>NFT</th>\n",
              "      <th>Floor Price</th>\n",
              "      <th>24h</th>\n",
              "      <th>7d</th>\n",
              "      <th>Market Cap</th>\n",
              "      <th>24h Volume</th>\n",
              "      <th>Owners</th>\n",
              "      <th>24h Owners</th>\n",
              "      <th>Total Assets</th>\n",
              "    </tr>\n",
              "  </thead>\n",
              "  <tbody>\n",
              "    <tr>\n",
              "      <th>0</th>\n",
              "      <td>1</td>\n",
              "      <td>dotdotdots</td>\n",
              "      <td>0.175 ETH</td>\n",
              "      <td>-17.4%</td>\n",
              "      <td>NaN</td>\n",
              "      <td>852.25 ETH</td>\n",
              "      <td>12,306.69 ETH</td>\n",
              "      <td>2650.0</td>\n",
              "      <td>0.2%</td>\n",
              "      <td>4870.0</td>\n",
              "    </tr>\n",
              "    <tr>\n",
              "      <th>1</th>\n",
              "      <td>2</td>\n",
              "      <td>Bored Ape Yacht Club</td>\n",
              "      <td>92.0 ETH</td>\n",
              "      <td>-4.5%</td>\n",
              "      <td>NaN</td>\n",
              "      <td>919,908.0 ETH</td>\n",
              "      <td>1,207.09 ETH</td>\n",
              "      <td>6310.0</td>\n",
              "      <td>-0.1%</td>\n",
              "      <td>9999.0</td>\n",
              "    </tr>\n",
              "    <tr>\n",
              "      <th>2</th>\n",
              "      <td>3</td>\n",
              "      <td>Cool Pets</td>\n",
              "      <td>2.334 ETH</td>\n",
              "      <td>-13.4%</td>\n",
              "      <td>NaN</td>\n",
              "      <td>42,385.44 ETH</td>\n",
              "      <td>1,007.5 ETH</td>\n",
              "      <td>10753.0</td>\n",
              "      <td>11.8%</td>\n",
              "      <td>18160.0</td>\n",
              "    </tr>\n",
              "    <tr>\n",
              "      <th>3</th>\n",
              "      <td>4</td>\n",
              "      <td>CloneX</td>\n",
              "      <td>14.5 ETH</td>\n",
              "      <td>-2.6%</td>\n",
              "      <td>NaN</td>\n",
              "      <td>273,310.5 ETH</td>\n",
              "      <td>825.25 ETH</td>\n",
              "      <td>8259.0</td>\n",
              "      <td>0.4%</td>\n",
              "      <td>18849.0</td>\n",
              "    </tr>\n",
              "    <tr>\n",
              "      <th>4</th>\n",
              "      <td>5</td>\n",
              "      <td>Azuki</td>\n",
              "      <td>10.6 ETH</td>\n",
              "      <td>-9.3%</td>\n",
              "      <td>NaN</td>\n",
              "      <td>106,000.0 ETH</td>\n",
              "      <td>817.38 ETH</td>\n",
              "      <td>5403.0</td>\n",
              "      <td>-0.1%</td>\n",
              "      <td>10000.0</td>\n",
              "    </tr>\n",
              "    <tr>\n",
              "      <th>...</th>\n",
              "      <td>...</td>\n",
              "      <td>...</td>\n",
              "      <td>...</td>\n",
              "      <td>...</td>\n",
              "      <td>...</td>\n",
              "      <td>...</td>\n",
              "      <td>...</td>\n",
              "      <td>...</td>\n",
              "      <td>...</td>\n",
              "      <td>...</td>\n",
              "    </tr>\n",
              "    <tr>\n",
              "      <th>120</th>\n",
              "      <td>121</td>\n",
              "      <td>Lee Mullican</td>\n",
              "      <td>ETH</td>\n",
              "      <td>-100.0%</td>\n",
              "      <td>NaN</td>\n",
              "      <td>0.0 ETH</td>\n",
              "      <td>0.0 ETH</td>\n",
              "      <td>15.0</td>\n",
              "      <td>0.0%</td>\n",
              "      <td>16.0</td>\n",
              "    </tr>\n",
              "    <tr>\n",
              "      <th>121</th>\n",
              "      <td>122</td>\n",
              "      <td>Spirit Orb Pets</td>\n",
              "      <td>1.0 ETH</td>\n",
              "      <td>1771.0%</td>\n",
              "      <td>NaN</td>\n",
              "      <td>777.0 ETH</td>\n",
              "      <td>0.0 ETH</td>\n",
              "      <td>370.0</td>\n",
              "      <td>0.0%</td>\n",
              "      <td>777.0</td>\n",
              "    </tr>\n",
              "    <tr>\n",
              "      <th>122</th>\n",
              "      <td>123</td>\n",
              "      <td>United Punks Union</td>\n",
              "      <td>ETH</td>\n",
              "      <td>-100.0%</td>\n",
              "      <td>NaN</td>\n",
              "      <td>0.0 ETH</td>\n",
              "      <td>0.0 ETH</td>\n",
              "      <td>1192.0</td>\n",
              "      <td>0.0%</td>\n",
              "      <td>3624.0</td>\n",
              "    </tr>\n",
              "    <tr>\n",
              "      <th>123</th>\n",
              "      <td>124</td>\n",
              "      <td>Borpacasso</td>\n",
              "      <td>ETH</td>\n",
              "      <td>-100.0%</td>\n",
              "      <td>NaN</td>\n",
              "      <td>0.0 ETH</td>\n",
              "      <td>0.0 ETH</td>\n",
              "      <td>1149.0</td>\n",
              "      <td>-0.1%</td>\n",
              "      <td>2250.0</td>\n",
              "    </tr>\n",
              "    <tr>\n",
              "      <th>124</th>\n",
              "      <td>125</td>\n",
              "      <td>Pudgy Halloween</td>\n",
              "      <td>ETH</td>\n",
              "      <td>-100.0%</td>\n",
              "      <td>NaN</td>\n",
              "      <td>0.0 ETH</td>\n",
              "      <td>0.0 ETH</td>\n",
              "      <td>1327.0</td>\n",
              "      <td>0.0%</td>\n",
              "      <td>3.0</td>\n",
              "    </tr>\n",
              "  </tbody>\n",
              "</table>\n",
              "<p>125 rows × 10 columns</p>\n",
              "</div>\n",
              "      <button class=\"colab-df-convert\" onclick=\"convertToInteractive('df-ee67cb57-8455-4fe3-841d-d9eff56e5316')\"\n",
              "              title=\"Convert this dataframe to an interactive table.\"\n",
              "              style=\"display:none;\">\n",
              "        \n",
              "  <svg xmlns=\"http://www.w3.org/2000/svg\" height=\"24px\"viewBox=\"0 0 24 24\"\n",
              "       width=\"24px\">\n",
              "    <path d=\"M0 0h24v24H0V0z\" fill=\"none\"/>\n",
              "    <path d=\"M18.56 5.44l.94 2.06.94-2.06 2.06-.94-2.06-.94-.94-2.06-.94 2.06-2.06.94zm-11 1L8.5 8.5l.94-2.06 2.06-.94-2.06-.94L8.5 2.5l-.94 2.06-2.06.94zm10 10l.94 2.06.94-2.06 2.06-.94-2.06-.94-.94-2.06-.94 2.06-2.06.94z\"/><path d=\"M17.41 7.96l-1.37-1.37c-.4-.4-.92-.59-1.43-.59-.52 0-1.04.2-1.43.59L10.3 9.45l-7.72 7.72c-.78.78-.78 2.05 0 2.83L4 21.41c.39.39.9.59 1.41.59.51 0 1.02-.2 1.41-.59l7.78-7.78 2.81-2.81c.8-.78.8-2.07 0-2.86zM5.41 20L4 18.59l7.72-7.72 1.47 1.35L5.41 20z\"/>\n",
              "  </svg>\n",
              "      </button>\n",
              "      \n",
              "  <style>\n",
              "    .colab-df-container {\n",
              "      display:flex;\n",
              "      flex-wrap:wrap;\n",
              "      gap: 12px;\n",
              "    }\n",
              "\n",
              "    .colab-df-convert {\n",
              "      background-color: #E8F0FE;\n",
              "      border: none;\n",
              "      border-radius: 50%;\n",
              "      cursor: pointer;\n",
              "      display: none;\n",
              "      fill: #1967D2;\n",
              "      height: 32px;\n",
              "      padding: 0 0 0 0;\n",
              "      width: 32px;\n",
              "    }\n",
              "\n",
              "    .colab-df-convert:hover {\n",
              "      background-color: #E2EBFA;\n",
              "      box-shadow: 0px 1px 2px rgba(60, 64, 67, 0.3), 0px 1px 3px 1px rgba(60, 64, 67, 0.15);\n",
              "      fill: #174EA6;\n",
              "    }\n",
              "\n",
              "    [theme=dark] .colab-df-convert {\n",
              "      background-color: #3B4455;\n",
              "      fill: #D2E3FC;\n",
              "    }\n",
              "\n",
              "    [theme=dark] .colab-df-convert:hover {\n",
              "      background-color: #434B5C;\n",
              "      box-shadow: 0px 1px 3px 1px rgba(0, 0, 0, 0.15);\n",
              "      filter: drop-shadow(0px 1px 2px rgba(0, 0, 0, 0.3));\n",
              "      fill: #FFFFFF;\n",
              "    }\n",
              "  </style>\n",
              "\n",
              "      <script>\n",
              "        const buttonEl =\n",
              "          document.querySelector('#df-ee67cb57-8455-4fe3-841d-d9eff56e5316 button.colab-df-convert');\n",
              "        buttonEl.style.display =\n",
              "          google.colab.kernel.accessAllowed ? 'block' : 'none';\n",
              "\n",
              "        async function convertToInteractive(key) {\n",
              "          const element = document.querySelector('#df-ee67cb57-8455-4fe3-841d-d9eff56e5316');\n",
              "          const dataTable =\n",
              "            await google.colab.kernel.invokeFunction('convertToInteractive',\n",
              "                                                     [key], {});\n",
              "          if (!dataTable) return;\n",
              "\n",
              "          const docLinkHtml = 'Like what you see? Visit the ' +\n",
              "            '<a target=\"_blank\" href=https://colab.research.google.com/notebooks/data_table.ipynb>data table notebook</a>'\n",
              "            + ' to learn more about interactive tables.';\n",
              "          element.innerHTML = '';\n",
              "          dataTable['output_type'] = 'display_data';\n",
              "          await google.colab.output.renderOutput(dataTable, element);\n",
              "          const docLink = document.createElement('div');\n",
              "          docLink.innerHTML = docLinkHtml;\n",
              "          element.appendChild(docLink);\n",
              "        }\n",
              "      </script>\n",
              "    </div>\n",
              "  </div>\n",
              "  "
            ],
            "text/plain": [
              "       #                   NFT Floor Price  ...   Owners  24h Owners Total Assets\n",
              "0      1            dotdotdots   0.175 ETH  ...   2650.0        0.2%       4870.0\n",
              "1      2  Bored Ape Yacht Club    92.0 ETH  ...   6310.0       -0.1%       9999.0\n",
              "2      3             Cool Pets   2.334 ETH  ...  10753.0       11.8%      18160.0\n",
              "3      4                CloneX    14.5 ETH  ...   8259.0        0.4%      18849.0\n",
              "4      5                 Azuki    10.6 ETH  ...   5403.0       -0.1%      10000.0\n",
              "..   ...                   ...         ...  ...      ...         ...          ...\n",
              "120  121          Lee Mullican         ETH  ...     15.0        0.0%         16.0\n",
              "121  122       Spirit Orb Pets     1.0 ETH  ...    370.0        0.0%        777.0\n",
              "122  123    United Punks Union         ETH  ...   1192.0        0.0%       3624.0\n",
              "123  124            Borpacasso         ETH  ...   1149.0       -0.1%       2250.0\n",
              "124  125       Pudgy Halloween         ETH  ...   1327.0        0.0%          3.0\n",
              "\n",
              "[125 rows x 10 columns]"
            ]
          },
          "metadata": {},
          "execution_count": 13
        }
      ]
    },
    {
      "cell_type": "markdown",
      "source": [
        "###Floor Price:"
      ],
      "metadata": {
        "id": "YjoXVEOdfN-I"
      }
    },
    {
      "cell_type": "code",
      "source": [
        "prices = []\n",
        "for price in df_final['Floor Price']:\n",
        "  price = price.split()\n",
        "  if price[0] == 'ETH':\n",
        "    price[0] = 0\n",
        "    price.append('ETH')\n",
        "  \n",
        "  prices.append(price[0])"
      ],
      "metadata": {
        "id": "BQrX_LsGf6bo"
      },
      "execution_count": 14,
      "outputs": []
    },
    {
      "cell_type": "code",
      "source": [
        "df_final['Floor Price'] = prices"
      ],
      "metadata": {
        "id": "55ULsGhpftl1"
      },
      "execution_count": 15,
      "outputs": []
    },
    {
      "cell_type": "code",
      "source": [
        "df_final['Floor Price'] = df_final['Floor Price'].astype(float)"
      ],
      "metadata": {
        "id": "HfzET68qftop"
      },
      "execution_count": 16,
      "outputs": []
    },
    {
      "cell_type": "markdown",
      "source": [
        "###Market Cap:"
      ],
      "metadata": {
        "id": "9GhRQOwDjpIp"
      }
    },
    {
      "cell_type": "code",
      "source": [
        "df_final['Market Cap']"
      ],
      "metadata": {
        "colab": {
          "base_uri": "https://localhost:8080/"
        },
        "id": "_Oq0-qigjus4",
        "outputId": "5fcf5f0a-7086-4400-d6db-77433153aaee"
      },
      "execution_count": 17,
      "outputs": [
        {
          "output_type": "execute_result",
          "data": {
            "text/plain": [
              "0         852.25 ETH\n",
              "1      919,908.0 ETH\n",
              "2      42,385.44 ETH\n",
              "3      273,310.5 ETH\n",
              "4      106,000.0 ETH\n",
              "           ...      \n",
              "120          0.0 ETH\n",
              "121        777.0 ETH\n",
              "122          0.0 ETH\n",
              "123          0.0 ETH\n",
              "124          0.0 ETH\n",
              "Name: Market Cap, Length: 125, dtype: object"
            ]
          },
          "metadata": {},
          "execution_count": 17
        }
      ]
    },
    {
      "cell_type": "code",
      "source": [
        "market_caps = []\n",
        "for market_cap in df_final['Market Cap']:\n",
        "  market_cap = market_cap.split()\n",
        "  market_caps.append(market_cap[0])"
      ],
      "metadata": {
        "id": "oFaEtQWIjvAv"
      },
      "execution_count": 18,
      "outputs": []
    },
    {
      "cell_type": "code",
      "source": [
        "for i in market_caps:\n",
        "  if type(i) != type('str'):\n",
        "    print('Não tem dados com tipo string')"
      ],
      "metadata": {
        "id": "XKJT8jwLjvDF"
      },
      "execution_count": 19,
      "outputs": []
    },
    {
      "cell_type": "code",
      "source": [
        "market_caps_final = []\n",
        "for mks in market_caps:\n",
        "  mks = mks.split(',')\n",
        "  if len(mks) > 1:\n",
        "    mks = mks[0] + '' + mks[1]\n",
        "    market_caps_final.append(mks)\n",
        "  else:\n",
        "    market_caps_final.append(mks[0])\n"
      ],
      "metadata": {
        "id": "86C46eLklEmg"
      },
      "execution_count": 20,
      "outputs": []
    },
    {
      "cell_type": "code",
      "source": [
        "df_final['Market Cap'] = market_caps_final"
      ],
      "metadata": {
        "id": "UzeW_6qmkpkD"
      },
      "execution_count": 21,
      "outputs": []
    },
    {
      "cell_type": "code",
      "source": [
        "market_caps_final = df_final['Market Cap'].astype(float)"
      ],
      "metadata": {
        "id": "Kh5QR4IZkyHW"
      },
      "execution_count": 22,
      "outputs": []
    },
    {
      "cell_type": "markdown",
      "source": [
        "###24h(Variação em %):"
      ],
      "metadata": {
        "id": "kHueQHARYQ-y"
      }
    },
    {
      "cell_type": "code",
      "source": [
        "df_final = df_final.rename(columns={'24h':'24h(%)'})"
      ],
      "metadata": {
        "id": "8H57jgygYQWO"
      },
      "execution_count": 23,
      "outputs": []
    },
    {
      "cell_type": "code",
      "source": [
        "df_final.head()"
      ],
      "metadata": {
        "colab": {
          "base_uri": "https://localhost:8080/",
          "height": 0
        },
        "id": "hwqsOMc4Y3Yv",
        "outputId": "328291f8-0119-4129-9d9e-0009e036d92d"
      },
      "execution_count": 24,
      "outputs": [
        {
          "output_type": "execute_result",
          "data": {
            "text/html": [
              "\n",
              "  <div id=\"df-14a17b8c-c0f6-4e39-a5fd-a134c29ad7a6\">\n",
              "    <div class=\"colab-df-container\">\n",
              "      <div>\n",
              "<style scoped>\n",
              "    .dataframe tbody tr th:only-of-type {\n",
              "        vertical-align: middle;\n",
              "    }\n",
              "\n",
              "    .dataframe tbody tr th {\n",
              "        vertical-align: top;\n",
              "    }\n",
              "\n",
              "    .dataframe thead th {\n",
              "        text-align: right;\n",
              "    }\n",
              "</style>\n",
              "<table border=\"1\" class=\"dataframe\">\n",
              "  <thead>\n",
              "    <tr style=\"text-align: right;\">\n",
              "      <th></th>\n",
              "      <th>#</th>\n",
              "      <th>NFT</th>\n",
              "      <th>Floor Price</th>\n",
              "      <th>24h(%)</th>\n",
              "      <th>7d</th>\n",
              "      <th>Market Cap</th>\n",
              "      <th>24h Volume</th>\n",
              "      <th>Owners</th>\n",
              "      <th>24h Owners</th>\n",
              "      <th>Total Assets</th>\n",
              "    </tr>\n",
              "  </thead>\n",
              "  <tbody>\n",
              "    <tr>\n",
              "      <th>0</th>\n",
              "      <td>1</td>\n",
              "      <td>dotdotdots</td>\n",
              "      <td>0.175</td>\n",
              "      <td>-17.4%</td>\n",
              "      <td>NaN</td>\n",
              "      <td>852.25</td>\n",
              "      <td>12,306.69 ETH</td>\n",
              "      <td>2650.0</td>\n",
              "      <td>0.2%</td>\n",
              "      <td>4870.0</td>\n",
              "    </tr>\n",
              "    <tr>\n",
              "      <th>1</th>\n",
              "      <td>2</td>\n",
              "      <td>Bored Ape Yacht Club</td>\n",
              "      <td>92.000</td>\n",
              "      <td>-4.5%</td>\n",
              "      <td>NaN</td>\n",
              "      <td>919908.0</td>\n",
              "      <td>1,207.09 ETH</td>\n",
              "      <td>6310.0</td>\n",
              "      <td>-0.1%</td>\n",
              "      <td>9999.0</td>\n",
              "    </tr>\n",
              "    <tr>\n",
              "      <th>2</th>\n",
              "      <td>3</td>\n",
              "      <td>Cool Pets</td>\n",
              "      <td>2.334</td>\n",
              "      <td>-13.4%</td>\n",
              "      <td>NaN</td>\n",
              "      <td>42385.44</td>\n",
              "      <td>1,007.5 ETH</td>\n",
              "      <td>10753.0</td>\n",
              "      <td>11.8%</td>\n",
              "      <td>18160.0</td>\n",
              "    </tr>\n",
              "    <tr>\n",
              "      <th>3</th>\n",
              "      <td>4</td>\n",
              "      <td>CloneX</td>\n",
              "      <td>14.500</td>\n",
              "      <td>-2.6%</td>\n",
              "      <td>NaN</td>\n",
              "      <td>273310.5</td>\n",
              "      <td>825.25 ETH</td>\n",
              "      <td>8259.0</td>\n",
              "      <td>0.4%</td>\n",
              "      <td>18849.0</td>\n",
              "    </tr>\n",
              "    <tr>\n",
              "      <th>4</th>\n",
              "      <td>5</td>\n",
              "      <td>Azuki</td>\n",
              "      <td>10.600</td>\n",
              "      <td>-9.3%</td>\n",
              "      <td>NaN</td>\n",
              "      <td>106000.0</td>\n",
              "      <td>817.38 ETH</td>\n",
              "      <td>5403.0</td>\n",
              "      <td>-0.1%</td>\n",
              "      <td>10000.0</td>\n",
              "    </tr>\n",
              "  </tbody>\n",
              "</table>\n",
              "</div>\n",
              "      <button class=\"colab-df-convert\" onclick=\"convertToInteractive('df-14a17b8c-c0f6-4e39-a5fd-a134c29ad7a6')\"\n",
              "              title=\"Convert this dataframe to an interactive table.\"\n",
              "              style=\"display:none;\">\n",
              "        \n",
              "  <svg xmlns=\"http://www.w3.org/2000/svg\" height=\"24px\"viewBox=\"0 0 24 24\"\n",
              "       width=\"24px\">\n",
              "    <path d=\"M0 0h24v24H0V0z\" fill=\"none\"/>\n",
              "    <path d=\"M18.56 5.44l.94 2.06.94-2.06 2.06-.94-2.06-.94-.94-2.06-.94 2.06-2.06.94zm-11 1L8.5 8.5l.94-2.06 2.06-.94-2.06-.94L8.5 2.5l-.94 2.06-2.06.94zm10 10l.94 2.06.94-2.06 2.06-.94-2.06-.94-.94-2.06-.94 2.06-2.06.94z\"/><path d=\"M17.41 7.96l-1.37-1.37c-.4-.4-.92-.59-1.43-.59-.52 0-1.04.2-1.43.59L10.3 9.45l-7.72 7.72c-.78.78-.78 2.05 0 2.83L4 21.41c.39.39.9.59 1.41.59.51 0 1.02-.2 1.41-.59l7.78-7.78 2.81-2.81c.8-.78.8-2.07 0-2.86zM5.41 20L4 18.59l7.72-7.72 1.47 1.35L5.41 20z\"/>\n",
              "  </svg>\n",
              "      </button>\n",
              "      \n",
              "  <style>\n",
              "    .colab-df-container {\n",
              "      display:flex;\n",
              "      flex-wrap:wrap;\n",
              "      gap: 12px;\n",
              "    }\n",
              "\n",
              "    .colab-df-convert {\n",
              "      background-color: #E8F0FE;\n",
              "      border: none;\n",
              "      border-radius: 50%;\n",
              "      cursor: pointer;\n",
              "      display: none;\n",
              "      fill: #1967D2;\n",
              "      height: 32px;\n",
              "      padding: 0 0 0 0;\n",
              "      width: 32px;\n",
              "    }\n",
              "\n",
              "    .colab-df-convert:hover {\n",
              "      background-color: #E2EBFA;\n",
              "      box-shadow: 0px 1px 2px rgba(60, 64, 67, 0.3), 0px 1px 3px 1px rgba(60, 64, 67, 0.15);\n",
              "      fill: #174EA6;\n",
              "    }\n",
              "\n",
              "    [theme=dark] .colab-df-convert {\n",
              "      background-color: #3B4455;\n",
              "      fill: #D2E3FC;\n",
              "    }\n",
              "\n",
              "    [theme=dark] .colab-df-convert:hover {\n",
              "      background-color: #434B5C;\n",
              "      box-shadow: 0px 1px 3px 1px rgba(0, 0, 0, 0.15);\n",
              "      filter: drop-shadow(0px 1px 2px rgba(0, 0, 0, 0.3));\n",
              "      fill: #FFFFFF;\n",
              "    }\n",
              "  </style>\n",
              "\n",
              "      <script>\n",
              "        const buttonEl =\n",
              "          document.querySelector('#df-14a17b8c-c0f6-4e39-a5fd-a134c29ad7a6 button.colab-df-convert');\n",
              "        buttonEl.style.display =\n",
              "          google.colab.kernel.accessAllowed ? 'block' : 'none';\n",
              "\n",
              "        async function convertToInteractive(key) {\n",
              "          const element = document.querySelector('#df-14a17b8c-c0f6-4e39-a5fd-a134c29ad7a6');\n",
              "          const dataTable =\n",
              "            await google.colab.kernel.invokeFunction('convertToInteractive',\n",
              "                                                     [key], {});\n",
              "          if (!dataTable) return;\n",
              "\n",
              "          const docLinkHtml = 'Like what you see? Visit the ' +\n",
              "            '<a target=\"_blank\" href=https://colab.research.google.com/notebooks/data_table.ipynb>data table notebook</a>'\n",
              "            + ' to learn more about interactive tables.';\n",
              "          element.innerHTML = '';\n",
              "          dataTable['output_type'] = 'display_data';\n",
              "          await google.colab.output.renderOutput(dataTable, element);\n",
              "          const docLink = document.createElement('div');\n",
              "          docLink.innerHTML = docLinkHtml;\n",
              "          element.appendChild(docLink);\n",
              "        }\n",
              "      </script>\n",
              "    </div>\n",
              "  </div>\n",
              "  "
            ],
            "text/plain": [
              "   #                   NFT  Floor Price  ...   Owners  24h Owners Total Assets\n",
              "0  1            dotdotdots        0.175  ...   2650.0        0.2%       4870.0\n",
              "1  2  Bored Ape Yacht Club       92.000  ...   6310.0       -0.1%       9999.0\n",
              "2  3             Cool Pets        2.334  ...  10753.0       11.8%      18160.0\n",
              "3  4                CloneX       14.500  ...   8259.0        0.4%      18849.0\n",
              "4  5                 Azuki       10.600  ...   5403.0       -0.1%      10000.0\n",
              "\n",
              "[5 rows x 10 columns]"
            ]
          },
          "metadata": {},
          "execution_count": 24
        }
      ]
    },
    {
      "cell_type": "code",
      "source": [
        "tfhours = []\n",
        "for per in df_final['24h(%)']:\n",
        "  per = per.split('%')\n",
        "  tfhours.append(float(per[0]))"
      ],
      "metadata": {
        "id": "-Va35MMwYTxl"
      },
      "execution_count": 25,
      "outputs": []
    },
    {
      "cell_type": "code",
      "source": [
        "df_final['24h(%)'] = tfhours"
      ],
      "metadata": {
        "id": "kZKS5lkLYTz7"
      },
      "execution_count": 26,
      "outputs": []
    },
    {
      "cell_type": "code",
      "source": [
        "df_final.head()"
      ],
      "metadata": {
        "colab": {
          "base_uri": "https://localhost:8080/",
          "height": 0
        },
        "id": "G1HuslchYT2Z",
        "outputId": "9f551406-ede6-4bc3-9e1d-4ef3b871ab9d"
      },
      "execution_count": 27,
      "outputs": [
        {
          "output_type": "execute_result",
          "data": {
            "text/html": [
              "\n",
              "  <div id=\"df-d04a6854-6deb-4276-8c1a-1b693f624e2b\">\n",
              "    <div class=\"colab-df-container\">\n",
              "      <div>\n",
              "<style scoped>\n",
              "    .dataframe tbody tr th:only-of-type {\n",
              "        vertical-align: middle;\n",
              "    }\n",
              "\n",
              "    .dataframe tbody tr th {\n",
              "        vertical-align: top;\n",
              "    }\n",
              "\n",
              "    .dataframe thead th {\n",
              "        text-align: right;\n",
              "    }\n",
              "</style>\n",
              "<table border=\"1\" class=\"dataframe\">\n",
              "  <thead>\n",
              "    <tr style=\"text-align: right;\">\n",
              "      <th></th>\n",
              "      <th>#</th>\n",
              "      <th>NFT</th>\n",
              "      <th>Floor Price</th>\n",
              "      <th>24h(%)</th>\n",
              "      <th>7d</th>\n",
              "      <th>Market Cap</th>\n",
              "      <th>24h Volume</th>\n",
              "      <th>Owners</th>\n",
              "      <th>24h Owners</th>\n",
              "      <th>Total Assets</th>\n",
              "    </tr>\n",
              "  </thead>\n",
              "  <tbody>\n",
              "    <tr>\n",
              "      <th>0</th>\n",
              "      <td>1</td>\n",
              "      <td>dotdotdots</td>\n",
              "      <td>0.175</td>\n",
              "      <td>-17.4</td>\n",
              "      <td>NaN</td>\n",
              "      <td>852.25</td>\n",
              "      <td>12,306.69 ETH</td>\n",
              "      <td>2650.0</td>\n",
              "      <td>0.2%</td>\n",
              "      <td>4870.0</td>\n",
              "    </tr>\n",
              "    <tr>\n",
              "      <th>1</th>\n",
              "      <td>2</td>\n",
              "      <td>Bored Ape Yacht Club</td>\n",
              "      <td>92.000</td>\n",
              "      <td>-4.5</td>\n",
              "      <td>NaN</td>\n",
              "      <td>919908.0</td>\n",
              "      <td>1,207.09 ETH</td>\n",
              "      <td>6310.0</td>\n",
              "      <td>-0.1%</td>\n",
              "      <td>9999.0</td>\n",
              "    </tr>\n",
              "    <tr>\n",
              "      <th>2</th>\n",
              "      <td>3</td>\n",
              "      <td>Cool Pets</td>\n",
              "      <td>2.334</td>\n",
              "      <td>-13.4</td>\n",
              "      <td>NaN</td>\n",
              "      <td>42385.44</td>\n",
              "      <td>1,007.5 ETH</td>\n",
              "      <td>10753.0</td>\n",
              "      <td>11.8%</td>\n",
              "      <td>18160.0</td>\n",
              "    </tr>\n",
              "    <tr>\n",
              "      <th>3</th>\n",
              "      <td>4</td>\n",
              "      <td>CloneX</td>\n",
              "      <td>14.500</td>\n",
              "      <td>-2.6</td>\n",
              "      <td>NaN</td>\n",
              "      <td>273310.5</td>\n",
              "      <td>825.25 ETH</td>\n",
              "      <td>8259.0</td>\n",
              "      <td>0.4%</td>\n",
              "      <td>18849.0</td>\n",
              "    </tr>\n",
              "    <tr>\n",
              "      <th>4</th>\n",
              "      <td>5</td>\n",
              "      <td>Azuki</td>\n",
              "      <td>10.600</td>\n",
              "      <td>-9.3</td>\n",
              "      <td>NaN</td>\n",
              "      <td>106000.0</td>\n",
              "      <td>817.38 ETH</td>\n",
              "      <td>5403.0</td>\n",
              "      <td>-0.1%</td>\n",
              "      <td>10000.0</td>\n",
              "    </tr>\n",
              "  </tbody>\n",
              "</table>\n",
              "</div>\n",
              "      <button class=\"colab-df-convert\" onclick=\"convertToInteractive('df-d04a6854-6deb-4276-8c1a-1b693f624e2b')\"\n",
              "              title=\"Convert this dataframe to an interactive table.\"\n",
              "              style=\"display:none;\">\n",
              "        \n",
              "  <svg xmlns=\"http://www.w3.org/2000/svg\" height=\"24px\"viewBox=\"0 0 24 24\"\n",
              "       width=\"24px\">\n",
              "    <path d=\"M0 0h24v24H0V0z\" fill=\"none\"/>\n",
              "    <path d=\"M18.56 5.44l.94 2.06.94-2.06 2.06-.94-2.06-.94-.94-2.06-.94 2.06-2.06.94zm-11 1L8.5 8.5l.94-2.06 2.06-.94-2.06-.94L8.5 2.5l-.94 2.06-2.06.94zm10 10l.94 2.06.94-2.06 2.06-.94-2.06-.94-.94-2.06-.94 2.06-2.06.94z\"/><path d=\"M17.41 7.96l-1.37-1.37c-.4-.4-.92-.59-1.43-.59-.52 0-1.04.2-1.43.59L10.3 9.45l-7.72 7.72c-.78.78-.78 2.05 0 2.83L4 21.41c.39.39.9.59 1.41.59.51 0 1.02-.2 1.41-.59l7.78-7.78 2.81-2.81c.8-.78.8-2.07 0-2.86zM5.41 20L4 18.59l7.72-7.72 1.47 1.35L5.41 20z\"/>\n",
              "  </svg>\n",
              "      </button>\n",
              "      \n",
              "  <style>\n",
              "    .colab-df-container {\n",
              "      display:flex;\n",
              "      flex-wrap:wrap;\n",
              "      gap: 12px;\n",
              "    }\n",
              "\n",
              "    .colab-df-convert {\n",
              "      background-color: #E8F0FE;\n",
              "      border: none;\n",
              "      border-radius: 50%;\n",
              "      cursor: pointer;\n",
              "      display: none;\n",
              "      fill: #1967D2;\n",
              "      height: 32px;\n",
              "      padding: 0 0 0 0;\n",
              "      width: 32px;\n",
              "    }\n",
              "\n",
              "    .colab-df-convert:hover {\n",
              "      background-color: #E2EBFA;\n",
              "      box-shadow: 0px 1px 2px rgba(60, 64, 67, 0.3), 0px 1px 3px 1px rgba(60, 64, 67, 0.15);\n",
              "      fill: #174EA6;\n",
              "    }\n",
              "\n",
              "    [theme=dark] .colab-df-convert {\n",
              "      background-color: #3B4455;\n",
              "      fill: #D2E3FC;\n",
              "    }\n",
              "\n",
              "    [theme=dark] .colab-df-convert:hover {\n",
              "      background-color: #434B5C;\n",
              "      box-shadow: 0px 1px 3px 1px rgba(0, 0, 0, 0.15);\n",
              "      filter: drop-shadow(0px 1px 2px rgba(0, 0, 0, 0.3));\n",
              "      fill: #FFFFFF;\n",
              "    }\n",
              "  </style>\n",
              "\n",
              "      <script>\n",
              "        const buttonEl =\n",
              "          document.querySelector('#df-d04a6854-6deb-4276-8c1a-1b693f624e2b button.colab-df-convert');\n",
              "        buttonEl.style.display =\n",
              "          google.colab.kernel.accessAllowed ? 'block' : 'none';\n",
              "\n",
              "        async function convertToInteractive(key) {\n",
              "          const element = document.querySelector('#df-d04a6854-6deb-4276-8c1a-1b693f624e2b');\n",
              "          const dataTable =\n",
              "            await google.colab.kernel.invokeFunction('convertToInteractive',\n",
              "                                                     [key], {});\n",
              "          if (!dataTable) return;\n",
              "\n",
              "          const docLinkHtml = 'Like what you see? Visit the ' +\n",
              "            '<a target=\"_blank\" href=https://colab.research.google.com/notebooks/data_table.ipynb>data table notebook</a>'\n",
              "            + ' to learn more about interactive tables.';\n",
              "          element.innerHTML = '';\n",
              "          dataTable['output_type'] = 'display_data';\n",
              "          await google.colab.output.renderOutput(dataTable, element);\n",
              "          const docLink = document.createElement('div');\n",
              "          docLink.innerHTML = docLinkHtml;\n",
              "          element.appendChild(docLink);\n",
              "        }\n",
              "      </script>\n",
              "    </div>\n",
              "  </div>\n",
              "  "
            ],
            "text/plain": [
              "   #                   NFT  Floor Price  ...   Owners  24h Owners Total Assets\n",
              "0  1            dotdotdots        0.175  ...   2650.0        0.2%       4870.0\n",
              "1  2  Bored Ape Yacht Club       92.000  ...   6310.0       -0.1%       9999.0\n",
              "2  3             Cool Pets        2.334  ...  10753.0       11.8%      18160.0\n",
              "3  4                CloneX       14.500  ...   8259.0        0.4%      18849.0\n",
              "4  5                 Azuki       10.600  ...   5403.0       -0.1%      10000.0\n",
              "\n",
              "[5 rows x 10 columns]"
            ]
          },
          "metadata": {},
          "execution_count": 27
        }
      ]
    },
    {
      "cell_type": "markdown",
      "source": [
        "###24h Volume:"
      ],
      "metadata": {
        "id": "g_qwfMLxnfGS"
      }
    },
    {
      "cell_type": "code",
      "source": [
        "df_final['24h Volume']"
      ],
      "metadata": {
        "colab": {
          "base_uri": "https://localhost:8080/"
        },
        "id": "bhTJ_s1Vnqjs",
        "outputId": "9a997fc7-d0b9-4f03-ccdc-93705ddc358e"
      },
      "execution_count": 28,
      "outputs": [
        {
          "output_type": "execute_result",
          "data": {
            "text/plain": [
              "0      12,306.69 ETH\n",
              "1       1,207.09 ETH\n",
              "2        1,007.5 ETH\n",
              "3         825.25 ETH\n",
              "4         817.38 ETH\n",
              "           ...      \n",
              "120          0.0 ETH\n",
              "121          0.0 ETH\n",
              "122          0.0 ETH\n",
              "123          0.0 ETH\n",
              "124          0.0 ETH\n",
              "Name: 24h Volume, Length: 125, dtype: object"
            ]
          },
          "metadata": {},
          "execution_count": 28
        }
      ]
    },
    {
      "cell_type": "code",
      "source": [
        "daily_volumes  = []\n",
        "for daily_volume in df_final['24h Volume']:\n",
        "  if ',' in daily_volume:\n",
        "    daily_volume = daily_volume.split(',')\n",
        "    daily_volume = daily_volume[0] + '' + daily_volume[1]\n",
        "    daily_volume = daily_volume.split()\n",
        "    daily_volumes.append(daily_volume[0])\n",
        "  else:  \n",
        "    daily_volume = daily_volume.split()\n",
        "    daily_volume = daily_volume[0]\n",
        "    daily_volumes.append(daily_volume)\n"
      ],
      "metadata": {
        "id": "_2Boa-oXnqm5"
      },
      "execution_count": 29,
      "outputs": []
    },
    {
      "cell_type": "code",
      "source": [
        "daily_volumes\n",
        "    "
      ],
      "metadata": {
        "colab": {
          "base_uri": "https://localhost:8080/"
        },
        "id": "8fmKgFsInqqv",
        "outputId": "cf8555c6-6759-44f3-c63d-fc59b1071ae6"
      },
      "execution_count": 30,
      "outputs": [
        {
          "output_type": "execute_result",
          "data": {
            "text/plain": [
              "['12306.69',\n",
              " '1207.09',\n",
              " '1007.5',\n",
              " '825.25',\n",
              " '817.38',\n",
              " '581.84',\n",
              " '401.62',\n",
              " '279.05',\n",
              " '236.54',\n",
              " '196.71',\n",
              " '191.18',\n",
              " '152.24',\n",
              " '149.35',\n",
              " '113.75',\n",
              " '113.01',\n",
              " '98.51',\n",
              " '82.12',\n",
              " '82.07',\n",
              " '80.36',\n",
              " '68.73',\n",
              " '62.38',\n",
              " '62.1',\n",
              " '55.05',\n",
              " '50.6',\n",
              " '50.47',\n",
              " '49.8',\n",
              " '48.98',\n",
              " '47.99',\n",
              " '47.87',\n",
              " '46.92',\n",
              " '45.88',\n",
              " '44.14',\n",
              " '41.48',\n",
              " '38.82',\n",
              " '37.4',\n",
              " '35.54',\n",
              " '35.3',\n",
              " '34.47',\n",
              " '33.18',\n",
              " '33.0',\n",
              " '32.09',\n",
              " '30.87',\n",
              " '29.26',\n",
              " '27.08',\n",
              " '26.75',\n",
              " '25.95',\n",
              " '25.64',\n",
              " '25.07',\n",
              " '24.49',\n",
              " '23.98',\n",
              " '23.81',\n",
              " '23.02',\n",
              " '21.83',\n",
              " '21.06',\n",
              " '19.18',\n",
              " '17.38',\n",
              " '13.78',\n",
              " '13.39',\n",
              " '12.18',\n",
              " '8.56',\n",
              " '8.0',\n",
              " '7.46',\n",
              " '7.45',\n",
              " '7.17',\n",
              " '6.86',\n",
              " '6.5',\n",
              " '5.92',\n",
              " '5.85',\n",
              " '4.68',\n",
              " '4.67',\n",
              " '4.21',\n",
              " '3.63',\n",
              " '3.57',\n",
              " '3.47',\n",
              " '3.23',\n",
              " '3.15',\n",
              " '2.73',\n",
              " '2.62',\n",
              " '2.18',\n",
              " '1.97',\n",
              " '1.9',\n",
              " '1.76',\n",
              " '1.67',\n",
              " '1.6',\n",
              " '1.41',\n",
              " '1.36',\n",
              " '1.34',\n",
              " '1.2',\n",
              " '1.19',\n",
              " '1.18',\n",
              " '1.13',\n",
              " '0.73',\n",
              " '0.71',\n",
              " '0.66',\n",
              " '0.65',\n",
              " '0.51',\n",
              " '0.4',\n",
              " '0.36',\n",
              " '0.27',\n",
              " '0.27',\n",
              " '0.26',\n",
              " '0.26',\n",
              " '0.26',\n",
              " '0.25',\n",
              " '0.24',\n",
              " '0.2',\n",
              " '0.19',\n",
              " '0.19',\n",
              " '0.19',\n",
              " '0.19',\n",
              " '0.16',\n",
              " '0.13',\n",
              " '0.11',\n",
              " '0.07',\n",
              " '0.04',\n",
              " '0.03',\n",
              " '0.03',\n",
              " '0.02',\n",
              " '0.02',\n",
              " '0.0',\n",
              " '0.0',\n",
              " '0.0',\n",
              " '0.0',\n",
              " '0.0',\n",
              " '0.0']"
            ]
          },
          "metadata": {},
          "execution_count": 30
        }
      ]
    },
    {
      "cell_type": "code",
      "source": [
        "df_final['24h Volume'] = daily_volumes"
      ],
      "metadata": {
        "id": "lVM5xe1YpoE8"
      },
      "execution_count": 31,
      "outputs": []
    },
    {
      "cell_type": "code",
      "source": [
        "df_final['24h Volume'].astype(float)"
      ],
      "metadata": {
        "colab": {
          "base_uri": "https://localhost:8080/"
        },
        "id": "wGFEst4BsfPP",
        "outputId": "1183047a-02b8-4f20-c1ea-93154bd25921"
      },
      "execution_count": 32,
      "outputs": [
        {
          "output_type": "execute_result",
          "data": {
            "text/plain": [
              "0      12306.69\n",
              "1       1207.09\n",
              "2       1007.50\n",
              "3        825.25\n",
              "4        817.38\n",
              "         ...   \n",
              "120        0.00\n",
              "121        0.00\n",
              "122        0.00\n",
              "123        0.00\n",
              "124        0.00\n",
              "Name: 24h Volume, Length: 125, dtype: float64"
            ]
          },
          "metadata": {},
          "execution_count": 32
        }
      ]
    },
    {
      "cell_type": "markdown",
      "source": [
        "###24h Owners:"
      ],
      "metadata": {
        "id": "xW7wRJPpstCt"
      }
    },
    {
      "cell_type": "code",
      "source": [
        "df_final['24h Owners']"
      ],
      "metadata": {
        "colab": {
          "base_uri": "https://localhost:8080/"
        },
        "id": "JaekVl2Esvpr",
        "outputId": "e912aa89-2884-4364-f862-959b4804b3c1"
      },
      "execution_count": 33,
      "outputs": [
        {
          "output_type": "execute_result",
          "data": {
            "text/plain": [
              "0       0.2%\n",
              "1      -0.1%\n",
              "2      11.8%\n",
              "3       0.4%\n",
              "4      -0.1%\n",
              "       ...  \n",
              "120     0.0%\n",
              "121     0.0%\n",
              "122     0.0%\n",
              "123    -0.1%\n",
              "124     0.0%\n",
              "Name: 24h Owners, Length: 125, dtype: object"
            ]
          },
          "metadata": {},
          "execution_count": 33
        }
      ]
    },
    {
      "cell_type": "code",
      "source": [
        "daily_owners = []\n",
        "for d_owner in df_final['24h Owners']:\n",
        "  d_owner = d_owner.split('%')\n",
        "  daily_owners.append(d_owner[0])"
      ],
      "metadata": {
        "id": "Cu9TppYysvz3"
      },
      "execution_count": 34,
      "outputs": []
    },
    {
      "cell_type": "code",
      "source": [
        "df_final['24h Owners'] = daily_owners"
      ],
      "metadata": {
        "id": "bTSulz1XtNpB"
      },
      "execution_count": 35,
      "outputs": []
    },
    {
      "cell_type": "code",
      "source": [
        "df_final['24h Owners'].astype(float)"
      ],
      "metadata": {
        "colab": {
          "base_uri": "https://localhost:8080/"
        },
        "id": "vd_cLZi2sv8w",
        "outputId": "95ea59da-9ed3-4b92-a95f-c84930fb9a2d"
      },
      "execution_count": 36,
      "outputs": [
        {
          "output_type": "execute_result",
          "data": {
            "text/plain": [
              "0       0.2\n",
              "1      -0.1\n",
              "2      11.8\n",
              "3       0.4\n",
              "4      -0.1\n",
              "       ... \n",
              "120     0.0\n",
              "121     0.0\n",
              "122     0.0\n",
              "123    -0.1\n",
              "124     0.0\n",
              "Name: 24h Owners, Length: 125, dtype: float64"
            ]
          },
          "metadata": {},
          "execution_count": 36
        }
      ]
    },
    {
      "cell_type": "markdown",
      "source": [
        "##Razão dos proprietários (Owner Ratio):"
      ],
      "metadata": {
        "id": "J16Z8Oin0bd5"
      }
    },
    {
      "cell_type": "code",
      "source": [
        "df_final['Owner Ratio'] = df_final['Owners'] / df_final ['Total Assets']"
      ],
      "metadata": {
        "id": "4vwYveAK0f6M"
      },
      "execution_count": 37,
      "outputs": []
    },
    {
      "cell_type": "code",
      "source": [
        "df_final['Owner Ratio'] = df_final['Owner Ratio']*100"
      ],
      "metadata": {
        "id": "xJsR2g6Q0f6M"
      },
      "execution_count": 38,
      "outputs": []
    },
    {
      "cell_type": "markdown",
      "source": [
        "#2ºParte: Limpeza dos dados"
      ],
      "metadata": {
        "id": "Jl2hE-TUybQJ"
      }
    },
    {
      "cell_type": "code",
      "source": [
        "df_final.isnull().sum()"
      ],
      "metadata": {
        "id": "29urF9sSSPMj",
        "colab": {
          "base_uri": "https://localhost:8080/"
        },
        "outputId": "e47677d1-113b-4f5a-d77d-06d9212c5e97"
      },
      "execution_count": 39,
      "outputs": [
        {
          "output_type": "execute_result",
          "data": {
            "text/plain": [
              "#                 0\n",
              "NFT               0\n",
              "Floor Price       0\n",
              "24h(%)            0\n",
              "7d              125\n",
              "Market Cap        0\n",
              "24h Volume        0\n",
              "Owners            0\n",
              "24h Owners        0\n",
              "Total Assets      0\n",
              "Owner Ratio       0\n",
              "dtype: int64"
            ]
          },
          "metadata": {},
          "execution_count": 39
        }
      ]
    },
    {
      "cell_type": "code",
      "source": [
        "df_final.drop(columns=[\"7d\", \"#\"], inplace=True)"
      ],
      "metadata": {
        "id": "fsZoVQ_Nysbo"
      },
      "execution_count": 40,
      "outputs": []
    },
    {
      "cell_type": "code",
      "source": [
        "df_final.duplicated().sum()"
      ],
      "metadata": {
        "id": "nW7zTundyzGL",
        "colab": {
          "base_uri": "https://localhost:8080/"
        },
        "outputId": "f7bf67f6-b0ea-4631-9818-e982fa95ab92"
      },
      "execution_count": 41,
      "outputs": [
        {
          "output_type": "execute_result",
          "data": {
            "text/plain": [
              "0"
            ]
          },
          "metadata": {},
          "execution_count": 41
        }
      ]
    },
    {
      "cell_type": "code",
      "source": [
        "df = df_final"
      ],
      "metadata": {
        "id": "8xV1jvctdg2z"
      },
      "execution_count": 42,
      "outputs": []
    },
    {
      "cell_type": "markdown",
      "source": [
        "#Salvando em CSV:"
      ],
      "metadata": {
        "id": "mzaRze_yt0jw"
      }
    },
    {
      "cell_type": "code",
      "source": [
        "df.to_csv(r'/content/df_final.csv', index=False, header=True)"
      ],
      "metadata": {
        "id": "Qmfk_rEdt0B7"
      },
      "execution_count": 43,
      "outputs": []
    },
    {
      "cell_type": "code",
      "source": [
        "df_test = pd.read_csv(\"df_final.csv\")"
      ],
      "metadata": {
        "id": "Zbcx9Iiqt-b8"
      },
      "execution_count": 44,
      "outputs": []
    },
    {
      "cell_type": "code",
      "source": [
        "df_test.head()"
      ],
      "metadata": {
        "id": "4T7CXXhUuCFz",
        "outputId": "3fdb646e-dffe-4c07-8a6a-bd16e3af1b82",
        "colab": {
          "base_uri": "https://localhost:8080/",
          "height": 0
        }
      },
      "execution_count": 45,
      "outputs": [
        {
          "output_type": "execute_result",
          "data": {
            "text/html": [
              "\n",
              "  <div id=\"df-36e5f68b-aae7-42fd-a6ab-a2d338295070\">\n",
              "    <div class=\"colab-df-container\">\n",
              "      <div>\n",
              "<style scoped>\n",
              "    .dataframe tbody tr th:only-of-type {\n",
              "        vertical-align: middle;\n",
              "    }\n",
              "\n",
              "    .dataframe tbody tr th {\n",
              "        vertical-align: top;\n",
              "    }\n",
              "\n",
              "    .dataframe thead th {\n",
              "        text-align: right;\n",
              "    }\n",
              "</style>\n",
              "<table border=\"1\" class=\"dataframe\">\n",
              "  <thead>\n",
              "    <tr style=\"text-align: right;\">\n",
              "      <th></th>\n",
              "      <th>NFT</th>\n",
              "      <th>Floor Price</th>\n",
              "      <th>24h(%)</th>\n",
              "      <th>Market Cap</th>\n",
              "      <th>24h Volume</th>\n",
              "      <th>Owners</th>\n",
              "      <th>24h Owners</th>\n",
              "      <th>Total Assets</th>\n",
              "      <th>Owner Ratio</th>\n",
              "    </tr>\n",
              "  </thead>\n",
              "  <tbody>\n",
              "    <tr>\n",
              "      <th>0</th>\n",
              "      <td>dotdotdots</td>\n",
              "      <td>0.175</td>\n",
              "      <td>-17.4</td>\n",
              "      <td>852.25</td>\n",
              "      <td>12306.69</td>\n",
              "      <td>2650.0</td>\n",
              "      <td>0.2</td>\n",
              "      <td>4870.0</td>\n",
              "      <td>54.414784</td>\n",
              "    </tr>\n",
              "    <tr>\n",
              "      <th>1</th>\n",
              "      <td>Bored Ape Yacht Club</td>\n",
              "      <td>92.000</td>\n",
              "      <td>-4.5</td>\n",
              "      <td>919908.00</td>\n",
              "      <td>1207.09</td>\n",
              "      <td>6310.0</td>\n",
              "      <td>-0.1</td>\n",
              "      <td>9999.0</td>\n",
              "      <td>63.106311</td>\n",
              "    </tr>\n",
              "    <tr>\n",
              "      <th>2</th>\n",
              "      <td>Cool Pets</td>\n",
              "      <td>2.334</td>\n",
              "      <td>-13.4</td>\n",
              "      <td>42385.44</td>\n",
              "      <td>1007.50</td>\n",
              "      <td>10753.0</td>\n",
              "      <td>11.8</td>\n",
              "      <td>18160.0</td>\n",
              "      <td>59.212555</td>\n",
              "    </tr>\n",
              "    <tr>\n",
              "      <th>3</th>\n",
              "      <td>CloneX</td>\n",
              "      <td>14.500</td>\n",
              "      <td>-2.6</td>\n",
              "      <td>273310.50</td>\n",
              "      <td>825.25</td>\n",
              "      <td>8259.0</td>\n",
              "      <td>0.4</td>\n",
              "      <td>18849.0</td>\n",
              "      <td>43.816648</td>\n",
              "    </tr>\n",
              "    <tr>\n",
              "      <th>4</th>\n",
              "      <td>Azuki</td>\n",
              "      <td>10.600</td>\n",
              "      <td>-9.3</td>\n",
              "      <td>106000.00</td>\n",
              "      <td>817.38</td>\n",
              "      <td>5403.0</td>\n",
              "      <td>-0.1</td>\n",
              "      <td>10000.0</td>\n",
              "      <td>54.030000</td>\n",
              "    </tr>\n",
              "  </tbody>\n",
              "</table>\n",
              "</div>\n",
              "      <button class=\"colab-df-convert\" onclick=\"convertToInteractive('df-36e5f68b-aae7-42fd-a6ab-a2d338295070')\"\n",
              "              title=\"Convert this dataframe to an interactive table.\"\n",
              "              style=\"display:none;\">\n",
              "        \n",
              "  <svg xmlns=\"http://www.w3.org/2000/svg\" height=\"24px\"viewBox=\"0 0 24 24\"\n",
              "       width=\"24px\">\n",
              "    <path d=\"M0 0h24v24H0V0z\" fill=\"none\"/>\n",
              "    <path d=\"M18.56 5.44l.94 2.06.94-2.06 2.06-.94-2.06-.94-.94-2.06-.94 2.06-2.06.94zm-11 1L8.5 8.5l.94-2.06 2.06-.94-2.06-.94L8.5 2.5l-.94 2.06-2.06.94zm10 10l.94 2.06.94-2.06 2.06-.94-2.06-.94-.94-2.06-.94 2.06-2.06.94z\"/><path d=\"M17.41 7.96l-1.37-1.37c-.4-.4-.92-.59-1.43-.59-.52 0-1.04.2-1.43.59L10.3 9.45l-7.72 7.72c-.78.78-.78 2.05 0 2.83L4 21.41c.39.39.9.59 1.41.59.51 0 1.02-.2 1.41-.59l7.78-7.78 2.81-2.81c.8-.78.8-2.07 0-2.86zM5.41 20L4 18.59l7.72-7.72 1.47 1.35L5.41 20z\"/>\n",
              "  </svg>\n",
              "      </button>\n",
              "      \n",
              "  <style>\n",
              "    .colab-df-container {\n",
              "      display:flex;\n",
              "      flex-wrap:wrap;\n",
              "      gap: 12px;\n",
              "    }\n",
              "\n",
              "    .colab-df-convert {\n",
              "      background-color: #E8F0FE;\n",
              "      border: none;\n",
              "      border-radius: 50%;\n",
              "      cursor: pointer;\n",
              "      display: none;\n",
              "      fill: #1967D2;\n",
              "      height: 32px;\n",
              "      padding: 0 0 0 0;\n",
              "      width: 32px;\n",
              "    }\n",
              "\n",
              "    .colab-df-convert:hover {\n",
              "      background-color: #E2EBFA;\n",
              "      box-shadow: 0px 1px 2px rgba(60, 64, 67, 0.3), 0px 1px 3px 1px rgba(60, 64, 67, 0.15);\n",
              "      fill: #174EA6;\n",
              "    }\n",
              "\n",
              "    [theme=dark] .colab-df-convert {\n",
              "      background-color: #3B4455;\n",
              "      fill: #D2E3FC;\n",
              "    }\n",
              "\n",
              "    [theme=dark] .colab-df-convert:hover {\n",
              "      background-color: #434B5C;\n",
              "      box-shadow: 0px 1px 3px 1px rgba(0, 0, 0, 0.15);\n",
              "      filter: drop-shadow(0px 1px 2px rgba(0, 0, 0, 0.3));\n",
              "      fill: #FFFFFF;\n",
              "    }\n",
              "  </style>\n",
              "\n",
              "      <script>\n",
              "        const buttonEl =\n",
              "          document.querySelector('#df-36e5f68b-aae7-42fd-a6ab-a2d338295070 button.colab-df-convert');\n",
              "        buttonEl.style.display =\n",
              "          google.colab.kernel.accessAllowed ? 'block' : 'none';\n",
              "\n",
              "        async function convertToInteractive(key) {\n",
              "          const element = document.querySelector('#df-36e5f68b-aae7-42fd-a6ab-a2d338295070');\n",
              "          const dataTable =\n",
              "            await google.colab.kernel.invokeFunction('convertToInteractive',\n",
              "                                                     [key], {});\n",
              "          if (!dataTable) return;\n",
              "\n",
              "          const docLinkHtml = 'Like what you see? Visit the ' +\n",
              "            '<a target=\"_blank\" href=https://colab.research.google.com/notebooks/data_table.ipynb>data table notebook</a>'\n",
              "            + ' to learn more about interactive tables.';\n",
              "          element.innerHTML = '';\n",
              "          dataTable['output_type'] = 'display_data';\n",
              "          await google.colab.output.renderOutput(dataTable, element);\n",
              "          const docLink = document.createElement('div');\n",
              "          docLink.innerHTML = docLinkHtml;\n",
              "          element.appendChild(docLink);\n",
              "        }\n",
              "      </script>\n",
              "    </div>\n",
              "  </div>\n",
              "  "
            ],
            "text/plain": [
              "                    NFT  Floor Price  ...  Total Assets  Owner Ratio\n",
              "0            dotdotdots        0.175  ...        4870.0    54.414784\n",
              "1  Bored Ape Yacht Club       92.000  ...        9999.0    63.106311\n",
              "2             Cool Pets        2.334  ...       18160.0    59.212555\n",
              "3                CloneX       14.500  ...       18849.0    43.816648\n",
              "4                 Azuki       10.600  ...       10000.0    54.030000\n",
              "\n",
              "[5 rows x 9 columns]"
            ]
          },
          "metadata": {},
          "execution_count": 45
        }
      ]
    },
    {
      "cell_type": "code",
      "source": [
        ""
      ],
      "metadata": {
        "id": "7V8itbdVuD_X"
      },
      "execution_count": 45,
      "outputs": []
    },
    {
      "cell_type": "markdown",
      "source": [
        ""
      ],
      "metadata": {
        "id": "aJ27Mc4NZwb4"
      }
    },
    {
      "cell_type": "markdown",
      "source": [
        "#A continuação das partes será imediata para aproveitar a sincronicidade via API do dataset. No entanto, deixo o dataset salvo pós-tratamento para qualquer motivo que seja."
      ],
      "metadata": {
        "id": "jTtn9KaKZ5x3"
      }
    },
    {
      "cell_type": "markdown",
      "source": [
        "#3ºParte: Análise do dataframe\n",
        "\n",
        "\n"
      ],
      "metadata": {
        "id": "BcIfUoDYdMmj"
      }
    },
    {
      "cell_type": "markdown",
      "source": [
        "##Importando as bibliotecas:"
      ],
      "metadata": {
        "id": "gTXc22ZfX28V"
      }
    },
    {
      "cell_type": "code",
      "source": [
        "import pandas as pd\n",
        "import numpy as np\n",
        "\n",
        "import matplotlib.pyplot as plt\n",
        "import seaborn as sns"
      ],
      "metadata": {
        "id": "hQw1R9X_X5si"
      },
      "execution_count": 46,
      "outputs": []
    },
    {
      "cell_type": "markdown",
      "source": [
        "##Importando o dataset:"
      ],
      "metadata": {
        "id": "Bix_Y6OqVhyI"
      }
    },
    {
      "cell_type": "code",
      "source": [
        "df = df_final.copy()"
      ],
      "metadata": {
        "id": "T16yI_eFYGVN"
      },
      "execution_count": 47,
      "outputs": []
    },
    {
      "cell_type": "markdown",
      "source": [
        "##Quais colunas nos interessam?"
      ],
      "metadata": {
        "id": "lqfSDiaUdZFm"
      }
    },
    {
      "cell_type": "code",
      "source": [
        "df.columns"
      ],
      "metadata": {
        "id": "ko1W-gMhaINi",
        "colab": {
          "base_uri": "https://localhost:8080/"
        },
        "outputId": "bddf6c65-1a89-4cc9-a66f-8ee608c821f5"
      },
      "execution_count": 48,
      "outputs": [
        {
          "output_type": "execute_result",
          "data": {
            "text/plain": [
              "Index(['NFT', 'Floor Price', '24h(%)', 'Market Cap', '24h Volume', 'Owners',\n",
              "       '24h Owners', 'Total Assets', 'Owner Ratio'],\n",
              "      dtype='object')"
            ]
          },
          "metadata": {},
          "execution_count": 48
        }
      ]
    },
    {
      "cell_type": "code",
      "source": [
        "df.info()"
      ],
      "metadata": {
        "id": "iRQ9IqKJdbpC",
        "colab": {
          "base_uri": "https://localhost:8080/"
        },
        "outputId": "0e2285b9-c80d-428c-b325-b6c933245e93"
      },
      "execution_count": 49,
      "outputs": [
        {
          "output_type": "stream",
          "name": "stdout",
          "text": [
            "<class 'pandas.core.frame.DataFrame'>\n",
            "RangeIndex: 125 entries, 0 to 124\n",
            "Data columns (total 9 columns):\n",
            " #   Column        Non-Null Count  Dtype  \n",
            "---  ------        --------------  -----  \n",
            " 0   NFT           125 non-null    object \n",
            " 1   Floor Price   125 non-null    float64\n",
            " 2   24h(%)        125 non-null    float64\n",
            " 3   Market Cap    125 non-null    object \n",
            " 4   24h Volume    125 non-null    object \n",
            " 5   Owners        125 non-null    float64\n",
            " 6   24h Owners    125 non-null    object \n",
            " 7   Total Assets  125 non-null    float64\n",
            " 8   Owner Ratio   125 non-null    float64\n",
            "dtypes: float64(5), object(4)\n",
            "memory usage: 8.9+ KB\n"
          ]
        }
      ]
    },
    {
      "cell_type": "code",
      "source": [
        "df.head()"
      ],
      "metadata": {
        "id": "PP16xP7Pe1fP",
        "colab": {
          "base_uri": "https://localhost:8080/",
          "height": 206
        },
        "outputId": "9de45f22-2a29-4982-b6e6-ebf4fa88bf01"
      },
      "execution_count": 50,
      "outputs": [
        {
          "output_type": "execute_result",
          "data": {
            "text/html": [
              "\n",
              "  <div id=\"df-ff210949-4990-44f6-9699-b1d715b8435e\">\n",
              "    <div class=\"colab-df-container\">\n",
              "      <div>\n",
              "<style scoped>\n",
              "    .dataframe tbody tr th:only-of-type {\n",
              "        vertical-align: middle;\n",
              "    }\n",
              "\n",
              "    .dataframe tbody tr th {\n",
              "        vertical-align: top;\n",
              "    }\n",
              "\n",
              "    .dataframe thead th {\n",
              "        text-align: right;\n",
              "    }\n",
              "</style>\n",
              "<table border=\"1\" class=\"dataframe\">\n",
              "  <thead>\n",
              "    <tr style=\"text-align: right;\">\n",
              "      <th></th>\n",
              "      <th>NFT</th>\n",
              "      <th>Floor Price</th>\n",
              "      <th>24h(%)</th>\n",
              "      <th>Market Cap</th>\n",
              "      <th>24h Volume</th>\n",
              "      <th>Owners</th>\n",
              "      <th>24h Owners</th>\n",
              "      <th>Total Assets</th>\n",
              "      <th>Owner Ratio</th>\n",
              "    </tr>\n",
              "  </thead>\n",
              "  <tbody>\n",
              "    <tr>\n",
              "      <th>0</th>\n",
              "      <td>dotdotdots</td>\n",
              "      <td>0.175</td>\n",
              "      <td>-17.4</td>\n",
              "      <td>852.25</td>\n",
              "      <td>12306.69</td>\n",
              "      <td>2650.0</td>\n",
              "      <td>0.2</td>\n",
              "      <td>4870.0</td>\n",
              "      <td>54.414784</td>\n",
              "    </tr>\n",
              "    <tr>\n",
              "      <th>1</th>\n",
              "      <td>Bored Ape Yacht Club</td>\n",
              "      <td>92.000</td>\n",
              "      <td>-4.5</td>\n",
              "      <td>919908.0</td>\n",
              "      <td>1207.09</td>\n",
              "      <td>6310.0</td>\n",
              "      <td>-0.1</td>\n",
              "      <td>9999.0</td>\n",
              "      <td>63.106311</td>\n",
              "    </tr>\n",
              "    <tr>\n",
              "      <th>2</th>\n",
              "      <td>Cool Pets</td>\n",
              "      <td>2.334</td>\n",
              "      <td>-13.4</td>\n",
              "      <td>42385.44</td>\n",
              "      <td>1007.5</td>\n",
              "      <td>10753.0</td>\n",
              "      <td>11.8</td>\n",
              "      <td>18160.0</td>\n",
              "      <td>59.212555</td>\n",
              "    </tr>\n",
              "    <tr>\n",
              "      <th>3</th>\n",
              "      <td>CloneX</td>\n",
              "      <td>14.500</td>\n",
              "      <td>-2.6</td>\n",
              "      <td>273310.5</td>\n",
              "      <td>825.25</td>\n",
              "      <td>8259.0</td>\n",
              "      <td>0.4</td>\n",
              "      <td>18849.0</td>\n",
              "      <td>43.816648</td>\n",
              "    </tr>\n",
              "    <tr>\n",
              "      <th>4</th>\n",
              "      <td>Azuki</td>\n",
              "      <td>10.600</td>\n",
              "      <td>-9.3</td>\n",
              "      <td>106000.0</td>\n",
              "      <td>817.38</td>\n",
              "      <td>5403.0</td>\n",
              "      <td>-0.1</td>\n",
              "      <td>10000.0</td>\n",
              "      <td>54.030000</td>\n",
              "    </tr>\n",
              "  </tbody>\n",
              "</table>\n",
              "</div>\n",
              "      <button class=\"colab-df-convert\" onclick=\"convertToInteractive('df-ff210949-4990-44f6-9699-b1d715b8435e')\"\n",
              "              title=\"Convert this dataframe to an interactive table.\"\n",
              "              style=\"display:none;\">\n",
              "        \n",
              "  <svg xmlns=\"http://www.w3.org/2000/svg\" height=\"24px\"viewBox=\"0 0 24 24\"\n",
              "       width=\"24px\">\n",
              "    <path d=\"M0 0h24v24H0V0z\" fill=\"none\"/>\n",
              "    <path d=\"M18.56 5.44l.94 2.06.94-2.06 2.06-.94-2.06-.94-.94-2.06-.94 2.06-2.06.94zm-11 1L8.5 8.5l.94-2.06 2.06-.94-2.06-.94L8.5 2.5l-.94 2.06-2.06.94zm10 10l.94 2.06.94-2.06 2.06-.94-2.06-.94-.94-2.06-.94 2.06-2.06.94z\"/><path d=\"M17.41 7.96l-1.37-1.37c-.4-.4-.92-.59-1.43-.59-.52 0-1.04.2-1.43.59L10.3 9.45l-7.72 7.72c-.78.78-.78 2.05 0 2.83L4 21.41c.39.39.9.59 1.41.59.51 0 1.02-.2 1.41-.59l7.78-7.78 2.81-2.81c.8-.78.8-2.07 0-2.86zM5.41 20L4 18.59l7.72-7.72 1.47 1.35L5.41 20z\"/>\n",
              "  </svg>\n",
              "      </button>\n",
              "      \n",
              "  <style>\n",
              "    .colab-df-container {\n",
              "      display:flex;\n",
              "      flex-wrap:wrap;\n",
              "      gap: 12px;\n",
              "    }\n",
              "\n",
              "    .colab-df-convert {\n",
              "      background-color: #E8F0FE;\n",
              "      border: none;\n",
              "      border-radius: 50%;\n",
              "      cursor: pointer;\n",
              "      display: none;\n",
              "      fill: #1967D2;\n",
              "      height: 32px;\n",
              "      padding: 0 0 0 0;\n",
              "      width: 32px;\n",
              "    }\n",
              "\n",
              "    .colab-df-convert:hover {\n",
              "      background-color: #E2EBFA;\n",
              "      box-shadow: 0px 1px 2px rgba(60, 64, 67, 0.3), 0px 1px 3px 1px rgba(60, 64, 67, 0.15);\n",
              "      fill: #174EA6;\n",
              "    }\n",
              "\n",
              "    [theme=dark] .colab-df-convert {\n",
              "      background-color: #3B4455;\n",
              "      fill: #D2E3FC;\n",
              "    }\n",
              "\n",
              "    [theme=dark] .colab-df-convert:hover {\n",
              "      background-color: #434B5C;\n",
              "      box-shadow: 0px 1px 3px 1px rgba(0, 0, 0, 0.15);\n",
              "      filter: drop-shadow(0px 1px 2px rgba(0, 0, 0, 0.3));\n",
              "      fill: #FFFFFF;\n",
              "    }\n",
              "  </style>\n",
              "\n",
              "      <script>\n",
              "        const buttonEl =\n",
              "          document.querySelector('#df-ff210949-4990-44f6-9699-b1d715b8435e button.colab-df-convert');\n",
              "        buttonEl.style.display =\n",
              "          google.colab.kernel.accessAllowed ? 'block' : 'none';\n",
              "\n",
              "        async function convertToInteractive(key) {\n",
              "          const element = document.querySelector('#df-ff210949-4990-44f6-9699-b1d715b8435e');\n",
              "          const dataTable =\n",
              "            await google.colab.kernel.invokeFunction('convertToInteractive',\n",
              "                                                     [key], {});\n",
              "          if (!dataTable) return;\n",
              "\n",
              "          const docLinkHtml = 'Like what you see? Visit the ' +\n",
              "            '<a target=\"_blank\" href=https://colab.research.google.com/notebooks/data_table.ipynb>data table notebook</a>'\n",
              "            + ' to learn more about interactive tables.';\n",
              "          element.innerHTML = '';\n",
              "          dataTable['output_type'] = 'display_data';\n",
              "          await google.colab.output.renderOutput(dataTable, element);\n",
              "          const docLink = document.createElement('div');\n",
              "          docLink.innerHTML = docLinkHtml;\n",
              "          element.appendChild(docLink);\n",
              "        }\n",
              "      </script>\n",
              "    </div>\n",
              "  </div>\n",
              "  "
            ],
            "text/plain": [
              "                    NFT  Floor Price  ...  Total Assets Owner Ratio\n",
              "0            dotdotdots        0.175  ...        4870.0   54.414784\n",
              "1  Bored Ape Yacht Club       92.000  ...        9999.0   63.106311\n",
              "2             Cool Pets        2.334  ...       18160.0   59.212555\n",
              "3                CloneX       14.500  ...       18849.0   43.816648\n",
              "4                 Azuki       10.600  ...       10000.0   54.030000\n",
              "\n",
              "[5 rows x 9 columns]"
            ]
          },
          "metadata": {},
          "execution_count": 50
        }
      ]
    },
    {
      "cell_type": "code",
      "source": [
        "df.tail()"
      ],
      "metadata": {
        "colab": {
          "base_uri": "https://localhost:8080/",
          "height": 206
        },
        "id": "R_wmETqXadqs",
        "outputId": "2f346275-b839-464a-9e8f-44715ec5b228"
      },
      "execution_count": 51,
      "outputs": [
        {
          "output_type": "execute_result",
          "data": {
            "text/html": [
              "\n",
              "  <div id=\"df-4626c30c-c260-43aa-9f8b-b4774bd4adad\">\n",
              "    <div class=\"colab-df-container\">\n",
              "      <div>\n",
              "<style scoped>\n",
              "    .dataframe tbody tr th:only-of-type {\n",
              "        vertical-align: middle;\n",
              "    }\n",
              "\n",
              "    .dataframe tbody tr th {\n",
              "        vertical-align: top;\n",
              "    }\n",
              "\n",
              "    .dataframe thead th {\n",
              "        text-align: right;\n",
              "    }\n",
              "</style>\n",
              "<table border=\"1\" class=\"dataframe\">\n",
              "  <thead>\n",
              "    <tr style=\"text-align: right;\">\n",
              "      <th></th>\n",
              "      <th>NFT</th>\n",
              "      <th>Floor Price</th>\n",
              "      <th>24h(%)</th>\n",
              "      <th>Market Cap</th>\n",
              "      <th>24h Volume</th>\n",
              "      <th>Owners</th>\n",
              "      <th>24h Owners</th>\n",
              "      <th>Total Assets</th>\n",
              "      <th>Owner Ratio</th>\n",
              "    </tr>\n",
              "  </thead>\n",
              "  <tbody>\n",
              "    <tr>\n",
              "      <th>120</th>\n",
              "      <td>Lee Mullican</td>\n",
              "      <td>0.0</td>\n",
              "      <td>-100.0</td>\n",
              "      <td>0.0</td>\n",
              "      <td>0.0</td>\n",
              "      <td>15.0</td>\n",
              "      <td>0.0</td>\n",
              "      <td>16.0</td>\n",
              "      <td>93.750000</td>\n",
              "    </tr>\n",
              "    <tr>\n",
              "      <th>121</th>\n",
              "      <td>Spirit Orb Pets</td>\n",
              "      <td>1.0</td>\n",
              "      <td>1771.0</td>\n",
              "      <td>777.0</td>\n",
              "      <td>0.0</td>\n",
              "      <td>370.0</td>\n",
              "      <td>0.0</td>\n",
              "      <td>777.0</td>\n",
              "      <td>47.619048</td>\n",
              "    </tr>\n",
              "    <tr>\n",
              "      <th>122</th>\n",
              "      <td>United Punks Union</td>\n",
              "      <td>0.0</td>\n",
              "      <td>-100.0</td>\n",
              "      <td>0.0</td>\n",
              "      <td>0.0</td>\n",
              "      <td>1192.0</td>\n",
              "      <td>0.0</td>\n",
              "      <td>3624.0</td>\n",
              "      <td>32.891832</td>\n",
              "    </tr>\n",
              "    <tr>\n",
              "      <th>123</th>\n",
              "      <td>Borpacasso</td>\n",
              "      <td>0.0</td>\n",
              "      <td>-100.0</td>\n",
              "      <td>0.0</td>\n",
              "      <td>0.0</td>\n",
              "      <td>1149.0</td>\n",
              "      <td>-0.1</td>\n",
              "      <td>2250.0</td>\n",
              "      <td>51.066667</td>\n",
              "    </tr>\n",
              "    <tr>\n",
              "      <th>124</th>\n",
              "      <td>Pudgy Halloween</td>\n",
              "      <td>0.0</td>\n",
              "      <td>-100.0</td>\n",
              "      <td>0.0</td>\n",
              "      <td>0.0</td>\n",
              "      <td>1327.0</td>\n",
              "      <td>0.0</td>\n",
              "      <td>3.0</td>\n",
              "      <td>44233.333333</td>\n",
              "    </tr>\n",
              "  </tbody>\n",
              "</table>\n",
              "</div>\n",
              "      <button class=\"colab-df-convert\" onclick=\"convertToInteractive('df-4626c30c-c260-43aa-9f8b-b4774bd4adad')\"\n",
              "              title=\"Convert this dataframe to an interactive table.\"\n",
              "              style=\"display:none;\">\n",
              "        \n",
              "  <svg xmlns=\"http://www.w3.org/2000/svg\" height=\"24px\"viewBox=\"0 0 24 24\"\n",
              "       width=\"24px\">\n",
              "    <path d=\"M0 0h24v24H0V0z\" fill=\"none\"/>\n",
              "    <path d=\"M18.56 5.44l.94 2.06.94-2.06 2.06-.94-2.06-.94-.94-2.06-.94 2.06-2.06.94zm-11 1L8.5 8.5l.94-2.06 2.06-.94-2.06-.94L8.5 2.5l-.94 2.06-2.06.94zm10 10l.94 2.06.94-2.06 2.06-.94-2.06-.94-.94-2.06-.94 2.06-2.06.94z\"/><path d=\"M17.41 7.96l-1.37-1.37c-.4-.4-.92-.59-1.43-.59-.52 0-1.04.2-1.43.59L10.3 9.45l-7.72 7.72c-.78.78-.78 2.05 0 2.83L4 21.41c.39.39.9.59 1.41.59.51 0 1.02-.2 1.41-.59l7.78-7.78 2.81-2.81c.8-.78.8-2.07 0-2.86zM5.41 20L4 18.59l7.72-7.72 1.47 1.35L5.41 20z\"/>\n",
              "  </svg>\n",
              "      </button>\n",
              "      \n",
              "  <style>\n",
              "    .colab-df-container {\n",
              "      display:flex;\n",
              "      flex-wrap:wrap;\n",
              "      gap: 12px;\n",
              "    }\n",
              "\n",
              "    .colab-df-convert {\n",
              "      background-color: #E8F0FE;\n",
              "      border: none;\n",
              "      border-radius: 50%;\n",
              "      cursor: pointer;\n",
              "      display: none;\n",
              "      fill: #1967D2;\n",
              "      height: 32px;\n",
              "      padding: 0 0 0 0;\n",
              "      width: 32px;\n",
              "    }\n",
              "\n",
              "    .colab-df-convert:hover {\n",
              "      background-color: #E2EBFA;\n",
              "      box-shadow: 0px 1px 2px rgba(60, 64, 67, 0.3), 0px 1px 3px 1px rgba(60, 64, 67, 0.15);\n",
              "      fill: #174EA6;\n",
              "    }\n",
              "\n",
              "    [theme=dark] .colab-df-convert {\n",
              "      background-color: #3B4455;\n",
              "      fill: #D2E3FC;\n",
              "    }\n",
              "\n",
              "    [theme=dark] .colab-df-convert:hover {\n",
              "      background-color: #434B5C;\n",
              "      box-shadow: 0px 1px 3px 1px rgba(0, 0, 0, 0.15);\n",
              "      filter: drop-shadow(0px 1px 2px rgba(0, 0, 0, 0.3));\n",
              "      fill: #FFFFFF;\n",
              "    }\n",
              "  </style>\n",
              "\n",
              "      <script>\n",
              "        const buttonEl =\n",
              "          document.querySelector('#df-4626c30c-c260-43aa-9f8b-b4774bd4adad button.colab-df-convert');\n",
              "        buttonEl.style.display =\n",
              "          google.colab.kernel.accessAllowed ? 'block' : 'none';\n",
              "\n",
              "        async function convertToInteractive(key) {\n",
              "          const element = document.querySelector('#df-4626c30c-c260-43aa-9f8b-b4774bd4adad');\n",
              "          const dataTable =\n",
              "            await google.colab.kernel.invokeFunction('convertToInteractive',\n",
              "                                                     [key], {});\n",
              "          if (!dataTable) return;\n",
              "\n",
              "          const docLinkHtml = 'Like what you see? Visit the ' +\n",
              "            '<a target=\"_blank\" href=https://colab.research.google.com/notebooks/data_table.ipynb>data table notebook</a>'\n",
              "            + ' to learn more about interactive tables.';\n",
              "          element.innerHTML = '';\n",
              "          dataTable['output_type'] = 'display_data';\n",
              "          await google.colab.output.renderOutput(dataTable, element);\n",
              "          const docLink = document.createElement('div');\n",
              "          docLink.innerHTML = docLinkHtml;\n",
              "          element.appendChild(docLink);\n",
              "        }\n",
              "      </script>\n",
              "    </div>\n",
              "  </div>\n",
              "  "
            ],
            "text/plain": [
              "                    NFT  Floor Price  ...  Total Assets   Owner Ratio\n",
              "120        Lee Mullican          0.0  ...          16.0     93.750000\n",
              "121     Spirit Orb Pets          1.0  ...         777.0     47.619048\n",
              "122  United Punks Union          0.0  ...        3624.0     32.891832\n",
              "123          Borpacasso          0.0  ...        2250.0     51.066667\n",
              "124     Pudgy Halloween          0.0  ...           3.0  44233.333333\n",
              "\n",
              "[5 rows x 9 columns]"
            ]
          },
          "metadata": {},
          "execution_count": 51
        }
      ]
    },
    {
      "cell_type": "code",
      "source": [
        "df.corr(method=\"pearson\")"
      ],
      "metadata": {
        "colab": {
          "base_uri": "https://localhost:8080/",
          "height": 238
        },
        "id": "1lCbXA44wpzu",
        "outputId": "941a6e08-9d51-4187-c8c6-298102c6a71b"
      },
      "execution_count": 145,
      "outputs": [
        {
          "output_type": "execute_result",
          "data": {
            "text/html": [
              "\n",
              "  <div id=\"df-ee7131dd-2fd6-48e9-87aa-49842498ba0c\">\n",
              "    <div class=\"colab-df-container\">\n",
              "      <div>\n",
              "<style scoped>\n",
              "    .dataframe tbody tr th:only-of-type {\n",
              "        vertical-align: middle;\n",
              "    }\n",
              "\n",
              "    .dataframe tbody tr th {\n",
              "        vertical-align: top;\n",
              "    }\n",
              "\n",
              "    .dataframe thead th {\n",
              "        text-align: right;\n",
              "    }\n",
              "</style>\n",
              "<table border=\"1\" class=\"dataframe\">\n",
              "  <thead>\n",
              "    <tr style=\"text-align: right;\">\n",
              "      <th></th>\n",
              "      <th>Floor Price</th>\n",
              "      <th>24h(%)</th>\n",
              "      <th>Market Cap</th>\n",
              "      <th>Owners</th>\n",
              "      <th>Total Assets</th>\n",
              "      <th>Owner Ratio</th>\n",
              "    </tr>\n",
              "  </thead>\n",
              "  <tbody>\n",
              "    <tr>\n",
              "      <th>Floor Price</th>\n",
              "      <td>1.000000</td>\n",
              "      <td>-0.009783</td>\n",
              "      <td>0.877688</td>\n",
              "      <td>0.204931</td>\n",
              "      <td>0.030785</td>\n",
              "      <td>-0.022112</td>\n",
              "    </tr>\n",
              "    <tr>\n",
              "      <th>24h(%)</th>\n",
              "      <td>-0.009783</td>\n",
              "      <td>1.000000</td>\n",
              "      <td>-0.020030</td>\n",
              "      <td>-0.093534</td>\n",
              "      <td>-0.044110</td>\n",
              "      <td>-0.061314</td>\n",
              "    </tr>\n",
              "    <tr>\n",
              "      <th>Market Cap</th>\n",
              "      <td>0.877688</td>\n",
              "      <td>-0.020030</td>\n",
              "      <td>1.000000</td>\n",
              "      <td>0.494651</td>\n",
              "      <td>0.448143</td>\n",
              "      <td>-0.026262</td>\n",
              "    </tr>\n",
              "    <tr>\n",
              "      <th>Owners</th>\n",
              "      <td>0.204931</td>\n",
              "      <td>-0.093534</td>\n",
              "      <td>0.494651</td>\n",
              "      <td>1.000000</td>\n",
              "      <td>0.725195</td>\n",
              "      <td>-0.090021</td>\n",
              "    </tr>\n",
              "    <tr>\n",
              "      <th>Total Assets</th>\n",
              "      <td>0.030785</td>\n",
              "      <td>-0.044110</td>\n",
              "      <td>0.448143</td>\n",
              "      <td>0.725195</td>\n",
              "      <td>1.000000</td>\n",
              "      <td>-0.078877</td>\n",
              "    </tr>\n",
              "    <tr>\n",
              "      <th>Owner Ratio</th>\n",
              "      <td>-0.022112</td>\n",
              "      <td>-0.061314</td>\n",
              "      <td>-0.026262</td>\n",
              "      <td>-0.090021</td>\n",
              "      <td>-0.078877</td>\n",
              "      <td>1.000000</td>\n",
              "    </tr>\n",
              "  </tbody>\n",
              "</table>\n",
              "</div>\n",
              "      <button class=\"colab-df-convert\" onclick=\"convertToInteractive('df-ee7131dd-2fd6-48e9-87aa-49842498ba0c')\"\n",
              "              title=\"Convert this dataframe to an interactive table.\"\n",
              "              style=\"display:none;\">\n",
              "        \n",
              "  <svg xmlns=\"http://www.w3.org/2000/svg\" height=\"24px\"viewBox=\"0 0 24 24\"\n",
              "       width=\"24px\">\n",
              "    <path d=\"M0 0h24v24H0V0z\" fill=\"none\"/>\n",
              "    <path d=\"M18.56 5.44l.94 2.06.94-2.06 2.06-.94-2.06-.94-.94-2.06-.94 2.06-2.06.94zm-11 1L8.5 8.5l.94-2.06 2.06-.94-2.06-.94L8.5 2.5l-.94 2.06-2.06.94zm10 10l.94 2.06.94-2.06 2.06-.94-2.06-.94-.94-2.06-.94 2.06-2.06.94z\"/><path d=\"M17.41 7.96l-1.37-1.37c-.4-.4-.92-.59-1.43-.59-.52 0-1.04.2-1.43.59L10.3 9.45l-7.72 7.72c-.78.78-.78 2.05 0 2.83L4 21.41c.39.39.9.59 1.41.59.51 0 1.02-.2 1.41-.59l7.78-7.78 2.81-2.81c.8-.78.8-2.07 0-2.86zM5.41 20L4 18.59l7.72-7.72 1.47 1.35L5.41 20z\"/>\n",
              "  </svg>\n",
              "      </button>\n",
              "      \n",
              "  <style>\n",
              "    .colab-df-container {\n",
              "      display:flex;\n",
              "      flex-wrap:wrap;\n",
              "      gap: 12px;\n",
              "    }\n",
              "\n",
              "    .colab-df-convert {\n",
              "      background-color: #E8F0FE;\n",
              "      border: none;\n",
              "      border-radius: 50%;\n",
              "      cursor: pointer;\n",
              "      display: none;\n",
              "      fill: #1967D2;\n",
              "      height: 32px;\n",
              "      padding: 0 0 0 0;\n",
              "      width: 32px;\n",
              "    }\n",
              "\n",
              "    .colab-df-convert:hover {\n",
              "      background-color: #E2EBFA;\n",
              "      box-shadow: 0px 1px 2px rgba(60, 64, 67, 0.3), 0px 1px 3px 1px rgba(60, 64, 67, 0.15);\n",
              "      fill: #174EA6;\n",
              "    }\n",
              "\n",
              "    [theme=dark] .colab-df-convert {\n",
              "      background-color: #3B4455;\n",
              "      fill: #D2E3FC;\n",
              "    }\n",
              "\n",
              "    [theme=dark] .colab-df-convert:hover {\n",
              "      background-color: #434B5C;\n",
              "      box-shadow: 0px 1px 3px 1px rgba(0, 0, 0, 0.15);\n",
              "      filter: drop-shadow(0px 1px 2px rgba(0, 0, 0, 0.3));\n",
              "      fill: #FFFFFF;\n",
              "    }\n",
              "  </style>\n",
              "\n",
              "      <script>\n",
              "        const buttonEl =\n",
              "          document.querySelector('#df-ee7131dd-2fd6-48e9-87aa-49842498ba0c button.colab-df-convert');\n",
              "        buttonEl.style.display =\n",
              "          google.colab.kernel.accessAllowed ? 'block' : 'none';\n",
              "\n",
              "        async function convertToInteractive(key) {\n",
              "          const element = document.querySelector('#df-ee7131dd-2fd6-48e9-87aa-49842498ba0c');\n",
              "          const dataTable =\n",
              "            await google.colab.kernel.invokeFunction('convertToInteractive',\n",
              "                                                     [key], {});\n",
              "          if (!dataTable) return;\n",
              "\n",
              "          const docLinkHtml = 'Like what you see? Visit the ' +\n",
              "            '<a target=\"_blank\" href=https://colab.research.google.com/notebooks/data_table.ipynb>data table notebook</a>'\n",
              "            + ' to learn more about interactive tables.';\n",
              "          element.innerHTML = '';\n",
              "          dataTable['output_type'] = 'display_data';\n",
              "          await google.colab.output.renderOutput(dataTable, element);\n",
              "          const docLink = document.createElement('div');\n",
              "          docLink.innerHTML = docLinkHtml;\n",
              "          element.appendChild(docLink);\n",
              "        }\n",
              "      </script>\n",
              "    </div>\n",
              "  </div>\n",
              "  "
            ],
            "text/plain": [
              "              Floor Price    24h(%)  ...  Total Assets  Owner Ratio\n",
              "Floor Price      1.000000 -0.009783  ...      0.030785    -0.022112\n",
              "24h(%)          -0.009783  1.000000  ...     -0.044110    -0.061314\n",
              "Market Cap       0.877688 -0.020030  ...      0.448143    -0.026262\n",
              "Owners           0.204931 -0.093534  ...      0.725195    -0.090021\n",
              "Total Assets     0.030785 -0.044110  ...      1.000000    -0.078877\n",
              "Owner Ratio     -0.022112 -0.061314  ...     -0.078877     1.000000\n",
              "\n",
              "[6 rows x 6 columns]"
            ]
          },
          "metadata": {},
          "execution_count": 145
        }
      ]
    },
    {
      "cell_type": "code",
      "source": [
        "plt.figure(figsize=(14,10))\n",
        "heatmap = sns.heatmap(df.corr(), cmap=\"BuPu\", annot=True)\n",
        "heatmap.set_title('Correlation Heatmap', fontdict={'fontsize':18}, pad=12);"
      ],
      "metadata": {
        "colab": {
          "base_uri": "https://localhost:8080/",
          "height": 618
        },
        "id": "AsbnVcYjyVsy",
        "outputId": "1040f776-9af2-40a0-fd5f-30fe8160fddb"
      },
      "execution_count": 162,
      "outputs": [
        {
          "output_type": "display_data",
          "data": {
            "image/png": "[encoded data removed]",
            "text/plain": [
              "<Figure size 1008x720 with 2 Axes>"
            ]
          },
          "metadata": {
            "needs_background": "light"
          }
        }
      ]
    },
    {
      "cell_type": "markdown",
      "source": [
        "##Análise de cada coluna:"
      ],
      "metadata": {
        "id": "ROnLSA7pe1xU"
      }
    },
    {
      "cell_type": "markdown",
      "source": [
        "###Floor Price:"
      ],
      "metadata": {
        "id": "0eq6pKY9xCIi"
      }
    },
    {
      "cell_type": "code",
      "source": [
        "df['Floor Price']"
      ],
      "metadata": {
        "id": "lyENhLtXftrB",
        "colab": {
          "base_uri": "https://localhost:8080/"
        },
        "outputId": "eca0f327-a2f0-4974-ca9f-a51a86951abe"
      },
      "execution_count": 52,
      "outputs": [
        {
          "output_type": "execute_result",
          "data": {
            "text/plain": [
              "0       0.175\n",
              "1      92.000\n",
              "2       2.334\n",
              "3      14.500\n",
              "4      10.600\n",
              "        ...  \n",
              "120     0.000\n",
              "121     1.000\n",
              "122     0.000\n",
              "123     0.000\n",
              "124     0.000\n",
              "Name: Floor Price, Length: 125, dtype: float64"
            ]
          },
          "metadata": {},
          "execution_count": 52
        }
      ]
    },
    {
      "cell_type": "code",
      "source": [
        "df['Floor Price'].describe()"
      ],
      "metadata": {
        "id": "CCa6ox0jftth",
        "colab": {
          "base_uri": "https://localhost:8080/"
        },
        "outputId": "a1994191-32c4-449c-9765-1df20339edae"
      },
      "execution_count": 53,
      "outputs": [
        {
          "output_type": "execute_result",
          "data": {
            "text/plain": [
              "count    125.000000\n",
              "mean       2.300862\n",
              "std        8.704808\n",
              "min        0.000000\n",
              "25%        0.080000\n",
              "50%        0.286000\n",
              "75%        1.430000\n",
              "max       92.000000\n",
              "Name: Floor Price, dtype: float64"
            ]
          },
          "metadata": {},
          "execution_count": 53
        }
      ]
    },
    {
      "cell_type": "code",
      "source": [
        "df2 = df[df['Floor Price'] < 80]"
      ],
      "metadata": {
        "id": "cZXd5RYYvKXV"
      },
      "execution_count": 54,
      "outputs": []
    },
    {
      "cell_type": "code",
      "source": [
        "df2['Floor Price'].describe()"
      ],
      "metadata": {
        "colab": {
          "base_uri": "https://localhost:8080/"
        },
        "id": "5SvpGn46vbZY",
        "outputId": "0f565a99-3519-492f-b631-93a9626129f7"
      },
      "execution_count": 55,
      "outputs": [
        {
          "output_type": "execute_result",
          "data": {
            "text/plain": [
              "count    124.000000\n",
              "mean       1.577482\n",
              "std        3.232350\n",
              "min        0.000000\n",
              "25%        0.076250\n",
              "50%        0.283000\n",
              "75%        1.400000\n",
              "max       19.694201\n",
              "Name: Floor Price, dtype: float64"
            ]
          },
          "metadata": {},
          "execution_count": 55
        }
      ]
    },
    {
      "cell_type": "code",
      "source": [
        "plt.figure(figsize=(12,6))\n",
        "df2.boxplot('Floor Price')\n",
        "plt.show()"
      ],
      "metadata": {
        "id": "keXhXAx8ftv8",
        "colab": {
          "base_uri": "https://localhost:8080/",
          "height": 0
        },
        "outputId": "7afd0d31-8c1e-4b69-c903-40d1dcf299bf"
      },
      "execution_count": 56,
      "outputs": [
        {
          "output_type": "display_data",
          "data": {
            "image/png": "[encoded data removed]",
            "text/plain": [
              "<Figure size 864x432 with 1 Axes>"
            ]
          },
          "metadata": {
            "needs_background": "light"
          }
        }
      ]
    },
    {
      "cell_type": "markdown",
      "source": [
        "- Os dados estão concentrados por volta de 0 e 5 ETH. O que nos indica lançamentos baixos, exceto por alguns outliers discrepantes."
      ],
      "metadata": {
        "id": "5Tw1wf1TvjvW"
      }
    },
    {
      "cell_type": "markdown",
      "source": [
        "####Visualização dos dados:"
      ],
      "metadata": {
        "id": "-fb5XnfbviD2"
      }
    },
    {
      "cell_type": "code",
      "source": [
        "plt.figure(figsize=(12,6))\n",
        "sns.distplot(df['Floor Price'], bins=10)"
      ],
      "metadata": {
        "colab": {
          "base_uri": "https://localhost:8080/",
          "height": 0
        },
        "id": "duW9MbToqVvY",
        "outputId": "eeb4e180-8a58-444f-986a-a870afcdbf02"
      },
      "execution_count": 57,
      "outputs": [
        {
          "output_type": "stream",
          "name": "stderr",
          "text": [
            "/usr/local/lib/python3.7/dist-packages/seaborn/distributions.py:2619: FutureWarning: `distplot` is a deprecated function and will be removed in a future version. Please adapt your code to use either `displot` (a figure-level function with similar flexibility) or `histplot` (an axes-level function for histograms).\n",
            "  warnings.warn(msg, FutureWarning)\n"
          ]
        },
        {
          "output_type": "execute_result",
          "data": {
            "text/plain": [
              "<matplotlib.axes._subplots.AxesSubplot at 0x7f8e0a13da10>"
            ]
          },
          "metadata": {},
          "execution_count": 57
        },
        {
          "output_type": "display_data",
          "data": {
            "image/png": "[encoded data removed]",
            "text/plain": [
              "<Figure size 864x432 with 1 Axes>"
            ]
          },
          "metadata": {
            "needs_background": "light"
          }
        }
      ]
    },
    {
      "cell_type": "code",
      "source": [
        "plt.figure(figsize=(12,8))\n",
        "sns.kdeplot(df['Floor Price'])\n",
        "sns.rugplot(df['Floor Price'])"
      ],
      "metadata": {
        "colab": {
          "base_uri": "https://localhost:8080/",
          "height": 0
        },
        "id": "UYRCxJhnrH80",
        "outputId": "5345a38e-6f1a-40b8-c7b0-eaabd60d8f49"
      },
      "execution_count": 58,
      "outputs": [
        {
          "output_type": "execute_result",
          "data": {
            "text/plain": [
              "<matplotlib.axes._subplots.AxesSubplot at 0x7f8e0a0ccad0>"
            ]
          },
          "metadata": {},
          "execution_count": 58
        },
        {
          "output_type": "display_data",
          "data": {
            "image/png": "[encoded data removed]",
            "text/plain": [
              "<Figure size 864x576 with 1 Axes>"
            ]
          },
          "metadata": {
            "needs_background": "light"
          }
        }
      ]
    },
    {
      "cell_type": "code",
      "source": [
        "plt.figure(figsize=(12,8))\n",
        "sns.scatterplot(data=df['Floor Price'])"
      ],
      "metadata": {
        "colab": {
          "base_uri": "https://localhost:8080/",
          "height": 0
        },
        "id": "SoUCTB1Rr_gE",
        "outputId": "6466650a-cda1-4258-cdb6-0dd367b15300"
      },
      "execution_count": 59,
      "outputs": [
        {
          "output_type": "execute_result",
          "data": {
            "text/plain": [
              "<matplotlib.axes._subplots.AxesSubplot at 0x7f8dff7c30d0>"
            ]
          },
          "metadata": {},
          "execution_count": 59
        },
        {
          "output_type": "display_data",
          "data": {
            "image/png": "[encoded data removed]",
            "text/plain": [
              "<Figure size 864x576 with 1 Axes>"
            ]
          },
          "metadata": {
            "needs_background": "light"
          }
        }
      ]
    },
    {
      "cell_type": "markdown",
      "source": [
        "- As visualizações ajudam a gente perceber a distribuição concentrada entre 0 e 5 ETH. Lembrando que 1 ETH, atualmente (10/02/2022) está por volta de $3.000,00. O Floor Price é o valor mais baixo para alguém ser participante de um projeto NFT. Considerando que são os projetos mais valorizados, é natural que esses projetos tenham floor prices altos."
      ],
      "metadata": {
        "id": "R9rPzcHBwlDd"
      }
    },
    {
      "cell_type": "markdown",
      "source": [
        "###"
      ],
      "metadata": {
        "id": "aKueE3le3DYg"
      }
    },
    {
      "cell_type": "markdown",
      "source": [
        "###Variação nas últimas 24 horas:"
      ],
      "metadata": {
        "id": "kOqfOjfnzAsx"
      }
    },
    {
      "cell_type": "markdown",
      "source": [
        "- Essa coluna não nos informa muito sobre o dataset de um modo geral, visto que para termos uma informação de qualidade, sempre terá de ser dinâmica a relação mética fornecida nessa coluna, por isso as informações de estatística descritiva serão suficiente"
      ],
      "metadata": {
        "id": "FGFX790pzGOl"
      }
    },
    {
      "cell_type": "code",
      "source": [
        "df['24h(%)'].describe()"
      ],
      "metadata": {
        "colab": {
          "base_uri": "https://localhost:8080/"
        },
        "id": "NEcY_WbVzROy",
        "outputId": "8dd7baf1-cbf7-450e-882e-699882c0090c"
      },
      "execution_count": 60,
      "outputs": [
        {
          "output_type": "execute_result",
          "data": {
            "text/plain": [
              "count     125.000000\n",
              "mean        9.193600\n",
              "std       161.330439\n",
              "min      -100.000000\n",
              "25%       -11.000000\n",
              "50%        -6.500000\n",
              "75%         0.700000\n",
              "max      1771.000000\n",
              "Name: 24h(%), dtype: float64"
            ]
          },
          "metadata": {},
          "execution_count": 60
        }
      ]
    },
    {
      "cell_type": "code",
      "source": [
        "df[df['24h(%)'] == 904]"
      ],
      "metadata": {
        "colab": {
          "base_uri": "https://localhost:8080/",
          "height": 0
        },
        "id": "cnGI1w9-zZDF",
        "outputId": "a780af7d-342e-4fe5-faf1-eff89d2bbfd2"
      },
      "execution_count": 61,
      "outputs": [
        {
          "output_type": "execute_result",
          "data": {
            "text/html": [
              "\n",
              "  <div id=\"df-a7a075fa-aa39-4f5d-a155-0a4befd8f3d1\">\n",
              "    <div class=\"colab-df-container\">\n",
              "      <div>\n",
              "<style scoped>\n",
              "    .dataframe tbody tr th:only-of-type {\n",
              "        vertical-align: middle;\n",
              "    }\n",
              "\n",
              "    .dataframe tbody tr th {\n",
              "        vertical-align: top;\n",
              "    }\n",
              "\n",
              "    .dataframe thead th {\n",
              "        text-align: right;\n",
              "    }\n",
              "</style>\n",
              "<table border=\"1\" class=\"dataframe\">\n",
              "  <thead>\n",
              "    <tr style=\"text-align: right;\">\n",
              "      <th></th>\n",
              "      <th>NFT</th>\n",
              "      <th>Floor Price</th>\n",
              "      <th>24h(%)</th>\n",
              "      <th>Market Cap</th>\n",
              "      <th>24h Volume</th>\n",
              "      <th>Owners</th>\n",
              "      <th>24h Owners</th>\n",
              "      <th>Total Assets</th>\n",
              "      <th>Owner Ratio</th>\n",
              "    </tr>\n",
              "  </thead>\n",
              "  <tbody>\n",
              "  </tbody>\n",
              "</table>\n",
              "</div>\n",
              "      <button class=\"colab-df-convert\" onclick=\"convertToInteractive('df-a7a075fa-aa39-4f5d-a155-0a4befd8f3d1')\"\n",
              "              title=\"Convert this dataframe to an interactive table.\"\n",
              "              style=\"display:none;\">\n",
              "        \n",
              "  <svg xmlns=\"http://www.w3.org/2000/svg\" height=\"24px\"viewBox=\"0 0 24 24\"\n",
              "       width=\"24px\">\n",
              "    <path d=\"M0 0h24v24H0V0z\" fill=\"none\"/>\n",
              "    <path d=\"M18.56 5.44l.94 2.06.94-2.06 2.06-.94-2.06-.94-.94-2.06-.94 2.06-2.06.94zm-11 1L8.5 8.5l.94-2.06 2.06-.94-2.06-.94L8.5 2.5l-.94 2.06-2.06.94zm10 10l.94 2.06.94-2.06 2.06-.94-2.06-.94-.94-2.06-.94 2.06-2.06.94z\"/><path d=\"M17.41 7.96l-1.37-1.37c-.4-.4-.92-.59-1.43-.59-.52 0-1.04.2-1.43.59L10.3 9.45l-7.72 7.72c-.78.78-.78 2.05 0 2.83L4 21.41c.39.39.9.59 1.41.59.51 0 1.02-.2 1.41-.59l7.78-7.78 2.81-2.81c.8-.78.8-2.07 0-2.86zM5.41 20L4 18.59l7.72-7.72 1.47 1.35L5.41 20z\"/>\n",
              "  </svg>\n",
              "      </button>\n",
              "      \n",
              "  <style>\n",
              "    .colab-df-container {\n",
              "      display:flex;\n",
              "      flex-wrap:wrap;\n",
              "      gap: 12px;\n",
              "    }\n",
              "\n",
              "    .colab-df-convert {\n",
              "      background-color: #E8F0FE;\n",
              "      border: none;\n",
              "      border-radius: 50%;\n",
              "      cursor: pointer;\n",
              "      display: none;\n",
              "      fill: #1967D2;\n",
              "      height: 32px;\n",
              "      padding: 0 0 0 0;\n",
              "      width: 32px;\n",
              "    }\n",
              "\n",
              "    .colab-df-convert:hover {\n",
              "      background-color: #E2EBFA;\n",
              "      box-shadow: 0px 1px 2px rgba(60, 64, 67, 0.3), 0px 1px 3px 1px rgba(60, 64, 67, 0.15);\n",
              "      fill: #174EA6;\n",
              "    }\n",
              "\n",
              "    [theme=dark] .colab-df-convert {\n",
              "      background-color: #3B4455;\n",
              "      fill: #D2E3FC;\n",
              "    }\n",
              "\n",
              "    [theme=dark] .colab-df-convert:hover {\n",
              "      background-color: #434B5C;\n",
              "      box-shadow: 0px 1px 3px 1px rgba(0, 0, 0, 0.15);\n",
              "      filter: drop-shadow(0px 1px 2px rgba(0, 0, 0, 0.3));\n",
              "      fill: #FFFFFF;\n",
              "    }\n",
              "  </style>\n",
              "\n",
              "      <script>\n",
              "        const buttonEl =\n",
              "          document.querySelector('#df-a7a075fa-aa39-4f5d-a155-0a4befd8f3d1 button.colab-df-convert');\n",
              "        buttonEl.style.display =\n",
              "          google.colab.kernel.accessAllowed ? 'block' : 'none';\n",
              "\n",
              "        async function convertToInteractive(key) {\n",
              "          const element = document.querySelector('#df-a7a075fa-aa39-4f5d-a155-0a4befd8f3d1');\n",
              "          const dataTable =\n",
              "            await google.colab.kernel.invokeFunction('convertToInteractive',\n",
              "                                                     [key], {});\n",
              "          if (!dataTable) return;\n",
              "\n",
              "          const docLinkHtml = 'Like what you see? Visit the ' +\n",
              "            '<a target=\"_blank\" href=https://colab.research.google.com/notebooks/data_table.ipynb>data table notebook</a>'\n",
              "            + ' to learn more about interactive tables.';\n",
              "          element.innerHTML = '';\n",
              "          dataTable['output_type'] = 'display_data';\n",
              "          await google.colab.output.renderOutput(dataTable, element);\n",
              "          const docLink = document.createElement('div');\n",
              "          docLink.innerHTML = docLinkHtml;\n",
              "          element.appendChild(docLink);\n",
              "        }\n",
              "      </script>\n",
              "    </div>\n",
              "  </div>\n",
              "  "
            ],
            "text/plain": [
              "Empty DataFrame\n",
              "Columns: [NFT, Floor Price, 24h(%), Market Cap, 24h Volume, Owners, 24h Owners, Total Assets, Owner Ratio]\n",
              "Index: []"
            ]
          },
          "metadata": {},
          "execution_count": 61
        }
      ]
    },
    {
      "cell_type": "markdown",
      "source": [
        "- É possível sabermos os NFTs que tem um crescimento nas últimas 24 horas acima da média:"
      ],
      "metadata": {
        "id": "wPEfFafdzkVp"
      }
    },
    {
      "cell_type": "code",
      "source": [
        "df_mean24h = df[df['24h(%)'] > df['24h(%)'].mean() ]"
      ],
      "metadata": {
        "id": "TsZETMknzjzd"
      },
      "execution_count": 62,
      "outputs": []
    },
    {
      "cell_type": "code",
      "source": [
        "df_mean24h.describe()"
      ],
      "metadata": {
        "colab": {
          "base_uri": "https://localhost:8080/",
          "height": 0
        },
        "id": "wsTBz0uwz2RE",
        "outputId": "fff12a0b-a5f2-4c49-8e63-994840f16749"
      },
      "execution_count": 63,
      "outputs": [
        {
          "output_type": "execute_result",
          "data": {
            "text/html": [
              "\n",
              "  <div id=\"df-d9474778-ee3d-4821-b3f9-69bf8f19f30b\">\n",
              "    <div class=\"colab-df-container\">\n",
              "      <div>\n",
              "<style scoped>\n",
              "    .dataframe tbody tr th:only-of-type {\n",
              "        vertical-align: middle;\n",
              "    }\n",
              "\n",
              "    .dataframe tbody tr th {\n",
              "        vertical-align: top;\n",
              "    }\n",
              "\n",
              "    .dataframe thead th {\n",
              "        text-align: right;\n",
              "    }\n",
              "</style>\n",
              "<table border=\"1\" class=\"dataframe\">\n",
              "  <thead>\n",
              "    <tr style=\"text-align: right;\">\n",
              "      <th></th>\n",
              "      <th>Floor Price</th>\n",
              "      <th>24h(%)</th>\n",
              "      <th>Owners</th>\n",
              "      <th>Total Assets</th>\n",
              "      <th>Owner Ratio</th>\n",
              "    </tr>\n",
              "  </thead>\n",
              "  <tbody>\n",
              "    <tr>\n",
              "      <th>count</th>\n",
              "      <td>18.000000</td>\n",
              "      <td>18.000000</td>\n",
              "      <td>18.000000</td>\n",
              "      <td>18.000000</td>\n",
              "      <td>18.000000</td>\n",
              "    </tr>\n",
              "    <tr>\n",
              "      <th>mean</th>\n",
              "      <td>0.927661</td>\n",
              "      <td>134.872222</td>\n",
              "      <td>2839.555556</td>\n",
              "      <td>10354.388889</td>\n",
              "      <td>34.021416</td>\n",
              "    </tr>\n",
              "    <tr>\n",
              "      <th>std</th>\n",
              "      <td>2.118168</td>\n",
              "      <td>409.351551</td>\n",
              "      <td>2158.059565</td>\n",
              "      <td>10403.310447</td>\n",
              "      <td>15.881993</td>\n",
              "    </tr>\n",
              "    <tr>\n",
              "      <th>min</th>\n",
              "      <td>0.020000</td>\n",
              "      <td>10.600000</td>\n",
              "      <td>370.000000</td>\n",
              "      <td>777.000000</td>\n",
              "      <td>5.630000</td>\n",
              "    </tr>\n",
              "    <tr>\n",
              "      <th>25%</th>\n",
              "      <td>0.052500</td>\n",
              "      <td>16.375000</td>\n",
              "      <td>989.750000</td>\n",
              "      <td>5138.500000</td>\n",
              "      <td>31.040000</td>\n",
              "    </tr>\n",
              "    <tr>\n",
              "      <th>50%</th>\n",
              "      <td>0.117000</td>\n",
              "      <td>27.600000</td>\n",
              "      <td>2744.000000</td>\n",
              "      <td>8838.000000</td>\n",
              "      <td>36.121853</td>\n",
              "    </tr>\n",
              "    <tr>\n",
              "      <th>75%</th>\n",
              "      <td>0.882250</td>\n",
              "      <td>65.425000</td>\n",
              "      <td>3951.750000</td>\n",
              "      <td>10000.000000</td>\n",
              "      <td>44.319261</td>\n",
              "    </tr>\n",
              "    <tr>\n",
              "      <th>max</th>\n",
              "      <td>8.900000</td>\n",
              "      <td>1771.000000</td>\n",
              "      <td>8710.000000</td>\n",
              "      <td>46169.000000</td>\n",
              "      <td>54.944066</td>\n",
              "    </tr>\n",
              "  </tbody>\n",
              "</table>\n",
              "</div>\n",
              "      <button class=\"colab-df-convert\" onclick=\"convertToInteractive('df-d9474778-ee3d-4821-b3f9-69bf8f19f30b')\"\n",
              "              title=\"Convert this dataframe to an interactive table.\"\n",
              "              style=\"display:none;\">\n",
              "        \n",
              "  <svg xmlns=\"http://www.w3.org/2000/svg\" height=\"24px\"viewBox=\"0 0 24 24\"\n",
              "       width=\"24px\">\n",
              "    <path d=\"M0 0h24v24H0V0z\" fill=\"none\"/>\n",
              "    <path d=\"M18.56 5.44l.94 2.06.94-2.06 2.06-.94-2.06-.94-.94-2.06-.94 2.06-2.06.94zm-11 1L8.5 8.5l.94-2.06 2.06-.94-2.06-.94L8.5 2.5l-.94 2.06-2.06.94zm10 10l.94 2.06.94-2.06 2.06-.94-2.06-.94-.94-2.06-.94 2.06-2.06.94z\"/><path d=\"M17.41 7.96l-1.37-1.37c-.4-.4-.92-.59-1.43-.59-.52 0-1.04.2-1.43.59L10.3 9.45l-7.72 7.72c-.78.78-.78 2.05 0 2.83L4 21.41c.39.39.9.59 1.41.59.51 0 1.02-.2 1.41-.59l7.78-7.78 2.81-2.81c.8-.78.8-2.07 0-2.86zM5.41 20L4 18.59l7.72-7.72 1.47 1.35L5.41 20z\"/>\n",
              "  </svg>\n",
              "      </button>\n",
              "      \n",
              "  <style>\n",
              "    .colab-df-container {\n",
              "      display:flex;\n",
              "      flex-wrap:wrap;\n",
              "      gap: 12px;\n",
              "    }\n",
              "\n",
              "    .colab-df-convert {\n",
              "      background-color: #E8F0FE;\n",
              "      border: none;\n",
              "      border-radius: 50%;\n",
              "      cursor: pointer;\n",
              "      display: none;\n",
              "      fill: #1967D2;\n",
              "      height: 32px;\n",
              "      padding: 0 0 0 0;\n",
              "      width: 32px;\n",
              "    }\n",
              "\n",
              "    .colab-df-convert:hover {\n",
              "      background-color: #E2EBFA;\n",
              "      box-shadow: 0px 1px 2px rgba(60, 64, 67, 0.3), 0px 1px 3px 1px rgba(60, 64, 67, 0.15);\n",
              "      fill: #174EA6;\n",
              "    }\n",
              "\n",
              "    [theme=dark] .colab-df-convert {\n",
              "      background-color: #3B4455;\n",
              "      fill: #D2E3FC;\n",
              "    }\n",
              "\n",
              "    [theme=dark] .colab-df-convert:hover {\n",
              "      background-color: #434B5C;\n",
              "      box-shadow: 0px 1px 3px 1px rgba(0, 0, 0, 0.15);\n",
              "      filter: drop-shadow(0px 1px 2px rgba(0, 0, 0, 0.3));\n",
              "      fill: #FFFFFF;\n",
              "    }\n",
              "  </style>\n",
              "\n",
              "      <script>\n",
              "        const buttonEl =\n",
              "          document.querySelector('#df-d9474778-ee3d-4821-b3f9-69bf8f19f30b button.colab-df-convert');\n",
              "        buttonEl.style.display =\n",
              "          google.colab.kernel.accessAllowed ? 'block' : 'none';\n",
              "\n",
              "        async function convertToInteractive(key) {\n",
              "          const element = document.querySelector('#df-d9474778-ee3d-4821-b3f9-69bf8f19f30b');\n",
              "          const dataTable =\n",
              "            await google.colab.kernel.invokeFunction('convertToInteractive',\n",
              "                                                     [key], {});\n",
              "          if (!dataTable) return;\n",
              "\n",
              "          const docLinkHtml = 'Like what you see? Visit the ' +\n",
              "            '<a target=\"_blank\" href=https://colab.research.google.com/notebooks/data_table.ipynb>data table notebook</a>'\n",
              "            + ' to learn more about interactive tables.';\n",
              "          element.innerHTML = '';\n",
              "          dataTable['output_type'] = 'display_data';\n",
              "          await google.colab.output.renderOutput(dataTable, element);\n",
              "          const docLink = document.createElement('div');\n",
              "          docLink.innerHTML = docLinkHtml;\n",
              "          element.appendChild(docLink);\n",
              "        }\n",
              "      </script>\n",
              "    </div>\n",
              "  </div>\n",
              "  "
            ],
            "text/plain": [
              "       Floor Price       24h(%)       Owners  Total Assets  Owner Ratio\n",
              "count    18.000000    18.000000    18.000000     18.000000    18.000000\n",
              "mean      0.927661   134.872222  2839.555556  10354.388889    34.021416\n",
              "std       2.118168   409.351551  2158.059565  10403.310447    15.881993\n",
              "min       0.020000    10.600000   370.000000    777.000000     5.630000\n",
              "25%       0.052500    16.375000   989.750000   5138.500000    31.040000\n",
              "50%       0.117000    27.600000  2744.000000   8838.000000    36.121853\n",
              "75%       0.882250    65.425000  3951.750000  10000.000000    44.319261\n",
              "max       8.900000  1771.000000  8710.000000  46169.000000    54.944066"
            ]
          },
          "metadata": {},
          "execution_count": 63
        }
      ]
    },
    {
      "cell_type": "markdown",
      "source": [
        "Essas informações são bem interessantes, válida para o dia 10/02/2022:\n",
        "- 25 NFTs dos 125 tem crescimento das últimas 24 horas acima da média\n",
        "- 1.96 ETH é a média do Floor Price"
      ],
      "metadata": {
        "id": "YUogrghKz6DA"
      }
    },
    {
      "cell_type": "markdown",
      "source": [
        "####Visualização de dados:"
      ],
      "metadata": {
        "id": "oYN7Zujh1eAf"
      }
    },
    {
      "cell_type": "code",
      "source": [
        "plt.figure(figsize=(12,6))\n",
        "df.boxplot('24h(%)')\n",
        "plt.show()"
      ],
      "metadata": {
        "colab": {
          "base_uri": "https://localhost:8080/",
          "height": 0
        },
        "id": "g6FDFJ2L1f8J",
        "outputId": "71cf883d-f623-42dc-9212-5284dfb513fd"
      },
      "execution_count": 64,
      "outputs": [
        {
          "output_type": "display_data",
          "data": {
            "image/png": "[encoded data removed]",
            "text/plain": [
              "<Figure size 864x432 with 1 Axes>"
            ]
          },
          "metadata": {
            "needs_background": "light"
          }
        }
      ]
    },
    {
      "cell_type": "code",
      "source": [
        "plt.figure(figsize=(12,6))\n",
        "df_mean24h.boxplot('24h(%)')\n",
        "plt.show()"
      ],
      "metadata": {
        "colab": {
          "base_uri": "https://localhost:8080/",
          "height": 0
        },
        "id": "RfvH0-Ku1ptc",
        "outputId": "39c7428a-7532-4e04-9af3-049e7365f59f"
      },
      "execution_count": 65,
      "outputs": [
        {
          "output_type": "display_data",
          "data": {
            "image/png": "[encoded data removed]",
            "text/plain": [
              "<Figure size 864x432 with 1 Axes>"
            ]
          },
          "metadata": {
            "needs_background": "light"
          }
        }
      ]
    },
    {
      "cell_type": "code",
      "source": [
        "plt.figure(figsize=(12,6))\n",
        "sns.distplot(df_mean24h['24h(%)'], bins=10)"
      ],
      "metadata": {
        "colab": {
          "base_uri": "https://localhost:8080/",
          "height": 0
        },
        "id": "QEGVXaEA1urS",
        "outputId": "44c53d74-b83a-4c4f-9612-5d2f262a602e"
      },
      "execution_count": 66,
      "outputs": [
        {
          "output_type": "stream",
          "name": "stderr",
          "text": [
            "/usr/local/lib/python3.7/dist-packages/seaborn/distributions.py:2619: FutureWarning: `distplot` is a deprecated function and will be removed in a future version. Please adapt your code to use either `displot` (a figure-level function with similar flexibility) or `histplot` (an axes-level function for histograms).\n",
            "  warnings.warn(msg, FutureWarning)\n"
          ]
        },
        {
          "output_type": "execute_result",
          "data": {
            "text/plain": [
              "<matplotlib.axes._subplots.AxesSubplot at 0x7f8dff634fd0>"
            ]
          },
          "metadata": {},
          "execution_count": 66
        },
        {
          "output_type": "display_data",
          "data": {
            "image/png": "[encoded data removed]",
            "text/plain": [
              "<Figure size 864x432 with 1 Axes>"
            ]
          },
          "metadata": {
            "needs_background": "light"
          }
        }
      ]
    },
    {
      "cell_type": "code",
      "source": [
        "plt.figure(figsize=(12,8))\n",
        "sns.kdeplot(df_mean24h['24h(%)'])\n",
        "sns.rugplot(df_mean24h['24h(%)'])"
      ],
      "metadata": {
        "colab": {
          "base_uri": "https://localhost:8080/",
          "height": 0
        },
        "id": "h_8gi2--1uuB",
        "outputId": "a8bd5de9-4b29-4ae7-eae6-0efe90746696"
      },
      "execution_count": 67,
      "outputs": [
        {
          "output_type": "execute_result",
          "data": {
            "text/plain": [
              "<matplotlib.axes._subplots.AxesSubplot at 0x7f8dff6a5b10>"
            ]
          },
          "metadata": {},
          "execution_count": 67
        },
        {
          "output_type": "display_data",
          "data": {
            "image/png": "[encoded data removed]",
            "text/plain": [
              "<Figure size 864x576 with 1 Axes>"
            ]
          },
          "metadata": {
            "needs_background": "light"
          }
        }
      ]
    },
    {
      "cell_type": "code",
      "source": [
        "plt.figure(figsize=(12,8))\n",
        "sns.scatterplot(data=df_mean24h['24h(%)'])"
      ],
      "metadata": {
        "colab": {
          "base_uri": "https://localhost:8080/",
          "height": 0
        },
        "id": "DliypXLn1uw4",
        "outputId": "f2496d91-a9f9-4c58-bcbd-9e852befe143"
      },
      "execution_count": 68,
      "outputs": [
        {
          "output_type": "execute_result",
          "data": {
            "text/plain": [
              "<matplotlib.axes._subplots.AxesSubplot at 0x7f8dff69bf90>"
            ]
          },
          "metadata": {},
          "execution_count": 68
        },
        {
          "output_type": "display_data",
          "data": {
            "image/png": "[encoded data removed]",
            "text/plain": [
              "<Figure size 864x576 with 1 Axes>"
            ]
          },
          "metadata": {
            "needs_background": "light"
          }
        }
      ]
    },
    {
      "cell_type": "markdown",
      "source": [
        "- O Floor Price desses projetos com crescimento acima da média:"
      ],
      "metadata": {
        "id": "FBj5IBs42dIg"
      }
    },
    {
      "cell_type": "code",
      "source": [
        "plt.figure(figsize=(12,6))\n",
        "sns.distplot(df_mean24h['Floor Price'], bins=10)"
      ],
      "metadata": {
        "colab": {
          "base_uri": "https://localhost:8080/",
          "height": 0
        },
        "id": "9bahSerN2jTd",
        "outputId": "f008e064-33d0-4a9e-9cc8-a3af76bb3156"
      },
      "execution_count": 69,
      "outputs": [
        {
          "output_type": "stream",
          "name": "stderr",
          "text": [
            "/usr/local/lib/python3.7/dist-packages/seaborn/distributions.py:2619: FutureWarning: `distplot` is a deprecated function and will be removed in a future version. Please adapt your code to use either `displot` (a figure-level function with similar flexibility) or `histplot` (an axes-level function for histograms).\n",
            "  warnings.warn(msg, FutureWarning)\n"
          ]
        },
        {
          "output_type": "execute_result",
          "data": {
            "text/plain": [
              "<matplotlib.axes._subplots.AxesSubplot at 0x7f8dff52d950>"
            ]
          },
          "metadata": {},
          "execution_count": 69
        },
        {
          "output_type": "display_data",
          "data": {
            "image/png": "[encoded data removed]",
            "text/plain": [
              "<Figure size 864x432 with 1 Axes>"
            ]
          },
          "metadata": {
            "needs_background": "light"
          }
        }
      ]
    },
    {
      "cell_type": "code",
      "source": [
        "plt.figure(figsize=(12,8))\n",
        "sns.kdeplot(df_mean24h['Floor Price'])\n",
        "sns.rugplot(df_mean24h['Floor Price'])"
      ],
      "metadata": {
        "colab": {
          "base_uri": "https://localhost:8080/",
          "height": 0
        },
        "id": "N3KV2i-_2jdH",
        "outputId": "c9dd755d-6632-4291-c805-a6035c1406f9"
      },
      "execution_count": 70,
      "outputs": [
        {
          "output_type": "execute_result",
          "data": {
            "text/plain": [
              "<matplotlib.axes._subplots.AxesSubplot at 0x7f8dff749f90>"
            ]
          },
          "metadata": {},
          "execution_count": 70
        },
        {
          "output_type": "display_data",
          "data": {
            "image/png": "[encoded data removed]",
            "text/plain": [
              "<Figure size 864x576 with 1 Axes>"
            ]
          },
          "metadata": {
            "needs_background": "light"
          }
        }
      ]
    },
    {
      "cell_type": "markdown",
      "source": [
        ""
      ],
      "metadata": {
        "id": "t1WMH9fO28uW"
      }
    },
    {
      "cell_type": "markdown",
      "source": [
        "###Market Cap:"
      ],
      "metadata": {
        "id": "mZsHwtmO2_s-"
      }
    },
    {
      "cell_type": "markdown",
      "source": [
        "- O market cap é o que entenderíamos pela receita total do projeto. No entanto, muitos indicadores (incluindo a coingecko), simplesmente multiplicam a quantidade de NFTs (total assets) pelo preço do NFT mais baixo (floor price), o que significa que não é exatamente confiável. O market cap é o melhor parâmetro para entender o crescimento do projeto a longo prazo e o seu sucesso, porém, como tudo em finanças, não é uma medida exata, existem diversos outros fatores que garantem o sucesso de um projeto."
      ],
      "metadata": {
        "id": "65I1dFiW6XPC"
      }
    },
    {
      "cell_type": "code",
      "source": [
        "df['Market Cap'] = df['Market Cap'].astype(float)"
      ],
      "metadata": {
        "id": "DfPqr9HR4Rzr"
      },
      "execution_count": 71,
      "outputs": []
    },
    {
      "cell_type": "code",
      "source": [
        "df['Market Cap'].describe()"
      ],
      "metadata": {
        "colab": {
          "base_uri": "https://localhost:8080/"
        },
        "id": "Drg2TDnD884z",
        "outputId": "b5afa9b6-5073-4d71-ab4c-6979e3475ff2"
      },
      "execution_count": 72,
      "outputs": [
        {
          "output_type": "execute_result",
          "data": {
            "text/plain": [
              "count       125.000000\n",
              "mean      27659.500720\n",
              "std      103697.204913\n",
              "min           0.000000\n",
              "25%         649.680000\n",
              "50%        2179.780000\n",
              "75%       13900.000000\n",
              "max      919908.000000\n",
              "Name: Market Cap, dtype: float64"
            ]
          },
          "metadata": {},
          "execution_count": 72
        }
      ]
    },
    {
      "cell_type": "code",
      "source": [
        "plt.figure(figsize=(12,6))\n",
        "df.boxplot('Market Cap')\n",
        "plt.show()"
      ],
      "metadata": {
        "colab": {
          "base_uri": "https://localhost:8080/",
          "height": 374
        },
        "id": "YgbXwsKI887b",
        "outputId": "5ab5baa6-6f5b-4cff-a079-f1dcc6309dfe"
      },
      "execution_count": 73,
      "outputs": [
        {
          "output_type": "display_data",
          "data": {
            "image/png": "[encoded data removed]",
            "text/plain": [
              "<Figure size 864x432 with 1 Axes>"
            ]
          },
          "metadata": {
            "needs_background": "light"
          }
        }
      ]
    },
    {
      "cell_type": "markdown",
      "source": [
        "####Visualização de dados:"
      ],
      "metadata": {
        "id": "q7IUJ5E__FUd"
      }
    },
    {
      "cell_type": "code",
      "source": [
        "plt.figure(figsize=(12,8))\n",
        "sns.scatterplot(data=df['Market Cap'])"
      ],
      "metadata": {
        "colab": {
          "base_uri": "https://localhost:8080/",
          "height": 500
        },
        "id": "B7u5J8Is_HCg",
        "outputId": "865a76e3-5034-4e22-afca-118597be3314"
      },
      "execution_count": 74,
      "outputs": [
        {
          "output_type": "execute_result",
          "data": {
            "text/plain": [
              "<matplotlib.axes._subplots.AxesSubplot at 0x7f8e0a7b5050>"
            ]
          },
          "metadata": {},
          "execution_count": 74
        },
        {
          "output_type": "display_data",
          "data": {
            "image/png": "[encoded data removed]",
            "text/plain": [
              "<Figure size 864x576 with 1 Axes>"
            ]
          },
          "metadata": {
            "needs_background": "light"
          }
        }
      ]
    },
    {
      "cell_type": "code",
      "source": [
        "plt.figure(figsize=(12,6))\n",
        "sns.distplot(df['Market Cap'], bins=10)"
      ],
      "metadata": {
        "colab": {
          "base_uri": "https://localhost:8080/",
          "height": 471
        },
        "id": "ZKhYujrW889_",
        "outputId": "7ef90bb4-9b07-405a-c6ed-e3b3e4178e34"
      },
      "execution_count": 75,
      "outputs": [
        {
          "output_type": "stream",
          "name": "stderr",
          "text": [
            "/usr/local/lib/python3.7/dist-packages/seaborn/distributions.py:2619: FutureWarning: `distplot` is a deprecated function and will be removed in a future version. Please adapt your code to use either `displot` (a figure-level function with similar flexibility) or `histplot` (an axes-level function for histograms).\n",
            "  warnings.warn(msg, FutureWarning)\n"
          ]
        },
        {
          "output_type": "execute_result",
          "data": {
            "text/plain": [
              "<matplotlib.axes._subplots.AxesSubplot at 0x7f8dff4a29d0>"
            ]
          },
          "metadata": {},
          "execution_count": 75
        },
        {
          "output_type": "display_data",
          "data": {
            "image/png": "[encoded data removed]",
            "text/plain": [
              "<Figure size 864x432 with 1 Axes>"
            ]
          },
          "metadata": {
            "needs_background": "light"
          }
        }
      ]
    },
    {
      "cell_type": "code",
      "source": [
        "plt.figure(figsize=(12,8))\n",
        "sns.kdeplot(df['Market Cap'])\n",
        "sns.rugplot(df['Market Cap'])"
      ],
      "metadata": {
        "colab": {
          "base_uri": "https://localhost:8080/",
          "height": 525
        },
        "id": "TikQ4hA8_HE1",
        "outputId": "1eb4931a-af67-4f61-e3ed-6800b98affb7"
      },
      "execution_count": 76,
      "outputs": [
        {
          "output_type": "execute_result",
          "data": {
            "text/plain": [
              "<matplotlib.axes._subplots.AxesSubplot at 0x7f8dff429c50>"
            ]
          },
          "metadata": {},
          "execution_count": 76
        },
        {
          "output_type": "display_data",
          "data": {
            "image/png": "[encoded data removed]",
            "text/plain": [
              "<Figure size 864x576 with 1 Axes>"
            ]
          },
          "metadata": {
            "needs_background": "light"
          }
        }
      ]
    },
    {
      "cell_type": "markdown",
      "source": [
        "A conclusão é que o Market Cap se mantém estável de um modo geral, tirando alguns Outliers acima de 20.000, ou ainda, podemos considerar que os Outliers se comprometem bastante acima do 3º Quartil (75%): 13587.1 ETH. Ainda mais quando se considera que a mediana é 2179 ETH, podemos entender que a maior parte dos projetos deve estar por volta desse valor."
      ],
      "metadata": {
        "id": "_xELrNZ1_ka2"
      }
    },
    {
      "cell_type": "code",
      "source": [
        "df[df['Market Cap'] < 13587].describe()"
      ],
      "metadata": {
        "colab": {
          "base_uri": "https://localhost:8080/",
          "height": 300
        },
        "id": "0JnvtffW_HHV",
        "outputId": "5b87f675-cd65-4ad2-8cec-7661a97a48aa"
      },
      "execution_count": 201,
      "outputs": [
        {
          "output_type": "execute_result",
          "data": {
            "text/html": [
              "\n",
              "  <div id=\"df-3d1c1dde-25b0-4112-a159-bf1292fecdb4\">\n",
              "    <div class=\"colab-df-container\">\n",
              "      <div>\n",
              "<style scoped>\n",
              "    .dataframe tbody tr th:only-of-type {\n",
              "        vertical-align: middle;\n",
              "    }\n",
              "\n",
              "    .dataframe tbody tr th {\n",
              "        vertical-align: top;\n",
              "    }\n",
              "\n",
              "    .dataframe thead th {\n",
              "        text-align: right;\n",
              "    }\n",
              "</style>\n",
              "<table border=\"1\" class=\"dataframe\">\n",
              "  <thead>\n",
              "    <tr style=\"text-align: right;\">\n",
              "      <th></th>\n",
              "      <th>Floor Price</th>\n",
              "      <th>24h(%)</th>\n",
              "      <th>Market Cap</th>\n",
              "      <th>Owners</th>\n",
              "      <th>Total Assets</th>\n",
              "      <th>Owner Ratio</th>\n",
              "    </tr>\n",
              "  </thead>\n",
              "  <tbody>\n",
              "    <tr>\n",
              "      <th>count</th>\n",
              "      <td>93.000000</td>\n",
              "      <td>93.000000</td>\n",
              "      <td>93.000000</td>\n",
              "      <td>93.000000</td>\n",
              "      <td>93.000000</td>\n",
              "      <td>93.000000</td>\n",
              "    </tr>\n",
              "    <tr>\n",
              "      <th>mean</th>\n",
              "      <td>0.423341</td>\n",
              "      <td>12.994624</td>\n",
              "      <td>2810.027957</td>\n",
              "      <td>3019.956989</td>\n",
              "      <td>8698.118280</td>\n",
              "      <td>571.066834</td>\n",
              "    </tr>\n",
              "    <tr>\n",
              "      <th>std</th>\n",
              "      <td>0.656407</td>\n",
              "      <td>186.947093</td>\n",
              "      <td>3504.628234</td>\n",
              "      <td>1816.923773</td>\n",
              "      <td>6200.226794</td>\n",
              "      <td>4610.132423</td>\n",
              "    </tr>\n",
              "    <tr>\n",
              "      <th>min</th>\n",
              "      <td>0.000000</td>\n",
              "      <td>-100.000000</td>\n",
              "      <td>0.000000</td>\n",
              "      <td>15.000000</td>\n",
              "      <td>3.000000</td>\n",
              "      <td>5.630000</td>\n",
              "    </tr>\n",
              "    <tr>\n",
              "      <th>25%</th>\n",
              "      <td>0.050000</td>\n",
              "      <td>-13.100000</td>\n",
              "      <td>399.000000</td>\n",
              "      <td>1717.000000</td>\n",
              "      <td>5000.000000</td>\n",
              "      <td>30.179164</td>\n",
              "    </tr>\n",
              "    <tr>\n",
              "      <th>50%</th>\n",
              "      <td>0.169000</td>\n",
              "      <td>-6.500000</td>\n",
              "      <td>1105.890000</td>\n",
              "      <td>2860.000000</td>\n",
              "      <td>8888.000000</td>\n",
              "      <td>38.546107</td>\n",
              "    </tr>\n",
              "    <tr>\n",
              "      <th>75%</th>\n",
              "      <td>0.610000</td>\n",
              "      <td>0.700000</td>\n",
              "      <td>4250.000000</td>\n",
              "      <td>4210.000000</td>\n",
              "      <td>10000.000000</td>\n",
              "      <td>49.527453</td>\n",
              "    </tr>\n",
              "    <tr>\n",
              "      <th>max</th>\n",
              "      <td>3.950000</td>\n",
              "      <td>1771.000000</td>\n",
              "      <td>12825.000000</td>\n",
              "      <td>9222.000000</td>\n",
              "      <td>46169.000000</td>\n",
              "      <td>44233.333333</td>\n",
              "    </tr>\n",
              "  </tbody>\n",
              "</table>\n",
              "</div>\n",
              "      <button class=\"colab-df-convert\" onclick=\"convertToInteractive('df-3d1c1dde-25b0-4112-a159-bf1292fecdb4')\"\n",
              "              title=\"Convert this dataframe to an interactive table.\"\n",
              "              style=\"display:none;\">\n",
              "        \n",
              "  <svg xmlns=\"http://www.w3.org/2000/svg\" height=\"24px\"viewBox=\"0 0 24 24\"\n",
              "       width=\"24px\">\n",
              "    <path d=\"M0 0h24v24H0V0z\" fill=\"none\"/>\n",
              "    <path d=\"M18.56 5.44l.94 2.06.94-2.06 2.06-.94-2.06-.94-.94-2.06-.94 2.06-2.06.94zm-11 1L8.5 8.5l.94-2.06 2.06-.94-2.06-.94L8.5 2.5l-.94 2.06-2.06.94zm10 10l.94 2.06.94-2.06 2.06-.94-2.06-.94-.94-2.06-.94 2.06-2.06.94z\"/><path d=\"M17.41 7.96l-1.37-1.37c-.4-.4-.92-.59-1.43-.59-.52 0-1.04.2-1.43.59L10.3 9.45l-7.72 7.72c-.78.78-.78 2.05 0 2.83L4 21.41c.39.39.9.59 1.41.59.51 0 1.02-.2 1.41-.59l7.78-7.78 2.81-2.81c.8-.78.8-2.07 0-2.86zM5.41 20L4 18.59l7.72-7.72 1.47 1.35L5.41 20z\"/>\n",
              "  </svg>\n",
              "      </button>\n",
              "      \n",
              "  <style>\n",
              "    .colab-df-container {\n",
              "      display:flex;\n",
              "      flex-wrap:wrap;\n",
              "      gap: 12px;\n",
              "    }\n",
              "\n",
              "    .colab-df-convert {\n",
              "      background-color: #E8F0FE;\n",
              "      border: none;\n",
              "      border-radius: 50%;\n",
              "      cursor: pointer;\n",
              "      display: none;\n",
              "      fill: #1967D2;\n",
              "      height: 32px;\n",
              "      padding: 0 0 0 0;\n",
              "      width: 32px;\n",
              "    }\n",
              "\n",
              "    .colab-df-convert:hover {\n",
              "      background-color: #E2EBFA;\n",
              "      box-shadow: 0px 1px 2px rgba(60, 64, 67, 0.3), 0px 1px 3px 1px rgba(60, 64, 67, 0.15);\n",
              "      fill: #174EA6;\n",
              "    }\n",
              "\n",
              "    [theme=dark] .colab-df-convert {\n",
              "      background-color: #3B4455;\n",
              "      fill: #D2E3FC;\n",
              "    }\n",
              "\n",
              "    [theme=dark] .colab-df-convert:hover {\n",
              "      background-color: #434B5C;\n",
              "      box-shadow: 0px 1px 3px 1px rgba(0, 0, 0, 0.15);\n",
              "      filter: drop-shadow(0px 1px 2px rgba(0, 0, 0, 0.3));\n",
              "      fill: #FFFFFF;\n",
              "    }\n",
              "  </style>\n",
              "\n",
              "      <script>\n",
              "        const buttonEl =\n",
              "          document.querySelector('#df-3d1c1dde-25b0-4112-a159-bf1292fecdb4 button.colab-df-convert');\n",
              "        buttonEl.style.display =\n",
              "          google.colab.kernel.accessAllowed ? 'block' : 'none';\n",
              "\n",
              "        async function convertToInteractive(key) {\n",
              "          const element = document.querySelector('#df-3d1c1dde-25b0-4112-a159-bf1292fecdb4');\n",
              "          const dataTable =\n",
              "            await google.colab.kernel.invokeFunction('convertToInteractive',\n",
              "                                                     [key], {});\n",
              "          if (!dataTable) return;\n",
              "\n",
              "          const docLinkHtml = 'Like what you see? Visit the ' +\n",
              "            '<a target=\"_blank\" href=https://colab.research.google.com/notebooks/data_table.ipynb>data table notebook</a>'\n",
              "            + ' to learn more about interactive tables.';\n",
              "          element.innerHTML = '';\n",
              "          dataTable['output_type'] = 'display_data';\n",
              "          await google.colab.output.renderOutput(dataTable, element);\n",
              "          const docLink = document.createElement('div');\n",
              "          docLink.innerHTML = docLinkHtml;\n",
              "          element.appendChild(docLink);\n",
              "        }\n",
              "      </script>\n",
              "    </div>\n",
              "  </div>\n",
              "  "
            ],
            "text/plain": [
              "       Floor Price       24h(%)  ...  Total Assets   Owner Ratio\n",
              "count    93.000000    93.000000  ...     93.000000     93.000000\n",
              "mean      0.423341    12.994624  ...   8698.118280    571.066834\n",
              "std       0.656407   186.947093  ...   6200.226794   4610.132423\n",
              "min       0.000000  -100.000000  ...      3.000000      5.630000\n",
              "25%       0.050000   -13.100000  ...   5000.000000     30.179164\n",
              "50%       0.169000    -6.500000  ...   8888.000000     38.546107\n",
              "75%       0.610000     0.700000  ...  10000.000000     49.527453\n",
              "max       3.950000  1771.000000  ...  46169.000000  44233.333333\n",
              "\n",
              "[8 rows x 6 columns]"
            ]
          },
          "metadata": {},
          "execution_count": 201
        }
      ]
    },
    {
      "cell_type": "code",
      "source": [
        "df_cap = df[df['Market Cap'] < 13587]"
      ],
      "metadata": {
        "id": "S49Ewwsj7XnB"
      },
      "execution_count": 202,
      "outputs": []
    },
    {
      "cell_type": "code",
      "source": [
        "plt.figure(figsize=(12,6))\n",
        "df_cap.boxplot('Market Cap')\n",
        "plt.show()"
      ],
      "metadata": {
        "colab": {
          "base_uri": "https://localhost:8080/",
          "height": 374
        },
        "id": "6k9k_dN87hkB",
        "outputId": "aedd6328-a407-44b4-b42a-082850a8ce90"
      },
      "execution_count": 205,
      "outputs": [
        {
          "output_type": "display_data",
          "data": {
            "image/png": "[encoded data removed]",
            "text/plain": [
              "<Figure size 864x432 with 1 Axes>"
            ]
          },
          "metadata": {
            "needs_background": "light"
          }
        }
      ]
    },
    {
      "cell_type": "code",
      "source": [
        "plt.figure(figsize=(12,8))\n",
        "sns.kdeplot(df_cap['Market Cap'])\n",
        "sns.rugplot(df_cap['Market Cap'])"
      ],
      "metadata": {
        "colab": {
          "base_uri": "https://localhost:8080/",
          "height": 514
        },
        "id": "MxOP8Q4M7iw6",
        "outputId": "cb6a7dfb-ad54-4ff8-895b-30d7d221ca39"
      },
      "execution_count": 204,
      "outputs": [
        {
          "output_type": "execute_result",
          "data": {
            "text/plain": [
              "<matplotlib.axes._subplots.AxesSubplot at 0x7f8df4922b50>"
            ]
          },
          "metadata": {},
          "execution_count": 204
        },
        {
          "output_type": "display_data",
          "data": {
            "image/png": "[encoded data removed]",
            "text/plain": [
              "<Figure size 864x576 with 1 Axes>"
            ]
          },
          "metadata": {
            "needs_background": "light"
          }
        }
      ]
    },
    {
      "cell_type": "code",
      "source": [
        "plt.figure(figsize=(12,8))\n",
        "sns.scatterplot(data=df_cap['Market Cap'])"
      ],
      "metadata": {
        "colab": {
          "base_uri": "https://localhost:8080/",
          "height": 500
        },
        "id": "zSXOROKo7izS",
        "outputId": "da723cb7-5307-4302-e238-bde8d56dbdcd"
      },
      "execution_count": 203,
      "outputs": [
        {
          "output_type": "execute_result",
          "data": {
            "text/plain": [
              "<matplotlib.axes._subplots.AxesSubplot at 0x7f8df49a0ed0>"
            ]
          },
          "metadata": {},
          "execution_count": 203
        },
        {
          "output_type": "display_data",
          "data": {
            "image/png": "[encoded data removed]",
            "text/plain": [
              "<Figure size 864x576 with 1 Axes>"
            ]
          },
          "metadata": {
            "needs_background": "light"
          }
        }
      ]
    },
    {
      "cell_type": "markdown",
      "source": [
        "- Diante dos gráficos, conseguimos compreender que ainda existe uma boa dispersão acima de por volta de 3000 ETH de market cap. Os projetos acima disso, talvez sejam o que devam ter uma atenção interessante para um investidor."
      ],
      "metadata": {
        "id": "U0aXr2Qn8BtX"
      }
    },
    {
      "cell_type": "code",
      "source": [
        ""
      ],
      "metadata": {
        "id": "Hq6iQm437n_m"
      },
      "execution_count": null,
      "outputs": []
    },
    {
      "cell_type": "markdown",
      "source": [
        "###Owners"
      ],
      "metadata": {
        "id": "7-07E3JW3KOE"
      }
    },
    {
      "cell_type": "code",
      "source": [
        "df['Owners'].head()"
      ],
      "metadata": {
        "colab": {
          "base_uri": "https://localhost:8080/"
        },
        "id": "KHPzZrZdhx0z",
        "outputId": "7119b921-a5e4-4977-f833-e28d04f969ff"
      },
      "execution_count": 98,
      "outputs": [
        {
          "output_type": "execute_result",
          "data": {
            "text/plain": [
              "0     2650.0\n",
              "1     6310.0\n",
              "2    10753.0\n",
              "3     8259.0\n",
              "4     5403.0\n",
              "Name: Owners, dtype: float64"
            ]
          },
          "metadata": {},
          "execution_count": 98
        }
      ]
    },
    {
      "cell_type": "code",
      "source": [
        "df['Owners'].tail()"
      ],
      "metadata": {
        "colab": {
          "base_uri": "https://localhost:8080/"
        },
        "id": "EUZIJm8rh2Oy",
        "outputId": "52006349-ac9f-4b49-8073-a26f8953393e"
      },
      "execution_count": 99,
      "outputs": [
        {
          "output_type": "execute_result",
          "data": {
            "text/plain": [
              "120      15.0\n",
              "121     370.0\n",
              "122    1192.0\n",
              "123    1149.0\n",
              "124    1327.0\n",
              "Name: Owners, dtype: float64"
            ]
          },
          "metadata": {},
          "execution_count": 99
        }
      ]
    },
    {
      "cell_type": "code",
      "source": [
        "df['Owners'].describe()"
      ],
      "metadata": {
        "colab": {
          "base_uri": "https://localhost:8080/"
        },
        "id": "Yovb3r62zx_x",
        "outputId": "dcde856b-8ef0-45f0-857c-c2d7fb3db17d"
      },
      "execution_count": 78,
      "outputs": [
        {
          "output_type": "execute_result",
          "data": {
            "text/plain": [
              "count      125.000000\n",
              "mean      3616.400000\n",
              "std       2657.392765\n",
              "min         15.000000\n",
              "25%       1853.000000\n",
              "50%       3354.000000\n",
              "75%       4982.000000\n",
              "max      19643.000000\n",
              "Name: Owners, dtype: float64"
            ]
          },
          "metadata": {},
          "execution_count": 78
        }
      ]
    },
    {
      "cell_type": "code",
      "source": [
        "plt.figure(figsize=(12,6))\n",
        "df.boxplot('Owners')\n",
        "plt.show()"
      ],
      "metadata": {
        "id": "J4uJdKlkzyER",
        "colab": {
          "base_uri": "https://localhost:8080/",
          "height": 374
        },
        "outputId": "5310573a-2832-485c-8ce0-d287dec1b9ee"
      },
      "execution_count": 79,
      "outputs": [
        {
          "output_type": "display_data",
          "data": {
            "image/png": "[encoded data removed]",
            "text/plain": [
              "<Figure size 864x432 with 1 Axes>"
            ]
          },
          "metadata": {
            "needs_background": "light"
          }
        }
      ]
    },
    {
      "cell_type": "markdown",
      "source": [
        "- Os proprietários do NFTs obedecem uma métrica muito mais concisa. O que isso nos indica? O fato é que um proprietário pode ter muitos NFTs e não possuímos esse número somente com essa feature. No entanto, o que podemos inferir é que os projetos que possuem muitos proprietários:\n",
        " - Estão completamente vendidos ou quase completamente.\n",
        " - Esses NFTs têm um preço baixo ou o projeto tem muita fama\n",
        " - Os projetos que têm poucos proprietários ou têm um preço alto ou têm pouco sucesso."
      ],
      "metadata": {
        "id": "vD32F8NuiNJB"
      }
    },
    {
      "cell_type": "markdown",
      "source": [
        "####Visualizações de dados:"
      ],
      "metadata": {
        "id": "mHnNzFXBnXGm"
      }
    },
    {
      "cell_type": "code",
      "source": [
        "plt.figure(figsize=(12,8))\n",
        "sns.scatterplot(data=df['Owners'])"
      ],
      "metadata": {
        "id": "SMS2nN7rzyic",
        "colab": {
          "base_uri": "https://localhost:8080/",
          "height": 500
        },
        "outputId": "b55af12c-b92e-421b-a698-b2a1fbc121eb"
      },
      "execution_count": 104,
      "outputs": [
        {
          "output_type": "execute_result",
          "data": {
            "text/plain": [
              "<matplotlib.axes._subplots.AxesSubplot at 0x7f8dfd6c1c10>"
            ]
          },
          "metadata": {},
          "execution_count": 104
        },
        {
          "output_type": "display_data",
          "data": {
            "image/png": "[encoded data removed]",
            "text/plain": [
              "<Figure size 864x576 with 1 Axes>"
            ]
          },
          "metadata": {
            "needs_background": "light"
          }
        }
      ]
    },
    {
      "cell_type": "code",
      "source": [
        "plt.figure(figsize=(12,6))\n",
        "sns.distplot(df[\"Owners\"], bins=10)"
      ],
      "metadata": {
        "colab": {
          "base_uri": "https://localhost:8080/",
          "height": 460
        },
        "id": "Hqcf3PuVoOk5",
        "outputId": "93101bfa-8f46-4e7b-99e7-5ea152823d43"
      },
      "execution_count": 103,
      "outputs": [
        {
          "output_type": "stream",
          "name": "stderr",
          "text": [
            "/usr/local/lib/python3.7/dist-packages/seaborn/distributions.py:2619: FutureWarning: `distplot` is a deprecated function and will be removed in a future version. Please adapt your code to use either `displot` (a figure-level function with similar flexibility) or `histplot` (an axes-level function for histograms).\n",
            "  warnings.warn(msg, FutureWarning)\n"
          ]
        },
        {
          "output_type": "execute_result",
          "data": {
            "text/plain": [
              "<matplotlib.axes._subplots.AxesSubplot at 0x7f8dfd6c55d0>"
            ]
          },
          "metadata": {},
          "execution_count": 103
        },
        {
          "output_type": "display_data",
          "data": {
            "image/png": "[encoded data removed]",
            "text/plain": [
              "<Figure size 864x432 with 1 Axes>"
            ]
          },
          "metadata": {
            "needs_background": "light"
          }
        }
      ]
    },
    {
      "cell_type": "code",
      "source": [
        "plt.figure(figsize=(12,8))\n",
        "sns.kdeplot(df['Owners'])\n",
        "sns.rugplot(df['Owners'])"
      ],
      "metadata": {
        "colab": {
          "base_uri": "https://localhost:8080/",
          "height": 514
        },
        "id": "VwkmYpbYoOpi",
        "outputId": "9be7efe8-6058-4eb1-da52-854cd985dae0"
      },
      "execution_count": 102,
      "outputs": [
        {
          "output_type": "execute_result",
          "data": {
            "text/plain": [
              "<matplotlib.axes._subplots.AxesSubplot at 0x7f8dfe5a4810>"
            ]
          },
          "metadata": {},
          "execution_count": 102
        },
        {
          "output_type": "display_data",
          "data": {
            "image/png": "[encoded data removed]",
            "text/plain": [
              "<Figure size 864x576 with 1 Axes>"
            ]
          },
          "metadata": {
            "needs_background": "light"
          }
        }
      ]
    },
    {
      "cell_type": "code",
      "source": [
        ""
      ],
      "metadata": {
        "id": "z9XVcRaz7a-v"
      },
      "execution_count": null,
      "outputs": []
    },
    {
      "cell_type": "markdown",
      "source": [
        "###Total Assets"
      ],
      "metadata": {
        "id": "qTTPJcls3Nsh"
      }
    },
    {
      "cell_type": "code",
      "source": [
        "df['Total Assets'].head()"
      ],
      "metadata": {
        "id": "rTBgCSve4S0d",
        "colab": {
          "base_uri": "https://localhost:8080/"
        },
        "outputId": "98e0e62a-3cef-4670-b79f-4dd9057a0f7f"
      },
      "execution_count": 105,
      "outputs": [
        {
          "output_type": "execute_result",
          "data": {
            "text/plain": [
              "0     4870.0\n",
              "1     9999.0\n",
              "2    18160.0\n",
              "3    18849.0\n",
              "4    10000.0\n",
              "Name: Total Assets, dtype: float64"
            ]
          },
          "metadata": {},
          "execution_count": 105
        }
      ]
    },
    {
      "cell_type": "code",
      "source": [
        "df['Total Assets'].tail()"
      ],
      "metadata": {
        "colab": {
          "base_uri": "https://localhost:8080/"
        },
        "id": "13Twqka3qV3c",
        "outputId": "9772be57-508c-4463-b2fb-5566577387d6"
      },
      "execution_count": 106,
      "outputs": [
        {
          "output_type": "execute_result",
          "data": {
            "text/plain": [
              "120      16.0\n",
              "121     777.0\n",
              "122    3624.0\n",
              "123    2250.0\n",
              "124       3.0\n",
              "Name: Total Assets, dtype: float64"
            ]
          },
          "metadata": {},
          "execution_count": 106
        }
      ]
    },
    {
      "cell_type": "code",
      "source": [
        "df['Total Assets'].describe()"
      ],
      "metadata": {
        "colab": {
          "base_uri": "https://localhost:8080/"
        },
        "id": "KLPNTHsVqV6K",
        "outputId": "f446888d-a785-4787-f2f1-d9e64172ead7"
      },
      "execution_count": 107,
      "outputs": [
        {
          "output_type": "execute_result",
          "data": {
            "text/plain": [
              "count       125.000000\n",
              "mean      10463.688000\n",
              "std       13482.139516\n",
              "min           3.000000\n",
              "25%        6942.000000\n",
              "50%        9933.000000\n",
              "75%       10000.000000\n",
              "max      143950.000000\n",
              "Name: Total Assets, dtype: float64"
            ]
          },
          "metadata": {},
          "execution_count": 107
        }
      ]
    },
    {
      "cell_type": "code",
      "source": [
        "plt.figure(figsize=(12,6))\n",
        "df.boxplot('Total Assets')\n",
        "plt.show()"
      ],
      "metadata": {
        "colab": {
          "base_uri": "https://localhost:8080/",
          "height": 374
        },
        "id": "GnoniPCyqV9G",
        "outputId": "be43eed1-fbd1-4ea0-b5ba-2d4fa51f944a"
      },
      "execution_count": 108,
      "outputs": [
        {
          "output_type": "display_data",
          "data": {
            "image/png": "[encoded data removed]",
            "text/plain": [
              "<Figure size 864x432 with 1 Axes>"
            ]
          },
          "metadata": {
            "needs_background": "light"
          }
        }
      ]
    },
    {
      "cell_type": "code",
      "source": [
        "plt.figure(figsize=(12,6))\n",
        "df[df['Total Assets'] < 15000].boxplot('Total Assets')\n",
        "plt.show()"
      ],
      "metadata": {
        "colab": {
          "base_uri": "https://localhost:8080/",
          "height": 374
        },
        "id": "2wYOv39eqV__",
        "outputId": "8e2964bb-f9ee-4420-f574-06ea93f62030"
      },
      "execution_count": 121,
      "outputs": [
        {
          "output_type": "display_data",
          "data": {
            "image/png": "[encoded data removed]",
            "text/plain": [
              "<Figure size 864x432 with 1 Axes>"
            ]
          },
          "metadata": {
            "needs_background": "light"
          }
        }
      ]
    },
    {
      "cell_type": "markdown",
      "source": [
        "- A maior parte dos projetos tem até 15000 NFTs."
      ],
      "metadata": {
        "id": "sQ0X1g4xq4cy"
      }
    },
    {
      "cell_type": "code",
      "source": [
        "df_assets = df[df['Total Assets'] < 15000]\n",
        "df_assets['Total Assets'].describe()"
      ],
      "metadata": {
        "colab": {
          "base_uri": "https://localhost:8080/"
        },
        "id": "bJdyiRVXq97V",
        "outputId": "31a00c51-199c-49d0-ed48-dd9202fe5c74"
      },
      "execution_count": 125,
      "outputs": [
        {
          "output_type": "execute_result",
          "data": {
            "text/plain": [
              "count      111.000000\n",
              "mean      7796.729730\n",
              "std       3168.589256\n",
              "min          3.000000\n",
              "25%       5552.000000\n",
              "50%       9409.000000\n",
              "75%      10000.000000\n",
              "max      14533.000000\n",
              "Name: Total Assets, dtype: float64"
            ]
          },
          "metadata": {},
          "execution_count": 125
        }
      ]
    },
    {
      "cell_type": "markdown",
      "source": [
        "- 15 grandes outliers, ou seja, 15 projetos que tem uma quantidade NFTs que tão bem acima do 3º quartil. Ainda possuímos outliers com esse filtro, no entanto, é algo mais palatável."
      ],
      "metadata": {
        "id": "FDryZxvVsJ3U"
      }
    },
    {
      "cell_type": "markdown",
      "source": [
        "####Visualização de dados:"
      ],
      "metadata": {
        "id": "bU_GJpKbsjZ9"
      }
    },
    {
      "cell_type": "code",
      "source": [
        "plt.figure(figsize=(12,8))\n",
        "sns.scatterplot(data=df['Total Assets'])"
      ],
      "metadata": {
        "colab": {
          "base_uri": "https://localhost:8080/",
          "height": 500
        },
        "id": "oolZXGlDslTh",
        "outputId": "5ffa3e8d-751b-43f0-ab49-ebabea2189ee"
      },
      "execution_count": 126,
      "outputs": [
        {
          "output_type": "execute_result",
          "data": {
            "text/plain": [
              "<matplotlib.axes._subplots.AxesSubplot at 0x7f8dfd113e50>"
            ]
          },
          "metadata": {},
          "execution_count": 126
        },
        {
          "output_type": "display_data",
          "data": {
            "image/png": "[encoded data removed]",
            "text/plain": [
              "<Figure size 864x576 with 1 Axes>"
            ]
          },
          "metadata": {
            "needs_background": "light"
          }
        }
      ]
    },
    {
      "cell_type": "code",
      "source": [
        "plt.figure(figsize=(12,8))\n",
        "sns.kdeplot(df['Total Assets'])\n",
        "sns.rugplot(df['Total Assets'])"
      ],
      "metadata": {
        "colab": {
          "base_uri": "https://localhost:8080/",
          "height": 525
        },
        "id": "6gDuO9xNslWU",
        "outputId": "45a42f5b-c694-4959-c174-d773a8d019aa"
      },
      "execution_count": 128,
      "outputs": [
        {
          "output_type": "execute_result",
          "data": {
            "text/plain": [
              "<matplotlib.axes._subplots.AxesSubplot at 0x7f8dfcf73ed0>"
            ]
          },
          "metadata": {},
          "execution_count": 128
        },
        {
          "output_type": "display_data",
          "data": {
            "image/png": "[encoded data removed]",
            "text/plain": [
              "<Figure size 864x576 with 1 Axes>"
            ]
          },
          "metadata": {
            "needs_background": "light"
          }
        }
      ]
    },
    {
      "cell_type": "code",
      "source": [
        "plt.figure(figsize=(12,6))\n",
        "sns.distplot(df[\"Total Assets\"], bins=10)"
      ],
      "metadata": {
        "colab": {
          "base_uri": "https://localhost:8080/",
          "height": 471
        },
        "id": "8ILF_40jslY3",
        "outputId": "df17f4b5-2915-43a2-b19b-f2dc0cbe53c2"
      },
      "execution_count": 117,
      "outputs": [
        {
          "output_type": "stream",
          "name": "stderr",
          "text": [
            "/usr/local/lib/python3.7/dist-packages/seaborn/distributions.py:2619: FutureWarning: `distplot` is a deprecated function and will be removed in a future version. Please adapt your code to use either `displot` (a figure-level function with similar flexibility) or `histplot` (an axes-level function for histograms).\n",
            "  warnings.warn(msg, FutureWarning)\n"
          ]
        },
        {
          "output_type": "execute_result",
          "data": {
            "text/plain": [
              "<matplotlib.axes._subplots.AxesSubplot at 0x7f8dfd309b90>"
            ]
          },
          "metadata": {},
          "execution_count": 117
        },
        {
          "output_type": "display_data",
          "data": {
            "image/png": "[encoded data removed]",
            "text/plain": [
              "<Figure size 864x432 with 1 Axes>"
            ]
          },
          "metadata": {
            "needs_background": "light"
          }
        }
      ]
    },
    {
      "cell_type": "markdown",
      "source": [
        "- Visualizações com filtragem feita:"
      ],
      "metadata": {
        "id": "aLbhz-IVtI_w"
      }
    },
    {
      "cell_type": "code",
      "source": [
        "plt.figure(figsize=(12,8))\n",
        "sns.scatterplot(data=df_assets['Total Assets'])"
      ],
      "metadata": {
        "colab": {
          "base_uri": "https://localhost:8080/",
          "height": 500
        },
        "id": "Ump7AV9VtNNd",
        "outputId": "fdda511a-9528-4e30-f6d0-e7f7f04a10d2"
      },
      "execution_count": 130,
      "outputs": [
        {
          "output_type": "execute_result",
          "data": {
            "text/plain": [
              "<matplotlib.axes._subplots.AxesSubplot at 0x7f8dfd389e10>"
            ]
          },
          "metadata": {},
          "execution_count": 130
        },
        {
          "output_type": "display_data",
          "data": {
            "image/png": "[encoded data removed]",
            "text/plain": [
              "<Figure size 864x576 with 1 Axes>"
            ]
          },
          "metadata": {
            "needs_background": "light"
          }
        }
      ]
    },
    {
      "cell_type": "code",
      "source": [
        "plt.figure(figsize=(12,8))\n",
        "sns.kdeplot(df_assets['Total Assets'])\n",
        "sns.rugplot(df_assets['Total Assets'])"
      ],
      "metadata": {
        "colab": {
          "base_uri": "https://localhost:8080/",
          "height": 514
        },
        "id": "D6EHILgRtNQK",
        "outputId": "998c3c39-4bc8-4a3f-de9e-5cd7548e6909"
      },
      "execution_count": 131,
      "outputs": [
        {
          "output_type": "execute_result",
          "data": {
            "text/plain": [
              "<matplotlib.axes._subplots.AxesSubplot at 0x7f8dfcf7ca90>"
            ]
          },
          "metadata": {},
          "execution_count": 131
        },
        {
          "output_type": "display_data",
          "data": {
            "image/png": "[encoded data removed]",
            "text/plain": [
              "<Figure size 864x576 with 1 Axes>"
            ]
          },
          "metadata": {
            "needs_background": "light"
          }
        }
      ]
    },
    {
      "cell_type": "code",
      "source": [
        "plt.figure(figsize=(12,6))\n",
        "sns.distplot(df_assets[\"Total Assets\"], bins=10)"
      ],
      "metadata": {
        "colab": {
          "base_uri": "https://localhost:8080/",
          "height": 460
        },
        "id": "4owDnbmztNbU",
        "outputId": "fe36167f-b07c-477f-d07b-d2da5741c199"
      },
      "execution_count": 132,
      "outputs": [
        {
          "output_type": "stream",
          "name": "stderr",
          "text": [
            "/usr/local/lib/python3.7/dist-packages/seaborn/distributions.py:2619: FutureWarning: `distplot` is a deprecated function and will be removed in a future version. Please adapt your code to use either `displot` (a figure-level function with similar flexibility) or `histplot` (an axes-level function for histograms).\n",
            "  warnings.warn(msg, FutureWarning)\n"
          ]
        },
        {
          "output_type": "execute_result",
          "data": {
            "text/plain": [
              "<matplotlib.axes._subplots.AxesSubplot at 0x7f8dfceed050>"
            ]
          },
          "metadata": {},
          "execution_count": 132
        },
        {
          "output_type": "display_data",
          "data": {
            "image/png": "[encoded data removed]",
            "text/plain": [
              "<Figure size 864x432 with 1 Axes>"
            ]
          },
          "metadata": {
            "needs_background": "light"
          }
        }
      ]
    },
    {
      "cell_type": "markdown",
      "source": [
        "- O interessante é pegarmos esses 14 projetos e entendê-los enquanto projetos que se distoam quanto a sua quantidade de NFTs, ver o seu Floor Price assim como a quantidade de Owners.\n",
        "\n",
        "- A média de NFTs totais dos projetos é 7796. A maior parte dos projetos, no entanto se concentra em 9409 ~ 10.000 NFTs."
      ],
      "metadata": {
        "id": "O2LQy_9-tJEF"
      }
    },
    {
      "cell_type": "markdown",
      "source": [
        "###Owner Ratio:"
      ],
      "metadata": {
        "id": "iPKfd1aI3Sky"
      }
    },
    {
      "cell_type": "markdown",
      "source": [
        "- Antes de analisarmos a proporção entre proprietários e total assets, é interessante fazer uma correlação entre essas duas variáveis."
      ],
      "metadata": {
        "id": "ONd6f3i3vVhJ"
      }
    },
    {
      "cell_type": "code",
      "source": [
        "df2 = pd.DataFrame([df['Owners'], df['Total Assets']])"
      ],
      "metadata": {
        "id": "c20h9sE04RPx"
      },
      "execution_count": 139,
      "outputs": []
    },
    {
      "cell_type": "code",
      "source": [
        "df2.transpose().describe()"
      ],
      "metadata": {
        "colab": {
          "base_uri": "https://localhost:8080/",
          "height": 300
        },
        "id": "H91mpFBAvtJC",
        "outputId": "e2a39257-e540-4f6c-bb1d-59c865ab2a2b"
      },
      "execution_count": 140,
      "outputs": [
        {
          "output_type": "execute_result",
          "data": {
            "text/html": [
              "\n",
              "  <div id=\"df-5cc50706-8362-438c-ad5b-d53292019ac1\">\n",
              "    <div class=\"colab-df-container\">\n",
              "      <div>\n",
              "<style scoped>\n",
              "    .dataframe tbody tr th:only-of-type {\n",
              "        vertical-align: middle;\n",
              "    }\n",
              "\n",
              "    .dataframe tbody tr th {\n",
              "        vertical-align: top;\n",
              "    }\n",
              "\n",
              "    .dataframe thead th {\n",
              "        text-align: right;\n",
              "    }\n",
              "</style>\n",
              "<table border=\"1\" class=\"dataframe\">\n",
              "  <thead>\n",
              "    <tr style=\"text-align: right;\">\n",
              "      <th></th>\n",
              "      <th>Owners</th>\n",
              "      <th>Total Assets</th>\n",
              "    </tr>\n",
              "  </thead>\n",
              "  <tbody>\n",
              "    <tr>\n",
              "      <th>count</th>\n",
              "      <td>125.000000</td>\n",
              "      <td>125.000000</td>\n",
              "    </tr>\n",
              "    <tr>\n",
              "      <th>mean</th>\n",
              "      <td>3616.400000</td>\n",
              "      <td>10463.688000</td>\n",
              "    </tr>\n",
              "    <tr>\n",
              "      <th>std</th>\n",
              "      <td>2657.392765</td>\n",
              "      <td>13482.139516</td>\n",
              "    </tr>\n",
              "    <tr>\n",
              "      <th>min</th>\n",
              "      <td>15.000000</td>\n",
              "      <td>3.000000</td>\n",
              "    </tr>\n",
              "    <tr>\n",
              "      <th>25%</th>\n",
              "      <td>1853.000000</td>\n",
              "      <td>6942.000000</td>\n",
              "    </tr>\n",
              "    <tr>\n",
              "      <th>50%</th>\n",
              "      <td>3354.000000</td>\n",
              "      <td>9933.000000</td>\n",
              "    </tr>\n",
              "    <tr>\n",
              "      <th>75%</th>\n",
              "      <td>4982.000000</td>\n",
              "      <td>10000.000000</td>\n",
              "    </tr>\n",
              "    <tr>\n",
              "      <th>max</th>\n",
              "      <td>19643.000000</td>\n",
              "      <td>143950.000000</td>\n",
              "    </tr>\n",
              "  </tbody>\n",
              "</table>\n",
              "</div>\n",
              "      <button class=\"colab-df-convert\" onclick=\"convertToInteractive('df-5cc50706-8362-438c-ad5b-d53292019ac1')\"\n",
              "              title=\"Convert this dataframe to an interactive table.\"\n",
              "              style=\"display:none;\">\n",
              "        \n",
              "  <svg xmlns=\"http://www.w3.org/2000/svg\" height=\"24px\"viewBox=\"0 0 24 24\"\n",
              "       width=\"24px\">\n",
              "    <path d=\"M0 0h24v24H0V0z\" fill=\"none\"/>\n",
              "    <path d=\"M18.56 5.44l.94 2.06.94-2.06 2.06-.94-2.06-.94-.94-2.06-.94 2.06-2.06.94zm-11 1L8.5 8.5l.94-2.06 2.06-.94-2.06-.94L8.5 2.5l-.94 2.06-2.06.94zm10 10l.94 2.06.94-2.06 2.06-.94-2.06-.94-.94-2.06-.94 2.06-2.06.94z\"/><path d=\"M17.41 7.96l-1.37-1.37c-.4-.4-.92-.59-1.43-.59-.52 0-1.04.2-1.43.59L10.3 9.45l-7.72 7.72c-.78.78-.78 2.05 0 2.83L4 21.41c.39.39.9.59 1.41.59.51 0 1.02-.2 1.41-.59l7.78-7.78 2.81-2.81c.8-.78.8-2.07 0-2.86zM5.41 20L4 18.59l7.72-7.72 1.47 1.35L5.41 20z\"/>\n",
              "  </svg>\n",
              "      </button>\n",
              "      \n",
              "  <style>\n",
              "    .colab-df-container {\n",
              "      display:flex;\n",
              "      flex-wrap:wrap;\n",
              "      gap: 12px;\n",
              "    }\n",
              "\n",
              "    .colab-df-convert {\n",
              "      background-color: #E8F0FE;\n",
              "      border: none;\n",
              "      border-radius: 50%;\n",
              "      cursor: pointer;\n",
              "      display: none;\n",
              "      fill: #1967D2;\n",
              "      height: 32px;\n",
              "      padding: 0 0 0 0;\n",
              "      width: 32px;\n",
              "    }\n",
              "\n",
              "    .colab-df-convert:hover {\n",
              "      background-color: #E2EBFA;\n",
              "      box-shadow: 0px 1px 2px rgba(60, 64, 67, 0.3), 0px 1px 3px 1px rgba(60, 64, 67, 0.15);\n",
              "      fill: #174EA6;\n",
              "    }\n",
              "\n",
              "    [theme=dark] .colab-df-convert {\n",
              "      background-color: #3B4455;\n",
              "      fill: #D2E3FC;\n",
              "    }\n",
              "\n",
              "    [theme=dark] .colab-df-convert:hover {\n",
              "      background-color: #434B5C;\n",
              "      box-shadow: 0px 1px 3px 1px rgba(0, 0, 0, 0.15);\n",
              "      filter: drop-shadow(0px 1px 2px rgba(0, 0, 0, 0.3));\n",
              "      fill: #FFFFFF;\n",
              "    }\n",
              "  </style>\n",
              "\n",
              "      <script>\n",
              "        const buttonEl =\n",
              "          document.querySelector('#df-5cc50706-8362-438c-ad5b-d53292019ac1 button.colab-df-convert');\n",
              "        buttonEl.style.display =\n",
              "          google.colab.kernel.accessAllowed ? 'block' : 'none';\n",
              "\n",
              "        async function convertToInteractive(key) {\n",
              "          const element = document.querySelector('#df-5cc50706-8362-438c-ad5b-d53292019ac1');\n",
              "          const dataTable =\n",
              "            await google.colab.kernel.invokeFunction('convertToInteractive',\n",
              "                                                     [key], {});\n",
              "          if (!dataTable) return;\n",
              "\n",
              "          const docLinkHtml = 'Like what you see? Visit the ' +\n",
              "            '<a target=\"_blank\" href=https://colab.research.google.com/notebooks/data_table.ipynb>data table notebook</a>'\n",
              "            + ' to learn more about interactive tables.';\n",
              "          element.innerHTML = '';\n",
              "          dataTable['output_type'] = 'display_data';\n",
              "          await google.colab.output.renderOutput(dataTable, element);\n",
              "          const docLink = document.createElement('div');\n",
              "          docLink.innerHTML = docLinkHtml;\n",
              "          element.appendChild(docLink);\n",
              "        }\n",
              "      </script>\n",
              "    </div>\n",
              "  </div>\n",
              "  "
            ],
            "text/plain": [
              "             Owners   Total Assets\n",
              "count    125.000000     125.000000\n",
              "mean    3616.400000   10463.688000\n",
              "std     2657.392765   13482.139516\n",
              "min       15.000000       3.000000\n",
              "25%     1853.000000    6942.000000\n",
              "50%     3354.000000    9933.000000\n",
              "75%     4982.000000   10000.000000\n",
              "max    19643.000000  143950.000000"
            ]
          },
          "metadata": {},
          "execution_count": 140
        }
      ]
    },
    {
      "cell_type": "code",
      "source": [
        "df2.head()"
      ],
      "metadata": {
        "colab": {
          "base_uri": "https://localhost:8080/",
          "height": 193
        },
        "id": "tGJzaYtrvwQ4",
        "outputId": "76c20f03-1f5f-4812-c3d4-d5e8fca3d561"
      },
      "execution_count": 137,
      "outputs": [
        {
          "output_type": "execute_result",
          "data": {
            "text/html": [
              "\n",
              "  <div id=\"df-ee659335-ffe8-4687-9b3d-2a3eb6671dfd\">\n",
              "    <div class=\"colab-df-container\">\n",
              "      <div>\n",
              "<style scoped>\n",
              "    .dataframe tbody tr th:only-of-type {\n",
              "        vertical-align: middle;\n",
              "    }\n",
              "\n",
              "    .dataframe tbody tr th {\n",
              "        vertical-align: top;\n",
              "    }\n",
              "\n",
              "    .dataframe thead th {\n",
              "        text-align: right;\n",
              "    }\n",
              "</style>\n",
              "<table border=\"1\" class=\"dataframe\">\n",
              "  <thead>\n",
              "    <tr style=\"text-align: right;\">\n",
              "      <th></th>\n",
              "      <th>6</th>\n",
              "      <th>14</th>\n",
              "      <th>15</th>\n",
              "      <th>26</th>\n",
              "      <th>30</th>\n",
              "      <th>34</th>\n",
              "      <th>43</th>\n",
              "      <th>44</th>\n",
              "      <th>48</th>\n",
              "      <th>54</th>\n",
              "      <th>61</th>\n",
              "      <th>65</th>\n",
              "      <th>74</th>\n",
              "      <th>76</th>\n",
              "      <th>77</th>\n",
              "      <th>85</th>\n",
              "      <th>86</th>\n",
              "      <th>88</th>\n",
              "      <th>90</th>\n",
              "      <th>95</th>\n",
              "      <th>100</th>\n",
              "      <th>106</th>\n",
              "      <th>109</th>\n",
              "      <th>113</th>\n",
              "      <th>114</th>\n",
              "      <th>115</th>\n",
              "      <th>116</th>\n",
              "      <th>119</th>\n",
              "    </tr>\n",
              "  </thead>\n",
              "  <tbody>\n",
              "    <tr>\n",
              "      <th>Owners</th>\n",
              "      <td>19643.0</td>\n",
              "      <td>3358.0</td>\n",
              "      <td>563.0</td>\n",
              "      <td>2747.0</td>\n",
              "      <td>519.0</td>\n",
              "      <td>311.0</td>\n",
              "      <td>1444.0</td>\n",
              "      <td>2884.0</td>\n",
              "      <td>2501.0</td>\n",
              "      <td>5575.0</td>\n",
              "      <td>1853.0</td>\n",
              "      <td>350.0</td>\n",
              "      <td>2258.0</td>\n",
              "      <td>3371.0</td>\n",
              "      <td>1864.0</td>\n",
              "      <td>1048.0</td>\n",
              "      <td>2783.0</td>\n",
              "      <td>350.0</td>\n",
              "      <td>4957.0</td>\n",
              "      <td>2860.0</td>\n",
              "      <td>2705.0</td>\n",
              "      <td>593.0</td>\n",
              "      <td>3447.0</td>\n",
              "      <td>2572.0</td>\n",
              "      <td>678.0</td>\n",
              "      <td>1843.0</td>\n",
              "      <td>813.0</td>\n",
              "      <td>1239.0</td>\n",
              "    </tr>\n",
              "    <tr>\n",
              "      <th>Total Assets</th>\n",
              "      <td>143950.0</td>\n",
              "      <td>14533.0</td>\n",
              "      <td>10000.0</td>\n",
              "      <td>9409.0</td>\n",
              "      <td>10000.0</td>\n",
              "      <td>6457.0</td>\n",
              "      <td>8888.0</td>\n",
              "      <td>10056.0</td>\n",
              "      <td>9546.0</td>\n",
              "      <td>18903.0</td>\n",
              "      <td>9999.0</td>\n",
              "      <td>10000.0</td>\n",
              "      <td>10000.0</td>\n",
              "      <td>46169.0</td>\n",
              "      <td>9811.0</td>\n",
              "      <td>10000.0</td>\n",
              "      <td>10100.0</td>\n",
              "      <td>4444.0</td>\n",
              "      <td>25455.0</td>\n",
              "      <td>15000.0</td>\n",
              "      <td>9999.0</td>\n",
              "      <td>7712.0</td>\n",
              "      <td>12442.0</td>\n",
              "      <td>10000.0</td>\n",
              "      <td>11357.0</td>\n",
              "      <td>8192.0</td>\n",
              "      <td>5555.0</td>\n",
              "      <td>4500.0</td>\n",
              "    </tr>\n",
              "  </tbody>\n",
              "</table>\n",
              "</div>\n",
              "      <button class=\"colab-df-convert\" onclick=\"convertToInteractive('df-ee659335-ffe8-4687-9b3d-2a3eb6671dfd')\"\n",
              "              title=\"Convert this dataframe to an interactive table.\"\n",
              "              style=\"display:none;\">\n",
              "        \n",
              "  <svg xmlns=\"http://www.w3.org/2000/svg\" height=\"24px\"viewBox=\"0 0 24 24\"\n",
              "       width=\"24px\">\n",
              "    <path d=\"M0 0h24v24H0V0z\" fill=\"none\"/>\n",
              "    <path d=\"M18.56 5.44l.94 2.06.94-2.06 2.06-.94-2.06-.94-.94-2.06-.94 2.06-2.06.94zm-11 1L8.5 8.5l.94-2.06 2.06-.94-2.06-.94L8.5 2.5l-.94 2.06-2.06.94zm10 10l.94 2.06.94-2.06 2.06-.94-2.06-.94-.94-2.06-.94 2.06-2.06.94z\"/><path d=\"M17.41 7.96l-1.37-1.37c-.4-.4-.92-.59-1.43-.59-.52 0-1.04.2-1.43.59L10.3 9.45l-7.72 7.72c-.78.78-.78 2.05 0 2.83L4 21.41c.39.39.9.59 1.41.59.51 0 1.02-.2 1.41-.59l7.78-7.78 2.81-2.81c.8-.78.8-2.07 0-2.86zM5.41 20L4 18.59l7.72-7.72 1.47 1.35L5.41 20z\"/>\n",
              "  </svg>\n",
              "      </button>\n",
              "      \n",
              "  <style>\n",
              "    .colab-df-container {\n",
              "      display:flex;\n",
              "      flex-wrap:wrap;\n",
              "      gap: 12px;\n",
              "    }\n",
              "\n",
              "    .colab-df-convert {\n",
              "      background-color: #E8F0FE;\n",
              "      border: none;\n",
              "      border-radius: 50%;\n",
              "      cursor: pointer;\n",
              "      display: none;\n",
              "      fill: #1967D2;\n",
              "      height: 32px;\n",
              "      padding: 0 0 0 0;\n",
              "      width: 32px;\n",
              "    }\n",
              "\n",
              "    .colab-df-convert:hover {\n",
              "      background-color: #E2EBFA;\n",
              "      box-shadow: 0px 1px 2px rgba(60, 64, 67, 0.3), 0px 1px 3px 1px rgba(60, 64, 67, 0.15);\n",
              "      fill: #174EA6;\n",
              "    }\n",
              "\n",
              "    [theme=dark] .colab-df-convert {\n",
              "      background-color: #3B4455;\n",
              "      fill: #D2E3FC;\n",
              "    }\n",
              "\n",
              "    [theme=dark] .colab-df-convert:hover {\n",
              "      background-color: #434B5C;\n",
              "      box-shadow: 0px 1px 3px 1px rgba(0, 0, 0, 0.15);\n",
              "      filter: drop-shadow(0px 1px 2px rgba(0, 0, 0, 0.3));\n",
              "      fill: #FFFFFF;\n",
              "    }\n",
              "  </style>\n",
              "\n",
              "      <script>\n",
              "        const buttonEl =\n",
              "          document.querySelector('#df-ee659335-ffe8-4687-9b3d-2a3eb6671dfd button.colab-df-convert');\n",
              "        buttonEl.style.display =\n",
              "          google.colab.kernel.accessAllowed ? 'block' : 'none';\n",
              "\n",
              "        async function convertToInteractive(key) {\n",
              "          const element = document.querySelector('#df-ee659335-ffe8-4687-9b3d-2a3eb6671dfd');\n",
              "          const dataTable =\n",
              "            await google.colab.kernel.invokeFunction('convertToInteractive',\n",
              "                                                     [key], {});\n",
              "          if (!dataTable) return;\n",
              "\n",
              "          const docLinkHtml = 'Like what you see? Visit the ' +\n",
              "            '<a target=\"_blank\" href=https://colab.research.google.com/notebooks/data_table.ipynb>data table notebook</a>'\n",
              "            + ' to learn more about interactive tables.';\n",
              "          element.innerHTML = '';\n",
              "          dataTable['output_type'] = 'display_data';\n",
              "          await google.colab.output.renderOutput(dataTable, element);\n",
              "          const docLink = document.createElement('div');\n",
              "          docLink.innerHTML = docLinkHtml;\n",
              "          element.appendChild(docLink);\n",
              "        }\n",
              "      </script>\n",
              "    </div>\n",
              "  </div>\n",
              "  "
            ],
            "text/plain": [
              "                   6        14       15   ...     115     116     119\n",
              "Owners         19643.0   3358.0    563.0  ...  1843.0   813.0  1239.0\n",
              "Total Assets  143950.0  14533.0  10000.0  ...  8192.0  5555.0  4500.0\n",
              "\n",
              "[2 rows x 28 columns]"
            ]
          },
          "metadata": {},
          "execution_count": 137
        }
      ]
    },
    {
      "cell_type": "code",
      "source": [
        "plt.figure(figsize=(10,6))\n",
        "heatmap = sns.heatmap(df2.corr(), cmap=\"BuPu\", annot=True)\n",
        "heatmap.set_title('Correlation Heatmap', fontdict={'fontsize':18}, pad=12);"
      ],
      "metadata": {
        "colab": {
          "base_uri": "https://localhost:8080/",
          "height": 400
        },
        "id": "eD_FNXwJwFoM",
        "outputId": "69360d89-8579-423b-be82-522a4fd8c156"
      },
      "execution_count": 183,
      "outputs": [
        {
          "output_type": "display_data",
          "data": {
            "image/png": "[encoded data removed]",
            "text/plain": [
              "<Figure size 720x432 with 2 Axes>"
            ]
          },
          "metadata": {
            "needs_background": "light"
          }
        }
      ]
    },
    {
      "cell_type": "markdown",
      "source": [
        "- Correlação forte! O que faz perfeito sentido quanto mais ativos determinado projeto tem, mais proprietários tal projeto terá. "
      ],
      "metadata": {
        "id": "hHzI96i3wLvK"
      }
    },
    {
      "cell_type": "code",
      "source": [
        "df3 = pd.DataFrame([df['Market Cap'], df['Total Assets']])"
      ],
      "metadata": {
        "id": "-cwFEJVnxA5b"
      },
      "execution_count": 146,
      "outputs": []
    },
    {
      "cell_type": "code",
      "source": [
        "df3.transpose()"
      ],
      "metadata": {
        "colab": {
          "base_uri": "https://localhost:8080/",
          "height": 424
        },
        "id": "N5segWZTxGZB",
        "outputId": "8ddff5be-0b26-4887-c64a-bf4464ace0e8"
      },
      "execution_count": 147,
      "outputs": [
        {
          "output_type": "execute_result",
          "data": {
            "text/html": [
              "\n",
              "  <div id=\"df-05cb20dd-b49c-4aa6-b172-164b857a657f\">\n",
              "    <div class=\"colab-df-container\">\n",
              "      <div>\n",
              "<style scoped>\n",
              "    .dataframe tbody tr th:only-of-type {\n",
              "        vertical-align: middle;\n",
              "    }\n",
              "\n",
              "    .dataframe tbody tr th {\n",
              "        vertical-align: top;\n",
              "    }\n",
              "\n",
              "    .dataframe thead th {\n",
              "        text-align: right;\n",
              "    }\n",
              "</style>\n",
              "<table border=\"1\" class=\"dataframe\">\n",
              "  <thead>\n",
              "    <tr style=\"text-align: right;\">\n",
              "      <th></th>\n",
              "      <th>Market Cap</th>\n",
              "      <th>Total Assets</th>\n",
              "    </tr>\n",
              "  </thead>\n",
              "  <tbody>\n",
              "    <tr>\n",
              "      <th>0</th>\n",
              "      <td>852.25</td>\n",
              "      <td>4870.0</td>\n",
              "    </tr>\n",
              "    <tr>\n",
              "      <th>1</th>\n",
              "      <td>919908.00</td>\n",
              "      <td>9999.0</td>\n",
              "    </tr>\n",
              "    <tr>\n",
              "      <th>2</th>\n",
              "      <td>42385.44</td>\n",
              "      <td>18160.0</td>\n",
              "    </tr>\n",
              "    <tr>\n",
              "      <th>3</th>\n",
              "      <td>273310.50</td>\n",
              "      <td>18849.0</td>\n",
              "    </tr>\n",
              "    <tr>\n",
              "      <th>4</th>\n",
              "      <td>106000.00</td>\n",
              "      <td>10000.0</td>\n",
              "    </tr>\n",
              "    <tr>\n",
              "      <th>...</th>\n",
              "      <td>...</td>\n",
              "      <td>...</td>\n",
              "    </tr>\n",
              "    <tr>\n",
              "      <th>120</th>\n",
              "      <td>0.00</td>\n",
              "      <td>16.0</td>\n",
              "    </tr>\n",
              "    <tr>\n",
              "      <th>121</th>\n",
              "      <td>777.00</td>\n",
              "      <td>777.0</td>\n",
              "    </tr>\n",
              "    <tr>\n",
              "      <th>122</th>\n",
              "      <td>0.00</td>\n",
              "      <td>3624.0</td>\n",
              "    </tr>\n",
              "    <tr>\n",
              "      <th>123</th>\n",
              "      <td>0.00</td>\n",
              "      <td>2250.0</td>\n",
              "    </tr>\n",
              "    <tr>\n",
              "      <th>124</th>\n",
              "      <td>0.00</td>\n",
              "      <td>3.0</td>\n",
              "    </tr>\n",
              "  </tbody>\n",
              "</table>\n",
              "<p>125 rows × 2 columns</p>\n",
              "</div>\n",
              "      <button class=\"colab-df-convert\" onclick=\"convertToInteractive('df-05cb20dd-b49c-4aa6-b172-164b857a657f')\"\n",
              "              title=\"Convert this dataframe to an interactive table.\"\n",
              "              style=\"display:none;\">\n",
              "        \n",
              "  <svg xmlns=\"http://www.w3.org/2000/svg\" height=\"24px\"viewBox=\"0 0 24 24\"\n",
              "       width=\"24px\">\n",
              "    <path d=\"M0 0h24v24H0V0z\" fill=\"none\"/>\n",
              "    <path d=\"M18.56 5.44l.94 2.06.94-2.06 2.06-.94-2.06-.94-.94-2.06-.94 2.06-2.06.94zm-11 1L8.5 8.5l.94-2.06 2.06-.94-2.06-.94L8.5 2.5l-.94 2.06-2.06.94zm10 10l.94 2.06.94-2.06 2.06-.94-2.06-.94-.94-2.06-.94 2.06-2.06.94z\"/><path d=\"M17.41 7.96l-1.37-1.37c-.4-.4-.92-.59-1.43-.59-.52 0-1.04.2-1.43.59L10.3 9.45l-7.72 7.72c-.78.78-.78 2.05 0 2.83L4 21.41c.39.39.9.59 1.41.59.51 0 1.02-.2 1.41-.59l7.78-7.78 2.81-2.81c.8-.78.8-2.07 0-2.86zM5.41 20L4 18.59l7.72-7.72 1.47 1.35L5.41 20z\"/>\n",
              "  </svg>\n",
              "      </button>\n",
              "      \n",
              "  <style>\n",
              "    .colab-df-container {\n",
              "      display:flex;\n",
              "      flex-wrap:wrap;\n",
              "      gap: 12px;\n",
              "    }\n",
              "\n",
              "    .colab-df-convert {\n",
              "      background-color: #E8F0FE;\n",
              "      border: none;\n",
              "      border-radius: 50%;\n",
              "      cursor: pointer;\n",
              "      display: none;\n",
              "      fill: #1967D2;\n",
              "      height: 32px;\n",
              "      padding: 0 0 0 0;\n",
              "      width: 32px;\n",
              "    }\n",
              "\n",
              "    .colab-df-convert:hover {\n",
              "      background-color: #E2EBFA;\n",
              "      box-shadow: 0px 1px 2px rgba(60, 64, 67, 0.3), 0px 1px 3px 1px rgba(60, 64, 67, 0.15);\n",
              "      fill: #174EA6;\n",
              "    }\n",
              "\n",
              "    [theme=dark] .colab-df-convert {\n",
              "      background-color: #3B4455;\n",
              "      fill: #D2E3FC;\n",
              "    }\n",
              "\n",
              "    [theme=dark] .colab-df-convert:hover {\n",
              "      background-color: #434B5C;\n",
              "      box-shadow: 0px 1px 3px 1px rgba(0, 0, 0, 0.15);\n",
              "      filter: drop-shadow(0px 1px 2px rgba(0, 0, 0, 0.3));\n",
              "      fill: #FFFFFF;\n",
              "    }\n",
              "  </style>\n",
              "\n",
              "      <script>\n",
              "        const buttonEl =\n",
              "          document.querySelector('#df-05cb20dd-b49c-4aa6-b172-164b857a657f button.colab-df-convert');\n",
              "        buttonEl.style.display =\n",
              "          google.colab.kernel.accessAllowed ? 'block' : 'none';\n",
              "\n",
              "        async function convertToInteractive(key) {\n",
              "          const element = document.querySelector('#df-05cb20dd-b49c-4aa6-b172-164b857a657f');\n",
              "          const dataTable =\n",
              "            await google.colab.kernel.invokeFunction('convertToInteractive',\n",
              "                                                     [key], {});\n",
              "          if (!dataTable) return;\n",
              "\n",
              "          const docLinkHtml = 'Like what you see? Visit the ' +\n",
              "            '<a target=\"_blank\" href=https://colab.research.google.com/notebooks/data_table.ipynb>data table notebook</a>'\n",
              "            + ' to learn more about interactive tables.';\n",
              "          element.innerHTML = '';\n",
              "          dataTable['output_type'] = 'display_data';\n",
              "          await google.colab.output.renderOutput(dataTable, element);\n",
              "          const docLink = document.createElement('div');\n",
              "          docLink.innerHTML = docLinkHtml;\n",
              "          element.appendChild(docLink);\n",
              "        }\n",
              "      </script>\n",
              "    </div>\n",
              "  </div>\n",
              "  "
            ],
            "text/plain": [
              "     Market Cap  Total Assets\n",
              "0        852.25        4870.0\n",
              "1     919908.00        9999.0\n",
              "2      42385.44       18160.0\n",
              "3     273310.50       18849.0\n",
              "4     106000.00       10000.0\n",
              "..          ...           ...\n",
              "120        0.00          16.0\n",
              "121      777.00         777.0\n",
              "122        0.00        3624.0\n",
              "123        0.00        2250.0\n",
              "124        0.00           3.0\n",
              "\n",
              "[125 rows x 2 columns]"
            ]
          },
          "metadata": {},
          "execution_count": 147
        }
      ]
    },
    {
      "cell_type": "code",
      "source": [
        "plt.figure(figsize=(10,6))\n",
        "heatmap = sns.heatmap(df3.corr(), cmap=\"BuPu\", annot=True)\n",
        "heatmap.set_title('Correlation Heatmap', fontdict={'fontsize':18}, pad=12);"
      ],
      "metadata": {
        "colab": {
          "base_uri": "https://localhost:8080/",
          "height": 400
        },
        "id": "vr0eOPgWxJGS",
        "outputId": "4fc7fdac-a028-4b57-daa8-4a47bdb33c2a"
      },
      "execution_count": 184,
      "outputs": [
        {
          "output_type": "display_data",
          "data": {
            "image/png": "[encoded data removed]",
            "text/plain": [
              "<Figure size 720x432 with 2 Axes>"
            ]
          },
          "metadata": {
            "needs_background": "light"
          }
        }
      ]
    },
    {
      "cell_type": "markdown",
      "source": [
        "- Correlacionando os três:"
      ],
      "metadata": {
        "id": "ksF2C1_x0bwF"
      }
    },
    {
      "cell_type": "code",
      "source": [
        "df4 = pd.DataFrame([df['Owners'], df['Total Assets'], df['Market Cap']])"
      ],
      "metadata": {
        "id": "_JwgbOit0d52"
      },
      "execution_count": 175,
      "outputs": []
    },
    {
      "cell_type": "code",
      "source": [
        "df4 = df4.transpose()"
      ],
      "metadata": {
        "id": "wzQf83E51oFs"
      },
      "execution_count": 178,
      "outputs": []
    },
    {
      "cell_type": "code",
      "source": [
        "plt.figure(figsize=(12,8))\n",
        "heatmap = sns.heatmap(df4.corr(), cmap=\"BuPu\", annot=True)\n",
        "heatmap.set_title('Correlation Heatmap', fontdict={'fontsize':18}, pad=12);"
      ],
      "metadata": {
        "colab": {
          "base_uri": "https://localhost:8080/",
          "height": 509
        },
        "id": "uMRz5q950d8P",
        "outputId": "8ed2fc2b-62a2-4ccf-c2cd-8fd132ecf874"
      },
      "execution_count": 180,
      "outputs": [
        {
          "output_type": "display_data",
          "data": {
            "image/png": "[encoded data removed]",
            "text/plain": [
              "<Figure size 864x576 with 2 Axes>"
            ]
          },
          "metadata": {
            "needs_background": "light"
          }
        }
      ]
    },
    {
      "cell_type": "markdown",
      "source": [
        "####Analisando o Owner Ratio propriamente:"
      ],
      "metadata": {
        "id": "nyczms7_4LfA"
      }
    },
    {
      "cell_type": "code",
      "source": [
        "df['Owner Ratio'].describe()"
      ],
      "metadata": {
        "colab": {
          "base_uri": "https://localhost:8080/"
        },
        "id": "e_xeQUQu0d-w",
        "outputId": "e78c1be2-bf3e-418f-8c1f-cab6be5e22f3"
      },
      "execution_count": 187,
      "outputs": [
        {
          "output_type": "execute_result",
          "data": {
            "text/plain": [
              "count      125.000000\n",
              "mean       435.587236\n",
              "std       3977.743701\n",
              "min          3.500000\n",
              "25%         30.400000\n",
              "50%         39.500093\n",
              "75%         50.960000\n",
              "max      44233.333333\n",
              "Name: Owner Ratio, dtype: float64"
            ]
          },
          "metadata": {},
          "execution_count": 187
        }
      ]
    },
    {
      "cell_type": "code",
      "source": [
        "plt.figure(figsize=(12,6))\n",
        "df.boxplot('Owner Ratio')\n",
        "plt.show()"
      ],
      "metadata": {
        "colab": {
          "base_uri": "https://localhost:8080/",
          "height": 374
        },
        "id": "qJFMw61n4ZEz",
        "outputId": "cb5e700f-3076-4a4f-b1c5-693e4bcf57bc"
      },
      "execution_count": 189,
      "outputs": [
        {
          "output_type": "display_data",
          "data": {
            "image/png": "[encoded data removed]",
            "text/plain": [
              "<Figure size 864x432 with 1 Axes>"
            ]
          },
          "metadata": {
            "needs_background": "light"
          }
        }
      ]
    },
    {
      "cell_type": "markdown",
      "source": [
        "- Poucos outliers com considerações fortes."
      ],
      "metadata": {
        "id": "HwudOgl74gLR"
      }
    },
    {
      "cell_type": "code",
      "source": [
        "df_ratio = df[df['Owner Ratio'] < 2500]\n",
        "df_ratio"
      ],
      "metadata": {
        "colab": {
          "base_uri": "https://localhost:8080/",
          "height": 424
        },
        "id": "AZqJxLQJ4ZNT",
        "outputId": "d89cc501-bfdc-4dd5-c420-ccbc499f0670"
      },
      "execution_count": 196,
      "outputs": [
        {
          "output_type": "execute_result",
          "data": {
            "text/html": [
              "\n",
              "  <div id=\"df-e7fcfd30-d1a3-4b26-8c8f-c038807d3cb1\">\n",
              "    <div class=\"colab-df-container\">\n",
              "      <div>\n",
              "<style scoped>\n",
              "    .dataframe tbody tr th:only-of-type {\n",
              "        vertical-align: middle;\n",
              "    }\n",
              "\n",
              "    .dataframe tbody tr th {\n",
              "        vertical-align: top;\n",
              "    }\n",
              "\n",
              "    .dataframe thead th {\n",
              "        text-align: right;\n",
              "    }\n",
              "</style>\n",
              "<table border=\"1\" class=\"dataframe\">\n",
              "  <thead>\n",
              "    <tr style=\"text-align: right;\">\n",
              "      <th></th>\n",
              "      <th>NFT</th>\n",
              "      <th>Floor Price</th>\n",
              "      <th>24h(%)</th>\n",
              "      <th>Market Cap</th>\n",
              "      <th>24h Volume</th>\n",
              "      <th>Owners</th>\n",
              "      <th>24h Owners</th>\n",
              "      <th>Total Assets</th>\n",
              "      <th>Owner Ratio</th>\n",
              "    </tr>\n",
              "  </thead>\n",
              "  <tbody>\n",
              "    <tr>\n",
              "      <th>0</th>\n",
              "      <td>dotdotdots</td>\n",
              "      <td>0.175</td>\n",
              "      <td>-17.4</td>\n",
              "      <td>852.25</td>\n",
              "      <td>12306.69</td>\n",
              "      <td>2650.0</td>\n",
              "      <td>0.2</td>\n",
              "      <td>4870.0</td>\n",
              "      <td>54.414784</td>\n",
              "    </tr>\n",
              "    <tr>\n",
              "      <th>1</th>\n",
              "      <td>Bored Ape Yacht Club</td>\n",
              "      <td>92.000</td>\n",
              "      <td>-4.5</td>\n",
              "      <td>919908.00</td>\n",
              "      <td>1207.09</td>\n",
              "      <td>6310.0</td>\n",
              "      <td>-0.1</td>\n",
              "      <td>9999.0</td>\n",
              "      <td>63.106311</td>\n",
              "    </tr>\n",
              "    <tr>\n",
              "      <th>2</th>\n",
              "      <td>Cool Pets</td>\n",
              "      <td>2.334</td>\n",
              "      <td>-13.4</td>\n",
              "      <td>42385.44</td>\n",
              "      <td>1007.5</td>\n",
              "      <td>10753.0</td>\n",
              "      <td>11.8</td>\n",
              "      <td>18160.0</td>\n",
              "      <td>59.212555</td>\n",
              "    </tr>\n",
              "    <tr>\n",
              "      <th>3</th>\n",
              "      <td>CloneX</td>\n",
              "      <td>14.500</td>\n",
              "      <td>-2.6</td>\n",
              "      <td>273310.50</td>\n",
              "      <td>825.25</td>\n",
              "      <td>8259.0</td>\n",
              "      <td>0.4</td>\n",
              "      <td>18849.0</td>\n",
              "      <td>43.816648</td>\n",
              "    </tr>\n",
              "    <tr>\n",
              "      <th>4</th>\n",
              "      <td>Azuki</td>\n",
              "      <td>10.600</td>\n",
              "      <td>-9.3</td>\n",
              "      <td>106000.00</td>\n",
              "      <td>817.38</td>\n",
              "      <td>5403.0</td>\n",
              "      <td>-0.1</td>\n",
              "      <td>10000.0</td>\n",
              "      <td>54.030000</td>\n",
              "    </tr>\n",
              "    <tr>\n",
              "      <th>...</th>\n",
              "      <td>...</td>\n",
              "      <td>...</td>\n",
              "      <td>...</td>\n",
              "      <td>...</td>\n",
              "      <td>...</td>\n",
              "      <td>...</td>\n",
              "      <td>...</td>\n",
              "      <td>...</td>\n",
              "      <td>...</td>\n",
              "    </tr>\n",
              "    <tr>\n",
              "      <th>119</th>\n",
              "      <td>Passive Apes</td>\n",
              "      <td>0.000</td>\n",
              "      <td>-100.0</td>\n",
              "      <td>0.00</td>\n",
              "      <td>0.0</td>\n",
              "      <td>1239.0</td>\n",
              "      <td>0.0</td>\n",
              "      <td>4500.0</td>\n",
              "      <td>27.533333</td>\n",
              "    </tr>\n",
              "    <tr>\n",
              "      <th>120</th>\n",
              "      <td>Lee Mullican</td>\n",
              "      <td>0.000</td>\n",
              "      <td>-100.0</td>\n",
              "      <td>0.00</td>\n",
              "      <td>0.0</td>\n",
              "      <td>15.0</td>\n",
              "      <td>0.0</td>\n",
              "      <td>16.0</td>\n",
              "      <td>93.750000</td>\n",
              "    </tr>\n",
              "    <tr>\n",
              "      <th>121</th>\n",
              "      <td>Spirit Orb Pets</td>\n",
              "      <td>1.000</td>\n",
              "      <td>1771.0</td>\n",
              "      <td>777.00</td>\n",
              "      <td>0.0</td>\n",
              "      <td>370.0</td>\n",
              "      <td>0.0</td>\n",
              "      <td>777.0</td>\n",
              "      <td>47.619048</td>\n",
              "    </tr>\n",
              "    <tr>\n",
              "      <th>122</th>\n",
              "      <td>United Punks Union</td>\n",
              "      <td>0.000</td>\n",
              "      <td>-100.0</td>\n",
              "      <td>0.00</td>\n",
              "      <td>0.0</td>\n",
              "      <td>1192.0</td>\n",
              "      <td>0.0</td>\n",
              "      <td>3624.0</td>\n",
              "      <td>32.891832</td>\n",
              "    </tr>\n",
              "    <tr>\n",
              "      <th>123</th>\n",
              "      <td>Borpacasso</td>\n",
              "      <td>0.000</td>\n",
              "      <td>-100.0</td>\n",
              "      <td>0.00</td>\n",
              "      <td>0.0</td>\n",
              "      <td>1149.0</td>\n",
              "      <td>-0.1</td>\n",
              "      <td>2250.0</td>\n",
              "      <td>51.066667</td>\n",
              "    </tr>\n",
              "  </tbody>\n",
              "</table>\n",
              "<p>123 rows × 9 columns</p>\n",
              "</div>\n",
              "      <button class=\"colab-df-convert\" onclick=\"convertToInteractive('df-e7fcfd30-d1a3-4b26-8c8f-c038807d3cb1')\"\n",
              "              title=\"Convert this dataframe to an interactive table.\"\n",
              "              style=\"display:none;\">\n",
              "        \n",
              "  <svg xmlns=\"http://www.w3.org/2000/svg\" height=\"24px\"viewBox=\"0 0 24 24\"\n",
              "       width=\"24px\">\n",
              "    <path d=\"M0 0h24v24H0V0z\" fill=\"none\"/>\n",
              "    <path d=\"M18.56 5.44l.94 2.06.94-2.06 2.06-.94-2.06-.94-.94-2.06-.94 2.06-2.06.94zm-11 1L8.5 8.5l.94-2.06 2.06-.94-2.06-.94L8.5 2.5l-.94 2.06-2.06.94zm10 10l.94 2.06.94-2.06 2.06-.94-2.06-.94-.94-2.06-.94 2.06-2.06.94z\"/><path d=\"M17.41 7.96l-1.37-1.37c-.4-.4-.92-.59-1.43-.59-.52 0-1.04.2-1.43.59L10.3 9.45l-7.72 7.72c-.78.78-.78 2.05 0 2.83L4 21.41c.39.39.9.59 1.41.59.51 0 1.02-.2 1.41-.59l7.78-7.78 2.81-2.81c.8-.78.8-2.07 0-2.86zM5.41 20L4 18.59l7.72-7.72 1.47 1.35L5.41 20z\"/>\n",
              "  </svg>\n",
              "      </button>\n",
              "      \n",
              "  <style>\n",
              "    .colab-df-container {\n",
              "      display:flex;\n",
              "      flex-wrap:wrap;\n",
              "      gap: 12px;\n",
              "    }\n",
              "\n",
              "    .colab-df-convert {\n",
              "      background-color: #E8F0FE;\n",
              "      border: none;\n",
              "      border-radius: 50%;\n",
              "      cursor: pointer;\n",
              "      display: none;\n",
              "      fill: #1967D2;\n",
              "      height: 32px;\n",
              "      padding: 0 0 0 0;\n",
              "      width: 32px;\n",
              "    }\n",
              "\n",
              "    .colab-df-convert:hover {\n",
              "      background-color: #E2EBFA;\n",
              "      box-shadow: 0px 1px 2px rgba(60, 64, 67, 0.3), 0px 1px 3px 1px rgba(60, 64, 67, 0.15);\n",
              "      fill: #174EA6;\n",
              "    }\n",
              "\n",
              "    [theme=dark] .colab-df-convert {\n",
              "      background-color: #3B4455;\n",
              "      fill: #D2E3FC;\n",
              "    }\n",
              "\n",
              "    [theme=dark] .colab-df-convert:hover {\n",
              "      background-color: #434B5C;\n",
              "      box-shadow: 0px 1px 3px 1px rgba(0, 0, 0, 0.15);\n",
              "      filter: drop-shadow(0px 1px 2px rgba(0, 0, 0, 0.3));\n",
              "      fill: #FFFFFF;\n",
              "    }\n",
              "  </style>\n",
              "\n",
              "      <script>\n",
              "        const buttonEl =\n",
              "          document.querySelector('#df-e7fcfd30-d1a3-4b26-8c8f-c038807d3cb1 button.colab-df-convert');\n",
              "        buttonEl.style.display =\n",
              "          google.colab.kernel.accessAllowed ? 'block' : 'none';\n",
              "\n",
              "        async function convertToInteractive(key) {\n",
              "          const element = document.querySelector('#df-e7fcfd30-d1a3-4b26-8c8f-c038807d3cb1');\n",
              "          const dataTable =\n",
              "            await google.colab.kernel.invokeFunction('convertToInteractive',\n",
              "                                                     [key], {});\n",
              "          if (!dataTable) return;\n",
              "\n",
              "          const docLinkHtml = 'Like what you see? Visit the ' +\n",
              "            '<a target=\"_blank\" href=https://colab.research.google.com/notebooks/data_table.ipynb>data table notebook</a>'\n",
              "            + ' to learn more about interactive tables.';\n",
              "          element.innerHTML = '';\n",
              "          dataTable['output_type'] = 'display_data';\n",
              "          await google.colab.output.renderOutput(dataTable, element);\n",
              "          const docLink = document.createElement('div');\n",
              "          docLink.innerHTML = docLinkHtml;\n",
              "          element.appendChild(docLink);\n",
              "        }\n",
              "      </script>\n",
              "    </div>\n",
              "  </div>\n",
              "  "
            ],
            "text/plain": [
              "                      NFT  Floor Price  ...  Total Assets  Owner Ratio\n",
              "0              dotdotdots        0.175  ...        4870.0    54.414784\n",
              "1    Bored Ape Yacht Club       92.000  ...        9999.0    63.106311\n",
              "2               Cool Pets        2.334  ...       18160.0    59.212555\n",
              "3                  CloneX       14.500  ...       18849.0    43.816648\n",
              "4                   Azuki       10.600  ...       10000.0    54.030000\n",
              "..                    ...          ...  ...           ...          ...\n",
              "119          Passive Apes        0.000  ...        4500.0    27.533333\n",
              "120          Lee Mullican        0.000  ...          16.0    93.750000\n",
              "121       Spirit Orb Pets        1.000  ...         777.0    47.619048\n",
              "122    United Punks Union        0.000  ...        3624.0    32.891832\n",
              "123            Borpacasso        0.000  ...        2250.0    51.066667\n",
              "\n",
              "[123 rows x 9 columns]"
            ]
          },
          "metadata": {},
          "execution_count": 196
        }
      ]
    },
    {
      "cell_type": "code",
      "source": [
        "df_ratio['Owner Ratio'].describe()"
      ],
      "metadata": {
        "colab": {
          "base_uri": "https://localhost:8080/"
        },
        "id": "HIQ-TSex4peE",
        "outputId": "c7abe1e5-e8a9-4d68-a229-c3f3226713d6"
      },
      "execution_count": 198,
      "outputs": [
        {
          "output_type": "execute_result",
          "data": {
            "text/plain": [
              "count    123.000000\n",
              "mean      39.350172\n",
              "std       16.028633\n",
              "min        3.500000\n",
              "25%       30.300000\n",
              "50%       39.467051\n",
              "75%       50.802003\n",
              "max       93.750000\n",
              "Name: Owner Ratio, dtype: float64"
            ]
          },
          "metadata": {},
          "execution_count": 198
        }
      ]
    },
    {
      "cell_type": "code",
      "source": [
        "plt.figure(figsize=(12,6))\n",
        "df_ratio.boxplot('Owner Ratio')\n",
        "plt.show()"
      ],
      "metadata": {
        "colab": {
          "base_uri": "https://localhost:8080/",
          "height": 374
        },
        "id": "GmHwymRY4pil",
        "outputId": "1924f280-4280-4a8f-e6c7-7d3e406061d0"
      },
      "execution_count": 199,
      "outputs": [
        {
          "output_type": "display_data",
          "data": {
            "image/png": "[encoded data removed]",
            "text/plain": [
              "<Figure size 864x432 with 1 Axes>"
            ]
          },
          "metadata": {
            "needs_background": "light"
          }
        }
      ]
    },
    {
      "cell_type": "markdown",
      "source": [
        "- O que isso significa? O owner ratio é a razão entre a quantidade de proprietários que o projeto possui / Quantidade de NFTs do projeto. Portanto, quanto mais próximo de 1, mais próximo o projeto está de ter vendido tudo de certo. No entanto, isso não significa que quanto mais distante de 1 menos  chances do projeto ter vendido todos seus NFTs, visto que um proprietário pode ter mais de um NFT."
      ],
      "metadata": {
        "id": "aiE47NqI5V9E"
      }
    },
    {
      "cell_type": "code",
      "source": [
        ""
      ],
      "metadata": {
        "id": "HsdFFatk4ZP2"
      },
      "execution_count": null,
      "outputs": []
    },
    {
      "cell_type": "markdown",
      "source": [
        "#4ºParte: Analisando as relações do início:"
      ],
      "metadata": {
        "id": "nXhvASnTfOBK"
      }
    },
    {
      "cell_type": "code",
      "source": [
        ""
      ],
      "metadata": {
        "id": "lq7MvWKb4Yv_"
      },
      "execution_count": null,
      "outputs": []
    },
    {
      "cell_type": "code",
      "source": [
        ""
      ],
      "metadata": {
        "id": "I_507tBB1ty3"
      },
      "execution_count": 79,
      "outputs": []
    },
    {
      "cell_type": "code",
      "source": [
        ""
      ],
      "metadata": {
        "id": "E7wI81cl1uPA"
      },
      "execution_count": 79,
      "outputs": []
    },
    {
      "cell_type": "code",
      "source": [
        ""
      ],
      "metadata": {
        "id": "mHW_zM7O1uRk"
      },
      "execution_count": 79,
      "outputs": []
    },
    {
      "cell_type": "code",
      "source": [
        ""
      ],
      "metadata": {
        "id": "tGs7eikT1uT2"
      },
      "execution_count": 79,
      "outputs": []
    },
    {
      "cell_type": "code",
      "source": [
        ""
      ],
      "metadata": {
        "id": "vEcFgekCr_EY"
      },
      "execution_count": 79,
      "outputs": []
    },
    {
      "cell_type": "code",
      "source": [
        ""
      ],
      "metadata": {
        "id": "b-jCdGUrrHg9"
      },
      "execution_count": 79,
      "outputs": []
    },
    {
      "cell_type": "markdown",
      "source": [
        "##As relações:\n",
        "- Fazer uma coluna chamada owners_ratio (total de owners / total de ativos).\n",
        "- Filtrar os owners_ratio que tenham 10% ou menos.\n",
        "- Fazer uma correlação com o floor price"
      ],
      "metadata": {
        "id": "XVU74pytiHPb"
      }
    },
    {
      "cell_type": "code",
      "source": [
        "df['Owners']"
      ],
      "metadata": {
        "id": "eTOc4Izxfs7i",
        "colab": {
          "base_uri": "https://localhost:8080/"
        },
        "outputId": "844ba55e-171c-4dfc-9624-e4d496f8eb97"
      },
      "execution_count": 80,
      "outputs": [
        {
          "output_type": "execute_result",
          "data": {
            "text/plain": [
              "0       2650.0\n",
              "1       6310.0\n",
              "2      10753.0\n",
              "3       8259.0\n",
              "4       5403.0\n",
              "        ...   \n",
              "120       15.0\n",
              "121      370.0\n",
              "122     1192.0\n",
              "123     1149.0\n",
              "124     1327.0\n",
              "Name: Owners, Length: 125, dtype: float64"
            ]
          },
          "metadata": {},
          "execution_count": 80
        }
      ]
    },
    {
      "cell_type": "code",
      "source": [
        "df['Total Assets']"
      ],
      "metadata": {
        "id": "9RUi_af1iR7q",
        "colab": {
          "base_uri": "https://localhost:8080/"
        },
        "outputId": "1de2603f-fe46-4df8-ce2b-e886524032de"
      },
      "execution_count": 81,
      "outputs": [
        {
          "output_type": "execute_result",
          "data": {
            "text/plain": [
              "0       4870.0\n",
              "1       9999.0\n",
              "2      18160.0\n",
              "3      18849.0\n",
              "4      10000.0\n",
              "        ...   \n",
              "120       16.0\n",
              "121      777.0\n",
              "122     3624.0\n",
              "123     2250.0\n",
              "124        3.0\n",
              "Name: Total Assets, Length: 125, dtype: float64"
            ]
          },
          "metadata": {},
          "execution_count": 81
        }
      ]
    },
    {
      "cell_type": "code",
      "source": [
        "df['Owner Ratio'] = df['Owners'] / df ['Total Assets']"
      ],
      "metadata": {
        "id": "9qg4BZdwiXgI"
      },
      "execution_count": 82,
      "outputs": []
    },
    {
      "cell_type": "code",
      "source": [
        "df['Owner Ratio'] = df['Owner Ratio']*100"
      ],
      "metadata": {
        "id": "Qa2LDoDsifg6"
      },
      "execution_count": 83,
      "outputs": []
    },
    {
      "cell_type": "code",
      "source": [
        "df['Owner Ratio'].describe()"
      ],
      "metadata": {
        "id": "WGC_I6qMihDz",
        "colab": {
          "base_uri": "https://localhost:8080/"
        },
        "outputId": "19f06ca7-61a5-4675-8d27-06232e1902d5"
      },
      "execution_count": 84,
      "outputs": [
        {
          "output_type": "execute_result",
          "data": {
            "text/plain": [
              "count      125.000000\n",
              "mean       435.587236\n",
              "std       3977.743701\n",
              "min          3.500000\n",
              "25%         30.400000\n",
              "50%         39.500093\n",
              "75%         50.960000\n",
              "max      44233.333333\n",
              "Name: Owner Ratio, dtype: float64"
            ]
          },
          "metadata": {},
          "execution_count": 84
        }
      ]
    },
    {
      "cell_type": "code",
      "source": [
        "df[df['Owner Ratio'] <= 30].describe()"
      ],
      "metadata": {
        "id": "-jCpzxnIjJD9",
        "colab": {
          "base_uri": "https://localhost:8080/",
          "height": 300
        },
        "outputId": "21bcd107-fba0-443a-b07c-7eb35243bd08"
      },
      "execution_count": 85,
      "outputs": [
        {
          "output_type": "execute_result",
          "data": {
            "text/html": [
              "\n",
              "  <div id=\"df-99f856a3-72b2-4438-9c87-e9c3bfb12af8\">\n",
              "    <div class=\"colab-df-container\">\n",
              "      <div>\n",
              "<style scoped>\n",
              "    .dataframe tbody tr th:only-of-type {\n",
              "        vertical-align: middle;\n",
              "    }\n",
              "\n",
              "    .dataframe tbody tr th {\n",
              "        vertical-align: top;\n",
              "    }\n",
              "\n",
              "    .dataframe thead th {\n",
              "        text-align: right;\n",
              "    }\n",
              "</style>\n",
              "<table border=\"1\" class=\"dataframe\">\n",
              "  <thead>\n",
              "    <tr style=\"text-align: right;\">\n",
              "      <th></th>\n",
              "      <th>Floor Price</th>\n",
              "      <th>24h(%)</th>\n",
              "      <th>Market Cap</th>\n",
              "      <th>Owners</th>\n",
              "      <th>Total Assets</th>\n",
              "      <th>Owner Ratio</th>\n",
              "    </tr>\n",
              "  </thead>\n",
              "  <tbody>\n",
              "    <tr>\n",
              "      <th>count</th>\n",
              "      <td>28.000000</td>\n",
              "      <td>28.000000</td>\n",
              "      <td>28.000000</td>\n",
              "      <td>28.000000</td>\n",
              "      <td>28.000000</td>\n",
              "      <td>28.000000</td>\n",
              "    </tr>\n",
              "    <tr>\n",
              "      <th>mean</th>\n",
              "      <td>0.780671</td>\n",
              "      <td>-3.467857</td>\n",
              "      <td>25887.750000</td>\n",
              "      <td>2683.178571</td>\n",
              "      <td>16517.035714</td>\n",
              "      <td>17.727411</td>\n",
              "    </tr>\n",
              "    <tr>\n",
              "      <th>std</th>\n",
              "      <td>1.190177</td>\n",
              "      <td>25.040117</td>\n",
              "      <td>102520.742668</td>\n",
              "      <td>3594.927548</td>\n",
              "      <td>26202.090593</td>\n",
              "      <td>8.996814</td>\n",
              "    </tr>\n",
              "    <tr>\n",
              "      <th>min</th>\n",
              "      <td>0.000000</td>\n",
              "      <td>-100.000000</td>\n",
              "      <td>0.000000</td>\n",
              "      <td>311.000000</td>\n",
              "      <td>4444.000000</td>\n",
              "      <td>3.500000</td>\n",
              "    </tr>\n",
              "    <tr>\n",
              "      <th>25%</th>\n",
              "      <td>0.033750</td>\n",
              "      <td>-7.500000</td>\n",
              "      <td>504.125000</td>\n",
              "      <td>779.250000</td>\n",
              "      <td>9278.750000</td>\n",
              "      <td>7.829170</td>\n",
              "    </tr>\n",
              "    <tr>\n",
              "      <th>50%</th>\n",
              "      <td>0.170500</td>\n",
              "      <td>-3.550000</td>\n",
              "      <td>1854.400000</td>\n",
              "      <td>2061.000000</td>\n",
              "      <td>10000.000000</td>\n",
              "      <td>19.032875</td>\n",
              "    </tr>\n",
              "    <tr>\n",
              "      <th>75%</th>\n",
              "      <td>0.980000</td>\n",
              "      <td>3.550000</td>\n",
              "      <td>10185.450000</td>\n",
              "      <td>2866.000000</td>\n",
              "      <td>11628.250000</td>\n",
              "      <td>26.412768</td>\n",
              "    </tr>\n",
              "    <tr>\n",
              "      <th>max</th>\n",
              "      <td>4.600000</td>\n",
              "      <td>52.000000</td>\n",
              "      <td>547010.000000</td>\n",
              "      <td>19643.000000</td>\n",
              "      <td>143950.000000</td>\n",
              "      <td>29.492673</td>\n",
              "    </tr>\n",
              "  </tbody>\n",
              "</table>\n",
              "</div>\n",
              "      <button class=\"colab-df-convert\" onclick=\"convertToInteractive('df-99f856a3-72b2-4438-9c87-e9c3bfb12af8')\"\n",
              "              title=\"Convert this dataframe to an interactive table.\"\n",
              "              style=\"display:none;\">\n",
              "        \n",
              "  <svg xmlns=\"http://www.w3.org/2000/svg\" height=\"24px\"viewBox=\"0 0 24 24\"\n",
              "       width=\"24px\">\n",
              "    <path d=\"M0 0h24v24H0V0z\" fill=\"none\"/>\n",
              "    <path d=\"M18.56 5.44l.94 2.06.94-2.06 2.06-.94-2.06-.94-.94-2.06-.94 2.06-2.06.94zm-11 1L8.5 8.5l.94-2.06 2.06-.94-2.06-.94L8.5 2.5l-.94 2.06-2.06.94zm10 10l.94 2.06.94-2.06 2.06-.94-2.06-.94-.94-2.06-.94 2.06-2.06.94z\"/><path d=\"M17.41 7.96l-1.37-1.37c-.4-.4-.92-.59-1.43-.59-.52 0-1.04.2-1.43.59L10.3 9.45l-7.72 7.72c-.78.78-.78 2.05 0 2.83L4 21.41c.39.39.9.59 1.41.59.51 0 1.02-.2 1.41-.59l7.78-7.78 2.81-2.81c.8-.78.8-2.07 0-2.86zM5.41 20L4 18.59l7.72-7.72 1.47 1.35L5.41 20z\"/>\n",
              "  </svg>\n",
              "      </button>\n",
              "      \n",
              "  <style>\n",
              "    .colab-df-container {\n",
              "      display:flex;\n",
              "      flex-wrap:wrap;\n",
              "      gap: 12px;\n",
              "    }\n",
              "\n",
              "    .colab-df-convert {\n",
              "      background-color: #E8F0FE;\n",
              "      border: none;\n",
              "      border-radius: 50%;\n",
              "      cursor: pointer;\n",
              "      display: none;\n",
              "      fill: #1967D2;\n",
              "      height: 32px;\n",
              "      padding: 0 0 0 0;\n",
              "      width: 32px;\n",
              "    }\n",
              "\n",
              "    .colab-df-convert:hover {\n",
              "      background-color: #E2EBFA;\n",
              "      box-shadow: 0px 1px 2px rgba(60, 64, 67, 0.3), 0px 1px 3px 1px rgba(60, 64, 67, 0.15);\n",
              "      fill: #174EA6;\n",
              "    }\n",
              "\n",
              "    [theme=dark] .colab-df-convert {\n",
              "      background-color: #3B4455;\n",
              "      fill: #D2E3FC;\n",
              "    }\n",
              "\n",
              "    [theme=dark] .colab-df-convert:hover {\n",
              "      background-color: #434B5C;\n",
              "      box-shadow: 0px 1px 3px 1px rgba(0, 0, 0, 0.15);\n",
              "      filter: drop-shadow(0px 1px 2px rgba(0, 0, 0, 0.3));\n",
              "      fill: #FFFFFF;\n",
              "    }\n",
              "  </style>\n",
              "\n",
              "      <script>\n",
              "        const buttonEl =\n",
              "          document.querySelector('#df-99f856a3-72b2-4438-9c87-e9c3bfb12af8 button.colab-df-convert');\n",
              "        buttonEl.style.display =\n",
              "          google.colab.kernel.accessAllowed ? 'block' : 'none';\n",
              "\n",
              "        async function convertToInteractive(key) {\n",
              "          const element = document.querySelector('#df-99f856a3-72b2-4438-9c87-e9c3bfb12af8');\n",
              "          const dataTable =\n",
              "            await google.colab.kernel.invokeFunction('convertToInteractive',\n",
              "                                                     [key], {});\n",
              "          if (!dataTable) return;\n",
              "\n",
              "          const docLinkHtml = 'Like what you see? Visit the ' +\n",
              "            '<a target=\"_blank\" href=https://colab.research.google.com/notebooks/data_table.ipynb>data table notebook</a>'\n",
              "            + ' to learn more about interactive tables.';\n",
              "          element.innerHTML = '';\n",
              "          dataTable['output_type'] = 'display_data';\n",
              "          await google.colab.output.renderOutput(dataTable, element);\n",
              "          const docLink = document.createElement('div');\n",
              "          docLink.innerHTML = docLinkHtml;\n",
              "          element.appendChild(docLink);\n",
              "        }\n",
              "      </script>\n",
              "    </div>\n",
              "  </div>\n",
              "  "
            ],
            "text/plain": [
              "       Floor Price      24h(%)  ...   Total Assets  Owner Ratio\n",
              "count    28.000000   28.000000  ...      28.000000    28.000000\n",
              "mean      0.780671   -3.467857  ...   16517.035714    17.727411\n",
              "std       1.190177   25.040117  ...   26202.090593     8.996814\n",
              "min       0.000000 -100.000000  ...    4444.000000     3.500000\n",
              "25%       0.033750   -7.500000  ...    9278.750000     7.829170\n",
              "50%       0.170500   -3.550000  ...   10000.000000    19.032875\n",
              "75%       0.980000    3.550000  ...   11628.250000    26.412768\n",
              "max       4.600000   52.000000  ...  143950.000000    29.492673\n",
              "\n",
              "[8 rows x 6 columns]"
            ]
          },
          "metadata": {},
          "execution_count": 85
        }
      ]
    },
    {
      "cell_type": "code",
      "source": [
        "df_sold_in = df[df['Owner Ratio'] <= 30]"
      ],
      "metadata": {
        "id": "397hFbNHio2l"
      },
      "execution_count": 86,
      "outputs": []
    },
    {
      "cell_type": "code",
      "source": [
        "df_sold_in"
      ],
      "metadata": {
        "id": "OKKDEmZnitNu",
        "colab": {
          "base_uri": "https://localhost:8080/",
          "height": 927
        },
        "outputId": "d4dcf6ed-3778-4b32-9e38-2578a911b711"
      },
      "execution_count": 87,
      "outputs": [
        {
          "output_type": "execute_result",
          "data": {
            "text/html": [
              "\n",
              "  <div id=\"df-5b324d3a-6362-4d4b-be73-fb58a20198e6\">\n",
              "    <div class=\"colab-df-container\">\n",
              "      <div>\n",
              "<style scoped>\n",
              "    .dataframe tbody tr th:only-of-type {\n",
              "        vertical-align: middle;\n",
              "    }\n",
              "\n",
              "    .dataframe tbody tr th {\n",
              "        vertical-align: top;\n",
              "    }\n",
              "\n",
              "    .dataframe thead th {\n",
              "        text-align: right;\n",
              "    }\n",
              "</style>\n",
              "<table border=\"1\" class=\"dataframe\">\n",
              "  <thead>\n",
              "    <tr style=\"text-align: right;\">\n",
              "      <th></th>\n",
              "      <th>NFT</th>\n",
              "      <th>Floor Price</th>\n",
              "      <th>24h(%)</th>\n",
              "      <th>Market Cap</th>\n",
              "      <th>24h Volume</th>\n",
              "      <th>Owners</th>\n",
              "      <th>24h Owners</th>\n",
              "      <th>Total Assets</th>\n",
              "      <th>Owner Ratio</th>\n",
              "    </tr>\n",
              "  </thead>\n",
              "  <tbody>\n",
              "    <tr>\n",
              "      <th>6</th>\n",
              "      <td>LAND</td>\n",
              "      <td>3.8000</td>\n",
              "      <td>5.8</td>\n",
              "      <td>547010.00</td>\n",
              "      <td>401.62</td>\n",
              "      <td>19643.0</td>\n",
              "      <td>2.0</td>\n",
              "      <td>143950.0</td>\n",
              "      <td>13.645710</td>\n",
              "    </tr>\n",
              "    <tr>\n",
              "      <th>14</th>\n",
              "      <td>Decentral Games ICE Poker</td>\n",
              "      <td>2.0400</td>\n",
              "      <td>-4.0</td>\n",
              "      <td>29647.32</td>\n",
              "      <td>113.01</td>\n",
              "      <td>3358.0</td>\n",
              "      <td>0.0</td>\n",
              "      <td>14533.0</td>\n",
              "      <td>23.106035</td>\n",
              "    </tr>\n",
              "    <tr>\n",
              "      <th>15</th>\n",
              "      <td>Metroverse</td>\n",
              "      <td>0.9800</td>\n",
              "      <td>16.2</td>\n",
              "      <td>9800.00</td>\n",
              "      <td>98.51</td>\n",
              "      <td>563.0</td>\n",
              "      <td>-11.1</td>\n",
              "      <td>10000.0</td>\n",
              "      <td>5.630000</td>\n",
              "    </tr>\n",
              "    <tr>\n",
              "      <th>26</th>\n",
              "      <td>Forgotten Runes Wizards Cult</td>\n",
              "      <td>2.2900</td>\n",
              "      <td>-2.7</td>\n",
              "      <td>21546.61</td>\n",
              "      <td>48.98</td>\n",
              "      <td>2747.0</td>\n",
              "      <td>0.1</td>\n",
              "      <td>9409.0</td>\n",
              "      <td>29.195451</td>\n",
              "    </tr>\n",
              "    <tr>\n",
              "      <th>30</th>\n",
              "      <td>Crypto Unicorns</td>\n",
              "      <td>1.8900</td>\n",
              "      <td>1.0</td>\n",
              "      <td>18900.00</td>\n",
              "      <td>45.88</td>\n",
              "      <td>519.0</td>\n",
              "      <td>0.0</td>\n",
              "      <td>10000.0</td>\n",
              "      <td>5.190000</td>\n",
              "    </tr>\n",
              "    <tr>\n",
              "      <th>34</th>\n",
              "      <td>MetaHero</td>\n",
              "      <td>4.6000</td>\n",
              "      <td>-7.5</td>\n",
              "      <td>29702.20</td>\n",
              "      <td>37.4</td>\n",
              "      <td>311.0</td>\n",
              "      <td>2.0</td>\n",
              "      <td>6457.0</td>\n",
              "      <td>4.816478</td>\n",
              "    </tr>\n",
              "    <tr>\n",
              "      <th>43</th>\n",
              "      <td>Sneaky Vampire Syndicate</td>\n",
              "      <td>0.9800</td>\n",
              "      <td>-7.5</td>\n",
              "      <td>8710.24</td>\n",
              "      <td>27.08</td>\n",
              "      <td>1444.0</td>\n",
              "      <td>-0.8</td>\n",
              "      <td>8888.0</td>\n",
              "      <td>16.246625</td>\n",
              "    </tr>\n",
              "    <tr>\n",
              "      <th>44</th>\n",
              "      <td>BYO Land</td>\n",
              "      <td>0.7000</td>\n",
              "      <td>0.7</td>\n",
              "      <td>7039.20</td>\n",
              "      <td>26.75</td>\n",
              "      <td>2884.0</td>\n",
              "      <td>-0.2</td>\n",
              "      <td>10056.0</td>\n",
              "      <td>28.679395</td>\n",
              "    </tr>\n",
              "    <tr>\n",
              "      <th>48</th>\n",
              "      <td>loomlock NFT</td>\n",
              "      <td>0.8500</td>\n",
              "      <td>-18.9</td>\n",
              "      <td>8114.10</td>\n",
              "      <td>24.49</td>\n",
              "      <td>2501.0</td>\n",
              "      <td>-0.0</td>\n",
              "      <td>9546.0</td>\n",
              "      <td>26.199455</td>\n",
              "    </tr>\n",
              "    <tr>\n",
              "      <th>54</th>\n",
              "      <td>MoonCats - Acclimated</td>\n",
              "      <td>0.6000</td>\n",
              "      <td>3.0</td>\n",
              "      <td>11341.80</td>\n",
              "      <td>19.18</td>\n",
              "      <td>5575.0</td>\n",
              "      <td>0.1</td>\n",
              "      <td>18903.0</td>\n",
              "      <td>29.492673</td>\n",
              "    </tr>\n",
              "    <tr>\n",
              "      <th>61</th>\n",
              "      <td>Samurai Saga</td>\n",
              "      <td>0.1979</td>\n",
              "      <td>5.2</td>\n",
              "      <td>1978.80</td>\n",
              "      <td>7.46</td>\n",
              "      <td>1853.0</td>\n",
              "      <td>-0.8</td>\n",
              "      <td>9999.0</td>\n",
              "      <td>18.531853</td>\n",
              "    </tr>\n",
              "    <tr>\n",
              "      <th>65</th>\n",
              "      <td>Anonymice</td>\n",
              "      <td>1.7450</td>\n",
              "      <td>-2.8</td>\n",
              "      <td>17450.00</td>\n",
              "      <td>6.5</td>\n",
              "      <td>350.0</td>\n",
              "      <td>-0.3</td>\n",
              "      <td>10000.0</td>\n",
              "      <td>3.500000</td>\n",
              "    </tr>\n",
              "    <tr>\n",
              "      <th>74</th>\n",
              "      <td>Citizens of Bulliever Island</td>\n",
              "      <td>0.1730</td>\n",
              "      <td>-5.9</td>\n",
              "      <td>1730.00</td>\n",
              "      <td>3.23</td>\n",
              "      <td>2258.0</td>\n",
              "      <td>0.0</td>\n",
              "      <td>10000.0</td>\n",
              "      <td>22.580000</td>\n",
              "    </tr>\n",
              "    <tr>\n",
              "      <th>76</th>\n",
              "      <td>Wizards &amp; Dragons Game</td>\n",
              "      <td>0.0299</td>\n",
              "      <td>21.6</td>\n",
              "      <td>1380.45</td>\n",
              "      <td>2.73</td>\n",
              "      <td>3371.0</td>\n",
              "      <td>0.0</td>\n",
              "      <td>46169.0</td>\n",
              "      <td>7.301436</td>\n",
              "    </tr>\n",
              "    <tr>\n",
              "      <th>77</th>\n",
              "      <td>iNFT Personality Pod</td>\n",
              "      <td>0.2200</td>\n",
              "      <td>-14.2</td>\n",
              "      <td>2158.42</td>\n",
              "      <td>2.62</td>\n",
              "      <td>1864.0</td>\n",
              "      <td>0.2</td>\n",
              "      <td>9811.0</td>\n",
              "      <td>18.999083</td>\n",
              "    </tr>\n",
              "    <tr>\n",
              "      <th>85</th>\n",
              "      <td>HeadDAO</td>\n",
              "      <td>0.0890</td>\n",
              "      <td>-6.5</td>\n",
              "      <td>890.00</td>\n",
              "      <td>1.36</td>\n",
              "      <td>1048.0</td>\n",
              "      <td>0.8</td>\n",
              "      <td>10000.0</td>\n",
              "      <td>10.480000</td>\n",
              "    </tr>\n",
              "    <tr>\n",
              "      <th>86</th>\n",
              "      <td>Star Sailor Sibings</td>\n",
              "      <td>0.0650</td>\n",
              "      <td>-13.1</td>\n",
              "      <td>656.50</td>\n",
              "      <td>1.34</td>\n",
              "      <td>2783.0</td>\n",
              "      <td>0.0</td>\n",
              "      <td>10100.0</td>\n",
              "      <td>27.554455</td>\n",
              "    </tr>\n",
              "    <tr>\n",
              "      <th>88</th>\n",
              "      <td>Feudalz</td>\n",
              "      <td>0.1250</td>\n",
              "      <td>-2.6</td>\n",
              "      <td>555.50</td>\n",
              "      <td>1.19</td>\n",
              "      <td>350.0</td>\n",
              "      <td>-2.2</td>\n",
              "      <td>4444.0</td>\n",
              "      <td>7.875788</td>\n",
              "    </tr>\n",
              "    <tr>\n",
              "      <th>90</th>\n",
              "      <td>Avastars</td>\n",
              "      <td>0.1100</td>\n",
              "      <td>-14.2</td>\n",
              "      <td>2800.05</td>\n",
              "      <td>1.13</td>\n",
              "      <td>4957.0</td>\n",
              "      <td>0.0</td>\n",
              "      <td>25455.0</td>\n",
              "      <td>19.473581</td>\n",
              "    </tr>\n",
              "    <tr>\n",
              "      <th>95</th>\n",
              "      <td>Ethermore</td>\n",
              "      <td>0.0230</td>\n",
              "      <td>7.6</td>\n",
              "      <td>345.00</td>\n",
              "      <td>0.51</td>\n",
              "      <td>2860.0</td>\n",
              "      <td>0.0</td>\n",
              "      <td>15000.0</td>\n",
              "      <td>19.066667</td>\n",
              "    </tr>\n",
              "    <tr>\n",
              "      <th>100</th>\n",
              "      <td>Bored Ape Comic</td>\n",
              "      <td>0.0290</td>\n",
              "      <td>-3.1</td>\n",
              "      <td>289.97</td>\n",
              "      <td>0.26</td>\n",
              "      <td>2705.0</td>\n",
              "      <td>-0.1</td>\n",
              "      <td>9999.0</td>\n",
              "      <td>27.052705</td>\n",
              "    </tr>\n",
              "    <tr>\n",
              "      <th>106</th>\n",
              "      <td>Genesis Mana</td>\n",
              "      <td>0.1680</td>\n",
              "      <td>-6.5</td>\n",
              "      <td>1295.62</td>\n",
              "      <td>0.19</td>\n",
              "      <td>593.0</td>\n",
              "      <td>0.0</td>\n",
              "      <td>7712.0</td>\n",
              "      <td>7.689315</td>\n",
              "    </tr>\n",
              "    <tr>\n",
              "      <th>109</th>\n",
              "      <td>Space Poggers</td>\n",
              "      <td>0.0150</td>\n",
              "      <td>-28.0</td>\n",
              "      <td>186.63</td>\n",
              "      <td>0.19</td>\n",
              "      <td>3447.0</td>\n",
              "      <td>-0.0</td>\n",
              "      <td>12442.0</td>\n",
              "      <td>27.704549</td>\n",
              "    </tr>\n",
              "    <tr>\n",
              "      <th>113</th>\n",
              "      <td>Skullx</td>\n",
              "      <td>0.0350</td>\n",
              "      <td>-6.5</td>\n",
              "      <td>350.00</td>\n",
              "      <td>0.07</td>\n",
              "      <td>2572.0</td>\n",
              "      <td>-0.0</td>\n",
              "      <td>10000.0</td>\n",
              "      <td>25.720000</td>\n",
              "    </tr>\n",
              "    <tr>\n",
              "      <th>114</th>\n",
              "      <td>Cometh Spaceships</td>\n",
              "      <td>0.0650</td>\n",
              "      <td>52.0</td>\n",
              "      <td>738.21</td>\n",
              "      <td>0.04</td>\n",
              "      <td>678.0</td>\n",
              "      <td>0.0</td>\n",
              "      <td>11357.0</td>\n",
              "      <td>5.969886</td>\n",
              "    </tr>\n",
              "    <tr>\n",
              "      <th>115</th>\n",
              "      <td>Derpy Birbs</td>\n",
              "      <td>0.0090</td>\n",
              "      <td>-6.5</td>\n",
              "      <td>73.73</td>\n",
              "      <td>0.03</td>\n",
              "      <td>1843.0</td>\n",
              "      <td>0.1</td>\n",
              "      <td>8192.0</td>\n",
              "      <td>22.497559</td>\n",
              "    </tr>\n",
              "    <tr>\n",
              "      <th>116</th>\n",
              "      <td>CryptoZombiez</td>\n",
              "      <td>0.0300</td>\n",
              "      <td>40.3</td>\n",
              "      <td>166.65</td>\n",
              "      <td>0.03</td>\n",
              "      <td>813.0</td>\n",
              "      <td>0.0</td>\n",
              "      <td>5555.0</td>\n",
              "      <td>14.635464</td>\n",
              "    </tr>\n",
              "    <tr>\n",
              "      <th>119</th>\n",
              "      <td>Passive Apes</td>\n",
              "      <td>0.0000</td>\n",
              "      <td>-100.0</td>\n",
              "      <td>0.00</td>\n",
              "      <td>0.0</td>\n",
              "      <td>1239.0</td>\n",
              "      <td>0.0</td>\n",
              "      <td>4500.0</td>\n",
              "      <td>27.533333</td>\n",
              "    </tr>\n",
              "  </tbody>\n",
              "</table>\n",
              "</div>\n",
              "      <button class=\"colab-df-convert\" onclick=\"convertToInteractive('df-5b324d3a-6362-4d4b-be73-fb58a20198e6')\"\n",
              "              title=\"Convert this dataframe to an interactive table.\"\n",
              "              style=\"display:none;\">\n",
              "        \n",
              "  <svg xmlns=\"http://www.w3.org/2000/svg\" height=\"24px\"viewBox=\"0 0 24 24\"\n",
              "       width=\"24px\">\n",
              "    <path d=\"M0 0h24v24H0V0z\" fill=\"none\"/>\n",
              "    <path d=\"M18.56 5.44l.94 2.06.94-2.06 2.06-.94-2.06-.94-.94-2.06-.94 2.06-2.06.94zm-11 1L8.5 8.5l.94-2.06 2.06-.94-2.06-.94L8.5 2.5l-.94 2.06-2.06.94zm10 10l.94 2.06.94-2.06 2.06-.94-2.06-.94-.94-2.06-.94 2.06-2.06.94z\"/><path d=\"M17.41 7.96l-1.37-1.37c-.4-.4-.92-.59-1.43-.59-.52 0-1.04.2-1.43.59L10.3 9.45l-7.72 7.72c-.78.78-.78 2.05 0 2.83L4 21.41c.39.39.9.59 1.41.59.51 0 1.02-.2 1.41-.59l7.78-7.78 2.81-2.81c.8-.78.8-2.07 0-2.86zM5.41 20L4 18.59l7.72-7.72 1.47 1.35L5.41 20z\"/>\n",
              "  </svg>\n",
              "      </button>\n",
              "      \n",
              "  <style>\n",
              "    .colab-df-container {\n",
              "      display:flex;\n",
              "      flex-wrap:wrap;\n",
              "      gap: 12px;\n",
              "    }\n",
              "\n",
              "    .colab-df-convert {\n",
              "      background-color: #E8F0FE;\n",
              "      border: none;\n",
              "      border-radius: 50%;\n",
              "      cursor: pointer;\n",
              "      display: none;\n",
              "      fill: #1967D2;\n",
              "      height: 32px;\n",
              "      padding: 0 0 0 0;\n",
              "      width: 32px;\n",
              "    }\n",
              "\n",
              "    .colab-df-convert:hover {\n",
              "      background-color: #E2EBFA;\n",
              "      box-shadow: 0px 1px 2px rgba(60, 64, 67, 0.3), 0px 1px 3px 1px rgba(60, 64, 67, 0.15);\n",
              "      fill: #174EA6;\n",
              "    }\n",
              "\n",
              "    [theme=dark] .colab-df-convert {\n",
              "      background-color: #3B4455;\n",
              "      fill: #D2E3FC;\n",
              "    }\n",
              "\n",
              "    [theme=dark] .colab-df-convert:hover {\n",
              "      background-color: #434B5C;\n",
              "      box-shadow: 0px 1px 3px 1px rgba(0, 0, 0, 0.15);\n",
              "      filter: drop-shadow(0px 1px 2px rgba(0, 0, 0, 0.3));\n",
              "      fill: #FFFFFF;\n",
              "    }\n",
              "  </style>\n",
              "\n",
              "      <script>\n",
              "        const buttonEl =\n",
              "          document.querySelector('#df-5b324d3a-6362-4d4b-be73-fb58a20198e6 button.colab-df-convert');\n",
              "        buttonEl.style.display =\n",
              "          google.colab.kernel.accessAllowed ? 'block' : 'none';\n",
              "\n",
              "        async function convertToInteractive(key) {\n",
              "          const element = document.querySelector('#df-5b324d3a-6362-4d4b-be73-fb58a20198e6');\n",
              "          const dataTable =\n",
              "            await google.colab.kernel.invokeFunction('convertToInteractive',\n",
              "                                                     [key], {});\n",
              "          if (!dataTable) return;\n",
              "\n",
              "          const docLinkHtml = 'Like what you see? Visit the ' +\n",
              "            '<a target=\"_blank\" href=https://colab.research.google.com/notebooks/data_table.ipynb>data table notebook</a>'\n",
              "            + ' to learn more about interactive tables.';\n",
              "          element.innerHTML = '';\n",
              "          dataTable['output_type'] = 'display_data';\n",
              "          await google.colab.output.renderOutput(dataTable, element);\n",
              "          const docLink = document.createElement('div');\n",
              "          docLink.innerHTML = docLinkHtml;\n",
              "          element.appendChild(docLink);\n",
              "        }\n",
              "      </script>\n",
              "    </div>\n",
              "  </div>\n",
              "  "
            ],
            "text/plain": [
              "                              NFT  Floor Price  ...  Total Assets  Owner Ratio\n",
              "6                            LAND       3.8000  ...      143950.0    13.645710\n",
              "14      Decentral Games ICE Poker       2.0400  ...       14533.0    23.106035\n",
              "15                     Metroverse       0.9800  ...       10000.0     5.630000\n",
              "26   Forgotten Runes Wizards Cult       2.2900  ...        9409.0    29.195451\n",
              "30                Crypto Unicorns       1.8900  ...       10000.0     5.190000\n",
              "34                       MetaHero       4.6000  ...        6457.0     4.816478\n",
              "43       Sneaky Vampire Syndicate       0.9800  ...        8888.0    16.246625\n",
              "44                       BYO Land       0.7000  ...       10056.0    28.679395\n",
              "48                   loomlock NFT       0.8500  ...        9546.0    26.199455\n",
              "54          MoonCats - Acclimated       0.6000  ...       18903.0    29.492673\n",
              "61                   Samurai Saga       0.1979  ...        9999.0    18.531853\n",
              "65                      Anonymice       1.7450  ...       10000.0     3.500000\n",
              "74   Citizens of Bulliever Island       0.1730  ...       10000.0    22.580000\n",
              "76         Wizards & Dragons Game       0.0299  ...       46169.0     7.301436\n",
              "77           iNFT Personality Pod       0.2200  ...        9811.0    18.999083\n",
              "85                        HeadDAO       0.0890  ...       10000.0    10.480000\n",
              "86            Star Sailor Sibings       0.0650  ...       10100.0    27.554455\n",
              "88                        Feudalz       0.1250  ...        4444.0     7.875788\n",
              "90                       Avastars       0.1100  ...       25455.0    19.473581\n",
              "95                      Ethermore       0.0230  ...       15000.0    19.066667\n",
              "100               Bored Ape Comic       0.0290  ...        9999.0    27.052705\n",
              "106                  Genesis Mana       0.1680  ...        7712.0     7.689315\n",
              "109                 Space Poggers       0.0150  ...       12442.0    27.704549\n",
              "113                        Skullx       0.0350  ...       10000.0    25.720000\n",
              "114             Cometh Spaceships       0.0650  ...       11357.0     5.969886\n",
              "115                   Derpy Birbs       0.0090  ...        8192.0    22.497559\n",
              "116                 CryptoZombiez       0.0300  ...        5555.0    14.635464\n",
              "119                  Passive Apes       0.0000  ...        4500.0    27.533333\n",
              "\n",
              "[28 rows x 9 columns]"
            ]
          },
          "metadata": {},
          "execution_count": 87
        }
      ]
    },
    {
      "cell_type": "markdown",
      "source": [
        "###Fazendo relações com o floor price:"
      ],
      "metadata": {
        "id": "Ast_X_L8k1kS"
      }
    },
    {
      "cell_type": "code",
      "source": [
        "df_sold_in['Floor Price']"
      ],
      "metadata": {
        "id": "U7G13qQCiyGG",
        "colab": {
          "base_uri": "https://localhost:8080/"
        },
        "outputId": "15ae45f1-410c-4e7a-82f5-349b1b933c4f"
      },
      "execution_count": 88,
      "outputs": [
        {
          "output_type": "execute_result",
          "data": {
            "text/plain": [
              "6      3.8000\n",
              "14     2.0400\n",
              "15     0.9800\n",
              "26     2.2900\n",
              "30     1.8900\n",
              "34     4.6000\n",
              "43     0.9800\n",
              "44     0.7000\n",
              "48     0.8500\n",
              "54     0.6000\n",
              "61     0.1979\n",
              "65     1.7450\n",
              "74     0.1730\n",
              "76     0.0299\n",
              "77     0.2200\n",
              "85     0.0890\n",
              "86     0.0650\n",
              "88     0.1250\n",
              "90     0.1100\n",
              "95     0.0230\n",
              "100    0.0290\n",
              "106    0.1680\n",
              "109    0.0150\n",
              "113    0.0350\n",
              "114    0.0650\n",
              "115    0.0090\n",
              "116    0.0300\n",
              "119    0.0000\n",
              "Name: Floor Price, dtype: float64"
            ]
          },
          "metadata": {},
          "execution_count": 88
        }
      ]
    },
    {
      "cell_type": "code",
      "source": [
        "df_sold_in['Floor Price']"
      ],
      "metadata": {
        "id": "VZJuiTnimIX4",
        "colab": {
          "base_uri": "https://localhost:8080/"
        },
        "outputId": "2174c320-8580-45f6-a8e5-b069348429aa"
      },
      "execution_count": 89,
      "outputs": [
        {
          "output_type": "execute_result",
          "data": {
            "text/plain": [
              "6      3.8000\n",
              "14     2.0400\n",
              "15     0.9800\n",
              "26     2.2900\n",
              "30     1.8900\n",
              "34     4.6000\n",
              "43     0.9800\n",
              "44     0.7000\n",
              "48     0.8500\n",
              "54     0.6000\n",
              "61     0.1979\n",
              "65     1.7450\n",
              "74     0.1730\n",
              "76     0.0299\n",
              "77     0.2200\n",
              "85     0.0890\n",
              "86     0.0650\n",
              "88     0.1250\n",
              "90     0.1100\n",
              "95     0.0230\n",
              "100    0.0290\n",
              "106    0.1680\n",
              "109    0.0150\n",
              "113    0.0350\n",
              "114    0.0650\n",
              "115    0.0090\n",
              "116    0.0300\n",
              "119    0.0000\n",
              "Name: Floor Price, dtype: float64"
            ]
          },
          "metadata": {},
          "execution_count": 89
        }
      ]
    },
    {
      "cell_type": "code",
      "source": [
        "df_sold_in['Floor Price'] = df_sold_in['Floor Price'].astype(float)"
      ],
      "metadata": {
        "id": "YQ90zy1RmJdm",
        "colab": {
          "base_uri": "https://localhost:8080/"
        },
        "outputId": "5e6eadc3-4bd7-416e-de66-a0d9ec296ab1"
      },
      "execution_count": 90,
      "outputs": [
        {
          "output_type": "stream",
          "name": "stderr",
          "text": [
            "/usr/local/lib/python3.7/dist-packages/ipykernel_launcher.py:1: SettingWithCopyWarning: \n",
            "A value is trying to be set on a copy of a slice from a DataFrame.\n",
            "Try using .loc[row_indexer,col_indexer] = value instead\n",
            "\n",
            "See the caveats in the documentation: https://pandas.pydata.org/pandas-docs/stable/user_guide/indexing.html#returning-a-view-versus-a-copy\n",
            "  \"\"\"Entry point for launching an IPython kernel.\n"
          ]
        }
      ]
    },
    {
      "cell_type": "code",
      "source": [
        "df3 = df_sold_in[df_sold_in['Floor Price'] < 22]"
      ],
      "metadata": {
        "id": "OAkGyFL3nz0J"
      },
      "execution_count": 91,
      "outputs": []
    },
    {
      "cell_type": "code",
      "source": [
        "df3['Floor Price'].describe()"
      ],
      "metadata": {
        "id": "AXWKdyeVmNkW",
        "colab": {
          "base_uri": "https://localhost:8080/"
        },
        "outputId": "c04ec93a-3af5-4854-f9d6-f2bf5a816561"
      },
      "execution_count": 92,
      "outputs": [
        {
          "output_type": "execute_result",
          "data": {
            "text/plain": [
              "count    28.000000\n",
              "mean      0.780671\n",
              "std       1.190177\n",
              "min       0.000000\n",
              "25%       0.033750\n",
              "50%       0.170500\n",
              "75%       0.980000\n",
              "max       4.600000\n",
              "Name: Floor Price, dtype: float64"
            ]
          },
          "metadata": {},
          "execution_count": 92
        }
      ]
    },
    {
      "cell_type": "code",
      "source": [
        "df2 = pd.DataFrame([df3['Owner Ratio'], df3['Floor Price']])"
      ],
      "metadata": {
        "id": "07QJiRHGmS4q"
      },
      "execution_count": 93,
      "outputs": []
    },
    {
      "cell_type": "code",
      "source": [
        "df2 = df2.transpose()"
      ],
      "metadata": {
        "id": "K2UehkKrnN89"
      },
      "execution_count": 141,
      "outputs": []
    },
    {
      "cell_type": "code",
      "source": [
        "df2.corr(method=\"pearson\")"
      ],
      "metadata": {
        "id": "9Ala3fgNndCa",
        "colab": {
          "base_uri": "https://localhost:8080/",
          "height": 112
        },
        "outputId": "2e8ee6f8-e534-4e9d-9453-b099243a7b37"
      },
      "execution_count": 142,
      "outputs": [
        {
          "output_type": "execute_result",
          "data": {
            "text/html": [
              "\n",
              "  <div id=\"df-8edd4127-a82f-460d-8ef4-1962a973b4d2\">\n",
              "    <div class=\"colab-df-container\">\n",
              "      <div>\n",
              "<style scoped>\n",
              "    .dataframe tbody tr th:only-of-type {\n",
              "        vertical-align: middle;\n",
              "    }\n",
              "\n",
              "    .dataframe tbody tr th {\n",
              "        vertical-align: top;\n",
              "    }\n",
              "\n",
              "    .dataframe thead th {\n",
              "        text-align: right;\n",
              "    }\n",
              "</style>\n",
              "<table border=\"1\" class=\"dataframe\">\n",
              "  <thead>\n",
              "    <tr style=\"text-align: right;\">\n",
              "      <th></th>\n",
              "      <th>Owners</th>\n",
              "      <th>Total Assets</th>\n",
              "    </tr>\n",
              "  </thead>\n",
              "  <tbody>\n",
              "    <tr>\n",
              "      <th>Owners</th>\n",
              "      <td>1.000000</td>\n",
              "      <td>0.725195</td>\n",
              "    </tr>\n",
              "    <tr>\n",
              "      <th>Total Assets</th>\n",
              "      <td>0.725195</td>\n",
              "      <td>1.000000</td>\n",
              "    </tr>\n",
              "  </tbody>\n",
              "</table>\n",
              "</div>\n",
              "      <button class=\"colab-df-convert\" onclick=\"convertToInteractive('df-8edd4127-a82f-460d-8ef4-1962a973b4d2')\"\n",
              "              title=\"Convert this dataframe to an interactive table.\"\n",
              "              style=\"display:none;\">\n",
              "        \n",
              "  <svg xmlns=\"http://www.w3.org/2000/svg\" height=\"24px\"viewBox=\"0 0 24 24\"\n",
              "       width=\"24px\">\n",
              "    <path d=\"M0 0h24v24H0V0z\" fill=\"none\"/>\n",
              "    <path d=\"M18.56 5.44l.94 2.06.94-2.06 2.06-.94-2.06-.94-.94-2.06-.94 2.06-2.06.94zm-11 1L8.5 8.5l.94-2.06 2.06-.94-2.06-.94L8.5 2.5l-.94 2.06-2.06.94zm10 10l.94 2.06.94-2.06 2.06-.94-2.06-.94-.94-2.06-.94 2.06-2.06.94z\"/><path d=\"M17.41 7.96l-1.37-1.37c-.4-.4-.92-.59-1.43-.59-.52 0-1.04.2-1.43.59L10.3 9.45l-7.72 7.72c-.78.78-.78 2.05 0 2.83L4 21.41c.39.39.9.59 1.41.59.51 0 1.02-.2 1.41-.59l7.78-7.78 2.81-2.81c.8-.78.8-2.07 0-2.86zM5.41 20L4 18.59l7.72-7.72 1.47 1.35L5.41 20z\"/>\n",
              "  </svg>\n",
              "      </button>\n",
              "      \n",
              "  <style>\n",
              "    .colab-df-container {\n",
              "      display:flex;\n",
              "      flex-wrap:wrap;\n",
              "      gap: 12px;\n",
              "    }\n",
              "\n",
              "    .colab-df-convert {\n",
              "      background-color: #E8F0FE;\n",
              "      border: none;\n",
              "      border-radius: 50%;\n",
              "      cursor: pointer;\n",
              "      display: none;\n",
              "      fill: #1967D2;\n",
              "      height: 32px;\n",
              "      padding: 0 0 0 0;\n",
              "      width: 32px;\n",
              "    }\n",
              "\n",
              "    .colab-df-convert:hover {\n",
              "      background-color: #E2EBFA;\n",
              "      box-shadow: 0px 1px 2px rgba(60, 64, 67, 0.3), 0px 1px 3px 1px rgba(60, 64, 67, 0.15);\n",
              "      fill: #174EA6;\n",
              "    }\n",
              "\n",
              "    [theme=dark] .colab-df-convert {\n",
              "      background-color: #3B4455;\n",
              "      fill: #D2E3FC;\n",
              "    }\n",
              "\n",
              "    [theme=dark] .colab-df-convert:hover {\n",
              "      background-color: #434B5C;\n",
              "      box-shadow: 0px 1px 3px 1px rgba(0, 0, 0, 0.15);\n",
              "      filter: drop-shadow(0px 1px 2px rgba(0, 0, 0, 0.3));\n",
              "      fill: #FFFFFF;\n",
              "    }\n",
              "  </style>\n",
              "\n",
              "      <script>\n",
              "        const buttonEl =\n",
              "          document.querySelector('#df-8edd4127-a82f-460d-8ef4-1962a973b4d2 button.colab-df-convert');\n",
              "        buttonEl.style.display =\n",
              "          google.colab.kernel.accessAllowed ? 'block' : 'none';\n",
              "\n",
              "        async function convertToInteractive(key) {\n",
              "          const element = document.querySelector('#df-8edd4127-a82f-460d-8ef4-1962a973b4d2');\n",
              "          const dataTable =\n",
              "            await google.colab.kernel.invokeFunction('convertToInteractive',\n",
              "                                                     [key], {});\n",
              "          if (!dataTable) return;\n",
              "\n",
              "          const docLinkHtml = 'Like what you see? Visit the ' +\n",
              "            '<a target=\"_blank\" href=https://colab.research.google.com/notebooks/data_table.ipynb>data table notebook</a>'\n",
              "            + ' to learn more about interactive tables.';\n",
              "          element.innerHTML = '';\n",
              "          dataTable['output_type'] = 'display_data';\n",
              "          await google.colab.output.renderOutput(dataTable, element);\n",
              "          const docLink = document.createElement('div');\n",
              "          docLink.innerHTML = docLinkHtml;\n",
              "          element.appendChild(docLink);\n",
              "        }\n",
              "      </script>\n",
              "    </div>\n",
              "  </div>\n",
              "  "
            ],
            "text/plain": [
              "                Owners  Total Assets\n",
              "Owners        1.000000      0.725195\n",
              "Total Assets  0.725195      1.000000"
            ]
          },
          "metadata": {},
          "execution_count": 142
        }
      ]
    },
    {
      "cell_type": "code",
      "source": [
        ""
      ],
      "metadata": {
        "id": "6A7hQB-pnnMo"
      },
      "execution_count": 95,
      "outputs": []
    }
  ]
}