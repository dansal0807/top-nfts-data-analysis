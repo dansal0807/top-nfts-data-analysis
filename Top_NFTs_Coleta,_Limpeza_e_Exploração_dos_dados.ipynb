{
  "nbformat": 4,
  "nbformat_minor": 0,
  "metadata": {
    "colab": {
      "name": "Top-NFTs - Coleta, Limpeza e Exploração dos dados.ipynb",
      "provenance": []
    },
    "kernelspec": {
      "name": "python3",
      "display_name": "Python 3"
    },
    "language_info": {
      "name": "python"
    }
  },
  "cells": [
    {
      "cell_type": "markdown",
      "source": [
        "#Importando as Bibliotecas:"
      ],
      "metadata": {
        "id": "5vh35CtnLfxH"
      }
    },
    {
      "cell_type": "code",
      "execution_count": 143,
      "metadata": {
        "id": "c2oc3bhRmRk6"
      },
      "outputs": [],
      "source": [
        "import pandas as pd\n",
        "import requests\n",
        "from bs4 import BeautifulSoup as bs\n",
        "\n",
        "import matplotlib.pyplot as plt\n",
        "import seaborn as sns"
      ]
    },
    {
      "cell_type": "markdown",
      "source": [
        "#1ºParte: Coleta de dados e preparação do dataframe:"
      ],
      "metadata": {
        "id": "L_vb_pu0Ljvi"
      }
    },
    {
      "cell_type": "markdown",
      "source": [
        "Interessante notar que cada vez que os comandos abaixo são postos para funcionar, os preços e volumes são constantemente atualizados. Isso gera uma dificuldade, mas também gera uma análise mais precisa que deve considerar a mudança dos preços."
      ],
      "metadata": {
        "id": "qj3GAGeQzAii"
      }
    },
    {
      "cell_type": "markdown",
      "source": [
        "##Fazendo requisição da API da coingecko:"
      ],
      "metadata": {
        "id": "HsHRh4lUUn0T"
      }
    },
    {
      "cell_type": "code",
      "source": [
        "request = requests.get(\"https://www.coingecko.com/en/nft\").text"
      ],
      "metadata": {
        "id": "XudfWz_ooGHC"
      },
      "execution_count": 144,
      "outputs": []
    },
    {
      "cell_type": "code",
      "source": [
        "df = pd.read_html(request)"
      ],
      "metadata": {
        "id": "2D2QdNWIomlc"
      },
      "execution_count": 145,
      "outputs": []
    },
    {
      "cell_type": "code",
      "source": [
        "df1 = df[0]"
      ],
      "metadata": {
        "id": "iFGHeVHAondA"
      },
      "execution_count": 146,
      "outputs": []
    },
    {
      "cell_type": "code",
      "source": [
        "df1"
      ],
      "metadata": {
        "colab": {
          "base_uri": "https://localhost:8080/",
          "height": 833
        },
        "id": "_z_WbZ5BSIfX",
        "outputId": "22bbe213-00dd-4ec9-8561-1635870db62c"
      },
      "execution_count": 147,
      "outputs": [
        {
          "output_type": "execute_result",
          "data": {
            "text/html": [
              "\n",
              "  <div id=\"df-f0da0c28-adec-4f1b-9c78-e468b32a5b51\">\n",
              "    <div class=\"colab-df-container\">\n",
              "      <div>\n",
              "<style scoped>\n",
              "    .dataframe tbody tr th:only-of-type {\n",
              "        vertical-align: middle;\n",
              "    }\n",
              "\n",
              "    .dataframe tbody tr th {\n",
              "        vertical-align: top;\n",
              "    }\n",
              "\n",
              "    .dataframe thead th {\n",
              "        text-align: right;\n",
              "    }\n",
              "</style>\n",
              "<table border=\"1\" class=\"dataframe\">\n",
              "  <thead>\n",
              "    <tr style=\"text-align: right;\">\n",
              "      <th></th>\n",
              "      <th>#</th>\n",
              "      <th>NFT</th>\n",
              "      <th>Floor Price</th>\n",
              "      <th>24h</th>\n",
              "      <th>7d</th>\n",
              "      <th>Market Cap</th>\n",
              "      <th>24h Volume</th>\n",
              "      <th>Owners</th>\n",
              "      <th>24h Owners</th>\n",
              "      <th>Total Assets</th>\n",
              "    </tr>\n",
              "  </thead>\n",
              "  <tbody>\n",
              "    <tr>\n",
              "      <th>0</th>\n",
              "      <td>1</td>\n",
              "      <td>Meebits</td>\n",
              "      <td>2.93 ETH</td>\n",
              "      <td>-7.5%</td>\n",
              "      <td>NaN</td>\n",
              "      <td>58,600.0 ETH</td>\n",
              "      <td>11,006.79 ETH</td>\n",
              "      <td>5750.0</td>\n",
              "      <td>0.0%</td>\n",
              "      <td>20000.0</td>\n",
              "    </tr>\n",
              "    <tr>\n",
              "      <th>1</th>\n",
              "      <td>2</td>\n",
              "      <td>dotdotdots</td>\n",
              "      <td>0.194 ETH</td>\n",
              "      <td>-10.7%</td>\n",
              "      <td>NaN</td>\n",
              "      <td>944.78 ETH</td>\n",
              "      <td>5,342.72 ETH</td>\n",
              "      <td>2654.0</td>\n",
              "      <td>0.2%</td>\n",
              "      <td>4870.0</td>\n",
              "    </tr>\n",
              "    <tr>\n",
              "      <th>2</th>\n",
              "      <td>3</td>\n",
              "      <td>Azuki</td>\n",
              "      <td>14.0 ETH</td>\n",
              "      <td>-8.2%</td>\n",
              "      <td>NaN</td>\n",
              "      <td>140,000.0 ETH</td>\n",
              "      <td>809.84 ETH</td>\n",
              "      <td>5407.0</td>\n",
              "      <td>0.1%</td>\n",
              "      <td>10000.0</td>\n",
              "    </tr>\n",
              "    <tr>\n",
              "      <th>3</th>\n",
              "      <td>4</td>\n",
              "      <td>Bored Ape Yacht Club</td>\n",
              "      <td>93.0 ETH</td>\n",
              "      <td>-10.1%</td>\n",
              "      <td>NaN</td>\n",
              "      <td>930,000.0 ETH</td>\n",
              "      <td>708.88 ETH</td>\n",
              "      <td>6312.0</td>\n",
              "      <td>-0.0%</td>\n",
              "      <td>10000.0</td>\n",
              "    </tr>\n",
              "    <tr>\n",
              "      <th>4</th>\n",
              "      <td>5</td>\n",
              "      <td>CloneX</td>\n",
              "      <td>13.45555 ETH</td>\n",
              "      <td>-15.0%</td>\n",
              "      <td>NaN</td>\n",
              "      <td>254,027.33 ETH</td>\n",
              "      <td>704.94 ETH</td>\n",
              "      <td>8308.0</td>\n",
              "      <td>0.2%</td>\n",
              "      <td>18879.0</td>\n",
              "    </tr>\n",
              "    <tr>\n",
              "      <th>5</th>\n",
              "      <td>6</td>\n",
              "      <td>Mutant Ape Yacht Club</td>\n",
              "      <td>17.99 ETH</td>\n",
              "      <td>-10.9%</td>\n",
              "      <td>NaN</td>\n",
              "      <td>323,118.39 ETH</td>\n",
              "      <td>700.41 ETH</td>\n",
              "      <td>11761.0</td>\n",
              "      <td>0.1%</td>\n",
              "      <td>17961.0</td>\n",
              "    </tr>\n",
              "    <tr>\n",
              "      <th>6</th>\n",
              "      <td>7</td>\n",
              "      <td>Metroverse</td>\n",
              "      <td>2.19 ETH</td>\n",
              "      <td>48.2%</td>\n",
              "      <td>NaN</td>\n",
              "      <td>21,900.0 ETH</td>\n",
              "      <td>542.05 ETH</td>\n",
              "      <td>440.0</td>\n",
              "      <td>-8.5%</td>\n",
              "      <td>10000.0</td>\n",
              "    </tr>\n",
              "    <tr>\n",
              "      <th>7</th>\n",
              "      <td>8</td>\n",
              "      <td>LAND</td>\n",
              "      <td>3.6 ETH</td>\n",
              "      <td>-10.0%</td>\n",
              "      <td>NaN</td>\n",
              "      <td>540,259.2 ETH</td>\n",
              "      <td>452.0 ETH</td>\n",
              "      <td>19758.0</td>\n",
              "      <td>0.2%</td>\n",
              "      <td>150072.0</td>\n",
              "    </tr>\n",
              "    <tr>\n",
              "      <th>8</th>\n",
              "      <td>9</td>\n",
              "      <td>Cool Pets</td>\n",
              "      <td>2.1 ETH</td>\n",
              "      <td>-12.4%</td>\n",
              "      <td>NaN</td>\n",
              "      <td>39,026.4 ETH</td>\n",
              "      <td>375.02 ETH</td>\n",
              "      <td>10567.0</td>\n",
              "      <td>-0.2%</td>\n",
              "      <td>18584.0</td>\n",
              "    </tr>\n",
              "    <tr>\n",
              "      <th>9</th>\n",
              "      <td>10</td>\n",
              "      <td>Decentral Games ICE Poker</td>\n",
              "      <td>1.9 ETH</td>\n",
              "      <td>-10.4%</td>\n",
              "      <td>NaN</td>\n",
              "      <td>27,612.7 ETH</td>\n",
              "      <td>347.6 ETH</td>\n",
              "      <td>3358.0</td>\n",
              "      <td>0.0%</td>\n",
              "      <td>14533.0</td>\n",
              "    </tr>\n",
              "    <tr>\n",
              "      <th>10</th>\n",
              "      <td>11</td>\n",
              "      <td>CryptoPunks</td>\n",
              "      <td>67.95 ETH</td>\n",
              "      <td>-9.5%</td>\n",
              "      <td>NaN</td>\n",
              "      <td>679,432.05 ETH</td>\n",
              "      <td>343.13 ETH</td>\n",
              "      <td>3391.0</td>\n",
              "      <td>0.0%</td>\n",
              "      <td>9999.0</td>\n",
              "    </tr>\n",
              "    <tr>\n",
              "      <th>11</th>\n",
              "      <td>12</td>\n",
              "      <td>Doodles</td>\n",
              "      <td>13.3 ETH</td>\n",
              "      <td>-6.0%</td>\n",
              "      <td>NaN</td>\n",
              "      <td>133,000.0 ETH</td>\n",
              "      <td>267.42 ETH</td>\n",
              "      <td>6041.0</td>\n",
              "      <td>0.4%</td>\n",
              "      <td>10000.0</td>\n",
              "    </tr>\n",
              "    <tr>\n",
              "      <th>12</th>\n",
              "      <td>13</td>\n",
              "      <td>Cool Cats</td>\n",
              "      <td>9.4 ETH</td>\n",
              "      <td>-20.1%</td>\n",
              "      <td>NaN</td>\n",
              "      <td>93,370.2 ETH</td>\n",
              "      <td>213.13 ETH</td>\n",
              "      <td>5158.0</td>\n",
              "      <td>0.1%</td>\n",
              "      <td>9933.0</td>\n",
              "    </tr>\n",
              "    <tr>\n",
              "      <th>13</th>\n",
              "      <td>14</td>\n",
              "      <td>OnChainMonkey</td>\n",
              "      <td>1.7878 ETH</td>\n",
              "      <td>-4.3%</td>\n",
              "      <td>NaN</td>\n",
              "      <td>16,984.1 ETH</td>\n",
              "      <td>151.45 ETH</td>\n",
              "      <td>3000.0</td>\n",
              "      <td>0.0%</td>\n",
              "      <td>9500.0</td>\n",
              "    </tr>\n",
              "    <tr>\n",
              "      <th>14</th>\n",
              "      <td>15</td>\n",
              "      <td>World of Women</td>\n",
              "      <td>9.9 ETH</td>\n",
              "      <td>-6.2%</td>\n",
              "      <td>NaN</td>\n",
              "      <td>99,000.0 ETH</td>\n",
              "      <td>131.83 ETH</td>\n",
              "      <td>5073.0</td>\n",
              "      <td>0.1%</td>\n",
              "      <td>10000.0</td>\n",
              "    </tr>\n",
              "    <tr>\n",
              "      <th>15</th>\n",
              "      <td>16</td>\n",
              "      <td>FLUF World</td>\n",
              "      <td>4.2 ETH</td>\n",
              "      <td>-16.0%</td>\n",
              "      <td>NaN</td>\n",
              "      <td>42,000.0 ETH</td>\n",
              "      <td>106.48 ETH</td>\n",
              "      <td>3577.0</td>\n",
              "      <td>0.1%</td>\n",
              "      <td>10000.0</td>\n",
              "    </tr>\n",
              "    <tr>\n",
              "      <th>16</th>\n",
              "      <td>17</td>\n",
              "      <td>CyberKongz</td>\n",
              "      <td>9.4 ETH</td>\n",
              "      <td>-5.3%</td>\n",
              "      <td>NaN</td>\n",
              "      <td>47,000.0 ETH</td>\n",
              "      <td>90.31 ETH</td>\n",
              "      <td>2441.0</td>\n",
              "      <td>0.1%</td>\n",
              "      <td>5000.0</td>\n",
              "    </tr>\n",
              "    <tr>\n",
              "      <th>17</th>\n",
              "      <td>18</td>\n",
              "      <td>Phanta Bear</td>\n",
              "      <td>1.4 ETH</td>\n",
              "      <td>0.6%</td>\n",
              "      <td>NaN</td>\n",
              "      <td>14,000.0 ETH</td>\n",
              "      <td>83.49 ETH</td>\n",
              "      <td>5349.0</td>\n",
              "      <td>-0.4%</td>\n",
              "      <td>10000.0</td>\n",
              "    </tr>\n",
              "    <tr>\n",
              "      <th>18</th>\n",
              "      <td>19</td>\n",
              "      <td>Zipcy's SuperNormal</td>\n",
              "      <td>0.85 ETH</td>\n",
              "      <td>-13.5%</td>\n",
              "      <td>NaN</td>\n",
              "      <td>7,554.8 ETH</td>\n",
              "      <td>81.27 ETH</td>\n",
              "      <td>4827.0</td>\n",
              "      <td>-0.3%</td>\n",
              "      <td>8888.0</td>\n",
              "    </tr>\n",
              "    <tr>\n",
              "      <th>19</th>\n",
              "      <td>20</td>\n",
              "      <td>Boss Beauties</td>\n",
              "      <td>1.94 ETH</td>\n",
              "      <td>-10.0%</td>\n",
              "      <td>NaN</td>\n",
              "      <td>19,400.0 ETH</td>\n",
              "      <td>69.17 ETH</td>\n",
              "      <td>5444.0</td>\n",
              "      <td>0.0%</td>\n",
              "      <td>10000.0</td>\n",
              "    </tr>\n",
              "    <tr>\n",
              "      <th>20</th>\n",
              "      <td>21</td>\n",
              "      <td>PUNKS Comic</td>\n",
              "      <td>0.18 ETH</td>\n",
              "      <td>-8.4%</td>\n",
              "      <td>NaN</td>\n",
              "      <td>4,176.72 ETH</td>\n",
              "      <td>52.82 ETH</td>\n",
              "      <td>8286.0</td>\n",
              "      <td>0.4%</td>\n",
              "      <td>23204.0</td>\n",
              "    </tr>\n",
              "    <tr>\n",
              "      <th>21</th>\n",
              "      <td>22</td>\n",
              "      <td>MetaHero</td>\n",
              "      <td>4.9 ETH</td>\n",
              "      <td>-3.5%</td>\n",
              "      <td>NaN</td>\n",
              "      <td>31,649.1 ETH</td>\n",
              "      <td>51.94 ETH</td>\n",
              "      <td>299.0</td>\n",
              "      <td>-0.7%</td>\n",
              "      <td>6459.0</td>\n",
              "    </tr>\n",
              "    <tr>\n",
              "      <th>22</th>\n",
              "      <td>23</td>\n",
              "      <td>Chain Runners</td>\n",
              "      <td>1.025 ETH</td>\n",
              "      <td>-1.1%</td>\n",
              "      <td>NaN</td>\n",
              "      <td>10,250.0 ETH</td>\n",
              "      <td>47.48 ETH</td>\n",
              "      <td>3290.0</td>\n",
              "      <td>0.4%</td>\n",
              "      <td>10000.0</td>\n",
              "    </tr>\n",
              "    <tr>\n",
              "      <th>23</th>\n",
              "      <td>24</td>\n",
              "      <td>Crypto Coven</td>\n",
              "      <td>1.45 ETH</td>\n",
              "      <td>-25.6%</td>\n",
              "      <td>NaN</td>\n",
              "      <td>14,147.65 ETH</td>\n",
              "      <td>43.81 ETH</td>\n",
              "      <td>4759.0</td>\n",
              "      <td>0.1%</td>\n",
              "      <td>9757.0</td>\n",
              "    </tr>\n",
              "    <tr>\n",
              "      <th>24</th>\n",
              "      <td>25</td>\n",
              "      <td>LilHeroes</td>\n",
              "      <td>0.51 ETH</td>\n",
              "      <td>-11.4%</td>\n",
              "      <td>NaN</td>\n",
              "      <td>3,965.76 ETH</td>\n",
              "      <td>43.52 ETH</td>\n",
              "      <td>3942.0</td>\n",
              "      <td>-0.4%</td>\n",
              "      <td>7776.0</td>\n",
              "    </tr>\n",
              "  </tbody>\n",
              "</table>\n",
              "</div>\n",
              "      <button class=\"colab-df-convert\" onclick=\"convertToInteractive('df-f0da0c28-adec-4f1b-9c78-e468b32a5b51')\"\n",
              "              title=\"Convert this dataframe to an interactive table.\"\n",
              "              style=\"display:none;\">\n",
              "        \n",
              "  <svg xmlns=\"http://www.w3.org/2000/svg\" height=\"24px\"viewBox=\"0 0 24 24\"\n",
              "       width=\"24px\">\n",
              "    <path d=\"M0 0h24v24H0V0z\" fill=\"none\"/>\n",
              "    <path d=\"M18.56 5.44l.94 2.06.94-2.06 2.06-.94-2.06-.94-.94-2.06-.94 2.06-2.06.94zm-11 1L8.5 8.5l.94-2.06 2.06-.94-2.06-.94L8.5 2.5l-.94 2.06-2.06.94zm10 10l.94 2.06.94-2.06 2.06-.94-2.06-.94-.94-2.06-.94 2.06-2.06.94z\"/><path d=\"M17.41 7.96l-1.37-1.37c-.4-.4-.92-.59-1.43-.59-.52 0-1.04.2-1.43.59L10.3 9.45l-7.72 7.72c-.78.78-.78 2.05 0 2.83L4 21.41c.39.39.9.59 1.41.59.51 0 1.02-.2 1.41-.59l7.78-7.78 2.81-2.81c.8-.78.8-2.07 0-2.86zM5.41 20L4 18.59l7.72-7.72 1.47 1.35L5.41 20z\"/>\n",
              "  </svg>\n",
              "      </button>\n",
              "      \n",
              "  <style>\n",
              "    .colab-df-container {\n",
              "      display:flex;\n",
              "      flex-wrap:wrap;\n",
              "      gap: 12px;\n",
              "    }\n",
              "\n",
              "    .colab-df-convert {\n",
              "      background-color: #E8F0FE;\n",
              "      border: none;\n",
              "      border-radius: 50%;\n",
              "      cursor: pointer;\n",
              "      display: none;\n",
              "      fill: #1967D2;\n",
              "      height: 32px;\n",
              "      padding: 0 0 0 0;\n",
              "      width: 32px;\n",
              "    }\n",
              "\n",
              "    .colab-df-convert:hover {\n",
              "      background-color: #E2EBFA;\n",
              "      box-shadow: 0px 1px 2px rgba(60, 64, 67, 0.3), 0px 1px 3px 1px rgba(60, 64, 67, 0.15);\n",
              "      fill: #174EA6;\n",
              "    }\n",
              "\n",
              "    [theme=dark] .colab-df-convert {\n",
              "      background-color: #3B4455;\n",
              "      fill: #D2E3FC;\n",
              "    }\n",
              "\n",
              "    [theme=dark] .colab-df-convert:hover {\n",
              "      background-color: #434B5C;\n",
              "      box-shadow: 0px 1px 3px 1px rgba(0, 0, 0, 0.15);\n",
              "      filter: drop-shadow(0px 1px 2px rgba(0, 0, 0, 0.3));\n",
              "      fill: #FFFFFF;\n",
              "    }\n",
              "  </style>\n",
              "\n",
              "      <script>\n",
              "        const buttonEl =\n",
              "          document.querySelector('#df-f0da0c28-adec-4f1b-9c78-e468b32a5b51 button.colab-df-convert');\n",
              "        buttonEl.style.display =\n",
              "          google.colab.kernel.accessAllowed ? 'block' : 'none';\n",
              "\n",
              "        async function convertToInteractive(key) {\n",
              "          const element = document.querySelector('#df-f0da0c28-adec-4f1b-9c78-e468b32a5b51');\n",
              "          const dataTable =\n",
              "            await google.colab.kernel.invokeFunction('convertToInteractive',\n",
              "                                                     [key], {});\n",
              "          if (!dataTable) return;\n",
              "\n",
              "          const docLinkHtml = 'Like what you see? Visit the ' +\n",
              "            '<a target=\"_blank\" href=https://colab.research.google.com/notebooks/data_table.ipynb>data table notebook</a>'\n",
              "            + ' to learn more about interactive tables.';\n",
              "          element.innerHTML = '';\n",
              "          dataTable['output_type'] = 'display_data';\n",
              "          await google.colab.output.renderOutput(dataTable, element);\n",
              "          const docLink = document.createElement('div');\n",
              "          docLink.innerHTML = docLinkHtml;\n",
              "          element.appendChild(docLink);\n",
              "        }\n",
              "      </script>\n",
              "    </div>\n",
              "  </div>\n",
              "  "
            ],
            "text/plain": [
              "     #                        NFT  ... 24h Owners Total Assets\n",
              "0    1                    Meebits  ...       0.0%      20000.0\n",
              "1    2                 dotdotdots  ...       0.2%       4870.0\n",
              "2    3                      Azuki  ...       0.1%      10000.0\n",
              "3    4       Bored Ape Yacht Club  ...      -0.0%      10000.0\n",
              "4    5                     CloneX  ...       0.2%      18879.0\n",
              "5    6      Mutant Ape Yacht Club  ...       0.1%      17961.0\n",
              "6    7                 Metroverse  ...      -8.5%      10000.0\n",
              "7    8                       LAND  ...       0.2%     150072.0\n",
              "8    9                  Cool Pets  ...      -0.2%      18584.0\n",
              "9   10  Decentral Games ICE Poker  ...       0.0%      14533.0\n",
              "10  11                CryptoPunks  ...       0.0%       9999.0\n",
              "11  12                    Doodles  ...       0.4%      10000.0\n",
              "12  13                  Cool Cats  ...       0.1%       9933.0\n",
              "13  14              OnChainMonkey  ...       0.0%       9500.0\n",
              "14  15             World of Women  ...       0.1%      10000.0\n",
              "15  16                 FLUF World  ...       0.1%      10000.0\n",
              "16  17                 CyberKongz  ...       0.1%       5000.0\n",
              "17  18                Phanta Bear  ...      -0.4%      10000.0\n",
              "18  19        Zipcy's SuperNormal  ...      -0.3%       8888.0\n",
              "19  20              Boss Beauties  ...       0.0%      10000.0\n",
              "20  21                PUNKS Comic  ...       0.4%      23204.0\n",
              "21  22                   MetaHero  ...      -0.7%       6459.0\n",
              "22  23              Chain Runners  ...       0.4%      10000.0\n",
              "23  24               Crypto Coven  ...       0.1%       9757.0\n",
              "24  25                  LilHeroes  ...      -0.4%       7776.0\n",
              "\n",
              "[25 rows x 10 columns]"
            ]
          },
          "metadata": {},
          "execution_count": 147
        }
      ]
    },
    {
      "cell_type": "markdown",
      "source": [
        "- Como eu quero por volta dos últimos 500 NFTs e cada página da coingecko oferece 25 nfts, preciso acessar até a página 20."
      ],
      "metadata": {
        "id": "vzRgZIMlLqsr"
      }
    },
    {
      "cell_type": "code",
      "source": [
        "dfs = []\n",
        "for i in range (2, 6):\n",
        "  request2 = requests.get(f\"https://www.coingecko.com/en/nft?page={i}\").text\n",
        "  df = pd.read_html(request2)\n",
        "  dfs.append(df)"
      ],
      "metadata": {
        "id": "yluQB6A-Kh6d"
      },
      "execution_count": 148,
      "outputs": []
    },
    {
      "cell_type": "code",
      "source": [
        "dfs"
      ],
      "metadata": {
        "colab": {
          "base_uri": "https://localhost:8080/"
        },
        "id": "RqKCglZQR8hk",
        "outputId": "e12be0d9-0b92-41f6-9f5a-56428f1e4caf"
      },
      "execution_count": 149,
      "outputs": [
        {
          "output_type": "execute_result",
          "data": {
            "text/plain": [
              "[[     #                       NFT Floor Price  ...   Owners  24h Owners Total Assets\n",
              "  0   26                Lazy Lions    1.81 ETH  ...   5045.0       -0.0%      10080.0\n",
              "  1   27             Capsule House    1.33 ETH  ...   3770.0       -0.2%      10000.0\n",
              "  2   28  Sneaky Vampire Syndicate    1.35 ETH  ...   1372.0        0.2%       8888.0\n",
              "  3   29                 MekaVerse  1.0479 ETH  ...   5036.0        0.1%       8888.0\n",
              "  4   30              DuskBreakers    0.28 ETH  ...   2900.0       -0.8%      10000.0\n",
              "  5   31                VeeFriends    14.2 ETH  ...   5213.0       -0.0%      10255.0\n",
              "  6   32           Adam Bomb Squad     0.7 ETH  ...   8668.0        0.1%      24999.0\n",
              "  7   33            Lives of Asuna    0.26 ETH  ...   6122.0       -0.3%      10000.0\n",
              "  8   34                  Smilesss     1.4 ETH  ...   4520.0       -0.1%       8733.0\n",
              "  9   35            Creature World    1.15 ETH  ...   6216.0        0.2%      10000.0\n",
              "  10  36            FVCK_CRYSTAL//    2.39 ETH  ...   2097.0        0.1%       4169.0\n",
              "  11  37           Crypto Unicorns    1.67 ETH  ...    519.0        0.0%      10000.0\n",
              "  12  38                  Parallel    0.02 ETH  ...  32794.0        0.2%        421.0\n",
              "  13  39     Neo Tokyo: Identities   14.49 ETH  ...     56.0       -3.4%       2021.0\n",
              "  14  40             JRNY NFT Club     3.9 ETH  ...   6899.0        0.0%      10000.0\n",
              "  15  41                  BYOPills    1.21 ETH  ...   3335.0       -0.1%      10000.0\n",
              "  16  42               OCM Dessert    0.44 ETH  ...   2846.0       -0.4%          3.0\n",
              "  17  43                 CrypToadz    2.65 ETH  ...   3878.0        0.1%       7025.0\n",
              "  18  44                  BYO Land   0.765 ETH  ...   2873.0        0.0%      10056.0\n",
              "  19  45            The Doge Pound    1.45 ETH  ...   5642.0        0.0%      10000.0\n",
              "  20  46           the littles nft    0.58 ETH  ...   5595.0        0.1%      10000.0\n",
              "  21  47            GenesisApostle    0.99 ETH  ...   2472.0        0.0%       7235.0\n",
              "  22  48                 0N1 Force    0.58 ETH  ...   4298.0        0.2%       7777.0\n",
              "  23  49              inbetweeners    0.54 ETH  ...   5741.0       -0.1%      10777.0\n",
              "  24  50              The Currency     3.9 ETH  ...   1728.0        0.1%       2209.0\n",
              "  \n",
              "  [25 rows x 10 columns]],\n",
              " [     #                                   NFT  ... 24h Owners Total Assets\n",
              "  0   51                         PudgyPenguins  ...       0.0%       8888.0\n",
              "  1   52          Forgotten Runes Wizards Cult  ...       0.0%       9408.0\n",
              "  2   53           Curious Addys' Trading Club  ...      -0.0%       5000.0\n",
              "  3   54                 MoonCats - Acclimated  ...       0.2%      18915.0\n",
              "  4   55                                 merge  ...       0.1%      26972.0\n",
              "  5   56  Jenkins the Valet: The Writer's Room  ...       0.2%       6942.0\n",
              "  6   57                       Treeverse Plots  ...       0.0%      10420.0\n",
              "  7   58                            Lost Poets  ...       0.3%      27689.0\n",
              "  8   59                                  Loot  ...      -0.1%       7779.0\n",
              "  9   60                        X Rabbits Club  ...       0.0%       7502.0\n",
              "  10  61                             Hashmasks  ...       0.0%      16370.0\n",
              "  11  62                               Blitmap  ...      -0.2%       1700.0\n",
              "  12  63                              Timeless  ...       0.0%       9421.0\n",
              "  13  64                          Samurai Saga  ...      -0.8%       9999.0\n",
              "  14  65                  iNFT Personality Pod  ...       0.0%       9811.0\n",
              "  15  66                   Global Citizen Club  ...      -0.2%       8888.0\n",
              "  16  67                          loomlock NFT  ...       0.2%       9546.0\n",
              "  17  68                                 8SIAN  ...      -0.2%       8888.0\n",
              "  18  69           Tom Sachs Rocket Components  ...       0.0%       1864.0\n",
              "  19  70                           EtherLambos  ...       0.0%       1600.0\n",
              "  20  71                               Feudalz  ...       0.3%       4444.0\n",
              "  21  72                           CHIBI DINOS  ...       0.1%      10000.0\n",
              "  22  73                Wizards & Dragons Game  ...       0.5%      46169.0\n",
              "  23  74                              IreneDAO  ...      -0.2%       1106.0\n",
              "  24  75                             Anonymice  ...       0.9%      10000.0\n",
              "  \n",
              "  [25 rows x 10 columns]],\n",
              " [      #                           NFT  ... 24h Owners Total Assets\n",
              "  0    76                      Avastars  ...       0.5%      25458.0\n",
              "  1    77  Citizens of Bulliever Island  ...       0.4%      10000.0\n",
              "  2    78                Divine Anarchy  ...      -0.2%      10011.0\n",
              "  3    79                      Animetas  ...       0.3%      10101.0\n",
              "  4    80                SpacePunksClub  ...       0.1%       9995.0\n",
              "  5    81                 Space Poggers  ...       0.6%      12442.0\n",
              "  6    82                   Galaxy Eggs  ...       0.2%       9999.0\n",
              "  7    83                       Fortune  ...       0.0%          4.0\n",
              "  8    84     Koala Intelligence Agency  ...       0.1%      10000.0\n",
              "  9    85                    Lil Pudgys  ...       0.1%      19006.0\n",
              "  10   86      Purrnelopes Country Club  ...       0.1%      10000.0\n",
              "  11   87                    The Sevens  ...       0.3%       7000.0\n",
              "  12   88                 Ethereals WTF  ...      -0.5%      12345.0\n",
              "  13   89                  JunkYardDogs  ...       0.4%       7977.0\n",
              "  14   90                        Cypher  ...      -0.2%       1024.0\n",
              "  15   91                         Bloot  ...       0.1%       8008.0\n",
              "  16   92                 Sipherian Inu  ...       0.0%       9999.0\n",
              "  17   93           The Wicked Craniums  ...       0.0%      10762.0\n",
              "  18   94             Non-Fungible Soup  ...       0.9%       2048.0\n",
              "  19   95          Ready Player Cat NFT  ...       0.0%       4950.0\n",
              "  20   96                       HeadDAO  ...       0.4%      10000.0\n",
              "  21   97                    Chibi Apes  ...       0.1%       3000.0\n",
              "  22   98                HeavenComputer  ...       0.0%       7777.0\n",
              "  23   99           Baby Battle Bots G1  ...       0.5%       3498.0\n",
              "  24  100            Strange Attractors  ...       0.0%        526.0\n",
              "  \n",
              "  [25 rows x 10 columns]],\n",
              " [      #                               NFT  ... 24h Owners Total Assets\n",
              "  0   101                    APE DAO REMIX!  ...       0.0%       5550.0\n",
              "  1   102                       Stoner Cats  ...       0.0%      10419.0\n",
              "  2   103                CryptoDragons Eggs  ...      -0.3%       2799.0\n",
              "  3   104                         Gauntlets  ...       0.0%      10000.0\n",
              "  4   105                  PartyDegenerates  ...       0.1%       9999.0\n",
              "  5   106                    Corruption(s*)  ...       0.1%       4196.0\n",
              "  6   107  CryptoHoots Steampunk Parliament  ...      -0.2%       2500.0\n",
              "  7   108               The Vogu Collective  ...       0.0%       7777.0\n",
              "  8   109               Star Sailor Sibings  ...       0.0%      10100.0\n",
              "  9   110                     Bored Bananas  ...      -0.1%       4027.0\n",
              "  10  111                   Bored Ape Comic  ...      -0.1%       9999.0\n",
              "  11  112                     CryptoZombiez  ...       0.0%       5555.0\n",
              "  12  113                       Satoshibles  ...       0.1%       5000.0\n",
              "  13  114                        Borpacasso  ...      -0.1%       2250.0\n",
              "  14  115                          Metakrew  ...       0.0%       7335.0\n",
              "  15  116                     Tools of Rock  ...       0.0%       7487.0\n",
              "  16  117                AlphaBetty Doodles  ...       0.0%      10000.0\n",
              "  17  118                     Apes of Space  ...       0.0%      10000.0\n",
              "  18  119                            Skullx  ...      -0.0%      10000.0\n",
              "  19  120                 Cometh Spaceships  ...       0.0%      11357.0\n",
              "  20  121                Dark Super Bunnies  ...      -0.1%       4409.0\n",
              "  21  122                  Generative Masks  ...       0.2%       9999.0\n",
              "  22  123                       Dope Shibas  ...       0.1%       9899.0\n",
              "  23  124                 Angry Apes United  ...       0.0%       8888.0\n",
              "  24  125                  MOONDOGS ODYSSEY  ...       0.1%       5000.0\n",
              "  \n",
              "  [25 rows x 10 columns]]]"
            ]
          },
          "metadata": {},
          "execution_count": 149
        }
      ]
    },
    {
      "cell_type": "code",
      "source": [
        "len(dfs)"
      ],
      "metadata": {
        "colab": {
          "base_uri": "https://localhost:8080/"
        },
        "id": "6Jai6uF5R_ad",
        "outputId": "baa6e44e-971b-4347-f36a-8a6935900caa"
      },
      "execution_count": 150,
      "outputs": [
        {
          "output_type": "execute_result",
          "data": {
            "text/plain": [
              "4"
            ]
          },
          "metadata": {},
          "execution_count": 150
        }
      ]
    },
    {
      "cell_type": "code",
      "source": [
        "datasets = []\n",
        "for i in range(len(dfs)):\n",
        "  datasets.append(dfs[i][0])"
      ],
      "metadata": {
        "id": "C1vP8GABMUsB"
      },
      "execution_count": 151,
      "outputs": []
    },
    {
      "cell_type": "code",
      "source": [
        "len(datasets)"
      ],
      "metadata": {
        "colab": {
          "base_uri": "https://localhost:8080/"
        },
        "id": "3g2nDxFuR40o",
        "outputId": "2be6b8b3-83f6-4a8c-b8fc-44f4421b5738"
      },
      "execution_count": 152,
      "outputs": [
        {
          "output_type": "execute_result",
          "data": {
            "text/plain": [
              "4"
            ]
          },
          "metadata": {},
          "execution_count": 152
        }
      ]
    },
    {
      "cell_type": "code",
      "source": [
        "df_final = pd.concat([df1, datasets[0], datasets[1], datasets[2], datasets[3]], ignore_index=True)"
      ],
      "metadata": {
        "id": "WVO9n2rqNSnR"
      },
      "execution_count": 153,
      "outputs": []
    },
    {
      "cell_type": "code",
      "source": [
        "df_final"
      ],
      "metadata": {
        "colab": {
          "base_uri": "https://localhost:8080/",
          "height": 424
        },
        "id": "omXfHi57RY6K",
        "outputId": "b82ab0ae-f84d-4ab2-f617-c2b1ef6467bc"
      },
      "execution_count": 154,
      "outputs": [
        {
          "output_type": "execute_result",
          "data": {
            "text/html": [
              "\n",
              "  <div id=\"df-8724bea7-b40e-4543-9e7b-66770ad871d1\">\n",
              "    <div class=\"colab-df-container\">\n",
              "      <div>\n",
              "<style scoped>\n",
              "    .dataframe tbody tr th:only-of-type {\n",
              "        vertical-align: middle;\n",
              "    }\n",
              "\n",
              "    .dataframe tbody tr th {\n",
              "        vertical-align: top;\n",
              "    }\n",
              "\n",
              "    .dataframe thead th {\n",
              "        text-align: right;\n",
              "    }\n",
              "</style>\n",
              "<table border=\"1\" class=\"dataframe\">\n",
              "  <thead>\n",
              "    <tr style=\"text-align: right;\">\n",
              "      <th></th>\n",
              "      <th>#</th>\n",
              "      <th>NFT</th>\n",
              "      <th>Floor Price</th>\n",
              "      <th>24h</th>\n",
              "      <th>7d</th>\n",
              "      <th>Market Cap</th>\n",
              "      <th>24h Volume</th>\n",
              "      <th>Owners</th>\n",
              "      <th>24h Owners</th>\n",
              "      <th>Total Assets</th>\n",
              "    </tr>\n",
              "  </thead>\n",
              "  <tbody>\n",
              "    <tr>\n",
              "      <th>0</th>\n",
              "      <td>1</td>\n",
              "      <td>Meebits</td>\n",
              "      <td>2.93 ETH</td>\n",
              "      <td>-7.5%</td>\n",
              "      <td>NaN</td>\n",
              "      <td>58,600.0 ETH</td>\n",
              "      <td>11,006.79 ETH</td>\n",
              "      <td>5750.0</td>\n",
              "      <td>0.0%</td>\n",
              "      <td>20000.0</td>\n",
              "    </tr>\n",
              "    <tr>\n",
              "      <th>1</th>\n",
              "      <td>2</td>\n",
              "      <td>dotdotdots</td>\n",
              "      <td>0.194 ETH</td>\n",
              "      <td>-10.7%</td>\n",
              "      <td>NaN</td>\n",
              "      <td>944.78 ETH</td>\n",
              "      <td>5,342.72 ETH</td>\n",
              "      <td>2654.0</td>\n",
              "      <td>0.2%</td>\n",
              "      <td>4870.0</td>\n",
              "    </tr>\n",
              "    <tr>\n",
              "      <th>2</th>\n",
              "      <td>3</td>\n",
              "      <td>Azuki</td>\n",
              "      <td>14.0 ETH</td>\n",
              "      <td>-8.2%</td>\n",
              "      <td>NaN</td>\n",
              "      <td>140,000.0 ETH</td>\n",
              "      <td>809.84 ETH</td>\n",
              "      <td>5407.0</td>\n",
              "      <td>0.1%</td>\n",
              "      <td>10000.0</td>\n",
              "    </tr>\n",
              "    <tr>\n",
              "      <th>3</th>\n",
              "      <td>4</td>\n",
              "      <td>Bored Ape Yacht Club</td>\n",
              "      <td>93.0 ETH</td>\n",
              "      <td>-10.1%</td>\n",
              "      <td>NaN</td>\n",
              "      <td>930,000.0 ETH</td>\n",
              "      <td>708.88 ETH</td>\n",
              "      <td>6312.0</td>\n",
              "      <td>-0.0%</td>\n",
              "      <td>10000.0</td>\n",
              "    </tr>\n",
              "    <tr>\n",
              "      <th>4</th>\n",
              "      <td>5</td>\n",
              "      <td>CloneX</td>\n",
              "      <td>13.45555 ETH</td>\n",
              "      <td>-15.0%</td>\n",
              "      <td>NaN</td>\n",
              "      <td>254,027.33 ETH</td>\n",
              "      <td>704.94 ETH</td>\n",
              "      <td>8308.0</td>\n",
              "      <td>0.2%</td>\n",
              "      <td>18879.0</td>\n",
              "    </tr>\n",
              "    <tr>\n",
              "      <th>...</th>\n",
              "      <td>...</td>\n",
              "      <td>...</td>\n",
              "      <td>...</td>\n",
              "      <td>...</td>\n",
              "      <td>...</td>\n",
              "      <td>...</td>\n",
              "      <td>...</td>\n",
              "      <td>...</td>\n",
              "      <td>...</td>\n",
              "      <td>...</td>\n",
              "    </tr>\n",
              "    <tr>\n",
              "      <th>120</th>\n",
              "      <td>121</td>\n",
              "      <td>Dark Super Bunnies</td>\n",
              "      <td>0.019 ETH</td>\n",
              "      <td>-82.5%</td>\n",
              "      <td>NaN</td>\n",
              "      <td>83.77 ETH</td>\n",
              "      <td>0.1 ETH</td>\n",
              "      <td>1738.0</td>\n",
              "      <td>-0.1%</td>\n",
              "      <td>4409.0</td>\n",
              "    </tr>\n",
              "    <tr>\n",
              "      <th>121</th>\n",
              "      <td>122</td>\n",
              "      <td>Generative Masks</td>\n",
              "      <td>0.08 ETH</td>\n",
              "      <td>-22.4%</td>\n",
              "      <td>NaN</td>\n",
              "      <td>799.92 ETH</td>\n",
              "      <td>0.1 ETH</td>\n",
              "      <td>3461.0</td>\n",
              "      <td>0.2%</td>\n",
              "      <td>9999.0</td>\n",
              "    </tr>\n",
              "    <tr>\n",
              "      <th>122</th>\n",
              "      <td>123</td>\n",
              "      <td>Dope Shibas</td>\n",
              "      <td>0.0111 ETH</td>\n",
              "      <td>-55.8%</td>\n",
              "      <td>NaN</td>\n",
              "      <td>109.88 ETH</td>\n",
              "      <td>0.09 ETH</td>\n",
              "      <td>4002.0</td>\n",
              "      <td>0.1%</td>\n",
              "      <td>9899.0</td>\n",
              "    </tr>\n",
              "    <tr>\n",
              "      <th>123</th>\n",
              "      <td>124</td>\n",
              "      <td>Angry Apes United</td>\n",
              "      <td>0.035 ETH</td>\n",
              "      <td>-7.8%</td>\n",
              "      <td>NaN</td>\n",
              "      <td>311.08 ETH</td>\n",
              "      <td>0.06 ETH</td>\n",
              "      <td>4944.0</td>\n",
              "      <td>0.0%</td>\n",
              "      <td>8888.0</td>\n",
              "    </tr>\n",
              "    <tr>\n",
              "      <th>124</th>\n",
              "      <td>125</td>\n",
              "      <td>MOONDOGS ODYSSEY</td>\n",
              "      <td>0.0199 ETH</td>\n",
              "      <td>-1.4%</td>\n",
              "      <td>NaN</td>\n",
              "      <td>99.5 ETH</td>\n",
              "      <td>0.05 ETH</td>\n",
              "      <td>1930.0</td>\n",
              "      <td>0.1%</td>\n",
              "      <td>5000.0</td>\n",
              "    </tr>\n",
              "  </tbody>\n",
              "</table>\n",
              "<p>125 rows × 10 columns</p>\n",
              "</div>\n",
              "      <button class=\"colab-df-convert\" onclick=\"convertToInteractive('df-8724bea7-b40e-4543-9e7b-66770ad871d1')\"\n",
              "              title=\"Convert this dataframe to an interactive table.\"\n",
              "              style=\"display:none;\">\n",
              "        \n",
              "  <svg xmlns=\"http://www.w3.org/2000/svg\" height=\"24px\"viewBox=\"0 0 24 24\"\n",
              "       width=\"24px\">\n",
              "    <path d=\"M0 0h24v24H0V0z\" fill=\"none\"/>\n",
              "    <path d=\"M18.56 5.44l.94 2.06.94-2.06 2.06-.94-2.06-.94-.94-2.06-.94 2.06-2.06.94zm-11 1L8.5 8.5l.94-2.06 2.06-.94-2.06-.94L8.5 2.5l-.94 2.06-2.06.94zm10 10l.94 2.06.94-2.06 2.06-.94-2.06-.94-.94-2.06-.94 2.06-2.06.94z\"/><path d=\"M17.41 7.96l-1.37-1.37c-.4-.4-.92-.59-1.43-.59-.52 0-1.04.2-1.43.59L10.3 9.45l-7.72 7.72c-.78.78-.78 2.05 0 2.83L4 21.41c.39.39.9.59 1.41.59.51 0 1.02-.2 1.41-.59l7.78-7.78 2.81-2.81c.8-.78.8-2.07 0-2.86zM5.41 20L4 18.59l7.72-7.72 1.47 1.35L5.41 20z\"/>\n",
              "  </svg>\n",
              "      </button>\n",
              "      \n",
              "  <style>\n",
              "    .colab-df-container {\n",
              "      display:flex;\n",
              "      flex-wrap:wrap;\n",
              "      gap: 12px;\n",
              "    }\n",
              "\n",
              "    .colab-df-convert {\n",
              "      background-color: #E8F0FE;\n",
              "      border: none;\n",
              "      border-radius: 50%;\n",
              "      cursor: pointer;\n",
              "      display: none;\n",
              "      fill: #1967D2;\n",
              "      height: 32px;\n",
              "      padding: 0 0 0 0;\n",
              "      width: 32px;\n",
              "    }\n",
              "\n",
              "    .colab-df-convert:hover {\n",
              "      background-color: #E2EBFA;\n",
              "      box-shadow: 0px 1px 2px rgba(60, 64, 67, 0.3), 0px 1px 3px 1px rgba(60, 64, 67, 0.15);\n",
              "      fill: #174EA6;\n",
              "    }\n",
              "\n",
              "    [theme=dark] .colab-df-convert {\n",
              "      background-color: #3B4455;\n",
              "      fill: #D2E3FC;\n",
              "    }\n",
              "\n",
              "    [theme=dark] .colab-df-convert:hover {\n",
              "      background-color: #434B5C;\n",
              "      box-shadow: 0px 1px 3px 1px rgba(0, 0, 0, 0.15);\n",
              "      filter: drop-shadow(0px 1px 2px rgba(0, 0, 0, 0.3));\n",
              "      fill: #FFFFFF;\n",
              "    }\n",
              "  </style>\n",
              "\n",
              "      <script>\n",
              "        const buttonEl =\n",
              "          document.querySelector('#df-8724bea7-b40e-4543-9e7b-66770ad871d1 button.colab-df-convert');\n",
              "        buttonEl.style.display =\n",
              "          google.colab.kernel.accessAllowed ? 'block' : 'none';\n",
              "\n",
              "        async function convertToInteractive(key) {\n",
              "          const element = document.querySelector('#df-8724bea7-b40e-4543-9e7b-66770ad871d1');\n",
              "          const dataTable =\n",
              "            await google.colab.kernel.invokeFunction('convertToInteractive',\n",
              "                                                     [key], {});\n",
              "          if (!dataTable) return;\n",
              "\n",
              "          const docLinkHtml = 'Like what you see? Visit the ' +\n",
              "            '<a target=\"_blank\" href=https://colab.research.google.com/notebooks/data_table.ipynb>data table notebook</a>'\n",
              "            + ' to learn more about interactive tables.';\n",
              "          element.innerHTML = '';\n",
              "          dataTable['output_type'] = 'display_data';\n",
              "          await google.colab.output.renderOutput(dataTable, element);\n",
              "          const docLink = document.createElement('div');\n",
              "          docLink.innerHTML = docLinkHtml;\n",
              "          element.appendChild(docLink);\n",
              "        }\n",
              "      </script>\n",
              "    </div>\n",
              "  </div>\n",
              "  "
            ],
            "text/plain": [
              "       #                   NFT   Floor Price  ...  Owners  24h Owners Total Assets\n",
              "0      1               Meebits      2.93 ETH  ...  5750.0        0.0%      20000.0\n",
              "1      2            dotdotdots     0.194 ETH  ...  2654.0        0.2%       4870.0\n",
              "2      3                 Azuki      14.0 ETH  ...  5407.0        0.1%      10000.0\n",
              "3      4  Bored Ape Yacht Club      93.0 ETH  ...  6312.0       -0.0%      10000.0\n",
              "4      5                CloneX  13.45555 ETH  ...  8308.0        0.2%      18879.0\n",
              "..   ...                   ...           ...  ...     ...         ...          ...\n",
              "120  121    Dark Super Bunnies     0.019 ETH  ...  1738.0       -0.1%       4409.0\n",
              "121  122      Generative Masks      0.08 ETH  ...  3461.0        0.2%       9999.0\n",
              "122  123           Dope Shibas    0.0111 ETH  ...  4002.0        0.1%       9899.0\n",
              "123  124     Angry Apes United     0.035 ETH  ...  4944.0        0.0%       8888.0\n",
              "124  125      MOONDOGS ODYSSEY    0.0199 ETH  ...  1930.0        0.1%       5000.0\n",
              "\n",
              "[125 rows x 10 columns]"
            ]
          },
          "metadata": {},
          "execution_count": 154
        }
      ]
    },
    {
      "cell_type": "markdown",
      "source": [
        "###Floor Price:"
      ],
      "metadata": {
        "id": "YjoXVEOdfN-I"
      }
    },
    {
      "cell_type": "code",
      "source": [
        "df_final['Floor Price']"
      ],
      "metadata": {
        "colab": {
          "base_uri": "https://localhost:8080/"
        },
        "id": "as6IOaVjHWPC",
        "outputId": "38f521ad-9c82-4fb6-9e81-6f1b32dde839"
      },
      "execution_count": 155,
      "outputs": [
        {
          "output_type": "execute_result",
          "data": {
            "text/plain": [
              "0          2.93 ETH\n",
              "1         0.194 ETH\n",
              "2          14.0 ETH\n",
              "3          93.0 ETH\n",
              "4      13.45555 ETH\n",
              "           ...     \n",
              "120       0.019 ETH\n",
              "121        0.08 ETH\n",
              "122      0.0111 ETH\n",
              "123       0.035 ETH\n",
              "124      0.0199 ETH\n",
              "Name: Floor Price, Length: 125, dtype: object"
            ]
          },
          "metadata": {},
          "execution_count": 155
        }
      ]
    },
    {
      "cell_type": "code",
      "source": [
        "prices = []\n",
        "for price in df_final['Floor Price']:\n",
        "  price = price.split()\n",
        "  if price[0] == 'ETH':\n",
        "    print('ok')\n",
        "  if len(price[0]) == 0:\n",
        "    print('ok')\n",
        "  prices.append(price[0])\n"
      ],
      "metadata": {
        "id": "BQrX_LsGf6bo"
      },
      "execution_count": 156,
      "outputs": []
    },
    {
      "cell_type": "code",
      "source": [
        "df_final['Floor Price'] = prices"
      ],
      "metadata": {
        "id": "55ULsGhpftl1"
      },
      "execution_count": 157,
      "outputs": []
    },
    {
      "cell_type": "code",
      "source": [
        "df_final['Floor Price']"
      ],
      "metadata": {
        "colab": {
          "base_uri": "https://localhost:8080/"
        },
        "id": "DOWwSvgwHx7G",
        "outputId": "a326883d-e7c3-4a9a-cf2f-d4c72a519455"
      },
      "execution_count": 158,
      "outputs": [
        {
          "output_type": "execute_result",
          "data": {
            "text/plain": [
              "0          2.93\n",
              "1         0.194\n",
              "2          14.0\n",
              "3          93.0\n",
              "4      13.45555\n",
              "         ...   \n",
              "120       0.019\n",
              "121        0.08\n",
              "122      0.0111\n",
              "123       0.035\n",
              "124      0.0199\n",
              "Name: Floor Price, Length: 125, dtype: object"
            ]
          },
          "metadata": {},
          "execution_count": 158
        }
      ]
    },
    {
      "cell_type": "code",
      "source": [
        "df_final['Floor Price'] = df_final['Floor Price'].astype(float)"
      ],
      "metadata": {
        "id": "HfzET68qftop"
      },
      "execution_count": 159,
      "outputs": []
    },
    {
      "cell_type": "markdown",
      "source": [
        "###Market Cap:"
      ],
      "metadata": {
        "id": "9GhRQOwDjpIp"
      }
    },
    {
      "cell_type": "code",
      "source": [
        "df_final['Market Cap']"
      ],
      "metadata": {
        "colab": {
          "base_uri": "https://localhost:8080/"
        },
        "id": "_Oq0-qigjus4",
        "outputId": "baab34ff-e3be-4c3f-e350-4364bd95a148"
      },
      "execution_count": 160,
      "outputs": [
        {
          "output_type": "execute_result",
          "data": {
            "text/plain": [
              "0        58,600.0 ETH\n",
              "1          944.78 ETH\n",
              "2       140,000.0 ETH\n",
              "3       930,000.0 ETH\n",
              "4      254,027.33 ETH\n",
              "            ...      \n",
              "120         83.77 ETH\n",
              "121        799.92 ETH\n",
              "122        109.88 ETH\n",
              "123        311.08 ETH\n",
              "124          99.5 ETH\n",
              "Name: Market Cap, Length: 125, dtype: object"
            ]
          },
          "metadata": {},
          "execution_count": 160
        }
      ]
    },
    {
      "cell_type": "code",
      "source": [
        "market_caps = []\n",
        "for market_cap in df_final['Market Cap']:\n",
        "  market_cap = market_cap.split()\n",
        "  market_caps.append(market_cap[0])"
      ],
      "metadata": {
        "id": "oFaEtQWIjvAv"
      },
      "execution_count": 161,
      "outputs": []
    },
    {
      "cell_type": "code",
      "source": [
        "for i in market_caps:\n",
        "  if type(i) != type('str'):\n",
        "    print('Não tem dados com tipo string')"
      ],
      "metadata": {
        "id": "XKJT8jwLjvDF"
      },
      "execution_count": 162,
      "outputs": []
    },
    {
      "cell_type": "code",
      "source": [
        "market_caps_final = []\n",
        "for mks in market_caps:\n",
        "  mks = mks.split(',')\n",
        "  if len(mks) > 1:\n",
        "    mks = mks[0] + '' + mks[1]\n",
        "    market_caps_final.append(mks)\n",
        "  else:\n",
        "    market_caps_final.append(mks[0])\n"
      ],
      "metadata": {
        "id": "86C46eLklEmg"
      },
      "execution_count": 163,
      "outputs": []
    },
    {
      "cell_type": "code",
      "source": [
        "df_final['Market Cap'] = market_caps_final"
      ],
      "metadata": {
        "id": "UzeW_6qmkpkD"
      },
      "execution_count": 164,
      "outputs": []
    },
    {
      "cell_type": "code",
      "source": [
        "market_caps_final = df_final['Market Cap'].astype(float)"
      ],
      "metadata": {
        "id": "Kh5QR4IZkyHW"
      },
      "execution_count": 165,
      "outputs": []
    },
    {
      "cell_type": "markdown",
      "source": [
        "###24h(Variação em %):"
      ],
      "metadata": {
        "id": "kHueQHARYQ-y"
      }
    },
    {
      "cell_type": "code",
      "source": [
        "df_final = df_final.rename(columns={'24h':'24h(%)'})"
      ],
      "metadata": {
        "id": "8H57jgygYQWO"
      },
      "execution_count": 166,
      "outputs": []
    },
    {
      "cell_type": "code",
      "source": [
        "df_final.head()"
      ],
      "metadata": {
        "colab": {
          "base_uri": "https://localhost:8080/",
          "height": 0
        },
        "id": "hwqsOMc4Y3Yv",
        "outputId": "f86bf052-7dbc-49e7-fbe1-9a9ae7fc03de"
      },
      "execution_count": 167,
      "outputs": [
        {
          "output_type": "execute_result",
          "data": {
            "text/html": [
              "\n",
              "  <div id=\"df-d810f9ae-7725-4664-9c27-6552b726933b\">\n",
              "    <div class=\"colab-df-container\">\n",
              "      <div>\n",
              "<style scoped>\n",
              "    .dataframe tbody tr th:only-of-type {\n",
              "        vertical-align: middle;\n",
              "    }\n",
              "\n",
              "    .dataframe tbody tr th {\n",
              "        vertical-align: top;\n",
              "    }\n",
              "\n",
              "    .dataframe thead th {\n",
              "        text-align: right;\n",
              "    }\n",
              "</style>\n",
              "<table border=\"1\" class=\"dataframe\">\n",
              "  <thead>\n",
              "    <tr style=\"text-align: right;\">\n",
              "      <th></th>\n",
              "      <th>#</th>\n",
              "      <th>NFT</th>\n",
              "      <th>Floor Price</th>\n",
              "      <th>24h(%)</th>\n",
              "      <th>7d</th>\n",
              "      <th>Market Cap</th>\n",
              "      <th>24h Volume</th>\n",
              "      <th>Owners</th>\n",
              "      <th>24h Owners</th>\n",
              "      <th>Total Assets</th>\n",
              "    </tr>\n",
              "  </thead>\n",
              "  <tbody>\n",
              "    <tr>\n",
              "      <th>0</th>\n",
              "      <td>1</td>\n",
              "      <td>Meebits</td>\n",
              "      <td>2.93000</td>\n",
              "      <td>-7.5%</td>\n",
              "      <td>NaN</td>\n",
              "      <td>58600.0</td>\n",
              "      <td>11,006.79 ETH</td>\n",
              "      <td>5750.0</td>\n",
              "      <td>0.0%</td>\n",
              "      <td>20000.0</td>\n",
              "    </tr>\n",
              "    <tr>\n",
              "      <th>1</th>\n",
              "      <td>2</td>\n",
              "      <td>dotdotdots</td>\n",
              "      <td>0.19400</td>\n",
              "      <td>-10.7%</td>\n",
              "      <td>NaN</td>\n",
              "      <td>944.78</td>\n",
              "      <td>5,342.72 ETH</td>\n",
              "      <td>2654.0</td>\n",
              "      <td>0.2%</td>\n",
              "      <td>4870.0</td>\n",
              "    </tr>\n",
              "    <tr>\n",
              "      <th>2</th>\n",
              "      <td>3</td>\n",
              "      <td>Azuki</td>\n",
              "      <td>14.00000</td>\n",
              "      <td>-8.2%</td>\n",
              "      <td>NaN</td>\n",
              "      <td>140000.0</td>\n",
              "      <td>809.84 ETH</td>\n",
              "      <td>5407.0</td>\n",
              "      <td>0.1%</td>\n",
              "      <td>10000.0</td>\n",
              "    </tr>\n",
              "    <tr>\n",
              "      <th>3</th>\n",
              "      <td>4</td>\n",
              "      <td>Bored Ape Yacht Club</td>\n",
              "      <td>93.00000</td>\n",
              "      <td>-10.1%</td>\n",
              "      <td>NaN</td>\n",
              "      <td>930000.0</td>\n",
              "      <td>708.88 ETH</td>\n",
              "      <td>6312.0</td>\n",
              "      <td>-0.0%</td>\n",
              "      <td>10000.0</td>\n",
              "    </tr>\n",
              "    <tr>\n",
              "      <th>4</th>\n",
              "      <td>5</td>\n",
              "      <td>CloneX</td>\n",
              "      <td>13.45555</td>\n",
              "      <td>-15.0%</td>\n",
              "      <td>NaN</td>\n",
              "      <td>254027.33</td>\n",
              "      <td>704.94 ETH</td>\n",
              "      <td>8308.0</td>\n",
              "      <td>0.2%</td>\n",
              "      <td>18879.0</td>\n",
              "    </tr>\n",
              "  </tbody>\n",
              "</table>\n",
              "</div>\n",
              "      <button class=\"colab-df-convert\" onclick=\"convertToInteractive('df-d810f9ae-7725-4664-9c27-6552b726933b')\"\n",
              "              title=\"Convert this dataframe to an interactive table.\"\n",
              "              style=\"display:none;\">\n",
              "        \n",
              "  <svg xmlns=\"http://www.w3.org/2000/svg\" height=\"24px\"viewBox=\"0 0 24 24\"\n",
              "       width=\"24px\">\n",
              "    <path d=\"M0 0h24v24H0V0z\" fill=\"none\"/>\n",
              "    <path d=\"M18.56 5.44l.94 2.06.94-2.06 2.06-.94-2.06-.94-.94-2.06-.94 2.06-2.06.94zm-11 1L8.5 8.5l.94-2.06 2.06-.94-2.06-.94L8.5 2.5l-.94 2.06-2.06.94zm10 10l.94 2.06.94-2.06 2.06-.94-2.06-.94-.94-2.06-.94 2.06-2.06.94z\"/><path d=\"M17.41 7.96l-1.37-1.37c-.4-.4-.92-.59-1.43-.59-.52 0-1.04.2-1.43.59L10.3 9.45l-7.72 7.72c-.78.78-.78 2.05 0 2.83L4 21.41c.39.39.9.59 1.41.59.51 0 1.02-.2 1.41-.59l7.78-7.78 2.81-2.81c.8-.78.8-2.07 0-2.86zM5.41 20L4 18.59l7.72-7.72 1.47 1.35L5.41 20z\"/>\n",
              "  </svg>\n",
              "      </button>\n",
              "      \n",
              "  <style>\n",
              "    .colab-df-container {\n",
              "      display:flex;\n",
              "      flex-wrap:wrap;\n",
              "      gap: 12px;\n",
              "    }\n",
              "\n",
              "    .colab-df-convert {\n",
              "      background-color: #E8F0FE;\n",
              "      border: none;\n",
              "      border-radius: 50%;\n",
              "      cursor: pointer;\n",
              "      display: none;\n",
              "      fill: #1967D2;\n",
              "      height: 32px;\n",
              "      padding: 0 0 0 0;\n",
              "      width: 32px;\n",
              "    }\n",
              "\n",
              "    .colab-df-convert:hover {\n",
              "      background-color: #E2EBFA;\n",
              "      box-shadow: 0px 1px 2px rgba(60, 64, 67, 0.3), 0px 1px 3px 1px rgba(60, 64, 67, 0.15);\n",
              "      fill: #174EA6;\n",
              "    }\n",
              "\n",
              "    [theme=dark] .colab-df-convert {\n",
              "      background-color: #3B4455;\n",
              "      fill: #D2E3FC;\n",
              "    }\n",
              "\n",
              "    [theme=dark] .colab-df-convert:hover {\n",
              "      background-color: #434B5C;\n",
              "      box-shadow: 0px 1px 3px 1px rgba(0, 0, 0, 0.15);\n",
              "      filter: drop-shadow(0px 1px 2px rgba(0, 0, 0, 0.3));\n",
              "      fill: #FFFFFF;\n",
              "    }\n",
              "  </style>\n",
              "\n",
              "      <script>\n",
              "        const buttonEl =\n",
              "          document.querySelector('#df-d810f9ae-7725-4664-9c27-6552b726933b button.colab-df-convert');\n",
              "        buttonEl.style.display =\n",
              "          google.colab.kernel.accessAllowed ? 'block' : 'none';\n",
              "\n",
              "        async function convertToInteractive(key) {\n",
              "          const element = document.querySelector('#df-d810f9ae-7725-4664-9c27-6552b726933b');\n",
              "          const dataTable =\n",
              "            await google.colab.kernel.invokeFunction('convertToInteractive',\n",
              "                                                     [key], {});\n",
              "          if (!dataTable) return;\n",
              "\n",
              "          const docLinkHtml = 'Like what you see? Visit the ' +\n",
              "            '<a target=\"_blank\" href=https://colab.research.google.com/notebooks/data_table.ipynb>data table notebook</a>'\n",
              "            + ' to learn more about interactive tables.';\n",
              "          element.innerHTML = '';\n",
              "          dataTable['output_type'] = 'display_data';\n",
              "          await google.colab.output.renderOutput(dataTable, element);\n",
              "          const docLink = document.createElement('div');\n",
              "          docLink.innerHTML = docLinkHtml;\n",
              "          element.appendChild(docLink);\n",
              "        }\n",
              "      </script>\n",
              "    </div>\n",
              "  </div>\n",
              "  "
            ],
            "text/plain": [
              "   #                   NFT  Floor Price  ...  Owners  24h Owners Total Assets\n",
              "0  1               Meebits      2.93000  ...  5750.0        0.0%      20000.0\n",
              "1  2            dotdotdots      0.19400  ...  2654.0        0.2%       4870.0\n",
              "2  3                 Azuki     14.00000  ...  5407.0        0.1%      10000.0\n",
              "3  4  Bored Ape Yacht Club     93.00000  ...  6312.0       -0.0%      10000.0\n",
              "4  5                CloneX     13.45555  ...  8308.0        0.2%      18879.0\n",
              "\n",
              "[5 rows x 10 columns]"
            ]
          },
          "metadata": {},
          "execution_count": 167
        }
      ]
    },
    {
      "cell_type": "code",
      "source": [
        "tfhours = []\n",
        "try:\n",
        "  for per in df_final['24h(%)']:\n",
        "    per = per.split('%')\n",
        "    tfhours.append(float(per[0]))\n",
        "except:\n",
        "  print(\"not valid\")"
      ],
      "metadata": {
        "id": "-Va35MMwYTxl"
      },
      "execution_count": 168,
      "outputs": []
    },
    {
      "cell_type": "code",
      "source": [
        "if len(tfhours) > 0:\n",
        "  df_final['24h(%)'] = tfhours"
      ],
      "metadata": {
        "id": "kZKS5lkLYTz7"
      },
      "execution_count": 169,
      "outputs": []
    },
    {
      "cell_type": "code",
      "source": [
        "df_final.head()"
      ],
      "metadata": {
        "colab": {
          "base_uri": "https://localhost:8080/",
          "height": 0
        },
        "id": "G1HuslchYT2Z",
        "outputId": "60b0e0da-db02-4ab1-fd65-0b9a879f0a8f"
      },
      "execution_count": 170,
      "outputs": [
        {
          "output_type": "execute_result",
          "data": {
            "text/html": [
              "\n",
              "  <div id=\"df-d1304361-1204-404b-a16b-a63ef9d4deb4\">\n",
              "    <div class=\"colab-df-container\">\n",
              "      <div>\n",
              "<style scoped>\n",
              "    .dataframe tbody tr th:only-of-type {\n",
              "        vertical-align: middle;\n",
              "    }\n",
              "\n",
              "    .dataframe tbody tr th {\n",
              "        vertical-align: top;\n",
              "    }\n",
              "\n",
              "    .dataframe thead th {\n",
              "        text-align: right;\n",
              "    }\n",
              "</style>\n",
              "<table border=\"1\" class=\"dataframe\">\n",
              "  <thead>\n",
              "    <tr style=\"text-align: right;\">\n",
              "      <th></th>\n",
              "      <th>#</th>\n",
              "      <th>NFT</th>\n",
              "      <th>Floor Price</th>\n",
              "      <th>24h(%)</th>\n",
              "      <th>7d</th>\n",
              "      <th>Market Cap</th>\n",
              "      <th>24h Volume</th>\n",
              "      <th>Owners</th>\n",
              "      <th>24h Owners</th>\n",
              "      <th>Total Assets</th>\n",
              "    </tr>\n",
              "  </thead>\n",
              "  <tbody>\n",
              "    <tr>\n",
              "      <th>0</th>\n",
              "      <td>1</td>\n",
              "      <td>Meebits</td>\n",
              "      <td>2.93000</td>\n",
              "      <td>-7.5</td>\n",
              "      <td>NaN</td>\n",
              "      <td>58600.0</td>\n",
              "      <td>11,006.79 ETH</td>\n",
              "      <td>5750.0</td>\n",
              "      <td>0.0%</td>\n",
              "      <td>20000.0</td>\n",
              "    </tr>\n",
              "    <tr>\n",
              "      <th>1</th>\n",
              "      <td>2</td>\n",
              "      <td>dotdotdots</td>\n",
              "      <td>0.19400</td>\n",
              "      <td>-10.7</td>\n",
              "      <td>NaN</td>\n",
              "      <td>944.78</td>\n",
              "      <td>5,342.72 ETH</td>\n",
              "      <td>2654.0</td>\n",
              "      <td>0.2%</td>\n",
              "      <td>4870.0</td>\n",
              "    </tr>\n",
              "    <tr>\n",
              "      <th>2</th>\n",
              "      <td>3</td>\n",
              "      <td>Azuki</td>\n",
              "      <td>14.00000</td>\n",
              "      <td>-8.2</td>\n",
              "      <td>NaN</td>\n",
              "      <td>140000.0</td>\n",
              "      <td>809.84 ETH</td>\n",
              "      <td>5407.0</td>\n",
              "      <td>0.1%</td>\n",
              "      <td>10000.0</td>\n",
              "    </tr>\n",
              "    <tr>\n",
              "      <th>3</th>\n",
              "      <td>4</td>\n",
              "      <td>Bored Ape Yacht Club</td>\n",
              "      <td>93.00000</td>\n",
              "      <td>-10.1</td>\n",
              "      <td>NaN</td>\n",
              "      <td>930000.0</td>\n",
              "      <td>708.88 ETH</td>\n",
              "      <td>6312.0</td>\n",
              "      <td>-0.0%</td>\n",
              "      <td>10000.0</td>\n",
              "    </tr>\n",
              "    <tr>\n",
              "      <th>4</th>\n",
              "      <td>5</td>\n",
              "      <td>CloneX</td>\n",
              "      <td>13.45555</td>\n",
              "      <td>-15.0</td>\n",
              "      <td>NaN</td>\n",
              "      <td>254027.33</td>\n",
              "      <td>704.94 ETH</td>\n",
              "      <td>8308.0</td>\n",
              "      <td>0.2%</td>\n",
              "      <td>18879.0</td>\n",
              "    </tr>\n",
              "  </tbody>\n",
              "</table>\n",
              "</div>\n",
              "      <button class=\"colab-df-convert\" onclick=\"convertToInteractive('df-d1304361-1204-404b-a16b-a63ef9d4deb4')\"\n",
              "              title=\"Convert this dataframe to an interactive table.\"\n",
              "              style=\"display:none;\">\n",
              "        \n",
              "  <svg xmlns=\"http://www.w3.org/2000/svg\" height=\"24px\"viewBox=\"0 0 24 24\"\n",
              "       width=\"24px\">\n",
              "    <path d=\"M0 0h24v24H0V0z\" fill=\"none\"/>\n",
              "    <path d=\"M18.56 5.44l.94 2.06.94-2.06 2.06-.94-2.06-.94-.94-2.06-.94 2.06-2.06.94zm-11 1L8.5 8.5l.94-2.06 2.06-.94-2.06-.94L8.5 2.5l-.94 2.06-2.06.94zm10 10l.94 2.06.94-2.06 2.06-.94-2.06-.94-.94-2.06-.94 2.06-2.06.94z\"/><path d=\"M17.41 7.96l-1.37-1.37c-.4-.4-.92-.59-1.43-.59-.52 0-1.04.2-1.43.59L10.3 9.45l-7.72 7.72c-.78.78-.78 2.05 0 2.83L4 21.41c.39.39.9.59 1.41.59.51 0 1.02-.2 1.41-.59l7.78-7.78 2.81-2.81c.8-.78.8-2.07 0-2.86zM5.41 20L4 18.59l7.72-7.72 1.47 1.35L5.41 20z\"/>\n",
              "  </svg>\n",
              "      </button>\n",
              "      \n",
              "  <style>\n",
              "    .colab-df-container {\n",
              "      display:flex;\n",
              "      flex-wrap:wrap;\n",
              "      gap: 12px;\n",
              "    }\n",
              "\n",
              "    .colab-df-convert {\n",
              "      background-color: #E8F0FE;\n",
              "      border: none;\n",
              "      border-radius: 50%;\n",
              "      cursor: pointer;\n",
              "      display: none;\n",
              "      fill: #1967D2;\n",
              "      height: 32px;\n",
              "      padding: 0 0 0 0;\n",
              "      width: 32px;\n",
              "    }\n",
              "\n",
              "    .colab-df-convert:hover {\n",
              "      background-color: #E2EBFA;\n",
              "      box-shadow: 0px 1px 2px rgba(60, 64, 67, 0.3), 0px 1px 3px 1px rgba(60, 64, 67, 0.15);\n",
              "      fill: #174EA6;\n",
              "    }\n",
              "\n",
              "    [theme=dark] .colab-df-convert {\n",
              "      background-color: #3B4455;\n",
              "      fill: #D2E3FC;\n",
              "    }\n",
              "\n",
              "    [theme=dark] .colab-df-convert:hover {\n",
              "      background-color: #434B5C;\n",
              "      box-shadow: 0px 1px 3px 1px rgba(0, 0, 0, 0.15);\n",
              "      filter: drop-shadow(0px 1px 2px rgba(0, 0, 0, 0.3));\n",
              "      fill: #FFFFFF;\n",
              "    }\n",
              "  </style>\n",
              "\n",
              "      <script>\n",
              "        const buttonEl =\n",
              "          document.querySelector('#df-d1304361-1204-404b-a16b-a63ef9d4deb4 button.colab-df-convert');\n",
              "        buttonEl.style.display =\n",
              "          google.colab.kernel.accessAllowed ? 'block' : 'none';\n",
              "\n",
              "        async function convertToInteractive(key) {\n",
              "          const element = document.querySelector('#df-d1304361-1204-404b-a16b-a63ef9d4deb4');\n",
              "          const dataTable =\n",
              "            await google.colab.kernel.invokeFunction('convertToInteractive',\n",
              "                                                     [key], {});\n",
              "          if (!dataTable) return;\n",
              "\n",
              "          const docLinkHtml = 'Like what you see? Visit the ' +\n",
              "            '<a target=\"_blank\" href=https://colab.research.google.com/notebooks/data_table.ipynb>data table notebook</a>'\n",
              "            + ' to learn more about interactive tables.';\n",
              "          element.innerHTML = '';\n",
              "          dataTable['output_type'] = 'display_data';\n",
              "          await google.colab.output.renderOutput(dataTable, element);\n",
              "          const docLink = document.createElement('div');\n",
              "          docLink.innerHTML = docLinkHtml;\n",
              "          element.appendChild(docLink);\n",
              "        }\n",
              "      </script>\n",
              "    </div>\n",
              "  </div>\n",
              "  "
            ],
            "text/plain": [
              "   #                   NFT  Floor Price  ...  Owners  24h Owners Total Assets\n",
              "0  1               Meebits      2.93000  ...  5750.0        0.0%      20000.0\n",
              "1  2            dotdotdots      0.19400  ...  2654.0        0.2%       4870.0\n",
              "2  3                 Azuki     14.00000  ...  5407.0        0.1%      10000.0\n",
              "3  4  Bored Ape Yacht Club     93.00000  ...  6312.0       -0.0%      10000.0\n",
              "4  5                CloneX     13.45555  ...  8308.0        0.2%      18879.0\n",
              "\n",
              "[5 rows x 10 columns]"
            ]
          },
          "metadata": {},
          "execution_count": 170
        }
      ]
    },
    {
      "cell_type": "markdown",
      "source": [
        "###24h Volume:"
      ],
      "metadata": {
        "id": "g_qwfMLxnfGS"
      }
    },
    {
      "cell_type": "code",
      "source": [
        "df_final['24h Volume']"
      ],
      "metadata": {
        "colab": {
          "base_uri": "https://localhost:8080/"
        },
        "id": "bhTJ_s1Vnqjs",
        "outputId": "62bbbf4b-9348-4a62-fefc-32f36fd1b71b"
      },
      "execution_count": 171,
      "outputs": [
        {
          "output_type": "execute_result",
          "data": {
            "text/plain": [
              "0      11,006.79 ETH\n",
              "1       5,342.72 ETH\n",
              "2         809.84 ETH\n",
              "3         708.88 ETH\n",
              "4         704.94 ETH\n",
              "           ...      \n",
              "120          0.1 ETH\n",
              "121          0.1 ETH\n",
              "122         0.09 ETH\n",
              "123         0.06 ETH\n",
              "124         0.05 ETH\n",
              "Name: 24h Volume, Length: 125, dtype: object"
            ]
          },
          "metadata": {},
          "execution_count": 171
        }
      ]
    },
    {
      "cell_type": "code",
      "source": [
        "daily_volumes  = []\n",
        "for daily_volume in df_final['24h Volume']:\n",
        "  if ',' in daily_volume:\n",
        "    daily_volume = daily_volume.split(',')\n",
        "    daily_volume = daily_volume[0] + '' + daily_volume[1]\n",
        "    daily_volume = daily_volume.split()\n",
        "    daily_volumes.append(daily_volume[0])\n",
        "  else:  \n",
        "    daily_volume = daily_volume.split()\n",
        "    daily_volume = daily_volume[0]\n",
        "    daily_volumes.append(daily_volume)\n"
      ],
      "metadata": {
        "id": "_2Boa-oXnqm5"
      },
      "execution_count": 172,
      "outputs": []
    },
    {
      "cell_type": "code",
      "source": [
        "daily_volumes\n",
        "    "
      ],
      "metadata": {
        "colab": {
          "base_uri": "https://localhost:8080/"
        },
        "id": "8fmKgFsInqqv",
        "outputId": "a41d789e-1011-4ca1-90a8-a1c24bb79453"
      },
      "execution_count": 173,
      "outputs": [
        {
          "output_type": "execute_result",
          "data": {
            "text/plain": [
              "['11006.79',\n",
              " '5342.72',\n",
              " '809.84',\n",
              " '708.88',\n",
              " '704.94',\n",
              " '700.41',\n",
              " '542.05',\n",
              " '452.0',\n",
              " '375.02',\n",
              " '347.6',\n",
              " '343.13',\n",
              " '267.42',\n",
              " '213.13',\n",
              " '151.45',\n",
              " '131.83',\n",
              " '106.48',\n",
              " '90.31',\n",
              " '83.49',\n",
              " '81.27',\n",
              " '69.17',\n",
              " '52.82',\n",
              " '51.94',\n",
              " '47.48',\n",
              " '43.81',\n",
              " '43.52',\n",
              " '43.29',\n",
              " '41.9',\n",
              " '41.53',\n",
              " '39.41',\n",
              " '35.86',\n",
              " '35.0',\n",
              " '32.36',\n",
              " '31.44',\n",
              " '29.89',\n",
              " '29.3',\n",
              " '29.11',\n",
              " '28.99',\n",
              " '28.92',\n",
              " '28.5',\n",
              " '27.85',\n",
              " '27.82',\n",
              " '27.08',\n",
              " '25.38',\n",
              " '23.39',\n",
              " '23.11',\n",
              " '22.26',\n",
              " '21.3',\n",
              " '20.67',\n",
              " '18.97',\n",
              " '18.24',\n",
              " '16.49',\n",
              " '16.04',\n",
              " '14.69',\n",
              " '10.86',\n",
              " '10.48',\n",
              " '9.88',\n",
              " '9.5',\n",
              " '8.25',\n",
              " '7.85',\n",
              " '7.76',\n",
              " '6.23',\n",
              " '6.0',\n",
              " '5.79',\n",
              " '5.7',\n",
              " '5.6',\n",
              " '4.72',\n",
              " '4.68',\n",
              " '4.52',\n",
              " '4.4',\n",
              " '3.8',\n",
              " '3.77',\n",
              " '3.47',\n",
              " '3.32',\n",
              " '3.27',\n",
              " '3.05',\n",
              " '2.98',\n",
              " '2.97',\n",
              " '2.62',\n",
              " '2.41',\n",
              " '1.93',\n",
              " '1.84',\n",
              " '1.76',\n",
              " '1.75',\n",
              " '1.68',\n",
              " '1.57',\n",
              " '1.56',\n",
              " '1.36',\n",
              " '1.36',\n",
              " '1.3',\n",
              " '1.2',\n",
              " '1.19',\n",
              " '1.19',\n",
              " '1.15',\n",
              " '0.99',\n",
              " '0.93',\n",
              " '0.85',\n",
              " '0.81',\n",
              " '0.76',\n",
              " '0.72',\n",
              " '0.7',\n",
              " '0.61',\n",
              " '0.57',\n",
              " '0.49',\n",
              " '0.45',\n",
              " '0.4',\n",
              " '0.39',\n",
              " '0.38',\n",
              " '0.38',\n",
              " '0.34',\n",
              " '0.31',\n",
              " '0.29',\n",
              " '0.22',\n",
              " '0.22',\n",
              " '0.18',\n",
              " '0.16',\n",
              " '0.14',\n",
              " '0.14',\n",
              " '0.14',\n",
              " '0.13',\n",
              " '0.1',\n",
              " '0.1',\n",
              " '0.1',\n",
              " '0.09',\n",
              " '0.06',\n",
              " '0.05']"
            ]
          },
          "metadata": {},
          "execution_count": 173
        }
      ]
    },
    {
      "cell_type": "code",
      "source": [
        "df_final['24h Volume'] = daily_volumes"
      ],
      "metadata": {
        "id": "lVM5xe1YpoE8"
      },
      "execution_count": 174,
      "outputs": []
    },
    {
      "cell_type": "code",
      "source": [
        "df_final['24h Volume'].astype(float)"
      ],
      "metadata": {
        "colab": {
          "base_uri": "https://localhost:8080/"
        },
        "id": "wGFEst4BsfPP",
        "outputId": "08ad7626-6529-435c-97cb-d7d249d65410"
      },
      "execution_count": 175,
      "outputs": [
        {
          "output_type": "execute_result",
          "data": {
            "text/plain": [
              "0      11006.79\n",
              "1       5342.72\n",
              "2        809.84\n",
              "3        708.88\n",
              "4        704.94\n",
              "         ...   \n",
              "120        0.10\n",
              "121        0.10\n",
              "122        0.09\n",
              "123        0.06\n",
              "124        0.05\n",
              "Name: 24h Volume, Length: 125, dtype: float64"
            ]
          },
          "metadata": {},
          "execution_count": 175
        }
      ]
    },
    {
      "cell_type": "markdown",
      "source": [
        "###24h Owners:"
      ],
      "metadata": {
        "id": "xW7wRJPpstCt"
      }
    },
    {
      "cell_type": "code",
      "source": [
        "df_final['24h Owners']"
      ],
      "metadata": {
        "colab": {
          "base_uri": "https://localhost:8080/"
        },
        "id": "JaekVl2Esvpr",
        "outputId": "d4bf3924-cfd7-45c9-9f56-9dec73d8e4e8"
      },
      "execution_count": 176,
      "outputs": [
        {
          "output_type": "execute_result",
          "data": {
            "text/plain": [
              "0       0.0%\n",
              "1       0.2%\n",
              "2       0.1%\n",
              "3      -0.0%\n",
              "4       0.2%\n",
              "       ...  \n",
              "120    -0.1%\n",
              "121     0.2%\n",
              "122     0.1%\n",
              "123     0.0%\n",
              "124     0.1%\n",
              "Name: 24h Owners, Length: 125, dtype: object"
            ]
          },
          "metadata": {},
          "execution_count": 176
        }
      ]
    },
    {
      "cell_type": "code",
      "source": [
        "daily_owners = []\n",
        "for d_owner in df_final['24h Owners']:\n",
        "  d_owner = d_owner.split('%')\n",
        "  daily_owners.append(d_owner[0])"
      ],
      "metadata": {
        "id": "Cu9TppYysvz3"
      },
      "execution_count": 177,
      "outputs": []
    },
    {
      "cell_type": "code",
      "source": [
        "df_final['24h Owners'] = daily_owners"
      ],
      "metadata": {
        "id": "bTSulz1XtNpB"
      },
      "execution_count": 178,
      "outputs": []
    },
    {
      "cell_type": "code",
      "source": [
        "len(daily_owners)"
      ],
      "metadata": {
        "colab": {
          "base_uri": "https://localhost:8080/"
        },
        "id": "N47rTJSu65R3",
        "outputId": "7bc933de-52df-43d1-cf0a-62acb0e6725e"
      },
      "execution_count": 179,
      "outputs": [
        {
          "output_type": "execute_result",
          "data": {
            "text/plain": [
              "125"
            ]
          },
          "metadata": {},
          "execution_count": 179
        }
      ]
    },
    {
      "cell_type": "code",
      "source": [
        "for els in df_final['24h Owners']:\n",
        "  if type(els) != type('str'):\n",
        "    df_final['24h Owners'].astype(float)"
      ],
      "metadata": {
        "id": "vd_cLZi2sv8w"
      },
      "execution_count": 180,
      "outputs": []
    },
    {
      "cell_type": "markdown",
      "source": [
        "##Razão dos proprietários (Owner Ratio):"
      ],
      "metadata": {
        "id": "J16Z8Oin0bd5"
      }
    },
    {
      "cell_type": "code",
      "source": [
        "df_final['Owner Ratio'] = df_final['Owners'] / df_final ['Total Assets']"
      ],
      "metadata": {
        "id": "4vwYveAK0f6M"
      },
      "execution_count": 181,
      "outputs": []
    },
    {
      "cell_type": "code",
      "source": [
        "df_final['Owner Ratio'] = df_final['Owner Ratio']*100"
      ],
      "metadata": {
        "id": "xJsR2g6Q0f6M"
      },
      "execution_count": 182,
      "outputs": []
    },
    {
      "cell_type": "markdown",
      "source": [
        "#2ºParte: Limpeza dos dados"
      ],
      "metadata": {
        "id": "Jl2hE-TUybQJ"
      }
    },
    {
      "cell_type": "code",
      "source": [
        "df_final.isnull().sum()"
      ],
      "metadata": {
        "id": "29urF9sSSPMj",
        "colab": {
          "base_uri": "https://localhost:8080/"
        },
        "outputId": "7d116d16-f007-4552-9fea-e989d67baa2e"
      },
      "execution_count": 183,
      "outputs": [
        {
          "output_type": "execute_result",
          "data": {
            "text/plain": [
              "#                 0\n",
              "NFT               0\n",
              "Floor Price       0\n",
              "24h(%)            0\n",
              "7d              125\n",
              "Market Cap        0\n",
              "24h Volume        0\n",
              "Owners            0\n",
              "24h Owners        0\n",
              "Total Assets      0\n",
              "Owner Ratio       0\n",
              "dtype: int64"
            ]
          },
          "metadata": {},
          "execution_count": 183
        }
      ]
    },
    {
      "cell_type": "code",
      "source": [
        "df_final.drop(columns=[\"7d\", \"#\"], inplace=True)"
      ],
      "metadata": {
        "id": "fsZoVQ_Nysbo"
      },
      "execution_count": 184,
      "outputs": []
    },
    {
      "cell_type": "code",
      "source": [
        "df_final.duplicated().sum()"
      ],
      "metadata": {
        "id": "nW7zTundyzGL",
        "colab": {
          "base_uri": "https://localhost:8080/"
        },
        "outputId": "be590173-d93e-4e08-b95c-97be40da2c0b"
      },
      "execution_count": 185,
      "outputs": [
        {
          "output_type": "execute_result",
          "data": {
            "text/plain": [
              "0"
            ]
          },
          "metadata": {},
          "execution_count": 185
        }
      ]
    },
    {
      "cell_type": "code",
      "source": [
        "df = df_final"
      ],
      "metadata": {
        "id": "8xV1jvctdg2z"
      },
      "execution_count": 186,
      "outputs": []
    },
    {
      "cell_type": "markdown",
      "source": [
        "#Salvando em CSV:"
      ],
      "metadata": {
        "id": "mzaRze_yt0jw"
      }
    },
    {
      "cell_type": "code",
      "source": [
        "df.to_csv(r'/content/df_final.csv', index=False, header=True)"
      ],
      "metadata": {
        "id": "Qmfk_rEdt0B7"
      },
      "execution_count": 187,
      "outputs": []
    },
    {
      "cell_type": "code",
      "source": [
        "df_test = pd.read_csv(\"df_final.csv\")"
      ],
      "metadata": {
        "id": "Zbcx9Iiqt-b8"
      },
      "execution_count": 188,
      "outputs": []
    },
    {
      "cell_type": "code",
      "source": [
        "df_test.head()"
      ],
      "metadata": {
        "id": "4T7CXXhUuCFz",
        "outputId": "7126cf05-e2a5-4f99-f0f6-1d028e8dd05f",
        "colab": {
          "base_uri": "https://localhost:8080/",
          "height": 206
        }
      },
      "execution_count": 189,
      "outputs": [
        {
          "output_type": "execute_result",
          "data": {
            "text/html": [
              "\n",
              "  <div id=\"df-77d11b05-5dd9-4c0f-9ca9-ab56e2bf8350\">\n",
              "    <div class=\"colab-df-container\">\n",
              "      <div>\n",
              "<style scoped>\n",
              "    .dataframe tbody tr th:only-of-type {\n",
              "        vertical-align: middle;\n",
              "    }\n",
              "\n",
              "    .dataframe tbody tr th {\n",
              "        vertical-align: top;\n",
              "    }\n",
              "\n",
              "    .dataframe thead th {\n",
              "        text-align: right;\n",
              "    }\n",
              "</style>\n",
              "<table border=\"1\" class=\"dataframe\">\n",
              "  <thead>\n",
              "    <tr style=\"text-align: right;\">\n",
              "      <th></th>\n",
              "      <th>NFT</th>\n",
              "      <th>Floor Price</th>\n",
              "      <th>24h(%)</th>\n",
              "      <th>Market Cap</th>\n",
              "      <th>24h Volume</th>\n",
              "      <th>Owners</th>\n",
              "      <th>24h Owners</th>\n",
              "      <th>Total Assets</th>\n",
              "      <th>Owner Ratio</th>\n",
              "    </tr>\n",
              "  </thead>\n",
              "  <tbody>\n",
              "    <tr>\n",
              "      <th>0</th>\n",
              "      <td>Meebits</td>\n",
              "      <td>2.93000</td>\n",
              "      <td>-7.5</td>\n",
              "      <td>58600.00</td>\n",
              "      <td>11006.79</td>\n",
              "      <td>5750.0</td>\n",
              "      <td>0.0</td>\n",
              "      <td>20000.0</td>\n",
              "      <td>28.750000</td>\n",
              "    </tr>\n",
              "    <tr>\n",
              "      <th>1</th>\n",
              "      <td>dotdotdots</td>\n",
              "      <td>0.19400</td>\n",
              "      <td>-10.7</td>\n",
              "      <td>944.78</td>\n",
              "      <td>5342.72</td>\n",
              "      <td>2654.0</td>\n",
              "      <td>0.2</td>\n",
              "      <td>4870.0</td>\n",
              "      <td>54.496920</td>\n",
              "    </tr>\n",
              "    <tr>\n",
              "      <th>2</th>\n",
              "      <td>Azuki</td>\n",
              "      <td>14.00000</td>\n",
              "      <td>-8.2</td>\n",
              "      <td>140000.00</td>\n",
              "      <td>809.84</td>\n",
              "      <td>5407.0</td>\n",
              "      <td>0.1</td>\n",
              "      <td>10000.0</td>\n",
              "      <td>54.070000</td>\n",
              "    </tr>\n",
              "    <tr>\n",
              "      <th>3</th>\n",
              "      <td>Bored Ape Yacht Club</td>\n",
              "      <td>93.00000</td>\n",
              "      <td>-10.1</td>\n",
              "      <td>930000.00</td>\n",
              "      <td>708.88</td>\n",
              "      <td>6312.0</td>\n",
              "      <td>-0.0</td>\n",
              "      <td>10000.0</td>\n",
              "      <td>63.120000</td>\n",
              "    </tr>\n",
              "    <tr>\n",
              "      <th>4</th>\n",
              "      <td>CloneX</td>\n",
              "      <td>13.45555</td>\n",
              "      <td>-15.0</td>\n",
              "      <td>254027.33</td>\n",
              "      <td>704.94</td>\n",
              "      <td>8308.0</td>\n",
              "      <td>0.2</td>\n",
              "      <td>18879.0</td>\n",
              "      <td>44.006568</td>\n",
              "    </tr>\n",
              "  </tbody>\n",
              "</table>\n",
              "</div>\n",
              "      <button class=\"colab-df-convert\" onclick=\"convertToInteractive('df-77d11b05-5dd9-4c0f-9ca9-ab56e2bf8350')\"\n",
              "              title=\"Convert this dataframe to an interactive table.\"\n",
              "              style=\"display:none;\">\n",
              "        \n",
              "  <svg xmlns=\"http://www.w3.org/2000/svg\" height=\"24px\"viewBox=\"0 0 24 24\"\n",
              "       width=\"24px\">\n",
              "    <path d=\"M0 0h24v24H0V0z\" fill=\"none\"/>\n",
              "    <path d=\"M18.56 5.44l.94 2.06.94-2.06 2.06-.94-2.06-.94-.94-2.06-.94 2.06-2.06.94zm-11 1L8.5 8.5l.94-2.06 2.06-.94-2.06-.94L8.5 2.5l-.94 2.06-2.06.94zm10 10l.94 2.06.94-2.06 2.06-.94-2.06-.94-.94-2.06-.94 2.06-2.06.94z\"/><path d=\"M17.41 7.96l-1.37-1.37c-.4-.4-.92-.59-1.43-.59-.52 0-1.04.2-1.43.59L10.3 9.45l-7.72 7.72c-.78.78-.78 2.05 0 2.83L4 21.41c.39.39.9.59 1.41.59.51 0 1.02-.2 1.41-.59l7.78-7.78 2.81-2.81c.8-.78.8-2.07 0-2.86zM5.41 20L4 18.59l7.72-7.72 1.47 1.35L5.41 20z\"/>\n",
              "  </svg>\n",
              "      </button>\n",
              "      \n",
              "  <style>\n",
              "    .colab-df-container {\n",
              "      display:flex;\n",
              "      flex-wrap:wrap;\n",
              "      gap: 12px;\n",
              "    }\n",
              "\n",
              "    .colab-df-convert {\n",
              "      background-color: #E8F0FE;\n",
              "      border: none;\n",
              "      border-radius: 50%;\n",
              "      cursor: pointer;\n",
              "      display: none;\n",
              "      fill: #1967D2;\n",
              "      height: 32px;\n",
              "      padding: 0 0 0 0;\n",
              "      width: 32px;\n",
              "    }\n",
              "\n",
              "    .colab-df-convert:hover {\n",
              "      background-color: #E2EBFA;\n",
              "      box-shadow: 0px 1px 2px rgba(60, 64, 67, 0.3), 0px 1px 3px 1px rgba(60, 64, 67, 0.15);\n",
              "      fill: #174EA6;\n",
              "    }\n",
              "\n",
              "    [theme=dark] .colab-df-convert {\n",
              "      background-color: #3B4455;\n",
              "      fill: #D2E3FC;\n",
              "    }\n",
              "\n",
              "    [theme=dark] .colab-df-convert:hover {\n",
              "      background-color: #434B5C;\n",
              "      box-shadow: 0px 1px 3px 1px rgba(0, 0, 0, 0.15);\n",
              "      filter: drop-shadow(0px 1px 2px rgba(0, 0, 0, 0.3));\n",
              "      fill: #FFFFFF;\n",
              "    }\n",
              "  </style>\n",
              "\n",
              "      <script>\n",
              "        const buttonEl =\n",
              "          document.querySelector('#df-77d11b05-5dd9-4c0f-9ca9-ab56e2bf8350 button.colab-df-convert');\n",
              "        buttonEl.style.display =\n",
              "          google.colab.kernel.accessAllowed ? 'block' : 'none';\n",
              "\n",
              "        async function convertToInteractive(key) {\n",
              "          const element = document.querySelector('#df-77d11b05-5dd9-4c0f-9ca9-ab56e2bf8350');\n",
              "          const dataTable =\n",
              "            await google.colab.kernel.invokeFunction('convertToInteractive',\n",
              "                                                     [key], {});\n",
              "          if (!dataTable) return;\n",
              "\n",
              "          const docLinkHtml = 'Like what you see? Visit the ' +\n",
              "            '<a target=\"_blank\" href=https://colab.research.google.com/notebooks/data_table.ipynb>data table notebook</a>'\n",
              "            + ' to learn more about interactive tables.';\n",
              "          element.innerHTML = '';\n",
              "          dataTable['output_type'] = 'display_data';\n",
              "          await google.colab.output.renderOutput(dataTable, element);\n",
              "          const docLink = document.createElement('div');\n",
              "          docLink.innerHTML = docLinkHtml;\n",
              "          element.appendChild(docLink);\n",
              "        }\n",
              "      </script>\n",
              "    </div>\n",
              "  </div>\n",
              "  "
            ],
            "text/plain": [
              "                    NFT  Floor Price  ...  Total Assets  Owner Ratio\n",
              "0               Meebits      2.93000  ...       20000.0    28.750000\n",
              "1            dotdotdots      0.19400  ...        4870.0    54.496920\n",
              "2                 Azuki     14.00000  ...       10000.0    54.070000\n",
              "3  Bored Ape Yacht Club     93.00000  ...       10000.0    63.120000\n",
              "4                CloneX     13.45555  ...       18879.0    44.006568\n",
              "\n",
              "[5 rows x 9 columns]"
            ]
          },
          "metadata": {},
          "execution_count": 189
        }
      ]
    },
    {
      "cell_type": "markdown",
      "source": [
        "#A continuação das partes será imediata para aproveitar a sincronicidade via API do dataset. No entanto, deixo o dataset salvo pós-tratamento para qualquer motivo que seja."
      ],
      "metadata": {
        "id": "jTtn9KaKZ5x3"
      }
    },
    {
      "cell_type": "markdown",
      "source": [
        "#3ºParte: Análise do dataframe\n",
        "\n",
        "\n"
      ],
      "metadata": {
        "id": "BcIfUoDYdMmj"
      }
    },
    {
      "cell_type": "markdown",
      "source": [
        "##Importando as bibliotecas:"
      ],
      "metadata": {
        "id": "gTXc22ZfX28V"
      }
    },
    {
      "cell_type": "code",
      "source": [
        "import pandas as pd\n",
        "import numpy as np\n",
        "\n",
        "import matplotlib.pyplot as plt\n",
        "import seaborn as sns"
      ],
      "metadata": {
        "id": "hQw1R9X_X5si"
      },
      "execution_count": 190,
      "outputs": []
    },
    {
      "cell_type": "markdown",
      "source": [
        "##Importando o dataset:"
      ],
      "metadata": {
        "id": "Bix_Y6OqVhyI"
      }
    },
    {
      "cell_type": "code",
      "source": [
        "df = pd.read_csv(\"df_final_sample.csv\")\n"
      ],
      "metadata": {
        "id": "S6HHIjA5Lmr8"
      },
      "execution_count": 191,
      "outputs": []
    },
    {
      "cell_type": "code",
      "source": [
        "df = df_final.copy()"
      ],
      "metadata": {
        "id": "T16yI_eFYGVN"
      },
      "execution_count": 192,
      "outputs": []
    },
    {
      "cell_type": "markdown",
      "source": [
        "##Quais colunas nos interessam?"
      ],
      "metadata": {
        "id": "lqfSDiaUdZFm"
      }
    },
    {
      "cell_type": "code",
      "source": [
        "df.columns"
      ],
      "metadata": {
        "id": "ko1W-gMhaINi",
        "colab": {
          "base_uri": "https://localhost:8080/"
        },
        "outputId": "728d6a2c-4d32-4cd3-9fbf-3b813b2fc3ff"
      },
      "execution_count": 193,
      "outputs": [
        {
          "output_type": "execute_result",
          "data": {
            "text/plain": [
              "Index(['NFT', 'Floor Price', '24h(%)', 'Market Cap', '24h Volume', 'Owners',\n",
              "       '24h Owners', 'Total Assets', 'Owner Ratio'],\n",
              "      dtype='object')"
            ]
          },
          "metadata": {},
          "execution_count": 193
        }
      ]
    },
    {
      "cell_type": "code",
      "source": [
        "df.info()"
      ],
      "metadata": {
        "id": "iRQ9IqKJdbpC",
        "colab": {
          "base_uri": "https://localhost:8080/"
        },
        "outputId": "7d717d3e-5964-4829-b91b-92e16f022412"
      },
      "execution_count": 194,
      "outputs": [
        {
          "output_type": "stream",
          "name": "stdout",
          "text": [
            "<class 'pandas.core.frame.DataFrame'>\n",
            "RangeIndex: 125 entries, 0 to 124\n",
            "Data columns (total 9 columns):\n",
            " #   Column        Non-Null Count  Dtype  \n",
            "---  ------        --------------  -----  \n",
            " 0   NFT           125 non-null    object \n",
            " 1   Floor Price   125 non-null    float64\n",
            " 2   24h(%)        125 non-null    float64\n",
            " 3   Market Cap    125 non-null    object \n",
            " 4   24h Volume    125 non-null    object \n",
            " 5   Owners        125 non-null    float64\n",
            " 6   24h Owners    125 non-null    object \n",
            " 7   Total Assets  125 non-null    float64\n",
            " 8   Owner Ratio   125 non-null    float64\n",
            "dtypes: float64(5), object(4)\n",
            "memory usage: 8.9+ KB\n"
          ]
        }
      ]
    },
    {
      "cell_type": "code",
      "source": [
        "df.head()"
      ],
      "metadata": {
        "id": "PP16xP7Pe1fP",
        "colab": {
          "base_uri": "https://localhost:8080/",
          "height": 0
        },
        "outputId": "b21f5e0c-56f9-49d2-f241-eb462cd96880"
      },
      "execution_count": 195,
      "outputs": [
        {
          "output_type": "execute_result",
          "data": {
            "text/html": [
              "\n",
              "  <div id=\"df-31c35295-6d9f-48e3-aa72-c4f11e2d1870\">\n",
              "    <div class=\"colab-df-container\">\n",
              "      <div>\n",
              "<style scoped>\n",
              "    .dataframe tbody tr th:only-of-type {\n",
              "        vertical-align: middle;\n",
              "    }\n",
              "\n",
              "    .dataframe tbody tr th {\n",
              "        vertical-align: top;\n",
              "    }\n",
              "\n",
              "    .dataframe thead th {\n",
              "        text-align: right;\n",
              "    }\n",
              "</style>\n",
              "<table border=\"1\" class=\"dataframe\">\n",
              "  <thead>\n",
              "    <tr style=\"text-align: right;\">\n",
              "      <th></th>\n",
              "      <th>NFT</th>\n",
              "      <th>Floor Price</th>\n",
              "      <th>24h(%)</th>\n",
              "      <th>Market Cap</th>\n",
              "      <th>24h Volume</th>\n",
              "      <th>Owners</th>\n",
              "      <th>24h Owners</th>\n",
              "      <th>Total Assets</th>\n",
              "      <th>Owner Ratio</th>\n",
              "    </tr>\n",
              "  </thead>\n",
              "  <tbody>\n",
              "    <tr>\n",
              "      <th>0</th>\n",
              "      <td>Meebits</td>\n",
              "      <td>2.93000</td>\n",
              "      <td>-7.5</td>\n",
              "      <td>58600.0</td>\n",
              "      <td>11006.79</td>\n",
              "      <td>5750.0</td>\n",
              "      <td>0.0</td>\n",
              "      <td>20000.0</td>\n",
              "      <td>28.750000</td>\n",
              "    </tr>\n",
              "    <tr>\n",
              "      <th>1</th>\n",
              "      <td>dotdotdots</td>\n",
              "      <td>0.19400</td>\n",
              "      <td>-10.7</td>\n",
              "      <td>944.78</td>\n",
              "      <td>5342.72</td>\n",
              "      <td>2654.0</td>\n",
              "      <td>0.2</td>\n",
              "      <td>4870.0</td>\n",
              "      <td>54.496920</td>\n",
              "    </tr>\n",
              "    <tr>\n",
              "      <th>2</th>\n",
              "      <td>Azuki</td>\n",
              "      <td>14.00000</td>\n",
              "      <td>-8.2</td>\n",
              "      <td>140000.0</td>\n",
              "      <td>809.84</td>\n",
              "      <td>5407.0</td>\n",
              "      <td>0.1</td>\n",
              "      <td>10000.0</td>\n",
              "      <td>54.070000</td>\n",
              "    </tr>\n",
              "    <tr>\n",
              "      <th>3</th>\n",
              "      <td>Bored Ape Yacht Club</td>\n",
              "      <td>93.00000</td>\n",
              "      <td>-10.1</td>\n",
              "      <td>930000.0</td>\n",
              "      <td>708.88</td>\n",
              "      <td>6312.0</td>\n",
              "      <td>-0.0</td>\n",
              "      <td>10000.0</td>\n",
              "      <td>63.120000</td>\n",
              "    </tr>\n",
              "    <tr>\n",
              "      <th>4</th>\n",
              "      <td>CloneX</td>\n",
              "      <td>13.45555</td>\n",
              "      <td>-15.0</td>\n",
              "      <td>254027.33</td>\n",
              "      <td>704.94</td>\n",
              "      <td>8308.0</td>\n",
              "      <td>0.2</td>\n",
              "      <td>18879.0</td>\n",
              "      <td>44.006568</td>\n",
              "    </tr>\n",
              "  </tbody>\n",
              "</table>\n",
              "</div>\n",
              "      <button class=\"colab-df-convert\" onclick=\"convertToInteractive('df-31c35295-6d9f-48e3-aa72-c4f11e2d1870')\"\n",
              "              title=\"Convert this dataframe to an interactive table.\"\n",
              "              style=\"display:none;\">\n",
              "        \n",
              "  <svg xmlns=\"http://www.w3.org/2000/svg\" height=\"24px\"viewBox=\"0 0 24 24\"\n",
              "       width=\"24px\">\n",
              "    <path d=\"M0 0h24v24H0V0z\" fill=\"none\"/>\n",
              "    <path d=\"M18.56 5.44l.94 2.06.94-2.06 2.06-.94-2.06-.94-.94-2.06-.94 2.06-2.06.94zm-11 1L8.5 8.5l.94-2.06 2.06-.94-2.06-.94L8.5 2.5l-.94 2.06-2.06.94zm10 10l.94 2.06.94-2.06 2.06-.94-2.06-.94-.94-2.06-.94 2.06-2.06.94z\"/><path d=\"M17.41 7.96l-1.37-1.37c-.4-.4-.92-.59-1.43-.59-.52 0-1.04.2-1.43.59L10.3 9.45l-7.72 7.72c-.78.78-.78 2.05 0 2.83L4 21.41c.39.39.9.59 1.41.59.51 0 1.02-.2 1.41-.59l7.78-7.78 2.81-2.81c.8-.78.8-2.07 0-2.86zM5.41 20L4 18.59l7.72-7.72 1.47 1.35L5.41 20z\"/>\n",
              "  </svg>\n",
              "      </button>\n",
              "      \n",
              "  <style>\n",
              "    .colab-df-container {\n",
              "      display:flex;\n",
              "      flex-wrap:wrap;\n",
              "      gap: 12px;\n",
              "    }\n",
              "\n",
              "    .colab-df-convert {\n",
              "      background-color: #E8F0FE;\n",
              "      border: none;\n",
              "      border-radius: 50%;\n",
              "      cursor: pointer;\n",
              "      display: none;\n",
              "      fill: #1967D2;\n",
              "      height: 32px;\n",
              "      padding: 0 0 0 0;\n",
              "      width: 32px;\n",
              "    }\n",
              "\n",
              "    .colab-df-convert:hover {\n",
              "      background-color: #E2EBFA;\n",
              "      box-shadow: 0px 1px 2px rgba(60, 64, 67, 0.3), 0px 1px 3px 1px rgba(60, 64, 67, 0.15);\n",
              "      fill: #174EA6;\n",
              "    }\n",
              "\n",
              "    [theme=dark] .colab-df-convert {\n",
              "      background-color: #3B4455;\n",
              "      fill: #D2E3FC;\n",
              "    }\n",
              "\n",
              "    [theme=dark] .colab-df-convert:hover {\n",
              "      background-color: #434B5C;\n",
              "      box-shadow: 0px 1px 3px 1px rgba(0, 0, 0, 0.15);\n",
              "      filter: drop-shadow(0px 1px 2px rgba(0, 0, 0, 0.3));\n",
              "      fill: #FFFFFF;\n",
              "    }\n",
              "  </style>\n",
              "\n",
              "      <script>\n",
              "        const buttonEl =\n",
              "          document.querySelector('#df-31c35295-6d9f-48e3-aa72-c4f11e2d1870 button.colab-df-convert');\n",
              "        buttonEl.style.display =\n",
              "          google.colab.kernel.accessAllowed ? 'block' : 'none';\n",
              "\n",
              "        async function convertToInteractive(key) {\n",
              "          const element = document.querySelector('#df-31c35295-6d9f-48e3-aa72-c4f11e2d1870');\n",
              "          const dataTable =\n",
              "            await google.colab.kernel.invokeFunction('convertToInteractive',\n",
              "                                                     [key], {});\n",
              "          if (!dataTable) return;\n",
              "\n",
              "          const docLinkHtml = 'Like what you see? Visit the ' +\n",
              "            '<a target=\"_blank\" href=https://colab.research.google.com/notebooks/data_table.ipynb>data table notebook</a>'\n",
              "            + ' to learn more about interactive tables.';\n",
              "          element.innerHTML = '';\n",
              "          dataTable['output_type'] = 'display_data';\n",
              "          await google.colab.output.renderOutput(dataTable, element);\n",
              "          const docLink = document.createElement('div');\n",
              "          docLink.innerHTML = docLinkHtml;\n",
              "          element.appendChild(docLink);\n",
              "        }\n",
              "      </script>\n",
              "    </div>\n",
              "  </div>\n",
              "  "
            ],
            "text/plain": [
              "                    NFT  Floor Price  ...  Total Assets Owner Ratio\n",
              "0               Meebits      2.93000  ...       20000.0   28.750000\n",
              "1            dotdotdots      0.19400  ...        4870.0   54.496920\n",
              "2                 Azuki     14.00000  ...       10000.0   54.070000\n",
              "3  Bored Ape Yacht Club     93.00000  ...       10000.0   63.120000\n",
              "4                CloneX     13.45555  ...       18879.0   44.006568\n",
              "\n",
              "[5 rows x 9 columns]"
            ]
          },
          "metadata": {},
          "execution_count": 195
        }
      ]
    },
    {
      "cell_type": "code",
      "source": [
        "df.tail()"
      ],
      "metadata": {
        "colab": {
          "base_uri": "https://localhost:8080/",
          "height": 0
        },
        "id": "R_wmETqXadqs",
        "outputId": "13509851-9a89-4da4-e6b3-2dbc7d0e0240"
      },
      "execution_count": 196,
      "outputs": [
        {
          "output_type": "execute_result",
          "data": {
            "text/html": [
              "\n",
              "  <div id=\"df-4dd2f010-3ebf-4a6a-81dc-45b170a62088\">\n",
              "    <div class=\"colab-df-container\">\n",
              "      <div>\n",
              "<style scoped>\n",
              "    .dataframe tbody tr th:only-of-type {\n",
              "        vertical-align: middle;\n",
              "    }\n",
              "\n",
              "    .dataframe tbody tr th {\n",
              "        vertical-align: top;\n",
              "    }\n",
              "\n",
              "    .dataframe thead th {\n",
              "        text-align: right;\n",
              "    }\n",
              "</style>\n",
              "<table border=\"1\" class=\"dataframe\">\n",
              "  <thead>\n",
              "    <tr style=\"text-align: right;\">\n",
              "      <th></th>\n",
              "      <th>NFT</th>\n",
              "      <th>Floor Price</th>\n",
              "      <th>24h(%)</th>\n",
              "      <th>Market Cap</th>\n",
              "      <th>24h Volume</th>\n",
              "      <th>Owners</th>\n",
              "      <th>24h Owners</th>\n",
              "      <th>Total Assets</th>\n",
              "      <th>Owner Ratio</th>\n",
              "    </tr>\n",
              "  </thead>\n",
              "  <tbody>\n",
              "    <tr>\n",
              "      <th>120</th>\n",
              "      <td>Dark Super Bunnies</td>\n",
              "      <td>0.0190</td>\n",
              "      <td>-82.5</td>\n",
              "      <td>83.77</td>\n",
              "      <td>0.1</td>\n",
              "      <td>1738.0</td>\n",
              "      <td>-0.1</td>\n",
              "      <td>4409.0</td>\n",
              "      <td>39.419369</td>\n",
              "    </tr>\n",
              "    <tr>\n",
              "      <th>121</th>\n",
              "      <td>Generative Masks</td>\n",
              "      <td>0.0800</td>\n",
              "      <td>-22.4</td>\n",
              "      <td>799.92</td>\n",
              "      <td>0.1</td>\n",
              "      <td>3461.0</td>\n",
              "      <td>0.2</td>\n",
              "      <td>9999.0</td>\n",
              "      <td>34.613461</td>\n",
              "    </tr>\n",
              "    <tr>\n",
              "      <th>122</th>\n",
              "      <td>Dope Shibas</td>\n",
              "      <td>0.0111</td>\n",
              "      <td>-55.8</td>\n",
              "      <td>109.88</td>\n",
              "      <td>0.09</td>\n",
              "      <td>4002.0</td>\n",
              "      <td>0.1</td>\n",
              "      <td>9899.0</td>\n",
              "      <td>40.428326</td>\n",
              "    </tr>\n",
              "    <tr>\n",
              "      <th>123</th>\n",
              "      <td>Angry Apes United</td>\n",
              "      <td>0.0350</td>\n",
              "      <td>-7.8</td>\n",
              "      <td>311.08</td>\n",
              "      <td>0.06</td>\n",
              "      <td>4944.0</td>\n",
              "      <td>0.0</td>\n",
              "      <td>8888.0</td>\n",
              "      <td>55.625563</td>\n",
              "    </tr>\n",
              "    <tr>\n",
              "      <th>124</th>\n",
              "      <td>MOONDOGS ODYSSEY</td>\n",
              "      <td>0.0199</td>\n",
              "      <td>-1.4</td>\n",
              "      <td>99.5</td>\n",
              "      <td>0.05</td>\n",
              "      <td>1930.0</td>\n",
              "      <td>0.1</td>\n",
              "      <td>5000.0</td>\n",
              "      <td>38.600000</td>\n",
              "    </tr>\n",
              "  </tbody>\n",
              "</table>\n",
              "</div>\n",
              "      <button class=\"colab-df-convert\" onclick=\"convertToInteractive('df-4dd2f010-3ebf-4a6a-81dc-45b170a62088')\"\n",
              "              title=\"Convert this dataframe to an interactive table.\"\n",
              "              style=\"display:none;\">\n",
              "        \n",
              "  <svg xmlns=\"http://www.w3.org/2000/svg\" height=\"24px\"viewBox=\"0 0 24 24\"\n",
              "       width=\"24px\">\n",
              "    <path d=\"M0 0h24v24H0V0z\" fill=\"none\"/>\n",
              "    <path d=\"M18.56 5.44l.94 2.06.94-2.06 2.06-.94-2.06-.94-.94-2.06-.94 2.06-2.06.94zm-11 1L8.5 8.5l.94-2.06 2.06-.94-2.06-.94L8.5 2.5l-.94 2.06-2.06.94zm10 10l.94 2.06.94-2.06 2.06-.94-2.06-.94-.94-2.06-.94 2.06-2.06.94z\"/><path d=\"M17.41 7.96l-1.37-1.37c-.4-.4-.92-.59-1.43-.59-.52 0-1.04.2-1.43.59L10.3 9.45l-7.72 7.72c-.78.78-.78 2.05 0 2.83L4 21.41c.39.39.9.59 1.41.59.51 0 1.02-.2 1.41-.59l7.78-7.78 2.81-2.81c.8-.78.8-2.07 0-2.86zM5.41 20L4 18.59l7.72-7.72 1.47 1.35L5.41 20z\"/>\n",
              "  </svg>\n",
              "      </button>\n",
              "      \n",
              "  <style>\n",
              "    .colab-df-container {\n",
              "      display:flex;\n",
              "      flex-wrap:wrap;\n",
              "      gap: 12px;\n",
              "    }\n",
              "\n",
              "    .colab-df-convert {\n",
              "      background-color: #E8F0FE;\n",
              "      border: none;\n",
              "      border-radius: 50%;\n",
              "      cursor: pointer;\n",
              "      display: none;\n",
              "      fill: #1967D2;\n",
              "      height: 32px;\n",
              "      padding: 0 0 0 0;\n",
              "      width: 32px;\n",
              "    }\n",
              "\n",
              "    .colab-df-convert:hover {\n",
              "      background-color: #E2EBFA;\n",
              "      box-shadow: 0px 1px 2px rgba(60, 64, 67, 0.3), 0px 1px 3px 1px rgba(60, 64, 67, 0.15);\n",
              "      fill: #174EA6;\n",
              "    }\n",
              "\n",
              "    [theme=dark] .colab-df-convert {\n",
              "      background-color: #3B4455;\n",
              "      fill: #D2E3FC;\n",
              "    }\n",
              "\n",
              "    [theme=dark] .colab-df-convert:hover {\n",
              "      background-color: #434B5C;\n",
              "      box-shadow: 0px 1px 3px 1px rgba(0, 0, 0, 0.15);\n",
              "      filter: drop-shadow(0px 1px 2px rgba(0, 0, 0, 0.3));\n",
              "      fill: #FFFFFF;\n",
              "    }\n",
              "  </style>\n",
              "\n",
              "      <script>\n",
              "        const buttonEl =\n",
              "          document.querySelector('#df-4dd2f010-3ebf-4a6a-81dc-45b170a62088 button.colab-df-convert');\n",
              "        buttonEl.style.display =\n",
              "          google.colab.kernel.accessAllowed ? 'block' : 'none';\n",
              "\n",
              "        async function convertToInteractive(key) {\n",
              "          const element = document.querySelector('#df-4dd2f010-3ebf-4a6a-81dc-45b170a62088');\n",
              "          const dataTable =\n",
              "            await google.colab.kernel.invokeFunction('convertToInteractive',\n",
              "                                                     [key], {});\n",
              "          if (!dataTable) return;\n",
              "\n",
              "          const docLinkHtml = 'Like what you see? Visit the ' +\n",
              "            '<a target=\"_blank\" href=https://colab.research.google.com/notebooks/data_table.ipynb>data table notebook</a>'\n",
              "            + ' to learn more about interactive tables.';\n",
              "          element.innerHTML = '';\n",
              "          dataTable['output_type'] = 'display_data';\n",
              "          await google.colab.output.renderOutput(dataTable, element);\n",
              "          const docLink = document.createElement('div');\n",
              "          docLink.innerHTML = docLinkHtml;\n",
              "          element.appendChild(docLink);\n",
              "        }\n",
              "      </script>\n",
              "    </div>\n",
              "  </div>\n",
              "  "
            ],
            "text/plain": [
              "                    NFT  Floor Price  ...  Total Assets Owner Ratio\n",
              "120  Dark Super Bunnies       0.0190  ...        4409.0   39.419369\n",
              "121    Generative Masks       0.0800  ...        9999.0   34.613461\n",
              "122         Dope Shibas       0.0111  ...        9899.0   40.428326\n",
              "123   Angry Apes United       0.0350  ...        8888.0   55.625563\n",
              "124    MOONDOGS ODYSSEY       0.0199  ...        5000.0   38.600000\n",
              "\n",
              "[5 rows x 9 columns]"
            ]
          },
          "metadata": {},
          "execution_count": 196
        }
      ]
    },
    {
      "cell_type": "code",
      "source": [
        "df.corr(method=\"pearson\")"
      ],
      "metadata": {
        "colab": {
          "base_uri": "https://localhost:8080/",
          "height": 0
        },
        "id": "1lCbXA44wpzu",
        "outputId": "3c992c69-6e40-49ab-830d-93d2e9e0f8be"
      },
      "execution_count": 197,
      "outputs": [
        {
          "output_type": "execute_result",
          "data": {
            "text/html": [
              "\n",
              "  <div id=\"df-f2b5034c-fbeb-4ae9-8f03-aa4dfba60042\">\n",
              "    <div class=\"colab-df-container\">\n",
              "      <div>\n",
              "<style scoped>\n",
              "    .dataframe tbody tr th:only-of-type {\n",
              "        vertical-align: middle;\n",
              "    }\n",
              "\n",
              "    .dataframe tbody tr th {\n",
              "        vertical-align: top;\n",
              "    }\n",
              "\n",
              "    .dataframe thead th {\n",
              "        text-align: right;\n",
              "    }\n",
              "</style>\n",
              "<table border=\"1\" class=\"dataframe\">\n",
              "  <thead>\n",
              "    <tr style=\"text-align: right;\">\n",
              "      <th></th>\n",
              "      <th>Floor Price</th>\n",
              "      <th>24h(%)</th>\n",
              "      <th>Owners</th>\n",
              "      <th>Total Assets</th>\n",
              "      <th>Owner Ratio</th>\n",
              "    </tr>\n",
              "  </thead>\n",
              "  <tbody>\n",
              "    <tr>\n",
              "      <th>Floor Price</th>\n",
              "      <td>1.000000</td>\n",
              "      <td>0.016634</td>\n",
              "      <td>0.081550</td>\n",
              "      <td>0.014322</td>\n",
              "      <td>-0.023378</td>\n",
              "    </tr>\n",
              "    <tr>\n",
              "      <th>24h(%)</th>\n",
              "      <td>0.016634</td>\n",
              "      <td>1.000000</td>\n",
              "      <td>-0.013083</td>\n",
              "      <td>0.021163</td>\n",
              "      <td>-0.261760</td>\n",
              "    </tr>\n",
              "    <tr>\n",
              "      <th>Owners</th>\n",
              "      <td>0.081550</td>\n",
              "      <td>-0.013083</td>\n",
              "      <td>1.000000</td>\n",
              "      <td>0.470415</td>\n",
              "      <td>0.026337</td>\n",
              "    </tr>\n",
              "    <tr>\n",
              "      <th>Total Assets</th>\n",
              "      <td>0.014322</td>\n",
              "      <td>0.021163</td>\n",
              "      <td>0.470415</td>\n",
              "      <td>1.000000</td>\n",
              "      <td>-0.077112</td>\n",
              "    </tr>\n",
              "    <tr>\n",
              "      <th>Owner Ratio</th>\n",
              "      <td>-0.023378</td>\n",
              "      <td>-0.261760</td>\n",
              "      <td>0.026337</td>\n",
              "      <td>-0.077112</td>\n",
              "      <td>1.000000</td>\n",
              "    </tr>\n",
              "  </tbody>\n",
              "</table>\n",
              "</div>\n",
              "      <button class=\"colab-df-convert\" onclick=\"convertToInteractive('df-f2b5034c-fbeb-4ae9-8f03-aa4dfba60042')\"\n",
              "              title=\"Convert this dataframe to an interactive table.\"\n",
              "              style=\"display:none;\">\n",
              "        \n",
              "  <svg xmlns=\"http://www.w3.org/2000/svg\" height=\"24px\"viewBox=\"0 0 24 24\"\n",
              "       width=\"24px\">\n",
              "    <path d=\"M0 0h24v24H0V0z\" fill=\"none\"/>\n",
              "    <path d=\"M18.56 5.44l.94 2.06.94-2.06 2.06-.94-2.06-.94-.94-2.06-.94 2.06-2.06.94zm-11 1L8.5 8.5l.94-2.06 2.06-.94-2.06-.94L8.5 2.5l-.94 2.06-2.06.94zm10 10l.94 2.06.94-2.06 2.06-.94-2.06-.94-.94-2.06-.94 2.06-2.06.94z\"/><path d=\"M17.41 7.96l-1.37-1.37c-.4-.4-.92-.59-1.43-.59-.52 0-1.04.2-1.43.59L10.3 9.45l-7.72 7.72c-.78.78-.78 2.05 0 2.83L4 21.41c.39.39.9.59 1.41.59.51 0 1.02-.2 1.41-.59l7.78-7.78 2.81-2.81c.8-.78.8-2.07 0-2.86zM5.41 20L4 18.59l7.72-7.72 1.47 1.35L5.41 20z\"/>\n",
              "  </svg>\n",
              "      </button>\n",
              "      \n",
              "  <style>\n",
              "    .colab-df-container {\n",
              "      display:flex;\n",
              "      flex-wrap:wrap;\n",
              "      gap: 12px;\n",
              "    }\n",
              "\n",
              "    .colab-df-convert {\n",
              "      background-color: #E8F0FE;\n",
              "      border: none;\n",
              "      border-radius: 50%;\n",
              "      cursor: pointer;\n",
              "      display: none;\n",
              "      fill: #1967D2;\n",
              "      height: 32px;\n",
              "      padding: 0 0 0 0;\n",
              "      width: 32px;\n",
              "    }\n",
              "\n",
              "    .colab-df-convert:hover {\n",
              "      background-color: #E2EBFA;\n",
              "      box-shadow: 0px 1px 2px rgba(60, 64, 67, 0.3), 0px 1px 3px 1px rgba(60, 64, 67, 0.15);\n",
              "      fill: #174EA6;\n",
              "    }\n",
              "\n",
              "    [theme=dark] .colab-df-convert {\n",
              "      background-color: #3B4455;\n",
              "      fill: #D2E3FC;\n",
              "    }\n",
              "\n",
              "    [theme=dark] .colab-df-convert:hover {\n",
              "      background-color: #434B5C;\n",
              "      box-shadow: 0px 1px 3px 1px rgba(0, 0, 0, 0.15);\n",
              "      filter: drop-shadow(0px 1px 2px rgba(0, 0, 0, 0.3));\n",
              "      fill: #FFFFFF;\n",
              "    }\n",
              "  </style>\n",
              "\n",
              "      <script>\n",
              "        const buttonEl =\n",
              "          document.querySelector('#df-f2b5034c-fbeb-4ae9-8f03-aa4dfba60042 button.colab-df-convert');\n",
              "        buttonEl.style.display =\n",
              "          google.colab.kernel.accessAllowed ? 'block' : 'none';\n",
              "\n",
              "        async function convertToInteractive(key) {\n",
              "          const element = document.querySelector('#df-f2b5034c-fbeb-4ae9-8f03-aa4dfba60042');\n",
              "          const dataTable =\n",
              "            await google.colab.kernel.invokeFunction('convertToInteractive',\n",
              "                                                     [key], {});\n",
              "          if (!dataTable) return;\n",
              "\n",
              "          const docLinkHtml = 'Like what you see? Visit the ' +\n",
              "            '<a target=\"_blank\" href=https://colab.research.google.com/notebooks/data_table.ipynb>data table notebook</a>'\n",
              "            + ' to learn more about interactive tables.';\n",
              "          element.innerHTML = '';\n",
              "          dataTable['output_type'] = 'display_data';\n",
              "          await google.colab.output.renderOutput(dataTable, element);\n",
              "          const docLink = document.createElement('div');\n",
              "          docLink.innerHTML = docLinkHtml;\n",
              "          element.appendChild(docLink);\n",
              "        }\n",
              "      </script>\n",
              "    </div>\n",
              "  </div>\n",
              "  "
            ],
            "text/plain": [
              "              Floor Price    24h(%)    Owners  Total Assets  Owner Ratio\n",
              "Floor Price      1.000000  0.016634  0.081550      0.014322    -0.023378\n",
              "24h(%)           0.016634  1.000000 -0.013083      0.021163    -0.261760\n",
              "Owners           0.081550 -0.013083  1.000000      0.470415     0.026337\n",
              "Total Assets     0.014322  0.021163  0.470415      1.000000    -0.077112\n",
              "Owner Ratio     -0.023378 -0.261760  0.026337     -0.077112     1.000000"
            ]
          },
          "metadata": {},
          "execution_count": 197
        }
      ]
    },
    {
      "cell_type": "code",
      "source": [
        "plt.figure(figsize=(14,10))\n",
        "heatmap = sns.heatmap(df.corr(), cmap=\"BuPu\", annot=True)\n",
        "heatmap.set_title('Correlation Heatmap', fontdict={'fontsize':18}, pad=12);"
      ],
      "metadata": {
        "colab": {
          "base_uri": "https://localhost:8080/",
          "height": 0
        },
        "id": "AsbnVcYjyVsy",
        "outputId": "b1bd747a-6570-4429-da6d-ca9e21d66a7a"
      },
      "execution_count": 198,
      "outputs": [
        {
          "output_type": "display_data",
          "data": {
            "image/png": "[encoded data removed]",
            "text/plain": [
              "<Figure size 1008x720 with 2 Axes>"
            ]
          },
          "metadata": {
            "needs_background": "light"
          }
        }
      ]
    },
    {
      "cell_type": "markdown",
      "source": [
        "##Análise de cada coluna:"
      ],
      "metadata": {
        "id": "ROnLSA7pe1xU"
      }
    },
    {
      "cell_type": "markdown",
      "source": [
        "###Floor Price:"
      ],
      "metadata": {
        "id": "0eq6pKY9xCIi"
      }
    },
    {
      "cell_type": "code",
      "source": [
        "df['Floor Price']"
      ],
      "metadata": {
        "id": "lyENhLtXftrB",
        "colab": {
          "base_uri": "https://localhost:8080/"
        },
        "outputId": "58a62272-d801-4ee1-8dbb-ca9d308e0e5e"
      },
      "execution_count": 199,
      "outputs": [
        {
          "output_type": "execute_result",
          "data": {
            "text/plain": [
              "0       2.93000\n",
              "1       0.19400\n",
              "2      14.00000\n",
              "3      93.00000\n",
              "4      13.45555\n",
              "         ...   \n",
              "120     0.01900\n",
              "121     0.08000\n",
              "122     0.01110\n",
              "123     0.03500\n",
              "124     0.01990\n",
              "Name: Floor Price, Length: 125, dtype: float64"
            ]
          },
          "metadata": {},
          "execution_count": 199
        }
      ]
    },
    {
      "cell_type": "code",
      "source": [
        "df['Floor Price'].describe()"
      ],
      "metadata": {
        "id": "CCa6ox0jftth",
        "colab": {
          "base_uri": "https://localhost:8080/"
        },
        "outputId": "814def01-ea71-4899-d45d-62be65cd6afc"
      },
      "execution_count": 200,
      "outputs": [
        {
          "output_type": "execute_result",
          "data": {
            "text/plain": [
              "count    125.000000\n",
              "mean       2.975153\n",
              "std       10.606158\n",
              "min        0.011100\n",
              "25%        0.100000\n",
              "50%        0.387000\n",
              "75%        1.620000\n",
              "max       93.000000\n",
              "Name: Floor Price, dtype: float64"
            ]
          },
          "metadata": {},
          "execution_count": 200
        }
      ]
    },
    {
      "cell_type": "code",
      "source": [
        "df2 = df[df['Floor Price'] < 80]"
      ],
      "metadata": {
        "id": "cZXd5RYYvKXV"
      },
      "execution_count": 201,
      "outputs": []
    },
    {
      "cell_type": "code",
      "source": [
        "df2['Floor Price'].describe()"
      ],
      "metadata": {
        "colab": {
          "base_uri": "https://localhost:8080/"
        },
        "id": "5SvpGn46vbZY",
        "outputId": "031b4322-2ec4-4b24-efd1-578f538cb240"
      },
      "execution_count": 202,
      "outputs": [
        {
          "output_type": "execute_result",
          "data": {
            "text/plain": [
              "count    124.000000\n",
              "mean       2.249146\n",
              "std        6.854469\n",
              "min        0.011100\n",
              "25%        0.099625\n",
              "50%        0.368500\n",
              "75%        1.492500\n",
              "max       67.950000\n",
              "Name: Floor Price, dtype: float64"
            ]
          },
          "metadata": {},
          "execution_count": 202
        }
      ]
    },
    {
      "cell_type": "code",
      "source": [
        "plt.figure(figsize=(12,6))\n",
        "df2.boxplot('Floor Price')\n",
        "plt.show()"
      ],
      "metadata": {
        "id": "keXhXAx8ftv8",
        "colab": {
          "base_uri": "https://localhost:8080/",
          "height": 0
        },
        "outputId": "7d94316f-126a-4762-addc-594d03dfe82a"
      },
      "execution_count": 203,
      "outputs": [
        {
          "output_type": "display_data",
          "data": {
            "image/png": "[encoded data removed]",
            "text/plain": [
              "<Figure size 864x432 with 1 Axes>"
            ]
          },
          "metadata": {
            "needs_background": "light"
          }
        }
      ]
    },
    {
      "cell_type": "markdown",
      "source": [
        "- Os dados estão concentrados por volta de 0 e 5 ETH. O que nos indica lançamentos baixos, exceto por alguns outliers discrepantes."
      ],
      "metadata": {
        "id": "5Tw1wf1TvjvW"
      }
    },
    {
      "cell_type": "markdown",
      "source": [
        "####Visualização dos dados:"
      ],
      "metadata": {
        "id": "-fb5XnfbviD2"
      }
    },
    {
      "cell_type": "code",
      "source": [
        "plt.figure(figsize=(12,6))\n",
        "sns.distplot(df['Floor Price'], bins=10)"
      ],
      "metadata": {
        "colab": {
          "base_uri": "https://localhost:8080/",
          "height": 0
        },
        "id": "duW9MbToqVvY",
        "outputId": "7963df9c-2ad9-4d9d-d671-7daf2511d6a3"
      },
      "execution_count": 204,
      "outputs": [
        {
          "output_type": "stream",
          "name": "stderr",
          "text": [
            "/usr/local/lib/python3.7/dist-packages/seaborn/distributions.py:2619: FutureWarning: `distplot` is a deprecated function and will be removed in a future version. Please adapt your code to use either `displot` (a figure-level function with similar flexibility) or `histplot` (an axes-level function for histograms).\n",
            "  warnings.warn(msg, FutureWarning)\n"
          ]
        },
        {
          "output_type": "execute_result",
          "data": {
            "text/plain": [
              "<matplotlib.axes._subplots.AxesSubplot at 0x7f191426b290>"
            ]
          },
          "metadata": {},
          "execution_count": 204
        },
        {
          "output_type": "display_data",
          "data": {
            "image/png": "[encoded data removed]",
            "text/plain": [
              "<Figure size 864x432 with 1 Axes>"
            ]
          },
          "metadata": {
            "needs_background": "light"
          }
        }
      ]
    },
    {
      "cell_type": "code",
      "source": [
        "plt.figure(figsize=(12,8))\n",
        "sns.kdeplot(df['Floor Price'])\n",
        "sns.rugplot(df['Floor Price'])"
      ],
      "metadata": {
        "colab": {
          "base_uri": "https://localhost:8080/",
          "height": 0
        },
        "id": "UYRCxJhnrH80",
        "outputId": "69b5e27c-cdb4-400b-dc94-f387e09758a9"
      },
      "execution_count": 205,
      "outputs": [
        {
          "output_type": "execute_result",
          "data": {
            "text/plain": [
              "<matplotlib.axes._subplots.AxesSubplot at 0x7f1914257bd0>"
            ]
          },
          "metadata": {},
          "execution_count": 205
        },
        {
          "output_type": "display_data",
          "data": {
            "image/png": "[encoded data removed]",
            "text/plain": [
              "<Figure size 864x576 with 1 Axes>"
            ]
          },
          "metadata": {
            "needs_background": "light"
          }
        }
      ]
    },
    {
      "cell_type": "code",
      "source": [
        "plt.figure(figsize=(12,8))\n",
        "sns.scatterplot(data=df['Floor Price'])"
      ],
      "metadata": {
        "colab": {
          "base_uri": "https://localhost:8080/",
          "height": 0
        },
        "id": "SoUCTB1Rr_gE",
        "outputId": "e19715c4-98b7-4830-deba-45b0a7089d47"
      },
      "execution_count": 206,
      "outputs": [
        {
          "output_type": "execute_result",
          "data": {
            "text/plain": [
              "<matplotlib.axes._subplots.AxesSubplot at 0x7f19142577d0>"
            ]
          },
          "metadata": {},
          "execution_count": 206
        },
        {
          "output_type": "display_data",
          "data": {
            "image/png": "[encoded data removed]",
            "text/plain": [
              "<Figure size 864x576 with 1 Axes>"
            ]
          },
          "metadata": {
            "needs_background": "light"
          }
        }
      ]
    },
    {
      "cell_type": "markdown",
      "source": [
        "###Variação nas últimas 24 horas:"
      ],
      "metadata": {
        "id": "kOqfOjfnzAsx"
      }
    },
    {
      "cell_type": "markdown",
      "source": [
        "- Essa coluna não nos informa muito sobre o dataset de um modo geral, visto que para termos uma informação de qualidade, sempre terá de ser dinâmica a relação mética fornecida nessa coluna, por isso as informações de estatística descritiva serão suficiente"
      ],
      "metadata": {
        "id": "FGFX790pzGOl"
      }
    },
    {
      "cell_type": "code",
      "source": [
        "df['24h(%)']"
      ],
      "metadata": {
        "colab": {
          "base_uri": "https://localhost:8080/"
        },
        "id": "NEcY_WbVzROy",
        "outputId": "185c45f2-7143-4419-b297-5d30077f0bd9"
      },
      "execution_count": 207,
      "outputs": [
        {
          "output_type": "execute_result",
          "data": {
            "text/plain": [
              "0      -7.5\n",
              "1     -10.7\n",
              "2      -8.2\n",
              "3     -10.1\n",
              "4     -15.0\n",
              "       ... \n",
              "120   -82.5\n",
              "121   -22.4\n",
              "122   -55.8\n",
              "123    -7.8\n",
              "124    -1.4\n",
              "Name: 24h(%), Length: 125, dtype: float64"
            ]
          },
          "metadata": {},
          "execution_count": 207
        }
      ]
    },
    {
      "cell_type": "code",
      "source": [
        "df[df['24h(%)'] == 904]"
      ],
      "metadata": {
        "colab": {
          "base_uri": "https://localhost:8080/",
          "height": 0
        },
        "id": "cnGI1w9-zZDF",
        "outputId": "6f2312a2-45e4-4b6e-af58-b2a80f3e8339"
      },
      "execution_count": 208,
      "outputs": [
        {
          "output_type": "execute_result",
          "data": {
            "text/html": [
              "\n",
              "  <div id=\"df-da18bde9-443e-4182-963a-1b5958ca24b0\">\n",
              "    <div class=\"colab-df-container\">\n",
              "      <div>\n",
              "<style scoped>\n",
              "    .dataframe tbody tr th:only-of-type {\n",
              "        vertical-align: middle;\n",
              "    }\n",
              "\n",
              "    .dataframe tbody tr th {\n",
              "        vertical-align: top;\n",
              "    }\n",
              "\n",
              "    .dataframe thead th {\n",
              "        text-align: right;\n",
              "    }\n",
              "</style>\n",
              "<table border=\"1\" class=\"dataframe\">\n",
              "  <thead>\n",
              "    <tr style=\"text-align: right;\">\n",
              "      <th></th>\n",
              "      <th>NFT</th>\n",
              "      <th>Floor Price</th>\n",
              "      <th>24h(%)</th>\n",
              "      <th>Market Cap</th>\n",
              "      <th>24h Volume</th>\n",
              "      <th>Owners</th>\n",
              "      <th>24h Owners</th>\n",
              "      <th>Total Assets</th>\n",
              "      <th>Owner Ratio</th>\n",
              "    </tr>\n",
              "  </thead>\n",
              "  <tbody>\n",
              "  </tbody>\n",
              "</table>\n",
              "</div>\n",
              "      <button class=\"colab-df-convert\" onclick=\"convertToInteractive('df-da18bde9-443e-4182-963a-1b5958ca24b0')\"\n",
              "              title=\"Convert this dataframe to an interactive table.\"\n",
              "              style=\"display:none;\">\n",
              "        \n",
              "  <svg xmlns=\"http://www.w3.org/2000/svg\" height=\"24px\"viewBox=\"0 0 24 24\"\n",
              "       width=\"24px\">\n",
              "    <path d=\"M0 0h24v24H0V0z\" fill=\"none\"/>\n",
              "    <path d=\"M18.56 5.44l.94 2.06.94-2.06 2.06-.94-2.06-.94-.94-2.06-.94 2.06-2.06.94zm-11 1L8.5 8.5l.94-2.06 2.06-.94-2.06-.94L8.5 2.5l-.94 2.06-2.06.94zm10 10l.94 2.06.94-2.06 2.06-.94-2.06-.94-.94-2.06-.94 2.06-2.06.94z\"/><path d=\"M17.41 7.96l-1.37-1.37c-.4-.4-.92-.59-1.43-.59-.52 0-1.04.2-1.43.59L10.3 9.45l-7.72 7.72c-.78.78-.78 2.05 0 2.83L4 21.41c.39.39.9.59 1.41.59.51 0 1.02-.2 1.41-.59l7.78-7.78 2.81-2.81c.8-.78.8-2.07 0-2.86zM5.41 20L4 18.59l7.72-7.72 1.47 1.35L5.41 20z\"/>\n",
              "  </svg>\n",
              "      </button>\n",
              "      \n",
              "  <style>\n",
              "    .colab-df-container {\n",
              "      display:flex;\n",
              "      flex-wrap:wrap;\n",
              "      gap: 12px;\n",
              "    }\n",
              "\n",
              "    .colab-df-convert {\n",
              "      background-color: #E8F0FE;\n",
              "      border: none;\n",
              "      border-radius: 50%;\n",
              "      cursor: pointer;\n",
              "      display: none;\n",
              "      fill: #1967D2;\n",
              "      height: 32px;\n",
              "      padding: 0 0 0 0;\n",
              "      width: 32px;\n",
              "    }\n",
              "\n",
              "    .colab-df-convert:hover {\n",
              "      background-color: #E2EBFA;\n",
              "      box-shadow: 0px 1px 2px rgba(60, 64, 67, 0.3), 0px 1px 3px 1px rgba(60, 64, 67, 0.15);\n",
              "      fill: #174EA6;\n",
              "    }\n",
              "\n",
              "    [theme=dark] .colab-df-convert {\n",
              "      background-color: #3B4455;\n",
              "      fill: #D2E3FC;\n",
              "    }\n",
              "\n",
              "    [theme=dark] .colab-df-convert:hover {\n",
              "      background-color: #434B5C;\n",
              "      box-shadow: 0px 1px 3px 1px rgba(0, 0, 0, 0.15);\n",
              "      filter: drop-shadow(0px 1px 2px rgba(0, 0, 0, 0.3));\n",
              "      fill: #FFFFFF;\n",
              "    }\n",
              "  </style>\n",
              "\n",
              "      <script>\n",
              "        const buttonEl =\n",
              "          document.querySelector('#df-da18bde9-443e-4182-963a-1b5958ca24b0 button.colab-df-convert');\n",
              "        buttonEl.style.display =\n",
              "          google.colab.kernel.accessAllowed ? 'block' : 'none';\n",
              "\n",
              "        async function convertToInteractive(key) {\n",
              "          const element = document.querySelector('#df-da18bde9-443e-4182-963a-1b5958ca24b0');\n",
              "          const dataTable =\n",
              "            await google.colab.kernel.invokeFunction('convertToInteractive',\n",
              "                                                     [key], {});\n",
              "          if (!dataTable) return;\n",
              "\n",
              "          const docLinkHtml = 'Like what you see? Visit the ' +\n",
              "            '<a target=\"_blank\" href=https://colab.research.google.com/notebooks/data_table.ipynb>data table notebook</a>'\n",
              "            + ' to learn more about interactive tables.';\n",
              "          element.innerHTML = '';\n",
              "          dataTable['output_type'] = 'display_data';\n",
              "          await google.colab.output.renderOutput(dataTable, element);\n",
              "          const docLink = document.createElement('div');\n",
              "          docLink.innerHTML = docLinkHtml;\n",
              "          element.appendChild(docLink);\n",
              "        }\n",
              "      </script>\n",
              "    </div>\n",
              "  </div>\n",
              "  "
            ],
            "text/plain": [
              "Empty DataFrame\n",
              "Columns: [NFT, Floor Price, 24h(%), Market Cap, 24h Volume, Owners, 24h Owners, Total Assets, Owner Ratio]\n",
              "Index: []"
            ]
          },
          "metadata": {},
          "execution_count": 208
        }
      ]
    },
    {
      "cell_type": "markdown",
      "source": [
        "- É possível sabermos os NFTs que tem um crescimento nas últimas 24 horas acima da média:"
      ],
      "metadata": {
        "id": "wPEfFafdzkVp"
      }
    },
    {
      "cell_type": "code",
      "source": [
        "df_mean24h = df[df['24h(%)'] > df['24h(%)'].mean() ]"
      ],
      "metadata": {
        "id": "TsZETMknzjzd"
      },
      "execution_count": 209,
      "outputs": []
    },
    {
      "cell_type": "code",
      "source": [
        "df_mean24h.describe()"
      ],
      "metadata": {
        "colab": {
          "base_uri": "https://localhost:8080/",
          "height": 0
        },
        "id": "wsTBz0uwz2RE",
        "outputId": "a7621deb-8e60-4b42-b81b-a03af825bee8"
      },
      "execution_count": 210,
      "outputs": [
        {
          "output_type": "execute_result",
          "data": {
            "text/html": [
              "\n",
              "  <div id=\"df-af871a09-87fc-46cf-b7e3-24f786e8f402\">\n",
              "    <div class=\"colab-df-container\">\n",
              "      <div>\n",
              "<style scoped>\n",
              "    .dataframe tbody tr th:only-of-type {\n",
              "        vertical-align: middle;\n",
              "    }\n",
              "\n",
              "    .dataframe tbody tr th {\n",
              "        vertical-align: top;\n",
              "    }\n",
              "\n",
              "    .dataframe thead th {\n",
              "        text-align: right;\n",
              "    }\n",
              "</style>\n",
              "<table border=\"1\" class=\"dataframe\">\n",
              "  <thead>\n",
              "    <tr style=\"text-align: right;\">\n",
              "      <th></th>\n",
              "      <th>Floor Price</th>\n",
              "      <th>24h(%)</th>\n",
              "      <th>Owners</th>\n",
              "      <th>Total Assets</th>\n",
              "      <th>Owner Ratio</th>\n",
              "    </tr>\n",
              "  </thead>\n",
              "  <tbody>\n",
              "    <tr>\n",
              "      <th>count</th>\n",
              "      <td>69.000000</td>\n",
              "      <td>69.000000</td>\n",
              "      <td>69.000000</td>\n",
              "      <td>69.000000</td>\n",
              "      <td>69.000000</td>\n",
              "    </tr>\n",
              "    <tr>\n",
              "      <th>mean</th>\n",
              "      <td>4.258588</td>\n",
              "      <td>-3.460870</td>\n",
              "      <td>3957.304348</td>\n",
              "      <td>10813.086957</td>\n",
              "      <td>226.914651</td>\n",
              "    </tr>\n",
              "    <tr>\n",
              "      <th>std</th>\n",
              "      <td>13.896720</td>\n",
              "      <td>11.218462</td>\n",
              "      <td>4556.773308</td>\n",
              "      <td>17856.780886</td>\n",
              "      <td>1121.918300</td>\n",
              "    </tr>\n",
              "    <tr>\n",
              "      <th>min</th>\n",
              "      <td>0.019900</td>\n",
              "      <td>-10.100000</td>\n",
              "      <td>56.000000</td>\n",
              "      <td>4.000000</td>\n",
              "      <td>2.770905</td>\n",
              "    </tr>\n",
              "    <tr>\n",
              "      <th>25%</th>\n",
              "      <td>0.140000</td>\n",
              "      <td>-8.600000</td>\n",
              "      <td>1894.000000</td>\n",
              "      <td>5000.000000</td>\n",
              "      <td>30.140000</td>\n",
              "    </tr>\n",
              "    <tr>\n",
              "      <th>50%</th>\n",
              "      <td>0.580000</td>\n",
              "      <td>-7.600000</td>\n",
              "      <td>3391.000000</td>\n",
              "      <td>9811.000000</td>\n",
              "      <td>39.400000</td>\n",
              "    </tr>\n",
              "    <tr>\n",
              "      <th>75%</th>\n",
              "      <td>1.940000</td>\n",
              "      <td>-3.400000</td>\n",
              "      <td>5045.000000</td>\n",
              "      <td>10000.000000</td>\n",
              "      <td>50.833740</td>\n",
              "    </tr>\n",
              "    <tr>\n",
              "      <th>max</th>\n",
              "      <td>93.000000</td>\n",
              "      <td>53.000000</td>\n",
              "      <td>32794.000000</td>\n",
              "      <td>150072.000000</td>\n",
              "      <td>7789.548694</td>\n",
              "    </tr>\n",
              "  </tbody>\n",
              "</table>\n",
              "</div>\n",
              "      <button class=\"colab-df-convert\" onclick=\"convertToInteractive('df-af871a09-87fc-46cf-b7e3-24f786e8f402')\"\n",
              "              title=\"Convert this dataframe to an interactive table.\"\n",
              "              style=\"display:none;\">\n",
              "        \n",
              "  <svg xmlns=\"http://www.w3.org/2000/svg\" height=\"24px\"viewBox=\"0 0 24 24\"\n",
              "       width=\"24px\">\n",
              "    <path d=\"M0 0h24v24H0V0z\" fill=\"none\"/>\n",
              "    <path d=\"M18.56 5.44l.94 2.06.94-2.06 2.06-.94-2.06-.94-.94-2.06-.94 2.06-2.06.94zm-11 1L8.5 8.5l.94-2.06 2.06-.94-2.06-.94L8.5 2.5l-.94 2.06-2.06.94zm10 10l.94 2.06.94-2.06 2.06-.94-2.06-.94-.94-2.06-.94 2.06-2.06.94z\"/><path d=\"M17.41 7.96l-1.37-1.37c-.4-.4-.92-.59-1.43-.59-.52 0-1.04.2-1.43.59L10.3 9.45l-7.72 7.72c-.78.78-.78 2.05 0 2.83L4 21.41c.39.39.9.59 1.41.59.51 0 1.02-.2 1.41-.59l7.78-7.78 2.81-2.81c.8-.78.8-2.07 0-2.86zM5.41 20L4 18.59l7.72-7.72 1.47 1.35L5.41 20z\"/>\n",
              "  </svg>\n",
              "      </button>\n",
              "      \n",
              "  <style>\n",
              "    .colab-df-container {\n",
              "      display:flex;\n",
              "      flex-wrap:wrap;\n",
              "      gap: 12px;\n",
              "    }\n",
              "\n",
              "    .colab-df-convert {\n",
              "      background-color: #E8F0FE;\n",
              "      border: none;\n",
              "      border-radius: 50%;\n",
              "      cursor: pointer;\n",
              "      display: none;\n",
              "      fill: #1967D2;\n",
              "      height: 32px;\n",
              "      padding: 0 0 0 0;\n",
              "      width: 32px;\n",
              "    }\n",
              "\n",
              "    .colab-df-convert:hover {\n",
              "      background-color: #E2EBFA;\n",
              "      box-shadow: 0px 1px 2px rgba(60, 64, 67, 0.3), 0px 1px 3px 1px rgba(60, 64, 67, 0.15);\n",
              "      fill: #174EA6;\n",
              "    }\n",
              "\n",
              "    [theme=dark] .colab-df-convert {\n",
              "      background-color: #3B4455;\n",
              "      fill: #D2E3FC;\n",
              "    }\n",
              "\n",
              "    [theme=dark] .colab-df-convert:hover {\n",
              "      background-color: #434B5C;\n",
              "      box-shadow: 0px 1px 3px 1px rgba(0, 0, 0, 0.15);\n",
              "      filter: drop-shadow(0px 1px 2px rgba(0, 0, 0, 0.3));\n",
              "      fill: #FFFFFF;\n",
              "    }\n",
              "  </style>\n",
              "\n",
              "      <script>\n",
              "        const buttonEl =\n",
              "          document.querySelector('#df-af871a09-87fc-46cf-b7e3-24f786e8f402 button.colab-df-convert');\n",
              "        buttonEl.style.display =\n",
              "          google.colab.kernel.accessAllowed ? 'block' : 'none';\n",
              "\n",
              "        async function convertToInteractive(key) {\n",
              "          const element = document.querySelector('#df-af871a09-87fc-46cf-b7e3-24f786e8f402');\n",
              "          const dataTable =\n",
              "            await google.colab.kernel.invokeFunction('convertToInteractive',\n",
              "                                                     [key], {});\n",
              "          if (!dataTable) return;\n",
              "\n",
              "          const docLinkHtml = 'Like what you see? Visit the ' +\n",
              "            '<a target=\"_blank\" href=https://colab.research.google.com/notebooks/data_table.ipynb>data table notebook</a>'\n",
              "            + ' to learn more about interactive tables.';\n",
              "          element.innerHTML = '';\n",
              "          dataTable['output_type'] = 'display_data';\n",
              "          await google.colab.output.renderOutput(dataTable, element);\n",
              "          const docLink = document.createElement('div');\n",
              "          docLink.innerHTML = docLinkHtml;\n",
              "          element.appendChild(docLink);\n",
              "        }\n",
              "      </script>\n",
              "    </div>\n",
              "  </div>\n",
              "  "
            ],
            "text/plain": [
              "       Floor Price     24h(%)        Owners   Total Assets  Owner Ratio\n",
              "count    69.000000  69.000000     69.000000      69.000000    69.000000\n",
              "mean      4.258588  -3.460870   3957.304348   10813.086957   226.914651\n",
              "std      13.896720  11.218462   4556.773308   17856.780886  1121.918300\n",
              "min       0.019900 -10.100000     56.000000       4.000000     2.770905\n",
              "25%       0.140000  -8.600000   1894.000000    5000.000000    30.140000\n",
              "50%       0.580000  -7.600000   3391.000000    9811.000000    39.400000\n",
              "75%       1.940000  -3.400000   5045.000000   10000.000000    50.833740\n",
              "max      93.000000  53.000000  32794.000000  150072.000000  7789.548694"
            ]
          },
          "metadata": {},
          "execution_count": 210
        }
      ]
    },
    {
      "cell_type": "markdown",
      "source": [
        "Essas informações são bem interessantes:\n",
        "- Se olhar o count do df_mean24h['Floor Price'], veremos que X NFTs dos 125 tem crescimento das últimas 24 horas acima da média\n",
        "- Assim como mean do df_mean24h['Floor Price'] nos indicará Y ETH é a média do Floor Price"
      ],
      "metadata": {
        "id": "YUogrghKz6DA"
      }
    },
    {
      "cell_type": "markdown",
      "source": [
        "####Visualização de dados:"
      ],
      "metadata": {
        "id": "oYN7Zujh1eAf"
      }
    },
    {
      "cell_type": "code",
      "source": [
        "plt.figure(figsize=(12,6))\n",
        "df.boxplot('24h(%)')\n",
        "plt.show()"
      ],
      "metadata": {
        "colab": {
          "base_uri": "https://localhost:8080/",
          "height": 0
        },
        "id": "g6FDFJ2L1f8J",
        "outputId": "822684a5-2856-4f33-f0fc-32ff72cc6e58"
      },
      "execution_count": 211,
      "outputs": [
        {
          "output_type": "display_data",
          "data": {
            "image/png": "[encoded data removed]",
            "text/plain": [
              "<Figure size 864x432 with 1 Axes>"
            ]
          },
          "metadata": {
            "needs_background": "light"
          }
        }
      ]
    },
    {
      "cell_type": "code",
      "source": [
        "plt.figure(figsize=(12,6))\n",
        "df_mean24h.boxplot('24h(%)')\n",
        "plt.show()"
      ],
      "metadata": {
        "id": "RfvH0-Ku1ptc",
        "colab": {
          "base_uri": "https://localhost:8080/",
          "height": 0
        },
        "outputId": "f232d6ba-9962-472f-cf0e-096485cecc20"
      },
      "execution_count": 212,
      "outputs": [
        {
          "output_type": "display_data",
          "data": {
            "image/png": "[encoded data removed]",
            "text/plain": [
              "<Figure size 864x432 with 1 Axes>"
            ]
          },
          "metadata": {
            "needs_background": "light"
          }
        }
      ]
    },
    {
      "cell_type": "code",
      "source": [
        "plt.figure(figsize=(12,6))\n",
        "sns.distplot(df_mean24h['24h(%)'], bins=10)"
      ],
      "metadata": {
        "id": "QEGVXaEA1urS",
        "colab": {
          "base_uri": "https://localhost:8080/",
          "height": 0
        },
        "outputId": "72fa20bf-963f-449f-b650-35f9d10cf204"
      },
      "execution_count": 213,
      "outputs": [
        {
          "output_type": "stream",
          "name": "stderr",
          "text": [
            "/usr/local/lib/python3.7/dist-packages/seaborn/distributions.py:2619: FutureWarning: `distplot` is a deprecated function and will be removed in a future version. Please adapt your code to use either `displot` (a figure-level function with similar flexibility) or `histplot` (an axes-level function for histograms).\n",
            "  warnings.warn(msg, FutureWarning)\n"
          ]
        },
        {
          "output_type": "execute_result",
          "data": {
            "text/plain": [
              "<matplotlib.axes._subplots.AxesSubplot at 0x7f1912007090>"
            ]
          },
          "metadata": {},
          "execution_count": 213
        },
        {
          "output_type": "display_data",
          "data": {
            "image/png": "[encoded data removed]",
            "text/plain": [
              "<Figure size 864x432 with 1 Axes>"
            ]
          },
          "metadata": {
            "needs_background": "light"
          }
        }
      ]
    },
    {
      "cell_type": "code",
      "source": [
        "plt.figure(figsize=(12,8))\n",
        "sns.kdeplot(df_mean24h['24h(%)'])\n",
        "sns.rugplot(df_mean24h['24h(%)'])"
      ],
      "metadata": {
        "id": "h_8gi2--1uuB",
        "colab": {
          "base_uri": "https://localhost:8080/",
          "height": 0
        },
        "outputId": "f3cc4cb0-45ce-4559-e2e5-c12214ace666"
      },
      "execution_count": 214,
      "outputs": [
        {
          "output_type": "execute_result",
          "data": {
            "text/plain": [
              "<matplotlib.axes._subplots.AxesSubplot at 0x7f1911f380d0>"
            ]
          },
          "metadata": {},
          "execution_count": 214
        },
        {
          "output_type": "display_data",
          "data": {
            "image/png": "[encoded data removed]",
            "text/plain": [
              "<Figure size 864x576 with 1 Axes>"
            ]
          },
          "metadata": {
            "needs_background": "light"
          }
        }
      ]
    },
    {
      "cell_type": "code",
      "source": [
        "plt.figure(figsize=(12,8))\n",
        "sns.scatterplot(data=df_mean24h['24h(%)'])"
      ],
      "metadata": {
        "id": "DliypXLn1uw4",
        "colab": {
          "base_uri": "https://localhost:8080/",
          "height": 0
        },
        "outputId": "98d2c368-2140-4124-87b0-cb9547a83830"
      },
      "execution_count": 215,
      "outputs": [
        {
          "output_type": "execute_result",
          "data": {
            "text/plain": [
              "<matplotlib.axes._subplots.AxesSubplot at 0x7f1911f2efd0>"
            ]
          },
          "metadata": {},
          "execution_count": 215
        },
        {
          "output_type": "display_data",
          "data": {
            "image/png": "[encoded data removed]",
            "text/plain": [
              "<Figure size 864x576 with 1 Axes>"
            ]
          },
          "metadata": {
            "needs_background": "light"
          }
        }
      ]
    },
    {
      "cell_type": "markdown",
      "source": [
        "- O Floor Price desses projetos com crescimento acima da média:"
      ],
      "metadata": {
        "id": "FBj5IBs42dIg"
      }
    },
    {
      "cell_type": "code",
      "source": [
        "plt.figure(figsize=(12,6))\n",
        "sns.distplot(df_mean24h['Floor Price'], bins=10)"
      ],
      "metadata": {
        "id": "9bahSerN2jTd",
        "colab": {
          "base_uri": "https://localhost:8080/",
          "height": 0
        },
        "outputId": "da2e65da-18fa-4ff4-afe9-c1bb38a0ef68"
      },
      "execution_count": 216,
      "outputs": [
        {
          "output_type": "stream",
          "name": "stderr",
          "text": [
            "/usr/local/lib/python3.7/dist-packages/seaborn/distributions.py:2619: FutureWarning: `distplot` is a deprecated function and will be removed in a future version. Please adapt your code to use either `displot` (a figure-level function with similar flexibility) or `histplot` (an axes-level function for histograms).\n",
            "  warnings.warn(msg, FutureWarning)\n"
          ]
        },
        {
          "output_type": "execute_result",
          "data": {
            "text/plain": [
              "<matplotlib.axes._subplots.AxesSubplot at 0x7f1911ea36d0>"
            ]
          },
          "metadata": {},
          "execution_count": 216
        },
        {
          "output_type": "display_data",
          "data": {
            "image/png": "[encoded data removed]",
            "text/plain": [
              "<Figure size 864x432 with 1 Axes>"
            ]
          },
          "metadata": {
            "needs_background": "light"
          }
        }
      ]
    },
    {
      "cell_type": "code",
      "source": [
        "plt.figure(figsize=(12,8))\n",
        "sns.kdeplot(df_mean24h['Floor Price'])\n",
        "sns.rugplot(df_mean24h['Floor Price'])"
      ],
      "metadata": {
        "id": "N3KV2i-_2jdH",
        "colab": {
          "base_uri": "https://localhost:8080/",
          "height": 0
        },
        "outputId": "7b1aa432-f1f3-4de2-b696-5323cc23eec0"
      },
      "execution_count": 217,
      "outputs": [
        {
          "output_type": "execute_result",
          "data": {
            "text/plain": [
              "<matplotlib.axes._subplots.AxesSubplot at 0x7f1911db8410>"
            ]
          },
          "metadata": {},
          "execution_count": 217
        },
        {
          "output_type": "display_data",
          "data": {
            "image/png": "[encoded data removed]",
            "text/plain": [
              "<Figure size 864x576 with 1 Axes>"
            ]
          },
          "metadata": {
            "needs_background": "light"
          }
        }
      ]
    },
    {
      "cell_type": "markdown",
      "source": [
        ""
      ],
      "metadata": {
        "id": "t1WMH9fO28uW"
      }
    },
    {
      "cell_type": "markdown",
      "source": [
        "###Market Cap:"
      ],
      "metadata": {
        "id": "mZsHwtmO2_s-"
      }
    },
    {
      "cell_type": "code",
      "source": [
        "df['Market Cap'] = df['Market Cap'].astype(float)"
      ],
      "metadata": {
        "id": "DfPqr9HR4Rzr"
      },
      "execution_count": 218,
      "outputs": []
    },
    {
      "cell_type": "code",
      "source": [
        "df['Market Cap'].describe()"
      ],
      "metadata": {
        "colab": {
          "base_uri": "https://localhost:8080/"
        },
        "id": "Drg2TDnD884z",
        "outputId": "61f989ee-1008-417c-f507-b3cd29a38eba"
      },
      "execution_count": 219,
      "outputs": [
        {
          "output_type": "execute_result",
          "data": {
            "text/plain": [
              "count       125.000000\n",
              "mean      33499.154720\n",
              "std      118588.437978\n",
              "min           1.320000\n",
              "25%         790.000000\n",
              "50%        2600.000000\n",
              "75%       13962.800000\n",
              "max      930000.000000\n",
              "Name: Market Cap, dtype: float64"
            ]
          },
          "metadata": {},
          "execution_count": 219
        }
      ]
    },
    {
      "cell_type": "code",
      "source": [
        "plt.figure(figsize=(12,6))\n",
        "df.boxplot('Market Cap')\n",
        "plt.show()"
      ],
      "metadata": {
        "colab": {
          "base_uri": "https://localhost:8080/",
          "height": 0
        },
        "id": "YgbXwsKI887b",
        "outputId": "7f823049-4cbf-4d7e-bc4c-0189efb0dbbf"
      },
      "execution_count": 220,
      "outputs": [
        {
          "output_type": "display_data",
          "data": {
            "image/png": "[encoded data removed]",
            "text/plain": [
              "<Figure size 864x432 with 1 Axes>"
            ]
          },
          "metadata": {
            "needs_background": "light"
          }
        }
      ]
    },
    {
      "cell_type": "markdown",
      "source": [
        "####Visualização de dados:"
      ],
      "metadata": {
        "id": "q7IUJ5E__FUd"
      }
    },
    {
      "cell_type": "code",
      "source": [
        "plt.figure(figsize=(12,8))\n",
        "sns.scatterplot(data=df['Market Cap'])"
      ],
      "metadata": {
        "colab": {
          "base_uri": "https://localhost:8080/",
          "height": 0
        },
        "id": "B7u5J8Is_HCg",
        "outputId": "fca28e40-b5ee-4d10-d31a-0259cbf505dc"
      },
      "execution_count": 221,
      "outputs": [
        {
          "output_type": "execute_result",
          "data": {
            "text/plain": [
              "<matplotlib.axes._subplots.AxesSubplot at 0x7f1911f32290>"
            ]
          },
          "metadata": {},
          "execution_count": 221
        },
        {
          "output_type": "display_data",
          "data": {
            "image/png": "[encoded data removed]",
            "text/plain": [
              "<Figure size 864x576 with 1 Axes>"
            ]
          },
          "metadata": {
            "needs_background": "light"
          }
        }
      ]
    },
    {
      "cell_type": "code",
      "source": [
        "plt.figure(figsize=(12,6))\n",
        "sns.distplot(df['Market Cap'], bins=10)"
      ],
      "metadata": {
        "colab": {
          "base_uri": "https://localhost:8080/",
          "height": 0
        },
        "id": "ZKhYujrW889_",
        "outputId": "a8dd5226-cc93-4eeb-e388-7f3e286e8c2e"
      },
      "execution_count": 222,
      "outputs": [
        {
          "output_type": "stream",
          "name": "stderr",
          "text": [
            "/usr/local/lib/python3.7/dist-packages/seaborn/distributions.py:2619: FutureWarning: `distplot` is a deprecated function and will be removed in a future version. Please adapt your code to use either `displot` (a figure-level function with similar flexibility) or `histplot` (an axes-level function for histograms).\n",
            "  warnings.warn(msg, FutureWarning)\n"
          ]
        },
        {
          "output_type": "execute_result",
          "data": {
            "text/plain": [
              "<matplotlib.axes._subplots.AxesSubplot at 0x7f1912007610>"
            ]
          },
          "metadata": {},
          "execution_count": 222
        },
        {
          "output_type": "display_data",
          "data": {
            "image/png": "[encoded data removed]",
            "text/plain": [
              "<Figure size 864x432 with 1 Axes>"
            ]
          },
          "metadata": {
            "needs_background": "light"
          }
        }
      ]
    },
    {
      "cell_type": "code",
      "source": [
        "plt.figure(figsize=(12,8))\n",
        "sns.kdeplot(df['Market Cap'])\n",
        "sns.rugplot(df['Market Cap'])"
      ],
      "metadata": {
        "colab": {
          "base_uri": "https://localhost:8080/",
          "height": 0
        },
        "id": "TikQ4hA8_HE1",
        "outputId": "7b11e39e-4ffc-4794-b368-64e1db832323"
      },
      "execution_count": 223,
      "outputs": [
        {
          "output_type": "execute_result",
          "data": {
            "text/plain": [
              "<matplotlib.axes._subplots.AxesSubplot at 0x7f19120b2710>"
            ]
          },
          "metadata": {},
          "execution_count": 223
        },
        {
          "output_type": "display_data",
          "data": {
            "image/png": "[encoded data removed]",
            "text/plain": [
              "<Figure size 864x576 with 1 Axes>"
            ]
          },
          "metadata": {
            "needs_background": "light"
          }
        }
      ]
    },
    {
      "cell_type": "code",
      "source": [
        "df[df['Market Cap'] < 13587].describe()"
      ],
      "metadata": {
        "colab": {
          "base_uri": "https://localhost:8080/",
          "height": 0
        },
        "id": "0JnvtffW_HHV",
        "outputId": "544d7fef-f61d-4f4b-96d3-1402093967a6"
      },
      "execution_count": 224,
      "outputs": [
        {
          "output_type": "execute_result",
          "data": {
            "text/html": [
              "\n",
              "  <div id=\"df-66ac9c1c-5295-4c64-b246-bce229afbcc1\">\n",
              "    <div class=\"colab-df-container\">\n",
              "      <div>\n",
              "<style scoped>\n",
              "    .dataframe tbody tr th:only-of-type {\n",
              "        vertical-align: middle;\n",
              "    }\n",
              "\n",
              "    .dataframe tbody tr th {\n",
              "        vertical-align: top;\n",
              "    }\n",
              "\n",
              "    .dataframe thead th {\n",
              "        text-align: right;\n",
              "    }\n",
              "</style>\n",
              "<table border=\"1\" class=\"dataframe\">\n",
              "  <thead>\n",
              "    <tr style=\"text-align: right;\">\n",
              "      <th></th>\n",
              "      <th>Floor Price</th>\n",
              "      <th>24h(%)</th>\n",
              "      <th>Market Cap</th>\n",
              "      <th>Owners</th>\n",
              "      <th>Total Assets</th>\n",
              "      <th>Owner Ratio</th>\n",
              "    </tr>\n",
              "  </thead>\n",
              "  <tbody>\n",
              "    <tr>\n",
              "      <th>count</th>\n",
              "      <td>93.000000</td>\n",
              "      <td>93.000000</td>\n",
              "      <td>93.000000</td>\n",
              "      <td>93.000000</td>\n",
              "      <td>93.000000</td>\n",
              "      <td>93.000000</td>\n",
              "    </tr>\n",
              "    <tr>\n",
              "      <th>mean</th>\n",
              "      <td>0.498826</td>\n",
              "      <td>-10.808602</td>\n",
              "      <td>3124.577849</td>\n",
              "      <td>3541.967742</td>\n",
              "      <td>8882.612903</td>\n",
              "      <td>1199.077217</td>\n",
              "    </tr>\n",
              "    <tr>\n",
              "      <th>std</th>\n",
              "      <td>0.855802</td>\n",
              "      <td>14.468945</td>\n",
              "      <td>3797.509175</td>\n",
              "      <td>3578.051353</td>\n",
              "      <td>6567.747993</td>\n",
              "      <td>9866.036229</td>\n",
              "    </tr>\n",
              "    <tr>\n",
              "      <th>min</th>\n",
              "      <td>0.011100</td>\n",
              "      <td>-82.500000</td>\n",
              "      <td>1.320000</td>\n",
              "      <td>213.000000</td>\n",
              "      <td>3.000000</td>\n",
              "      <td>6.013912</td>\n",
              "    </tr>\n",
              "    <tr>\n",
              "      <th>25%</th>\n",
              "      <td>0.079000</td>\n",
              "      <td>-14.400000</td>\n",
              "      <td>440.100000</td>\n",
              "      <td>1863.000000</td>\n",
              "      <td>5000.000000</td>\n",
              "      <td>31.411118</td>\n",
              "    </tr>\n",
              "    <tr>\n",
              "      <th>50%</th>\n",
              "      <td>0.190000</td>\n",
              "      <td>-10.000000</td>\n",
              "      <td>1244.320000</td>\n",
              "      <td>3112.000000</td>\n",
              "      <td>8888.000000</td>\n",
              "      <td>39.419369</td>\n",
              "    </tr>\n",
              "    <tr>\n",
              "      <th>75%</th>\n",
              "      <td>0.580000</td>\n",
              "      <td>-7.600000</td>\n",
              "      <td>4510.660000</td>\n",
              "      <td>4400.000000</td>\n",
              "      <td>10000.000000</td>\n",
              "      <td>50.694444</td>\n",
              "    </tr>\n",
              "    <tr>\n",
              "      <th>max</th>\n",
              "      <td>6.000000</td>\n",
              "      <td>53.000000</td>\n",
              "      <td>13300.000000</td>\n",
              "      <td>32794.000000</td>\n",
              "      <td>46169.000000</td>\n",
              "      <td>94866.666667</td>\n",
              "    </tr>\n",
              "  </tbody>\n",
              "</table>\n",
              "</div>\n",
              "      <button class=\"colab-df-convert\" onclick=\"convertToInteractive('df-66ac9c1c-5295-4c64-b246-bce229afbcc1')\"\n",
              "              title=\"Convert this dataframe to an interactive table.\"\n",
              "              style=\"display:none;\">\n",
              "        \n",
              "  <svg xmlns=\"http://www.w3.org/2000/svg\" height=\"24px\"viewBox=\"0 0 24 24\"\n",
              "       width=\"24px\">\n",
              "    <path d=\"M0 0h24v24H0V0z\" fill=\"none\"/>\n",
              "    <path d=\"M18.56 5.44l.94 2.06.94-2.06 2.06-.94-2.06-.94-.94-2.06-.94 2.06-2.06.94zm-11 1L8.5 8.5l.94-2.06 2.06-.94-2.06-.94L8.5 2.5l-.94 2.06-2.06.94zm10 10l.94 2.06.94-2.06 2.06-.94-2.06-.94-.94-2.06-.94 2.06-2.06.94z\"/><path d=\"M17.41 7.96l-1.37-1.37c-.4-.4-.92-.59-1.43-.59-.52 0-1.04.2-1.43.59L10.3 9.45l-7.72 7.72c-.78.78-.78 2.05 0 2.83L4 21.41c.39.39.9.59 1.41.59.51 0 1.02-.2 1.41-.59l7.78-7.78 2.81-2.81c.8-.78.8-2.07 0-2.86zM5.41 20L4 18.59l7.72-7.72 1.47 1.35L5.41 20z\"/>\n",
              "  </svg>\n",
              "      </button>\n",
              "      \n",
              "  <style>\n",
              "    .colab-df-container {\n",
              "      display:flex;\n",
              "      flex-wrap:wrap;\n",
              "      gap: 12px;\n",
              "    }\n",
              "\n",
              "    .colab-df-convert {\n",
              "      background-color: #E8F0FE;\n",
              "      border: none;\n",
              "      border-radius: 50%;\n",
              "      cursor: pointer;\n",
              "      display: none;\n",
              "      fill: #1967D2;\n",
              "      height: 32px;\n",
              "      padding: 0 0 0 0;\n",
              "      width: 32px;\n",
              "    }\n",
              "\n",
              "    .colab-df-convert:hover {\n",
              "      background-color: #E2EBFA;\n",
              "      box-shadow: 0px 1px 2px rgba(60, 64, 67, 0.3), 0px 1px 3px 1px rgba(60, 64, 67, 0.15);\n",
              "      fill: #174EA6;\n",
              "    }\n",
              "\n",
              "    [theme=dark] .colab-df-convert {\n",
              "      background-color: #3B4455;\n",
              "      fill: #D2E3FC;\n",
              "    }\n",
              "\n",
              "    [theme=dark] .colab-df-convert:hover {\n",
              "      background-color: #434B5C;\n",
              "      box-shadow: 0px 1px 3px 1px rgba(0, 0, 0, 0.15);\n",
              "      filter: drop-shadow(0px 1px 2px rgba(0, 0, 0, 0.3));\n",
              "      fill: #FFFFFF;\n",
              "    }\n",
              "  </style>\n",
              "\n",
              "      <script>\n",
              "        const buttonEl =\n",
              "          document.querySelector('#df-66ac9c1c-5295-4c64-b246-bce229afbcc1 button.colab-df-convert');\n",
              "        buttonEl.style.display =\n",
              "          google.colab.kernel.accessAllowed ? 'block' : 'none';\n",
              "\n",
              "        async function convertToInteractive(key) {\n",
              "          const element = document.querySelector('#df-66ac9c1c-5295-4c64-b246-bce229afbcc1');\n",
              "          const dataTable =\n",
              "            await google.colab.kernel.invokeFunction('convertToInteractive',\n",
              "                                                     [key], {});\n",
              "          if (!dataTable) return;\n",
              "\n",
              "          const docLinkHtml = 'Like what you see? Visit the ' +\n",
              "            '<a target=\"_blank\" href=https://colab.research.google.com/notebooks/data_table.ipynb>data table notebook</a>'\n",
              "            + ' to learn more about interactive tables.';\n",
              "          element.innerHTML = '';\n",
              "          dataTable['output_type'] = 'display_data';\n",
              "          await google.colab.output.renderOutput(dataTable, element);\n",
              "          const docLink = document.createElement('div');\n",
              "          docLink.innerHTML = docLinkHtml;\n",
              "          element.appendChild(docLink);\n",
              "        }\n",
              "      </script>\n",
              "    </div>\n",
              "  </div>\n",
              "  "
            ],
            "text/plain": [
              "       Floor Price     24h(%)  ...  Total Assets   Owner Ratio\n",
              "count    93.000000  93.000000  ...     93.000000     93.000000\n",
              "mean      0.498826 -10.808602  ...   8882.612903   1199.077217\n",
              "std       0.855802  14.468945  ...   6567.747993   9866.036229\n",
              "min       0.011100 -82.500000  ...      3.000000      6.013912\n",
              "25%       0.079000 -14.400000  ...   5000.000000     31.411118\n",
              "50%       0.190000 -10.000000  ...   8888.000000     39.419369\n",
              "75%       0.580000  -7.600000  ...  10000.000000     50.694444\n",
              "max       6.000000  53.000000  ...  46169.000000  94866.666667\n",
              "\n",
              "[8 rows x 6 columns]"
            ]
          },
          "metadata": {},
          "execution_count": 224
        }
      ]
    },
    {
      "cell_type": "code",
      "source": [
        "df_cap = df[df['Market Cap'] < 13587]"
      ],
      "metadata": {
        "id": "S49Ewwsj7XnB"
      },
      "execution_count": 225,
      "outputs": []
    },
    {
      "cell_type": "code",
      "source": [
        "plt.figure(figsize=(12,6))\n",
        "df_cap.boxplot('Market Cap')\n",
        "plt.show()"
      ],
      "metadata": {
        "colab": {
          "base_uri": "https://localhost:8080/",
          "height": 0
        },
        "id": "6k9k_dN87hkB",
        "outputId": "ada96083-f672-43f1-a2a8-8646168a4914"
      },
      "execution_count": 226,
      "outputs": [
        {
          "output_type": "display_data",
          "data": {
            "image/png": "[encoded data removed]",
            "text/plain": [
              "<Figure size 864x432 with 1 Axes>"
            ]
          },
          "metadata": {
            "needs_background": "light"
          }
        }
      ]
    },
    {
      "cell_type": "code",
      "source": [
        "plt.figure(figsize=(12,8))\n",
        "sns.kdeplot(df_cap['Market Cap'])\n",
        "sns.rugplot(df_cap['Market Cap'])"
      ],
      "metadata": {
        "colab": {
          "base_uri": "https://localhost:8080/",
          "height": 0
        },
        "id": "MxOP8Q4M7iw6",
        "outputId": "91bb0df5-d9a1-41b1-b0de-a5e3c9835ae8"
      },
      "execution_count": 227,
      "outputs": [
        {
          "output_type": "execute_result",
          "data": {
            "text/plain": [
              "<matplotlib.axes._subplots.AxesSubplot at 0x7f1914304ed0>"
            ]
          },
          "metadata": {},
          "execution_count": 227
        },
        {
          "output_type": "display_data",
          "data": {
            "image/png": "[encoded data removed]",
            "text/plain": [
              "<Figure size 864x576 with 1 Axes>"
            ]
          },
          "metadata": {
            "needs_background": "light"
          }
        }
      ]
    },
    {
      "cell_type": "code",
      "source": [
        "plt.figure(figsize=(12,8))\n",
        "sns.scatterplot(data=df_cap['Market Cap'])"
      ],
      "metadata": {
        "colab": {
          "base_uri": "https://localhost:8080/",
          "height": 0
        },
        "id": "zSXOROKo7izS",
        "outputId": "612cc34c-62db-445b-fc24-3dc6faf03c93"
      },
      "execution_count": 228,
      "outputs": [
        {
          "output_type": "execute_result",
          "data": {
            "text/plain": [
              "<matplotlib.axes._subplots.AxesSubplot at 0x7f1914800f50>"
            ]
          },
          "metadata": {},
          "execution_count": 228
        },
        {
          "output_type": "display_data",
          "data": {
            "image/png": "[encoded data removed]",
            "text/plain": [
              "<Figure size 864x576 with 1 Axes>"
            ]
          },
          "metadata": {
            "needs_background": "light"
          }
        }
      ]
    },
    {
      "cell_type": "code",
      "source": [
        ""
      ],
      "metadata": {
        "id": "Hq6iQm437n_m"
      },
      "execution_count": 228,
      "outputs": []
    },
    {
      "cell_type": "markdown",
      "source": [
        "###Owners"
      ],
      "metadata": {
        "id": "7-07E3JW3KOE"
      }
    },
    {
      "cell_type": "code",
      "source": [
        "df['Owners'].head()"
      ],
      "metadata": {
        "colab": {
          "base_uri": "https://localhost:8080/"
        },
        "id": "KHPzZrZdhx0z",
        "outputId": "60f9e2a3-3139-4f4a-ffb5-54a26723b2e9"
      },
      "execution_count": 229,
      "outputs": [
        {
          "output_type": "execute_result",
          "data": {
            "text/plain": [
              "0    5750.0\n",
              "1    2654.0\n",
              "2    5407.0\n",
              "3    6312.0\n",
              "4    8308.0\n",
              "Name: Owners, dtype: float64"
            ]
          },
          "metadata": {},
          "execution_count": 229
        }
      ]
    },
    {
      "cell_type": "code",
      "source": [
        "df['Owners'].tail()"
      ],
      "metadata": {
        "colab": {
          "base_uri": "https://localhost:8080/"
        },
        "id": "EUZIJm8rh2Oy",
        "outputId": "18c6d204-6dce-4852-b917-50b2707bb1a8"
      },
      "execution_count": 230,
      "outputs": [
        {
          "output_type": "execute_result",
          "data": {
            "text/plain": [
              "120    1738.0\n",
              "121    3461.0\n",
              "122    4002.0\n",
              "123    4944.0\n",
              "124    1930.0\n",
              "Name: Owners, dtype: float64"
            ]
          },
          "metadata": {},
          "execution_count": 230
        }
      ]
    },
    {
      "cell_type": "code",
      "source": [
        "df['Owners'].describe()"
      ],
      "metadata": {
        "colab": {
          "base_uri": "https://localhost:8080/"
        },
        "id": "Yovb3r62zx_x",
        "outputId": "01026586-cd18-4f4b-d3cb-07a86d997098"
      },
      "execution_count": 231,
      "outputs": [
        {
          "output_type": "execute_result",
          "data": {
            "text/plain": [
              "count      125.000000\n",
              "mean      3927.408000\n",
              "std       3701.997761\n",
              "min         56.000000\n",
              "25%       2084.000000\n",
              "50%       3405.000000\n",
              "75%       5045.000000\n",
              "max      32794.000000\n",
              "Name: Owners, dtype: float64"
            ]
          },
          "metadata": {},
          "execution_count": 231
        }
      ]
    },
    {
      "cell_type": "code",
      "source": [
        "plt.figure(figsize=(12,6))\n",
        "df.boxplot('Owners')\n",
        "plt.show()"
      ],
      "metadata": {
        "id": "J4uJdKlkzyER",
        "colab": {
          "base_uri": "https://localhost:8080/",
          "height": 0
        },
        "outputId": "fb9addf4-36b7-4c58-e9ee-ab0603ae34d7"
      },
      "execution_count": 232,
      "outputs": [
        {
          "output_type": "display_data",
          "data": {
            "image/png": "[encoded data removed]",
            "text/plain": [
              "<Figure size 864x432 with 1 Axes>"
            ]
          },
          "metadata": {
            "needs_background": "light"
          }
        }
      ]
    },
    {
      "cell_type": "markdown",
      "source": [
        "####Visualizações de dados:"
      ],
      "metadata": {
        "id": "mHnNzFXBnXGm"
      }
    },
    {
      "cell_type": "code",
      "source": [
        "plt.figure(figsize=(12,8))\n",
        "sns.scatterplot(data=df['Owners'])"
      ],
      "metadata": {
        "id": "SMS2nN7rzyic",
        "colab": {
          "base_uri": "https://localhost:8080/",
          "height": 0
        },
        "outputId": "23343790-809c-4428-bdb7-8dae7b84e497"
      },
      "execution_count": 233,
      "outputs": [
        {
          "output_type": "execute_result",
          "data": {
            "text/plain": [
              "<matplotlib.axes._subplots.AxesSubplot at 0x7f1911baf410>"
            ]
          },
          "metadata": {},
          "execution_count": 233
        },
        {
          "output_type": "display_data",
          "data": {
            "image/png": "[encoded data removed]",
            "text/plain": [
              "<Figure size 864x576 with 1 Axes>"
            ]
          },
          "metadata": {
            "needs_background": "light"
          }
        }
      ]
    },
    {
      "cell_type": "code",
      "source": [
        "plt.figure(figsize=(12,6))\n",
        "sns.distplot(df[\"Owners\"], bins=10)"
      ],
      "metadata": {
        "colab": {
          "base_uri": "https://localhost:8080/",
          "height": 0
        },
        "id": "Hqcf3PuVoOk5",
        "outputId": "19dd4a41-35dc-4d2f-fce7-783263c0f589"
      },
      "execution_count": 234,
      "outputs": [
        {
          "output_type": "stream",
          "name": "stderr",
          "text": [
            "/usr/local/lib/python3.7/dist-packages/seaborn/distributions.py:2619: FutureWarning: `distplot` is a deprecated function and will be removed in a future version. Please adapt your code to use either `displot` (a figure-level function with similar flexibility) or `histplot` (an axes-level function for histograms).\n",
            "  warnings.warn(msg, FutureWarning)\n"
          ]
        },
        {
          "output_type": "execute_result",
          "data": {
            "text/plain": [
              "<matplotlib.axes._subplots.AxesSubplot at 0x7f1911b23710>"
            ]
          },
          "metadata": {},
          "execution_count": 234
        },
        {
          "output_type": "display_data",
          "data": {
            "image/png": "[encoded data removed]",
            "text/plain": [
              "<Figure size 864x432 with 1 Axes>"
            ]
          },
          "metadata": {
            "needs_background": "light"
          }
        }
      ]
    },
    {
      "cell_type": "code",
      "source": [
        "plt.figure(figsize=(12,8))\n",
        "sns.kdeplot(df['Owners'])\n",
        "sns.rugplot(df['Owners'])"
      ],
      "metadata": {
        "colab": {
          "base_uri": "https://localhost:8080/",
          "height": 0
        },
        "id": "VwkmYpbYoOpi",
        "outputId": "6ca5d6ed-6842-4a37-da9e-6525110edc94"
      },
      "execution_count": 235,
      "outputs": [
        {
          "output_type": "execute_result",
          "data": {
            "text/plain": [
              "<matplotlib.axes._subplots.AxesSubplot at 0x7f1911b23610>"
            ]
          },
          "metadata": {},
          "execution_count": 235
        },
        {
          "output_type": "display_data",
          "data": {
            "image/png": "[encoded data removed]",
            "text/plain": [
              "<Figure size 864x576 with 1 Axes>"
            ]
          },
          "metadata": {
            "needs_background": "light"
          }
        }
      ]
    },
    {
      "cell_type": "markdown",
      "source": [
        "###Total Assets"
      ],
      "metadata": {
        "id": "qTTPJcls3Nsh"
      }
    },
    {
      "cell_type": "code",
      "source": [
        "df['Total Assets'].head()"
      ],
      "metadata": {
        "id": "rTBgCSve4S0d",
        "colab": {
          "base_uri": "https://localhost:8080/"
        },
        "outputId": "9ea1312e-7fa7-4923-d010-c66593c2399c"
      },
      "execution_count": 236,
      "outputs": [
        {
          "output_type": "execute_result",
          "data": {
            "text/plain": [
              "0    20000.0\n",
              "1     4870.0\n",
              "2    10000.0\n",
              "3    10000.0\n",
              "4    18879.0\n",
              "Name: Total Assets, dtype: float64"
            ]
          },
          "metadata": {},
          "execution_count": 236
        }
      ]
    },
    {
      "cell_type": "code",
      "source": [
        "df['Total Assets'].tail()"
      ],
      "metadata": {
        "colab": {
          "base_uri": "https://localhost:8080/"
        },
        "id": "13Twqka3qV3c",
        "outputId": "0436f1cd-b045-4ebb-d24f-d78d198a52b5"
      },
      "execution_count": 237,
      "outputs": [
        {
          "output_type": "execute_result",
          "data": {
            "text/plain": [
              "120    4409.0\n",
              "121    9999.0\n",
              "122    9899.0\n",
              "123    8888.0\n",
              "124    5000.0\n",
              "Name: Total Assets, dtype: float64"
            ]
          },
          "metadata": {},
          "execution_count": 237
        }
      ]
    },
    {
      "cell_type": "code",
      "source": [
        "df['Total Assets'].describe()"
      ],
      "metadata": {
        "colab": {
          "base_uri": "https://localhost:8080/"
        },
        "id": "KLPNTHsVqV6K",
        "outputId": "c8148d5a-cc9e-42f4-8d2a-ab9f5724ee73"
      },
      "execution_count": 238,
      "outputs": [
        {
          "output_type": "execute_result",
          "data": {
            "text/plain": [
              "count       125.000000\n",
              "mean      10549.976000\n",
              "std       14011.583941\n",
              "min           3.000000\n",
              "25%        6942.000000\n",
              "50%        9999.000000\n",
              "75%       10000.000000\n",
              "max      150072.000000\n",
              "Name: Total Assets, dtype: float64"
            ]
          },
          "metadata": {},
          "execution_count": 238
        }
      ]
    },
    {
      "cell_type": "code",
      "source": [
        "plt.figure(figsize=(12,6))\n",
        "df.boxplot('Total Assets')\n",
        "plt.show()"
      ],
      "metadata": {
        "colab": {
          "base_uri": "https://localhost:8080/",
          "height": 0
        },
        "id": "GnoniPCyqV9G",
        "outputId": "5ae336a7-8357-4d3a-8254-df4ee8f11dbc"
      },
      "execution_count": 239,
      "outputs": [
        {
          "output_type": "display_data",
          "data": {
            "image/png": "[encoded data removed]",
            "text/plain": [
              "<Figure size 864x432 with 1 Axes>"
            ]
          },
          "metadata": {
            "needs_background": "light"
          }
        }
      ]
    },
    {
      "cell_type": "code",
      "source": [
        "plt.figure(figsize=(12,6))\n",
        "df[df['Total Assets'] < 15000].boxplot('Total Assets')\n",
        "plt.show()"
      ],
      "metadata": {
        "colab": {
          "base_uri": "https://localhost:8080/",
          "height": 0
        },
        "id": "2wYOv39eqV__",
        "outputId": "98c894ad-f7bc-4363-aeb5-1f717a0ec93f"
      },
      "execution_count": 240,
      "outputs": [
        {
          "output_type": "display_data",
          "data": {
            "image/png": "[encoded data removed]",
            "text/plain": [
              "<Figure size 864x432 with 1 Axes>"
            ]
          },
          "metadata": {
            "needs_background": "light"
          }
        }
      ]
    },
    {
      "cell_type": "markdown",
      "source": [
        "- A maior parte dos projetos tem até 15000 NFTs."
      ],
      "metadata": {
        "id": "sQ0X1g4xq4cy"
      }
    },
    {
      "cell_type": "code",
      "source": [
        "df_assets = df[df['Total Assets'] < 15000]\n",
        "df_assets['Total Assets'].describe()"
      ],
      "metadata": {
        "colab": {
          "base_uri": "https://localhost:8080/"
        },
        "id": "bJdyiRVXq97V",
        "outputId": "25186e04-a0fa-4291-acb2-c155306c09e9"
      },
      "execution_count": 241,
      "outputs": [
        {
          "output_type": "execute_result",
          "data": {
            "text/plain": [
              "count      111.000000\n",
              "mean      7788.009009\n",
              "std       3239.381132\n",
              "min          3.000000\n",
              "25%       5275.000000\n",
              "50%       9500.000000\n",
              "75%      10000.000000\n",
              "max      14533.000000\n",
              "Name: Total Assets, dtype: float64"
            ]
          },
          "metadata": {},
          "execution_count": 241
        }
      ]
    },
    {
      "cell_type": "markdown",
      "source": [
        "####Visualização de dados:"
      ],
      "metadata": {
        "id": "bU_GJpKbsjZ9"
      }
    },
    {
      "cell_type": "code",
      "source": [
        "plt.figure(figsize=(12,8))\n",
        "sns.scatterplot(data=df['Total Assets'])"
      ],
      "metadata": {
        "colab": {
          "base_uri": "https://localhost:8080/",
          "height": 0
        },
        "id": "oolZXGlDslTh",
        "outputId": "2989a3f2-268e-45ad-c900-2235bf4837a8"
      },
      "execution_count": 242,
      "outputs": [
        {
          "output_type": "execute_result",
          "data": {
            "text/plain": [
              "<matplotlib.axes._subplots.AxesSubplot at 0x7f19119232d0>"
            ]
          },
          "metadata": {},
          "execution_count": 242
        },
        {
          "output_type": "display_data",
          "data": {
            "image/png": "[encoded data removed]",
            "text/plain": [
              "<Figure size 864x576 with 1 Axes>"
            ]
          },
          "metadata": {
            "needs_background": "light"
          }
        }
      ]
    },
    {
      "cell_type": "code",
      "source": [
        "plt.figure(figsize=(12,8))\n",
        "sns.kdeplot(df['Total Assets'])\n",
        "sns.rugplot(df['Total Assets'])"
      ],
      "metadata": {
        "colab": {
          "base_uri": "https://localhost:8080/",
          "height": 0
        },
        "id": "6gDuO9xNslWU",
        "outputId": "8efff68d-a2c3-4058-aa8a-59afd04b0c92"
      },
      "execution_count": 243,
      "outputs": [
        {
          "output_type": "execute_result",
          "data": {
            "text/plain": [
              "<matplotlib.axes._subplots.AxesSubplot at 0x7f191186c790>"
            ]
          },
          "metadata": {},
          "execution_count": 243
        },
        {
          "output_type": "display_data",
          "data": {
            "image/png": "[encoded data removed]",
            "text/plain": [
              "<Figure size 864x576 with 1 Axes>"
            ]
          },
          "metadata": {
            "needs_background": "light"
          }
        }
      ]
    },
    {
      "cell_type": "code",
      "source": [
        "plt.figure(figsize=(12,6))\n",
        "sns.distplot(df[\"Total Assets\"], bins=10)"
      ],
      "metadata": {
        "colab": {
          "base_uri": "https://localhost:8080/",
          "height": 0
        },
        "id": "8ILF_40jslY3",
        "outputId": "a2bf1b71-a798-4a90-b0d9-8c879ddb33a6"
      },
      "execution_count": 244,
      "outputs": [
        {
          "output_type": "stream",
          "name": "stderr",
          "text": [
            "/usr/local/lib/python3.7/dist-packages/seaborn/distributions.py:2619: FutureWarning: `distplot` is a deprecated function and will be removed in a future version. Please adapt your code to use either `displot` (a figure-level function with similar flexibility) or `histplot` (an axes-level function for histograms).\n",
            "  warnings.warn(msg, FutureWarning)\n"
          ]
        },
        {
          "output_type": "execute_result",
          "data": {
            "text/plain": [
              "<matplotlib.axes._subplots.AxesSubplot at 0x7f1911825790>"
            ]
          },
          "metadata": {},
          "execution_count": 244
        },
        {
          "output_type": "display_data",
          "data": {
            "image/png": "[encoded data removed]",
            "text/plain": [
              "<Figure size 864x432 with 1 Axes>"
            ]
          },
          "metadata": {
            "needs_background": "light"
          }
        }
      ]
    },
    {
      "cell_type": "markdown",
      "source": [
        "- Visualizações com filtragem feita:"
      ],
      "metadata": {
        "id": "aLbhz-IVtI_w"
      }
    },
    {
      "cell_type": "code",
      "source": [
        "plt.figure(figsize=(12,8))\n",
        "sns.kdeplot(df_assets['Total Assets'])\n",
        "sns.rugplot(df_assets['Total Assets'])"
      ],
      "metadata": {
        "colab": {
          "base_uri": "https://localhost:8080/",
          "height": 0
        },
        "id": "D6EHILgRtNQK",
        "outputId": "162c502f-0c50-4c00-c396-dba666d62315"
      },
      "execution_count": 245,
      "outputs": [
        {
          "output_type": "execute_result",
          "data": {
            "text/plain": [
              "<matplotlib.axes._subplots.AxesSubplot at 0x7f19117db690>"
            ]
          },
          "metadata": {},
          "execution_count": 245
        },
        {
          "output_type": "display_data",
          "data": {
            "image/png": "[encoded data removed]",
            "text/plain": [
              "<Figure size 864x576 with 1 Axes>"
            ]
          },
          "metadata": {
            "needs_background": "light"
          }
        }
      ]
    },
    {
      "cell_type": "code",
      "source": [
        "plt.figure(figsize=(12,6))\n",
        "sns.distplot(df_assets[\"Total Assets\"], bins=10)"
      ],
      "metadata": {
        "colab": {
          "base_uri": "https://localhost:8080/",
          "height": 0
        },
        "id": "4owDnbmztNbU",
        "outputId": "b0476418-602b-48f7-cf37-000a61fc5fad"
      },
      "execution_count": 246,
      "outputs": [
        {
          "output_type": "stream",
          "name": "stderr",
          "text": [
            "/usr/local/lib/python3.7/dist-packages/seaborn/distributions.py:2619: FutureWarning: `distplot` is a deprecated function and will be removed in a future version. Please adapt your code to use either `displot` (a figure-level function with similar flexibility) or `histplot` (an axes-level function for histograms).\n",
            "  warnings.warn(msg, FutureWarning)\n"
          ]
        },
        {
          "output_type": "execute_result",
          "data": {
            "text/plain": [
              "<matplotlib.axes._subplots.AxesSubplot at 0x7f19117db610>"
            ]
          },
          "metadata": {},
          "execution_count": 246
        },
        {
          "output_type": "display_data",
          "data": {
            "image/png": "[encoded data removed]",
            "text/plain": [
              "<Figure size 864x432 with 1 Axes>"
            ]
          },
          "metadata": {
            "needs_background": "light"
          }
        }
      ]
    },
    {
      "cell_type": "markdown",
      "source": [
        "###Owner Ratio:"
      ],
      "metadata": {
        "id": "iPKfd1aI3Sky"
      }
    },
    {
      "cell_type": "code",
      "source": [
        "df['Owner Ratio'].describe()"
      ],
      "metadata": {
        "id": "e_xeQUQu0d-w",
        "colab": {
          "base_uri": "https://localhost:8080/"
        },
        "outputId": "bfb5e920-8e0e-40fb-d4fd-7541ac5ffd30"
      },
      "execution_count": 247,
      "outputs": [
        {
          "output_type": "execute_result",
          "data": {
            "text/plain": [
              "count      125.000000\n",
              "mean       902.138563\n",
              "std       8513.367817\n",
              "min          2.770905\n",
              "25%         30.528369\n",
              "50%         39.736993\n",
              "75%         50.933333\n",
              "max      94866.666667\n",
              "Name: Owner Ratio, dtype: float64"
            ]
          },
          "metadata": {},
          "execution_count": 247
        }
      ]
    },
    {
      "cell_type": "code",
      "source": [
        "plt.figure(figsize=(12,6))\n",
        "df.boxplot('Owner Ratio')\n",
        "plt.show()"
      ],
      "metadata": {
        "id": "qJFMw61n4ZEz",
        "colab": {
          "base_uri": "https://localhost:8080/",
          "height": 0
        },
        "outputId": "34fcbe7d-5552-4324-dedd-0a0e676745be"
      },
      "execution_count": 248,
      "outputs": [
        {
          "output_type": "display_data",
          "data": {
            "image/png": "[encoded data removed]",
            "text/plain": [
              "<Figure size 864x432 with 1 Axes>"
            ]
          },
          "metadata": {
            "needs_background": "light"
          }
        }
      ]
    },
    {
      "cell_type": "markdown",
      "source": [
        "- Poucos outliers com considerações fortes."
      ],
      "metadata": {
        "id": "HwudOgl74gLR"
      }
    },
    {
      "cell_type": "code",
      "source": [
        "df_ratio = df[df['Owner Ratio'] < 2500]\n",
        "df_ratio"
      ],
      "metadata": {
        "id": "AZqJxLQJ4ZNT",
        "colab": {
          "base_uri": "https://localhost:8080/",
          "height": 0
        },
        "outputId": "eb480457-f904-45b2-8e60-d1fa427cdfa1"
      },
      "execution_count": 249,
      "outputs": [
        {
          "output_type": "execute_result",
          "data": {
            "text/html": [
              "\n",
              "  <div id=\"df-59f0ff95-5c8a-461c-bd38-8b4403082c4b\">\n",
              "    <div class=\"colab-df-container\">\n",
              "      <div>\n",
              "<style scoped>\n",
              "    .dataframe tbody tr th:only-of-type {\n",
              "        vertical-align: middle;\n",
              "    }\n",
              "\n",
              "    .dataframe tbody tr th {\n",
              "        vertical-align: top;\n",
              "    }\n",
              "\n",
              "    .dataframe thead th {\n",
              "        text-align: right;\n",
              "    }\n",
              "</style>\n",
              "<table border=\"1\" class=\"dataframe\">\n",
              "  <thead>\n",
              "    <tr style=\"text-align: right;\">\n",
              "      <th></th>\n",
              "      <th>NFT</th>\n",
              "      <th>Floor Price</th>\n",
              "      <th>24h(%)</th>\n",
              "      <th>Market Cap</th>\n",
              "      <th>24h Volume</th>\n",
              "      <th>Owners</th>\n",
              "      <th>24h Owners</th>\n",
              "      <th>Total Assets</th>\n",
              "      <th>Owner Ratio</th>\n",
              "    </tr>\n",
              "  </thead>\n",
              "  <tbody>\n",
              "    <tr>\n",
              "      <th>0</th>\n",
              "      <td>Meebits</td>\n",
              "      <td>2.93000</td>\n",
              "      <td>-7.5</td>\n",
              "      <td>58600.00</td>\n",
              "      <td>11006.79</td>\n",
              "      <td>5750.0</td>\n",
              "      <td>0.0</td>\n",
              "      <td>20000.0</td>\n",
              "      <td>28.750000</td>\n",
              "    </tr>\n",
              "    <tr>\n",
              "      <th>1</th>\n",
              "      <td>dotdotdots</td>\n",
              "      <td>0.19400</td>\n",
              "      <td>-10.7</td>\n",
              "      <td>944.78</td>\n",
              "      <td>5342.72</td>\n",
              "      <td>2654.0</td>\n",
              "      <td>0.2</td>\n",
              "      <td>4870.0</td>\n",
              "      <td>54.496920</td>\n",
              "    </tr>\n",
              "    <tr>\n",
              "      <th>2</th>\n",
              "      <td>Azuki</td>\n",
              "      <td>14.00000</td>\n",
              "      <td>-8.2</td>\n",
              "      <td>140000.00</td>\n",
              "      <td>809.84</td>\n",
              "      <td>5407.0</td>\n",
              "      <td>0.1</td>\n",
              "      <td>10000.0</td>\n",
              "      <td>54.070000</td>\n",
              "    </tr>\n",
              "    <tr>\n",
              "      <th>3</th>\n",
              "      <td>Bored Ape Yacht Club</td>\n",
              "      <td>93.00000</td>\n",
              "      <td>-10.1</td>\n",
              "      <td>930000.00</td>\n",
              "      <td>708.88</td>\n",
              "      <td>6312.0</td>\n",
              "      <td>-0.0</td>\n",
              "      <td>10000.0</td>\n",
              "      <td>63.120000</td>\n",
              "    </tr>\n",
              "    <tr>\n",
              "      <th>4</th>\n",
              "      <td>CloneX</td>\n",
              "      <td>13.45555</td>\n",
              "      <td>-15.0</td>\n",
              "      <td>254027.33</td>\n",
              "      <td>704.94</td>\n",
              "      <td>8308.0</td>\n",
              "      <td>0.2</td>\n",
              "      <td>18879.0</td>\n",
              "      <td>44.006568</td>\n",
              "    </tr>\n",
              "    <tr>\n",
              "      <th>...</th>\n",
              "      <td>...</td>\n",
              "      <td>...</td>\n",
              "      <td>...</td>\n",
              "      <td>...</td>\n",
              "      <td>...</td>\n",
              "      <td>...</td>\n",
              "      <td>...</td>\n",
              "      <td>...</td>\n",
              "      <td>...</td>\n",
              "    </tr>\n",
              "    <tr>\n",
              "      <th>120</th>\n",
              "      <td>Dark Super Bunnies</td>\n",
              "      <td>0.01900</td>\n",
              "      <td>-82.5</td>\n",
              "      <td>83.77</td>\n",
              "      <td>0.1</td>\n",
              "      <td>1738.0</td>\n",
              "      <td>-0.1</td>\n",
              "      <td>4409.0</td>\n",
              "      <td>39.419369</td>\n",
              "    </tr>\n",
              "    <tr>\n",
              "      <th>121</th>\n",
              "      <td>Generative Masks</td>\n",
              "      <td>0.08000</td>\n",
              "      <td>-22.4</td>\n",
              "      <td>799.92</td>\n",
              "      <td>0.1</td>\n",
              "      <td>3461.0</td>\n",
              "      <td>0.2</td>\n",
              "      <td>9999.0</td>\n",
              "      <td>34.613461</td>\n",
              "    </tr>\n",
              "    <tr>\n",
              "      <th>122</th>\n",
              "      <td>Dope Shibas</td>\n",
              "      <td>0.01110</td>\n",
              "      <td>-55.8</td>\n",
              "      <td>109.88</td>\n",
              "      <td>0.09</td>\n",
              "      <td>4002.0</td>\n",
              "      <td>0.1</td>\n",
              "      <td>9899.0</td>\n",
              "      <td>40.428326</td>\n",
              "    </tr>\n",
              "    <tr>\n",
              "      <th>123</th>\n",
              "      <td>Angry Apes United</td>\n",
              "      <td>0.03500</td>\n",
              "      <td>-7.8</td>\n",
              "      <td>311.08</td>\n",
              "      <td>0.06</td>\n",
              "      <td>4944.0</td>\n",
              "      <td>0.0</td>\n",
              "      <td>8888.0</td>\n",
              "      <td>55.625563</td>\n",
              "    </tr>\n",
              "    <tr>\n",
              "      <th>124</th>\n",
              "      <td>MOONDOGS ODYSSEY</td>\n",
              "      <td>0.01990</td>\n",
              "      <td>-1.4</td>\n",
              "      <td>99.50</td>\n",
              "      <td>0.05</td>\n",
              "      <td>1930.0</td>\n",
              "      <td>0.1</td>\n",
              "      <td>5000.0</td>\n",
              "      <td>38.600000</td>\n",
              "    </tr>\n",
              "  </tbody>\n",
              "</table>\n",
              "<p>122 rows × 9 columns</p>\n",
              "</div>\n",
              "      <button class=\"colab-df-convert\" onclick=\"convertToInteractive('df-59f0ff95-5c8a-461c-bd38-8b4403082c4b')\"\n",
              "              title=\"Convert this dataframe to an interactive table.\"\n",
              "              style=\"display:none;\">\n",
              "        \n",
              "  <svg xmlns=\"http://www.w3.org/2000/svg\" height=\"24px\"viewBox=\"0 0 24 24\"\n",
              "       width=\"24px\">\n",
              "    <path d=\"M0 0h24v24H0V0z\" fill=\"none\"/>\n",
              "    <path d=\"M18.56 5.44l.94 2.06.94-2.06 2.06-.94-2.06-.94-.94-2.06-.94 2.06-2.06.94zm-11 1L8.5 8.5l.94-2.06 2.06-.94-2.06-.94L8.5 2.5l-.94 2.06-2.06.94zm10 10l.94 2.06.94-2.06 2.06-.94-2.06-.94-.94-2.06-.94 2.06-2.06.94z\"/><path d=\"M17.41 7.96l-1.37-1.37c-.4-.4-.92-.59-1.43-.59-.52 0-1.04.2-1.43.59L10.3 9.45l-7.72 7.72c-.78.78-.78 2.05 0 2.83L4 21.41c.39.39.9.59 1.41.59.51 0 1.02-.2 1.41-.59l7.78-7.78 2.81-2.81c.8-.78.8-2.07 0-2.86zM5.41 20L4 18.59l7.72-7.72 1.47 1.35L5.41 20z\"/>\n",
              "  </svg>\n",
              "      </button>\n",
              "      \n",
              "  <style>\n",
              "    .colab-df-container {\n",
              "      display:flex;\n",
              "      flex-wrap:wrap;\n",
              "      gap: 12px;\n",
              "    }\n",
              "\n",
              "    .colab-df-convert {\n",
              "      background-color: #E8F0FE;\n",
              "      border: none;\n",
              "      border-radius: 50%;\n",
              "      cursor: pointer;\n",
              "      display: none;\n",
              "      fill: #1967D2;\n",
              "      height: 32px;\n",
              "      padding: 0 0 0 0;\n",
              "      width: 32px;\n",
              "    }\n",
              "\n",
              "    .colab-df-convert:hover {\n",
              "      background-color: #E2EBFA;\n",
              "      box-shadow: 0px 1px 2px rgba(60, 64, 67, 0.3), 0px 1px 3px 1px rgba(60, 64, 67, 0.15);\n",
              "      fill: #174EA6;\n",
              "    }\n",
              "\n",
              "    [theme=dark] .colab-df-convert {\n",
              "      background-color: #3B4455;\n",
              "      fill: #D2E3FC;\n",
              "    }\n",
              "\n",
              "    [theme=dark] .colab-df-convert:hover {\n",
              "      background-color: #434B5C;\n",
              "      box-shadow: 0px 1px 3px 1px rgba(0, 0, 0, 0.15);\n",
              "      filter: drop-shadow(0px 1px 2px rgba(0, 0, 0, 0.3));\n",
              "      fill: #FFFFFF;\n",
              "    }\n",
              "  </style>\n",
              "\n",
              "      <script>\n",
              "        const buttonEl =\n",
              "          document.querySelector('#df-59f0ff95-5c8a-461c-bd38-8b4403082c4b button.colab-df-convert');\n",
              "        buttonEl.style.display =\n",
              "          google.colab.kernel.accessAllowed ? 'block' : 'none';\n",
              "\n",
              "        async function convertToInteractive(key) {\n",
              "          const element = document.querySelector('#df-59f0ff95-5c8a-461c-bd38-8b4403082c4b');\n",
              "          const dataTable =\n",
              "            await google.colab.kernel.invokeFunction('convertToInteractive',\n",
              "                                                     [key], {});\n",
              "          if (!dataTable) return;\n",
              "\n",
              "          const docLinkHtml = 'Like what you see? Visit the ' +\n",
              "            '<a target=\"_blank\" href=https://colab.research.google.com/notebooks/data_table.ipynb>data table notebook</a>'\n",
              "            + ' to learn more about interactive tables.';\n",
              "          element.innerHTML = '';\n",
              "          dataTable['output_type'] = 'display_data';\n",
              "          await google.colab.output.renderOutput(dataTable, element);\n",
              "          const docLink = document.createElement('div');\n",
              "          docLink.innerHTML = docLinkHtml;\n",
              "          element.appendChild(docLink);\n",
              "        }\n",
              "      </script>\n",
              "    </div>\n",
              "  </div>\n",
              "  "
            ],
            "text/plain": [
              "                      NFT  Floor Price  ...  Total Assets  Owner Ratio\n",
              "0                 Meebits      2.93000  ...       20000.0    28.750000\n",
              "1              dotdotdots      0.19400  ...        4870.0    54.496920\n",
              "2                   Azuki     14.00000  ...       10000.0    54.070000\n",
              "3    Bored Ape Yacht Club     93.00000  ...       10000.0    63.120000\n",
              "4                  CloneX     13.45555  ...       18879.0    44.006568\n",
              "..                    ...          ...  ...           ...          ...\n",
              "120    Dark Super Bunnies      0.01900  ...        4409.0    39.419369\n",
              "121      Generative Masks      0.08000  ...        9999.0    34.613461\n",
              "122           Dope Shibas      0.01110  ...        9899.0    40.428326\n",
              "123     Angry Apes United      0.03500  ...        8888.0    55.625563\n",
              "124      MOONDOGS ODYSSEY      0.01990  ...        5000.0    38.600000\n",
              "\n",
              "[122 rows x 9 columns]"
            ]
          },
          "metadata": {},
          "execution_count": 249
        }
      ]
    },
    {
      "cell_type": "code",
      "source": [
        "df_ratio['Owner Ratio'].describe()"
      ],
      "metadata": {
        "id": "HIQ-TSex4peE",
        "colab": {
          "base_uri": "https://localhost:8080/"
        },
        "outputId": "3ef6a808-b6e0-4f13-8476-0a5568744857"
      },
      "execution_count": 250,
      "outputs": [
        {
          "output_type": "execute_result",
          "data": {
            "text/plain": [
              "count    122.000000\n",
              "mean      39.230369\n",
              "std       15.310939\n",
              "min        2.770905\n",
              "25%       30.381525\n",
              "50%       39.409685\n",
              "75%       50.773747\n",
              "max       78.225441\n",
              "Name: Owner Ratio, dtype: float64"
            ]
          },
          "metadata": {},
          "execution_count": 250
        }
      ]
    },
    {
      "cell_type": "code",
      "source": [
        "plt.figure(figsize=(12,6))\n",
        "df_ratio.boxplot('Owner Ratio')\n",
        "plt.show()"
      ],
      "metadata": {
        "id": "GmHwymRY4pil",
        "colab": {
          "base_uri": "https://localhost:8080/",
          "height": 0
        },
        "outputId": "4e06fe70-3980-46be-c3b4-ead1b905980d"
      },
      "execution_count": 251,
      "outputs": [
        {
          "output_type": "display_data",
          "data": {
            "image/png": "[encoded data removed]",
            "text/plain": [
              "<Figure size 864x432 with 1 Axes>"
            ]
          },
          "metadata": {
            "needs_background": "light"
          }
        }
      ]
    },
    {
      "cell_type": "markdown",
      "source": [
        "#4ºParte: Analisando as relações do início:"
      ],
      "metadata": {
        "id": "nXhvASnTfOBK"
      }
    },
    {
      "cell_type": "markdown",
      "source": [
        "##Premissas:\n",
        "\n",
        "1. O market cap é o que entenderíamos pela receita total do projeto.  No entanto, muitos indicadores (incluindo a coingecko), simplesmente multiplicam a quantidade de NFTs (total assets) pelo preço do NFT mais baixo (floor price), o que significa que não é exatamente confiável. O market cap é o melhor parâmetro para entender o crescimento do projeto a longo prazo e o seu sucesso, porém, como tudo em finanças, não é uma medida exata, existem diversos outros fatores que garantem o sucesso de um projeto.\n",
        "\n",
        "2. Podemos considerar, por ser os top projetos NFTs, que eles deram sold out, ou seja, eles foram completamente vendidos. Por que isso é relevante? Quando um projeto tem todos seus NFTs vendidos, ele é considerado um bom projeto e o seu floor price se estabiliza, na maioria das vezes. Não é incomum um projeto estar completamente vendido.\n",
        "\n",
        "3. Como busco identificar quais projetos se destacam de alguma maneira e quais indicadores a maior parte dos projetos possuem, as colunas que devem ser ressaltadas são: o floor price, market cap e owners (preço de \"chão\" (preço do NFT mais barato), receita do projeto e os proprietários).\n"
      ],
      "metadata": {
        "id": "lWMhQ7iDCYDr"
      }
    },
    {
      "cell_type": "markdown",
      "source": [
        "##Hipóteses e demonstrações:\n"
      ],
      "metadata": {
        "id": "XVU74pytiHPb"
      }
    },
    {
      "cell_type": "markdown",
      "source": [
        "###O market cap é verdadeiro?"
      ],
      "metadata": {
        "id": "0A14GDtG_hVj"
      }
    },
    {
      "cell_type": "markdown",
      "source": [
        "- Muitos sites são conhecidos por não apresentar um market cap correto. O que posso fazer para verificar essa informação? Sei que, no mínimo, o market cap vai ser maior do que Total_assets (total de ativos) multiplicado floor_price (o preço do NFT mais baixo do projeto). "
      ],
      "metadata": {
        "id": "e5FOzTNw5tXn"
      }
    },
    {
      "cell_type": "code",
      "source": [
        "total_assets = []\n",
        "floor_price = []\n",
        "\n",
        "for price in df['Floor Price']:\n",
        "  floor_price.append(price)\n",
        "\n",
        "for asset in df['Total Assets']:\n",
        "  total_assets.append(asset)\n"
      ],
      "metadata": {
        "id": "-pPtRdIr4Yzn"
      },
      "execution_count": 252,
      "outputs": []
    },
    {
      "cell_type": "code",
      "source": [
        "makt_caps = []\n",
        "for i in range(len(total_assets)):\n",
        "  makt_cap = floor_price[i]*total_assets[i]\n",
        "  makt_caps.append(makt_cap)"
      ],
      "metadata": {
        "id": "4Zj8Pj-ozfur"
      },
      "execution_count": 253,
      "outputs": []
    },
    {
      "cell_type": "code",
      "source": [
        "makt_caps2 = []\n",
        "for makt_cap in df['Market Cap']:\n",
        "  makt_caps2.append(makt_cap)"
      ],
      "metadata": {
        "id": "4o0mLvu-zfww"
      },
      "execution_count": 254,
      "outputs": []
    },
    {
      "cell_type": "code",
      "source": [
        "larger = []\n",
        "equal = []\n",
        "smaller = []\n",
        "\n",
        "flag=0\n",
        "for i in range(len(makt_caps)):\n",
        "  if makt_caps[i] == makt_caps2[i]:\n",
        "    flag = 1\n",
        "    equal.append(flag)\n",
        "  elif makt_caps[i] > makt_caps2[i]:\n",
        "    flag = 2\n",
        "    equal.append(flag)\n",
        "  elif makt_caps[i] < makt_caps2[i]:\n",
        "    flag = 3\n",
        "    smaller.append(flag)"
      ],
      "metadata": {
        "id": "t-kTe6CK7DW2"
      },
      "execution_count": 255,
      "outputs": []
    },
    {
      "cell_type": "markdown",
      "source": [
        "- As flags indicam se o market cap do dataset é igual, menor ou maior que a multiplicação dos ativos totais do projeto com o floor price."
      ],
      "metadata": {
        "id": "T3RqOSOn_R4O"
      }
    },
    {
      "cell_type": "code",
      "source": [
        "print(len(equal), len(smaller), len(larger))"
      ],
      "metadata": {
        "colab": {
          "base_uri": "https://localhost:8080/"
        },
        "id": "_vyEheZn_fXy",
        "outputId": "de8720c3-2cde-4115-c848-47efbb0d2d80"
      },
      "execution_count": 256,
      "outputs": [
        {
          "output_type": "stream",
          "name": "stdout",
          "text": [
            "101 24 0\n"
          ]
        }
      ]
    },
    {
      "cell_type": "markdown",
      "source": [
        "- Aqui temos as relações. No dia 10/02, encontrei nenhum market cap maior que a multiplicação e inclusive, 19 marketcaps eram menores do que a relação floor_price * total_assets, o que indica que ele é *menor* do que o mínimo esperado. Portanto, o que indica que essa coluna não é verídica. No entanto, é importante ressaltar que não é um dado descartável visto que a maior parte (106) dos market caps indicam o market cap *mínimo*. O que podemos saber é que ele não é o verdadeiro market cap do projeto."
      ],
      "metadata": {
        "id": "6ZYuxNVK_xvx"
      }
    },
    {
      "cell_type": "markdown",
      "source": [
        "###Relações do floor price:"
      ],
      "metadata": {
        "id": "Ast_X_L8k1kS"
      }
    },
    {
      "cell_type": "code",
      "source": [
        "df_fp = pd.DataFrame([df['Floor Price'], df['Market Cap']])"
      ],
      "metadata": {
        "id": "32aOyZYFzfm0"
      },
      "execution_count": 257,
      "outputs": []
    },
    {
      "cell_type": "code",
      "source": [
        "df_fp = df_fp.transpose()"
      ],
      "metadata": {
        "id": "ODdLGQT3zfpQ"
      },
      "execution_count": 258,
      "outputs": []
    },
    {
      "cell_type": "code",
      "source": [
        "plt.figure(figsize=(12,8))\n",
        "heatmap = sns.heatmap(df_fp.corr(), cmap=\"BuPu\", annot=True)\n",
        "heatmap.set_title('Correlation Heatmap', fontdict={'fontsize':18}, pad=12);"
      ],
      "metadata": {
        "colab": {
          "base_uri": "https://localhost:8080/",
          "height": 0
        },
        "id": "Qj89Vmqrzfr_",
        "outputId": "ca8c70ed-035f-479f-a6b3-3f763a4aeadb"
      },
      "execution_count": 259,
      "outputs": [
        {
          "output_type": "display_data",
          "data": {
            "image/png": "[encoded data removed]",
            "text/plain": [
              "<Figure size 864x576 with 2 Axes>"
            ]
          },
          "metadata": {
            "needs_background": "light"
          }
        }
      ]
    },
    {
      "cell_type": "markdown",
      "source": [
        "- Essa informação é importante, um alto indice de correlação, mas não é uma informação vital visto o que foi demonstrado acima."
      ],
      "metadata": {
        "id": "mYB938QMA8vp"
      }
    },
    {
      "cell_type": "markdown",
      "source": [
        "###Quanto mais ativos, mais proprietários terá o projeto?"
      ],
      "metadata": {
        "id": "W4nhMAZPC3QS"
      }
    },
    {
      "cell_type": "code",
      "source": [
        "df2 = pd.DataFrame([df['Owners'], df['Total Assets']])"
      ],
      "metadata": {
        "id": "c20h9sE04RPx"
      },
      "execution_count": 260,
      "outputs": []
    },
    {
      "cell_type": "code",
      "source": [
        "df2.transpose().describe()"
      ],
      "metadata": {
        "id": "H91mpFBAvtJC",
        "colab": {
          "base_uri": "https://localhost:8080/",
          "height": 0
        },
        "outputId": "d47a1e11-5adb-423c-934b-540519051e4c"
      },
      "execution_count": 261,
      "outputs": [
        {
          "output_type": "execute_result",
          "data": {
            "text/html": [
              "\n",
              "  <div id=\"df-11cc8595-2bea-4944-9039-e01ce011d1fb\">\n",
              "    <div class=\"colab-df-container\">\n",
              "      <div>\n",
              "<style scoped>\n",
              "    .dataframe tbody tr th:only-of-type {\n",
              "        vertical-align: middle;\n",
              "    }\n",
              "\n",
              "    .dataframe tbody tr th {\n",
              "        vertical-align: top;\n",
              "    }\n",
              "\n",
              "    .dataframe thead th {\n",
              "        text-align: right;\n",
              "    }\n",
              "</style>\n",
              "<table border=\"1\" class=\"dataframe\">\n",
              "  <thead>\n",
              "    <tr style=\"text-align: right;\">\n",
              "      <th></th>\n",
              "      <th>Owners</th>\n",
              "      <th>Total Assets</th>\n",
              "    </tr>\n",
              "  </thead>\n",
              "  <tbody>\n",
              "    <tr>\n",
              "      <th>count</th>\n",
              "      <td>125.000000</td>\n",
              "      <td>125.000000</td>\n",
              "    </tr>\n",
              "    <tr>\n",
              "      <th>mean</th>\n",
              "      <td>3927.408000</td>\n",
              "      <td>10549.976000</td>\n",
              "    </tr>\n",
              "    <tr>\n",
              "      <th>std</th>\n",
              "      <td>3701.997761</td>\n",
              "      <td>14011.583941</td>\n",
              "    </tr>\n",
              "    <tr>\n",
              "      <th>min</th>\n",
              "      <td>56.000000</td>\n",
              "      <td>3.000000</td>\n",
              "    </tr>\n",
              "    <tr>\n",
              "      <th>25%</th>\n",
              "      <td>2084.000000</td>\n",
              "      <td>6942.000000</td>\n",
              "    </tr>\n",
              "    <tr>\n",
              "      <th>50%</th>\n",
              "      <td>3405.000000</td>\n",
              "      <td>9999.000000</td>\n",
              "    </tr>\n",
              "    <tr>\n",
              "      <th>75%</th>\n",
              "      <td>5045.000000</td>\n",
              "      <td>10000.000000</td>\n",
              "    </tr>\n",
              "    <tr>\n",
              "      <th>max</th>\n",
              "      <td>32794.000000</td>\n",
              "      <td>150072.000000</td>\n",
              "    </tr>\n",
              "  </tbody>\n",
              "</table>\n",
              "</div>\n",
              "      <button class=\"colab-df-convert\" onclick=\"convertToInteractive('df-11cc8595-2bea-4944-9039-e01ce011d1fb')\"\n",
              "              title=\"Convert this dataframe to an interactive table.\"\n",
              "              style=\"display:none;\">\n",
              "        \n",
              "  <svg xmlns=\"http://www.w3.org/2000/svg\" height=\"24px\"viewBox=\"0 0 24 24\"\n",
              "       width=\"24px\">\n",
              "    <path d=\"M0 0h24v24H0V0z\" fill=\"none\"/>\n",
              "    <path d=\"M18.56 5.44l.94 2.06.94-2.06 2.06-.94-2.06-.94-.94-2.06-.94 2.06-2.06.94zm-11 1L8.5 8.5l.94-2.06 2.06-.94-2.06-.94L8.5 2.5l-.94 2.06-2.06.94zm10 10l.94 2.06.94-2.06 2.06-.94-2.06-.94-.94-2.06-.94 2.06-2.06.94z\"/><path d=\"M17.41 7.96l-1.37-1.37c-.4-.4-.92-.59-1.43-.59-.52 0-1.04.2-1.43.59L10.3 9.45l-7.72 7.72c-.78.78-.78 2.05 0 2.83L4 21.41c.39.39.9.59 1.41.59.51 0 1.02-.2 1.41-.59l7.78-7.78 2.81-2.81c.8-.78.8-2.07 0-2.86zM5.41 20L4 18.59l7.72-7.72 1.47 1.35L5.41 20z\"/>\n",
              "  </svg>\n",
              "      </button>\n",
              "      \n",
              "  <style>\n",
              "    .colab-df-container {\n",
              "      display:flex;\n",
              "      flex-wrap:wrap;\n",
              "      gap: 12px;\n",
              "    }\n",
              "\n",
              "    .colab-df-convert {\n",
              "      background-color: #E8F0FE;\n",
              "      border: none;\n",
              "      border-radius: 50%;\n",
              "      cursor: pointer;\n",
              "      display: none;\n",
              "      fill: #1967D2;\n",
              "      height: 32px;\n",
              "      padding: 0 0 0 0;\n",
              "      width: 32px;\n",
              "    }\n",
              "\n",
              "    .colab-df-convert:hover {\n",
              "      background-color: #E2EBFA;\n",
              "      box-shadow: 0px 1px 2px rgba(60, 64, 67, 0.3), 0px 1px 3px 1px rgba(60, 64, 67, 0.15);\n",
              "      fill: #174EA6;\n",
              "    }\n",
              "\n",
              "    [theme=dark] .colab-df-convert {\n",
              "      background-color: #3B4455;\n",
              "      fill: #D2E3FC;\n",
              "    }\n",
              "\n",
              "    [theme=dark] .colab-df-convert:hover {\n",
              "      background-color: #434B5C;\n",
              "      box-shadow: 0px 1px 3px 1px rgba(0, 0, 0, 0.15);\n",
              "      filter: drop-shadow(0px 1px 2px rgba(0, 0, 0, 0.3));\n",
              "      fill: #FFFFFF;\n",
              "    }\n",
              "  </style>\n",
              "\n",
              "      <script>\n",
              "        const buttonEl =\n",
              "          document.querySelector('#df-11cc8595-2bea-4944-9039-e01ce011d1fb button.colab-df-convert');\n",
              "        buttonEl.style.display =\n",
              "          google.colab.kernel.accessAllowed ? 'block' : 'none';\n",
              "\n",
              "        async function convertToInteractive(key) {\n",
              "          const element = document.querySelector('#df-11cc8595-2bea-4944-9039-e01ce011d1fb');\n",
              "          const dataTable =\n",
              "            await google.colab.kernel.invokeFunction('convertToInteractive',\n",
              "                                                     [key], {});\n",
              "          if (!dataTable) return;\n",
              "\n",
              "          const docLinkHtml = 'Like what you see? Visit the ' +\n",
              "            '<a target=\"_blank\" href=https://colab.research.google.com/notebooks/data_table.ipynb>data table notebook</a>'\n",
              "            + ' to learn more about interactive tables.';\n",
              "          element.innerHTML = '';\n",
              "          dataTable['output_type'] = 'display_data';\n",
              "          await google.colab.output.renderOutput(dataTable, element);\n",
              "          const docLink = document.createElement('div');\n",
              "          docLink.innerHTML = docLinkHtml;\n",
              "          element.appendChild(docLink);\n",
              "        }\n",
              "      </script>\n",
              "    </div>\n",
              "  </div>\n",
              "  "
            ],
            "text/plain": [
              "             Owners   Total Assets\n",
              "count    125.000000     125.000000\n",
              "mean    3927.408000   10549.976000\n",
              "std     3701.997761   14011.583941\n",
              "min       56.000000       3.000000\n",
              "25%     2084.000000    6942.000000\n",
              "50%     3405.000000    9999.000000\n",
              "75%     5045.000000   10000.000000\n",
              "max    32794.000000  150072.000000"
            ]
          },
          "metadata": {},
          "execution_count": 261
        }
      ]
    },
    {
      "cell_type": "code",
      "source": [
        "df2.head()"
      ],
      "metadata": {
        "id": "tGJzaYtrvwQ4",
        "colab": {
          "base_uri": "https://localhost:8080/",
          "height": 0
        },
        "outputId": "28f6ff28-6457-4592-8bdc-a9c382243b3d"
      },
      "execution_count": 262,
      "outputs": [
        {
          "output_type": "execute_result",
          "data": {
            "text/html": [
              "\n",
              "  <div id=\"df-c2e07c7c-13e3-4292-8d7e-5dedb7f12f67\">\n",
              "    <div class=\"colab-df-container\">\n",
              "      <div>\n",
              "<style scoped>\n",
              "    .dataframe tbody tr th:only-of-type {\n",
              "        vertical-align: middle;\n",
              "    }\n",
              "\n",
              "    .dataframe tbody tr th {\n",
              "        vertical-align: top;\n",
              "    }\n",
              "\n",
              "    .dataframe thead th {\n",
              "        text-align: right;\n",
              "    }\n",
              "</style>\n",
              "<table border=\"1\" class=\"dataframe\">\n",
              "  <thead>\n",
              "    <tr style=\"text-align: right;\">\n",
              "      <th></th>\n",
              "      <th>0</th>\n",
              "      <th>1</th>\n",
              "      <th>2</th>\n",
              "      <th>3</th>\n",
              "      <th>4</th>\n",
              "      <th>5</th>\n",
              "      <th>6</th>\n",
              "      <th>7</th>\n",
              "      <th>8</th>\n",
              "      <th>9</th>\n",
              "      <th>10</th>\n",
              "      <th>11</th>\n",
              "      <th>12</th>\n",
              "      <th>13</th>\n",
              "      <th>14</th>\n",
              "      <th>15</th>\n",
              "      <th>16</th>\n",
              "      <th>17</th>\n",
              "      <th>18</th>\n",
              "      <th>19</th>\n",
              "      <th>20</th>\n",
              "      <th>21</th>\n",
              "      <th>22</th>\n",
              "      <th>23</th>\n",
              "      <th>24</th>\n",
              "      <th>25</th>\n",
              "      <th>26</th>\n",
              "      <th>27</th>\n",
              "      <th>28</th>\n",
              "      <th>29</th>\n",
              "      <th>30</th>\n",
              "      <th>31</th>\n",
              "      <th>32</th>\n",
              "      <th>33</th>\n",
              "      <th>34</th>\n",
              "      <th>35</th>\n",
              "      <th>36</th>\n",
              "      <th>37</th>\n",
              "      <th>38</th>\n",
              "      <th>39</th>\n",
              "      <th>...</th>\n",
              "      <th>85</th>\n",
              "      <th>86</th>\n",
              "      <th>87</th>\n",
              "      <th>88</th>\n",
              "      <th>89</th>\n",
              "      <th>90</th>\n",
              "      <th>91</th>\n",
              "      <th>92</th>\n",
              "      <th>93</th>\n",
              "      <th>94</th>\n",
              "      <th>95</th>\n",
              "      <th>96</th>\n",
              "      <th>97</th>\n",
              "      <th>98</th>\n",
              "      <th>99</th>\n",
              "      <th>100</th>\n",
              "      <th>101</th>\n",
              "      <th>102</th>\n",
              "      <th>103</th>\n",
              "      <th>104</th>\n",
              "      <th>105</th>\n",
              "      <th>106</th>\n",
              "      <th>107</th>\n",
              "      <th>108</th>\n",
              "      <th>109</th>\n",
              "      <th>110</th>\n",
              "      <th>111</th>\n",
              "      <th>112</th>\n",
              "      <th>113</th>\n",
              "      <th>114</th>\n",
              "      <th>115</th>\n",
              "      <th>116</th>\n",
              "      <th>117</th>\n",
              "      <th>118</th>\n",
              "      <th>119</th>\n",
              "      <th>120</th>\n",
              "      <th>121</th>\n",
              "      <th>122</th>\n",
              "      <th>123</th>\n",
              "      <th>124</th>\n",
              "    </tr>\n",
              "  </thead>\n",
              "  <tbody>\n",
              "    <tr>\n",
              "      <th>Owners</th>\n",
              "      <td>5750.0</td>\n",
              "      <td>2654.0</td>\n",
              "      <td>5407.0</td>\n",
              "      <td>6312.0</td>\n",
              "      <td>8308.0</td>\n",
              "      <td>11761.0</td>\n",
              "      <td>440.0</td>\n",
              "      <td>19758.0</td>\n",
              "      <td>10567.0</td>\n",
              "      <td>3358.0</td>\n",
              "      <td>3391.0</td>\n",
              "      <td>6041.0</td>\n",
              "      <td>5158.0</td>\n",
              "      <td>3000.0</td>\n",
              "      <td>5073.0</td>\n",
              "      <td>3577.0</td>\n",
              "      <td>2441.0</td>\n",
              "      <td>5349.0</td>\n",
              "      <td>4827.0</td>\n",
              "      <td>5444.0</td>\n",
              "      <td>8286.0</td>\n",
              "      <td>299.0</td>\n",
              "      <td>3290.0</td>\n",
              "      <td>4759.0</td>\n",
              "      <td>3942.0</td>\n",
              "      <td>5045.0</td>\n",
              "      <td>3770.0</td>\n",
              "      <td>1372.0</td>\n",
              "      <td>5036.0</td>\n",
              "      <td>2900.0</td>\n",
              "      <td>5213.0</td>\n",
              "      <td>8668.0</td>\n",
              "      <td>6122.0</td>\n",
              "      <td>4520.0</td>\n",
              "      <td>6216.0</td>\n",
              "      <td>2097.0</td>\n",
              "      <td>519.0</td>\n",
              "      <td>32794.0</td>\n",
              "      <td>56.0</td>\n",
              "      <td>6899.0</td>\n",
              "      <td>...</td>\n",
              "      <td>3012.0</td>\n",
              "      <td>2758.0</td>\n",
              "      <td>4184.0</td>\n",
              "      <td>3414.0</td>\n",
              "      <td>539.0</td>\n",
              "      <td>3960.0</td>\n",
              "      <td>3750.0</td>\n",
              "      <td>4291.0</td>\n",
              "      <td>1118.0</td>\n",
              "      <td>2084.0</td>\n",
              "      <td>1064.0</td>\n",
              "      <td>1863.0</td>\n",
              "      <td>2910.0</td>\n",
              "      <td>1390.0</td>\n",
              "      <td>293.0</td>\n",
              "      <td>2616.0</td>\n",
              "      <td>5099.0</td>\n",
              "      <td>1373.0</td>\n",
              "      <td>3838.0</td>\n",
              "      <td>3723.0</td>\n",
              "      <td>1533.0</td>\n",
              "      <td>920.0</td>\n",
              "      <td>2851.0</td>\n",
              "      <td>2792.0</td>\n",
              "      <td>1840.0</td>\n",
              "      <td>2700.0</td>\n",
              "      <td>813.0</td>\n",
              "      <td>1507.0</td>\n",
              "      <td>1146.0</td>\n",
              "      <td>3235.0</td>\n",
              "      <td>2271.0</td>\n",
              "      <td>3541.0</td>\n",
              "      <td>5112.0</td>\n",
              "      <td>2573.0</td>\n",
              "      <td>683.0</td>\n",
              "      <td>1738.0</td>\n",
              "      <td>3461.0</td>\n",
              "      <td>4002.0</td>\n",
              "      <td>4944.0</td>\n",
              "      <td>1930.0</td>\n",
              "    </tr>\n",
              "    <tr>\n",
              "      <th>Total Assets</th>\n",
              "      <td>20000.0</td>\n",
              "      <td>4870.0</td>\n",
              "      <td>10000.0</td>\n",
              "      <td>10000.0</td>\n",
              "      <td>18879.0</td>\n",
              "      <td>17961.0</td>\n",
              "      <td>10000.0</td>\n",
              "      <td>150072.0</td>\n",
              "      <td>18584.0</td>\n",
              "      <td>14533.0</td>\n",
              "      <td>9999.0</td>\n",
              "      <td>10000.0</td>\n",
              "      <td>9933.0</td>\n",
              "      <td>9500.0</td>\n",
              "      <td>10000.0</td>\n",
              "      <td>10000.0</td>\n",
              "      <td>5000.0</td>\n",
              "      <td>10000.0</td>\n",
              "      <td>8888.0</td>\n",
              "      <td>10000.0</td>\n",
              "      <td>23204.0</td>\n",
              "      <td>6459.0</td>\n",
              "      <td>10000.0</td>\n",
              "      <td>9757.0</td>\n",
              "      <td>7776.0</td>\n",
              "      <td>10080.0</td>\n",
              "      <td>10000.0</td>\n",
              "      <td>8888.0</td>\n",
              "      <td>8888.0</td>\n",
              "      <td>10000.0</td>\n",
              "      <td>10255.0</td>\n",
              "      <td>24999.0</td>\n",
              "      <td>10000.0</td>\n",
              "      <td>8733.0</td>\n",
              "      <td>10000.0</td>\n",
              "      <td>4169.0</td>\n",
              "      <td>10000.0</td>\n",
              "      <td>421.0</td>\n",
              "      <td>2021.0</td>\n",
              "      <td>10000.0</td>\n",
              "      <td>...</td>\n",
              "      <td>10000.0</td>\n",
              "      <td>7000.0</td>\n",
              "      <td>12345.0</td>\n",
              "      <td>7977.0</td>\n",
              "      <td>1024.0</td>\n",
              "      <td>8008.0</td>\n",
              "      <td>9999.0</td>\n",
              "      <td>10762.0</td>\n",
              "      <td>2048.0</td>\n",
              "      <td>4950.0</td>\n",
              "      <td>10000.0</td>\n",
              "      <td>3000.0</td>\n",
              "      <td>7777.0</td>\n",
              "      <td>3498.0</td>\n",
              "      <td>526.0</td>\n",
              "      <td>5550.0</td>\n",
              "      <td>10419.0</td>\n",
              "      <td>2799.0</td>\n",
              "      <td>10000.0</td>\n",
              "      <td>9999.0</td>\n",
              "      <td>4196.0</td>\n",
              "      <td>2500.0</td>\n",
              "      <td>7777.0</td>\n",
              "      <td>10100.0</td>\n",
              "      <td>4027.0</td>\n",
              "      <td>9999.0</td>\n",
              "      <td>5555.0</td>\n",
              "      <td>5000.0</td>\n",
              "      <td>2250.0</td>\n",
              "      <td>7335.0</td>\n",
              "      <td>7487.0</td>\n",
              "      <td>10000.0</td>\n",
              "      <td>10000.0</td>\n",
              "      <td>10000.0</td>\n",
              "      <td>11357.0</td>\n",
              "      <td>4409.0</td>\n",
              "      <td>9999.0</td>\n",
              "      <td>9899.0</td>\n",
              "      <td>8888.0</td>\n",
              "      <td>5000.0</td>\n",
              "    </tr>\n",
              "  </tbody>\n",
              "</table>\n",
              "<p>2 rows × 125 columns</p>\n",
              "</div>\n",
              "      <button class=\"colab-df-convert\" onclick=\"convertToInteractive('df-c2e07c7c-13e3-4292-8d7e-5dedb7f12f67')\"\n",
              "              title=\"Convert this dataframe to an interactive table.\"\n",
              "              style=\"display:none;\">\n",
              "        \n",
              "  <svg xmlns=\"http://www.w3.org/2000/svg\" height=\"24px\"viewBox=\"0 0 24 24\"\n",
              "       width=\"24px\">\n",
              "    <path d=\"M0 0h24v24H0V0z\" fill=\"none\"/>\n",
              "    <path d=\"M18.56 5.44l.94 2.06.94-2.06 2.06-.94-2.06-.94-.94-2.06-.94 2.06-2.06.94zm-11 1L8.5 8.5l.94-2.06 2.06-.94-2.06-.94L8.5 2.5l-.94 2.06-2.06.94zm10 10l.94 2.06.94-2.06 2.06-.94-2.06-.94-.94-2.06-.94 2.06-2.06.94z\"/><path d=\"M17.41 7.96l-1.37-1.37c-.4-.4-.92-.59-1.43-.59-.52 0-1.04.2-1.43.59L10.3 9.45l-7.72 7.72c-.78.78-.78 2.05 0 2.83L4 21.41c.39.39.9.59 1.41.59.51 0 1.02-.2 1.41-.59l7.78-7.78 2.81-2.81c.8-.78.8-2.07 0-2.86zM5.41 20L4 18.59l7.72-7.72 1.47 1.35L5.41 20z\"/>\n",
              "  </svg>\n",
              "      </button>\n",
              "      \n",
              "  <style>\n",
              "    .colab-df-container {\n",
              "      display:flex;\n",
              "      flex-wrap:wrap;\n",
              "      gap: 12px;\n",
              "    }\n",
              "\n",
              "    .colab-df-convert {\n",
              "      background-color: #E8F0FE;\n",
              "      border: none;\n",
              "      border-radius: 50%;\n",
              "      cursor: pointer;\n",
              "      display: none;\n",
              "      fill: #1967D2;\n",
              "      height: 32px;\n",
              "      padding: 0 0 0 0;\n",
              "      width: 32px;\n",
              "    }\n",
              "\n",
              "    .colab-df-convert:hover {\n",
              "      background-color: #E2EBFA;\n",
              "      box-shadow: 0px 1px 2px rgba(60, 64, 67, 0.3), 0px 1px 3px 1px rgba(60, 64, 67, 0.15);\n",
              "      fill: #174EA6;\n",
              "    }\n",
              "\n",
              "    [theme=dark] .colab-df-convert {\n",
              "      background-color: #3B4455;\n",
              "      fill: #D2E3FC;\n",
              "    }\n",
              "\n",
              "    [theme=dark] .colab-df-convert:hover {\n",
              "      background-color: #434B5C;\n",
              "      box-shadow: 0px 1px 3px 1px rgba(0, 0, 0, 0.15);\n",
              "      filter: drop-shadow(0px 1px 2px rgba(0, 0, 0, 0.3));\n",
              "      fill: #FFFFFF;\n",
              "    }\n",
              "  </style>\n",
              "\n",
              "      <script>\n",
              "        const buttonEl =\n",
              "          document.querySelector('#df-c2e07c7c-13e3-4292-8d7e-5dedb7f12f67 button.colab-df-convert');\n",
              "        buttonEl.style.display =\n",
              "          google.colab.kernel.accessAllowed ? 'block' : 'none';\n",
              "\n",
              "        async function convertToInteractive(key) {\n",
              "          const element = document.querySelector('#df-c2e07c7c-13e3-4292-8d7e-5dedb7f12f67');\n",
              "          const dataTable =\n",
              "            await google.colab.kernel.invokeFunction('convertToInteractive',\n",
              "                                                     [key], {});\n",
              "          if (!dataTable) return;\n",
              "\n",
              "          const docLinkHtml = 'Like what you see? Visit the ' +\n",
              "            '<a target=\"_blank\" href=https://colab.research.google.com/notebooks/data_table.ipynb>data table notebook</a>'\n",
              "            + ' to learn more about interactive tables.';\n",
              "          element.innerHTML = '';\n",
              "          dataTable['output_type'] = 'display_data';\n",
              "          await google.colab.output.renderOutput(dataTable, element);\n",
              "          const docLink = document.createElement('div');\n",
              "          docLink.innerHTML = docLinkHtml;\n",
              "          element.appendChild(docLink);\n",
              "        }\n",
              "      </script>\n",
              "    </div>\n",
              "  </div>\n",
              "  "
            ],
            "text/plain": [
              "                  0       1        2        3    ...     121     122     123     124\n",
              "Owners         5750.0  2654.0   5407.0   6312.0  ...  3461.0  4002.0  4944.0  1930.0\n",
              "Total Assets  20000.0  4870.0  10000.0  10000.0  ...  9999.0  9899.0  8888.0  5000.0\n",
              "\n",
              "[2 rows x 125 columns]"
            ]
          },
          "metadata": {},
          "execution_count": 262
        }
      ]
    },
    {
      "cell_type": "code",
      "source": [
        "df2 = df2.transpose()"
      ],
      "metadata": {
        "id": "Z-nAYlKh72Yy"
      },
      "execution_count": 263,
      "outputs": []
    },
    {
      "cell_type": "code",
      "source": [
        "df2"
      ],
      "metadata": {
        "colab": {
          "base_uri": "https://localhost:8080/",
          "height": 0
        },
        "id": "k9eNflBx79r6",
        "outputId": "33961fe6-29f9-40f0-e960-348cdb1dad3b"
      },
      "execution_count": 264,
      "outputs": [
        {
          "output_type": "execute_result",
          "data": {
            "text/html": [
              "\n",
              "  <div id=\"df-628383ab-3d3d-48ff-b15c-f093de130807\">\n",
              "    <div class=\"colab-df-container\">\n",
              "      <div>\n",
              "<style scoped>\n",
              "    .dataframe tbody tr th:only-of-type {\n",
              "        vertical-align: middle;\n",
              "    }\n",
              "\n",
              "    .dataframe tbody tr th {\n",
              "        vertical-align: top;\n",
              "    }\n",
              "\n",
              "    .dataframe thead th {\n",
              "        text-align: right;\n",
              "    }\n",
              "</style>\n",
              "<table border=\"1\" class=\"dataframe\">\n",
              "  <thead>\n",
              "    <tr style=\"text-align: right;\">\n",
              "      <th></th>\n",
              "      <th>Owners</th>\n",
              "      <th>Total Assets</th>\n",
              "    </tr>\n",
              "  </thead>\n",
              "  <tbody>\n",
              "    <tr>\n",
              "      <th>0</th>\n",
              "      <td>5750.0</td>\n",
              "      <td>20000.0</td>\n",
              "    </tr>\n",
              "    <tr>\n",
              "      <th>1</th>\n",
              "      <td>2654.0</td>\n",
              "      <td>4870.0</td>\n",
              "    </tr>\n",
              "    <tr>\n",
              "      <th>2</th>\n",
              "      <td>5407.0</td>\n",
              "      <td>10000.0</td>\n",
              "    </tr>\n",
              "    <tr>\n",
              "      <th>3</th>\n",
              "      <td>6312.0</td>\n",
              "      <td>10000.0</td>\n",
              "    </tr>\n",
              "    <tr>\n",
              "      <th>4</th>\n",
              "      <td>8308.0</td>\n",
              "      <td>18879.0</td>\n",
              "    </tr>\n",
              "    <tr>\n",
              "      <th>...</th>\n",
              "      <td>...</td>\n",
              "      <td>...</td>\n",
              "    </tr>\n",
              "    <tr>\n",
              "      <th>120</th>\n",
              "      <td>1738.0</td>\n",
              "      <td>4409.0</td>\n",
              "    </tr>\n",
              "    <tr>\n",
              "      <th>121</th>\n",
              "      <td>3461.0</td>\n",
              "      <td>9999.0</td>\n",
              "    </tr>\n",
              "    <tr>\n",
              "      <th>122</th>\n",
              "      <td>4002.0</td>\n",
              "      <td>9899.0</td>\n",
              "    </tr>\n",
              "    <tr>\n",
              "      <th>123</th>\n",
              "      <td>4944.0</td>\n",
              "      <td>8888.0</td>\n",
              "    </tr>\n",
              "    <tr>\n",
              "      <th>124</th>\n",
              "      <td>1930.0</td>\n",
              "      <td>5000.0</td>\n",
              "    </tr>\n",
              "  </tbody>\n",
              "</table>\n",
              "<p>125 rows × 2 columns</p>\n",
              "</div>\n",
              "      <button class=\"colab-df-convert\" onclick=\"convertToInteractive('df-628383ab-3d3d-48ff-b15c-f093de130807')\"\n",
              "              title=\"Convert this dataframe to an interactive table.\"\n",
              "              style=\"display:none;\">\n",
              "        \n",
              "  <svg xmlns=\"http://www.w3.org/2000/svg\" height=\"24px\"viewBox=\"0 0 24 24\"\n",
              "       width=\"24px\">\n",
              "    <path d=\"M0 0h24v24H0V0z\" fill=\"none\"/>\n",
              "    <path d=\"M18.56 5.44l.94 2.06.94-2.06 2.06-.94-2.06-.94-.94-2.06-.94 2.06-2.06.94zm-11 1L8.5 8.5l.94-2.06 2.06-.94-2.06-.94L8.5 2.5l-.94 2.06-2.06.94zm10 10l.94 2.06.94-2.06 2.06-.94-2.06-.94-.94-2.06-.94 2.06-2.06.94z\"/><path d=\"M17.41 7.96l-1.37-1.37c-.4-.4-.92-.59-1.43-.59-.52 0-1.04.2-1.43.59L10.3 9.45l-7.72 7.72c-.78.78-.78 2.05 0 2.83L4 21.41c.39.39.9.59 1.41.59.51 0 1.02-.2 1.41-.59l7.78-7.78 2.81-2.81c.8-.78.8-2.07 0-2.86zM5.41 20L4 18.59l7.72-7.72 1.47 1.35L5.41 20z\"/>\n",
              "  </svg>\n",
              "      </button>\n",
              "      \n",
              "  <style>\n",
              "    .colab-df-container {\n",
              "      display:flex;\n",
              "      flex-wrap:wrap;\n",
              "      gap: 12px;\n",
              "    }\n",
              "\n",
              "    .colab-df-convert {\n",
              "      background-color: #E8F0FE;\n",
              "      border: none;\n",
              "      border-radius: 50%;\n",
              "      cursor: pointer;\n",
              "      display: none;\n",
              "      fill: #1967D2;\n",
              "      height: 32px;\n",
              "      padding: 0 0 0 0;\n",
              "      width: 32px;\n",
              "    }\n",
              "\n",
              "    .colab-df-convert:hover {\n",
              "      background-color: #E2EBFA;\n",
              "      box-shadow: 0px 1px 2px rgba(60, 64, 67, 0.3), 0px 1px 3px 1px rgba(60, 64, 67, 0.15);\n",
              "      fill: #174EA6;\n",
              "    }\n",
              "\n",
              "    [theme=dark] .colab-df-convert {\n",
              "      background-color: #3B4455;\n",
              "      fill: #D2E3FC;\n",
              "    }\n",
              "\n",
              "    [theme=dark] .colab-df-convert:hover {\n",
              "      background-color: #434B5C;\n",
              "      box-shadow: 0px 1px 3px 1px rgba(0, 0, 0, 0.15);\n",
              "      filter: drop-shadow(0px 1px 2px rgba(0, 0, 0, 0.3));\n",
              "      fill: #FFFFFF;\n",
              "    }\n",
              "  </style>\n",
              "\n",
              "      <script>\n",
              "        const buttonEl =\n",
              "          document.querySelector('#df-628383ab-3d3d-48ff-b15c-f093de130807 button.colab-df-convert');\n",
              "        buttonEl.style.display =\n",
              "          google.colab.kernel.accessAllowed ? 'block' : 'none';\n",
              "\n",
              "        async function convertToInteractive(key) {\n",
              "          const element = document.querySelector('#df-628383ab-3d3d-48ff-b15c-f093de130807');\n",
              "          const dataTable =\n",
              "            await google.colab.kernel.invokeFunction('convertToInteractive',\n",
              "                                                     [key], {});\n",
              "          if (!dataTable) return;\n",
              "\n",
              "          const docLinkHtml = 'Like what you see? Visit the ' +\n",
              "            '<a target=\"_blank\" href=https://colab.research.google.com/notebooks/data_table.ipynb>data table notebook</a>'\n",
              "            + ' to learn more about interactive tables.';\n",
              "          element.innerHTML = '';\n",
              "          dataTable['output_type'] = 'display_data';\n",
              "          await google.colab.output.renderOutput(dataTable, element);\n",
              "          const docLink = document.createElement('div');\n",
              "          docLink.innerHTML = docLinkHtml;\n",
              "          element.appendChild(docLink);\n",
              "        }\n",
              "      </script>\n",
              "    </div>\n",
              "  </div>\n",
              "  "
            ],
            "text/plain": [
              "     Owners  Total Assets\n",
              "0    5750.0       20000.0\n",
              "1    2654.0        4870.0\n",
              "2    5407.0       10000.0\n",
              "3    6312.0       10000.0\n",
              "4    8308.0       18879.0\n",
              "..      ...           ...\n",
              "120  1738.0        4409.0\n",
              "121  3461.0        9999.0\n",
              "122  4002.0        9899.0\n",
              "123  4944.0        8888.0\n",
              "124  1930.0        5000.0\n",
              "\n",
              "[125 rows x 2 columns]"
            ]
          },
          "metadata": {},
          "execution_count": 264
        }
      ]
    },
    {
      "cell_type": "code",
      "source": [
        "plt.figure(figsize=(10,6))\n",
        "heatmap = sns.heatmap(df2.corr(), cmap=\"BuPu\", annot=True)\n",
        "heatmap.set_title('Correlation Heatmap', fontdict={'fontsize':18}, pad=12);"
      ],
      "metadata": {
        "id": "eD_FNXwJwFoM",
        "colab": {
          "base_uri": "https://localhost:8080/",
          "height": 0
        },
        "outputId": "2b1d7245-1ec9-43e3-e314-7cff99479708"
      },
      "execution_count": 265,
      "outputs": [
        {
          "output_type": "display_data",
          "data": {
            "image/png": "[encoded data removed]",
            "text/plain": [
              "<Figure size 720x432 with 2 Axes>"
            ]
          },
          "metadata": {
            "needs_background": "light"
          }
        }
      ]
    },
    {
      "cell_type": "markdown",
      "source": [
        "- Correlação forte! Não necessariamente um projeto terá mais proprietários quando se tem mais ativos, visto que um projeto pode ter muitos ativos e poucos donos - o que indicaria, muito provavelmente, que os ativos estão em um preço baixo, mas com expectativa de lucro. \n",
        "\n",
        "- Se o projeto tem muitos ativos e muitos donos, é muito provável que o preço esteja razoalvemente equilibrado na proporção entre os dois. Essa relação é espelhada na coluna owners_ratio."
      ],
      "metadata": {
        "id": "hHzI96i3wLvK"
      }
    },
    {
      "cell_type": "markdown",
      "source": [
        "###Há alguma relação entre o market cap e o total de ativos?"
      ],
      "metadata": {
        "id": "galurW-WDeO7"
      }
    },
    {
      "cell_type": "code",
      "source": [
        "df3 = pd.DataFrame([df['Market Cap'], df['Total Assets']])"
      ],
      "metadata": {
        "id": "-cwFEJVnxA5b"
      },
      "execution_count": 266,
      "outputs": []
    },
    {
      "cell_type": "code",
      "source": [
        "df3 = df3.transpose()"
      ],
      "metadata": {
        "id": "N5segWZTxGZB"
      },
      "execution_count": 267,
      "outputs": []
    },
    {
      "cell_type": "code",
      "source": [
        "plt.figure(figsize=(10,6))\n",
        "heatmap = sns.heatmap(df3.corr(), cmap=\"BuPu\", annot=True)\n",
        "heatmap.set_title('Correlation Heatmap', fontdict={'fontsize':18}, pad=12);"
      ],
      "metadata": {
        "id": "vr0eOPgWxJGS",
        "colab": {
          "base_uri": "https://localhost:8080/",
          "height": 0
        },
        "outputId": "2c48b566-ad8d-496d-d494-71f9dc57569e"
      },
      "execution_count": 268,
      "outputs": [
        {
          "output_type": "display_data",
          "data": {
            "image/png": "[encoded data removed]",
            "text/plain": [
              "<Figure size 720x432 with 2 Axes>"
            ]
          },
          "metadata": {
            "needs_background": "light"
          }
        }
      ]
    },
    {
      "cell_type": "markdown",
      "source": [
        "- Resposta: não é uma correlação forte, mas existe um indicativo. Não necessariamente quanto mais ativos, mais receita aquele projeto terá."
      ],
      "metadata": {
        "id": "JO4klX05DiHd"
      }
    },
    {
      "cell_type": "markdown",
      "source": [
        "###Correlacionando o proprietários, total de ativos e market cap:"
      ],
      "metadata": {
        "id": "ksF2C1_x0bwF"
      }
    },
    {
      "cell_type": "code",
      "source": [
        "df4 = pd.DataFrame([df['Owners'], df['Total Assets'], df['Market Cap']])"
      ],
      "metadata": {
        "id": "_JwgbOit0d52"
      },
      "execution_count": 269,
      "outputs": []
    },
    {
      "cell_type": "code",
      "source": [
        "df4 = df4.transpose()"
      ],
      "metadata": {
        "id": "wzQf83E51oFs"
      },
      "execution_count": 270,
      "outputs": []
    },
    {
      "cell_type": "code",
      "source": [
        "plt.figure(figsize=(12,8))\n",
        "heatmap = sns.heatmap(df4.corr(), cmap=\"BuPu\", annot=True)\n",
        "heatmap.set_title('Correlation Heatmap', fontdict={'fontsize':18}, pad=12);"
      ],
      "metadata": {
        "id": "uMRz5q950d8P",
        "colab": {
          "base_uri": "https://localhost:8080/",
          "height": 0
        },
        "outputId": "3d6ca2d8-1a13-4f34-de43-86e0273234dd"
      },
      "execution_count": 271,
      "outputs": [
        {
          "output_type": "display_data",
          "data": {
            "image/png": "[encoded data removed]",
            "text/plain": [
              "<Figure size 864x576 with 2 Axes>"
            ]
          },
          "metadata": {
            "needs_background": "light"
          }
        }
      ]
    },
    {
      "cell_type": "markdown",
      "source": [
        "- Como podemos observar, a interação nova é entre proprietários e market cap"
      ],
      "metadata": {
        "id": "BILdixI_Dvr-"
      }
    },
    {
      "cell_type": "markdown",
      "source": [
        "###O que o market cap e o owners indicam?"
      ],
      "metadata": {
        "id": "pxXx3HXzPAPD"
      }
    },
    {
      "cell_type": "code",
      "source": [
        "df5 = pd.DataFrame([df['Owners'], df['Market Cap']])\n",
        "df5 = df5.transpose()"
      ],
      "metadata": {
        "id": "qV9MUyrePLET"
      },
      "execution_count": 272,
      "outputs": []
    },
    {
      "cell_type": "code",
      "source": [
        "plt.figure(figsize=(12,8))\n",
        "sns.scatterplot(data=df5)"
      ],
      "metadata": {
        "colab": {
          "base_uri": "https://localhost:8080/",
          "height": 0
        },
        "id": "FHmSKjysPLJW",
        "outputId": "8c970ca8-49d3-4122-89f1-5a5f41302bb5"
      },
      "execution_count": 273,
      "outputs": [
        {
          "output_type": "execute_result",
          "data": {
            "text/plain": [
              "<matplotlib.axes._subplots.AxesSubplot at 0x7f19114eedd0>"
            ]
          },
          "metadata": {},
          "execution_count": 273
        },
        {
          "output_type": "display_data",
          "data": {
            "image/png": "[encoded data removed]",
            "text/plain": [
              "<Figure size 864x576 with 1 Axes>"
            ]
          },
          "metadata": {
            "needs_background": "light"
          }
        }
      ]
    },
    {
      "cell_type": "markdown",
      "source": [
        "##Conclusões\n"
      ],
      "metadata": {
        "id": "QF4MGFchCeHE"
      }
    },
    {
      "cell_type": "markdown",
      "source": [
        "1. É importante notar que como essa análise é dinâmica, \n",
        "muitas vezes os números indicados serão completamente diferentes \n",
        "por questões de flutuação de mercado. Nesse sentido, tentei fazer \n",
        "uma análise das relações de forma a priori, respaldadas pelos \n",
        "projetos principais da opensea de fevereiro, daqui a uma semana ou \n",
        "um mês ou um ano serão completamente diferentes.\n",
        "\n",
        "2. Os dados acerca do floor price estão concentrados por volta de 0 e 5 ETH. O que nos indica lançamentos baixos, exceto por alguns outliers discrepantes.\n",
        "\n",
        "3. A conclusão é que o Market Cap se mantém estável de um modo geral para a maior partes dos projetos tirando alguns Outliers acima de 20.000, ou ainda, podemos  considerar que os Outliers se comprometem bastante acima do 3º Quartil (75%): 13587.1 ETH. Ainda mais quando se considera que a mediana é 2179 ETH, podemos entender que a maior parte dos projetos deve estar por volta desse valor.\n",
        "\n",
        "4. Importante: Diante dos gráficos, conseguimos compreender que ainda existe uma \n",
        "boa dispersão acima de por volta de 3000 ETH de market cap. Os projetos acima disso são os que devem ter uma atenção interessante para um investidor.\n",
        "\n",
        "- Os proprietários do NFTs obedecem uma métrica muito mais concisa. O que isso nos indica? \n",
        "\n",
        "5. O fato é que um proprietário pode ter muitos NFTs e não possuímos esse número somente com essa feature. No entanto,  o que podemos inferir é que os projetos que possuem muitos proprietários:Estão completamente vendidos ou quase completamente.Esses NFTs têm um preço baixo ou o projeto tem muita fama. Os projetos que têm poucos proprietários ou têm um preço alto ou têm pouco sucesso.\n",
        "\n",
        "6. A média de totais de NFTs (total assets) dos projetos é 7796. A maior parte dos projetos, no entanto se concentra em 9409 ~ 10.000 NFTs.\n",
        "\n",
        "7. No dia 10/02, encontrei nenhum market cap maior que a multiplicação entre floor price e market cap.Portanto, o que indica é que essa coluna não é verídica. O interessante é notar que isso baliza o investidor por baixo, sabemos que a receita do projeto é, no mínimo, o market cap indicado no dataset.\n",
        "\n",
        "8. Não necessariamente um projeto terá mais proprietários quando se tem mais ativos, visto que um projeto pode ter muitos ativos e poucos donos - o que indicaria, muito provavelmente, que os ativos estão em um preço baixo, mas com expectativa de lucro.\n",
        "\n",
        "9. Se o projeto tem muitos ativos e muitos donos, é muito provável que o preço esteja razoalvemente equilibrado na proporção entre os dois. Essa relação é espelhada na coluna owners_ratio.\n",
        "\n",
        "#Esses pontos foram colhidos através da observação dos gráficos e dos parâmetros estatísticos. Eles auxiliam algumas coisas em relação as perguntas iniciais:\n",
        "\n",
        "1. Primeiro pergunta: Diante do que foi escolhido, e tomado como premissa, certamente o market cap é essencial. Percebemos também que o floor price é essencial para um investidor visto como a open sea e a coingecko (por consequência) o tomam como baliza mínima de valor. A quantidade de proprietários é essencial para compreendermos o quanto aquele projeto é atraente, no entanto, nada nos indica que quanto mais proprietários, mais valorizado é aquele projeto, para isso é preciso analisar em conjunto com o price floor e o market cap.\n",
        "\n",
        "2. Como demonstrei, o market cap é associado ao price floor e a quantidade total de NFTs em um projeto (total assets). Também é interessante notar o owner ratio, que nos mostra o quanto aquele projeto tem em termos de proporção de proprietários e ativos do projeto e como isso é significativo para saber o quão populoso é um projeto. A partir disso, podemos balizar também pela média de NFTs de um projeto. Acredito que isso é interessante de se comparar, se determinado projeto tá acima ou baixo da média em relação à quantidade de NFTs ofertados e relacionar isso com o owner ratio.\n",
        "\n",
        "3. Isso é um toque mais pessoal que o dataset não fornece de maneira alguma. O que podemos inferir do dataset é quais projetos valem a pena se aprofundar quanto a essa questão. Para além de questões puramente matemática e financeiras, a questão gira em torno de o quão aquele projeto é sustentável de um ponto de vista tecnológico e de constituição de comunidade."
      ],
      "metadata": {
        "id": "m3rz4BIRQxUS"
      }
    }
  ]
}