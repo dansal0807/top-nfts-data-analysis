{
  "nbformat": 4,
  "nbformat_minor": 0,
  "metadata": {
    "colab": {
      "name": "Top-NFTs - Coleta, Limpeza e Exploração dos dados.ipynb",
      "provenance": []
    },
    "kernelspec": {
      "name": "python3",
      "display_name": "Python 3"
    },
    "language_info": {
      "name": "python"
    }
  },
  "cells": [
    {
      "cell_type": "markdown",
      "source": [
        "#Importando as Bibliotecas:"
      ],
      "metadata": {
        "id": "5vh35CtnLfxH"
      }
    },
    {
      "cell_type": "code",
      "execution_count": 52,
      "metadata": {
        "id": "c2oc3bhRmRk6"
      },
      "outputs": [],
      "source": [
        "import pandas as pd\n",
        "import requests\n",
        "from bs4 import BeautifulSoup as bs\n",
        "\n",
        "import matplotlib.pyplot as plt\n",
        "import seaborn as sns"
      ]
    },
    {
      "cell_type": "markdown",
      "source": [
        "#1ºParte: Coleta de dados e preparação do dataframe:"
      ],
      "metadata": {
        "id": "L_vb_pu0Ljvi"
      }
    },
    {
      "cell_type": "markdown",
      "source": [
        "Interessante notar que cada vez que os comandos abaixo são postos para funcionar, os preços e volumes são constantemente atualizados. Isso gera uma dificuldade, mas também gera uma análise mais precisa que deve considerar a mudança dos preços."
      ],
      "metadata": {
        "id": "qj3GAGeQzAii"
      }
    },
    {
      "cell_type": "markdown",
      "source": [
        "##Fazendo requisição da API da coingecko:"
      ],
      "metadata": {
        "id": "HsHRh4lUUn0T"
      }
    },
    {
      "cell_type": "code",
      "source": [
        "request = requests.get(\"https://www.coingecko.com/en/nft\").text"
      ],
      "metadata": {
        "id": "XudfWz_ooGHC"
      },
      "execution_count": 53,
      "outputs": []
    },
    {
      "cell_type": "code",
      "source": [
        "df = pd.read_html(request)"
      ],
      "metadata": {
        "id": "2D2QdNWIomlc"
      },
      "execution_count": 54,
      "outputs": []
    },
    {
      "cell_type": "code",
      "source": [
        "df1 = df[0]"
      ],
      "metadata": {
        "id": "iFGHeVHAondA"
      },
      "execution_count": 55,
      "outputs": []
    },
    {
      "cell_type": "code",
      "source": [
        "df1"
      ],
      "metadata": {
        "colab": {
          "base_uri": "https://localhost:8080/",
          "height": 833
        },
        "id": "_z_WbZ5BSIfX",
        "outputId": "cd46ee9a-3fde-4bb9-e5a5-0a543e85694a"
      },
      "execution_count": 56,
      "outputs": [
        {
          "output_type": "execute_result",
          "data": {
            "text/html": [
              "\n",
              "  <div id=\"df-69283df0-e92b-4940-89a8-dfc466b9617f\">\n",
              "    <div class=\"colab-df-container\">\n",
              "      <div>\n",
              "<style scoped>\n",
              "    .dataframe tbody tr th:only-of-type {\n",
              "        vertical-align: middle;\n",
              "    }\n",
              "\n",
              "    .dataframe tbody tr th {\n",
              "        vertical-align: top;\n",
              "    }\n",
              "\n",
              "    .dataframe thead th {\n",
              "        text-align: right;\n",
              "    }\n",
              "</style>\n",
              "<table border=\"1\" class=\"dataframe\">\n",
              "  <thead>\n",
              "    <tr style=\"text-align: right;\">\n",
              "      <th></th>\n",
              "      <th>#</th>\n",
              "      <th>NFT</th>\n",
              "      <th>Floor Price</th>\n",
              "      <th>24h</th>\n",
              "      <th>7d</th>\n",
              "      <th>Market Cap</th>\n",
              "      <th>24h Volume</th>\n",
              "      <th>Owners</th>\n",
              "      <th>24h Owners</th>\n",
              "      <th>Total Assets</th>\n",
              "    </tr>\n",
              "  </thead>\n",
              "  <tbody>\n",
              "    <tr>\n",
              "      <th>0</th>\n",
              "      <td>1</td>\n",
              "      <td>dotdotdots</td>\n",
              "      <td>0.2 ETH</td>\n",
              "      <td>0.6%</td>\n",
              "      <td>NaN</td>\n",
              "      <td>974.0 ETH</td>\n",
              "      <td>8,849.89 ETH</td>\n",
              "      <td>2648.0</td>\n",
              "      <td>0.0%</td>\n",
              "      <td>4870.0</td>\n",
              "    </tr>\n",
              "    <tr>\n",
              "      <th>1</th>\n",
              "      <td>2</td>\n",
              "      <td>Meebits</td>\n",
              "      <td>2.9 ETH</td>\n",
              "      <td>-7.8%</td>\n",
              "      <td>NaN</td>\n",
              "      <td>58,000.0 ETH</td>\n",
              "      <td>5,229.36 ETH</td>\n",
              "      <td>5747.0</td>\n",
              "      <td>-0.1%</td>\n",
              "      <td>20000.0</td>\n",
              "    </tr>\n",
              "    <tr>\n",
              "      <th>2</th>\n",
              "      <td>3</td>\n",
              "      <td>Bored Ape Yacht Club</td>\n",
              "      <td>95.0 ETH</td>\n",
              "      <td>-7.3%</td>\n",
              "      <td>NaN</td>\n",
              "      <td>950,000.0 ETH</td>\n",
              "      <td>1,360.59 ETH</td>\n",
              "      <td>6315.0</td>\n",
              "      <td>0.0%</td>\n",
              "      <td>10000.0</td>\n",
              "    </tr>\n",
              "    <tr>\n",
              "      <th>3</th>\n",
              "      <td>4</td>\n",
              "      <td>Azuki</td>\n",
              "      <td>13.99 ETH</td>\n",
              "      <td>-8.0%</td>\n",
              "      <td>NaN</td>\n",
              "      <td>139,900.0 ETH</td>\n",
              "      <td>1,214.76 ETH</td>\n",
              "      <td>5403.0</td>\n",
              "      <td>-0.1%</td>\n",
              "      <td>10000.0</td>\n",
              "    </tr>\n",
              "    <tr>\n",
              "      <th>4</th>\n",
              "      <td>5</td>\n",
              "      <td>Mutant Ape Yacht Club</td>\n",
              "      <td>18.799 ETH</td>\n",
              "      <td>-7.4%</td>\n",
              "      <td>NaN</td>\n",
              "      <td>337,630.04 ETH</td>\n",
              "      <td>1,115.09 ETH</td>\n",
              "      <td>11756.0</td>\n",
              "      <td>0.1%</td>\n",
              "      <td>17960.0</td>\n",
              "    </tr>\n",
              "    <tr>\n",
              "      <th>5</th>\n",
              "      <td>6</td>\n",
              "      <td>CloneX</td>\n",
              "      <td>14.5 ETH</td>\n",
              "      <td>-7.3%</td>\n",
              "      <td>NaN</td>\n",
              "      <td>273,716.5 ETH</td>\n",
              "      <td>678.82 ETH</td>\n",
              "      <td>8292.0</td>\n",
              "      <td>0.1%</td>\n",
              "      <td>18877.0</td>\n",
              "    </tr>\n",
              "    <tr>\n",
              "      <th>6</th>\n",
              "      <td>7</td>\n",
              "      <td>LAND</td>\n",
              "      <td>3.66 ETH</td>\n",
              "      <td>-2.6%</td>\n",
              "      <td>NaN</td>\n",
              "      <td>541,127.34 ETH</td>\n",
              "      <td>435.46 ETH</td>\n",
              "      <td>19727.0</td>\n",
              "      <td>0.1%</td>\n",
              "      <td>147849.0</td>\n",
              "    </tr>\n",
              "    <tr>\n",
              "      <th>7</th>\n",
              "      <td>8</td>\n",
              "      <td>Cool Pets</td>\n",
              "      <td>2.2 ETH</td>\n",
              "      <td>-15.6%</td>\n",
              "      <td>NaN</td>\n",
              "      <td>40,882.6 ETH</td>\n",
              "      <td>387.58 ETH</td>\n",
              "      <td>10587.0</td>\n",
              "      <td>-0.4%</td>\n",
              "      <td>18583.0</td>\n",
              "    </tr>\n",
              "    <tr>\n",
              "      <th>8</th>\n",
              "      <td>9</td>\n",
              "      <td>CryptoPunks</td>\n",
              "      <td>68.94 ETH</td>\n",
              "      <td>-5.9%</td>\n",
              "      <td>NaN</td>\n",
              "      <td>689,331.06 ETH</td>\n",
              "      <td>317.47 ETH</td>\n",
              "      <td>3390.0</td>\n",
              "      <td>0.1%</td>\n",
              "      <td>9999.0</td>\n",
              "    </tr>\n",
              "    <tr>\n",
              "      <th>9</th>\n",
              "      <td>10</td>\n",
              "      <td>World of Women</td>\n",
              "      <td>9.9 ETH</td>\n",
              "      <td>2.8%</td>\n",
              "      <td>NaN</td>\n",
              "      <td>99,000.0 ETH</td>\n",
              "      <td>303.35 ETH</td>\n",
              "      <td>5073.0</td>\n",
              "      <td>-0.1%</td>\n",
              "      <td>10000.0</td>\n",
              "    </tr>\n",
              "    <tr>\n",
              "      <th>10</th>\n",
              "      <td>11</td>\n",
              "      <td>Doodles</td>\n",
              "      <td>12.98 ETH</td>\n",
              "      <td>-9.1%</td>\n",
              "      <td>NaN</td>\n",
              "      <td>129,800.0 ETH</td>\n",
              "      <td>256.47 ETH</td>\n",
              "      <td>6024.0</td>\n",
              "      <td>0.3%</td>\n",
              "      <td>10000.0</td>\n",
              "    </tr>\n",
              "    <tr>\n",
              "      <th>11</th>\n",
              "      <td>12</td>\n",
              "      <td>Metroverse</td>\n",
              "      <td>1.379 ETH</td>\n",
              "      <td>10.7%</td>\n",
              "      <td>NaN</td>\n",
              "      <td>13,790.0 ETH</td>\n",
              "      <td>187.02 ETH</td>\n",
              "      <td>481.0</td>\n",
              "      <td>-4.6%</td>\n",
              "      <td>10000.0</td>\n",
              "    </tr>\n",
              "    <tr>\n",
              "      <th>12</th>\n",
              "      <td>13</td>\n",
              "      <td>OnChainMonkey</td>\n",
              "      <td>1.7879 ETH</td>\n",
              "      <td>0.3%</td>\n",
              "      <td>NaN</td>\n",
              "      <td>16,985.05 ETH</td>\n",
              "      <td>125.47 ETH</td>\n",
              "      <td>2998.0</td>\n",
              "      <td>0.3%</td>\n",
              "      <td>9500.0</td>\n",
              "    </tr>\n",
              "    <tr>\n",
              "      <th>13</th>\n",
              "      <td>14</td>\n",
              "      <td>Cool Cats</td>\n",
              "      <td>10.8 ETH</td>\n",
              "      <td>-10.6%</td>\n",
              "      <td>NaN</td>\n",
              "      <td>107,276.4 ETH</td>\n",
              "      <td>125.27 ETH</td>\n",
              "      <td>5154.0</td>\n",
              "      <td>0.0%</td>\n",
              "      <td>9933.0</td>\n",
              "    </tr>\n",
              "    <tr>\n",
              "      <th>14</th>\n",
              "      <td>15</td>\n",
              "      <td>VeeFriends</td>\n",
              "      <td>13.99 ETH</td>\n",
              "      <td>-3.0%</td>\n",
              "      <td>NaN</td>\n",
              "      <td>143,467.45 ETH</td>\n",
              "      <td>116.69 ETH</td>\n",
              "      <td>5217.0</td>\n",
              "      <td>0.0%</td>\n",
              "      <td>10255.0</td>\n",
              "    </tr>\n",
              "    <tr>\n",
              "      <th>15</th>\n",
              "      <td>16</td>\n",
              "      <td>Zipcy's SuperNormal</td>\n",
              "      <td>0.93 ETH</td>\n",
              "      <td>5.6%</td>\n",
              "      <td>NaN</td>\n",
              "      <td>8,265.84 ETH</td>\n",
              "      <td>109.38 ETH</td>\n",
              "      <td>4839.0</td>\n",
              "      <td>-0.6%</td>\n",
              "      <td>8888.0</td>\n",
              "    </tr>\n",
              "    <tr>\n",
              "      <th>16</th>\n",
              "      <td>17</td>\n",
              "      <td>Phanta Bear</td>\n",
              "      <td>1.28 ETH</td>\n",
              "      <td>2.8%</td>\n",
              "      <td>NaN</td>\n",
              "      <td>12,800.0 ETH</td>\n",
              "      <td>106.96 ETH</td>\n",
              "      <td>5371.0</td>\n",
              "      <td>-0.5%</td>\n",
              "      <td>10000.0</td>\n",
              "    </tr>\n",
              "    <tr>\n",
              "      <th>17</th>\n",
              "      <td>18</td>\n",
              "      <td>Forgotten Runes Wizards Cult</td>\n",
              "      <td>2.8 ETH</td>\n",
              "      <td>2.7%</td>\n",
              "      <td>NaN</td>\n",
              "      <td>26,342.4 ETH</td>\n",
              "      <td>78.17 ETH</td>\n",
              "      <td>2747.0</td>\n",
              "      <td>0.0%</td>\n",
              "      <td>9408.0</td>\n",
              "    </tr>\n",
              "    <tr>\n",
              "      <th>18</th>\n",
              "      <td>19</td>\n",
              "      <td>PUNKS Comic</td>\n",
              "      <td>0.185 ETH</td>\n",
              "      <td>-9.3%</td>\n",
              "      <td>NaN</td>\n",
              "      <td>4,292.74 ETH</td>\n",
              "      <td>76.43 ETH</td>\n",
              "      <td>8259.0</td>\n",
              "      <td>0.1%</td>\n",
              "      <td>23204.0</td>\n",
              "    </tr>\n",
              "    <tr>\n",
              "      <th>19</th>\n",
              "      <td>20</td>\n",
              "      <td>Boss Beauties</td>\n",
              "      <td>1.976 ETH</td>\n",
              "      <td>-4.6%</td>\n",
              "      <td>NaN</td>\n",
              "      <td>19,760.0 ETH</td>\n",
              "      <td>75.13 ETH</td>\n",
              "      <td>5441.0</td>\n",
              "      <td>0.0%</td>\n",
              "      <td>10000.0</td>\n",
              "    </tr>\n",
              "    <tr>\n",
              "      <th>20</th>\n",
              "      <td>21</td>\n",
              "      <td>FLUF World</td>\n",
              "      <td>4.5 ETH</td>\n",
              "      <td>-1.1%</td>\n",
              "      <td>NaN</td>\n",
              "      <td>45,000.0 ETH</td>\n",
              "      <td>62.51 ETH</td>\n",
              "      <td>3576.0</td>\n",
              "      <td>0.8%</td>\n",
              "      <td>10000.0</td>\n",
              "    </tr>\n",
              "    <tr>\n",
              "      <th>21</th>\n",
              "      <td>22</td>\n",
              "      <td>JRNY NFT Club</td>\n",
              "      <td>4.19 ETH</td>\n",
              "      <td>0.7%</td>\n",
              "      <td>NaN</td>\n",
              "      <td>41,900.0 ETH</td>\n",
              "      <td>61.11 ETH</td>\n",
              "      <td>6897.0</td>\n",
              "      <td>-0.1%</td>\n",
              "      <td>10000.0</td>\n",
              "    </tr>\n",
              "    <tr>\n",
              "      <th>22</th>\n",
              "      <td>23</td>\n",
              "      <td>Adam Bomb Squad</td>\n",
              "      <td>0.75 ETH</td>\n",
              "      <td>-9.3%</td>\n",
              "      <td>NaN</td>\n",
              "      <td>18,749.25 ETH</td>\n",
              "      <td>60.23 ETH</td>\n",
              "      <td>8661.0</td>\n",
              "      <td>-0.3%</td>\n",
              "      <td>24999.0</td>\n",
              "    </tr>\n",
              "    <tr>\n",
              "      <th>23</th>\n",
              "      <td>24</td>\n",
              "      <td>Decentral Games ICE Poker</td>\n",
              "      <td>1.91 ETH</td>\n",
              "      <td>-5.2%</td>\n",
              "      <td>NaN</td>\n",
              "      <td>27,758.03 ETH</td>\n",
              "      <td>59.51 ETH</td>\n",
              "      <td>3358.0</td>\n",
              "      <td>0.0%</td>\n",
              "      <td>14533.0</td>\n",
              "    </tr>\n",
              "    <tr>\n",
              "      <th>24</th>\n",
              "      <td>25</td>\n",
              "      <td>Crypto Coven</td>\n",
              "      <td>1.82 ETH</td>\n",
              "      <td>9.1%</td>\n",
              "      <td>NaN</td>\n",
              "      <td>17,757.74 ETH</td>\n",
              "      <td>58.53 ETH</td>\n",
              "      <td>4754.0</td>\n",
              "      <td>0.0%</td>\n",
              "      <td>9757.0</td>\n",
              "    </tr>\n",
              "  </tbody>\n",
              "</table>\n",
              "</div>\n",
              "      <button class=\"colab-df-convert\" onclick=\"convertToInteractive('df-69283df0-e92b-4940-89a8-dfc466b9617f')\"\n",
              "              title=\"Convert this dataframe to an interactive table.\"\n",
              "              style=\"display:none;\">\n",
              "        \n",
              "  <svg xmlns=\"http://www.w3.org/2000/svg\" height=\"24px\"viewBox=\"0 0 24 24\"\n",
              "       width=\"24px\">\n",
              "    <path d=\"M0 0h24v24H0V0z\" fill=\"none\"/>\n",
              "    <path d=\"M18.56 5.44l.94 2.06.94-2.06 2.06-.94-2.06-.94-.94-2.06-.94 2.06-2.06.94zm-11 1L8.5 8.5l.94-2.06 2.06-.94-2.06-.94L8.5 2.5l-.94 2.06-2.06.94zm10 10l.94 2.06.94-2.06 2.06-.94-2.06-.94-.94-2.06-.94 2.06-2.06.94z\"/><path d=\"M17.41 7.96l-1.37-1.37c-.4-.4-.92-.59-1.43-.59-.52 0-1.04.2-1.43.59L10.3 9.45l-7.72 7.72c-.78.78-.78 2.05 0 2.83L4 21.41c.39.39.9.59 1.41.59.51 0 1.02-.2 1.41-.59l7.78-7.78 2.81-2.81c.8-.78.8-2.07 0-2.86zM5.41 20L4 18.59l7.72-7.72 1.47 1.35L5.41 20z\"/>\n",
              "  </svg>\n",
              "      </button>\n",
              "      \n",
              "  <style>\n",
              "    .colab-df-container {\n",
              "      display:flex;\n",
              "      flex-wrap:wrap;\n",
              "      gap: 12px;\n",
              "    }\n",
              "\n",
              "    .colab-df-convert {\n",
              "      background-color: #E8F0FE;\n",
              "      border: none;\n",
              "      border-radius: 50%;\n",
              "      cursor: pointer;\n",
              "      display: none;\n",
              "      fill: #1967D2;\n",
              "      height: 32px;\n",
              "      padding: 0 0 0 0;\n",
              "      width: 32px;\n",
              "    }\n",
              "\n",
              "    .colab-df-convert:hover {\n",
              "      background-color: #E2EBFA;\n",
              "      box-shadow: 0px 1px 2px rgba(60, 64, 67, 0.3), 0px 1px 3px 1px rgba(60, 64, 67, 0.15);\n",
              "      fill: #174EA6;\n",
              "    }\n",
              "\n",
              "    [theme=dark] .colab-df-convert {\n",
              "      background-color: #3B4455;\n",
              "      fill: #D2E3FC;\n",
              "    }\n",
              "\n",
              "    [theme=dark] .colab-df-convert:hover {\n",
              "      background-color: #434B5C;\n",
              "      box-shadow: 0px 1px 3px 1px rgba(0, 0, 0, 0.15);\n",
              "      filter: drop-shadow(0px 1px 2px rgba(0, 0, 0, 0.3));\n",
              "      fill: #FFFFFF;\n",
              "    }\n",
              "  </style>\n",
              "\n",
              "      <script>\n",
              "        const buttonEl =\n",
              "          document.querySelector('#df-69283df0-e92b-4940-89a8-dfc466b9617f button.colab-df-convert');\n",
              "        buttonEl.style.display =\n",
              "          google.colab.kernel.accessAllowed ? 'block' : 'none';\n",
              "\n",
              "        async function convertToInteractive(key) {\n",
              "          const element = document.querySelector('#df-69283df0-e92b-4940-89a8-dfc466b9617f');\n",
              "          const dataTable =\n",
              "            await google.colab.kernel.invokeFunction('convertToInteractive',\n",
              "                                                     [key], {});\n",
              "          if (!dataTable) return;\n",
              "\n",
              "          const docLinkHtml = 'Like what you see? Visit the ' +\n",
              "            '<a target=\"_blank\" href=https://colab.research.google.com/notebooks/data_table.ipynb>data table notebook</a>'\n",
              "            + ' to learn more about interactive tables.';\n",
              "          element.innerHTML = '';\n",
              "          dataTable['output_type'] = 'display_data';\n",
              "          await google.colab.output.renderOutput(dataTable, element);\n",
              "          const docLink = document.createElement('div');\n",
              "          docLink.innerHTML = docLinkHtml;\n",
              "          element.appendChild(docLink);\n",
              "        }\n",
              "      </script>\n",
              "    </div>\n",
              "  </div>\n",
              "  "
            ],
            "text/plain": [
              "     #                           NFT  ... 24h Owners Total Assets\n",
              "0    1                    dotdotdots  ...       0.0%       4870.0\n",
              "1    2                       Meebits  ...      -0.1%      20000.0\n",
              "2    3          Bored Ape Yacht Club  ...       0.0%      10000.0\n",
              "3    4                         Azuki  ...      -0.1%      10000.0\n",
              "4    5         Mutant Ape Yacht Club  ...       0.1%      17960.0\n",
              "5    6                        CloneX  ...       0.1%      18877.0\n",
              "6    7                          LAND  ...       0.1%     147849.0\n",
              "7    8                     Cool Pets  ...      -0.4%      18583.0\n",
              "8    9                   CryptoPunks  ...       0.1%       9999.0\n",
              "9   10                World of Women  ...      -0.1%      10000.0\n",
              "10  11                       Doodles  ...       0.3%      10000.0\n",
              "11  12                    Metroverse  ...      -4.6%      10000.0\n",
              "12  13                 OnChainMonkey  ...       0.3%       9500.0\n",
              "13  14                     Cool Cats  ...       0.0%       9933.0\n",
              "14  15                    VeeFriends  ...       0.0%      10255.0\n",
              "15  16           Zipcy's SuperNormal  ...      -0.6%       8888.0\n",
              "16  17                   Phanta Bear  ...      -0.5%      10000.0\n",
              "17  18  Forgotten Runes Wizards Cult  ...       0.0%       9408.0\n",
              "18  19                   PUNKS Comic  ...       0.1%      23204.0\n",
              "19  20                 Boss Beauties  ...       0.0%      10000.0\n",
              "20  21                    FLUF World  ...       0.8%      10000.0\n",
              "21  22                 JRNY NFT Club  ...      -0.1%      10000.0\n",
              "22  23               Adam Bomb Squad  ...      -0.3%      24999.0\n",
              "23  24     Decentral Games ICE Poker  ...       0.0%      14533.0\n",
              "24  25                  Crypto Coven  ...       0.0%       9757.0\n",
              "\n",
              "[25 rows x 10 columns]"
            ]
          },
          "metadata": {},
          "execution_count": 56
        }
      ]
    },
    {
      "cell_type": "markdown",
      "source": [
        "- Como eu quero por volta dos últimos 500 NFTs e cada página da coingecko oferece 25 nfts, preciso acessar até a página 20."
      ],
      "metadata": {
        "id": "vzRgZIMlLqsr"
      }
    },
    {
      "cell_type": "code",
      "source": [
        "dfs = []\n",
        "for i in range (2, 6):\n",
        "  request2 = requests.get(f\"https://www.coingecko.com/en/nft?page={i}\").text\n",
        "  df = pd.read_html(request2)\n",
        "  dfs.append(df)"
      ],
      "metadata": {
        "id": "yluQB6A-Kh6d"
      },
      "execution_count": 57,
      "outputs": []
    },
    {
      "cell_type": "code",
      "source": [
        "dfs"
      ],
      "metadata": {
        "colab": {
          "base_uri": "https://localhost:8080/"
        },
        "id": "RqKCglZQR8hk",
        "outputId": "37526230-edd0-49b8-e00a-7f99d77a268f"
      },
      "execution_count": 58,
      "outputs": [
        {
          "output_type": "execute_result",
          "data": {
            "text/plain": [
              "[[     #                          NFT  ... 24h Owners Total Assets\n",
              "  0   26                    CrypToadz  ...       0.1%       7025.0\n",
              "  1   27                   Lazy Lions  ...       0.1%      10080.0\n",
              "  2   28              Crypto Unicorns  ...       0.0%      10000.0\n",
              "  3   29     Sneaky Vampire Syndicate  ...       0.0%       8888.0\n",
              "  4   30               Lives of Asuna  ...      -0.3%      10000.0\n",
              "  5   31                     Smilesss  ...      -0.0%       8733.0\n",
              "  6   32                     BYO Land  ...       0.0%      10056.0\n",
              "  7   33                 inbetweeners  ...       0.1%      10777.0\n",
              "  8   34                     MetaHero  ...      -2.3%       6458.0\n",
              "  9   35                Capsule House  ...       0.1%      10000.0\n",
              "  10  36                PudgyPenguins  ...      -0.0%       8888.0\n",
              "  11  37                   CyberKongz  ...       0.0%       5000.0\n",
              "  12  38                        merge  ...       0.1%      26985.0\n",
              "  13  39                  OCM Dessert  ...      -0.5%          3.0\n",
              "  14  40  Curious Addys' Trading Club  ...       0.3%       5000.0\n",
              "  15  41               The Doge Pound  ...       0.0%      10000.0\n",
              "  16  42                 DuskBreakers  ...       0.0%      10000.0\n",
              "  17  43                     Parallel  ...       0.2%        421.0\n",
              "  18  44               GenesisApostle  ...       0.0%       7231.0\n",
              "  19  45                Chain Runners  ...       0.3%      10000.0\n",
              "  20  46               Creature World  ...       0.0%      10000.0\n",
              "  21  47              the littles nft  ...      -0.2%      10000.0\n",
              "  22  48                     BYOPills  ...      -0.1%      10000.0\n",
              "  23  49                    MekaVerse  ...      -0.1%       8888.0\n",
              "  24  50        MoonCats - Acclimated  ...      -0.0%      18913.0\n",
              "  \n",
              "  [25 rows x 10 columns]],\n",
              " [     #                                   NFT  ... 24h Owners Total Assets\n",
              "  0   51                             LilHeroes  ...      -0.2%       7776.0\n",
              "  1   52                          loomlock NFT  ...       0.2%       9546.0\n",
              "  2   53                             0N1 Force  ...       0.0%       7777.0\n",
              "  3   54                              Animetas  ...      -0.0%      10101.0\n",
              "  4   55                          The Currency  ...       0.2%       2210.0\n",
              "  5   56                         Sipherian Inu  ...      -0.1%       9999.0\n",
              "  6   57  Jenkins the Valet: The Writer's Room  ...       0.1%       6942.0\n",
              "  7   58                        X Rabbits Club  ...      -0.4%       7502.0\n",
              "  8   59                               Blitmap  ...       0.0%       1700.0\n",
              "  9   60                            Lost Poets  ...       0.0%      27687.0\n",
              "  10  61                           Galaxy Eggs  ...      -0.4%       9999.0\n",
              "  11  62                                  Loot  ...      -0.1%       7779.0\n",
              "  12  63                        Divine Anarchy  ...       0.2%      10011.0\n",
              "  13  64                           CHIBI DINOS  ...      -0.1%      10000.0\n",
              "  14  65                       Treeverse Plots  ...      -0.0%      10420.0\n",
              "  15  66                              Timeless  ...       0.0%       9421.0\n",
              "  16  67                             Hashmasks  ...       0.1%      16370.0\n",
              "  17  68                   Global Citizen Club  ...      -0.5%       8888.0\n",
              "  18  69                               Feudalz  ...      -0.3%       4444.0\n",
              "  19  70                  iNFT Personality Pod  ...       0.2%       9811.0\n",
              "  20  71                        FVCK_CRYSTAL//  ...       0.1%       4169.0\n",
              "  21  72                        Corruption(s*)  ...      -0.2%       4196.0\n",
              "  22  73                           EtherLambos  ...       0.0%       1600.0\n",
              "  23  74                             Fomoverse  ...      -0.6%       1234.0\n",
              "  24  75                      PartyDegenerates  ...      -0.1%       9999.0\n",
              "  \n",
              "  [25 rows x 10 columns]],\n",
              " [      #                               NFT  ... 24h Owners Total Assets\n",
              "  0    76                             8SIAN  ...      -0.1%       8888.0\n",
              "  1    77                        Chibi Apes  ...      -0.1%       3000.0\n",
              "  2    78                      Samurai Saga  ...      -1.4%       9999.0\n",
              "  3    79                    SpacePunksClub  ...      -0.1%       9995.0\n",
              "  4    80  CryptoHoots Steampunk Parliament  ...      -0.1%       2500.0\n",
              "  5    81      Citizens of Bulliever Island  ...       0.1%      10000.0\n",
              "  6    82         Koala Intelligence Agency  ...      -0.0%      10000.0\n",
              "  7    83            Wizards & Dragons Game  ...      -0.1%      46169.0\n",
              "  8    84               The Wicked Craniums  ...       0.0%      10762.0\n",
              "  9    85                        Lil Pudgys  ...      -0.1%      19005.0\n",
              "  10   86                       Satoshibles  ...      -0.1%       5000.0\n",
              "  11   87                       Stoner Cats  ...       0.1%      10419.0\n",
              "  12   88                     Ethereals WTF  ...      -0.6%      12345.0\n",
              "  13   89                         Anonymice  ...       0.0%      10000.0\n",
              "  14   90                  Generative Masks  ...      -0.2%       9999.0\n",
              "  15   91                        The Sevens  ...      -0.3%       7000.0\n",
              "  16   92          Purrnelopes Country Club  ...      -0.1%      10000.0\n",
              "  17   93                    HeavenComputer  ...       0.1%       7777.0\n",
              "  18   94                   Bored Ape Comic  ...       0.0%       9999.0\n",
              "  19   95               Baby Battle Bots G1  ...       0.2%       3498.0\n",
              "  20   96                          IreneDAO  ...       0.4%       1106.0\n",
              "  21   97                      JunkYardDogs  ...       0.1%       7977.0\n",
              "  22   98                 Non-Fungible Soup  ...       0.2%       2048.0\n",
              "  23   99                             Bloot  ...      -0.1%       8008.0\n",
              "  24  100                    APE DAO REMIX!  ...      -0.1%       5550.0\n",
              "  \n",
              "  [25 rows x 10 columns]],\n",
              " [      #                   NFT    Floor Price  ...  Owners  24h Owners Total Assets\n",
              "  0   101             Gauntlets      0.088 ETH  ...  3838.0        0.0%      10000.0\n",
              "  1   102    CryptoZoo Base Egg      0.147 ETH  ...  1474.0        0.0%       4160.0\n",
              "  2   103            Borpacasso        0.1 ETH  ...  1147.0        0.2%       2250.0\n",
              "  3   104    Strange Attractors       0.23 ETH  ...   293.0        0.3%        526.0\n",
              "  4   105   The Vogu Collective       0.13 ETH  ...  2852.0        0.0%       7777.0\n",
              "  5   106          Genesis Mana      0.165 ETH  ...   597.0        0.0%       7806.0\n",
              "  6   107               HeadDAO      0.082 ETH  ...  1059.0        0.4%      10000.0\n",
              "  7   108    AlphaBetty Doodles      0.036 ETH  ...  3541.0       -0.1%      10000.0\n",
              "  8   109         Tools of Rock       0.04 ETH  ...  2271.0       -0.1%       7490.0\n",
              "  9   110         Bored Bananas  0.0526086 ETH  ...  1841.0        0.1%       4027.0\n",
              "  10  111              Avastars      0.139 ETH  ...  4967.0        0.1%      25458.0\n",
              "  11  112         Space Poggers      0.018 ETH  ...  3462.0        0.0%      12442.0\n",
              "  12  113   Star Sailor Sibings       0.08 ETH  ...  2788.0        0.0%      10100.0\n",
              "  13  114              Metakrew      0.074 ETH  ...  3235.0        0.0%       7335.0\n",
              "  14  115         CryptoZombiez      0.033 ETH  ...   813.0        0.0%       5555.0\n",
              "  15  116           Derpy Birbs       0.01 ETH  ...  1845.0        0.1%       8192.0\n",
              "  16  117         Apes of Space       0.05 ETH  ...  5111.0        0.0%      10000.0\n",
              "  17  118           Dope Shibas      0.025 ETH  ...  3999.0       -0.0%       9899.0\n",
              "  18  119  Ready Player Cat NFT      0.097 ETH  ...  2083.0       -0.1%       4950.0\n",
              "  19  120    CryptoDragons Eggs      0.078 ETH  ...  1377.0        0.0%       2799.0\n",
              "  20  121     Cometh Spaceships       0.07 ETH  ...   683.0        0.1%      11357.0\n",
              "  21  122     Angry Apes United      0.035 ETH  ...  4944.0       -0.0%       8888.0\n",
              "  22  123                Skullx      0.028 ETH  ...  2573.0       -0.1%      10000.0\n",
              "  23  124   Light Super Bunnies      0.009 ETH  ...  1719.0        0.0%       4457.0\n",
              "  24  125              Spookies       0.01 ETH  ...  2677.0        0.0%       8888.0\n",
              "  \n",
              "  [25 rows x 10 columns]]]"
            ]
          },
          "metadata": {},
          "execution_count": 58
        }
      ]
    },
    {
      "cell_type": "code",
      "source": [
        "len(dfs)"
      ],
      "metadata": {
        "colab": {
          "base_uri": "https://localhost:8080/"
        },
        "id": "6Jai6uF5R_ad",
        "outputId": "47a794e1-d16f-4a22-c2c7-2e3468d611ae"
      },
      "execution_count": 59,
      "outputs": [
        {
          "output_type": "execute_result",
          "data": {
            "text/plain": [
              "4"
            ]
          },
          "metadata": {},
          "execution_count": 59
        }
      ]
    },
    {
      "cell_type": "code",
      "source": [
        "datasets = []\n",
        "for i in range(len(dfs)):\n",
        "  datasets.append(dfs[i][0])"
      ],
      "metadata": {
        "id": "C1vP8GABMUsB"
      },
      "execution_count": 60,
      "outputs": []
    },
    {
      "cell_type": "code",
      "source": [
        "len(datasets)"
      ],
      "metadata": {
        "colab": {
          "base_uri": "https://localhost:8080/"
        },
        "id": "3g2nDxFuR40o",
        "outputId": "7aec2eea-faf9-4ae5-e45b-54e97a8d2011"
      },
      "execution_count": 61,
      "outputs": [
        {
          "output_type": "execute_result",
          "data": {
            "text/plain": [
              "4"
            ]
          },
          "metadata": {},
          "execution_count": 61
        }
      ]
    },
    {
      "cell_type": "code",
      "source": [
        "df_final = pd.concat([df1, datasets[0], datasets[1], datasets[2], datasets[3]], ignore_index=True)"
      ],
      "metadata": {
        "id": "WVO9n2rqNSnR"
      },
      "execution_count": 62,
      "outputs": []
    },
    {
      "cell_type": "code",
      "source": [
        "df_final"
      ],
      "metadata": {
        "colab": {
          "base_uri": "https://localhost:8080/",
          "height": 424
        },
        "id": "omXfHi57RY6K",
        "outputId": "94be646e-2587-4b00-8e1c-9bad42e23a08"
      },
      "execution_count": 63,
      "outputs": [
        {
          "output_type": "execute_result",
          "data": {
            "text/html": [
              "\n",
              "  <div id=\"df-eef83788-0065-4376-b152-0bb548a30f4b\">\n",
              "    <div class=\"colab-df-container\">\n",
              "      <div>\n",
              "<style scoped>\n",
              "    .dataframe tbody tr th:only-of-type {\n",
              "        vertical-align: middle;\n",
              "    }\n",
              "\n",
              "    .dataframe tbody tr th {\n",
              "        vertical-align: top;\n",
              "    }\n",
              "\n",
              "    .dataframe thead th {\n",
              "        text-align: right;\n",
              "    }\n",
              "</style>\n",
              "<table border=\"1\" class=\"dataframe\">\n",
              "  <thead>\n",
              "    <tr style=\"text-align: right;\">\n",
              "      <th></th>\n",
              "      <th>#</th>\n",
              "      <th>NFT</th>\n",
              "      <th>Floor Price</th>\n",
              "      <th>24h</th>\n",
              "      <th>7d</th>\n",
              "      <th>Market Cap</th>\n",
              "      <th>24h Volume</th>\n",
              "      <th>Owners</th>\n",
              "      <th>24h Owners</th>\n",
              "      <th>Total Assets</th>\n",
              "    </tr>\n",
              "  </thead>\n",
              "  <tbody>\n",
              "    <tr>\n",
              "      <th>0</th>\n",
              "      <td>1</td>\n",
              "      <td>dotdotdots</td>\n",
              "      <td>0.2 ETH</td>\n",
              "      <td>0.6%</td>\n",
              "      <td>NaN</td>\n",
              "      <td>974.0 ETH</td>\n",
              "      <td>8,849.89 ETH</td>\n",
              "      <td>2648.0</td>\n",
              "      <td>0.0%</td>\n",
              "      <td>4870.0</td>\n",
              "    </tr>\n",
              "    <tr>\n",
              "      <th>1</th>\n",
              "      <td>2</td>\n",
              "      <td>Meebits</td>\n",
              "      <td>2.9 ETH</td>\n",
              "      <td>-7.8%</td>\n",
              "      <td>NaN</td>\n",
              "      <td>58,000.0 ETH</td>\n",
              "      <td>5,229.36 ETH</td>\n",
              "      <td>5747.0</td>\n",
              "      <td>-0.1%</td>\n",
              "      <td>20000.0</td>\n",
              "    </tr>\n",
              "    <tr>\n",
              "      <th>2</th>\n",
              "      <td>3</td>\n",
              "      <td>Bored Ape Yacht Club</td>\n",
              "      <td>95.0 ETH</td>\n",
              "      <td>-7.3%</td>\n",
              "      <td>NaN</td>\n",
              "      <td>950,000.0 ETH</td>\n",
              "      <td>1,360.59 ETH</td>\n",
              "      <td>6315.0</td>\n",
              "      <td>0.0%</td>\n",
              "      <td>10000.0</td>\n",
              "    </tr>\n",
              "    <tr>\n",
              "      <th>3</th>\n",
              "      <td>4</td>\n",
              "      <td>Azuki</td>\n",
              "      <td>13.99 ETH</td>\n",
              "      <td>-8.0%</td>\n",
              "      <td>NaN</td>\n",
              "      <td>139,900.0 ETH</td>\n",
              "      <td>1,214.76 ETH</td>\n",
              "      <td>5403.0</td>\n",
              "      <td>-0.1%</td>\n",
              "      <td>10000.0</td>\n",
              "    </tr>\n",
              "    <tr>\n",
              "      <th>4</th>\n",
              "      <td>5</td>\n",
              "      <td>Mutant Ape Yacht Club</td>\n",
              "      <td>18.799 ETH</td>\n",
              "      <td>-7.4%</td>\n",
              "      <td>NaN</td>\n",
              "      <td>337,630.04 ETH</td>\n",
              "      <td>1,115.09 ETH</td>\n",
              "      <td>11756.0</td>\n",
              "      <td>0.1%</td>\n",
              "      <td>17960.0</td>\n",
              "    </tr>\n",
              "    <tr>\n",
              "      <th>...</th>\n",
              "      <td>...</td>\n",
              "      <td>...</td>\n",
              "      <td>...</td>\n",
              "      <td>...</td>\n",
              "      <td>...</td>\n",
              "      <td>...</td>\n",
              "      <td>...</td>\n",
              "      <td>...</td>\n",
              "      <td>...</td>\n",
              "      <td>...</td>\n",
              "    </tr>\n",
              "    <tr>\n",
              "      <th>120</th>\n",
              "      <td>121</td>\n",
              "      <td>Cometh Spaceships</td>\n",
              "      <td>0.07 ETH</td>\n",
              "      <td>-4.5%</td>\n",
              "      <td>NaN</td>\n",
              "      <td>794.99 ETH</td>\n",
              "      <td>0.07 ETH</td>\n",
              "      <td>683.0</td>\n",
              "      <td>0.1%</td>\n",
              "      <td>11357.0</td>\n",
              "    </tr>\n",
              "    <tr>\n",
              "      <th>121</th>\n",
              "      <td>122</td>\n",
              "      <td>Angry Apes United</td>\n",
              "      <td>0.035 ETH</td>\n",
              "      <td>45.5%</td>\n",
              "      <td>NaN</td>\n",
              "      <td>311.08 ETH</td>\n",
              "      <td>0.07 ETH</td>\n",
              "      <td>4944.0</td>\n",
              "      <td>-0.0%</td>\n",
              "      <td>8888.0</td>\n",
              "    </tr>\n",
              "    <tr>\n",
              "      <th>122</th>\n",
              "      <td>123</td>\n",
              "      <td>Skullx</td>\n",
              "      <td>0.028 ETH</td>\n",
              "      <td>-4.5%</td>\n",
              "      <td>NaN</td>\n",
              "      <td>280.0 ETH</td>\n",
              "      <td>0.03 ETH</td>\n",
              "      <td>2573.0</td>\n",
              "      <td>-0.1%</td>\n",
              "      <td>10000.0</td>\n",
              "    </tr>\n",
              "    <tr>\n",
              "      <th>123</th>\n",
              "      <td>124</td>\n",
              "      <td>Light Super Bunnies</td>\n",
              "      <td>0.009 ETH</td>\n",
              "      <td>-1.9%</td>\n",
              "      <td>NaN</td>\n",
              "      <td>40.11 ETH</td>\n",
              "      <td>0.03 ETH</td>\n",
              "      <td>1719.0</td>\n",
              "      <td>0.0%</td>\n",
              "      <td>4457.0</td>\n",
              "    </tr>\n",
              "    <tr>\n",
              "      <th>124</th>\n",
              "      <td>125</td>\n",
              "      <td>Spookies</td>\n",
              "      <td>0.01 ETH</td>\n",
              "      <td>-4.4%</td>\n",
              "      <td>NaN</td>\n",
              "      <td>88.88 ETH</td>\n",
              "      <td>0.02 ETH</td>\n",
              "      <td>2677.0</td>\n",
              "      <td>0.0%</td>\n",
              "      <td>8888.0</td>\n",
              "    </tr>\n",
              "  </tbody>\n",
              "</table>\n",
              "<p>125 rows × 10 columns</p>\n",
              "</div>\n",
              "      <button class=\"colab-df-convert\" onclick=\"convertToInteractive('df-eef83788-0065-4376-b152-0bb548a30f4b')\"\n",
              "              title=\"Convert this dataframe to an interactive table.\"\n",
              "              style=\"display:none;\">\n",
              "        \n",
              "  <svg xmlns=\"http://www.w3.org/2000/svg\" height=\"24px\"viewBox=\"0 0 24 24\"\n",
              "       width=\"24px\">\n",
              "    <path d=\"M0 0h24v24H0V0z\" fill=\"none\"/>\n",
              "    <path d=\"M18.56 5.44l.94 2.06.94-2.06 2.06-.94-2.06-.94-.94-2.06-.94 2.06-2.06.94zm-11 1L8.5 8.5l.94-2.06 2.06-.94-2.06-.94L8.5 2.5l-.94 2.06-2.06.94zm10 10l.94 2.06.94-2.06 2.06-.94-2.06-.94-.94-2.06-.94 2.06-2.06.94z\"/><path d=\"M17.41 7.96l-1.37-1.37c-.4-.4-.92-.59-1.43-.59-.52 0-1.04.2-1.43.59L10.3 9.45l-7.72 7.72c-.78.78-.78 2.05 0 2.83L4 21.41c.39.39.9.59 1.41.59.51 0 1.02-.2 1.41-.59l7.78-7.78 2.81-2.81c.8-.78.8-2.07 0-2.86zM5.41 20L4 18.59l7.72-7.72 1.47 1.35L5.41 20z\"/>\n",
              "  </svg>\n",
              "      </button>\n",
              "      \n",
              "  <style>\n",
              "    .colab-df-container {\n",
              "      display:flex;\n",
              "      flex-wrap:wrap;\n",
              "      gap: 12px;\n",
              "    }\n",
              "\n",
              "    .colab-df-convert {\n",
              "      background-color: #E8F0FE;\n",
              "      border: none;\n",
              "      border-radius: 50%;\n",
              "      cursor: pointer;\n",
              "      display: none;\n",
              "      fill: #1967D2;\n",
              "      height: 32px;\n",
              "      padding: 0 0 0 0;\n",
              "      width: 32px;\n",
              "    }\n",
              "\n",
              "    .colab-df-convert:hover {\n",
              "      background-color: #E2EBFA;\n",
              "      box-shadow: 0px 1px 2px rgba(60, 64, 67, 0.3), 0px 1px 3px 1px rgba(60, 64, 67, 0.15);\n",
              "      fill: #174EA6;\n",
              "    }\n",
              "\n",
              "    [theme=dark] .colab-df-convert {\n",
              "      background-color: #3B4455;\n",
              "      fill: #D2E3FC;\n",
              "    }\n",
              "\n",
              "    [theme=dark] .colab-df-convert:hover {\n",
              "      background-color: #434B5C;\n",
              "      box-shadow: 0px 1px 3px 1px rgba(0, 0, 0, 0.15);\n",
              "      filter: drop-shadow(0px 1px 2px rgba(0, 0, 0, 0.3));\n",
              "      fill: #FFFFFF;\n",
              "    }\n",
              "  </style>\n",
              "\n",
              "      <script>\n",
              "        const buttonEl =\n",
              "          document.querySelector('#df-eef83788-0065-4376-b152-0bb548a30f4b button.colab-df-convert');\n",
              "        buttonEl.style.display =\n",
              "          google.colab.kernel.accessAllowed ? 'block' : 'none';\n",
              "\n",
              "        async function convertToInteractive(key) {\n",
              "          const element = document.querySelector('#df-eef83788-0065-4376-b152-0bb548a30f4b');\n",
              "          const dataTable =\n",
              "            await google.colab.kernel.invokeFunction('convertToInteractive',\n",
              "                                                     [key], {});\n",
              "          if (!dataTable) return;\n",
              "\n",
              "          const docLinkHtml = 'Like what you see? Visit the ' +\n",
              "            '<a target=\"_blank\" href=https://colab.research.google.com/notebooks/data_table.ipynb>data table notebook</a>'\n",
              "            + ' to learn more about interactive tables.';\n",
              "          element.innerHTML = '';\n",
              "          dataTable['output_type'] = 'display_data';\n",
              "          await google.colab.output.renderOutput(dataTable, element);\n",
              "          const docLink = document.createElement('div');\n",
              "          docLink.innerHTML = docLinkHtml;\n",
              "          element.appendChild(docLink);\n",
              "        }\n",
              "      </script>\n",
              "    </div>\n",
              "  </div>\n",
              "  "
            ],
            "text/plain": [
              "       #                    NFT Floor Price  ...   Owners  24h Owners Total Assets\n",
              "0      1             dotdotdots     0.2 ETH  ...   2648.0        0.0%       4870.0\n",
              "1      2                Meebits     2.9 ETH  ...   5747.0       -0.1%      20000.0\n",
              "2      3   Bored Ape Yacht Club    95.0 ETH  ...   6315.0        0.0%      10000.0\n",
              "3      4                  Azuki   13.99 ETH  ...   5403.0       -0.1%      10000.0\n",
              "4      5  Mutant Ape Yacht Club  18.799 ETH  ...  11756.0        0.1%      17960.0\n",
              "..   ...                    ...         ...  ...      ...         ...          ...\n",
              "120  121      Cometh Spaceships    0.07 ETH  ...    683.0        0.1%      11357.0\n",
              "121  122      Angry Apes United   0.035 ETH  ...   4944.0       -0.0%       8888.0\n",
              "122  123                 Skullx   0.028 ETH  ...   2573.0       -0.1%      10000.0\n",
              "123  124    Light Super Bunnies   0.009 ETH  ...   1719.0        0.0%       4457.0\n",
              "124  125               Spookies    0.01 ETH  ...   2677.0        0.0%       8888.0\n",
              "\n",
              "[125 rows x 10 columns]"
            ]
          },
          "metadata": {},
          "execution_count": 63
        }
      ]
    },
    {
      "cell_type": "markdown",
      "source": [
        "###Floor Price:"
      ],
      "metadata": {
        "id": "YjoXVEOdfN-I"
      }
    },
    {
      "cell_type": "code",
      "source": [
        "df_final['Floor Price']"
      ],
      "metadata": {
        "colab": {
          "base_uri": "https://localhost:8080/"
        },
        "id": "as6IOaVjHWPC",
        "outputId": "b62ff5b2-513b-4f84-ae3e-e7ed582d2533"
      },
      "execution_count": 64,
      "outputs": [
        {
          "output_type": "execute_result",
          "data": {
            "text/plain": [
              "0         0.2 ETH\n",
              "1         2.9 ETH\n",
              "2        95.0 ETH\n",
              "3       13.99 ETH\n",
              "4      18.799 ETH\n",
              "          ...    \n",
              "120      0.07 ETH\n",
              "121     0.035 ETH\n",
              "122     0.028 ETH\n",
              "123     0.009 ETH\n",
              "124      0.01 ETH\n",
              "Name: Floor Price, Length: 125, dtype: object"
            ]
          },
          "metadata": {},
          "execution_count": 64
        }
      ]
    },
    {
      "cell_type": "code",
      "source": [
        "prices = []\n",
        "for price in df_final['Floor Price']:\n",
        "  if type(price) == type('str'):\n",
        "    price = price.split()\n",
        "    if 'ETH' in price:\n",
        "      price[0] = 0\n",
        "    if len(price) == 0:\n",
        "      price = [0]\n",
        "  prices.append(price[0])"
      ],
      "metadata": {
        "id": "BQrX_LsGf6bo"
      },
      "execution_count": 65,
      "outputs": []
    },
    {
      "cell_type": "code",
      "source": [
        "df_final['Floor Price'] = prices"
      ],
      "metadata": {
        "id": "55ULsGhpftl1"
      },
      "execution_count": 66,
      "outputs": []
    },
    {
      "cell_type": "code",
      "source": [
        "df_final['Floor Price']"
      ],
      "metadata": {
        "colab": {
          "base_uri": "https://localhost:8080/"
        },
        "id": "DOWwSvgwHx7G",
        "outputId": "21e333c3-a54a-4f9f-ae59-39448ce30414"
      },
      "execution_count": 67,
      "outputs": [
        {
          "output_type": "execute_result",
          "data": {
            "text/plain": [
              "0      0\n",
              "1      0\n",
              "2      0\n",
              "3      0\n",
              "4      0\n",
              "      ..\n",
              "120    0\n",
              "121    0\n",
              "122    0\n",
              "123    0\n",
              "124    0\n",
              "Name: Floor Price, Length: 125, dtype: int64"
            ]
          },
          "metadata": {},
          "execution_count": 67
        }
      ]
    },
    {
      "cell_type": "code",
      "source": [
        "df_final['Floor Price'] = df_final['Floor Price'].astype(float)"
      ],
      "metadata": {
        "id": "HfzET68qftop"
      },
      "execution_count": 68,
      "outputs": []
    },
    {
      "cell_type": "markdown",
      "source": [
        "###Market Cap:"
      ],
      "metadata": {
        "id": "9GhRQOwDjpIp"
      }
    },
    {
      "cell_type": "code",
      "source": [
        "df_final['Market Cap']"
      ],
      "metadata": {
        "colab": {
          "base_uri": "https://localhost:8080/"
        },
        "id": "_Oq0-qigjus4",
        "outputId": "bbd3829b-c8ed-4a62-8845-c9d095dac18b"
      },
      "execution_count": 69,
      "outputs": [
        {
          "output_type": "execute_result",
          "data": {
            "text/plain": [
              "0           974.0 ETH\n",
              "1        58,000.0 ETH\n",
              "2       950,000.0 ETH\n",
              "3       139,900.0 ETH\n",
              "4      337,630.04 ETH\n",
              "            ...      \n",
              "120        794.99 ETH\n",
              "121        311.08 ETH\n",
              "122         280.0 ETH\n",
              "123         40.11 ETH\n",
              "124         88.88 ETH\n",
              "Name: Market Cap, Length: 125, dtype: object"
            ]
          },
          "metadata": {},
          "execution_count": 69
        }
      ]
    },
    {
      "cell_type": "code",
      "source": [
        "market_caps = []\n",
        "for market_cap in df_final['Market Cap']:\n",
        "  market_cap = market_cap.split()\n",
        "  market_caps.append(market_cap[0])"
      ],
      "metadata": {
        "id": "oFaEtQWIjvAv"
      },
      "execution_count": 70,
      "outputs": []
    },
    {
      "cell_type": "code",
      "source": [
        "for i in market_caps:\n",
        "  if type(i) != type('str'):\n",
        "    print('Não tem dados com tipo string')"
      ],
      "metadata": {
        "id": "XKJT8jwLjvDF"
      },
      "execution_count": 71,
      "outputs": []
    },
    {
      "cell_type": "code",
      "source": [
        "market_caps_final = []\n",
        "for mks in market_caps:\n",
        "  mks = mks.split(',')\n",
        "  if len(mks) > 1:\n",
        "    mks = mks[0] + '' + mks[1]\n",
        "    market_caps_final.append(mks)\n",
        "  else:\n",
        "    market_caps_final.append(mks[0])\n"
      ],
      "metadata": {
        "id": "86C46eLklEmg"
      },
      "execution_count": 72,
      "outputs": []
    },
    {
      "cell_type": "code",
      "source": [
        "df_final['Market Cap'] = market_caps_final"
      ],
      "metadata": {
        "id": "UzeW_6qmkpkD"
      },
      "execution_count": 73,
      "outputs": []
    },
    {
      "cell_type": "code",
      "source": [
        "market_caps_final = df_final['Market Cap'].astype(float)"
      ],
      "metadata": {
        "id": "Kh5QR4IZkyHW"
      },
      "execution_count": 74,
      "outputs": []
    },
    {
      "cell_type": "markdown",
      "source": [
        "###24h(Variação em %):"
      ],
      "metadata": {
        "id": "kHueQHARYQ-y"
      }
    },
    {
      "cell_type": "code",
      "source": [
        "df_final = df_final.rename(columns={'24h':'24h(%)'})"
      ],
      "metadata": {
        "id": "8H57jgygYQWO"
      },
      "execution_count": 75,
      "outputs": []
    },
    {
      "cell_type": "code",
      "source": [
        "df_final.head()"
      ],
      "metadata": {
        "colab": {
          "base_uri": "https://localhost:8080/",
          "height": 206
        },
        "id": "hwqsOMc4Y3Yv",
        "outputId": "85721aa8-0f41-43ec-f35f-107a98695a71"
      },
      "execution_count": 76,
      "outputs": [
        {
          "output_type": "execute_result",
          "data": {
            "text/html": [
              "\n",
              "  <div id=\"df-ac0c119a-e43f-4ace-96cc-90c8dbf44176\">\n",
              "    <div class=\"colab-df-container\">\n",
              "      <div>\n",
              "<style scoped>\n",
              "    .dataframe tbody tr th:only-of-type {\n",
              "        vertical-align: middle;\n",
              "    }\n",
              "\n",
              "    .dataframe tbody tr th {\n",
              "        vertical-align: top;\n",
              "    }\n",
              "\n",
              "    .dataframe thead th {\n",
              "        text-align: right;\n",
              "    }\n",
              "</style>\n",
              "<table border=\"1\" class=\"dataframe\">\n",
              "  <thead>\n",
              "    <tr style=\"text-align: right;\">\n",
              "      <th></th>\n",
              "      <th>#</th>\n",
              "      <th>NFT</th>\n",
              "      <th>Floor Price</th>\n",
              "      <th>24h(%)</th>\n",
              "      <th>7d</th>\n",
              "      <th>Market Cap</th>\n",
              "      <th>24h Volume</th>\n",
              "      <th>Owners</th>\n",
              "      <th>24h Owners</th>\n",
              "      <th>Total Assets</th>\n",
              "    </tr>\n",
              "  </thead>\n",
              "  <tbody>\n",
              "    <tr>\n",
              "      <th>0</th>\n",
              "      <td>1</td>\n",
              "      <td>dotdotdots</td>\n",
              "      <td>0.0</td>\n",
              "      <td>0.6%</td>\n",
              "      <td>NaN</td>\n",
              "      <td>974.0</td>\n",
              "      <td>8,849.89 ETH</td>\n",
              "      <td>2648.0</td>\n",
              "      <td>0.0%</td>\n",
              "      <td>4870.0</td>\n",
              "    </tr>\n",
              "    <tr>\n",
              "      <th>1</th>\n",
              "      <td>2</td>\n",
              "      <td>Meebits</td>\n",
              "      <td>0.0</td>\n",
              "      <td>-7.8%</td>\n",
              "      <td>NaN</td>\n",
              "      <td>58000.0</td>\n",
              "      <td>5,229.36 ETH</td>\n",
              "      <td>5747.0</td>\n",
              "      <td>-0.1%</td>\n",
              "      <td>20000.0</td>\n",
              "    </tr>\n",
              "    <tr>\n",
              "      <th>2</th>\n",
              "      <td>3</td>\n",
              "      <td>Bored Ape Yacht Club</td>\n",
              "      <td>0.0</td>\n",
              "      <td>-7.3%</td>\n",
              "      <td>NaN</td>\n",
              "      <td>950000.0</td>\n",
              "      <td>1,360.59 ETH</td>\n",
              "      <td>6315.0</td>\n",
              "      <td>0.0%</td>\n",
              "      <td>10000.0</td>\n",
              "    </tr>\n",
              "    <tr>\n",
              "      <th>3</th>\n",
              "      <td>4</td>\n",
              "      <td>Azuki</td>\n",
              "      <td>0.0</td>\n",
              "      <td>-8.0%</td>\n",
              "      <td>NaN</td>\n",
              "      <td>139900.0</td>\n",
              "      <td>1,214.76 ETH</td>\n",
              "      <td>5403.0</td>\n",
              "      <td>-0.1%</td>\n",
              "      <td>10000.0</td>\n",
              "    </tr>\n",
              "    <tr>\n",
              "      <th>4</th>\n",
              "      <td>5</td>\n",
              "      <td>Mutant Ape Yacht Club</td>\n",
              "      <td>0.0</td>\n",
              "      <td>-7.4%</td>\n",
              "      <td>NaN</td>\n",
              "      <td>337630.04</td>\n",
              "      <td>1,115.09 ETH</td>\n",
              "      <td>11756.0</td>\n",
              "      <td>0.1%</td>\n",
              "      <td>17960.0</td>\n",
              "    </tr>\n",
              "  </tbody>\n",
              "</table>\n",
              "</div>\n",
              "      <button class=\"colab-df-convert\" onclick=\"convertToInteractive('df-ac0c119a-e43f-4ace-96cc-90c8dbf44176')\"\n",
              "              title=\"Convert this dataframe to an interactive table.\"\n",
              "              style=\"display:none;\">\n",
              "        \n",
              "  <svg xmlns=\"http://www.w3.org/2000/svg\" height=\"24px\"viewBox=\"0 0 24 24\"\n",
              "       width=\"24px\">\n",
              "    <path d=\"M0 0h24v24H0V0z\" fill=\"none\"/>\n",
              "    <path d=\"M18.56 5.44l.94 2.06.94-2.06 2.06-.94-2.06-.94-.94-2.06-.94 2.06-2.06.94zm-11 1L8.5 8.5l.94-2.06 2.06-.94-2.06-.94L8.5 2.5l-.94 2.06-2.06.94zm10 10l.94 2.06.94-2.06 2.06-.94-2.06-.94-.94-2.06-.94 2.06-2.06.94z\"/><path d=\"M17.41 7.96l-1.37-1.37c-.4-.4-.92-.59-1.43-.59-.52 0-1.04.2-1.43.59L10.3 9.45l-7.72 7.72c-.78.78-.78 2.05 0 2.83L4 21.41c.39.39.9.59 1.41.59.51 0 1.02-.2 1.41-.59l7.78-7.78 2.81-2.81c.8-.78.8-2.07 0-2.86zM5.41 20L4 18.59l7.72-7.72 1.47 1.35L5.41 20z\"/>\n",
              "  </svg>\n",
              "      </button>\n",
              "      \n",
              "  <style>\n",
              "    .colab-df-container {\n",
              "      display:flex;\n",
              "      flex-wrap:wrap;\n",
              "      gap: 12px;\n",
              "    }\n",
              "\n",
              "    .colab-df-convert {\n",
              "      background-color: #E8F0FE;\n",
              "      border: none;\n",
              "      border-radius: 50%;\n",
              "      cursor: pointer;\n",
              "      display: none;\n",
              "      fill: #1967D2;\n",
              "      height: 32px;\n",
              "      padding: 0 0 0 0;\n",
              "      width: 32px;\n",
              "    }\n",
              "\n",
              "    .colab-df-convert:hover {\n",
              "      background-color: #E2EBFA;\n",
              "      box-shadow: 0px 1px 2px rgba(60, 64, 67, 0.3), 0px 1px 3px 1px rgba(60, 64, 67, 0.15);\n",
              "      fill: #174EA6;\n",
              "    }\n",
              "\n",
              "    [theme=dark] .colab-df-convert {\n",
              "      background-color: #3B4455;\n",
              "      fill: #D2E3FC;\n",
              "    }\n",
              "\n",
              "    [theme=dark] .colab-df-convert:hover {\n",
              "      background-color: #434B5C;\n",
              "      box-shadow: 0px 1px 3px 1px rgba(0, 0, 0, 0.15);\n",
              "      filter: drop-shadow(0px 1px 2px rgba(0, 0, 0, 0.3));\n",
              "      fill: #FFFFFF;\n",
              "    }\n",
              "  </style>\n",
              "\n",
              "      <script>\n",
              "        const buttonEl =\n",
              "          document.querySelector('#df-ac0c119a-e43f-4ace-96cc-90c8dbf44176 button.colab-df-convert');\n",
              "        buttonEl.style.display =\n",
              "          google.colab.kernel.accessAllowed ? 'block' : 'none';\n",
              "\n",
              "        async function convertToInteractive(key) {\n",
              "          const element = document.querySelector('#df-ac0c119a-e43f-4ace-96cc-90c8dbf44176');\n",
              "          const dataTable =\n",
              "            await google.colab.kernel.invokeFunction('convertToInteractive',\n",
              "                                                     [key], {});\n",
              "          if (!dataTable) return;\n",
              "\n",
              "          const docLinkHtml = 'Like what you see? Visit the ' +\n",
              "            '<a target=\"_blank\" href=https://colab.research.google.com/notebooks/data_table.ipynb>data table notebook</a>'\n",
              "            + ' to learn more about interactive tables.';\n",
              "          element.innerHTML = '';\n",
              "          dataTable['output_type'] = 'display_data';\n",
              "          await google.colab.output.renderOutput(dataTable, element);\n",
              "          const docLink = document.createElement('div');\n",
              "          docLink.innerHTML = docLinkHtml;\n",
              "          element.appendChild(docLink);\n",
              "        }\n",
              "      </script>\n",
              "    </div>\n",
              "  </div>\n",
              "  "
            ],
            "text/plain": [
              "   #                    NFT  Floor Price  ...   Owners  24h Owners Total Assets\n",
              "0  1             dotdotdots          0.0  ...   2648.0        0.0%       4870.0\n",
              "1  2                Meebits          0.0  ...   5747.0       -0.1%      20000.0\n",
              "2  3   Bored Ape Yacht Club          0.0  ...   6315.0        0.0%      10000.0\n",
              "3  4                  Azuki          0.0  ...   5403.0       -0.1%      10000.0\n",
              "4  5  Mutant Ape Yacht Club          0.0  ...  11756.0        0.1%      17960.0\n",
              "\n",
              "[5 rows x 10 columns]"
            ]
          },
          "metadata": {},
          "execution_count": 76
        }
      ]
    },
    {
      "cell_type": "code",
      "source": [
        "tfhours = []\n",
        "try:\n",
        "  for per in df_final['24h(%)']:\n",
        "    per = per.split('%')\n",
        "    tfhours.append(float(per[0]))\n",
        "except:\n",
        "  print(\"not valid\")"
      ],
      "metadata": {
        "id": "-Va35MMwYTxl"
      },
      "execution_count": 77,
      "outputs": []
    },
    {
      "cell_type": "code",
      "source": [
        "if len(tfhours) > 0:\n",
        "  df_final['24h(%)'] = tfhours"
      ],
      "metadata": {
        "id": "kZKS5lkLYTz7"
      },
      "execution_count": 78,
      "outputs": []
    },
    {
      "cell_type": "code",
      "source": [
        "df_final.head()"
      ],
      "metadata": {
        "colab": {
          "base_uri": "https://localhost:8080/",
          "height": 206
        },
        "id": "G1HuslchYT2Z",
        "outputId": "06262d6d-d92e-4ac9-cf75-e4a2e3a515b2"
      },
      "execution_count": 79,
      "outputs": [
        {
          "output_type": "execute_result",
          "data": {
            "text/html": [
              "\n",
              "  <div id=\"df-9e8e2042-1c5d-4747-a594-7838804aaecd\">\n",
              "    <div class=\"colab-df-container\">\n",
              "      <div>\n",
              "<style scoped>\n",
              "    .dataframe tbody tr th:only-of-type {\n",
              "        vertical-align: middle;\n",
              "    }\n",
              "\n",
              "    .dataframe tbody tr th {\n",
              "        vertical-align: top;\n",
              "    }\n",
              "\n",
              "    .dataframe thead th {\n",
              "        text-align: right;\n",
              "    }\n",
              "</style>\n",
              "<table border=\"1\" class=\"dataframe\">\n",
              "  <thead>\n",
              "    <tr style=\"text-align: right;\">\n",
              "      <th></th>\n",
              "      <th>#</th>\n",
              "      <th>NFT</th>\n",
              "      <th>Floor Price</th>\n",
              "      <th>24h(%)</th>\n",
              "      <th>7d</th>\n",
              "      <th>Market Cap</th>\n",
              "      <th>24h Volume</th>\n",
              "      <th>Owners</th>\n",
              "      <th>24h Owners</th>\n",
              "      <th>Total Assets</th>\n",
              "    </tr>\n",
              "  </thead>\n",
              "  <tbody>\n",
              "    <tr>\n",
              "      <th>0</th>\n",
              "      <td>1</td>\n",
              "      <td>dotdotdots</td>\n",
              "      <td>0.0</td>\n",
              "      <td>0.6</td>\n",
              "      <td>NaN</td>\n",
              "      <td>974.0</td>\n",
              "      <td>8,849.89 ETH</td>\n",
              "      <td>2648.0</td>\n",
              "      <td>0.0%</td>\n",
              "      <td>4870.0</td>\n",
              "    </tr>\n",
              "    <tr>\n",
              "      <th>1</th>\n",
              "      <td>2</td>\n",
              "      <td>Meebits</td>\n",
              "      <td>0.0</td>\n",
              "      <td>-7.8</td>\n",
              "      <td>NaN</td>\n",
              "      <td>58000.0</td>\n",
              "      <td>5,229.36 ETH</td>\n",
              "      <td>5747.0</td>\n",
              "      <td>-0.1%</td>\n",
              "      <td>20000.0</td>\n",
              "    </tr>\n",
              "    <tr>\n",
              "      <th>2</th>\n",
              "      <td>3</td>\n",
              "      <td>Bored Ape Yacht Club</td>\n",
              "      <td>0.0</td>\n",
              "      <td>-7.3</td>\n",
              "      <td>NaN</td>\n",
              "      <td>950000.0</td>\n",
              "      <td>1,360.59 ETH</td>\n",
              "      <td>6315.0</td>\n",
              "      <td>0.0%</td>\n",
              "      <td>10000.0</td>\n",
              "    </tr>\n",
              "    <tr>\n",
              "      <th>3</th>\n",
              "      <td>4</td>\n",
              "      <td>Azuki</td>\n",
              "      <td>0.0</td>\n",
              "      <td>-8.0</td>\n",
              "      <td>NaN</td>\n",
              "      <td>139900.0</td>\n",
              "      <td>1,214.76 ETH</td>\n",
              "      <td>5403.0</td>\n",
              "      <td>-0.1%</td>\n",
              "      <td>10000.0</td>\n",
              "    </tr>\n",
              "    <tr>\n",
              "      <th>4</th>\n",
              "      <td>5</td>\n",
              "      <td>Mutant Ape Yacht Club</td>\n",
              "      <td>0.0</td>\n",
              "      <td>-7.4</td>\n",
              "      <td>NaN</td>\n",
              "      <td>337630.04</td>\n",
              "      <td>1,115.09 ETH</td>\n",
              "      <td>11756.0</td>\n",
              "      <td>0.1%</td>\n",
              "      <td>17960.0</td>\n",
              "    </tr>\n",
              "  </tbody>\n",
              "</table>\n",
              "</div>\n",
              "      <button class=\"colab-df-convert\" onclick=\"convertToInteractive('df-9e8e2042-1c5d-4747-a594-7838804aaecd')\"\n",
              "              title=\"Convert this dataframe to an interactive table.\"\n",
              "              style=\"display:none;\">\n",
              "        \n",
              "  <svg xmlns=\"http://www.w3.org/2000/svg\" height=\"24px\"viewBox=\"0 0 24 24\"\n",
              "       width=\"24px\">\n",
              "    <path d=\"M0 0h24v24H0V0z\" fill=\"none\"/>\n",
              "    <path d=\"M18.56 5.44l.94 2.06.94-2.06 2.06-.94-2.06-.94-.94-2.06-.94 2.06-2.06.94zm-11 1L8.5 8.5l.94-2.06 2.06-.94-2.06-.94L8.5 2.5l-.94 2.06-2.06.94zm10 10l.94 2.06.94-2.06 2.06-.94-2.06-.94-.94-2.06-.94 2.06-2.06.94z\"/><path d=\"M17.41 7.96l-1.37-1.37c-.4-.4-.92-.59-1.43-.59-.52 0-1.04.2-1.43.59L10.3 9.45l-7.72 7.72c-.78.78-.78 2.05 0 2.83L4 21.41c.39.39.9.59 1.41.59.51 0 1.02-.2 1.41-.59l7.78-7.78 2.81-2.81c.8-.78.8-2.07 0-2.86zM5.41 20L4 18.59l7.72-7.72 1.47 1.35L5.41 20z\"/>\n",
              "  </svg>\n",
              "      </button>\n",
              "      \n",
              "  <style>\n",
              "    .colab-df-container {\n",
              "      display:flex;\n",
              "      flex-wrap:wrap;\n",
              "      gap: 12px;\n",
              "    }\n",
              "\n",
              "    .colab-df-convert {\n",
              "      background-color: #E8F0FE;\n",
              "      border: none;\n",
              "      border-radius: 50%;\n",
              "      cursor: pointer;\n",
              "      display: none;\n",
              "      fill: #1967D2;\n",
              "      height: 32px;\n",
              "      padding: 0 0 0 0;\n",
              "      width: 32px;\n",
              "    }\n",
              "\n",
              "    .colab-df-convert:hover {\n",
              "      background-color: #E2EBFA;\n",
              "      box-shadow: 0px 1px 2px rgba(60, 64, 67, 0.3), 0px 1px 3px 1px rgba(60, 64, 67, 0.15);\n",
              "      fill: #174EA6;\n",
              "    }\n",
              "\n",
              "    [theme=dark] .colab-df-convert {\n",
              "      background-color: #3B4455;\n",
              "      fill: #D2E3FC;\n",
              "    }\n",
              "\n",
              "    [theme=dark] .colab-df-convert:hover {\n",
              "      background-color: #434B5C;\n",
              "      box-shadow: 0px 1px 3px 1px rgba(0, 0, 0, 0.15);\n",
              "      filter: drop-shadow(0px 1px 2px rgba(0, 0, 0, 0.3));\n",
              "      fill: #FFFFFF;\n",
              "    }\n",
              "  </style>\n",
              "\n",
              "      <script>\n",
              "        const buttonEl =\n",
              "          document.querySelector('#df-9e8e2042-1c5d-4747-a594-7838804aaecd button.colab-df-convert');\n",
              "        buttonEl.style.display =\n",
              "          google.colab.kernel.accessAllowed ? 'block' : 'none';\n",
              "\n",
              "        async function convertToInteractive(key) {\n",
              "          const element = document.querySelector('#df-9e8e2042-1c5d-4747-a594-7838804aaecd');\n",
              "          const dataTable =\n",
              "            await google.colab.kernel.invokeFunction('convertToInteractive',\n",
              "                                                     [key], {});\n",
              "          if (!dataTable) return;\n",
              "\n",
              "          const docLinkHtml = 'Like what you see? Visit the ' +\n",
              "            '<a target=\"_blank\" href=https://colab.research.google.com/notebooks/data_table.ipynb>data table notebook</a>'\n",
              "            + ' to learn more about interactive tables.';\n",
              "          element.innerHTML = '';\n",
              "          dataTable['output_type'] = 'display_data';\n",
              "          await google.colab.output.renderOutput(dataTable, element);\n",
              "          const docLink = document.createElement('div');\n",
              "          docLink.innerHTML = docLinkHtml;\n",
              "          element.appendChild(docLink);\n",
              "        }\n",
              "      </script>\n",
              "    </div>\n",
              "  </div>\n",
              "  "
            ],
            "text/plain": [
              "   #                    NFT  Floor Price  ...   Owners  24h Owners Total Assets\n",
              "0  1             dotdotdots          0.0  ...   2648.0        0.0%       4870.0\n",
              "1  2                Meebits          0.0  ...   5747.0       -0.1%      20000.0\n",
              "2  3   Bored Ape Yacht Club          0.0  ...   6315.0        0.0%      10000.0\n",
              "3  4                  Azuki          0.0  ...   5403.0       -0.1%      10000.0\n",
              "4  5  Mutant Ape Yacht Club          0.0  ...  11756.0        0.1%      17960.0\n",
              "\n",
              "[5 rows x 10 columns]"
            ]
          },
          "metadata": {},
          "execution_count": 79
        }
      ]
    },
    {
      "cell_type": "markdown",
      "source": [
        "###24h Volume:"
      ],
      "metadata": {
        "id": "g_qwfMLxnfGS"
      }
    },
    {
      "cell_type": "code",
      "source": [
        "df_final['24h Volume']"
      ],
      "metadata": {
        "colab": {
          "base_uri": "https://localhost:8080/"
        },
        "id": "bhTJ_s1Vnqjs",
        "outputId": "c7fcd3e4-23ff-4f7f-9f5f-ef8c31232517"
      },
      "execution_count": 80,
      "outputs": [
        {
          "output_type": "execute_result",
          "data": {
            "text/plain": [
              "0      8,849.89 ETH\n",
              "1      5,229.36 ETH\n",
              "2      1,360.59 ETH\n",
              "3      1,214.76 ETH\n",
              "4      1,115.09 ETH\n",
              "           ...     \n",
              "120        0.07 ETH\n",
              "121        0.07 ETH\n",
              "122        0.03 ETH\n",
              "123        0.03 ETH\n",
              "124        0.02 ETH\n",
              "Name: 24h Volume, Length: 125, dtype: object"
            ]
          },
          "metadata": {},
          "execution_count": 80
        }
      ]
    },
    {
      "cell_type": "code",
      "source": [
        "daily_volumes  = []\n",
        "for daily_volume in df_final['24h Volume']:\n",
        "  if ',' in daily_volume:\n",
        "    daily_volume = daily_volume.split(',')\n",
        "    daily_volume = daily_volume[0] + '' + daily_volume[1]\n",
        "    daily_volume = daily_volume.split()\n",
        "    daily_volumes.append(daily_volume[0])\n",
        "  else:  \n",
        "    daily_volume = daily_volume.split()\n",
        "    daily_volume = daily_volume[0]\n",
        "    daily_volumes.append(daily_volume)\n"
      ],
      "metadata": {
        "id": "_2Boa-oXnqm5"
      },
      "execution_count": 81,
      "outputs": []
    },
    {
      "cell_type": "code",
      "source": [
        "daily_volumes\n",
        "    "
      ],
      "metadata": {
        "colab": {
          "base_uri": "https://localhost:8080/"
        },
        "id": "8fmKgFsInqqv",
        "outputId": "58e0e452-2c2c-49fa-c739-6d223dca22b0"
      },
      "execution_count": 82,
      "outputs": [
        {
          "output_type": "execute_result",
          "data": {
            "text/plain": [
              "['8849.89',\n",
              " '5229.36',\n",
              " '1360.59',\n",
              " '1214.76',\n",
              " '1115.09',\n",
              " '678.82',\n",
              " '435.46',\n",
              " '387.58',\n",
              " '317.47',\n",
              " '303.35',\n",
              " '256.47',\n",
              " '187.02',\n",
              " '125.47',\n",
              " '125.27',\n",
              " '116.69',\n",
              " '109.38',\n",
              " '106.96',\n",
              " '78.17',\n",
              " '76.43',\n",
              " '75.13',\n",
              " '62.51',\n",
              " '61.11',\n",
              " '60.23',\n",
              " '59.51',\n",
              " '58.53',\n",
              " '56.7',\n",
              " '52.41',\n",
              " '47.17',\n",
              " '43.49',\n",
              " '41.18',\n",
              " '39.35',\n",
              " '36.84',\n",
              " '30.24',\n",
              " '30.0',\n",
              " '29.9',\n",
              " '28.35',\n",
              " '27.46',\n",
              " '26.85',\n",
              " '26.1',\n",
              " '25.14',\n",
              " '24.71',\n",
              " '24.62',\n",
              " '23.86',\n",
              " '23.34',\n",
              " '21.96',\n",
              " '21.94',\n",
              " '21.58',\n",
              " '21.58',\n",
              " '20.17',\n",
              " '18.58',\n",
              " '18.14',\n",
              " '17.2',\n",
              " '17.09',\n",
              " '16.18',\n",
              " '15.69',\n",
              " '14.89',\n",
              " '14.27',\n",
              " '13.36',\n",
              " '12.76',\n",
              " '12.46',\n",
              " '7.16',\n",
              " '6.63',\n",
              " '6.46',\n",
              " '6.4',\n",
              " '6.38',\n",
              " '5.88',\n",
              " '5.83',\n",
              " '5.6',\n",
              " '5.59',\n",
              " '5.29',\n",
              " '5.2',\n",
              " '3.93',\n",
              " '3.65',\n",
              " '3.5',\n",
              " '3.47',\n",
              " '3.32',\n",
              " '3.17',\n",
              " '3.1',\n",
              " '2.48',\n",
              " '2.45',\n",
              " '2.33',\n",
              " '2.24',\n",
              " '2.22',\n",
              " '1.86',\n",
              " '1.73',\n",
              " '1.72',\n",
              " '1.69',\n",
              " '1.67',\n",
              " '1.54',\n",
              " '1.48',\n",
              " '1.31',\n",
              " '1.25',\n",
              " '0.96',\n",
              " '0.8',\n",
              " '0.62',\n",
              " '0.61',\n",
              " '0.55',\n",
              " '0.48',\n",
              " '0.42',\n",
              " '0.4',\n",
              " '0.39',\n",
              " '0.39',\n",
              " '0.36',\n",
              " '0.35',\n",
              " '0.35',\n",
              " '0.34',\n",
              " '0.33',\n",
              " '0.33',\n",
              " '0.32',\n",
              " '0.3',\n",
              " '0.28',\n",
              " '0.28',\n",
              " '0.26',\n",
              " '0.21',\n",
              " '0.15',\n",
              " '0.13',\n",
              " '0.11',\n",
              " '0.11',\n",
              " '0.1',\n",
              " '0.08',\n",
              " '0.07',\n",
              " '0.07',\n",
              " '0.03',\n",
              " '0.03',\n",
              " '0.02']"
            ]
          },
          "metadata": {},
          "execution_count": 82
        }
      ]
    },
    {
      "cell_type": "code",
      "source": [
        "df_final['24h Volume'] = daily_volumes"
      ],
      "metadata": {
        "id": "lVM5xe1YpoE8"
      },
      "execution_count": 83,
      "outputs": []
    },
    {
      "cell_type": "code",
      "source": [
        "df_final['24h Volume'].astype(float)"
      ],
      "metadata": {
        "colab": {
          "base_uri": "https://localhost:8080/"
        },
        "id": "wGFEst4BsfPP",
        "outputId": "14745ecc-21bd-4792-d134-93dadfa8bb13"
      },
      "execution_count": 84,
      "outputs": [
        {
          "output_type": "execute_result",
          "data": {
            "text/plain": [
              "0      8849.89\n",
              "1      5229.36\n",
              "2      1360.59\n",
              "3      1214.76\n",
              "4      1115.09\n",
              "        ...   \n",
              "120       0.07\n",
              "121       0.07\n",
              "122       0.03\n",
              "123       0.03\n",
              "124       0.02\n",
              "Name: 24h Volume, Length: 125, dtype: float64"
            ]
          },
          "metadata": {},
          "execution_count": 84
        }
      ]
    },
    {
      "cell_type": "markdown",
      "source": [
        "###24h Owners:"
      ],
      "metadata": {
        "id": "xW7wRJPpstCt"
      }
    },
    {
      "cell_type": "code",
      "source": [
        "df_final['24h Owners']"
      ],
      "metadata": {
        "colab": {
          "base_uri": "https://localhost:8080/"
        },
        "id": "JaekVl2Esvpr",
        "outputId": "7b4af885-0f30-4f48-c2a2-998cc3743463"
      },
      "execution_count": 85,
      "outputs": [
        {
          "output_type": "execute_result",
          "data": {
            "text/plain": [
              "0       0.0%\n",
              "1      -0.1%\n",
              "2       0.0%\n",
              "3      -0.1%\n",
              "4       0.1%\n",
              "       ...  \n",
              "120     0.1%\n",
              "121    -0.0%\n",
              "122    -0.1%\n",
              "123     0.0%\n",
              "124     0.0%\n",
              "Name: 24h Owners, Length: 125, dtype: object"
            ]
          },
          "metadata": {},
          "execution_count": 85
        }
      ]
    },
    {
      "cell_type": "code",
      "source": [
        "daily_owners = []\n",
        "for d_owner in df_final['24h Owners']:\n",
        "  d_owner = d_owner.split('%')\n",
        "  daily_owners.append(d_owner[0])"
      ],
      "metadata": {
        "id": "Cu9TppYysvz3"
      },
      "execution_count": 86,
      "outputs": []
    },
    {
      "cell_type": "code",
      "source": [
        "df_final['24h Owners'] = daily_owners"
      ],
      "metadata": {
        "id": "bTSulz1XtNpB"
      },
      "execution_count": 87,
      "outputs": []
    },
    {
      "cell_type": "code",
      "source": [
        "len(daily_owners)"
      ],
      "metadata": {
        "colab": {
          "base_uri": "https://localhost:8080/"
        },
        "id": "N47rTJSu65R3",
        "outputId": "cd4d6011-fb07-4239-8e10-c2dec801a73d"
      },
      "execution_count": 88,
      "outputs": [
        {
          "output_type": "execute_result",
          "data": {
            "text/plain": [
              "125"
            ]
          },
          "metadata": {},
          "execution_count": 88
        }
      ]
    },
    {
      "cell_type": "code",
      "source": [
        "for els in df_final['24h Owners']:\n",
        "  if type(els) != type('str'):\n",
        "    df_final['24h Owners'].astype(float)"
      ],
      "metadata": {
        "id": "vd_cLZi2sv8w"
      },
      "execution_count": 89,
      "outputs": []
    },
    {
      "cell_type": "markdown",
      "source": [
        "##Razão dos proprietários (Owner Ratio):"
      ],
      "metadata": {
        "id": "J16Z8Oin0bd5"
      }
    },
    {
      "cell_type": "code",
      "source": [
        "df_final['Owner Ratio'] = df_final['Owners'] / df_final ['Total Assets']"
      ],
      "metadata": {
        "id": "4vwYveAK0f6M"
      },
      "execution_count": 90,
      "outputs": []
    },
    {
      "cell_type": "code",
      "source": [
        "df_final['Owner Ratio'] = df_final['Owner Ratio']*100"
      ],
      "metadata": {
        "id": "xJsR2g6Q0f6M"
      },
      "execution_count": 91,
      "outputs": []
    },
    {
      "cell_type": "markdown",
      "source": [
        "#2ºParte: Limpeza dos dados"
      ],
      "metadata": {
        "id": "Jl2hE-TUybQJ"
      }
    },
    {
      "cell_type": "code",
      "source": [
        "df_final.isnull().sum()"
      ],
      "metadata": {
        "id": "29urF9sSSPMj",
        "colab": {
          "base_uri": "https://localhost:8080/"
        },
        "outputId": "5f89544f-6a88-4a82-cb81-fa50034bcb09"
      },
      "execution_count": 92,
      "outputs": [
        {
          "output_type": "execute_result",
          "data": {
            "text/plain": [
              "#                 0\n",
              "NFT               0\n",
              "Floor Price       0\n",
              "24h(%)            0\n",
              "7d              125\n",
              "Market Cap        0\n",
              "24h Volume        0\n",
              "Owners            0\n",
              "24h Owners        0\n",
              "Total Assets      0\n",
              "Owner Ratio       0\n",
              "dtype: int64"
            ]
          },
          "metadata": {},
          "execution_count": 92
        }
      ]
    },
    {
      "cell_type": "code",
      "source": [
        "df_final.drop(columns=[\"7d\", \"#\"], inplace=True)"
      ],
      "metadata": {
        "id": "fsZoVQ_Nysbo"
      },
      "execution_count": 93,
      "outputs": []
    },
    {
      "cell_type": "code",
      "source": [
        "df_final.duplicated().sum()"
      ],
      "metadata": {
        "id": "nW7zTundyzGL",
        "colab": {
          "base_uri": "https://localhost:8080/"
        },
        "outputId": "bd45492a-63bf-4791-e474-769572ce1b5c"
      },
      "execution_count": 94,
      "outputs": [
        {
          "output_type": "execute_result",
          "data": {
            "text/plain": [
              "0"
            ]
          },
          "metadata": {},
          "execution_count": 94
        }
      ]
    },
    {
      "cell_type": "code",
      "source": [
        "df = df_final"
      ],
      "metadata": {
        "id": "8xV1jvctdg2z"
      },
      "execution_count": 95,
      "outputs": []
    },
    {
      "cell_type": "markdown",
      "source": [
        "#Salvando em CSV:"
      ],
      "metadata": {
        "id": "mzaRze_yt0jw"
      }
    },
    {
      "cell_type": "code",
      "source": [
        "df.to_csv(r'/content/df_final.csv', index=False, header=True)"
      ],
      "metadata": {
        "id": "Qmfk_rEdt0B7"
      },
      "execution_count": 96,
      "outputs": []
    },
    {
      "cell_type": "code",
      "source": [
        "df_test = pd.read_csv(\"df_final.csv\")"
      ],
      "metadata": {
        "id": "Zbcx9Iiqt-b8"
      },
      "execution_count": 97,
      "outputs": []
    },
    {
      "cell_type": "code",
      "source": [
        "df_test.head()"
      ],
      "metadata": {
        "id": "4T7CXXhUuCFz",
        "outputId": "b1dc9b8b-bda1-4445-e13b-75e49eba79a9",
        "colab": {
          "base_uri": "https://localhost:8080/",
          "height": 206
        }
      },
      "execution_count": 191,
      "outputs": [
        {
          "output_type": "execute_result",
          "data": {
            "text/html": [
              "\n",
              "  <div id=\"df-f0b51861-0bc1-480a-9243-afa4e6b541ea\">\n",
              "    <div class=\"colab-df-container\">\n",
              "      <div>\n",
              "<style scoped>\n",
              "    .dataframe tbody tr th:only-of-type {\n",
              "        vertical-align: middle;\n",
              "    }\n",
              "\n",
              "    .dataframe tbody tr th {\n",
              "        vertical-align: top;\n",
              "    }\n",
              "\n",
              "    .dataframe thead th {\n",
              "        text-align: right;\n",
              "    }\n",
              "</style>\n",
              "<table border=\"1\" class=\"dataframe\">\n",
              "  <thead>\n",
              "    <tr style=\"text-align: right;\">\n",
              "      <th></th>\n",
              "      <th>NFT</th>\n",
              "      <th>Floor Price</th>\n",
              "      <th>24h(%)</th>\n",
              "      <th>Market Cap</th>\n",
              "      <th>24h Volume</th>\n",
              "      <th>Owners</th>\n",
              "      <th>24h Owners</th>\n",
              "      <th>Total Assets</th>\n",
              "      <th>Owner Ratio</th>\n",
              "    </tr>\n",
              "  </thead>\n",
              "  <tbody>\n",
              "    <tr>\n",
              "      <th>0</th>\n",
              "      <td>dotdotdots</td>\n",
              "      <td>0.0</td>\n",
              "      <td>0.6</td>\n",
              "      <td>974.00</td>\n",
              "      <td>8849.89</td>\n",
              "      <td>2648.0</td>\n",
              "      <td>0.0</td>\n",
              "      <td>4870.0</td>\n",
              "      <td>54.373717</td>\n",
              "    </tr>\n",
              "    <tr>\n",
              "      <th>1</th>\n",
              "      <td>Meebits</td>\n",
              "      <td>0.0</td>\n",
              "      <td>-7.8</td>\n",
              "      <td>58000.00</td>\n",
              "      <td>5229.36</td>\n",
              "      <td>5747.0</td>\n",
              "      <td>-0.1</td>\n",
              "      <td>20000.0</td>\n",
              "      <td>28.735000</td>\n",
              "    </tr>\n",
              "    <tr>\n",
              "      <th>2</th>\n",
              "      <td>Bored Ape Yacht Club</td>\n",
              "      <td>0.0</td>\n",
              "      <td>-7.3</td>\n",
              "      <td>950000.00</td>\n",
              "      <td>1360.59</td>\n",
              "      <td>6315.0</td>\n",
              "      <td>0.0</td>\n",
              "      <td>10000.0</td>\n",
              "      <td>63.150000</td>\n",
              "    </tr>\n",
              "    <tr>\n",
              "      <th>3</th>\n",
              "      <td>Azuki</td>\n",
              "      <td>0.0</td>\n",
              "      <td>-8.0</td>\n",
              "      <td>139900.00</td>\n",
              "      <td>1214.76</td>\n",
              "      <td>5403.0</td>\n",
              "      <td>-0.1</td>\n",
              "      <td>10000.0</td>\n",
              "      <td>54.030000</td>\n",
              "    </tr>\n",
              "    <tr>\n",
              "      <th>4</th>\n",
              "      <td>Mutant Ape Yacht Club</td>\n",
              "      <td>0.0</td>\n",
              "      <td>-7.4</td>\n",
              "      <td>337630.04</td>\n",
              "      <td>1115.09</td>\n",
              "      <td>11756.0</td>\n",
              "      <td>0.1</td>\n",
              "      <td>17960.0</td>\n",
              "      <td>65.456570</td>\n",
              "    </tr>\n",
              "  </tbody>\n",
              "</table>\n",
              "</div>\n",
              "      <button class=\"colab-df-convert\" onclick=\"convertToInteractive('df-f0b51861-0bc1-480a-9243-afa4e6b541ea')\"\n",
              "              title=\"Convert this dataframe to an interactive table.\"\n",
              "              style=\"display:none;\">\n",
              "        \n",
              "  <svg xmlns=\"http://www.w3.org/2000/svg\" height=\"24px\"viewBox=\"0 0 24 24\"\n",
              "       width=\"24px\">\n",
              "    <path d=\"M0 0h24v24H0V0z\" fill=\"none\"/>\n",
              "    <path d=\"M18.56 5.44l.94 2.06.94-2.06 2.06-.94-2.06-.94-.94-2.06-.94 2.06-2.06.94zm-11 1L8.5 8.5l.94-2.06 2.06-.94-2.06-.94L8.5 2.5l-.94 2.06-2.06.94zm10 10l.94 2.06.94-2.06 2.06-.94-2.06-.94-.94-2.06-.94 2.06-2.06.94z\"/><path d=\"M17.41 7.96l-1.37-1.37c-.4-.4-.92-.59-1.43-.59-.52 0-1.04.2-1.43.59L10.3 9.45l-7.72 7.72c-.78.78-.78 2.05 0 2.83L4 21.41c.39.39.9.59 1.41.59.51 0 1.02-.2 1.41-.59l7.78-7.78 2.81-2.81c.8-.78.8-2.07 0-2.86zM5.41 20L4 18.59l7.72-7.72 1.47 1.35L5.41 20z\"/>\n",
              "  </svg>\n",
              "      </button>\n",
              "      \n",
              "  <style>\n",
              "    .colab-df-container {\n",
              "      display:flex;\n",
              "      flex-wrap:wrap;\n",
              "      gap: 12px;\n",
              "    }\n",
              "\n",
              "    .colab-df-convert {\n",
              "      background-color: #E8F0FE;\n",
              "      border: none;\n",
              "      border-radius: 50%;\n",
              "      cursor: pointer;\n",
              "      display: none;\n",
              "      fill: #1967D2;\n",
              "      height: 32px;\n",
              "      padding: 0 0 0 0;\n",
              "      width: 32px;\n",
              "    }\n",
              "\n",
              "    .colab-df-convert:hover {\n",
              "      background-color: #E2EBFA;\n",
              "      box-shadow: 0px 1px 2px rgba(60, 64, 67, 0.3), 0px 1px 3px 1px rgba(60, 64, 67, 0.15);\n",
              "      fill: #174EA6;\n",
              "    }\n",
              "\n",
              "    [theme=dark] .colab-df-convert {\n",
              "      background-color: #3B4455;\n",
              "      fill: #D2E3FC;\n",
              "    }\n",
              "\n",
              "    [theme=dark] .colab-df-convert:hover {\n",
              "      background-color: #434B5C;\n",
              "      box-shadow: 0px 1px 3px 1px rgba(0, 0, 0, 0.15);\n",
              "      filter: drop-shadow(0px 1px 2px rgba(0, 0, 0, 0.3));\n",
              "      fill: #FFFFFF;\n",
              "    }\n",
              "  </style>\n",
              "\n",
              "      <script>\n",
              "        const buttonEl =\n",
              "          document.querySelector('#df-f0b51861-0bc1-480a-9243-afa4e6b541ea button.colab-df-convert');\n",
              "        buttonEl.style.display =\n",
              "          google.colab.kernel.accessAllowed ? 'block' : 'none';\n",
              "\n",
              "        async function convertToInteractive(key) {\n",
              "          const element = document.querySelector('#df-f0b51861-0bc1-480a-9243-afa4e6b541ea');\n",
              "          const dataTable =\n",
              "            await google.colab.kernel.invokeFunction('convertToInteractive',\n",
              "                                                     [key], {});\n",
              "          if (!dataTable) return;\n",
              "\n",
              "          const docLinkHtml = 'Like what you see? Visit the ' +\n",
              "            '<a target=\"_blank\" href=https://colab.research.google.com/notebooks/data_table.ipynb>data table notebook</a>'\n",
              "            + ' to learn more about interactive tables.';\n",
              "          element.innerHTML = '';\n",
              "          dataTable['output_type'] = 'display_data';\n",
              "          await google.colab.output.renderOutput(dataTable, element);\n",
              "          const docLink = document.createElement('div');\n",
              "          docLink.innerHTML = docLinkHtml;\n",
              "          element.appendChild(docLink);\n",
              "        }\n",
              "      </script>\n",
              "    </div>\n",
              "  </div>\n",
              "  "
            ],
            "text/plain": [
              "                     NFT  Floor Price  ...  Total Assets  Owner Ratio\n",
              "0             dotdotdots          0.0  ...        4870.0    54.373717\n",
              "1                Meebits          0.0  ...       20000.0    28.735000\n",
              "2   Bored Ape Yacht Club          0.0  ...       10000.0    63.150000\n",
              "3                  Azuki          0.0  ...       10000.0    54.030000\n",
              "4  Mutant Ape Yacht Club          0.0  ...       17960.0    65.456570\n",
              "\n",
              "[5 rows x 9 columns]"
            ]
          },
          "metadata": {},
          "execution_count": 191
        }
      ]
    },
    {
      "cell_type": "markdown",
      "source": [
        "#A continuação das partes será imediata para aproveitar a sincronicidade via API do dataset. No entanto, deixo o dataset salvo pós-tratamento para qualquer motivo que seja."
      ],
      "metadata": {
        "id": "jTtn9KaKZ5x3"
      }
    },
    {
      "cell_type": "markdown",
      "source": [
        "#3ºParte: Análise do dataframe\n",
        "\n",
        "\n"
      ],
      "metadata": {
        "id": "BcIfUoDYdMmj"
      }
    },
    {
      "cell_type": "markdown",
      "source": [
        "##Importando as bibliotecas:"
      ],
      "metadata": {
        "id": "gTXc22ZfX28V"
      }
    },
    {
      "cell_type": "code",
      "source": [
        "import pandas as pd\n",
        "import numpy as np\n",
        "\n",
        "import matplotlib.pyplot as plt\n",
        "import seaborn as sns"
      ],
      "metadata": {
        "id": "hQw1R9X_X5si"
      },
      "execution_count": 99,
      "outputs": []
    },
    {
      "cell_type": "markdown",
      "source": [
        "##Importando o dataset:"
      ],
      "metadata": {
        "id": "Bix_Y6OqVhyI"
      }
    },
    {
      "cell_type": "code",
      "source": [
        "df = pd.read_csv(\"df_final_sample.csv\")\n"
      ],
      "metadata": {
        "id": "S6HHIjA5Lmr8"
      },
      "execution_count": 100,
      "outputs": []
    },
    {
      "cell_type": "code",
      "source": [
        "df = df_final.copy()"
      ],
      "metadata": {
        "id": "T16yI_eFYGVN"
      },
      "execution_count": 101,
      "outputs": []
    },
    {
      "cell_type": "markdown",
      "source": [
        "##Quais colunas nos interessam?"
      ],
      "metadata": {
        "id": "lqfSDiaUdZFm"
      }
    },
    {
      "cell_type": "code",
      "source": [
        "df.columns"
      ],
      "metadata": {
        "id": "ko1W-gMhaINi",
        "colab": {
          "base_uri": "https://localhost:8080/"
        },
        "outputId": "36716a05-47c5-4ff1-90e4-492a9359493b"
      },
      "execution_count": 102,
      "outputs": [
        {
          "output_type": "execute_result",
          "data": {
            "text/plain": [
              "Index(['NFT', 'Floor Price', '24h(%)', 'Market Cap', '24h Volume', 'Owners',\n",
              "       '24h Owners', 'Total Assets', 'Owner Ratio'],\n",
              "      dtype='object')"
            ]
          },
          "metadata": {},
          "execution_count": 102
        }
      ]
    },
    {
      "cell_type": "code",
      "source": [
        "df.info()"
      ],
      "metadata": {
        "id": "iRQ9IqKJdbpC",
        "colab": {
          "base_uri": "https://localhost:8080/"
        },
        "outputId": "8ab8503a-a0ef-47ca-eddb-98fae1bd5a22"
      },
      "execution_count": 103,
      "outputs": [
        {
          "output_type": "stream",
          "name": "stdout",
          "text": [
            "<class 'pandas.core.frame.DataFrame'>\n",
            "RangeIndex: 125 entries, 0 to 124\n",
            "Data columns (total 9 columns):\n",
            " #   Column        Non-Null Count  Dtype  \n",
            "---  ------        --------------  -----  \n",
            " 0   NFT           125 non-null    object \n",
            " 1   Floor Price   125 non-null    float64\n",
            " 2   24h(%)        125 non-null    float64\n",
            " 3   Market Cap    125 non-null    object \n",
            " 4   24h Volume    125 non-null    object \n",
            " 5   Owners        125 non-null    float64\n",
            " 6   24h Owners    125 non-null    object \n",
            " 7   Total Assets  125 non-null    float64\n",
            " 8   Owner Ratio   125 non-null    float64\n",
            "dtypes: float64(5), object(4)\n",
            "memory usage: 8.9+ KB\n"
          ]
        }
      ]
    },
    {
      "cell_type": "code",
      "source": [
        "df.head()"
      ],
      "metadata": {
        "id": "PP16xP7Pe1fP",
        "colab": {
          "base_uri": "https://localhost:8080/",
          "height": 206
        },
        "outputId": "65e62147-f860-43de-93e9-cf6d7bd3a581"
      },
      "execution_count": 104,
      "outputs": [
        {
          "output_type": "execute_result",
          "data": {
            "text/html": [
              "\n",
              "  <div id=\"df-704c1e88-7351-49e2-a415-5645a8fa692f\">\n",
              "    <div class=\"colab-df-container\">\n",
              "      <div>\n",
              "<style scoped>\n",
              "    .dataframe tbody tr th:only-of-type {\n",
              "        vertical-align: middle;\n",
              "    }\n",
              "\n",
              "    .dataframe tbody tr th {\n",
              "        vertical-align: top;\n",
              "    }\n",
              "\n",
              "    .dataframe thead th {\n",
              "        text-align: right;\n",
              "    }\n",
              "</style>\n",
              "<table border=\"1\" class=\"dataframe\">\n",
              "  <thead>\n",
              "    <tr style=\"text-align: right;\">\n",
              "      <th></th>\n",
              "      <th>NFT</th>\n",
              "      <th>Floor Price</th>\n",
              "      <th>24h(%)</th>\n",
              "      <th>Market Cap</th>\n",
              "      <th>24h Volume</th>\n",
              "      <th>Owners</th>\n",
              "      <th>24h Owners</th>\n",
              "      <th>Total Assets</th>\n",
              "      <th>Owner Ratio</th>\n",
              "    </tr>\n",
              "  </thead>\n",
              "  <tbody>\n",
              "    <tr>\n",
              "      <th>0</th>\n",
              "      <td>dotdotdots</td>\n",
              "      <td>0.0</td>\n",
              "      <td>0.6</td>\n",
              "      <td>974.0</td>\n",
              "      <td>8849.89</td>\n",
              "      <td>2648.0</td>\n",
              "      <td>0.0</td>\n",
              "      <td>4870.0</td>\n",
              "      <td>54.373717</td>\n",
              "    </tr>\n",
              "    <tr>\n",
              "      <th>1</th>\n",
              "      <td>Meebits</td>\n",
              "      <td>0.0</td>\n",
              "      <td>-7.8</td>\n",
              "      <td>58000.0</td>\n",
              "      <td>5229.36</td>\n",
              "      <td>5747.0</td>\n",
              "      <td>-0.1</td>\n",
              "      <td>20000.0</td>\n",
              "      <td>28.735000</td>\n",
              "    </tr>\n",
              "    <tr>\n",
              "      <th>2</th>\n",
              "      <td>Bored Ape Yacht Club</td>\n",
              "      <td>0.0</td>\n",
              "      <td>-7.3</td>\n",
              "      <td>950000.0</td>\n",
              "      <td>1360.59</td>\n",
              "      <td>6315.0</td>\n",
              "      <td>0.0</td>\n",
              "      <td>10000.0</td>\n",
              "      <td>63.150000</td>\n",
              "    </tr>\n",
              "    <tr>\n",
              "      <th>3</th>\n",
              "      <td>Azuki</td>\n",
              "      <td>0.0</td>\n",
              "      <td>-8.0</td>\n",
              "      <td>139900.0</td>\n",
              "      <td>1214.76</td>\n",
              "      <td>5403.0</td>\n",
              "      <td>-0.1</td>\n",
              "      <td>10000.0</td>\n",
              "      <td>54.030000</td>\n",
              "    </tr>\n",
              "    <tr>\n",
              "      <th>4</th>\n",
              "      <td>Mutant Ape Yacht Club</td>\n",
              "      <td>0.0</td>\n",
              "      <td>-7.4</td>\n",
              "      <td>337630.04</td>\n",
              "      <td>1115.09</td>\n",
              "      <td>11756.0</td>\n",
              "      <td>0.1</td>\n",
              "      <td>17960.0</td>\n",
              "      <td>65.456570</td>\n",
              "    </tr>\n",
              "  </tbody>\n",
              "</table>\n",
              "</div>\n",
              "      <button class=\"colab-df-convert\" onclick=\"convertToInteractive('df-704c1e88-7351-49e2-a415-5645a8fa692f')\"\n",
              "              title=\"Convert this dataframe to an interactive table.\"\n",
              "              style=\"display:none;\">\n",
              "        \n",
              "  <svg xmlns=\"http://www.w3.org/2000/svg\" height=\"24px\"viewBox=\"0 0 24 24\"\n",
              "       width=\"24px\">\n",
              "    <path d=\"M0 0h24v24H0V0z\" fill=\"none\"/>\n",
              "    <path d=\"M18.56 5.44l.94 2.06.94-2.06 2.06-.94-2.06-.94-.94-2.06-.94 2.06-2.06.94zm-11 1L8.5 8.5l.94-2.06 2.06-.94-2.06-.94L8.5 2.5l-.94 2.06-2.06.94zm10 10l.94 2.06.94-2.06 2.06-.94-2.06-.94-.94-2.06-.94 2.06-2.06.94z\"/><path d=\"M17.41 7.96l-1.37-1.37c-.4-.4-.92-.59-1.43-.59-.52 0-1.04.2-1.43.59L10.3 9.45l-7.72 7.72c-.78.78-.78 2.05 0 2.83L4 21.41c.39.39.9.59 1.41.59.51 0 1.02-.2 1.41-.59l7.78-7.78 2.81-2.81c.8-.78.8-2.07 0-2.86zM5.41 20L4 18.59l7.72-7.72 1.47 1.35L5.41 20z\"/>\n",
              "  </svg>\n",
              "      </button>\n",
              "      \n",
              "  <style>\n",
              "    .colab-df-container {\n",
              "      display:flex;\n",
              "      flex-wrap:wrap;\n",
              "      gap: 12px;\n",
              "    }\n",
              "\n",
              "    .colab-df-convert {\n",
              "      background-color: #E8F0FE;\n",
              "      border: none;\n",
              "      border-radius: 50%;\n",
              "      cursor: pointer;\n",
              "      display: none;\n",
              "      fill: #1967D2;\n",
              "      height: 32px;\n",
              "      padding: 0 0 0 0;\n",
              "      width: 32px;\n",
              "    }\n",
              "\n",
              "    .colab-df-convert:hover {\n",
              "      background-color: #E2EBFA;\n",
              "      box-shadow: 0px 1px 2px rgba(60, 64, 67, 0.3), 0px 1px 3px 1px rgba(60, 64, 67, 0.15);\n",
              "      fill: #174EA6;\n",
              "    }\n",
              "\n",
              "    [theme=dark] .colab-df-convert {\n",
              "      background-color: #3B4455;\n",
              "      fill: #D2E3FC;\n",
              "    }\n",
              "\n",
              "    [theme=dark] .colab-df-convert:hover {\n",
              "      background-color: #434B5C;\n",
              "      box-shadow: 0px 1px 3px 1px rgba(0, 0, 0, 0.15);\n",
              "      filter: drop-shadow(0px 1px 2px rgba(0, 0, 0, 0.3));\n",
              "      fill: #FFFFFF;\n",
              "    }\n",
              "  </style>\n",
              "\n",
              "      <script>\n",
              "        const buttonEl =\n",
              "          document.querySelector('#df-704c1e88-7351-49e2-a415-5645a8fa692f button.colab-df-convert');\n",
              "        buttonEl.style.display =\n",
              "          google.colab.kernel.accessAllowed ? 'block' : 'none';\n",
              "\n",
              "        async function convertToInteractive(key) {\n",
              "          const element = document.querySelector('#df-704c1e88-7351-49e2-a415-5645a8fa692f');\n",
              "          const dataTable =\n",
              "            await google.colab.kernel.invokeFunction('convertToInteractive',\n",
              "                                                     [key], {});\n",
              "          if (!dataTable) return;\n",
              "\n",
              "          const docLinkHtml = 'Like what you see? Visit the ' +\n",
              "            '<a target=\"_blank\" href=https://colab.research.google.com/notebooks/data_table.ipynb>data table notebook</a>'\n",
              "            + ' to learn more about interactive tables.';\n",
              "          element.innerHTML = '';\n",
              "          dataTable['output_type'] = 'display_data';\n",
              "          await google.colab.output.renderOutput(dataTable, element);\n",
              "          const docLink = document.createElement('div');\n",
              "          docLink.innerHTML = docLinkHtml;\n",
              "          element.appendChild(docLink);\n",
              "        }\n",
              "      </script>\n",
              "    </div>\n",
              "  </div>\n",
              "  "
            ],
            "text/plain": [
              "                     NFT  Floor Price  ...  Total Assets Owner Ratio\n",
              "0             dotdotdots          0.0  ...        4870.0   54.373717\n",
              "1                Meebits          0.0  ...       20000.0   28.735000\n",
              "2   Bored Ape Yacht Club          0.0  ...       10000.0   63.150000\n",
              "3                  Azuki          0.0  ...       10000.0   54.030000\n",
              "4  Mutant Ape Yacht Club          0.0  ...       17960.0   65.456570\n",
              "\n",
              "[5 rows x 9 columns]"
            ]
          },
          "metadata": {},
          "execution_count": 104
        }
      ]
    },
    {
      "cell_type": "code",
      "source": [
        "df.tail()"
      ],
      "metadata": {
        "colab": {
          "base_uri": "https://localhost:8080/",
          "height": 206
        },
        "id": "R_wmETqXadqs",
        "outputId": "03f61e85-b205-4508-a4bd-f946c3c7c930"
      },
      "execution_count": 105,
      "outputs": [
        {
          "output_type": "execute_result",
          "data": {
            "text/html": [
              "\n",
              "  <div id=\"df-5a5328bc-1d3c-4525-bf7a-a922519e3ac3\">\n",
              "    <div class=\"colab-df-container\">\n",
              "      <div>\n",
              "<style scoped>\n",
              "    .dataframe tbody tr th:only-of-type {\n",
              "        vertical-align: middle;\n",
              "    }\n",
              "\n",
              "    .dataframe tbody tr th {\n",
              "        vertical-align: top;\n",
              "    }\n",
              "\n",
              "    .dataframe thead th {\n",
              "        text-align: right;\n",
              "    }\n",
              "</style>\n",
              "<table border=\"1\" class=\"dataframe\">\n",
              "  <thead>\n",
              "    <tr style=\"text-align: right;\">\n",
              "      <th></th>\n",
              "      <th>NFT</th>\n",
              "      <th>Floor Price</th>\n",
              "      <th>24h(%)</th>\n",
              "      <th>Market Cap</th>\n",
              "      <th>24h Volume</th>\n",
              "      <th>Owners</th>\n",
              "      <th>24h Owners</th>\n",
              "      <th>Total Assets</th>\n",
              "      <th>Owner Ratio</th>\n",
              "    </tr>\n",
              "  </thead>\n",
              "  <tbody>\n",
              "    <tr>\n",
              "      <th>120</th>\n",
              "      <td>Cometh Spaceships</td>\n",
              "      <td>0.0</td>\n",
              "      <td>-4.5</td>\n",
              "      <td>794.99</td>\n",
              "      <td>0.07</td>\n",
              "      <td>683.0</td>\n",
              "      <td>0.1</td>\n",
              "      <td>11357.0</td>\n",
              "      <td>6.013912</td>\n",
              "    </tr>\n",
              "    <tr>\n",
              "      <th>121</th>\n",
              "      <td>Angry Apes United</td>\n",
              "      <td>0.0</td>\n",
              "      <td>45.5</td>\n",
              "      <td>311.08</td>\n",
              "      <td>0.07</td>\n",
              "      <td>4944.0</td>\n",
              "      <td>-0.0</td>\n",
              "      <td>8888.0</td>\n",
              "      <td>55.625563</td>\n",
              "    </tr>\n",
              "    <tr>\n",
              "      <th>122</th>\n",
              "      <td>Skullx</td>\n",
              "      <td>0.0</td>\n",
              "      <td>-4.5</td>\n",
              "      <td>280.0</td>\n",
              "      <td>0.03</td>\n",
              "      <td>2573.0</td>\n",
              "      <td>-0.1</td>\n",
              "      <td>10000.0</td>\n",
              "      <td>25.730000</td>\n",
              "    </tr>\n",
              "    <tr>\n",
              "      <th>123</th>\n",
              "      <td>Light Super Bunnies</td>\n",
              "      <td>0.0</td>\n",
              "      <td>-1.9</td>\n",
              "      <td>40.11</td>\n",
              "      <td>0.03</td>\n",
              "      <td>1719.0</td>\n",
              "      <td>0.0</td>\n",
              "      <td>4457.0</td>\n",
              "      <td>38.568544</td>\n",
              "    </tr>\n",
              "    <tr>\n",
              "      <th>124</th>\n",
              "      <td>Spookies</td>\n",
              "      <td>0.0</td>\n",
              "      <td>-4.4</td>\n",
              "      <td>88.88</td>\n",
              "      <td>0.02</td>\n",
              "      <td>2677.0</td>\n",
              "      <td>0.0</td>\n",
              "      <td>8888.0</td>\n",
              "      <td>30.119262</td>\n",
              "    </tr>\n",
              "  </tbody>\n",
              "</table>\n",
              "</div>\n",
              "      <button class=\"colab-df-convert\" onclick=\"convertToInteractive('df-5a5328bc-1d3c-4525-bf7a-a922519e3ac3')\"\n",
              "              title=\"Convert this dataframe to an interactive table.\"\n",
              "              style=\"display:none;\">\n",
              "        \n",
              "  <svg xmlns=\"http://www.w3.org/2000/svg\" height=\"24px\"viewBox=\"0 0 24 24\"\n",
              "       width=\"24px\">\n",
              "    <path d=\"M0 0h24v24H0V0z\" fill=\"none\"/>\n",
              "    <path d=\"M18.56 5.44l.94 2.06.94-2.06 2.06-.94-2.06-.94-.94-2.06-.94 2.06-2.06.94zm-11 1L8.5 8.5l.94-2.06 2.06-.94-2.06-.94L8.5 2.5l-.94 2.06-2.06.94zm10 10l.94 2.06.94-2.06 2.06-.94-2.06-.94-.94-2.06-.94 2.06-2.06.94z\"/><path d=\"M17.41 7.96l-1.37-1.37c-.4-.4-.92-.59-1.43-.59-.52 0-1.04.2-1.43.59L10.3 9.45l-7.72 7.72c-.78.78-.78 2.05 0 2.83L4 21.41c.39.39.9.59 1.41.59.51 0 1.02-.2 1.41-.59l7.78-7.78 2.81-2.81c.8-.78.8-2.07 0-2.86zM5.41 20L4 18.59l7.72-7.72 1.47 1.35L5.41 20z\"/>\n",
              "  </svg>\n",
              "      </button>\n",
              "      \n",
              "  <style>\n",
              "    .colab-df-container {\n",
              "      display:flex;\n",
              "      flex-wrap:wrap;\n",
              "      gap: 12px;\n",
              "    }\n",
              "\n",
              "    .colab-df-convert {\n",
              "      background-color: #E8F0FE;\n",
              "      border: none;\n",
              "      border-radius: 50%;\n",
              "      cursor: pointer;\n",
              "      display: none;\n",
              "      fill: #1967D2;\n",
              "      height: 32px;\n",
              "      padding: 0 0 0 0;\n",
              "      width: 32px;\n",
              "    }\n",
              "\n",
              "    .colab-df-convert:hover {\n",
              "      background-color: #E2EBFA;\n",
              "      box-shadow: 0px 1px 2px rgba(60, 64, 67, 0.3), 0px 1px 3px 1px rgba(60, 64, 67, 0.15);\n",
              "      fill: #174EA6;\n",
              "    }\n",
              "\n",
              "    [theme=dark] .colab-df-convert {\n",
              "      background-color: #3B4455;\n",
              "      fill: #D2E3FC;\n",
              "    }\n",
              "\n",
              "    [theme=dark] .colab-df-convert:hover {\n",
              "      background-color: #434B5C;\n",
              "      box-shadow: 0px 1px 3px 1px rgba(0, 0, 0, 0.15);\n",
              "      filter: drop-shadow(0px 1px 2px rgba(0, 0, 0, 0.3));\n",
              "      fill: #FFFFFF;\n",
              "    }\n",
              "  </style>\n",
              "\n",
              "      <script>\n",
              "        const buttonEl =\n",
              "          document.querySelector('#df-5a5328bc-1d3c-4525-bf7a-a922519e3ac3 button.colab-df-convert');\n",
              "        buttonEl.style.display =\n",
              "          google.colab.kernel.accessAllowed ? 'block' : 'none';\n",
              "\n",
              "        async function convertToInteractive(key) {\n",
              "          const element = document.querySelector('#df-5a5328bc-1d3c-4525-bf7a-a922519e3ac3');\n",
              "          const dataTable =\n",
              "            await google.colab.kernel.invokeFunction('convertToInteractive',\n",
              "                                                     [key], {});\n",
              "          if (!dataTable) return;\n",
              "\n",
              "          const docLinkHtml = 'Like what you see? Visit the ' +\n",
              "            '<a target=\"_blank\" href=https://colab.research.google.com/notebooks/data_table.ipynb>data table notebook</a>'\n",
              "            + ' to learn more about interactive tables.';\n",
              "          element.innerHTML = '';\n",
              "          dataTable['output_type'] = 'display_data';\n",
              "          await google.colab.output.renderOutput(dataTable, element);\n",
              "          const docLink = document.createElement('div');\n",
              "          docLink.innerHTML = docLinkHtml;\n",
              "          element.appendChild(docLink);\n",
              "        }\n",
              "      </script>\n",
              "    </div>\n",
              "  </div>\n",
              "  "
            ],
            "text/plain": [
              "                     NFT  Floor Price  ...  Total Assets Owner Ratio\n",
              "120    Cometh Spaceships          0.0  ...       11357.0    6.013912\n",
              "121    Angry Apes United          0.0  ...        8888.0   55.625563\n",
              "122               Skullx          0.0  ...       10000.0   25.730000\n",
              "123  Light Super Bunnies          0.0  ...        4457.0   38.568544\n",
              "124             Spookies          0.0  ...        8888.0   30.119262\n",
              "\n",
              "[5 rows x 9 columns]"
            ]
          },
          "metadata": {},
          "execution_count": 105
        }
      ]
    },
    {
      "cell_type": "code",
      "source": [
        "df.corr(method=\"pearson\")"
      ],
      "metadata": {
        "colab": {
          "base_uri": "https://localhost:8080/",
          "height": 206
        },
        "id": "1lCbXA44wpzu",
        "outputId": "fa6a4242-b43f-4b6a-a7ae-425837855d86"
      },
      "execution_count": 106,
      "outputs": [
        {
          "output_type": "execute_result",
          "data": {
            "text/html": [
              "\n",
              "  <div id=\"df-06c2ddb6-238f-4a4e-a89c-77c3651684fd\">\n",
              "    <div class=\"colab-df-container\">\n",
              "      <div>\n",
              "<style scoped>\n",
              "    .dataframe tbody tr th:only-of-type {\n",
              "        vertical-align: middle;\n",
              "    }\n",
              "\n",
              "    .dataframe tbody tr th {\n",
              "        vertical-align: top;\n",
              "    }\n",
              "\n",
              "    .dataframe thead th {\n",
              "        text-align: right;\n",
              "    }\n",
              "</style>\n",
              "<table border=\"1\" class=\"dataframe\">\n",
              "  <thead>\n",
              "    <tr style=\"text-align: right;\">\n",
              "      <th></th>\n",
              "      <th>Floor Price</th>\n",
              "      <th>24h(%)</th>\n",
              "      <th>Owners</th>\n",
              "      <th>Total Assets</th>\n",
              "      <th>Owner Ratio</th>\n",
              "    </tr>\n",
              "  </thead>\n",
              "  <tbody>\n",
              "    <tr>\n",
              "      <th>Floor Price</th>\n",
              "      <td>NaN</td>\n",
              "      <td>NaN</td>\n",
              "      <td>NaN</td>\n",
              "      <td>NaN</td>\n",
              "      <td>NaN</td>\n",
              "    </tr>\n",
              "    <tr>\n",
              "      <th>24h(%)</th>\n",
              "      <td>NaN</td>\n",
              "      <td>1.000000</td>\n",
              "      <td>0.006619</td>\n",
              "      <td>0.151141</td>\n",
              "      <td>0.350773</td>\n",
              "    </tr>\n",
              "    <tr>\n",
              "      <th>Owners</th>\n",
              "      <td>NaN</td>\n",
              "      <td>0.006619</td>\n",
              "      <td>1.000000</td>\n",
              "      <td>0.462886</td>\n",
              "      <td>0.030639</td>\n",
              "    </tr>\n",
              "    <tr>\n",
              "      <th>Total Assets</th>\n",
              "      <td>NaN</td>\n",
              "      <td>0.151141</td>\n",
              "      <td>0.462886</td>\n",
              "      <td>1.000000</td>\n",
              "      <td>-0.075766</td>\n",
              "    </tr>\n",
              "    <tr>\n",
              "      <th>Owner Ratio</th>\n",
              "      <td>NaN</td>\n",
              "      <td>0.350773</td>\n",
              "      <td>0.030639</td>\n",
              "      <td>-0.075766</td>\n",
              "      <td>1.000000</td>\n",
              "    </tr>\n",
              "  </tbody>\n",
              "</table>\n",
              "</div>\n",
              "      <button class=\"colab-df-convert\" onclick=\"convertToInteractive('df-06c2ddb6-238f-4a4e-a89c-77c3651684fd')\"\n",
              "              title=\"Convert this dataframe to an interactive table.\"\n",
              "              style=\"display:none;\">\n",
              "        \n",
              "  <svg xmlns=\"http://www.w3.org/2000/svg\" height=\"24px\"viewBox=\"0 0 24 24\"\n",
              "       width=\"24px\">\n",
              "    <path d=\"M0 0h24v24H0V0z\" fill=\"none\"/>\n",
              "    <path d=\"M18.56 5.44l.94 2.06.94-2.06 2.06-.94-2.06-.94-.94-2.06-.94 2.06-2.06.94zm-11 1L8.5 8.5l.94-2.06 2.06-.94-2.06-.94L8.5 2.5l-.94 2.06-2.06.94zm10 10l.94 2.06.94-2.06 2.06-.94-2.06-.94-.94-2.06-.94 2.06-2.06.94z\"/><path d=\"M17.41 7.96l-1.37-1.37c-.4-.4-.92-.59-1.43-.59-.52 0-1.04.2-1.43.59L10.3 9.45l-7.72 7.72c-.78.78-.78 2.05 0 2.83L4 21.41c.39.39.9.59 1.41.59.51 0 1.02-.2 1.41-.59l7.78-7.78 2.81-2.81c.8-.78.8-2.07 0-2.86zM5.41 20L4 18.59l7.72-7.72 1.47 1.35L5.41 20z\"/>\n",
              "  </svg>\n",
              "      </button>\n",
              "      \n",
              "  <style>\n",
              "    .colab-df-container {\n",
              "      display:flex;\n",
              "      flex-wrap:wrap;\n",
              "      gap: 12px;\n",
              "    }\n",
              "\n",
              "    .colab-df-convert {\n",
              "      background-color: #E8F0FE;\n",
              "      border: none;\n",
              "      border-radius: 50%;\n",
              "      cursor: pointer;\n",
              "      display: none;\n",
              "      fill: #1967D2;\n",
              "      height: 32px;\n",
              "      padding: 0 0 0 0;\n",
              "      width: 32px;\n",
              "    }\n",
              "\n",
              "    .colab-df-convert:hover {\n",
              "      background-color: #E2EBFA;\n",
              "      box-shadow: 0px 1px 2px rgba(60, 64, 67, 0.3), 0px 1px 3px 1px rgba(60, 64, 67, 0.15);\n",
              "      fill: #174EA6;\n",
              "    }\n",
              "\n",
              "    [theme=dark] .colab-df-convert {\n",
              "      background-color: #3B4455;\n",
              "      fill: #D2E3FC;\n",
              "    }\n",
              "\n",
              "    [theme=dark] .colab-df-convert:hover {\n",
              "      background-color: #434B5C;\n",
              "      box-shadow: 0px 1px 3px 1px rgba(0, 0, 0, 0.15);\n",
              "      filter: drop-shadow(0px 1px 2px rgba(0, 0, 0, 0.3));\n",
              "      fill: #FFFFFF;\n",
              "    }\n",
              "  </style>\n",
              "\n",
              "      <script>\n",
              "        const buttonEl =\n",
              "          document.querySelector('#df-06c2ddb6-238f-4a4e-a89c-77c3651684fd button.colab-df-convert');\n",
              "        buttonEl.style.display =\n",
              "          google.colab.kernel.accessAllowed ? 'block' : 'none';\n",
              "\n",
              "        async function convertToInteractive(key) {\n",
              "          const element = document.querySelector('#df-06c2ddb6-238f-4a4e-a89c-77c3651684fd');\n",
              "          const dataTable =\n",
              "            await google.colab.kernel.invokeFunction('convertToInteractive',\n",
              "                                                     [key], {});\n",
              "          if (!dataTable) return;\n",
              "\n",
              "          const docLinkHtml = 'Like what you see? Visit the ' +\n",
              "            '<a target=\"_blank\" href=https://colab.research.google.com/notebooks/data_table.ipynb>data table notebook</a>'\n",
              "            + ' to learn more about interactive tables.';\n",
              "          element.innerHTML = '';\n",
              "          dataTable['output_type'] = 'display_data';\n",
              "          await google.colab.output.renderOutput(dataTable, element);\n",
              "          const docLink = document.createElement('div');\n",
              "          docLink.innerHTML = docLinkHtml;\n",
              "          element.appendChild(docLink);\n",
              "        }\n",
              "      </script>\n",
              "    </div>\n",
              "  </div>\n",
              "  "
            ],
            "text/plain": [
              "              Floor Price    24h(%)    Owners  Total Assets  Owner Ratio\n",
              "Floor Price           NaN       NaN       NaN           NaN          NaN\n",
              "24h(%)                NaN  1.000000  0.006619      0.151141     0.350773\n",
              "Owners                NaN  0.006619  1.000000      0.462886     0.030639\n",
              "Total Assets          NaN  0.151141  0.462886      1.000000    -0.075766\n",
              "Owner Ratio           NaN  0.350773  0.030639     -0.075766     1.000000"
            ]
          },
          "metadata": {},
          "execution_count": 106
        }
      ]
    },
    {
      "cell_type": "code",
      "source": [
        "plt.figure(figsize=(14,10))\n",
        "heatmap = sns.heatmap(df.corr(), cmap=\"BuPu\", annot=True)\n",
        "heatmap.set_title('Correlation Heatmap', fontdict={'fontsize':18}, pad=12);"
      ],
      "metadata": {
        "colab": {
          "base_uri": "https://localhost:8080/",
          "height": 618
        },
        "id": "AsbnVcYjyVsy",
        "outputId": "91a64dec-5ef4-4c33-c077-71ffc972a925"
      },
      "execution_count": 107,
      "outputs": [
        {
          "output_type": "display_data",
          "data": {
            "image/png": "[encoded data removed]",
            "text/plain": [
              "<Figure size 1008x720 with 2 Axes>"
            ]
          },
          "metadata": {
            "needs_background": "light"
          }
        }
      ]
    },
    {
      "cell_type": "markdown",
      "source": [
        "##Análise de cada coluna:"
      ],
      "metadata": {
        "id": "ROnLSA7pe1xU"
      }
    },
    {
      "cell_type": "markdown",
      "source": [
        "###Floor Price:"
      ],
      "metadata": {
        "id": "0eq6pKY9xCIi"
      }
    },
    {
      "cell_type": "code",
      "source": [
        "df['Floor Price']"
      ],
      "metadata": {
        "id": "lyENhLtXftrB",
        "colab": {
          "base_uri": "https://localhost:8080/"
        },
        "outputId": "134c8669-7f58-4953-fb6d-b3629378457f"
      },
      "execution_count": 108,
      "outputs": [
        {
          "output_type": "execute_result",
          "data": {
            "text/plain": [
              "0      0.0\n",
              "1      0.0\n",
              "2      0.0\n",
              "3      0.0\n",
              "4      0.0\n",
              "      ... \n",
              "120    0.0\n",
              "121    0.0\n",
              "122    0.0\n",
              "123    0.0\n",
              "124    0.0\n",
              "Name: Floor Price, Length: 125, dtype: float64"
            ]
          },
          "metadata": {},
          "execution_count": 108
        }
      ]
    },
    {
      "cell_type": "code",
      "source": [
        "df['Floor Price'].describe()"
      ],
      "metadata": {
        "id": "CCa6ox0jftth",
        "colab": {
          "base_uri": "https://localhost:8080/"
        },
        "outputId": "fb77e687-1a6c-40d1-e6b5-da40f0143859"
      },
      "execution_count": 109,
      "outputs": [
        {
          "output_type": "execute_result",
          "data": {
            "text/plain": [
              "count    125.0\n",
              "mean       0.0\n",
              "std        0.0\n",
              "min        0.0\n",
              "25%        0.0\n",
              "50%        0.0\n",
              "75%        0.0\n",
              "max        0.0\n",
              "Name: Floor Price, dtype: float64"
            ]
          },
          "metadata": {},
          "execution_count": 109
        }
      ]
    },
    {
      "cell_type": "code",
      "source": [
        "df2 = df[df['Floor Price'] < 80]"
      ],
      "metadata": {
        "id": "cZXd5RYYvKXV"
      },
      "execution_count": 110,
      "outputs": []
    },
    {
      "cell_type": "code",
      "source": [
        "df2['Floor Price'].describe()"
      ],
      "metadata": {
        "colab": {
          "base_uri": "https://localhost:8080/"
        },
        "id": "5SvpGn46vbZY",
        "outputId": "81988982-8c77-4b7b-991f-14900a5373ed"
      },
      "execution_count": 111,
      "outputs": [
        {
          "output_type": "execute_result",
          "data": {
            "text/plain": [
              "count    125.0\n",
              "mean       0.0\n",
              "std        0.0\n",
              "min        0.0\n",
              "25%        0.0\n",
              "50%        0.0\n",
              "75%        0.0\n",
              "max        0.0\n",
              "Name: Floor Price, dtype: float64"
            ]
          },
          "metadata": {},
          "execution_count": 111
        }
      ]
    },
    {
      "cell_type": "code",
      "source": [
        "plt.figure(figsize=(12,6))\n",
        "df2.boxplot('Floor Price')\n",
        "plt.show()"
      ],
      "metadata": {
        "id": "keXhXAx8ftv8",
        "colab": {
          "base_uri": "https://localhost:8080/",
          "height": 374
        },
        "outputId": "2954c4a0-7d08-4f07-8848-7891b7807a99"
      },
      "execution_count": 112,
      "outputs": [
        {
          "output_type": "display_data",
          "data": {
            "image/png": "[encoded data removed]",
            "text/plain": [
              "<Figure size 864x432 with 1 Axes>"
            ]
          },
          "metadata": {
            "needs_background": "light"
          }
        }
      ]
    },
    {
      "cell_type": "markdown",
      "source": [
        "- Os dados estão concentrados por volta de 0 e 5 ETH. O que nos indica lançamentos baixos, exceto por alguns outliers discrepantes."
      ],
      "metadata": {
        "id": "5Tw1wf1TvjvW"
      }
    },
    {
      "cell_type": "markdown",
      "source": [
        "####Visualização dos dados:"
      ],
      "metadata": {
        "id": "-fb5XnfbviD2"
      }
    },
    {
      "cell_type": "code",
      "source": [
        "plt.figure(figsize=(12,6))\n",
        "sns.distplot(df['Floor Price'], bins=10)"
      ],
      "metadata": {
        "colab": {
          "base_uri": "https://localhost:8080/",
          "height": 495
        },
        "id": "duW9MbToqVvY",
        "outputId": "d9351e2d-71a3-444a-9b94-24a9e96b9d5d"
      },
      "execution_count": 113,
      "outputs": [
        {
          "output_type": "stream",
          "name": "stderr",
          "text": [
            "/usr/local/lib/python3.7/dist-packages/seaborn/distributions.py:2619: FutureWarning: `distplot` is a deprecated function and will be removed in a future version. Please adapt your code to use either `displot` (a figure-level function with similar flexibility) or `histplot` (an axes-level function for histograms).\n",
            "  warnings.warn(msg, FutureWarning)\n",
            "/usr/local/lib/python3.7/dist-packages/seaborn/distributions.py:316: UserWarning: Dataset has 0 variance; skipping density estimate. Pass `warn_singular=False` to disable this warning.\n",
            "  warnings.warn(msg, UserWarning)\n"
          ]
        },
        {
          "output_type": "execute_result",
          "data": {
            "text/plain": [
              "<matplotlib.axes._subplots.AxesSubplot at 0x7f709415e4d0>"
            ]
          },
          "metadata": {},
          "execution_count": 113
        },
        {
          "output_type": "display_data",
          "data": {
            "image/png": "[encoded data removed]",
            "text/plain": [
              "<Figure size 864x432 with 1 Axes>"
            ]
          },
          "metadata": {
            "needs_background": "light"
          }
        }
      ]
    },
    {
      "cell_type": "code",
      "source": [
        "plt.figure(figsize=(12,8))\n",
        "sns.kdeplot(df['Floor Price'])\n",
        "sns.rugplot(df['Floor Price'])"
      ],
      "metadata": {
        "colab": {
          "base_uri": "https://localhost:8080/",
          "height": 573
        },
        "id": "UYRCxJhnrH80",
        "outputId": "9f512157-90dc-4d1c-967f-bb178dd944c5"
      },
      "execution_count": 114,
      "outputs": [
        {
          "output_type": "stream",
          "name": "stderr",
          "text": [
            "/usr/local/lib/python3.7/dist-packages/seaborn/distributions.py:316: UserWarning: Dataset has 0 variance; skipping density estimate. Pass `warn_singular=False` to disable this warning.\n",
            "  warnings.warn(msg, UserWarning)\n"
          ]
        },
        {
          "output_type": "execute_result",
          "data": {
            "text/plain": [
              "<matplotlib.axes._subplots.AxesSubplot at 0x7f70940df590>"
            ]
          },
          "metadata": {},
          "execution_count": 114
        },
        {
          "output_type": "display_data",
          "data": {
            "image/png": "[encoded data removed]",
            "text/plain": [
              "<Figure size 864x576 with 1 Axes>"
            ]
          },
          "metadata": {
            "needs_background": "light"
          }
        }
      ]
    },
    {
      "cell_type": "code",
      "source": [
        "plt.figure(figsize=(12,8))\n",
        "sns.scatterplot(data=df['Floor Price'])"
      ],
      "metadata": {
        "colab": {
          "base_uri": "https://localhost:8080/",
          "height": 500
        },
        "id": "SoUCTB1Rr_gE",
        "outputId": "0ec6a13e-e4b5-435a-ce2d-7f95e533c43b"
      },
      "execution_count": 115,
      "outputs": [
        {
          "output_type": "execute_result",
          "data": {
            "text/plain": [
              "<matplotlib.axes._subplots.AxesSubplot at 0x7f70940df950>"
            ]
          },
          "metadata": {},
          "execution_count": 115
        },
        {
          "output_type": "display_data",
          "data": {
            "image/png": "[encoded data removed]",
            "text/plain": [
              "<Figure size 864x576 with 1 Axes>"
            ]
          },
          "metadata": {
            "needs_background": "light"
          }
        }
      ]
    },
    {
      "cell_type": "markdown",
      "source": [
        "###Variação nas últimas 24 horas:"
      ],
      "metadata": {
        "id": "kOqfOjfnzAsx"
      }
    },
    {
      "cell_type": "markdown",
      "source": [
        "- Essa coluna não nos informa muito sobre o dataset de um modo geral, visto que para termos uma informação de qualidade, sempre terá de ser dinâmica a relação mética fornecida nessa coluna, por isso as informações de estatística descritiva serão suficiente"
      ],
      "metadata": {
        "id": "FGFX790pzGOl"
      }
    },
    {
      "cell_type": "code",
      "source": [
        "df['24h(%)']"
      ],
      "metadata": {
        "colab": {
          "base_uri": "https://localhost:8080/"
        },
        "id": "NEcY_WbVzROy",
        "outputId": "479d60cc-49c2-4609-a14b-171a196a54a2"
      },
      "execution_count": 116,
      "outputs": [
        {
          "output_type": "execute_result",
          "data": {
            "text/plain": [
              "0       0.6\n",
              "1      -7.8\n",
              "2      -7.3\n",
              "3      -8.0\n",
              "4      -7.4\n",
              "       ... \n",
              "120    -4.5\n",
              "121    45.5\n",
              "122    -4.5\n",
              "123    -1.9\n",
              "124    -4.4\n",
              "Name: 24h(%), Length: 125, dtype: float64"
            ]
          },
          "metadata": {},
          "execution_count": 116
        }
      ]
    },
    {
      "cell_type": "code",
      "source": [
        "df[df['24h(%)'] == 904]"
      ],
      "metadata": {
        "colab": {
          "base_uri": "https://localhost:8080/",
          "height": 49
        },
        "id": "cnGI1w9-zZDF",
        "outputId": "a12e9167-bf1d-40a2-d619-e06ff3b7ab05"
      },
      "execution_count": 117,
      "outputs": [
        {
          "output_type": "execute_result",
          "data": {
            "text/html": [
              "\n",
              "  <div id=\"df-5dd78a9e-1a22-4f8a-9904-c5f12179579a\">\n",
              "    <div class=\"colab-df-container\">\n",
              "      <div>\n",
              "<style scoped>\n",
              "    .dataframe tbody tr th:only-of-type {\n",
              "        vertical-align: middle;\n",
              "    }\n",
              "\n",
              "    .dataframe tbody tr th {\n",
              "        vertical-align: top;\n",
              "    }\n",
              "\n",
              "    .dataframe thead th {\n",
              "        text-align: right;\n",
              "    }\n",
              "</style>\n",
              "<table border=\"1\" class=\"dataframe\">\n",
              "  <thead>\n",
              "    <tr style=\"text-align: right;\">\n",
              "      <th></th>\n",
              "      <th>NFT</th>\n",
              "      <th>Floor Price</th>\n",
              "      <th>24h(%)</th>\n",
              "      <th>Market Cap</th>\n",
              "      <th>24h Volume</th>\n",
              "      <th>Owners</th>\n",
              "      <th>24h Owners</th>\n",
              "      <th>Total Assets</th>\n",
              "      <th>Owner Ratio</th>\n",
              "    </tr>\n",
              "  </thead>\n",
              "  <tbody>\n",
              "  </tbody>\n",
              "</table>\n",
              "</div>\n",
              "      <button class=\"colab-df-convert\" onclick=\"convertToInteractive('df-5dd78a9e-1a22-4f8a-9904-c5f12179579a')\"\n",
              "              title=\"Convert this dataframe to an interactive table.\"\n",
              "              style=\"display:none;\">\n",
              "        \n",
              "  <svg xmlns=\"http://www.w3.org/2000/svg\" height=\"24px\"viewBox=\"0 0 24 24\"\n",
              "       width=\"24px\">\n",
              "    <path d=\"M0 0h24v24H0V0z\" fill=\"none\"/>\n",
              "    <path d=\"M18.56 5.44l.94 2.06.94-2.06 2.06-.94-2.06-.94-.94-2.06-.94 2.06-2.06.94zm-11 1L8.5 8.5l.94-2.06 2.06-.94-2.06-.94L8.5 2.5l-.94 2.06-2.06.94zm10 10l.94 2.06.94-2.06 2.06-.94-2.06-.94-.94-2.06-.94 2.06-2.06.94z\"/><path d=\"M17.41 7.96l-1.37-1.37c-.4-.4-.92-.59-1.43-.59-.52 0-1.04.2-1.43.59L10.3 9.45l-7.72 7.72c-.78.78-.78 2.05 0 2.83L4 21.41c.39.39.9.59 1.41.59.51 0 1.02-.2 1.41-.59l7.78-7.78 2.81-2.81c.8-.78.8-2.07 0-2.86zM5.41 20L4 18.59l7.72-7.72 1.47 1.35L5.41 20z\"/>\n",
              "  </svg>\n",
              "      </button>\n",
              "      \n",
              "  <style>\n",
              "    .colab-df-container {\n",
              "      display:flex;\n",
              "      flex-wrap:wrap;\n",
              "      gap: 12px;\n",
              "    }\n",
              "\n",
              "    .colab-df-convert {\n",
              "      background-color: #E8F0FE;\n",
              "      border: none;\n",
              "      border-radius: 50%;\n",
              "      cursor: pointer;\n",
              "      display: none;\n",
              "      fill: #1967D2;\n",
              "      height: 32px;\n",
              "      padding: 0 0 0 0;\n",
              "      width: 32px;\n",
              "    }\n",
              "\n",
              "    .colab-df-convert:hover {\n",
              "      background-color: #E2EBFA;\n",
              "      box-shadow: 0px 1px 2px rgba(60, 64, 67, 0.3), 0px 1px 3px 1px rgba(60, 64, 67, 0.15);\n",
              "      fill: #174EA6;\n",
              "    }\n",
              "\n",
              "    [theme=dark] .colab-df-convert {\n",
              "      background-color: #3B4455;\n",
              "      fill: #D2E3FC;\n",
              "    }\n",
              "\n",
              "    [theme=dark] .colab-df-convert:hover {\n",
              "      background-color: #434B5C;\n",
              "      box-shadow: 0px 1px 3px 1px rgba(0, 0, 0, 0.15);\n",
              "      filter: drop-shadow(0px 1px 2px rgba(0, 0, 0, 0.3));\n",
              "      fill: #FFFFFF;\n",
              "    }\n",
              "  </style>\n",
              "\n",
              "      <script>\n",
              "        const buttonEl =\n",
              "          document.querySelector('#df-5dd78a9e-1a22-4f8a-9904-c5f12179579a button.colab-df-convert');\n",
              "        buttonEl.style.display =\n",
              "          google.colab.kernel.accessAllowed ? 'block' : 'none';\n",
              "\n",
              "        async function convertToInteractive(key) {\n",
              "          const element = document.querySelector('#df-5dd78a9e-1a22-4f8a-9904-c5f12179579a');\n",
              "          const dataTable =\n",
              "            await google.colab.kernel.invokeFunction('convertToInteractive',\n",
              "                                                     [key], {});\n",
              "          if (!dataTable) return;\n",
              "\n",
              "          const docLinkHtml = 'Like what you see? Visit the ' +\n",
              "            '<a target=\"_blank\" href=https://colab.research.google.com/notebooks/data_table.ipynb>data table notebook</a>'\n",
              "            + ' to learn more about interactive tables.';\n",
              "          element.innerHTML = '';\n",
              "          dataTable['output_type'] = 'display_data';\n",
              "          await google.colab.output.renderOutput(dataTable, element);\n",
              "          const docLink = document.createElement('div');\n",
              "          docLink.innerHTML = docLinkHtml;\n",
              "          element.appendChild(docLink);\n",
              "        }\n",
              "      </script>\n",
              "    </div>\n",
              "  </div>\n",
              "  "
            ],
            "text/plain": [
              "Empty DataFrame\n",
              "Columns: [NFT, Floor Price, 24h(%), Market Cap, 24h Volume, Owners, 24h Owners, Total Assets, Owner Ratio]\n",
              "Index: []"
            ]
          },
          "metadata": {},
          "execution_count": 117
        }
      ]
    },
    {
      "cell_type": "markdown",
      "source": [
        "- É possível sabermos os NFTs que tem um crescimento nas últimas 24 horas acima da média:"
      ],
      "metadata": {
        "id": "wPEfFafdzkVp"
      }
    },
    {
      "cell_type": "code",
      "source": [
        "df_mean24h = df[df['24h(%)'] > df['24h(%)'].mean() ]"
      ],
      "metadata": {
        "id": "TsZETMknzjzd"
      },
      "execution_count": 118,
      "outputs": []
    },
    {
      "cell_type": "code",
      "source": [
        "df_mean24h.describe()"
      ],
      "metadata": {
        "colab": {
          "base_uri": "https://localhost:8080/",
          "height": 300
        },
        "id": "wsTBz0uwz2RE",
        "outputId": "6c0927df-28c0-4cdd-8f80-82f8feb8991b"
      },
      "execution_count": 119,
      "outputs": [
        {
          "output_type": "execute_result",
          "data": {
            "text/html": [
              "\n",
              "  <div id=\"df-c81e4e9c-70b8-451f-bda4-acc707284311\">\n",
              "    <div class=\"colab-df-container\">\n",
              "      <div>\n",
              "<style scoped>\n",
              "    .dataframe tbody tr th:only-of-type {\n",
              "        vertical-align: middle;\n",
              "    }\n",
              "\n",
              "    .dataframe tbody tr th {\n",
              "        vertical-align: top;\n",
              "    }\n",
              "\n",
              "    .dataframe thead th {\n",
              "        text-align: right;\n",
              "    }\n",
              "</style>\n",
              "<table border=\"1\" class=\"dataframe\">\n",
              "  <thead>\n",
              "    <tr style=\"text-align: right;\">\n",
              "      <th></th>\n",
              "      <th>Floor Price</th>\n",
              "      <th>24h(%)</th>\n",
              "      <th>Owners</th>\n",
              "      <th>Total Assets</th>\n",
              "      <th>Owner Ratio</th>\n",
              "    </tr>\n",
              "  </thead>\n",
              "  <tbody>\n",
              "    <tr>\n",
              "      <th>count</th>\n",
              "      <td>39.0</td>\n",
              "      <td>39.000000</td>\n",
              "      <td>39.000000</td>\n",
              "      <td>39.000000</td>\n",
              "      <td>39.000000</td>\n",
              "    </tr>\n",
              "    <tr>\n",
              "      <th>mean</th>\n",
              "      <td>0.0</td>\n",
              "      <td>17.305128</td>\n",
              "      <td>4201.717949</td>\n",
              "      <td>9650.179487</td>\n",
              "      <td>2678.390849</td>\n",
              "    </tr>\n",
              "    <tr>\n",
              "      <th>std</th>\n",
              "      <td>0.0</td>\n",
              "      <td>32.160935</td>\n",
              "      <td>4987.824428</td>\n",
              "      <td>7290.243711</td>\n",
              "      <td>15266.467075</td>\n",
              "    </tr>\n",
              "    <tr>\n",
              "      <th>min</th>\n",
              "      <td>0.0</td>\n",
              "      <td>-1.200000</td>\n",
              "      <td>481.000000</td>\n",
              "      <td>3.000000</td>\n",
              "      <td>4.810000</td>\n",
              "    </tr>\n",
              "    <tr>\n",
              "      <th>25%</th>\n",
              "      <td>0.0</td>\n",
              "      <td>1.100000</td>\n",
              "      <td>2675.000000</td>\n",
              "      <td>8462.500000</td>\n",
              "      <td>30.403947</td>\n",
              "    </tr>\n",
              "    <tr>\n",
              "      <th>50%</th>\n",
              "      <td>0.0</td>\n",
              "      <td>5.000000</td>\n",
              "      <td>3401.000000</td>\n",
              "      <td>9995.000000</td>\n",
              "      <td>39.565466</td>\n",
              "    </tr>\n",
              "    <tr>\n",
              "      <th>75%</th>\n",
              "      <td>0.0</td>\n",
              "      <td>15.050000</td>\n",
              "      <td>4638.500000</td>\n",
              "      <td>10000.000000</td>\n",
              "      <td>51.261027</td>\n",
              "    </tr>\n",
              "    <tr>\n",
              "      <th>max</th>\n",
              "      <td>0.0</td>\n",
              "      <td>167.400000</td>\n",
              "      <td>32732.000000</td>\n",
              "      <td>46169.000000</td>\n",
              "      <td>95266.666667</td>\n",
              "    </tr>\n",
              "  </tbody>\n",
              "</table>\n",
              "</div>\n",
              "      <button class=\"colab-df-convert\" onclick=\"convertToInteractive('df-c81e4e9c-70b8-451f-bda4-acc707284311')\"\n",
              "              title=\"Convert this dataframe to an interactive table.\"\n",
              "              style=\"display:none;\">\n",
              "        \n",
              "  <svg xmlns=\"http://www.w3.org/2000/svg\" height=\"24px\"viewBox=\"0 0 24 24\"\n",
              "       width=\"24px\">\n",
              "    <path d=\"M0 0h24v24H0V0z\" fill=\"none\"/>\n",
              "    <path d=\"M18.56 5.44l.94 2.06.94-2.06 2.06-.94-2.06-.94-.94-2.06-.94 2.06-2.06.94zm-11 1L8.5 8.5l.94-2.06 2.06-.94-2.06-.94L8.5 2.5l-.94 2.06-2.06.94zm10 10l.94 2.06.94-2.06 2.06-.94-2.06-.94-.94-2.06-.94 2.06-2.06.94z\"/><path d=\"M17.41 7.96l-1.37-1.37c-.4-.4-.92-.59-1.43-.59-.52 0-1.04.2-1.43.59L10.3 9.45l-7.72 7.72c-.78.78-.78 2.05 0 2.83L4 21.41c.39.39.9.59 1.41.59.51 0 1.02-.2 1.41-.59l7.78-7.78 2.81-2.81c.8-.78.8-2.07 0-2.86zM5.41 20L4 18.59l7.72-7.72 1.47 1.35L5.41 20z\"/>\n",
              "  </svg>\n",
              "      </button>\n",
              "      \n",
              "  <style>\n",
              "    .colab-df-container {\n",
              "      display:flex;\n",
              "      flex-wrap:wrap;\n",
              "      gap: 12px;\n",
              "    }\n",
              "\n",
              "    .colab-df-convert {\n",
              "      background-color: #E8F0FE;\n",
              "      border: none;\n",
              "      border-radius: 50%;\n",
              "      cursor: pointer;\n",
              "      display: none;\n",
              "      fill: #1967D2;\n",
              "      height: 32px;\n",
              "      padding: 0 0 0 0;\n",
              "      width: 32px;\n",
              "    }\n",
              "\n",
              "    .colab-df-convert:hover {\n",
              "      background-color: #E2EBFA;\n",
              "      box-shadow: 0px 1px 2px rgba(60, 64, 67, 0.3), 0px 1px 3px 1px rgba(60, 64, 67, 0.15);\n",
              "      fill: #174EA6;\n",
              "    }\n",
              "\n",
              "    [theme=dark] .colab-df-convert {\n",
              "      background-color: #3B4455;\n",
              "      fill: #D2E3FC;\n",
              "    }\n",
              "\n",
              "    [theme=dark] .colab-df-convert:hover {\n",
              "      background-color: #434B5C;\n",
              "      box-shadow: 0px 1px 3px 1px rgba(0, 0, 0, 0.15);\n",
              "      filter: drop-shadow(0px 1px 2px rgba(0, 0, 0, 0.3));\n",
              "      fill: #FFFFFF;\n",
              "    }\n",
              "  </style>\n",
              "\n",
              "      <script>\n",
              "        const buttonEl =\n",
              "          document.querySelector('#df-c81e4e9c-70b8-451f-bda4-acc707284311 button.colab-df-convert');\n",
              "        buttonEl.style.display =\n",
              "          google.colab.kernel.accessAllowed ? 'block' : 'none';\n",
              "\n",
              "        async function convertToInteractive(key) {\n",
              "          const element = document.querySelector('#df-c81e4e9c-70b8-451f-bda4-acc707284311');\n",
              "          const dataTable =\n",
              "            await google.colab.kernel.invokeFunction('convertToInteractive',\n",
              "                                                     [key], {});\n",
              "          if (!dataTable) return;\n",
              "\n",
              "          const docLinkHtml = 'Like what you see? Visit the ' +\n",
              "            '<a target=\"_blank\" href=https://colab.research.google.com/notebooks/data_table.ipynb>data table notebook</a>'\n",
              "            + ' to learn more about interactive tables.';\n",
              "          element.innerHTML = '';\n",
              "          dataTable['output_type'] = 'display_data';\n",
              "          await google.colab.output.renderOutput(dataTable, element);\n",
              "          const docLink = document.createElement('div');\n",
              "          docLink.innerHTML = docLinkHtml;\n",
              "          element.appendChild(docLink);\n",
              "        }\n",
              "      </script>\n",
              "    </div>\n",
              "  </div>\n",
              "  "
            ],
            "text/plain": [
              "       Floor Price      24h(%)        Owners  Total Assets   Owner Ratio\n",
              "count         39.0   39.000000     39.000000     39.000000     39.000000\n",
              "mean           0.0   17.305128   4201.717949   9650.179487   2678.390849\n",
              "std            0.0   32.160935   4987.824428   7290.243711  15266.467075\n",
              "min            0.0   -1.200000    481.000000      3.000000      4.810000\n",
              "25%            0.0    1.100000   2675.000000   8462.500000     30.403947\n",
              "50%            0.0    5.000000   3401.000000   9995.000000     39.565466\n",
              "75%            0.0   15.050000   4638.500000  10000.000000     51.261027\n",
              "max            0.0  167.400000  32732.000000  46169.000000  95266.666667"
            ]
          },
          "metadata": {},
          "execution_count": 119
        }
      ]
    },
    {
      "cell_type": "markdown",
      "source": [
        "Essas informações são bem interessantes:\n",
        "- Se olhar o count do df_mean24h['Floor Price'], veremos que X NFTs dos 125 tem crescimento das últimas 24 horas acima da média\n",
        "- Assim como mean do df_mean24h['Floor Price'] nos indicará Y ETH é a média do Floor Price"
      ],
      "metadata": {
        "id": "YUogrghKz6DA"
      }
    },
    {
      "cell_type": "markdown",
      "source": [
        "####Visualização de dados:"
      ],
      "metadata": {
        "id": "oYN7Zujh1eAf"
      }
    },
    {
      "cell_type": "code",
      "source": [
        "plt.figure(figsize=(12,6))\n",
        "df.boxplot('24h(%)')\n",
        "plt.show()"
      ],
      "metadata": {
        "colab": {
          "base_uri": "https://localhost:8080/",
          "height": 374
        },
        "id": "g6FDFJ2L1f8J",
        "outputId": "6a381c19-db7b-4735-fa56-be249e14f78c"
      },
      "execution_count": 120,
      "outputs": [
        {
          "output_type": "display_data",
          "data": {
            "image/png": "[encoded data removed]",
            "text/plain": [
              "<Figure size 864x432 with 1 Axes>"
            ]
          },
          "metadata": {
            "needs_background": "light"
          }
        }
      ]
    },
    {
      "cell_type": "code",
      "source": [
        "plt.figure(figsize=(12,6))\n",
        "df_mean24h.boxplot('24h(%)')\n",
        "plt.show()"
      ],
      "metadata": {
        "id": "RfvH0-Ku1ptc",
        "colab": {
          "base_uri": "https://localhost:8080/",
          "height": 377
        },
        "outputId": "e6c84d25-beda-4c5b-e774-8dc256b7a097"
      },
      "execution_count": 121,
      "outputs": [
        {
          "output_type": "display_data",
          "data": {
            "image/png": "[encoded data removed]",
            "text/plain": [
              "<Figure size 864x432 with 1 Axes>"
            ]
          },
          "metadata": {
            "needs_background": "light"
          }
        }
      ]
    },
    {
      "cell_type": "code",
      "source": [
        "plt.figure(figsize=(12,6))\n",
        "sns.distplot(df_mean24h['24h(%)'], bins=10)"
      ],
      "metadata": {
        "id": "QEGVXaEA1urS",
        "colab": {
          "base_uri": "https://localhost:8080/",
          "height": 460
        },
        "outputId": "78b07a1f-5890-40f7-e287-61c8628b9032"
      },
      "execution_count": 122,
      "outputs": [
        {
          "output_type": "stream",
          "name": "stderr",
          "text": [
            "/usr/local/lib/python3.7/dist-packages/seaborn/distributions.py:2619: FutureWarning: `distplot` is a deprecated function and will be removed in a future version. Please adapt your code to use either `displot` (a figure-level function with similar flexibility) or `histplot` (an axes-level function for histograms).\n",
            "  warnings.warn(msg, FutureWarning)\n"
          ]
        },
        {
          "output_type": "execute_result",
          "data": {
            "text/plain": [
              "<matplotlib.axes._subplots.AxesSubplot at 0x7f7093ee0f90>"
            ]
          },
          "metadata": {},
          "execution_count": 122
        },
        {
          "output_type": "display_data",
          "data": {
            "image/png": "[encoded data removed]",
            "text/plain": [
              "<Figure size 864x432 with 1 Axes>"
            ]
          },
          "metadata": {
            "needs_background": "light"
          }
        }
      ]
    },
    {
      "cell_type": "code",
      "source": [
        "plt.figure(figsize=(12,8))\n",
        "sns.kdeplot(df_mean24h['24h(%)'])\n",
        "sns.rugplot(df_mean24h['24h(%)'])"
      ],
      "metadata": {
        "id": "h_8gi2--1uuB",
        "colab": {
          "base_uri": "https://localhost:8080/",
          "height": 514
        },
        "outputId": "fb90475c-520b-4c25-dd9d-d1cc103f22b8"
      },
      "execution_count": 123,
      "outputs": [
        {
          "output_type": "execute_result",
          "data": {
            "text/plain": [
              "<matplotlib.axes._subplots.AxesSubplot at 0x7f7091e41490>"
            ]
          },
          "metadata": {},
          "execution_count": 123
        },
        {
          "output_type": "display_data",
          "data": {
            "image/png": "[encoded data removed]",
            "text/plain": [
              "<Figure size 864x576 with 1 Axes>"
            ]
          },
          "metadata": {
            "needs_background": "light"
          }
        }
      ]
    },
    {
      "cell_type": "code",
      "source": [
        "plt.figure(figsize=(12,8))\n",
        "sns.scatterplot(data=df_mean24h['24h(%)'])"
      ],
      "metadata": {
        "id": "DliypXLn1uw4",
        "colab": {
          "base_uri": "https://localhost:8080/",
          "height": 502
        },
        "outputId": "51e750b9-8a9f-49ac-ed8f-8661f5ced6ef"
      },
      "execution_count": 124,
      "outputs": [
        {
          "output_type": "execute_result",
          "data": {
            "text/plain": [
              "<matplotlib.axes._subplots.AxesSubplot at 0x7f7091df04d0>"
            ]
          },
          "metadata": {},
          "execution_count": 124
        },
        {
          "output_type": "display_data",
          "data": {
            "image/png": "[encoded data removed]",
            "text/plain": [
              "<Figure size 864x576 with 1 Axes>"
            ]
          },
          "metadata": {
            "needs_background": "light"
          }
        }
      ]
    },
    {
      "cell_type": "markdown",
      "source": [
        "- O Floor Price desses projetos com crescimento acima da média:"
      ],
      "metadata": {
        "id": "FBj5IBs42dIg"
      }
    },
    {
      "cell_type": "code",
      "source": [
        "plt.figure(figsize=(12,6))\n",
        "sns.distplot(df_mean24h['Floor Price'], bins=10)"
      ],
      "metadata": {
        "id": "9bahSerN2jTd",
        "colab": {
          "base_uri": "https://localhost:8080/",
          "height": 495
        },
        "outputId": "3d7af281-0bd0-49b5-bd95-9551608680fb"
      },
      "execution_count": 125,
      "outputs": [
        {
          "output_type": "stream",
          "name": "stderr",
          "text": [
            "/usr/local/lib/python3.7/dist-packages/seaborn/distributions.py:2619: FutureWarning: `distplot` is a deprecated function and will be removed in a future version. Please adapt your code to use either `displot` (a figure-level function with similar flexibility) or `histplot` (an axes-level function for histograms).\n",
            "  warnings.warn(msg, FutureWarning)\n",
            "/usr/local/lib/python3.7/dist-packages/seaborn/distributions.py:316: UserWarning: Dataset has 0 variance; skipping density estimate. Pass `warn_singular=False` to disable this warning.\n",
            "  warnings.warn(msg, UserWarning)\n"
          ]
        },
        {
          "output_type": "execute_result",
          "data": {
            "text/plain": [
              "<matplotlib.axes._subplots.AxesSubplot at 0x7f7091da00d0>"
            ]
          },
          "metadata": {},
          "execution_count": 125
        },
        {
          "output_type": "display_data",
          "data": {
            "image/png": "[encoded data removed]",
            "text/plain": [
              "<Figure size 864x432 with 1 Axes>"
            ]
          },
          "metadata": {
            "needs_background": "light"
          }
        }
      ]
    },
    {
      "cell_type": "code",
      "source": [
        "plt.figure(figsize=(12,8))\n",
        "sns.kdeplot(df_mean24h['Floor Price'])\n",
        "sns.rugplot(df_mean24h['Floor Price'])"
      ],
      "metadata": {
        "id": "N3KV2i-_2jdH",
        "colab": {
          "base_uri": "https://localhost:8080/",
          "height": 573
        },
        "outputId": "46b0abdd-a02c-4b8d-8658-68afe939c3b1"
      },
      "execution_count": 126,
      "outputs": [
        {
          "output_type": "stream",
          "name": "stderr",
          "text": [
            "/usr/local/lib/python3.7/dist-packages/seaborn/distributions.py:316: UserWarning: Dataset has 0 variance; skipping density estimate. Pass `warn_singular=False` to disable this warning.\n",
            "  warnings.warn(msg, UserWarning)\n"
          ]
        },
        {
          "output_type": "execute_result",
          "data": {
            "text/plain": [
              "<matplotlib.axes._subplots.AxesSubplot at 0x7f7093f17a50>"
            ]
          },
          "metadata": {},
          "execution_count": 126
        },
        {
          "output_type": "display_data",
          "data": {
            "image/png": "[encoded data removed]",
            "text/plain": [
              "<Figure size 864x576 with 1 Axes>"
            ]
          },
          "metadata": {
            "needs_background": "light"
          }
        }
      ]
    },
    {
      "cell_type": "markdown",
      "source": [
        ""
      ],
      "metadata": {
        "id": "t1WMH9fO28uW"
      }
    },
    {
      "cell_type": "markdown",
      "source": [
        "###Market Cap:"
      ],
      "metadata": {
        "id": "mZsHwtmO2_s-"
      }
    },
    {
      "cell_type": "code",
      "source": [
        "df['Market Cap'] = df['Market Cap'].astype(float)"
      ],
      "metadata": {
        "id": "DfPqr9HR4Rzr"
      },
      "execution_count": 127,
      "outputs": []
    },
    {
      "cell_type": "code",
      "source": [
        "df['Market Cap'].describe()"
      ],
      "metadata": {
        "colab": {
          "base_uri": "https://localhost:8080/"
        },
        "id": "Drg2TDnD884z",
        "outputId": "40efc1f7-b740-48a8-b78e-2dfb7bd55eac"
      },
      "execution_count": 128,
      "outputs": [
        {
          "output_type": "execute_result",
          "data": {
            "text/plain": [
              "count       125.000000\n",
              "mean      33928.527520\n",
              "std      120917.153569\n",
              "min           2.530000\n",
              "25%         755.480000\n",
              "50%        2500.000000\n",
              "75%       12800.000000\n",
              "max      950000.000000\n",
              "Name: Market Cap, dtype: float64"
            ]
          },
          "metadata": {},
          "execution_count": 128
        }
      ]
    },
    {
      "cell_type": "code",
      "source": [
        "plt.figure(figsize=(12,6))\n",
        "df.boxplot('Market Cap')\n",
        "plt.show()"
      ],
      "metadata": {
        "colab": {
          "base_uri": "https://localhost:8080/",
          "height": 374
        },
        "id": "YgbXwsKI887b",
        "outputId": "15c72b6b-5efe-4c13-b033-b40f2447c9e6"
      },
      "execution_count": 129,
      "outputs": [
        {
          "output_type": "display_data",
          "data": {
            "image/png": "[encoded data removed]",
            "text/plain": [
              "<Figure size 864x432 with 1 Axes>"
            ]
          },
          "metadata": {
            "needs_background": "light"
          }
        }
      ]
    },
    {
      "cell_type": "markdown",
      "source": [
        "####Visualização de dados:"
      ],
      "metadata": {
        "id": "q7IUJ5E__FUd"
      }
    },
    {
      "cell_type": "code",
      "source": [
        "plt.figure(figsize=(12,8))\n",
        "sns.scatterplot(data=df['Market Cap'])"
      ],
      "metadata": {
        "colab": {
          "base_uri": "https://localhost:8080/",
          "height": 500
        },
        "id": "B7u5J8Is_HCg",
        "outputId": "3db2c945-712c-4d66-df84-9f6fcd3d7b41"
      },
      "execution_count": 130,
      "outputs": [
        {
          "output_type": "execute_result",
          "data": {
            "text/plain": [
              "<matplotlib.axes._subplots.AxesSubplot at 0x7f7096953950>"
            ]
          },
          "metadata": {},
          "execution_count": 130
        },
        {
          "output_type": "display_data",
          "data": {
            "image/png": "[encoded data removed]",
            "text/plain": [
              "<Figure size 864x576 with 1 Axes>"
            ]
          },
          "metadata": {
            "needs_background": "light"
          }
        }
      ]
    },
    {
      "cell_type": "code",
      "source": [
        "plt.figure(figsize=(12,6))\n",
        "sns.distplot(df['Market Cap'], bins=10)"
      ],
      "metadata": {
        "colab": {
          "base_uri": "https://localhost:8080/",
          "height": 471
        },
        "id": "ZKhYujrW889_",
        "outputId": "e43b04ad-2aa7-48d7-d28b-6ddf466d57b7"
      },
      "execution_count": 131,
      "outputs": [
        {
          "output_type": "stream",
          "name": "stderr",
          "text": [
            "/usr/local/lib/python3.7/dist-packages/seaborn/distributions.py:2619: FutureWarning: `distplot` is a deprecated function and will be removed in a future version. Please adapt your code to use either `displot` (a figure-level function with similar flexibility) or `histplot` (an axes-level function for histograms).\n",
            "  warnings.warn(msg, FutureWarning)\n"
          ]
        },
        {
          "output_type": "execute_result",
          "data": {
            "text/plain": [
              "<matplotlib.axes._subplots.AxesSubplot at 0x7f7091dc6f50>"
            ]
          },
          "metadata": {},
          "execution_count": 131
        },
        {
          "output_type": "display_data",
          "data": {
            "image/png": "[encoded data removed]",
            "text/plain": [
              "<Figure size 864x432 with 1 Axes>"
            ]
          },
          "metadata": {
            "needs_background": "light"
          }
        }
      ]
    },
    {
      "cell_type": "code",
      "source": [
        "plt.figure(figsize=(12,8))\n",
        "sns.kdeplot(df['Market Cap'])\n",
        "sns.rugplot(df['Market Cap'])"
      ],
      "metadata": {
        "colab": {
          "base_uri": "https://localhost:8080/",
          "height": 525
        },
        "id": "TikQ4hA8_HE1",
        "outputId": "2e5bf2a4-6705-4e1f-d6e4-8e30cd7e0d82"
      },
      "execution_count": 132,
      "outputs": [
        {
          "output_type": "execute_result",
          "data": {
            "text/plain": [
              "<matplotlib.axes._subplots.AxesSubplot at 0x7f7091c8d710>"
            ]
          },
          "metadata": {},
          "execution_count": 132
        },
        {
          "output_type": "display_data",
          "data": {
            "image/png": "[encoded data removed]",
            "text/plain": [
              "<Figure size 864x576 with 1 Axes>"
            ]
          },
          "metadata": {
            "needs_background": "light"
          }
        }
      ]
    },
    {
      "cell_type": "code",
      "source": [
        "df[df['Market Cap'] < 13587].describe()"
      ],
      "metadata": {
        "colab": {
          "base_uri": "https://localhost:8080/",
          "height": 300
        },
        "id": "0JnvtffW_HHV",
        "outputId": "a7d55150-0fcd-4eaf-ab89-d6c9cb77a97a"
      },
      "execution_count": 133,
      "outputs": [
        {
          "output_type": "execute_result",
          "data": {
            "text/html": [
              "\n",
              "  <div id=\"df-051239a3-35e3-47bf-838a-6fa30298f4fc\">\n",
              "    <div class=\"colab-df-container\">\n",
              "      <div>\n",
              "<style scoped>\n",
              "    .dataframe tbody tr th:only-of-type {\n",
              "        vertical-align: middle;\n",
              "    }\n",
              "\n",
              "    .dataframe tbody tr th {\n",
              "        vertical-align: top;\n",
              "    }\n",
              "\n",
              "    .dataframe thead th {\n",
              "        text-align: right;\n",
              "    }\n",
              "</style>\n",
              "<table border=\"1\" class=\"dataframe\">\n",
              "  <thead>\n",
              "    <tr style=\"text-align: right;\">\n",
              "      <th></th>\n",
              "      <th>Floor Price</th>\n",
              "      <th>24h(%)</th>\n",
              "      <th>Market Cap</th>\n",
              "      <th>Owners</th>\n",
              "      <th>Total Assets</th>\n",
              "      <th>Owner Ratio</th>\n",
              "    </tr>\n",
              "  </thead>\n",
              "  <tbody>\n",
              "    <tr>\n",
              "      <th>count</th>\n",
              "      <td>94.0</td>\n",
              "      <td>94.000000</td>\n",
              "      <td>94.000000</td>\n",
              "      <td>94.000000</td>\n",
              "      <td>94.000000</td>\n",
              "      <td>94.000000</td>\n",
              "    </tr>\n",
              "    <tr>\n",
              "      <th>mean</th>\n",
              "      <td>0.0</td>\n",
              "      <td>-0.428723</td>\n",
              "      <td>3159.220745</td>\n",
              "      <td>3563.563830</td>\n",
              "      <td>9026.882979</td>\n",
              "      <td>1134.412363</td>\n",
              "    </tr>\n",
              "    <tr>\n",
              "      <th>std</th>\n",
              "      <td>0.0</td>\n",
              "      <td>26.806285</td>\n",
              "      <td>3824.033577</td>\n",
              "      <td>3545.120055</td>\n",
              "      <td>6429.024266</td>\n",
              "      <td>9845.787604</td>\n",
              "    </tr>\n",
              "    <tr>\n",
              "      <th>min</th>\n",
              "      <td>0.0</td>\n",
              "      <td>-95.500000</td>\n",
              "      <td>2.530000</td>\n",
              "      <td>293.000000</td>\n",
              "      <td>3.000000</td>\n",
              "      <td>6.013912</td>\n",
              "    </tr>\n",
              "    <tr>\n",
              "      <th>25%</th>\n",
              "      <td>0.0</td>\n",
              "      <td>-8.725000</td>\n",
              "      <td>485.112500</td>\n",
              "      <td>1849.000000</td>\n",
              "      <td>5137.500000</td>\n",
              "      <td>30.352196</td>\n",
              "    </tr>\n",
              "    <tr>\n",
              "      <th>50%</th>\n",
              "      <td>0.0</td>\n",
              "      <td>-4.500000</td>\n",
              "      <td>1290.360000</td>\n",
              "      <td>3060.500000</td>\n",
              "      <td>8888.000000</td>\n",
              "      <td>38.941415</td>\n",
              "    </tr>\n",
              "    <tr>\n",
              "      <th>75%</th>\n",
              "      <td>0.0</td>\n",
              "      <td>1.300000</td>\n",
              "      <td>4428.670000</td>\n",
              "      <td>4419.500000</td>\n",
              "      <td>10000.000000</td>\n",
              "      <td>50.645210</td>\n",
              "    </tr>\n",
              "    <tr>\n",
              "      <th>max</th>\n",
              "      <td>0.0</td>\n",
              "      <td>167.400000</td>\n",
              "      <td>12800.000000</td>\n",
              "      <td>32732.000000</td>\n",
              "      <td>46169.000000</td>\n",
              "      <td>95266.666667</td>\n",
              "    </tr>\n",
              "  </tbody>\n",
              "</table>\n",
              "</div>\n",
              "      <button class=\"colab-df-convert\" onclick=\"convertToInteractive('df-051239a3-35e3-47bf-838a-6fa30298f4fc')\"\n",
              "              title=\"Convert this dataframe to an interactive table.\"\n",
              "              style=\"display:none;\">\n",
              "        \n",
              "  <svg xmlns=\"http://www.w3.org/2000/svg\" height=\"24px\"viewBox=\"0 0 24 24\"\n",
              "       width=\"24px\">\n",
              "    <path d=\"M0 0h24v24H0V0z\" fill=\"none\"/>\n",
              "    <path d=\"M18.56 5.44l.94 2.06.94-2.06 2.06-.94-2.06-.94-.94-2.06-.94 2.06-2.06.94zm-11 1L8.5 8.5l.94-2.06 2.06-.94-2.06-.94L8.5 2.5l-.94 2.06-2.06.94zm10 10l.94 2.06.94-2.06 2.06-.94-2.06-.94-.94-2.06-.94 2.06-2.06.94z\"/><path d=\"M17.41 7.96l-1.37-1.37c-.4-.4-.92-.59-1.43-.59-.52 0-1.04.2-1.43.59L10.3 9.45l-7.72 7.72c-.78.78-.78 2.05 0 2.83L4 21.41c.39.39.9.59 1.41.59.51 0 1.02-.2 1.41-.59l7.78-7.78 2.81-2.81c.8-.78.8-2.07 0-2.86zM5.41 20L4 18.59l7.72-7.72 1.47 1.35L5.41 20z\"/>\n",
              "  </svg>\n",
              "      </button>\n",
              "      \n",
              "  <style>\n",
              "    .colab-df-container {\n",
              "      display:flex;\n",
              "      flex-wrap:wrap;\n",
              "      gap: 12px;\n",
              "    }\n",
              "\n",
              "    .colab-df-convert {\n",
              "      background-color: #E8F0FE;\n",
              "      border: none;\n",
              "      border-radius: 50%;\n",
              "      cursor: pointer;\n",
              "      display: none;\n",
              "      fill: #1967D2;\n",
              "      height: 32px;\n",
              "      padding: 0 0 0 0;\n",
              "      width: 32px;\n",
              "    }\n",
              "\n",
              "    .colab-df-convert:hover {\n",
              "      background-color: #E2EBFA;\n",
              "      box-shadow: 0px 1px 2px rgba(60, 64, 67, 0.3), 0px 1px 3px 1px rgba(60, 64, 67, 0.15);\n",
              "      fill: #174EA6;\n",
              "    }\n",
              "\n",
              "    [theme=dark] .colab-df-convert {\n",
              "      background-color: #3B4455;\n",
              "      fill: #D2E3FC;\n",
              "    }\n",
              "\n",
              "    [theme=dark] .colab-df-convert:hover {\n",
              "      background-color: #434B5C;\n",
              "      box-shadow: 0px 1px 3px 1px rgba(0, 0, 0, 0.15);\n",
              "      filter: drop-shadow(0px 1px 2px rgba(0, 0, 0, 0.3));\n",
              "      fill: #FFFFFF;\n",
              "    }\n",
              "  </style>\n",
              "\n",
              "      <script>\n",
              "        const buttonEl =\n",
              "          document.querySelector('#df-051239a3-35e3-47bf-838a-6fa30298f4fc button.colab-df-convert');\n",
              "        buttonEl.style.display =\n",
              "          google.colab.kernel.accessAllowed ? 'block' : 'none';\n",
              "\n",
              "        async function convertToInteractive(key) {\n",
              "          const element = document.querySelector('#df-051239a3-35e3-47bf-838a-6fa30298f4fc');\n",
              "          const dataTable =\n",
              "            await google.colab.kernel.invokeFunction('convertToInteractive',\n",
              "                                                     [key], {});\n",
              "          if (!dataTable) return;\n",
              "\n",
              "          const docLinkHtml = 'Like what you see? Visit the ' +\n",
              "            '<a target=\"_blank\" href=https://colab.research.google.com/notebooks/data_table.ipynb>data table notebook</a>'\n",
              "            + ' to learn more about interactive tables.';\n",
              "          element.innerHTML = '';\n",
              "          dataTable['output_type'] = 'display_data';\n",
              "          await google.colab.output.renderOutput(dataTable, element);\n",
              "          const docLink = document.createElement('div');\n",
              "          docLink.innerHTML = docLinkHtml;\n",
              "          element.appendChild(docLink);\n",
              "        }\n",
              "      </script>\n",
              "    </div>\n",
              "  </div>\n",
              "  "
            ],
            "text/plain": [
              "       Floor Price      24h(%)  ...  Total Assets   Owner Ratio\n",
              "count         94.0   94.000000  ...     94.000000     94.000000\n",
              "mean           0.0   -0.428723  ...   9026.882979   1134.412363\n",
              "std            0.0   26.806285  ...   6429.024266   9845.787604\n",
              "min            0.0  -95.500000  ...      3.000000      6.013912\n",
              "25%            0.0   -8.725000  ...   5137.500000     30.352196\n",
              "50%            0.0   -4.500000  ...   8888.000000     38.941415\n",
              "75%            0.0    1.300000  ...  10000.000000     50.645210\n",
              "max            0.0  167.400000  ...  46169.000000  95266.666667\n",
              "\n",
              "[8 rows x 6 columns]"
            ]
          },
          "metadata": {},
          "execution_count": 133
        }
      ]
    },
    {
      "cell_type": "code",
      "source": [
        "df_cap = df[df['Market Cap'] < 13587]"
      ],
      "metadata": {
        "id": "S49Ewwsj7XnB"
      },
      "execution_count": 134,
      "outputs": []
    },
    {
      "cell_type": "code",
      "source": [
        "plt.figure(figsize=(12,6))\n",
        "df_cap.boxplot('Market Cap')\n",
        "plt.show()"
      ],
      "metadata": {
        "colab": {
          "base_uri": "https://localhost:8080/",
          "height": 374
        },
        "id": "6k9k_dN87hkB",
        "outputId": "ce50ffa8-f7e2-408e-97d9-5c6ddc84d400"
      },
      "execution_count": 135,
      "outputs": [
        {
          "output_type": "display_data",
          "data": {
            "image/png": "[encoded data removed]",
            "text/plain": [
              "<Figure size 864x432 with 1 Axes>"
            ]
          },
          "metadata": {
            "needs_background": "light"
          }
        }
      ]
    },
    {
      "cell_type": "code",
      "source": [
        "plt.figure(figsize=(12,8))\n",
        "sns.kdeplot(df_cap['Market Cap'])\n",
        "sns.rugplot(df_cap['Market Cap'])"
      ],
      "metadata": {
        "colab": {
          "base_uri": "https://localhost:8080/",
          "height": 514
        },
        "id": "MxOP8Q4M7iw6",
        "outputId": "5d57770a-2ab0-4f98-d66e-50447d4f1c31"
      },
      "execution_count": 136,
      "outputs": [
        {
          "output_type": "execute_result",
          "data": {
            "text/plain": [
              "<matplotlib.axes._subplots.AxesSubplot at 0x7f7091bc03d0>"
            ]
          },
          "metadata": {},
          "execution_count": 136
        },
        {
          "output_type": "display_data",
          "data": {
            "image/png": "[encoded data removed]",
            "text/plain": [
              "<Figure size 864x576 with 1 Axes>"
            ]
          },
          "metadata": {
            "needs_background": "light"
          }
        }
      ]
    },
    {
      "cell_type": "code",
      "source": [
        "plt.figure(figsize=(12,8))\n",
        "sns.scatterplot(data=df_cap['Market Cap'])"
      ],
      "metadata": {
        "colab": {
          "base_uri": "https://localhost:8080/",
          "height": 500
        },
        "id": "zSXOROKo7izS",
        "outputId": "996deb83-56b9-4113-f8f9-35f66ff44cb4"
      },
      "execution_count": 137,
      "outputs": [
        {
          "output_type": "execute_result",
          "data": {
            "text/plain": [
              "<matplotlib.axes._subplots.AxesSubplot at 0x7f7091b5e690>"
            ]
          },
          "metadata": {},
          "execution_count": 137
        },
        {
          "output_type": "display_data",
          "data": {
            "image/png": "[encoded data removed]",
            "text/plain": [
              "<Figure size 864x576 with 1 Axes>"
            ]
          },
          "metadata": {
            "needs_background": "light"
          }
        }
      ]
    },
    {
      "cell_type": "code",
      "source": [
        ""
      ],
      "metadata": {
        "id": "Hq6iQm437n_m"
      },
      "execution_count": 137,
      "outputs": []
    },
    {
      "cell_type": "markdown",
      "source": [
        "###Owners"
      ],
      "metadata": {
        "id": "7-07E3JW3KOE"
      }
    },
    {
      "cell_type": "code",
      "source": [
        "df['Owners'].head()"
      ],
      "metadata": {
        "colab": {
          "base_uri": "https://localhost:8080/"
        },
        "id": "KHPzZrZdhx0z",
        "outputId": "cc613ffa-0da0-4c7d-e70c-5cba3277e379"
      },
      "execution_count": 138,
      "outputs": [
        {
          "output_type": "execute_result",
          "data": {
            "text/plain": [
              "0     2648.0\n",
              "1     5747.0\n",
              "2     6315.0\n",
              "3     5403.0\n",
              "4    11756.0\n",
              "Name: Owners, dtype: float64"
            ]
          },
          "metadata": {},
          "execution_count": 138
        }
      ]
    },
    {
      "cell_type": "code",
      "source": [
        "df['Owners'].tail()"
      ],
      "metadata": {
        "colab": {
          "base_uri": "https://localhost:8080/"
        },
        "id": "EUZIJm8rh2Oy",
        "outputId": "5f210d72-9342-44a2-e4db-e443bb1ad106"
      },
      "execution_count": 139,
      "outputs": [
        {
          "output_type": "execute_result",
          "data": {
            "text/plain": [
              "120     683.0\n",
              "121    4944.0\n",
              "122    2573.0\n",
              "123    1719.0\n",
              "124    2677.0\n",
              "Name: Owners, dtype: float64"
            ]
          },
          "metadata": {},
          "execution_count": 139
        }
      ]
    },
    {
      "cell_type": "code",
      "source": [
        "df['Owners'].describe()"
      ],
      "metadata": {
        "colab": {
          "base_uri": "https://localhost:8080/"
        },
        "id": "Yovb3r62zx_x",
        "outputId": "0d83f9e7-ff58-4c34-ecf4-020a66e5f3c8"
      },
      "execution_count": 140,
      "outputs": [
        {
          "output_type": "execute_result",
          "data": {
            "text/plain": [
              "count      125.00000\n",
              "mean      3958.62400\n",
              "std       3670.41917\n",
              "min        293.00000\n",
              "25%       2095.00000\n",
              "50%       3398.00000\n",
              "75%       5045.00000\n",
              "max      32732.00000\n",
              "Name: Owners, dtype: float64"
            ]
          },
          "metadata": {},
          "execution_count": 140
        }
      ]
    },
    {
      "cell_type": "code",
      "source": [
        "plt.figure(figsize=(12,6))\n",
        "df.boxplot('Owners')\n",
        "plt.show()"
      ],
      "metadata": {
        "id": "J4uJdKlkzyER",
        "colab": {
          "base_uri": "https://localhost:8080/",
          "height": 374
        },
        "outputId": "9b341fd7-2a50-4e89-dde9-9b8b5f0c9f1c"
      },
      "execution_count": 141,
      "outputs": [
        {
          "output_type": "display_data",
          "data": {
            "image/png": "[encoded data removed]",
            "text/plain": [
              "<Figure size 864x432 with 1 Axes>"
            ]
          },
          "metadata": {
            "needs_background": "light"
          }
        }
      ]
    },
    {
      "cell_type": "markdown",
      "source": [
        "####Visualizações de dados:"
      ],
      "metadata": {
        "id": "mHnNzFXBnXGm"
      }
    },
    {
      "cell_type": "code",
      "source": [
        "plt.figure(figsize=(12,8))\n",
        "sns.scatterplot(data=df['Owners'])"
      ],
      "metadata": {
        "id": "SMS2nN7rzyic",
        "colab": {
          "base_uri": "https://localhost:8080/",
          "height": 500
        },
        "outputId": "4eae898b-18cc-4ffd-e21d-0738f32dade3"
      },
      "execution_count": 142,
      "outputs": [
        {
          "output_type": "execute_result",
          "data": {
            "text/plain": [
              "<matplotlib.axes._subplots.AxesSubplot at 0x7f70919e33d0>"
            ]
          },
          "metadata": {},
          "execution_count": 142
        },
        {
          "output_type": "display_data",
          "data": {
            "image/png": "[encoded data removed]",
            "text/plain": [
              "<Figure size 864x576 with 1 Axes>"
            ]
          },
          "metadata": {
            "needs_background": "light"
          }
        }
      ]
    },
    {
      "cell_type": "code",
      "source": [
        "plt.figure(figsize=(12,6))\n",
        "sns.distplot(df[\"Owners\"], bins=10)"
      ],
      "metadata": {
        "colab": {
          "base_uri": "https://localhost:8080/",
          "height": 460
        },
        "id": "Hqcf3PuVoOk5",
        "outputId": "e102155e-06cf-41ab-da6a-c02316231220"
      },
      "execution_count": 143,
      "outputs": [
        {
          "output_type": "stream",
          "name": "stderr",
          "text": [
            "/usr/local/lib/python3.7/dist-packages/seaborn/distributions.py:2619: FutureWarning: `distplot` is a deprecated function and will be removed in a future version. Please adapt your code to use either `displot` (a figure-level function with similar flexibility) or `histplot` (an axes-level function for histograms).\n",
            "  warnings.warn(msg, FutureWarning)\n"
          ]
        },
        {
          "output_type": "execute_result",
          "data": {
            "text/plain": [
              "<matplotlib.axes._subplots.AxesSubplot at 0x7f70919f29d0>"
            ]
          },
          "metadata": {},
          "execution_count": 143
        },
        {
          "output_type": "display_data",
          "data": {
            "image/png": "[encoded data removed]",
            "text/plain": [
              "<Figure size 864x432 with 1 Axes>"
            ]
          },
          "metadata": {
            "needs_background": "light"
          }
        }
      ]
    },
    {
      "cell_type": "code",
      "source": [
        "plt.figure(figsize=(12,8))\n",
        "sns.kdeplot(df['Owners'])\n",
        "sns.rugplot(df['Owners'])"
      ],
      "metadata": {
        "colab": {
          "base_uri": "https://localhost:8080/",
          "height": 514
        },
        "id": "VwkmYpbYoOpi",
        "outputId": "2416eadf-f19b-4ff5-a6d3-e83092781225"
      },
      "execution_count": 144,
      "outputs": [
        {
          "output_type": "execute_result",
          "data": {
            "text/plain": [
              "<matplotlib.axes._subplots.AxesSubplot at 0x7f70919b6690>"
            ]
          },
          "metadata": {},
          "execution_count": 144
        },
        {
          "output_type": "display_data",
          "data": {
            "image/png": "[encoded data removed]",
            "text/plain": [
              "<Figure size 864x576 with 1 Axes>"
            ]
          },
          "metadata": {
            "needs_background": "light"
          }
        }
      ]
    },
    {
      "cell_type": "markdown",
      "source": [
        "###Total Assets"
      ],
      "metadata": {
        "id": "qTTPJcls3Nsh"
      }
    },
    {
      "cell_type": "code",
      "source": [
        "df['Total Assets'].head()"
      ],
      "metadata": {
        "id": "rTBgCSve4S0d",
        "colab": {
          "base_uri": "https://localhost:8080/"
        },
        "outputId": "80f476c9-66b5-4836-ec95-09ed70a0f5e6"
      },
      "execution_count": 145,
      "outputs": [
        {
          "output_type": "execute_result",
          "data": {
            "text/plain": [
              "0     4870.0\n",
              "1    20000.0\n",
              "2    10000.0\n",
              "3    10000.0\n",
              "4    17960.0\n",
              "Name: Total Assets, dtype: float64"
            ]
          },
          "metadata": {},
          "execution_count": 145
        }
      ]
    },
    {
      "cell_type": "code",
      "source": [
        "df['Total Assets'].tail()"
      ],
      "metadata": {
        "colab": {
          "base_uri": "https://localhost:8080/"
        },
        "id": "13Twqka3qV3c",
        "outputId": "29c3043b-09d4-4cfb-99c8-ff756622eaa0"
      },
      "execution_count": 146,
      "outputs": [
        {
          "output_type": "execute_result",
          "data": {
            "text/plain": [
              "120    11357.0\n",
              "121     8888.0\n",
              "122    10000.0\n",
              "123     4457.0\n",
              "124     8888.0\n",
              "Name: Total Assets, dtype: float64"
            ]
          },
          "metadata": {},
          "execution_count": 146
        }
      ]
    },
    {
      "cell_type": "code",
      "source": [
        "df['Total Assets'].describe()"
      ],
      "metadata": {
        "colab": {
          "base_uri": "https://localhost:8080/"
        },
        "id": "KLPNTHsVqV6K",
        "outputId": "11d8fe98-e7de-4233-b241-dd3348891a66"
      },
      "execution_count": 147,
      "outputs": [
        {
          "output_type": "execute_result",
          "data": {
            "text/plain": [
              "count       125.000000\n",
              "mean      10695.536000\n",
              "std       13763.084109\n",
              "min           3.000000\n",
              "25%        7231.000000\n",
              "50%        9999.000000\n",
              "75%       10000.000000\n",
              "max      147849.000000\n",
              "Name: Total Assets, dtype: float64"
            ]
          },
          "metadata": {},
          "execution_count": 147
        }
      ]
    },
    {
      "cell_type": "code",
      "source": [
        "plt.figure(figsize=(12,6))\n",
        "df.boxplot('Total Assets')\n",
        "plt.show()"
      ],
      "metadata": {
        "colab": {
          "base_uri": "https://localhost:8080/",
          "height": 374
        },
        "id": "GnoniPCyqV9G",
        "outputId": "9f98de5f-cbab-41eb-f6c3-d2b93c76f76e"
      },
      "execution_count": 148,
      "outputs": [
        {
          "output_type": "display_data",
          "data": {
            "image/png": "[encoded data removed]",
            "text/plain": [
              "<Figure size 864x432 with 1 Axes>"
            ]
          },
          "metadata": {
            "needs_background": "light"
          }
        }
      ]
    },
    {
      "cell_type": "code",
      "source": [
        "plt.figure(figsize=(12,6))\n",
        "df[df['Total Assets'] < 15000].boxplot('Total Assets')\n",
        "plt.show()"
      ],
      "metadata": {
        "colab": {
          "base_uri": "https://localhost:8080/",
          "height": 374
        },
        "id": "2wYOv39eqV__",
        "outputId": "d76eee82-413e-4061-e409-2c322d6c1993"
      },
      "execution_count": 149,
      "outputs": [
        {
          "output_type": "display_data",
          "data": {
            "image/png": "[encoded data removed]",
            "text/plain": [
              "<Figure size 864x432 with 1 Axes>"
            ]
          },
          "metadata": {
            "needs_background": "light"
          }
        }
      ]
    },
    {
      "cell_type": "markdown",
      "source": [
        "- A maior parte dos projetos tem até 15000 NFTs."
      ],
      "metadata": {
        "id": "sQ0X1g4xq4cy"
      }
    },
    {
      "cell_type": "code",
      "source": [
        "df_assets = df[df['Total Assets'] < 15000]\n",
        "df_assets['Total Assets'].describe()"
      ],
      "metadata": {
        "colab": {
          "base_uri": "https://localhost:8080/"
        },
        "id": "bJdyiRVXq97V",
        "outputId": "f8baba4f-acb9-4cd5-d96f-1c9d56a76fa7"
      },
      "execution_count": 150,
      "outputs": [
        {
          "output_type": "execute_result",
          "data": {
            "text/plain": [
              "count      111.000000\n",
              "mean      7971.918919\n",
              "std       3052.920736\n",
              "min          3.000000\n",
              "25%       6700.000000\n",
              "50%       9500.000000\n",
              "75%      10000.000000\n",
              "max      14533.000000\n",
              "Name: Total Assets, dtype: float64"
            ]
          },
          "metadata": {},
          "execution_count": 150
        }
      ]
    },
    {
      "cell_type": "markdown",
      "source": [
        "####Visualização de dados:"
      ],
      "metadata": {
        "id": "bU_GJpKbsjZ9"
      }
    },
    {
      "cell_type": "code",
      "source": [
        "plt.figure(figsize=(12,8))\n",
        "sns.scatterplot(data=df['Total Assets'])"
      ],
      "metadata": {
        "colab": {
          "base_uri": "https://localhost:8080/",
          "height": 500
        },
        "id": "oolZXGlDslTh",
        "outputId": "bdadeaa5-2529-4592-d347-c38668bb398e"
      },
      "execution_count": 151,
      "outputs": [
        {
          "output_type": "execute_result",
          "data": {
            "text/plain": [
              "<matplotlib.axes._subplots.AxesSubplot at 0x7f7091845a10>"
            ]
          },
          "metadata": {},
          "execution_count": 151
        },
        {
          "output_type": "display_data",
          "data": {
            "image/png": "[encoded data removed]",
            "text/plain": [
              "<Figure size 864x576 with 1 Axes>"
            ]
          },
          "metadata": {
            "needs_background": "light"
          }
        }
      ]
    },
    {
      "cell_type": "code",
      "source": [
        "plt.figure(figsize=(12,8))\n",
        "sns.kdeplot(df['Total Assets'])\n",
        "sns.rugplot(df['Total Assets'])"
      ],
      "metadata": {
        "colab": {
          "base_uri": "https://localhost:8080/",
          "height": 525
        },
        "id": "6gDuO9xNslWU",
        "outputId": "5542ddf5-233e-4d93-c0b3-43a42f344006"
      },
      "execution_count": 152,
      "outputs": [
        {
          "output_type": "execute_result",
          "data": {
            "text/plain": [
              "<matplotlib.axes._subplots.AxesSubplot at 0x7f70917f54d0>"
            ]
          },
          "metadata": {},
          "execution_count": 152
        },
        {
          "output_type": "display_data",
          "data": {
            "image/png": "[encoded data removed]",
            "text/plain": [
              "<Figure size 864x576 with 1 Axes>"
            ]
          },
          "metadata": {
            "needs_background": "light"
          }
        }
      ]
    },
    {
      "cell_type": "code",
      "source": [
        "plt.figure(figsize=(12,6))\n",
        "sns.distplot(df[\"Total Assets\"], bins=10)"
      ],
      "metadata": {
        "colab": {
          "base_uri": "https://localhost:8080/",
          "height": 471
        },
        "id": "8ILF_40jslY3",
        "outputId": "c6c4b0a9-c00f-4db7-f6ac-afb5d8455919"
      },
      "execution_count": 153,
      "outputs": [
        {
          "output_type": "stream",
          "name": "stderr",
          "text": [
            "/usr/local/lib/python3.7/dist-packages/seaborn/distributions.py:2619: FutureWarning: `distplot` is a deprecated function and will be removed in a future version. Please adapt your code to use either `displot` (a figure-level function with similar flexibility) or `histplot` (an axes-level function for histograms).\n",
            "  warnings.warn(msg, FutureWarning)\n"
          ]
        },
        {
          "output_type": "execute_result",
          "data": {
            "text/plain": [
              "<matplotlib.axes._subplots.AxesSubplot at 0x7f7091a70a90>"
            ]
          },
          "metadata": {},
          "execution_count": 153
        },
        {
          "output_type": "display_data",
          "data": {
            "image/png": "[encoded data removed]",
            "text/plain": [
              "<Figure size 864x432 with 1 Axes>"
            ]
          },
          "metadata": {
            "needs_background": "light"
          }
        }
      ]
    },
    {
      "cell_type": "markdown",
      "source": [
        "- Visualizações com filtragem feita:"
      ],
      "metadata": {
        "id": "aLbhz-IVtI_w"
      }
    },
    {
      "cell_type": "code",
      "source": [
        "plt.figure(figsize=(12,8))\n",
        "sns.kdeplot(df_assets['Total Assets'])\n",
        "sns.rugplot(df_assets['Total Assets'])"
      ],
      "metadata": {
        "colab": {
          "base_uri": "https://localhost:8080/",
          "height": 514
        },
        "id": "D6EHILgRtNQK",
        "outputId": "30f46049-e0a5-4d04-f03c-7dfc071fc226"
      },
      "execution_count": 155,
      "outputs": [
        {
          "output_type": "execute_result",
          "data": {
            "text/plain": [
              "<matplotlib.axes._subplots.AxesSubplot at 0x7f7093fb41d0>"
            ]
          },
          "metadata": {},
          "execution_count": 155
        },
        {
          "output_type": "display_data",
          "data": {
            "image/png": "[encoded data removed]",
            "text/plain": [
              "<Figure size 864x576 with 1 Axes>"
            ]
          },
          "metadata": {
            "needs_background": "light"
          }
        }
      ]
    },
    {
      "cell_type": "code",
      "source": [
        "plt.figure(figsize=(12,6))\n",
        "sns.distplot(df_assets[\"Total Assets\"], bins=10)"
      ],
      "metadata": {
        "colab": {
          "base_uri": "https://localhost:8080/",
          "height": 460
        },
        "id": "4owDnbmztNbU",
        "outputId": "55365fb1-1890-4577-e100-0b0cca824811"
      },
      "execution_count": 156,
      "outputs": [
        {
          "output_type": "stream",
          "name": "stderr",
          "text": [
            "/usr/local/lib/python3.7/dist-packages/seaborn/distributions.py:2619: FutureWarning: `distplot` is a deprecated function and will be removed in a future version. Please adapt your code to use either `displot` (a figure-level function with similar flexibility) or `histplot` (an axes-level function for histograms).\n",
            "  warnings.warn(msg, FutureWarning)\n"
          ]
        },
        {
          "output_type": "execute_result",
          "data": {
            "text/plain": [
              "<matplotlib.axes._subplots.AxesSubplot at 0x7f7091735d90>"
            ]
          },
          "metadata": {},
          "execution_count": 156
        },
        {
          "output_type": "display_data",
          "data": {
            "image/png": "[encoded data removed]",
            "text/plain": [
              "<Figure size 864x432 with 1 Axes>"
            ]
          },
          "metadata": {
            "needs_background": "light"
          }
        }
      ]
    },
    {
      "cell_type": "markdown",
      "source": [
        "###Owner Ratio:"
      ],
      "metadata": {
        "id": "iPKfd1aI3Sky"
      }
    },
    {
      "cell_type": "code",
      "source": [
        "df['Owner Ratio'].describe()"
      ],
      "metadata": {
        "id": "e_xeQUQu0d-w",
        "colab": {
          "base_uri": "https://localhost:8080/"
        },
        "outputId": "201b7ddd-cc5a-4e1d-dc1f-2065ebbbfdf2"
      },
      "execution_count": 157,
      "outputs": [
        {
          "output_type": "execute_result",
          "data": {
            "text/plain": [
              "count      125.000000\n",
              "mean       862.956141\n",
              "std       8539.905235\n",
              "min          3.500000\n",
              "25%         30.320427\n",
              "50%         39.314286\n",
              "75%         50.887346\n",
              "max      95266.666667\n",
              "Name: Owner Ratio, dtype: float64"
            ]
          },
          "metadata": {},
          "execution_count": 157
        }
      ]
    },
    {
      "cell_type": "code",
      "source": [
        "plt.figure(figsize=(12,6))\n",
        "df.boxplot('Owner Ratio')\n",
        "plt.show()"
      ],
      "metadata": {
        "id": "qJFMw61n4ZEz",
        "colab": {
          "base_uri": "https://localhost:8080/",
          "height": 378
        },
        "outputId": "4499f570-f765-47b1-950f-c8dcda13d398"
      },
      "execution_count": 158,
      "outputs": [
        {
          "output_type": "display_data",
          "data": {
            "image/png": "[encoded data removed]",
            "text/plain": [
              "<Figure size 864x432 with 1 Axes>"
            ]
          },
          "metadata": {
            "needs_background": "light"
          }
        }
      ]
    },
    {
      "cell_type": "markdown",
      "source": [
        "- Poucos outliers com considerações fortes."
      ],
      "metadata": {
        "id": "HwudOgl74gLR"
      }
    },
    {
      "cell_type": "code",
      "source": [
        "df_ratio = df[df['Owner Ratio'] < 2500]\n",
        "df_ratio"
      ],
      "metadata": {
        "id": "AZqJxLQJ4ZNT",
        "colab": {
          "base_uri": "https://localhost:8080/",
          "height": 424
        },
        "outputId": "7bff17f7-bd5b-4f71-a623-aadaf42f338a"
      },
      "execution_count": 159,
      "outputs": [
        {
          "output_type": "execute_result",
          "data": {
            "text/html": [
              "\n",
              "  <div id=\"df-d1cdb941-c17e-473f-9e41-b45d52991277\">\n",
              "    <div class=\"colab-df-container\">\n",
              "      <div>\n",
              "<style scoped>\n",
              "    .dataframe tbody tr th:only-of-type {\n",
              "        vertical-align: middle;\n",
              "    }\n",
              "\n",
              "    .dataframe tbody tr th {\n",
              "        vertical-align: top;\n",
              "    }\n",
              "\n",
              "    .dataframe thead th {\n",
              "        text-align: right;\n",
              "    }\n",
              "</style>\n",
              "<table border=\"1\" class=\"dataframe\">\n",
              "  <thead>\n",
              "    <tr style=\"text-align: right;\">\n",
              "      <th></th>\n",
              "      <th>NFT</th>\n",
              "      <th>Floor Price</th>\n",
              "      <th>24h(%)</th>\n",
              "      <th>Market Cap</th>\n",
              "      <th>24h Volume</th>\n",
              "      <th>Owners</th>\n",
              "      <th>24h Owners</th>\n",
              "      <th>Total Assets</th>\n",
              "      <th>Owner Ratio</th>\n",
              "    </tr>\n",
              "  </thead>\n",
              "  <tbody>\n",
              "    <tr>\n",
              "      <th>0</th>\n",
              "      <td>dotdotdots</td>\n",
              "      <td>0.0</td>\n",
              "      <td>0.6</td>\n",
              "      <td>974.00</td>\n",
              "      <td>8849.89</td>\n",
              "      <td>2648.0</td>\n",
              "      <td>0.0</td>\n",
              "      <td>4870.0</td>\n",
              "      <td>54.373717</td>\n",
              "    </tr>\n",
              "    <tr>\n",
              "      <th>1</th>\n",
              "      <td>Meebits</td>\n",
              "      <td>0.0</td>\n",
              "      <td>-7.8</td>\n",
              "      <td>58000.00</td>\n",
              "      <td>5229.36</td>\n",
              "      <td>5747.0</td>\n",
              "      <td>-0.1</td>\n",
              "      <td>20000.0</td>\n",
              "      <td>28.735000</td>\n",
              "    </tr>\n",
              "    <tr>\n",
              "      <th>2</th>\n",
              "      <td>Bored Ape Yacht Club</td>\n",
              "      <td>0.0</td>\n",
              "      <td>-7.3</td>\n",
              "      <td>950000.00</td>\n",
              "      <td>1360.59</td>\n",
              "      <td>6315.0</td>\n",
              "      <td>0.0</td>\n",
              "      <td>10000.0</td>\n",
              "      <td>63.150000</td>\n",
              "    </tr>\n",
              "    <tr>\n",
              "      <th>3</th>\n",
              "      <td>Azuki</td>\n",
              "      <td>0.0</td>\n",
              "      <td>-8.0</td>\n",
              "      <td>139900.00</td>\n",
              "      <td>1214.76</td>\n",
              "      <td>5403.0</td>\n",
              "      <td>-0.1</td>\n",
              "      <td>10000.0</td>\n",
              "      <td>54.030000</td>\n",
              "    </tr>\n",
              "    <tr>\n",
              "      <th>4</th>\n",
              "      <td>Mutant Ape Yacht Club</td>\n",
              "      <td>0.0</td>\n",
              "      <td>-7.4</td>\n",
              "      <td>337630.04</td>\n",
              "      <td>1115.09</td>\n",
              "      <td>11756.0</td>\n",
              "      <td>0.1</td>\n",
              "      <td>17960.0</td>\n",
              "      <td>65.456570</td>\n",
              "    </tr>\n",
              "    <tr>\n",
              "      <th>...</th>\n",
              "      <td>...</td>\n",
              "      <td>...</td>\n",
              "      <td>...</td>\n",
              "      <td>...</td>\n",
              "      <td>...</td>\n",
              "      <td>...</td>\n",
              "      <td>...</td>\n",
              "      <td>...</td>\n",
              "      <td>...</td>\n",
              "    </tr>\n",
              "    <tr>\n",
              "      <th>120</th>\n",
              "      <td>Cometh Spaceships</td>\n",
              "      <td>0.0</td>\n",
              "      <td>-4.5</td>\n",
              "      <td>794.99</td>\n",
              "      <td>0.07</td>\n",
              "      <td>683.0</td>\n",
              "      <td>0.1</td>\n",
              "      <td>11357.0</td>\n",
              "      <td>6.013912</td>\n",
              "    </tr>\n",
              "    <tr>\n",
              "      <th>121</th>\n",
              "      <td>Angry Apes United</td>\n",
              "      <td>0.0</td>\n",
              "      <td>45.5</td>\n",
              "      <td>311.08</td>\n",
              "      <td>0.07</td>\n",
              "      <td>4944.0</td>\n",
              "      <td>-0.0</td>\n",
              "      <td>8888.0</td>\n",
              "      <td>55.625563</td>\n",
              "    </tr>\n",
              "    <tr>\n",
              "      <th>122</th>\n",
              "      <td>Skullx</td>\n",
              "      <td>0.0</td>\n",
              "      <td>-4.5</td>\n",
              "      <td>280.00</td>\n",
              "      <td>0.03</td>\n",
              "      <td>2573.0</td>\n",
              "      <td>-0.1</td>\n",
              "      <td>10000.0</td>\n",
              "      <td>25.730000</td>\n",
              "    </tr>\n",
              "    <tr>\n",
              "      <th>123</th>\n",
              "      <td>Light Super Bunnies</td>\n",
              "      <td>0.0</td>\n",
              "      <td>-1.9</td>\n",
              "      <td>40.11</td>\n",
              "      <td>0.03</td>\n",
              "      <td>1719.0</td>\n",
              "      <td>0.0</td>\n",
              "      <td>4457.0</td>\n",
              "      <td>38.568544</td>\n",
              "    </tr>\n",
              "    <tr>\n",
              "      <th>124</th>\n",
              "      <td>Spookies</td>\n",
              "      <td>0.0</td>\n",
              "      <td>-4.4</td>\n",
              "      <td>88.88</td>\n",
              "      <td>0.02</td>\n",
              "      <td>2677.0</td>\n",
              "      <td>0.0</td>\n",
              "      <td>8888.0</td>\n",
              "      <td>30.119262</td>\n",
              "    </tr>\n",
              "  </tbody>\n",
              "</table>\n",
              "<p>123 rows × 9 columns</p>\n",
              "</div>\n",
              "      <button class=\"colab-df-convert\" onclick=\"convertToInteractive('df-d1cdb941-c17e-473f-9e41-b45d52991277')\"\n",
              "              title=\"Convert this dataframe to an interactive table.\"\n",
              "              style=\"display:none;\">\n",
              "        \n",
              "  <svg xmlns=\"http://www.w3.org/2000/svg\" height=\"24px\"viewBox=\"0 0 24 24\"\n",
              "       width=\"24px\">\n",
              "    <path d=\"M0 0h24v24H0V0z\" fill=\"none\"/>\n",
              "    <path d=\"M18.56 5.44l.94 2.06.94-2.06 2.06-.94-2.06-.94-.94-2.06-.94 2.06-2.06.94zm-11 1L8.5 8.5l.94-2.06 2.06-.94-2.06-.94L8.5 2.5l-.94 2.06-2.06.94zm10 10l.94 2.06.94-2.06 2.06-.94-2.06-.94-.94-2.06-.94 2.06-2.06.94z\"/><path d=\"M17.41 7.96l-1.37-1.37c-.4-.4-.92-.59-1.43-.59-.52 0-1.04.2-1.43.59L10.3 9.45l-7.72 7.72c-.78.78-.78 2.05 0 2.83L4 21.41c.39.39.9.59 1.41.59.51 0 1.02-.2 1.41-.59l7.78-7.78 2.81-2.81c.8-.78.8-2.07 0-2.86zM5.41 20L4 18.59l7.72-7.72 1.47 1.35L5.41 20z\"/>\n",
              "  </svg>\n",
              "      </button>\n",
              "      \n",
              "  <style>\n",
              "    .colab-df-container {\n",
              "      display:flex;\n",
              "      flex-wrap:wrap;\n",
              "      gap: 12px;\n",
              "    }\n",
              "\n",
              "    .colab-df-convert {\n",
              "      background-color: #E8F0FE;\n",
              "      border: none;\n",
              "      border-radius: 50%;\n",
              "      cursor: pointer;\n",
              "      display: none;\n",
              "      fill: #1967D2;\n",
              "      height: 32px;\n",
              "      padding: 0 0 0 0;\n",
              "      width: 32px;\n",
              "    }\n",
              "\n",
              "    .colab-df-convert:hover {\n",
              "      background-color: #E2EBFA;\n",
              "      box-shadow: 0px 1px 2px rgba(60, 64, 67, 0.3), 0px 1px 3px 1px rgba(60, 64, 67, 0.15);\n",
              "      fill: #174EA6;\n",
              "    }\n",
              "\n",
              "    [theme=dark] .colab-df-convert {\n",
              "      background-color: #3B4455;\n",
              "      fill: #D2E3FC;\n",
              "    }\n",
              "\n",
              "    [theme=dark] .colab-df-convert:hover {\n",
              "      background-color: #434B5C;\n",
              "      box-shadow: 0px 1px 3px 1px rgba(0, 0, 0, 0.15);\n",
              "      filter: drop-shadow(0px 1px 2px rgba(0, 0, 0, 0.3));\n",
              "      fill: #FFFFFF;\n",
              "    }\n",
              "  </style>\n",
              "\n",
              "      <script>\n",
              "        const buttonEl =\n",
              "          document.querySelector('#df-d1cdb941-c17e-473f-9e41-b45d52991277 button.colab-df-convert');\n",
              "        buttonEl.style.display =\n",
              "          google.colab.kernel.accessAllowed ? 'block' : 'none';\n",
              "\n",
              "        async function convertToInteractive(key) {\n",
              "          const element = document.querySelector('#df-d1cdb941-c17e-473f-9e41-b45d52991277');\n",
              "          const dataTable =\n",
              "            await google.colab.kernel.invokeFunction('convertToInteractive',\n",
              "                                                     [key], {});\n",
              "          if (!dataTable) return;\n",
              "\n",
              "          const docLinkHtml = 'Like what you see? Visit the ' +\n",
              "            '<a target=\"_blank\" href=https://colab.research.google.com/notebooks/data_table.ipynb>data table notebook</a>'\n",
              "            + ' to learn more about interactive tables.';\n",
              "          element.innerHTML = '';\n",
              "          dataTable['output_type'] = 'display_data';\n",
              "          await google.colab.output.renderOutput(dataTable, element);\n",
              "          const docLink = document.createElement('div');\n",
              "          docLink.innerHTML = docLinkHtml;\n",
              "          element.appendChild(docLink);\n",
              "        }\n",
              "      </script>\n",
              "    </div>\n",
              "  </div>\n",
              "  "
            ],
            "text/plain": [
              "                       NFT  Floor Price  ...  Total Assets  Owner Ratio\n",
              "0               dotdotdots          0.0  ...        4870.0    54.373717\n",
              "1                  Meebits          0.0  ...       20000.0    28.735000\n",
              "2     Bored Ape Yacht Club          0.0  ...       10000.0    63.150000\n",
              "3                    Azuki          0.0  ...       10000.0    54.030000\n",
              "4    Mutant Ape Yacht Club          0.0  ...       17960.0    65.456570\n",
              "..                     ...          ...  ...           ...          ...\n",
              "120      Cometh Spaceships          0.0  ...       11357.0     6.013912\n",
              "121      Angry Apes United          0.0  ...        8888.0    55.625563\n",
              "122                 Skullx          0.0  ...       10000.0    25.730000\n",
              "123    Light Super Bunnies          0.0  ...        4457.0    38.568544\n",
              "124               Spookies          0.0  ...        8888.0    30.119262\n",
              "\n",
              "[123 rows x 9 columns]"
            ]
          },
          "metadata": {},
          "execution_count": 159
        }
      ]
    },
    {
      "cell_type": "code",
      "source": [
        "df_ratio['Owner Ratio'].describe()"
      ],
      "metadata": {
        "id": "HIQ-TSex4peE",
        "colab": {
          "base_uri": "https://localhost:8080/"
        },
        "outputId": "a7c2a8c6-66c0-456a-9947-068751a28b92"
      },
      "execution_count": 160,
      "outputs": [
        {
          "output_type": "execute_result",
          "data": {
            "text/plain": [
              "count    123.000000\n",
              "mean      39.252269\n",
              "std       15.474928\n",
              "min        3.500000\n",
              "25%       30.219845\n",
              "50%       38.568544\n",
              "75%       50.863403\n",
              "max       78.190045\n",
              "Name: Owner Ratio, dtype: float64"
            ]
          },
          "metadata": {},
          "execution_count": 160
        }
      ]
    },
    {
      "cell_type": "code",
      "source": [
        "plt.figure(figsize=(12,6))\n",
        "df_ratio.boxplot('Owner Ratio')\n",
        "plt.show()"
      ],
      "metadata": {
        "id": "GmHwymRY4pil",
        "colab": {
          "base_uri": "https://localhost:8080/",
          "height": 374
        },
        "outputId": "483f6079-8f3e-4936-942b-b14171fd91fb"
      },
      "execution_count": 161,
      "outputs": [
        {
          "output_type": "display_data",
          "data": {
            "image/png": "[encoded data removed]",
            "text/plain": [
              "<Figure size 864x432 with 1 Axes>"
            ]
          },
          "metadata": {
            "needs_background": "light"
          }
        }
      ]
    },
    {
      "cell_type": "markdown",
      "source": [
        "#4ºParte: Analisando as relações do início:"
      ],
      "metadata": {
        "id": "nXhvASnTfOBK"
      }
    },
    {
      "cell_type": "markdown",
      "source": [
        "##Premissas:\n",
        "\n",
        "1. O market cap é o que entenderíamos pela receita total do projeto.  No entanto, muitos indicadores (incluindo a coingecko), simplesmente multiplicam a quantidade de NFTs (total assets) pelo preço do NFT mais baixo (floor price), o que significa que não é exatamente confiável. O market cap é o melhor parâmetro para entender o crescimento do projeto a longo prazo e o seu sucesso, porém, como tudo em finanças, não é uma medida exata, existem diversos outros fatores que garantem o sucesso de um projeto.\n",
        "\n",
        "2. Podemos considerar, por ser os top projetos NFTs, que eles deram sold out, ou seja, eles foram completamente vendidos. Por que isso é relevante? Quando um projeto tem todos seus NFTs vendidos, ele é considerado um bom projeto e o seu floor price se estabiliza, na maioria das vezes. Não é incomum um projeto estar completamente vendido.\n",
        "\n",
        "3. Como busco identificar quais projetos se destacam de alguma maneira e quais indicadores a maior parte dos projetos possuem, as colunas que devem ser ressaltadas são: o floor price, market cap e owners (preço de \"chão\" (preço do NFT mais barato), receita do projeto e os proprietários).\n"
      ],
      "metadata": {
        "id": "lWMhQ7iDCYDr"
      }
    },
    {
      "cell_type": "markdown",
      "source": [
        "##Hipóteses e demonstrações:\n"
      ],
      "metadata": {
        "id": "XVU74pytiHPb"
      }
    },
    {
      "cell_type": "markdown",
      "source": [
        "###O market cap é verdadeiro?"
      ],
      "metadata": {
        "id": "0A14GDtG_hVj"
      }
    },
    {
      "cell_type": "markdown",
      "source": [
        "- Muitos sites são conhecidos por não apresentar um market cap correto. O que posso fazer para verificar essa informação? Sei que, no mínimo, o market cap vai ser maior do que Total_assets (total de ativos) multiplicado floor_price (o preço do NFT mais baixo do projeto). "
      ],
      "metadata": {
        "id": "e5FOzTNw5tXn"
      }
    },
    {
      "cell_type": "code",
      "source": [
        "total_assets = []\n",
        "floor_price = []\n",
        "\n",
        "for price in df['Floor Price']:\n",
        "  floor_price.append(price)\n",
        "\n",
        "for asset in df['Total Assets']:\n",
        "  total_assets.append(asset)\n"
      ],
      "metadata": {
        "id": "-pPtRdIr4Yzn"
      },
      "execution_count": 162,
      "outputs": []
    },
    {
      "cell_type": "code",
      "source": [
        "makt_caps = []\n",
        "for i in range(len(total_assets)):\n",
        "  makt_cap = floor_price[i]*total_assets[i]\n",
        "  makt_caps.append(makt_cap)"
      ],
      "metadata": {
        "id": "4Zj8Pj-ozfur"
      },
      "execution_count": 163,
      "outputs": []
    },
    {
      "cell_type": "code",
      "source": [
        "makt_caps2 = []\n",
        "for makt_cap in df['Market Cap']:\n",
        "  makt_caps2.append(makt_cap)"
      ],
      "metadata": {
        "id": "4o0mLvu-zfww"
      },
      "execution_count": 164,
      "outputs": []
    },
    {
      "cell_type": "code",
      "source": [
        "larger = []\n",
        "equal = []\n",
        "smaller = []\n",
        "\n",
        "flag=0\n",
        "for i in range(len(makt_caps)):\n",
        "  if makt_caps[i] == makt_caps2[i]:\n",
        "    flag = 1\n",
        "    equal.append(flag)\n",
        "  elif makt_caps[i] > makt_caps2[i]:\n",
        "    flag = 2\n",
        "    equal.append(flag)\n",
        "  elif makt_caps[i] < makt_caps2[i]:\n",
        "    flag = 3\n",
        "    smaller.append(flag)"
      ],
      "metadata": {
        "id": "t-kTe6CK7DW2"
      },
      "execution_count": 165,
      "outputs": []
    },
    {
      "cell_type": "markdown",
      "source": [
        "- As flags indicam se o market cap do dataset é igual, menor ou maior que a multiplicação dos ativos totais do projeto com o floor price."
      ],
      "metadata": {
        "id": "T3RqOSOn_R4O"
      }
    },
    {
      "cell_type": "code",
      "source": [
        "print(len(equal), len(smaller), len(larger))"
      ],
      "metadata": {
        "colab": {
          "base_uri": "https://localhost:8080/"
        },
        "id": "_vyEheZn_fXy",
        "outputId": "e0b5f83a-2528-4a07-ffe0-5d0a1110b832"
      },
      "execution_count": 166,
      "outputs": [
        {
          "output_type": "stream",
          "name": "stdout",
          "text": [
            "0 125 0\n"
          ]
        }
      ]
    },
    {
      "cell_type": "markdown",
      "source": [
        "- Aqui temos as relações. No dia 10/02, encontrei nenhum market cap maior que a multiplicação e inclusive, 19 marketcaps eram menores do que a relação floor_price * total_assets, o que indica que ele é *menor* do que o mínimo esperado. Portanto, o que indica que essa coluna não é verídica. No entanto, é importante ressaltar que não é um dado descartável visto que a maior parte (106) dos market caps indicam o market cap *mínimo*. O que podemos saber é que ele não é o verdadeiro market cap do projeto."
      ],
      "metadata": {
        "id": "6ZYuxNVK_xvx"
      }
    },
    {
      "cell_type": "markdown",
      "source": [
        "###Relações do floor price:"
      ],
      "metadata": {
        "id": "Ast_X_L8k1kS"
      }
    },
    {
      "cell_type": "code",
      "source": [
        "df_fp = pd.DataFrame([df['Floor Price'], df['Market Cap']])"
      ],
      "metadata": {
        "id": "32aOyZYFzfm0"
      },
      "execution_count": 167,
      "outputs": []
    },
    {
      "cell_type": "code",
      "source": [
        "df_fp = df_fp.transpose()"
      ],
      "metadata": {
        "id": "ODdLGQT3zfpQ"
      },
      "execution_count": 168,
      "outputs": []
    },
    {
      "cell_type": "code",
      "source": [
        "plt.figure(figsize=(12,8))\n",
        "heatmap = sns.heatmap(df_fp.corr(), cmap=\"BuPu\", annot=True)\n",
        "heatmap.set_title('Correlation Heatmap', fontdict={'fontsize':18}, pad=12);"
      ],
      "metadata": {
        "colab": {
          "base_uri": "https://localhost:8080/",
          "height": 509
        },
        "id": "Qj89Vmqrzfr_",
        "outputId": "5f4e4f20-ce9b-455f-883b-eeb36480ba28"
      },
      "execution_count": 190,
      "outputs": [
        {
          "output_type": "display_data",
          "data": {
            "image/png": "[encoded data removed]",
            "text/plain": [
              "<Figure size 864x576 with 2 Axes>"
            ]
          },
          "metadata": {
            "needs_background": "light"
          }
        }
      ]
    },
    {
      "cell_type": "markdown",
      "source": [
        "- Essa informação é importante, um alto indice de correlação, mas não é uma informação vital visto o que foi demonstrado acima."
      ],
      "metadata": {
        "id": "mYB938QMA8vp"
      }
    },
    {
      "cell_type": "markdown",
      "source": [
        "###Quanto mais ativos, mais proprietários terá o projeto?"
      ],
      "metadata": {
        "id": "W4nhMAZPC3QS"
      }
    },
    {
      "cell_type": "code",
      "source": [
        "df2 = pd.DataFrame([df['Owners'], df['Total Assets']])"
      ],
      "metadata": {
        "id": "c20h9sE04RPx"
      },
      "execution_count": 170,
      "outputs": []
    },
    {
      "cell_type": "code",
      "source": [
        "df2.transpose().describe()"
      ],
      "metadata": {
        "id": "H91mpFBAvtJC",
        "colab": {
          "base_uri": "https://localhost:8080/",
          "height": 300
        },
        "outputId": "35e19db6-34d1-41aa-b8d5-8a0c8b01c140"
      },
      "execution_count": 171,
      "outputs": [
        {
          "output_type": "execute_result",
          "data": {
            "text/html": [
              "\n",
              "  <div id=\"df-6fb83f92-0488-4a85-a8e7-9cfc09fd6f4d\">\n",
              "    <div class=\"colab-df-container\">\n",
              "      <div>\n",
              "<style scoped>\n",
              "    .dataframe tbody tr th:only-of-type {\n",
              "        vertical-align: middle;\n",
              "    }\n",
              "\n",
              "    .dataframe tbody tr th {\n",
              "        vertical-align: top;\n",
              "    }\n",
              "\n",
              "    .dataframe thead th {\n",
              "        text-align: right;\n",
              "    }\n",
              "</style>\n",
              "<table border=\"1\" class=\"dataframe\">\n",
              "  <thead>\n",
              "    <tr style=\"text-align: right;\">\n",
              "      <th></th>\n",
              "      <th>Owners</th>\n",
              "      <th>Total Assets</th>\n",
              "    </tr>\n",
              "  </thead>\n",
              "  <tbody>\n",
              "    <tr>\n",
              "      <th>count</th>\n",
              "      <td>125.00000</td>\n",
              "      <td>125.000000</td>\n",
              "    </tr>\n",
              "    <tr>\n",
              "      <th>mean</th>\n",
              "      <td>3958.62400</td>\n",
              "      <td>10695.536000</td>\n",
              "    </tr>\n",
              "    <tr>\n",
              "      <th>std</th>\n",
              "      <td>3670.41917</td>\n",
              "      <td>13763.084109</td>\n",
              "    </tr>\n",
              "    <tr>\n",
              "      <th>min</th>\n",
              "      <td>293.00000</td>\n",
              "      <td>3.000000</td>\n",
              "    </tr>\n",
              "    <tr>\n",
              "      <th>25%</th>\n",
              "      <td>2095.00000</td>\n",
              "      <td>7231.000000</td>\n",
              "    </tr>\n",
              "    <tr>\n",
              "      <th>50%</th>\n",
              "      <td>3398.00000</td>\n",
              "      <td>9999.000000</td>\n",
              "    </tr>\n",
              "    <tr>\n",
              "      <th>75%</th>\n",
              "      <td>5045.00000</td>\n",
              "      <td>10000.000000</td>\n",
              "    </tr>\n",
              "    <tr>\n",
              "      <th>max</th>\n",
              "      <td>32732.00000</td>\n",
              "      <td>147849.000000</td>\n",
              "    </tr>\n",
              "  </tbody>\n",
              "</table>\n",
              "</div>\n",
              "      <button class=\"colab-df-convert\" onclick=\"convertToInteractive('df-6fb83f92-0488-4a85-a8e7-9cfc09fd6f4d')\"\n",
              "              title=\"Convert this dataframe to an interactive table.\"\n",
              "              style=\"display:none;\">\n",
              "        \n",
              "  <svg xmlns=\"http://www.w3.org/2000/svg\" height=\"24px\"viewBox=\"0 0 24 24\"\n",
              "       width=\"24px\">\n",
              "    <path d=\"M0 0h24v24H0V0z\" fill=\"none\"/>\n",
              "    <path d=\"M18.56 5.44l.94 2.06.94-2.06 2.06-.94-2.06-.94-.94-2.06-.94 2.06-2.06.94zm-11 1L8.5 8.5l.94-2.06 2.06-.94-2.06-.94L8.5 2.5l-.94 2.06-2.06.94zm10 10l.94 2.06.94-2.06 2.06-.94-2.06-.94-.94-2.06-.94 2.06-2.06.94z\"/><path d=\"M17.41 7.96l-1.37-1.37c-.4-.4-.92-.59-1.43-.59-.52 0-1.04.2-1.43.59L10.3 9.45l-7.72 7.72c-.78.78-.78 2.05 0 2.83L4 21.41c.39.39.9.59 1.41.59.51 0 1.02-.2 1.41-.59l7.78-7.78 2.81-2.81c.8-.78.8-2.07 0-2.86zM5.41 20L4 18.59l7.72-7.72 1.47 1.35L5.41 20z\"/>\n",
              "  </svg>\n",
              "      </button>\n",
              "      \n",
              "  <style>\n",
              "    .colab-df-container {\n",
              "      display:flex;\n",
              "      flex-wrap:wrap;\n",
              "      gap: 12px;\n",
              "    }\n",
              "\n",
              "    .colab-df-convert {\n",
              "      background-color: #E8F0FE;\n",
              "      border: none;\n",
              "      border-radius: 50%;\n",
              "      cursor: pointer;\n",
              "      display: none;\n",
              "      fill: #1967D2;\n",
              "      height: 32px;\n",
              "      padding: 0 0 0 0;\n",
              "      width: 32px;\n",
              "    }\n",
              "\n",
              "    .colab-df-convert:hover {\n",
              "      background-color: #E2EBFA;\n",
              "      box-shadow: 0px 1px 2px rgba(60, 64, 67, 0.3), 0px 1px 3px 1px rgba(60, 64, 67, 0.15);\n",
              "      fill: #174EA6;\n",
              "    }\n",
              "\n",
              "    [theme=dark] .colab-df-convert {\n",
              "      background-color: #3B4455;\n",
              "      fill: #D2E3FC;\n",
              "    }\n",
              "\n",
              "    [theme=dark] .colab-df-convert:hover {\n",
              "      background-color: #434B5C;\n",
              "      box-shadow: 0px 1px 3px 1px rgba(0, 0, 0, 0.15);\n",
              "      filter: drop-shadow(0px 1px 2px rgba(0, 0, 0, 0.3));\n",
              "      fill: #FFFFFF;\n",
              "    }\n",
              "  </style>\n",
              "\n",
              "      <script>\n",
              "        const buttonEl =\n",
              "          document.querySelector('#df-6fb83f92-0488-4a85-a8e7-9cfc09fd6f4d button.colab-df-convert');\n",
              "        buttonEl.style.display =\n",
              "          google.colab.kernel.accessAllowed ? 'block' : 'none';\n",
              "\n",
              "        async function convertToInteractive(key) {\n",
              "          const element = document.querySelector('#df-6fb83f92-0488-4a85-a8e7-9cfc09fd6f4d');\n",
              "          const dataTable =\n",
              "            await google.colab.kernel.invokeFunction('convertToInteractive',\n",
              "                                                     [key], {});\n",
              "          if (!dataTable) return;\n",
              "\n",
              "          const docLinkHtml = 'Like what you see? Visit the ' +\n",
              "            '<a target=\"_blank\" href=https://colab.research.google.com/notebooks/data_table.ipynb>data table notebook</a>'\n",
              "            + ' to learn more about interactive tables.';\n",
              "          element.innerHTML = '';\n",
              "          dataTable['output_type'] = 'display_data';\n",
              "          await google.colab.output.renderOutput(dataTable, element);\n",
              "          const docLink = document.createElement('div');\n",
              "          docLink.innerHTML = docLinkHtml;\n",
              "          element.appendChild(docLink);\n",
              "        }\n",
              "      </script>\n",
              "    </div>\n",
              "  </div>\n",
              "  "
            ],
            "text/plain": [
              "            Owners   Total Assets\n",
              "count    125.00000     125.000000\n",
              "mean    3958.62400   10695.536000\n",
              "std     3670.41917   13763.084109\n",
              "min      293.00000       3.000000\n",
              "25%     2095.00000    7231.000000\n",
              "50%     3398.00000    9999.000000\n",
              "75%     5045.00000   10000.000000\n",
              "max    32732.00000  147849.000000"
            ]
          },
          "metadata": {},
          "execution_count": 171
        }
      ]
    },
    {
      "cell_type": "code",
      "source": [
        "df2.head()"
      ],
      "metadata": {
        "id": "tGJzaYtrvwQ4",
        "colab": {
          "base_uri": "https://localhost:8080/",
          "height": 223
        },
        "outputId": "32bd3dca-eca2-4d79-cb4f-a7d296818881"
      },
      "execution_count": 172,
      "outputs": [
        {
          "output_type": "execute_result",
          "data": {
            "text/html": [
              "\n",
              "  <div id=\"df-07ab87be-1de6-4c76-a8a5-02fc3554306a\">\n",
              "    <div class=\"colab-df-container\">\n",
              "      <div>\n",
              "<style scoped>\n",
              "    .dataframe tbody tr th:only-of-type {\n",
              "        vertical-align: middle;\n",
              "    }\n",
              "\n",
              "    .dataframe tbody tr th {\n",
              "        vertical-align: top;\n",
              "    }\n",
              "\n",
              "    .dataframe thead th {\n",
              "        text-align: right;\n",
              "    }\n",
              "</style>\n",
              "<table border=\"1\" class=\"dataframe\">\n",
              "  <thead>\n",
              "    <tr style=\"text-align: right;\">\n",
              "      <th></th>\n",
              "      <th>0</th>\n",
              "      <th>1</th>\n",
              "      <th>2</th>\n",
              "      <th>3</th>\n",
              "      <th>4</th>\n",
              "      <th>5</th>\n",
              "      <th>6</th>\n",
              "      <th>7</th>\n",
              "      <th>8</th>\n",
              "      <th>9</th>\n",
              "      <th>10</th>\n",
              "      <th>11</th>\n",
              "      <th>12</th>\n",
              "      <th>13</th>\n",
              "      <th>14</th>\n",
              "      <th>15</th>\n",
              "      <th>16</th>\n",
              "      <th>17</th>\n",
              "      <th>18</th>\n",
              "      <th>19</th>\n",
              "      <th>20</th>\n",
              "      <th>21</th>\n",
              "      <th>22</th>\n",
              "      <th>23</th>\n",
              "      <th>24</th>\n",
              "      <th>25</th>\n",
              "      <th>26</th>\n",
              "      <th>27</th>\n",
              "      <th>28</th>\n",
              "      <th>29</th>\n",
              "      <th>30</th>\n",
              "      <th>31</th>\n",
              "      <th>32</th>\n",
              "      <th>33</th>\n",
              "      <th>34</th>\n",
              "      <th>35</th>\n",
              "      <th>36</th>\n",
              "      <th>37</th>\n",
              "      <th>38</th>\n",
              "      <th>39</th>\n",
              "      <th>...</th>\n",
              "      <th>85</th>\n",
              "      <th>86</th>\n",
              "      <th>87</th>\n",
              "      <th>88</th>\n",
              "      <th>89</th>\n",
              "      <th>90</th>\n",
              "      <th>91</th>\n",
              "      <th>92</th>\n",
              "      <th>93</th>\n",
              "      <th>94</th>\n",
              "      <th>95</th>\n",
              "      <th>96</th>\n",
              "      <th>97</th>\n",
              "      <th>98</th>\n",
              "      <th>99</th>\n",
              "      <th>100</th>\n",
              "      <th>101</th>\n",
              "      <th>102</th>\n",
              "      <th>103</th>\n",
              "      <th>104</th>\n",
              "      <th>105</th>\n",
              "      <th>106</th>\n",
              "      <th>107</th>\n",
              "      <th>108</th>\n",
              "      <th>109</th>\n",
              "      <th>110</th>\n",
              "      <th>111</th>\n",
              "      <th>112</th>\n",
              "      <th>113</th>\n",
              "      <th>114</th>\n",
              "      <th>115</th>\n",
              "      <th>116</th>\n",
              "      <th>117</th>\n",
              "      <th>118</th>\n",
              "      <th>119</th>\n",
              "      <th>120</th>\n",
              "      <th>121</th>\n",
              "      <th>122</th>\n",
              "      <th>123</th>\n",
              "      <th>124</th>\n",
              "    </tr>\n",
              "  </thead>\n",
              "  <tbody>\n",
              "    <tr>\n",
              "      <th>Owners</th>\n",
              "      <td>2648.0</td>\n",
              "      <td>5747.0</td>\n",
              "      <td>6315.0</td>\n",
              "      <td>5403.0</td>\n",
              "      <td>11756.0</td>\n",
              "      <td>8292.0</td>\n",
              "      <td>19727.0</td>\n",
              "      <td>10587.0</td>\n",
              "      <td>3390.0</td>\n",
              "      <td>5073.0</td>\n",
              "      <td>6024.0</td>\n",
              "      <td>481.0</td>\n",
              "      <td>2998.0</td>\n",
              "      <td>5154.0</td>\n",
              "      <td>5217.0</td>\n",
              "      <td>4839.0</td>\n",
              "      <td>5371.0</td>\n",
              "      <td>2747.0</td>\n",
              "      <td>8259.0</td>\n",
              "      <td>5441.0</td>\n",
              "      <td>3576.0</td>\n",
              "      <td>6897.0</td>\n",
              "      <td>8661.0</td>\n",
              "      <td>3358.0</td>\n",
              "      <td>4754.0</td>\n",
              "      <td>3874.0</td>\n",
              "      <td>5045.0</td>\n",
              "      <td>519.0</td>\n",
              "      <td>1369.0</td>\n",
              "      <td>6134.0</td>\n",
              "      <td>4523.0</td>\n",
              "      <td>2870.0</td>\n",
              "      <td>5746.0</td>\n",
              "      <td>301.0</td>\n",
              "      <td>3774.0</td>\n",
              "      <td>4400.0</td>\n",
              "      <td>2438.0</td>\n",
              "      <td>9247.0</td>\n",
              "      <td>2858.0</td>\n",
              "      <td>2157.0</td>\n",
              "      <td>...</td>\n",
              "      <td>1505.0</td>\n",
              "      <td>5100.0</td>\n",
              "      <td>4201.0</td>\n",
              "      <td>350.0</td>\n",
              "      <td>3453.0</td>\n",
              "      <td>2752.0</td>\n",
              "      <td>3010.0</td>\n",
              "      <td>2910.0</td>\n",
              "      <td>2702.0</td>\n",
              "      <td>1384.0</td>\n",
              "      <td>500.0</td>\n",
              "      <td>3403.0</td>\n",
              "      <td>1108.0</td>\n",
              "      <td>3959.0</td>\n",
              "      <td>2617.0</td>\n",
              "      <td>3838.0</td>\n",
              "      <td>1474.0</td>\n",
              "      <td>1147.0</td>\n",
              "      <td>293.0</td>\n",
              "      <td>2852.0</td>\n",
              "      <td>597.0</td>\n",
              "      <td>1059.0</td>\n",
              "      <td>3541.0</td>\n",
              "      <td>2271.0</td>\n",
              "      <td>1841.0</td>\n",
              "      <td>4967.0</td>\n",
              "      <td>3462.0</td>\n",
              "      <td>2788.0</td>\n",
              "      <td>3235.0</td>\n",
              "      <td>813.0</td>\n",
              "      <td>1845.0</td>\n",
              "      <td>5111.0</td>\n",
              "      <td>3999.0</td>\n",
              "      <td>2083.0</td>\n",
              "      <td>1377.0</td>\n",
              "      <td>683.0</td>\n",
              "      <td>4944.0</td>\n",
              "      <td>2573.0</td>\n",
              "      <td>1719.0</td>\n",
              "      <td>2677.0</td>\n",
              "    </tr>\n",
              "    <tr>\n",
              "      <th>Total Assets</th>\n",
              "      <td>4870.0</td>\n",
              "      <td>20000.0</td>\n",
              "      <td>10000.0</td>\n",
              "      <td>10000.0</td>\n",
              "      <td>17960.0</td>\n",
              "      <td>18877.0</td>\n",
              "      <td>147849.0</td>\n",
              "      <td>18583.0</td>\n",
              "      <td>9999.0</td>\n",
              "      <td>10000.0</td>\n",
              "      <td>10000.0</td>\n",
              "      <td>10000.0</td>\n",
              "      <td>9500.0</td>\n",
              "      <td>9933.0</td>\n",
              "      <td>10255.0</td>\n",
              "      <td>8888.0</td>\n",
              "      <td>10000.0</td>\n",
              "      <td>9408.0</td>\n",
              "      <td>23204.0</td>\n",
              "      <td>10000.0</td>\n",
              "      <td>10000.0</td>\n",
              "      <td>10000.0</td>\n",
              "      <td>24999.0</td>\n",
              "      <td>14533.0</td>\n",
              "      <td>9757.0</td>\n",
              "      <td>7025.0</td>\n",
              "      <td>10080.0</td>\n",
              "      <td>10000.0</td>\n",
              "      <td>8888.0</td>\n",
              "      <td>10000.0</td>\n",
              "      <td>8733.0</td>\n",
              "      <td>10056.0</td>\n",
              "      <td>10777.0</td>\n",
              "      <td>6458.0</td>\n",
              "      <td>10000.0</td>\n",
              "      <td>8888.0</td>\n",
              "      <td>5000.0</td>\n",
              "      <td>26985.0</td>\n",
              "      <td>3.0</td>\n",
              "      <td>5000.0</td>\n",
              "      <td>...</td>\n",
              "      <td>5000.0</td>\n",
              "      <td>10419.0</td>\n",
              "      <td>12345.0</td>\n",
              "      <td>10000.0</td>\n",
              "      <td>9999.0</td>\n",
              "      <td>7000.0</td>\n",
              "      <td>10000.0</td>\n",
              "      <td>7777.0</td>\n",
              "      <td>9999.0</td>\n",
              "      <td>3498.0</td>\n",
              "      <td>1106.0</td>\n",
              "      <td>7977.0</td>\n",
              "      <td>2048.0</td>\n",
              "      <td>8008.0</td>\n",
              "      <td>5550.0</td>\n",
              "      <td>10000.0</td>\n",
              "      <td>4160.0</td>\n",
              "      <td>2250.0</td>\n",
              "      <td>526.0</td>\n",
              "      <td>7777.0</td>\n",
              "      <td>7806.0</td>\n",
              "      <td>10000.0</td>\n",
              "      <td>10000.0</td>\n",
              "      <td>7490.0</td>\n",
              "      <td>4027.0</td>\n",
              "      <td>25458.0</td>\n",
              "      <td>12442.0</td>\n",
              "      <td>10100.0</td>\n",
              "      <td>7335.0</td>\n",
              "      <td>5555.0</td>\n",
              "      <td>8192.0</td>\n",
              "      <td>10000.0</td>\n",
              "      <td>9899.0</td>\n",
              "      <td>4950.0</td>\n",
              "      <td>2799.0</td>\n",
              "      <td>11357.0</td>\n",
              "      <td>8888.0</td>\n",
              "      <td>10000.0</td>\n",
              "      <td>4457.0</td>\n",
              "      <td>8888.0</td>\n",
              "    </tr>\n",
              "  </tbody>\n",
              "</table>\n",
              "<p>2 rows × 125 columns</p>\n",
              "</div>\n",
              "      <button class=\"colab-df-convert\" onclick=\"convertToInteractive('df-07ab87be-1de6-4c76-a8a5-02fc3554306a')\"\n",
              "              title=\"Convert this dataframe to an interactive table.\"\n",
              "              style=\"display:none;\">\n",
              "        \n",
              "  <svg xmlns=\"http://www.w3.org/2000/svg\" height=\"24px\"viewBox=\"0 0 24 24\"\n",
              "       width=\"24px\">\n",
              "    <path d=\"M0 0h24v24H0V0z\" fill=\"none\"/>\n",
              "    <path d=\"M18.56 5.44l.94 2.06.94-2.06 2.06-.94-2.06-.94-.94-2.06-.94 2.06-2.06.94zm-11 1L8.5 8.5l.94-2.06 2.06-.94-2.06-.94L8.5 2.5l-.94 2.06-2.06.94zm10 10l.94 2.06.94-2.06 2.06-.94-2.06-.94-.94-2.06-.94 2.06-2.06.94z\"/><path d=\"M17.41 7.96l-1.37-1.37c-.4-.4-.92-.59-1.43-.59-.52 0-1.04.2-1.43.59L10.3 9.45l-7.72 7.72c-.78.78-.78 2.05 0 2.83L4 21.41c.39.39.9.59 1.41.59.51 0 1.02-.2 1.41-.59l7.78-7.78 2.81-2.81c.8-.78.8-2.07 0-2.86zM5.41 20L4 18.59l7.72-7.72 1.47 1.35L5.41 20z\"/>\n",
              "  </svg>\n",
              "      </button>\n",
              "      \n",
              "  <style>\n",
              "    .colab-df-container {\n",
              "      display:flex;\n",
              "      flex-wrap:wrap;\n",
              "      gap: 12px;\n",
              "    }\n",
              "\n",
              "    .colab-df-convert {\n",
              "      background-color: #E8F0FE;\n",
              "      border: none;\n",
              "      border-radius: 50%;\n",
              "      cursor: pointer;\n",
              "      display: none;\n",
              "      fill: #1967D2;\n",
              "      height: 32px;\n",
              "      padding: 0 0 0 0;\n",
              "      width: 32px;\n",
              "    }\n",
              "\n",
              "    .colab-df-convert:hover {\n",
              "      background-color: #E2EBFA;\n",
              "      box-shadow: 0px 1px 2px rgba(60, 64, 67, 0.3), 0px 1px 3px 1px rgba(60, 64, 67, 0.15);\n",
              "      fill: #174EA6;\n",
              "    }\n",
              "\n",
              "    [theme=dark] .colab-df-convert {\n",
              "      background-color: #3B4455;\n",
              "      fill: #D2E3FC;\n",
              "    }\n",
              "\n",
              "    [theme=dark] .colab-df-convert:hover {\n",
              "      background-color: #434B5C;\n",
              "      box-shadow: 0px 1px 3px 1px rgba(0, 0, 0, 0.15);\n",
              "      filter: drop-shadow(0px 1px 2px rgba(0, 0, 0, 0.3));\n",
              "      fill: #FFFFFF;\n",
              "    }\n",
              "  </style>\n",
              "\n",
              "      <script>\n",
              "        const buttonEl =\n",
              "          document.querySelector('#df-07ab87be-1de6-4c76-a8a5-02fc3554306a button.colab-df-convert');\n",
              "        buttonEl.style.display =\n",
              "          google.colab.kernel.accessAllowed ? 'block' : 'none';\n",
              "\n",
              "        async function convertToInteractive(key) {\n",
              "          const element = document.querySelector('#df-07ab87be-1de6-4c76-a8a5-02fc3554306a');\n",
              "          const dataTable =\n",
              "            await google.colab.kernel.invokeFunction('convertToInteractive',\n",
              "                                                     [key], {});\n",
              "          if (!dataTable) return;\n",
              "\n",
              "          const docLinkHtml = 'Like what you see? Visit the ' +\n",
              "            '<a target=\"_blank\" href=https://colab.research.google.com/notebooks/data_table.ipynb>data table notebook</a>'\n",
              "            + ' to learn more about interactive tables.';\n",
              "          element.innerHTML = '';\n",
              "          dataTable['output_type'] = 'display_data';\n",
              "          await google.colab.output.renderOutput(dataTable, element);\n",
              "          const docLink = document.createElement('div');\n",
              "          docLink.innerHTML = docLinkHtml;\n",
              "          element.appendChild(docLink);\n",
              "        }\n",
              "      </script>\n",
              "    </div>\n",
              "  </div>\n",
              "  "
            ],
            "text/plain": [
              "                 0        1        2    ...      122     123     124\n",
              "Owners        2648.0   5747.0   6315.0  ...   2573.0  1719.0  2677.0\n",
              "Total Assets  4870.0  20000.0  10000.0  ...  10000.0  4457.0  8888.0\n",
              "\n",
              "[2 rows x 125 columns]"
            ]
          },
          "metadata": {},
          "execution_count": 172
        }
      ]
    },
    {
      "cell_type": "code",
      "source": [
        "df2 = df2.transpose()"
      ],
      "metadata": {
        "id": "Z-nAYlKh72Yy"
      },
      "execution_count": 173,
      "outputs": []
    },
    {
      "cell_type": "code",
      "source": [
        "df2"
      ],
      "metadata": {
        "colab": {
          "base_uri": "https://localhost:8080/",
          "height": 424
        },
        "id": "k9eNflBx79r6",
        "outputId": "5aab30d9-b031-461b-ea35-6e3ebfc3fc96"
      },
      "execution_count": 174,
      "outputs": [
        {
          "output_type": "execute_result",
          "data": {
            "text/html": [
              "\n",
              "  <div id=\"df-870125e9-a2fd-4d7f-959a-a6b32ce850e2\">\n",
              "    <div class=\"colab-df-container\">\n",
              "      <div>\n",
              "<style scoped>\n",
              "    .dataframe tbody tr th:only-of-type {\n",
              "        vertical-align: middle;\n",
              "    }\n",
              "\n",
              "    .dataframe tbody tr th {\n",
              "        vertical-align: top;\n",
              "    }\n",
              "\n",
              "    .dataframe thead th {\n",
              "        text-align: right;\n",
              "    }\n",
              "</style>\n",
              "<table border=\"1\" class=\"dataframe\">\n",
              "  <thead>\n",
              "    <tr style=\"text-align: right;\">\n",
              "      <th></th>\n",
              "      <th>Owners</th>\n",
              "      <th>Total Assets</th>\n",
              "    </tr>\n",
              "  </thead>\n",
              "  <tbody>\n",
              "    <tr>\n",
              "      <th>0</th>\n",
              "      <td>2648.0</td>\n",
              "      <td>4870.0</td>\n",
              "    </tr>\n",
              "    <tr>\n",
              "      <th>1</th>\n",
              "      <td>5747.0</td>\n",
              "      <td>20000.0</td>\n",
              "    </tr>\n",
              "    <tr>\n",
              "      <th>2</th>\n",
              "      <td>6315.0</td>\n",
              "      <td>10000.0</td>\n",
              "    </tr>\n",
              "    <tr>\n",
              "      <th>3</th>\n",
              "      <td>5403.0</td>\n",
              "      <td>10000.0</td>\n",
              "    </tr>\n",
              "    <tr>\n",
              "      <th>4</th>\n",
              "      <td>11756.0</td>\n",
              "      <td>17960.0</td>\n",
              "    </tr>\n",
              "    <tr>\n",
              "      <th>...</th>\n",
              "      <td>...</td>\n",
              "      <td>...</td>\n",
              "    </tr>\n",
              "    <tr>\n",
              "      <th>120</th>\n",
              "      <td>683.0</td>\n",
              "      <td>11357.0</td>\n",
              "    </tr>\n",
              "    <tr>\n",
              "      <th>121</th>\n",
              "      <td>4944.0</td>\n",
              "      <td>8888.0</td>\n",
              "    </tr>\n",
              "    <tr>\n",
              "      <th>122</th>\n",
              "      <td>2573.0</td>\n",
              "      <td>10000.0</td>\n",
              "    </tr>\n",
              "    <tr>\n",
              "      <th>123</th>\n",
              "      <td>1719.0</td>\n",
              "      <td>4457.0</td>\n",
              "    </tr>\n",
              "    <tr>\n",
              "      <th>124</th>\n",
              "      <td>2677.0</td>\n",
              "      <td>8888.0</td>\n",
              "    </tr>\n",
              "  </tbody>\n",
              "</table>\n",
              "<p>125 rows × 2 columns</p>\n",
              "</div>\n",
              "      <button class=\"colab-df-convert\" onclick=\"convertToInteractive('df-870125e9-a2fd-4d7f-959a-a6b32ce850e2')\"\n",
              "              title=\"Convert this dataframe to an interactive table.\"\n",
              "              style=\"display:none;\">\n",
              "        \n",
              "  <svg xmlns=\"http://www.w3.org/2000/svg\" height=\"24px\"viewBox=\"0 0 24 24\"\n",
              "       width=\"24px\">\n",
              "    <path d=\"M0 0h24v24H0V0z\" fill=\"none\"/>\n",
              "    <path d=\"M18.56 5.44l.94 2.06.94-2.06 2.06-.94-2.06-.94-.94-2.06-.94 2.06-2.06.94zm-11 1L8.5 8.5l.94-2.06 2.06-.94-2.06-.94L8.5 2.5l-.94 2.06-2.06.94zm10 10l.94 2.06.94-2.06 2.06-.94-2.06-.94-.94-2.06-.94 2.06-2.06.94z\"/><path d=\"M17.41 7.96l-1.37-1.37c-.4-.4-.92-.59-1.43-.59-.52 0-1.04.2-1.43.59L10.3 9.45l-7.72 7.72c-.78.78-.78 2.05 0 2.83L4 21.41c.39.39.9.59 1.41.59.51 0 1.02-.2 1.41-.59l7.78-7.78 2.81-2.81c.8-.78.8-2.07 0-2.86zM5.41 20L4 18.59l7.72-7.72 1.47 1.35L5.41 20z\"/>\n",
              "  </svg>\n",
              "      </button>\n",
              "      \n",
              "  <style>\n",
              "    .colab-df-container {\n",
              "      display:flex;\n",
              "      flex-wrap:wrap;\n",
              "      gap: 12px;\n",
              "    }\n",
              "\n",
              "    .colab-df-convert {\n",
              "      background-color: #E8F0FE;\n",
              "      border: none;\n",
              "      border-radius: 50%;\n",
              "      cursor: pointer;\n",
              "      display: none;\n",
              "      fill: #1967D2;\n",
              "      height: 32px;\n",
              "      padding: 0 0 0 0;\n",
              "      width: 32px;\n",
              "    }\n",
              "\n",
              "    .colab-df-convert:hover {\n",
              "      background-color: #E2EBFA;\n",
              "      box-shadow: 0px 1px 2px rgba(60, 64, 67, 0.3), 0px 1px 3px 1px rgba(60, 64, 67, 0.15);\n",
              "      fill: #174EA6;\n",
              "    }\n",
              "\n",
              "    [theme=dark] .colab-df-convert {\n",
              "      background-color: #3B4455;\n",
              "      fill: #D2E3FC;\n",
              "    }\n",
              "\n",
              "    [theme=dark] .colab-df-convert:hover {\n",
              "      background-color: #434B5C;\n",
              "      box-shadow: 0px 1px 3px 1px rgba(0, 0, 0, 0.15);\n",
              "      filter: drop-shadow(0px 1px 2px rgba(0, 0, 0, 0.3));\n",
              "      fill: #FFFFFF;\n",
              "    }\n",
              "  </style>\n",
              "\n",
              "      <script>\n",
              "        const buttonEl =\n",
              "          document.querySelector('#df-870125e9-a2fd-4d7f-959a-a6b32ce850e2 button.colab-df-convert');\n",
              "        buttonEl.style.display =\n",
              "          google.colab.kernel.accessAllowed ? 'block' : 'none';\n",
              "\n",
              "        async function convertToInteractive(key) {\n",
              "          const element = document.querySelector('#df-870125e9-a2fd-4d7f-959a-a6b32ce850e2');\n",
              "          const dataTable =\n",
              "            await google.colab.kernel.invokeFunction('convertToInteractive',\n",
              "                                                     [key], {});\n",
              "          if (!dataTable) return;\n",
              "\n",
              "          const docLinkHtml = 'Like what you see? Visit the ' +\n",
              "            '<a target=\"_blank\" href=https://colab.research.google.com/notebooks/data_table.ipynb>data table notebook</a>'\n",
              "            + ' to learn more about interactive tables.';\n",
              "          element.innerHTML = '';\n",
              "          dataTable['output_type'] = 'display_data';\n",
              "          await google.colab.output.renderOutput(dataTable, element);\n",
              "          const docLink = document.createElement('div');\n",
              "          docLink.innerHTML = docLinkHtml;\n",
              "          element.appendChild(docLink);\n",
              "        }\n",
              "      </script>\n",
              "    </div>\n",
              "  </div>\n",
              "  "
            ],
            "text/plain": [
              "      Owners  Total Assets\n",
              "0     2648.0        4870.0\n",
              "1     5747.0       20000.0\n",
              "2     6315.0       10000.0\n",
              "3     5403.0       10000.0\n",
              "4    11756.0       17960.0\n",
              "..       ...           ...\n",
              "120    683.0       11357.0\n",
              "121   4944.0        8888.0\n",
              "122   2573.0       10000.0\n",
              "123   1719.0        4457.0\n",
              "124   2677.0        8888.0\n",
              "\n",
              "[125 rows x 2 columns]"
            ]
          },
          "metadata": {},
          "execution_count": 174
        }
      ]
    },
    {
      "cell_type": "code",
      "source": [
        "plt.figure(figsize=(10,6))\n",
        "heatmap = sns.heatmap(df2.corr(), cmap=\"BuPu\", annot=True)\n",
        "heatmap.set_title('Correlation Heatmap', fontdict={'fontsize':18}, pad=12);"
      ],
      "metadata": {
        "id": "eD_FNXwJwFoM",
        "colab": {
          "base_uri": "https://localhost:8080/",
          "height": 400
        },
        "outputId": "4c15d4b4-3f6b-4fb1-9cc9-362d3b973f6b"
      },
      "execution_count": 175,
      "outputs": [
        {
          "output_type": "display_data",
          "data": {
            "image/png": "[encoded data removed]",
            "text/plain": [
              "<Figure size 720x432 with 2 Axes>"
            ]
          },
          "metadata": {
            "needs_background": "light"
          }
        }
      ]
    },
    {
      "cell_type": "markdown",
      "source": [
        "- Correlação forte! Não necessariamente um projeto terá mais proprietários quando se tem mais ativos, visto que um projeto pode ter muitos ativos e poucos donos - o que indicaria, muito provavelmente, que os ativos estão em um preço baixo, mas com expectativa de lucro. \n",
        "\n",
        "- Se o projeto tem muitos ativos e muitos donos, é muito provável que o preço esteja razoalvemente equilibrado na proporção entre os dois. Essa relação é espelhada na coluna owners_ratio."
      ],
      "metadata": {
        "id": "hHzI96i3wLvK"
      }
    },
    {
      "cell_type": "markdown",
      "source": [
        "###Há alguma relação entre o market cap e o total de ativos?"
      ],
      "metadata": {
        "id": "galurW-WDeO7"
      }
    },
    {
      "cell_type": "code",
      "source": [
        "df3 = pd.DataFrame([df['Market Cap'], df['Total Assets']])"
      ],
      "metadata": {
        "id": "-cwFEJVnxA5b"
      },
      "execution_count": 176,
      "outputs": []
    },
    {
      "cell_type": "code",
      "source": [
        "df3 = df3.transpose()"
      ],
      "metadata": {
        "id": "N5segWZTxGZB"
      },
      "execution_count": 177,
      "outputs": []
    },
    {
      "cell_type": "code",
      "source": [
        "plt.figure(figsize=(10,6))\n",
        "heatmap = sns.heatmap(df3.corr(), cmap=\"BuPu\", annot=True)\n",
        "heatmap.set_title('Correlation Heatmap', fontdict={'fontsize':18}, pad=12);"
      ],
      "metadata": {
        "id": "vr0eOPgWxJGS",
        "colab": {
          "base_uri": "https://localhost:8080/",
          "height": 400
        },
        "outputId": "308d01f9-36d7-4998-e8ed-af8d805352a9"
      },
      "execution_count": 178,
      "outputs": [
        {
          "output_type": "display_data",
          "data": {
            "image/png": "[encoded data removed]",
            "text/plain": [
              "<Figure size 720x432 with 2 Axes>"
            ]
          },
          "metadata": {
            "needs_background": "light"
          }
        }
      ]
    },
    {
      "cell_type": "markdown",
      "source": [
        "- Resposta: não é uma correlação forte, mas existe um indicativo. Não necessariamente quanto mais ativos, mais receita aquele projeto terá."
      ],
      "metadata": {
        "id": "JO4klX05DiHd"
      }
    },
    {
      "cell_type": "markdown",
      "source": [
        "###Correlacionando o proprietários, total de ativos e market cap:"
      ],
      "metadata": {
        "id": "ksF2C1_x0bwF"
      }
    },
    {
      "cell_type": "code",
      "source": [
        "df4 = pd.DataFrame([df['Owners'], df['Total Assets'], df['Market Cap']])"
      ],
      "metadata": {
        "id": "_JwgbOit0d52"
      },
      "execution_count": 179,
      "outputs": []
    },
    {
      "cell_type": "code",
      "source": [
        "df4 = df4.transpose()"
      ],
      "metadata": {
        "id": "wzQf83E51oFs"
      },
      "execution_count": 180,
      "outputs": []
    },
    {
      "cell_type": "code",
      "source": [
        "plt.figure(figsize=(12,8))\n",
        "heatmap = sns.heatmap(df4.corr(), cmap=\"BuPu\", annot=True)\n",
        "heatmap.set_title('Correlation Heatmap', fontdict={'fontsize':18}, pad=12);"
      ],
      "metadata": {
        "id": "uMRz5q950d8P",
        "colab": {
          "base_uri": "https://localhost:8080/",
          "height": 509
        },
        "outputId": "77832744-55c9-4dd9-dda4-c36514babd8a"
      },
      "execution_count": 181,
      "outputs": [
        {
          "output_type": "display_data",
          "data": {
            "image/png": "[encoded data removed]",
            "text/plain": [
              "<Figure size 864x576 with 2 Axes>"
            ]
          },
          "metadata": {
            "needs_background": "light"
          }
        }
      ]
    },
    {
      "cell_type": "markdown",
      "source": [
        "- Como podemos observar, a interação nova é entre proprietários e market cap"
      ],
      "metadata": {
        "id": "BILdixI_Dvr-"
      }
    },
    {
      "cell_type": "markdown",
      "source": [
        "###O que o market cap e o owners indicam?"
      ],
      "metadata": {
        "id": "pxXx3HXzPAPD"
      }
    },
    {
      "cell_type": "code",
      "source": [
        "df5 = pd.DataFrame([df['Owners'], df['Market Cap']])\n",
        "df5 = df5.transpose()"
      ],
      "metadata": {
        "id": "qV9MUyrePLET"
      },
      "execution_count": 187,
      "outputs": []
    },
    {
      "cell_type": "code",
      "source": [
        "plt.figure(figsize=(12,8))\n",
        "sns.scatterplot(data=df5)"
      ],
      "metadata": {
        "colab": {
          "base_uri": "https://localhost:8080/",
          "height": 500
        },
        "id": "FHmSKjysPLJW",
        "outputId": "d90ac175-a4f2-4509-d610-3be9e1d0bcfb"
      },
      "execution_count": 189,
      "outputs": [
        {
          "output_type": "execute_result",
          "data": {
            "text/plain": [
              "<matplotlib.axes._subplots.AxesSubplot at 0x7f708d7ac2d0>"
            ]
          },
          "metadata": {},
          "execution_count": 189
        },
        {
          "output_type": "display_data",
          "data": {
            "image/png": "[encoded data removed]",
            "text/plain": [
              "<Figure size 864x576 with 1 Axes>"
            ]
          },
          "metadata": {
            "needs_background": "light"
          }
        }
      ]
    },
    {
      "cell_type": "markdown",
      "source": [
        "##Conclusões\n"
      ],
      "metadata": {
        "id": "QF4MGFchCeHE"
      }
    },
    {
      "cell_type": "markdown",
      "source": [
        "1. É importante notar que como essa análise é dinâmica, \n",
        "muitas vezes os números indicados serão completamente diferentes \n",
        "por questões de flutuação de mercado. Nesse sentido, tentei fazer \n",
        "uma análise das relações de forma a priori, respaldadas pelos \n",
        "projetos principais da opensea de fevereiro, daqui a uma semana ou \n",
        "um mês ou um ano serão completamente diferentes.\n",
        "\n",
        "2. Os dados acerca do floor price estão concentrados por volta de 0 e 5 ETH. O que nos indica lançamentos baixos, exceto por alguns outliers discrepantes.\n",
        "\n",
        "3. A conclusão é que o Market Cap se mantém estável de um modo geral para a maior partes dos projetos tirando alguns Outliers acima de 20.000, ou ainda, podemos  considerar que os Outliers se comprometem bastante acima do 3º Quartil (75%): 13587.1 ETH. Ainda mais quando se considera que a mediana é 2179 ETH, podemos entender que a maior parte dos projetos deve estar por volta desse valor.\n",
        "\n",
        "4. Importante: Diante dos gráficos, conseguimos compreender que ainda existe uma \n",
        "boa dispersão acima de por volta de 3000 ETH de market cap. Os projetos acima disso são os que devem ter uma atenção interessante para um investidor.\n",
        "\n",
        "- Os proprietários do NFTs obedecem uma métrica muito mais concisa. O que isso nos indica? \n",
        "\n",
        "5. O fato é que um proprietário pode ter muitos NFTs e não possuímos esse número somente com essa feature. No entanto,  o que podemos inferir é que os projetos que possuem muitos proprietários:Estão completamente vendidos ou quase completamente.Esses NFTs têm um preço baixo ou o projeto tem muita fama. Os projetos que têm poucos proprietários ou têm um preço alto ou têm pouco sucesso.\n",
        "\n",
        "6. A média de totais de NFTs (total assets) dos projetos é 7796. A maior parte dos projetos, no entanto se concentra em 9409 ~ 10.000 NFTs.\n",
        "\n",
        "7. No dia 10/02, encontrei nenhum market cap maior que a multiplicação entre floor price e market cap.Portanto, o que indica é que essa coluna não é verídica. O interessante é notar que isso baliza o investidor por baixo, sabemos que a receita do projeto é, no mínimo, o market cap indicado no dataset.\n",
        "\n",
        "8. Não necessariamente um projeto terá mais proprietários quando se tem mais ativos, visto que um projeto pode ter muitos ativos e poucos donos - o que indicaria, muito provavelmente, que os ativos estão em um preço baixo, mas com expectativa de lucro.\n",
        "\n",
        "9. Se o projeto tem muitos ativos e muitos donos, é muito provável que o preço esteja razoalvemente equilibrado na proporção entre os dois. Essa relação é espelhada na coluna owners_ratio.\n",
        "\n",
        "#Esses pontos foram colhidos através da observação dos gráficos e dos parâmetros estatísticos. Eles auxiliam algumas coisas em relação as perguntas iniciais:\n",
        "- Quais indicadores devo olhar para encontrar um possível sucesso com os dados que me foram dados?\n",
        "- Existe alguma relação inerente a esses dados?\n",
        "- Quais dados extrensícos ao dataset coletado devo considerar para não enviesar absolutamente minha análise?\n",
        "\n",
        "1. Primeiro pergunta: Diante do que foi escolhido, e tomado como premissa, certamente o market cap é essencial. Percebemos também que o floor price é essencial para um investidor visto como a open sea e a coingecko (por consequência) o tomam como baliza mínima de valor. A quantidade de proprietários é essencial para compreendermos o quanto aquele projeto é atraente, no entanto, nada nos indica que quanto mais proprietários, mais valorizado é aquele projeto, para isso é preciso analisar em conjunto com o price floor e o market cap.\n",
        "\n",
        "2. Como demonstrei, o market cap é associado ao price floor e a quantidade total de NFTs em um projeto (total assets). Também é interessante notar o owner ratio, que nos mostra o quanto aquele projeto tem em termos de proporção de proprietários e ativos do projeto e como isso é significativo para saber o quão populoso é um projeto. A partir disso, podemos balizar também pela média de NFTs de um projeto. Acredito que isso é interessante de se comparar, se determinado projeto tá acima ou baixo da média em relação à quantidade de NFTs ofertados e relacionar isso com o owner ratio.\n",
        "\n",
        "3. Isso é um toque mais pessoal que o dataset não fornece de maneira alguma. O que podemos inferir do dataset é quais projetos valem a pena se aprofundar quanto a essa questão. Para além de questões puramente matemática e financeiras, a questão gira em torno de o quão aquele projeto é sustentável de um ponto de vista tecnológico e de constituição de comunidade."
      ],
      "metadata": {
        "id": "m3rz4BIRQxUS"
      }
    }
  ]
}