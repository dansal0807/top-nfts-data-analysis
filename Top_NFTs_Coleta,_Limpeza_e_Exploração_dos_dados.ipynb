{
  "nbformat": 4,
  "nbformat_minor": 0,
  "metadata": {
    "colab": {
      "name": "Top-NFTs - Coleta, Limpeza e Exploração dos dados.ipynb",
      "provenance": []
    },
    "kernelspec": {
      "name": "python3",
      "display_name": "Python 3"
    },
    "language_info": {
      "name": "python"
    }
  },
  "cells": [
    {
      "cell_type": "markdown",
      "source": [
        "#Importando as Bibliotecas:"
      ],
      "metadata": {
        "id": "5vh35CtnLfxH"
      }
    },
    {
      "cell_type": "code",
      "execution_count": 547,
      "metadata": {
        "id": "c2oc3bhRmRk6"
      },
      "outputs": [],
      "source": [
        "import pandas as pd\n",
        "import requests\n",
        "from bs4 import BeautifulSoup as bs\n",
        "\n",
        "import matplotlib.pyplot as plt\n",
        "import seaborn as sns"
      ]
    },
    {
      "cell_type": "markdown",
      "source": [
        "#1ºParte: Coleta de dados e preparação do dataframe:"
      ],
      "metadata": {
        "id": "L_vb_pu0Ljvi"
      }
    },
    {
      "cell_type": "markdown",
      "source": [
        "Interessante notar que cada vez que os comandos abaixo são postos para funcionar, os preços e volumes são constantemente atualizados. Isso gera uma dificuldade, mas também gera uma análise mais precisa que deve considerar a mudança dos preços."
      ],
      "metadata": {
        "id": "qj3GAGeQzAii"
      }
    },
    {
      "cell_type": "code",
      "source": [
        "request = requests.get(\"https://www.coingecko.com/en/nft\").text"
      ],
      "metadata": {
        "id": "XudfWz_ooGHC"
      },
      "execution_count": 548,
      "outputs": []
    },
    {
      "cell_type": "code",
      "source": [
        "df = pd.read_html(request)"
      ],
      "metadata": {
        "id": "2D2QdNWIomlc"
      },
      "execution_count": 549,
      "outputs": []
    },
    {
      "cell_type": "code",
      "source": [
        "df1 = df[0]"
      ],
      "metadata": {
        "id": "iFGHeVHAondA"
      },
      "execution_count": 550,
      "outputs": []
    },
    {
      "cell_type": "code",
      "source": [
        "df1"
      ],
      "metadata": {
        "colab": {
          "base_uri": "https://localhost:8080/",
          "height": 833
        },
        "id": "_z_WbZ5BSIfX",
        "outputId": "0bc34ea7-d582-47ec-aa5e-73f9627c29a7"
      },
      "execution_count": 551,
      "outputs": [
        {
          "output_type": "execute_result",
          "data": {
            "text/html": [
              "\n",
              "  <div id=\"df-89fe0254-f789-4ca5-b6d4-ae821d50fd58\">\n",
              "    <div class=\"colab-df-container\">\n",
              "      <div>\n",
              "<style scoped>\n",
              "    .dataframe tbody tr th:only-of-type {\n",
              "        vertical-align: middle;\n",
              "    }\n",
              "\n",
              "    .dataframe tbody tr th {\n",
              "        vertical-align: top;\n",
              "    }\n",
              "\n",
              "    .dataframe thead th {\n",
              "        text-align: right;\n",
              "    }\n",
              "</style>\n",
              "<table border=\"1\" class=\"dataframe\">\n",
              "  <thead>\n",
              "    <tr style=\"text-align: right;\">\n",
              "      <th></th>\n",
              "      <th>#</th>\n",
              "      <th>NFT</th>\n",
              "      <th>Floor Price</th>\n",
              "      <th>24h</th>\n",
              "      <th>7d</th>\n",
              "      <th>Market Cap</th>\n",
              "      <th>24h Volume</th>\n",
              "      <th>Owners</th>\n",
              "      <th>24h Owners</th>\n",
              "      <th>Total Assets</th>\n",
              "    </tr>\n",
              "  </thead>\n",
              "  <tbody>\n",
              "    <tr>\n",
              "      <th>0</th>\n",
              "      <td>1</td>\n",
              "      <td>Meebits</td>\n",
              "      <td>3.19 ETH</td>\n",
              "      <td>-1.6%</td>\n",
              "      <td>NaN</td>\n",
              "      <td>63,800.0 ETH</td>\n",
              "      <td>16,724.45 ETH</td>\n",
              "      <td>5747.0</td>\n",
              "      <td>0.0%</td>\n",
              "      <td>20000.0</td>\n",
              "    </tr>\n",
              "    <tr>\n",
              "      <th>1</th>\n",
              "      <td>2</td>\n",
              "      <td>dotdotdots</td>\n",
              "      <td>0.19 ETH</td>\n",
              "      <td>-4.0%</td>\n",
              "      <td>NaN</td>\n",
              "      <td>925.3 ETH</td>\n",
              "      <td>6,356.47 ETH</td>\n",
              "      <td>2650.0</td>\n",
              "      <td>0.2%</td>\n",
              "      <td>4870.0</td>\n",
              "    </tr>\n",
              "    <tr>\n",
              "      <th>2</th>\n",
              "      <td>3</td>\n",
              "      <td>Azuki</td>\n",
              "      <td>12.49 ETH</td>\n",
              "      <td>8.6%</td>\n",
              "      <td>NaN</td>\n",
              "      <td>124,900.0 ETH</td>\n",
              "      <td>1,563.55 ETH</td>\n",
              "      <td>5428.0</td>\n",
              "      <td>0.1%</td>\n",
              "      <td>10000.0</td>\n",
              "    </tr>\n",
              "    <tr>\n",
              "      <th>3</th>\n",
              "      <td>4</td>\n",
              "      <td>Bored Ape Yacht Club</td>\n",
              "      <td>99.0 ETH</td>\n",
              "      <td>-2.4%</td>\n",
              "      <td>NaN</td>\n",
              "      <td>990,000.0 ETH</td>\n",
              "      <td>810.99 ETH</td>\n",
              "      <td>6312.0</td>\n",
              "      <td>0.0%</td>\n",
              "      <td>10000.0</td>\n",
              "    </tr>\n",
              "    <tr>\n",
              "      <th>4</th>\n",
              "      <td>5</td>\n",
              "      <td>CloneX</td>\n",
              "      <td>15.15 ETH</td>\n",
              "      <td>-1.8%</td>\n",
              "      <td>NaN</td>\n",
              "      <td>285,910.8 ETH</td>\n",
              "      <td>713.86 ETH</td>\n",
              "      <td>8287.0</td>\n",
              "      <td>0.1%</td>\n",
              "      <td>18872.0</td>\n",
              "    </tr>\n",
              "    <tr>\n",
              "      <th>5</th>\n",
              "      <td>6</td>\n",
              "      <td>Mutant Ape Yacht Club</td>\n",
              "      <td>20.98 ETH</td>\n",
              "      <td>-1.3%</td>\n",
              "      <td>NaN</td>\n",
              "      <td>376,758.84 ETH</td>\n",
              "      <td>660.34 ETH</td>\n",
              "      <td>11740.0</td>\n",
              "      <td>0.1%</td>\n",
              "      <td>17958.0</td>\n",
              "    </tr>\n",
              "    <tr>\n",
              "      <th>6</th>\n",
              "      <td>7</td>\n",
              "      <td>LAND</td>\n",
              "      <td>3.68 ETH</td>\n",
              "      <td>-4.6%</td>\n",
              "      <td>NaN</td>\n",
              "      <td>536,176.0 ETH</td>\n",
              "      <td>412.25 ETH</td>\n",
              "      <td>19690.0</td>\n",
              "      <td>0.1%</td>\n",
              "      <td>145700.0</td>\n",
              "    </tr>\n",
              "    <tr>\n",
              "      <th>7</th>\n",
              "      <td>8</td>\n",
              "      <td>Cool Pets</td>\n",
              "      <td>2.53 ETH</td>\n",
              "      <td>-6.2%</td>\n",
              "      <td>NaN</td>\n",
              "      <td>46,554.53 ETH</td>\n",
              "      <td>319.87 ETH</td>\n",
              "      <td>10743.0</td>\n",
              "      <td>-0.3%</td>\n",
              "      <td>18401.0</td>\n",
              "    </tr>\n",
              "    <tr>\n",
              "      <th>8</th>\n",
              "      <td>9</td>\n",
              "      <td>World of Women</td>\n",
              "      <td>10.84 ETH</td>\n",
              "      <td>10.2%</td>\n",
              "      <td>NaN</td>\n",
              "      <td>108,400.0 ETH</td>\n",
              "      <td>218.18 ETH</td>\n",
              "      <td>5076.0</td>\n",
              "      <td>-0.1%</td>\n",
              "      <td>10000.0</td>\n",
              "    </tr>\n",
              "    <tr>\n",
              "      <th>9</th>\n",
              "      <td>10</td>\n",
              "      <td>Doodles</td>\n",
              "      <td>13.79 ETH</td>\n",
              "      <td>0.7%</td>\n",
              "      <td>NaN</td>\n",
              "      <td>137,900.0 ETH</td>\n",
              "      <td>215.82 ETH</td>\n",
              "      <td>5996.0</td>\n",
              "      <td>-0.1%</td>\n",
              "      <td>10000.0</td>\n",
              "    </tr>\n",
              "    <tr>\n",
              "      <th>10</th>\n",
              "      <td>11</td>\n",
              "      <td>FLUF World</td>\n",
              "      <td>4.48 ETH</td>\n",
              "      <td>11.2%</td>\n",
              "      <td>NaN</td>\n",
              "      <td>44,800.0 ETH</td>\n",
              "      <td>193.79 ETH</td>\n",
              "      <td>3535.0</td>\n",
              "      <td>0.1%</td>\n",
              "      <td>10000.0</td>\n",
              "    </tr>\n",
              "    <tr>\n",
              "      <th>11</th>\n",
              "      <td>12</td>\n",
              "      <td>Cool Cats</td>\n",
              "      <td>10.95 ETH</td>\n",
              "      <td>-0.7%</td>\n",
              "      <td>NaN</td>\n",
              "      <td>108,766.35 ETH</td>\n",
              "      <td>191.12 ETH</td>\n",
              "      <td>5177.0</td>\n",
              "      <td>-0.1%</td>\n",
              "      <td>9933.0</td>\n",
              "    </tr>\n",
              "    <tr>\n",
              "      <th>12</th>\n",
              "      <td>13</td>\n",
              "      <td>Adam Bomb Squad</td>\n",
              "      <td>0.9 ETH</td>\n",
              "      <td>-17.1%</td>\n",
              "      <td>NaN</td>\n",
              "      <td>22,499.1 ETH</td>\n",
              "      <td>142.95 ETH</td>\n",
              "      <td>8696.0</td>\n",
              "      <td>-0.1%</td>\n",
              "      <td>24999.0</td>\n",
              "    </tr>\n",
              "    <tr>\n",
              "      <th>13</th>\n",
              "      <td>14</td>\n",
              "      <td>Decentral Games ICE Poker</td>\n",
              "      <td>1.999 ETH</td>\n",
              "      <td>1.5%</td>\n",
              "      <td>NaN</td>\n",
              "      <td>29,051.47 ETH</td>\n",
              "      <td>133.33 ETH</td>\n",
              "      <td>3358.0</td>\n",
              "      <td>0.0%</td>\n",
              "      <td>14533.0</td>\n",
              "    </tr>\n",
              "    <tr>\n",
              "      <th>14</th>\n",
              "      <td>15</td>\n",
              "      <td>Chain Runners</td>\n",
              "      <td>1.1 ETH</td>\n",
              "      <td>21.8%</td>\n",
              "      <td>NaN</td>\n",
              "      <td>11,000.0 ETH</td>\n",
              "      <td>114.87 ETH</td>\n",
              "      <td>3272.0</td>\n",
              "      <td>0.3%</td>\n",
              "      <td>10000.0</td>\n",
              "    </tr>\n",
              "    <tr>\n",
              "      <th>15</th>\n",
              "      <td>16</td>\n",
              "      <td>OCM Dessert</td>\n",
              "      <td>0.46 ETH</td>\n",
              "      <td>-16.0%</td>\n",
              "      <td>NaN</td>\n",
              "      <td>1.38 ETH</td>\n",
              "      <td>112.96 ETH</td>\n",
              "      <td>2894.0</td>\n",
              "      <td>-0.1%</td>\n",
              "      <td>3.0</td>\n",
              "    </tr>\n",
              "    <tr>\n",
              "      <th>16</th>\n",
              "      <td>17</td>\n",
              "      <td>Zipcy's SuperNormal</td>\n",
              "      <td>0.989 ETH</td>\n",
              "      <td>-7.2%</td>\n",
              "      <td>NaN</td>\n",
              "      <td>8,790.23 ETH</td>\n",
              "      <td>101.43 ETH</td>\n",
              "      <td>4913.0</td>\n",
              "      <td>-0.2%</td>\n",
              "      <td>8888.0</td>\n",
              "    </tr>\n",
              "    <tr>\n",
              "      <th>17</th>\n",
              "      <td>18</td>\n",
              "      <td>Sneaky Vampire Syndicate</td>\n",
              "      <td>1.35 ETH</td>\n",
              "      <td>14.0%</td>\n",
              "      <td>NaN</td>\n",
              "      <td>11,998.8 ETH</td>\n",
              "      <td>87.96 ETH</td>\n",
              "      <td>1393.0</td>\n",
              "      <td>-1.7%</td>\n",
              "      <td>8888.0</td>\n",
              "    </tr>\n",
              "    <tr>\n",
              "      <th>18</th>\n",
              "      <td>19</td>\n",
              "      <td>Metroverse</td>\n",
              "      <td>1.09 ETH</td>\n",
              "      <td>2.3%</td>\n",
              "      <td>NaN</td>\n",
              "      <td>10,900.0 ETH</td>\n",
              "      <td>84.0 ETH</td>\n",
              "      <td>516.0</td>\n",
              "      <td>-1.9%</td>\n",
              "      <td>10000.0</td>\n",
              "    </tr>\n",
              "    <tr>\n",
              "      <th>19</th>\n",
              "      <td>20</td>\n",
              "      <td>CyberKongz</td>\n",
              "      <td>9.0 ETH</td>\n",
              "      <td>8.8%</td>\n",
              "      <td>NaN</td>\n",
              "      <td>45,000.0 ETH</td>\n",
              "      <td>83.4 ETH</td>\n",
              "      <td>2435.0</td>\n",
              "      <td>-0.1%</td>\n",
              "      <td>5000.0</td>\n",
              "    </tr>\n",
              "    <tr>\n",
              "      <th>20</th>\n",
              "      <td>21</td>\n",
              "      <td>OnChainMonkey</td>\n",
              "      <td>1.58 ETH</td>\n",
              "      <td>14.1%</td>\n",
              "      <td>NaN</td>\n",
              "      <td>15,010.0 ETH</td>\n",
              "      <td>71.75 ETH</td>\n",
              "      <td>2986.0</td>\n",
              "      <td>-0.0%</td>\n",
              "      <td>9500.0</td>\n",
              "    </tr>\n",
              "    <tr>\n",
              "      <th>21</th>\n",
              "      <td>22</td>\n",
              "      <td>Crypto Unicorns</td>\n",
              "      <td>1.35 ETH</td>\n",
              "      <td>-8.1%</td>\n",
              "      <td>NaN</td>\n",
              "      <td>13,500.0 ETH</td>\n",
              "      <td>58.63 ETH</td>\n",
              "      <td>519.0</td>\n",
              "      <td>0.0%</td>\n",
              "      <td>10000.0</td>\n",
              "    </tr>\n",
              "    <tr>\n",
              "      <th>22</th>\n",
              "      <td>23</td>\n",
              "      <td>Crypto Coven</td>\n",
              "      <td>1.9 ETH</td>\n",
              "      <td>-4.0%</td>\n",
              "      <td>NaN</td>\n",
              "      <td>18,538.3 ETH</td>\n",
              "      <td>54.78 ETH</td>\n",
              "      <td>4738.0</td>\n",
              "      <td>0.0%</td>\n",
              "      <td>9757.0</td>\n",
              "    </tr>\n",
              "    <tr>\n",
              "      <th>23</th>\n",
              "      <td>24</td>\n",
              "      <td>VeeFriends</td>\n",
              "      <td>13.39 ETH</td>\n",
              "      <td>-0.3%</td>\n",
              "      <td>NaN</td>\n",
              "      <td>137,314.45 ETH</td>\n",
              "      <td>54.69 ETH</td>\n",
              "      <td>5202.0</td>\n",
              "      <td>0.1%</td>\n",
              "      <td>10255.0</td>\n",
              "    </tr>\n",
              "    <tr>\n",
              "      <th>24</th>\n",
              "      <td>25</td>\n",
              "      <td>Capsule House</td>\n",
              "      <td>1.65 ETH</td>\n",
              "      <td>-1.4%</td>\n",
              "      <td>NaN</td>\n",
              "      <td>16,500.0 ETH</td>\n",
              "      <td>53.27 ETH</td>\n",
              "      <td>3770.0</td>\n",
              "      <td>0.2%</td>\n",
              "      <td>10000.0</td>\n",
              "    </tr>\n",
              "  </tbody>\n",
              "</table>\n",
              "</div>\n",
              "      <button class=\"colab-df-convert\" onclick=\"convertToInteractive('df-89fe0254-f789-4ca5-b6d4-ae821d50fd58')\"\n",
              "              title=\"Convert this dataframe to an interactive table.\"\n",
              "              style=\"display:none;\">\n",
              "        \n",
              "  <svg xmlns=\"http://www.w3.org/2000/svg\" height=\"24px\"viewBox=\"0 0 24 24\"\n",
              "       width=\"24px\">\n",
              "    <path d=\"M0 0h24v24H0V0z\" fill=\"none\"/>\n",
              "    <path d=\"M18.56 5.44l.94 2.06.94-2.06 2.06-.94-2.06-.94-.94-2.06-.94 2.06-2.06.94zm-11 1L8.5 8.5l.94-2.06 2.06-.94-2.06-.94L8.5 2.5l-.94 2.06-2.06.94zm10 10l.94 2.06.94-2.06 2.06-.94-2.06-.94-.94-2.06-.94 2.06-2.06.94z\"/><path d=\"M17.41 7.96l-1.37-1.37c-.4-.4-.92-.59-1.43-.59-.52 0-1.04.2-1.43.59L10.3 9.45l-7.72 7.72c-.78.78-.78 2.05 0 2.83L4 21.41c.39.39.9.59 1.41.59.51 0 1.02-.2 1.41-.59l7.78-7.78 2.81-2.81c.8-.78.8-2.07 0-2.86zM5.41 20L4 18.59l7.72-7.72 1.47 1.35L5.41 20z\"/>\n",
              "  </svg>\n",
              "      </button>\n",
              "      \n",
              "  <style>\n",
              "    .colab-df-container {\n",
              "      display:flex;\n",
              "      flex-wrap:wrap;\n",
              "      gap: 12px;\n",
              "    }\n",
              "\n",
              "    .colab-df-convert {\n",
              "      background-color: #E8F0FE;\n",
              "      border: none;\n",
              "      border-radius: 50%;\n",
              "      cursor: pointer;\n",
              "      display: none;\n",
              "      fill: #1967D2;\n",
              "      height: 32px;\n",
              "      padding: 0 0 0 0;\n",
              "      width: 32px;\n",
              "    }\n",
              "\n",
              "    .colab-df-convert:hover {\n",
              "      background-color: #E2EBFA;\n",
              "      box-shadow: 0px 1px 2px rgba(60, 64, 67, 0.3), 0px 1px 3px 1px rgba(60, 64, 67, 0.15);\n",
              "      fill: #174EA6;\n",
              "    }\n",
              "\n",
              "    [theme=dark] .colab-df-convert {\n",
              "      background-color: #3B4455;\n",
              "      fill: #D2E3FC;\n",
              "    }\n",
              "\n",
              "    [theme=dark] .colab-df-convert:hover {\n",
              "      background-color: #434B5C;\n",
              "      box-shadow: 0px 1px 3px 1px rgba(0, 0, 0, 0.15);\n",
              "      filter: drop-shadow(0px 1px 2px rgba(0, 0, 0, 0.3));\n",
              "      fill: #FFFFFF;\n",
              "    }\n",
              "  </style>\n",
              "\n",
              "      <script>\n",
              "        const buttonEl =\n",
              "          document.querySelector('#df-89fe0254-f789-4ca5-b6d4-ae821d50fd58 button.colab-df-convert');\n",
              "        buttonEl.style.display =\n",
              "          google.colab.kernel.accessAllowed ? 'block' : 'none';\n",
              "\n",
              "        async function convertToInteractive(key) {\n",
              "          const element = document.querySelector('#df-89fe0254-f789-4ca5-b6d4-ae821d50fd58');\n",
              "          const dataTable =\n",
              "            await google.colab.kernel.invokeFunction('convertToInteractive',\n",
              "                                                     [key], {});\n",
              "          if (!dataTable) return;\n",
              "\n",
              "          const docLinkHtml = 'Like what you see? Visit the ' +\n",
              "            '<a target=\"_blank\" href=https://colab.research.google.com/notebooks/data_table.ipynb>data table notebook</a>'\n",
              "            + ' to learn more about interactive tables.';\n",
              "          element.innerHTML = '';\n",
              "          dataTable['output_type'] = 'display_data';\n",
              "          await google.colab.output.renderOutput(dataTable, element);\n",
              "          const docLink = document.createElement('div');\n",
              "          docLink.innerHTML = docLinkHtml;\n",
              "          element.appendChild(docLink);\n",
              "        }\n",
              "      </script>\n",
              "    </div>\n",
              "  </div>\n",
              "  "
            ],
            "text/plain": [
              "     #                        NFT Floor Price  ...   Owners  24h Owners Total Assets\n",
              "0    1                    Meebits    3.19 ETH  ...   5747.0        0.0%      20000.0\n",
              "1    2                 dotdotdots    0.19 ETH  ...   2650.0        0.2%       4870.0\n",
              "2    3                      Azuki   12.49 ETH  ...   5428.0        0.1%      10000.0\n",
              "3    4       Bored Ape Yacht Club    99.0 ETH  ...   6312.0        0.0%      10000.0\n",
              "4    5                     CloneX   15.15 ETH  ...   8287.0        0.1%      18872.0\n",
              "5    6      Mutant Ape Yacht Club   20.98 ETH  ...  11740.0        0.1%      17958.0\n",
              "6    7                       LAND    3.68 ETH  ...  19690.0        0.1%     145700.0\n",
              "7    8                  Cool Pets    2.53 ETH  ...  10743.0       -0.3%      18401.0\n",
              "8    9             World of Women   10.84 ETH  ...   5076.0       -0.1%      10000.0\n",
              "9   10                    Doodles   13.79 ETH  ...   5996.0       -0.1%      10000.0\n",
              "10  11                 FLUF World    4.48 ETH  ...   3535.0        0.1%      10000.0\n",
              "11  12                  Cool Cats   10.95 ETH  ...   5177.0       -0.1%       9933.0\n",
              "12  13            Adam Bomb Squad     0.9 ETH  ...   8696.0       -0.1%      24999.0\n",
              "13  14  Decentral Games ICE Poker   1.999 ETH  ...   3358.0        0.0%      14533.0\n",
              "14  15              Chain Runners     1.1 ETH  ...   3272.0        0.3%      10000.0\n",
              "15  16                OCM Dessert    0.46 ETH  ...   2894.0       -0.1%          3.0\n",
              "16  17        Zipcy's SuperNormal   0.989 ETH  ...   4913.0       -0.2%       8888.0\n",
              "17  18   Sneaky Vampire Syndicate    1.35 ETH  ...   1393.0       -1.7%       8888.0\n",
              "18  19                 Metroverse    1.09 ETH  ...    516.0       -1.9%      10000.0\n",
              "19  20                 CyberKongz     9.0 ETH  ...   2435.0       -0.1%       5000.0\n",
              "20  21              OnChainMonkey    1.58 ETH  ...   2986.0       -0.0%       9500.0\n",
              "21  22            Crypto Unicorns    1.35 ETH  ...    519.0        0.0%      10000.0\n",
              "22  23               Crypto Coven     1.9 ETH  ...   4738.0        0.0%       9757.0\n",
              "23  24                 VeeFriends   13.39 ETH  ...   5202.0        0.1%      10255.0\n",
              "24  25              Capsule House    1.65 ETH  ...   3770.0        0.2%      10000.0\n",
              "\n",
              "[25 rows x 10 columns]"
            ]
          },
          "metadata": {},
          "execution_count": 551
        }
      ]
    },
    {
      "cell_type": "markdown",
      "source": [
        "- Como eu quero por volta dos últimos 500 NFTs e cada página da coingecko oferece 25 nfts, preciso acessar até a página 20."
      ],
      "metadata": {
        "id": "vzRgZIMlLqsr"
      }
    },
    {
      "cell_type": "code",
      "source": [
        "dfs = []\n",
        "for i in range (2, 6):\n",
        "  request2 = requests.get(f\"https://www.coingecko.com/en/nft?page={i}\").text\n",
        "  df = pd.read_html(request2)\n",
        "  dfs.append(df)"
      ],
      "metadata": {
        "id": "yluQB6A-Kh6d"
      },
      "execution_count": 552,
      "outputs": []
    },
    {
      "cell_type": "code",
      "source": [
        "dfs"
      ],
      "metadata": {
        "colab": {
          "base_uri": "https://localhost:8080/"
        },
        "id": "RqKCglZQR8hk",
        "outputId": "2e3a76d2-d035-42db-a4b5-dd527ac3f2cd"
      },
      "execution_count": 553,
      "outputs": [
        {
          "output_type": "execute_result",
          "data": {
            "text/plain": [
              "[[     #                           NFT  ... 24h Owners Total Assets\n",
              "  0   26                   Phanta Bear  ...      -0.1%      10000.0\n",
              "  1   27                GenesisApostle  ...      -0.3%       7216.0\n",
              "  2   28                      BYOPills  ...      -0.4%      10000.0\n",
              "  3   29                   PUNKS Comic  ...       0.5%      23204.0\n",
              "  4   30                          Loot  ...      -0.0%       7779.0\n",
              "  5   31                 JRNY NFT Club  ...      -0.0%      10000.0\n",
              "  6   32                Lives of Asuna  ...      -0.1%      10000.0\n",
              "  7   33                     CrypToadz  ...       0.0%       7025.0\n",
              "  8   34                     LilHeroes  ...      -0.1%       7776.0\n",
              "  9   35                      Smilesss  ...       0.2%       8732.0\n",
              "  10  36                    Lost Poets  ...      -0.1%      27681.0\n",
              "  11  37                    Lazy Lions  ...      -0.1%      10080.0\n",
              "  12  38                 Boss Beauties  ...       0.1%      10000.0\n",
              "  13  39                       Blitmap  ...      -0.2%       1700.0\n",
              "  14  40                Creature World  ...       0.1%      10000.0\n",
              "  15  41                The Doge Pound  ...      -0.0%      10000.0\n",
              "  16  42                FVCK_CRYSTAL//  ...       0.3%       4169.0\n",
              "  17  43                X Rabbits Club  ...      -0.1%       7502.0\n",
              "  18  44                      MetaHero  ...      -0.7%       6458.0\n",
              "  19  45  Forgotten Runes Wizards Cult  ...       0.1%       9409.0\n",
              "  20  46                     MekaVerse  ...      -0.1%       8888.0\n",
              "  21  47                     0N1 Force  ...       0.1%       7777.0\n",
              "  22  48                  inbetweeners  ...       0.0%      10777.0\n",
              "  23  49                 PudgyPenguins  ...      -0.0%       8888.0\n",
              "  24  50                      Timeless  ...       0.1%       9421.0\n",
              "  \n",
              "  [25 rows x 10 columns]],\n",
              " [     #                                   NFT  ... 24h Owners Total Assets\n",
              "  0   51                              BYO Land  ...      -0.2%      10056.0\n",
              "  1   52                          loomlock NFT  ...      -0.1%       9546.0\n",
              "  2   53                          The Currency  ...       0.0%       2208.0\n",
              "  3   54                 MoonCats - Acclimated  ...       0.1%      18911.0\n",
              "  4   55  Jenkins the Valet: The Writer's Room  ...       0.0%       6942.0\n",
              "  5   56                       the littles nft  ...       0.1%      10000.0\n",
              "  6   57                       Treeverse Plots  ...       0.0%      10420.0\n",
              "  7   58                   Global Citizen Club  ...      -0.7%       8888.0\n",
              "  8   59                                 merge  ...       0.0%      27048.0\n",
              "  9   60                          Samurai Saga  ...      -0.8%       9999.0\n",
              "  10  61                           Stoner Cats  ...      -0.8%      10419.0\n",
              "  11  62                        Divine Anarchy  ...       0.0%      10011.0\n",
              "  12  63                               Feudalz  ...       0.3%       4444.0\n",
              "  13  64                  iNFT Personality Pod  ...       0.1%       9811.0\n",
              "  14  65                           CHIBI DINOS  ...      -0.2%      10000.0\n",
              "  15  66          Citizens of Bulliever Island  ...       0.4%      10000.0\n",
              "  16  67                             Fomoverse  ...       0.0%       1234.0\n",
              "  17  68                           Galaxy Eggs  ...      -0.2%       9999.0\n",
              "  18  69                             Anonymice  ...      -2.0%      10000.0\n",
              "  19  70                             Hashmasks  ...       0.0%      16370.0\n",
              "  20  71                                 8SIAN  ...       0.0%       8888.0\n",
              "  21  72                        Corruption(s*)  ...      -0.1%       4196.0\n",
              "  22  73                         Sipherian Inu  ...       0.0%       9999.0\n",
              "  23  74                          Genesis Mana  ...      -0.2%       7798.0\n",
              "  24  75      CryptoHoots Steampunk Parliament  ...       0.3%       2500.0\n",
              "  \n",
              "  [25 rows x 10 columns]],\n",
              " [      #                          NFT  ... 24h Owners Total Assets\n",
              "  0    76                  Satoshibles  ...      -0.3%       5000.0\n",
              "  1    77                   Chibi Apes  ...       0.0%       3000.0\n",
              "  2    78       Wizards & Dragons Game  ...       0.2%      46169.0\n",
              "  3    79  Curious Addys' Trading Club  ...       0.1%       5000.0\n",
              "  4    80          The Wicked Craniums  ...       0.1%      10762.0\n",
              "  5    81                Ethereals WTF  ...      -1.6%      12345.0\n",
              "  6    82               SpacePunksClub  ...       0.1%       9995.0\n",
              "  7    83                     Animetas  ...       0.0%      10101.0\n",
              "  8    84                   Lil Pudgys  ...       0.0%      18996.0\n",
              "  9    85               APE DAO REMIX!  ...       0.0%       5550.0\n",
              "  10   86              Bored Ape Comic  ...       0.0%       9999.0\n",
              "  11   87                      HeadDAO  ...       0.7%      10000.0\n",
              "  12   88             PartyDegenerates  ...       0.0%       9999.0\n",
              "  13   89                  EtherLambos  ...       0.0%       1600.0\n",
              "  14   90                  MondrianNFT  ...       0.1%       4096.0\n",
              "  15   91     Purrnelopes Country Club  ...       0.1%      10000.0\n",
              "  16   92    Koala Intelligence Agency  ...       0.1%      10000.0\n",
              "  17   93                   Borpacasso  ...      -0.3%       2250.0\n",
              "  18   94                     Metakrew  ...       0.0%       7335.0\n",
              "  19   95                Space Poggers  ...       0.2%      12442.0\n",
              "  20   96            Non-Fungible Soup  ...       0.0%       2048.0\n",
              "  21   97                Tools of Rock  ...       0.0%       7535.0\n",
              "  22   98                   The Sevens  ...      -0.2%       7000.0\n",
              "  23   99             Generative Masks  ...      -0.1%       9999.0\n",
              "  24  100         Ready Player Cat NFT  ...       0.0%       4950.0\n",
              "  \n",
              "  [25 rows x 10 columns]],\n",
              " [      #                  NFT Floor Price  ...  Owners  24h Owners Total Assets\n",
              "  0   101  The Vogu Collective    0.15 ETH  ...  2846.0        0.0%       7777.0\n",
              "  1   102   CryptoZoo Base Egg   0.148 ETH  ...  1475.0       -0.1%       4160.0\n",
              "  2   103   CryptoDragons Eggs    0.06 ETH  ...  1378.0       -0.1%       2799.0\n",
              "  3   104        CryptoZombiez    0.03 ETH  ...   813.0        0.0%       5555.0\n",
              "  4   105             Avastars     0.1 ETH  ...  4963.0        0.0%      25456.0\n",
              "  5   106       HeavenComputer   0.099 ETH  ...  2903.0       -0.1%       7777.0\n",
              "  6   107            Gauntlets   0.083 ETH  ...  3840.0       -0.1%      10000.0\n",
              "  7   108            Ethermore   0.025 ETH  ...  2859.0       -0.1%      15000.0\n",
              "  8   109        Apes of Space    0.04 ETH  ...  5107.0        0.1%      10000.0\n",
              "  9   110    Cometh Spaceships   0.074 ETH  ...   679.0        0.1%      11357.0\n",
              "  10  111               Skullx  0.0325 ETH  ...  2572.0       -0.1%      10000.0\n",
              "  11  112        Bored Bananas  0.0539 ETH  ...  1839.0        0.0%       4027.0\n",
              "  12  113    Angry Apes United    0.03 ETH  ...  4949.0        0.0%       8888.0\n",
              "  13  114   AlphaBetty Doodles    0.04 ETH  ...  3546.0       -0.0%      10000.0\n",
              "  14  115          Dope Shibas   0.015 ETH  ...  3997.0        0.1%       9899.0\n",
              "  15  116  Baby Battle Bots G1   0.044 ETH  ...  1381.0        0.1%       3498.0\n",
              "  16  117         JunkYardDogs   0.044 ETH  ...  3396.0       -0.1%       7976.0\n",
              "  17  118  Star Sailor Sibings   0.069 ETH  ...  2788.0        0.0%      10100.0\n",
              "  18  119             Spookies    0.01 ETH  ...  2675.0       -0.0%       8888.0\n",
              "  19  120             Template   0.012 ETH  ...  2065.0       -0.1%       8992.0\n",
              "  20  121           Night Kids  0.0119 ETH  ...  2193.0        0.0%       5554.0\n",
              "  21  122      Pudgy Halloween  0.0011 ETH  ...  1325.0        0.0%          3.0\n",
              "  22  123   Strange Attractors         ETH  ...   292.0        0.0%        526.0\n",
              "  23  124   United Punks Union     0.1 ETH  ...  1192.0        0.0%       3624.0\n",
              "  24  125                Bloot   0.045 ETH  ...  3963.0        0.0%       8008.0\n",
              "  \n",
              "  [25 rows x 10 columns]]]"
            ]
          },
          "metadata": {},
          "execution_count": 553
        }
      ]
    },
    {
      "cell_type": "code",
      "source": [
        "len(dfs)"
      ],
      "metadata": {
        "colab": {
          "base_uri": "https://localhost:8080/"
        },
        "id": "6Jai6uF5R_ad",
        "outputId": "dbeb459f-7f80-4ad7-daad-c7cdc900f9d0"
      },
      "execution_count": 554,
      "outputs": [
        {
          "output_type": "execute_result",
          "data": {
            "text/plain": [
              "4"
            ]
          },
          "metadata": {},
          "execution_count": 554
        }
      ]
    },
    {
      "cell_type": "code",
      "source": [
        "datasets = []\n",
        "for i in range(len(dfs)):\n",
        "  datasets.append(dfs[i][0])"
      ],
      "metadata": {
        "id": "C1vP8GABMUsB"
      },
      "execution_count": 555,
      "outputs": []
    },
    {
      "cell_type": "code",
      "source": [
        "len(datasets)"
      ],
      "metadata": {
        "colab": {
          "base_uri": "https://localhost:8080/"
        },
        "id": "3g2nDxFuR40o",
        "outputId": "22daa53d-385e-482e-f945-fb8aa5f23333"
      },
      "execution_count": 556,
      "outputs": [
        {
          "output_type": "execute_result",
          "data": {
            "text/plain": [
              "4"
            ]
          },
          "metadata": {},
          "execution_count": 556
        }
      ]
    },
    {
      "cell_type": "code",
      "source": [
        "df_final = pd.concat([df1, datasets[0], datasets[1], datasets[2], datasets[3]], ignore_index=True)"
      ],
      "metadata": {
        "id": "WVO9n2rqNSnR"
      },
      "execution_count": 557,
      "outputs": []
    },
    {
      "cell_type": "code",
      "source": [
        "df_final"
      ],
      "metadata": {
        "colab": {
          "base_uri": "https://localhost:8080/",
          "height": 424
        },
        "id": "omXfHi57RY6K",
        "outputId": "39fc8e8f-dc3d-42f5-c585-7b878f7d3914"
      },
      "execution_count": 558,
      "outputs": [
        {
          "output_type": "execute_result",
          "data": {
            "text/html": [
              "\n",
              "  <div id=\"df-a6f1616a-19f6-43d9-8d15-f0c5a428f1c6\">\n",
              "    <div class=\"colab-df-container\">\n",
              "      <div>\n",
              "<style scoped>\n",
              "    .dataframe tbody tr th:only-of-type {\n",
              "        vertical-align: middle;\n",
              "    }\n",
              "\n",
              "    .dataframe tbody tr th {\n",
              "        vertical-align: top;\n",
              "    }\n",
              "\n",
              "    .dataframe thead th {\n",
              "        text-align: right;\n",
              "    }\n",
              "</style>\n",
              "<table border=\"1\" class=\"dataframe\">\n",
              "  <thead>\n",
              "    <tr style=\"text-align: right;\">\n",
              "      <th></th>\n",
              "      <th>#</th>\n",
              "      <th>NFT</th>\n",
              "      <th>Floor Price</th>\n",
              "      <th>24h</th>\n",
              "      <th>7d</th>\n",
              "      <th>Market Cap</th>\n",
              "      <th>24h Volume</th>\n",
              "      <th>Owners</th>\n",
              "      <th>24h Owners</th>\n",
              "      <th>Total Assets</th>\n",
              "    </tr>\n",
              "  </thead>\n",
              "  <tbody>\n",
              "    <tr>\n",
              "      <th>0</th>\n",
              "      <td>1</td>\n",
              "      <td>Meebits</td>\n",
              "      <td>3.19 ETH</td>\n",
              "      <td>-1.6%</td>\n",
              "      <td>NaN</td>\n",
              "      <td>63,800.0 ETH</td>\n",
              "      <td>16,724.45 ETH</td>\n",
              "      <td>5747.0</td>\n",
              "      <td>0.0%</td>\n",
              "      <td>20000.0</td>\n",
              "    </tr>\n",
              "    <tr>\n",
              "      <th>1</th>\n",
              "      <td>2</td>\n",
              "      <td>dotdotdots</td>\n",
              "      <td>0.19 ETH</td>\n",
              "      <td>-4.0%</td>\n",
              "      <td>NaN</td>\n",
              "      <td>925.3 ETH</td>\n",
              "      <td>6,356.47 ETH</td>\n",
              "      <td>2650.0</td>\n",
              "      <td>0.2%</td>\n",
              "      <td>4870.0</td>\n",
              "    </tr>\n",
              "    <tr>\n",
              "      <th>2</th>\n",
              "      <td>3</td>\n",
              "      <td>Azuki</td>\n",
              "      <td>12.49 ETH</td>\n",
              "      <td>8.6%</td>\n",
              "      <td>NaN</td>\n",
              "      <td>124,900.0 ETH</td>\n",
              "      <td>1,563.55 ETH</td>\n",
              "      <td>5428.0</td>\n",
              "      <td>0.1%</td>\n",
              "      <td>10000.0</td>\n",
              "    </tr>\n",
              "    <tr>\n",
              "      <th>3</th>\n",
              "      <td>4</td>\n",
              "      <td>Bored Ape Yacht Club</td>\n",
              "      <td>99.0 ETH</td>\n",
              "      <td>-2.4%</td>\n",
              "      <td>NaN</td>\n",
              "      <td>990,000.0 ETH</td>\n",
              "      <td>810.99 ETH</td>\n",
              "      <td>6312.0</td>\n",
              "      <td>0.0%</td>\n",
              "      <td>10000.0</td>\n",
              "    </tr>\n",
              "    <tr>\n",
              "      <th>4</th>\n",
              "      <td>5</td>\n",
              "      <td>CloneX</td>\n",
              "      <td>15.15 ETH</td>\n",
              "      <td>-1.8%</td>\n",
              "      <td>NaN</td>\n",
              "      <td>285,910.8 ETH</td>\n",
              "      <td>713.86 ETH</td>\n",
              "      <td>8287.0</td>\n",
              "      <td>0.1%</td>\n",
              "      <td>18872.0</td>\n",
              "    </tr>\n",
              "    <tr>\n",
              "      <th>...</th>\n",
              "      <td>...</td>\n",
              "      <td>...</td>\n",
              "      <td>...</td>\n",
              "      <td>...</td>\n",
              "      <td>...</td>\n",
              "      <td>...</td>\n",
              "      <td>...</td>\n",
              "      <td>...</td>\n",
              "      <td>...</td>\n",
              "      <td>...</td>\n",
              "    </tr>\n",
              "    <tr>\n",
              "      <th>120</th>\n",
              "      <td>121</td>\n",
              "      <td>Night Kids</td>\n",
              "      <td>0.0119 ETH</td>\n",
              "      <td>-1.5%</td>\n",
              "      <td>NaN</td>\n",
              "      <td>66.09 ETH</td>\n",
              "      <td>0.01 ETH</td>\n",
              "      <td>2193.0</td>\n",
              "      <td>0.0%</td>\n",
              "      <td>5554.0</td>\n",
              "    </tr>\n",
              "    <tr>\n",
              "      <th>121</th>\n",
              "      <td>122</td>\n",
              "      <td>Pudgy Halloween</td>\n",
              "      <td>0.0011 ETH</td>\n",
              "      <td>-85.4%</td>\n",
              "      <td>NaN</td>\n",
              "      <td>0.0 ETH</td>\n",
              "      <td>0.01 ETH</td>\n",
              "      <td>1325.0</td>\n",
              "      <td>0.0%</td>\n",
              "      <td>3.0</td>\n",
              "    </tr>\n",
              "    <tr>\n",
              "      <th>122</th>\n",
              "      <td>123</td>\n",
              "      <td>Strange Attractors</td>\n",
              "      <td>ETH</td>\n",
              "      <td>-100.0%</td>\n",
              "      <td>NaN</td>\n",
              "      <td>0.0 ETH</td>\n",
              "      <td>0.0 ETH</td>\n",
              "      <td>292.0</td>\n",
              "      <td>0.0%</td>\n",
              "      <td>526.0</td>\n",
              "    </tr>\n",
              "    <tr>\n",
              "      <th>123</th>\n",
              "      <td>124</td>\n",
              "      <td>United Punks Union</td>\n",
              "      <td>0.1 ETH</td>\n",
              "      <td>101.7%</td>\n",
              "      <td>NaN</td>\n",
              "      <td>362.4 ETH</td>\n",
              "      <td>0.0 ETH</td>\n",
              "      <td>1192.0</td>\n",
              "      <td>0.0%</td>\n",
              "      <td>3624.0</td>\n",
              "    </tr>\n",
              "    <tr>\n",
              "      <th>124</th>\n",
              "      <td>125</td>\n",
              "      <td>Bloot</td>\n",
              "      <td>0.045 ETH</td>\n",
              "      <td>-7.6%</td>\n",
              "      <td>NaN</td>\n",
              "      <td>360.36 ETH</td>\n",
              "      <td>0.0 ETH</td>\n",
              "      <td>3963.0</td>\n",
              "      <td>0.0%</td>\n",
              "      <td>8008.0</td>\n",
              "    </tr>\n",
              "  </tbody>\n",
              "</table>\n",
              "<p>125 rows × 10 columns</p>\n",
              "</div>\n",
              "      <button class=\"colab-df-convert\" onclick=\"convertToInteractive('df-a6f1616a-19f6-43d9-8d15-f0c5a428f1c6')\"\n",
              "              title=\"Convert this dataframe to an interactive table.\"\n",
              "              style=\"display:none;\">\n",
              "        \n",
              "  <svg xmlns=\"http://www.w3.org/2000/svg\" height=\"24px\"viewBox=\"0 0 24 24\"\n",
              "       width=\"24px\">\n",
              "    <path d=\"M0 0h24v24H0V0z\" fill=\"none\"/>\n",
              "    <path d=\"M18.56 5.44l.94 2.06.94-2.06 2.06-.94-2.06-.94-.94-2.06-.94 2.06-2.06.94zm-11 1L8.5 8.5l.94-2.06 2.06-.94-2.06-.94L8.5 2.5l-.94 2.06-2.06.94zm10 10l.94 2.06.94-2.06 2.06-.94-2.06-.94-.94-2.06-.94 2.06-2.06.94z\"/><path d=\"M17.41 7.96l-1.37-1.37c-.4-.4-.92-.59-1.43-.59-.52 0-1.04.2-1.43.59L10.3 9.45l-7.72 7.72c-.78.78-.78 2.05 0 2.83L4 21.41c.39.39.9.59 1.41.59.51 0 1.02-.2 1.41-.59l7.78-7.78 2.81-2.81c.8-.78.8-2.07 0-2.86zM5.41 20L4 18.59l7.72-7.72 1.47 1.35L5.41 20z\"/>\n",
              "  </svg>\n",
              "      </button>\n",
              "      \n",
              "  <style>\n",
              "    .colab-df-container {\n",
              "      display:flex;\n",
              "      flex-wrap:wrap;\n",
              "      gap: 12px;\n",
              "    }\n",
              "\n",
              "    .colab-df-convert {\n",
              "      background-color: #E8F0FE;\n",
              "      border: none;\n",
              "      border-radius: 50%;\n",
              "      cursor: pointer;\n",
              "      display: none;\n",
              "      fill: #1967D2;\n",
              "      height: 32px;\n",
              "      padding: 0 0 0 0;\n",
              "      width: 32px;\n",
              "    }\n",
              "\n",
              "    .colab-df-convert:hover {\n",
              "      background-color: #E2EBFA;\n",
              "      box-shadow: 0px 1px 2px rgba(60, 64, 67, 0.3), 0px 1px 3px 1px rgba(60, 64, 67, 0.15);\n",
              "      fill: #174EA6;\n",
              "    }\n",
              "\n",
              "    [theme=dark] .colab-df-convert {\n",
              "      background-color: #3B4455;\n",
              "      fill: #D2E3FC;\n",
              "    }\n",
              "\n",
              "    [theme=dark] .colab-df-convert:hover {\n",
              "      background-color: #434B5C;\n",
              "      box-shadow: 0px 1px 3px 1px rgba(0, 0, 0, 0.15);\n",
              "      filter: drop-shadow(0px 1px 2px rgba(0, 0, 0, 0.3));\n",
              "      fill: #FFFFFF;\n",
              "    }\n",
              "  </style>\n",
              "\n",
              "      <script>\n",
              "        const buttonEl =\n",
              "          document.querySelector('#df-a6f1616a-19f6-43d9-8d15-f0c5a428f1c6 button.colab-df-convert');\n",
              "        buttonEl.style.display =\n",
              "          google.colab.kernel.accessAllowed ? 'block' : 'none';\n",
              "\n",
              "        async function convertToInteractive(key) {\n",
              "          const element = document.querySelector('#df-a6f1616a-19f6-43d9-8d15-f0c5a428f1c6');\n",
              "          const dataTable =\n",
              "            await google.colab.kernel.invokeFunction('convertToInteractive',\n",
              "                                                     [key], {});\n",
              "          if (!dataTable) return;\n",
              "\n",
              "          const docLinkHtml = 'Like what you see? Visit the ' +\n",
              "            '<a target=\"_blank\" href=https://colab.research.google.com/notebooks/data_table.ipynb>data table notebook</a>'\n",
              "            + ' to learn more about interactive tables.';\n",
              "          element.innerHTML = '';\n",
              "          dataTable['output_type'] = 'display_data';\n",
              "          await google.colab.output.renderOutput(dataTable, element);\n",
              "          const docLink = document.createElement('div');\n",
              "          docLink.innerHTML = docLinkHtml;\n",
              "          element.appendChild(docLink);\n",
              "        }\n",
              "      </script>\n",
              "    </div>\n",
              "  </div>\n",
              "  "
            ],
            "text/plain": [
              "       #                   NFT Floor Price  ...  Owners  24h Owners Total Assets\n",
              "0      1               Meebits    3.19 ETH  ...  5747.0        0.0%      20000.0\n",
              "1      2            dotdotdots    0.19 ETH  ...  2650.0        0.2%       4870.0\n",
              "2      3                 Azuki   12.49 ETH  ...  5428.0        0.1%      10000.0\n",
              "3      4  Bored Ape Yacht Club    99.0 ETH  ...  6312.0        0.0%      10000.0\n",
              "4      5                CloneX   15.15 ETH  ...  8287.0        0.1%      18872.0\n",
              "..   ...                   ...         ...  ...     ...         ...          ...\n",
              "120  121            Night Kids  0.0119 ETH  ...  2193.0        0.0%       5554.0\n",
              "121  122       Pudgy Halloween  0.0011 ETH  ...  1325.0        0.0%          3.0\n",
              "122  123    Strange Attractors         ETH  ...   292.0        0.0%        526.0\n",
              "123  124    United Punks Union     0.1 ETH  ...  1192.0        0.0%       3624.0\n",
              "124  125                 Bloot   0.045 ETH  ...  3963.0        0.0%       8008.0\n",
              "\n",
              "[125 rows x 10 columns]"
            ]
          },
          "metadata": {},
          "execution_count": 558
        }
      ]
    },
    {
      "cell_type": "markdown",
      "source": [
        "###Floor Price:"
      ],
      "metadata": {
        "id": "YjoXVEOdfN-I"
      }
    },
    {
      "cell_type": "code",
      "source": [
        "df_final['Floor Price']"
      ],
      "metadata": {
        "colab": {
          "base_uri": "https://localhost:8080/"
        },
        "id": "as6IOaVjHWPC",
        "outputId": "f120cc68-c34b-45bf-b3f4-98b9792972da"
      },
      "execution_count": 559,
      "outputs": [
        {
          "output_type": "execute_result",
          "data": {
            "text/plain": [
              "0        3.19 ETH\n",
              "1        0.19 ETH\n",
              "2       12.49 ETH\n",
              "3        99.0 ETH\n",
              "4       15.15 ETH\n",
              "          ...    \n",
              "120    0.0119 ETH\n",
              "121    0.0011 ETH\n",
              "122           ETH\n",
              "123       0.1 ETH\n",
              "124     0.045 ETH\n",
              "Name: Floor Price, Length: 125, dtype: object"
            ]
          },
          "metadata": {},
          "execution_count": 559
        }
      ]
    },
    {
      "cell_type": "code",
      "source": [
        "prices = []\n",
        "for price in df_final['Floor Price']:\n",
        "  if type(price) == type('str'):\n",
        "    price = price.split()\n",
        "    if 'ETH' in price:\n",
        "      price[0] = 0\n",
        "    if len(price) == 0:\n",
        "      price = [0]\n",
        "  prices.append(price[0])\n",
        "\n",
        "\n",
        "\n",
        "\n",
        "\n",
        "\n"
      ],
      "metadata": {
        "id": "BQrX_LsGf6bo"
      },
      "execution_count": 560,
      "outputs": []
    },
    {
      "cell_type": "code",
      "source": [
        "print(prices)"
      ],
      "metadata": {
        "colab": {
          "base_uri": "https://localhost:8080/"
        },
        "id": "rkZATxbwKn2O",
        "outputId": "8b1f5b71-6700-44e1-9fe6-8f406cfbf29a"
      },
      "execution_count": 561,
      "outputs": [
        {
          "output_type": "stream",
          "name": "stdout",
          "text": [
            "[0, 0, 0, 0, 0, 0, 0, 0, 0, 0, 0, 0, 0, 0, 0, 0, 0, 0, 0, 0, 0, 0, 0, 0, 0, 0, 0, 0, 0, 0, 0, 0, 0, 0, 0, 0, 0, 0, 0, 0, 0, 0, 0, 0, 0, 0, 0, 0, 0, 0, 0, 0, 0, 0, 0, 0, 0, 0, 0, 0, 0, 0, 0, 0, 0, 0, 0, 0, 0, 0, 0, 0, 0, 0, 0, 0, 0, 0, 0, 0, 0, 0, 0, 0, 0, 0, 0, 0, 0, 0, 0, 0, 0, 0, 0, 0, 0, 0, 0, 0, 0, 0, 0, 0, 0, 0, 0, 0, 0, 0, 0, 0, 0, 0, 0, 0, 0, 0, 0, 0, 0, 0, 0, 0, 0]\n"
          ]
        }
      ]
    },
    {
      "cell_type": "code",
      "source": [
        "df_final['Floor Price'] = prices"
      ],
      "metadata": {
        "id": "55ULsGhpftl1"
      },
      "execution_count": 562,
      "outputs": []
    },
    {
      "cell_type": "code",
      "source": [
        "df_final['Floor Price']"
      ],
      "metadata": {
        "colab": {
          "base_uri": "https://localhost:8080/"
        },
        "id": "DOWwSvgwHx7G",
        "outputId": "fe90cd07-b74b-4099-c7df-bbaa18e6100b"
      },
      "execution_count": 563,
      "outputs": [
        {
          "output_type": "execute_result",
          "data": {
            "text/plain": [
              "0      0\n",
              "1      0\n",
              "2      0\n",
              "3      0\n",
              "4      0\n",
              "      ..\n",
              "120    0\n",
              "121    0\n",
              "122    0\n",
              "123    0\n",
              "124    0\n",
              "Name: Floor Price, Length: 125, dtype: int64"
            ]
          },
          "metadata": {},
          "execution_count": 563
        }
      ]
    },
    {
      "cell_type": "code",
      "source": [
        "df_final['Floor Price'] = df_final['Floor Price'].astype(float)"
      ],
      "metadata": {
        "id": "HfzET68qftop"
      },
      "execution_count": 564,
      "outputs": []
    },
    {
      "cell_type": "markdown",
      "source": [
        "###Market Cap:"
      ],
      "metadata": {
        "id": "9GhRQOwDjpIp"
      }
    },
    {
      "cell_type": "code",
      "source": [
        "df_final['Market Cap']"
      ],
      "metadata": {
        "colab": {
          "base_uri": "https://localhost:8080/"
        },
        "id": "_Oq0-qigjus4",
        "outputId": "69de8e77-2393-4fe7-9930-db7eb2937c50"
      },
      "execution_count": 565,
      "outputs": [
        {
          "output_type": "execute_result",
          "data": {
            "text/plain": [
              "0       63,800.0 ETH\n",
              "1          925.3 ETH\n",
              "2      124,900.0 ETH\n",
              "3      990,000.0 ETH\n",
              "4      285,910.8 ETH\n",
              "           ...      \n",
              "120        66.09 ETH\n",
              "121          0.0 ETH\n",
              "122          0.0 ETH\n",
              "123        362.4 ETH\n",
              "124       360.36 ETH\n",
              "Name: Market Cap, Length: 125, dtype: object"
            ]
          },
          "metadata": {},
          "execution_count": 565
        }
      ]
    },
    {
      "cell_type": "code",
      "source": [
        "market_caps = []\n",
        "for market_cap in df_final['Market Cap']:\n",
        "  market_cap = market_cap.split()\n",
        "  market_caps.append(market_cap[0])"
      ],
      "metadata": {
        "id": "oFaEtQWIjvAv"
      },
      "execution_count": 566,
      "outputs": []
    },
    {
      "cell_type": "code",
      "source": [
        "for i in market_caps:\n",
        "  if type(i) != type('str'):\n",
        "    print('Não tem dados com tipo string')"
      ],
      "metadata": {
        "id": "XKJT8jwLjvDF"
      },
      "execution_count": 567,
      "outputs": []
    },
    {
      "cell_type": "code",
      "source": [
        "market_caps_final = []\n",
        "for mks in market_caps:\n",
        "  mks = mks.split(',')\n",
        "  if len(mks) > 1:\n",
        "    mks = mks[0] + '' + mks[1]\n",
        "    market_caps_final.append(mks)\n",
        "  else:\n",
        "    market_caps_final.append(mks[0])\n"
      ],
      "metadata": {
        "id": "86C46eLklEmg"
      },
      "execution_count": 568,
      "outputs": []
    },
    {
      "cell_type": "code",
      "source": [
        "df_final['Market Cap'] = market_caps_final"
      ],
      "metadata": {
        "id": "UzeW_6qmkpkD"
      },
      "execution_count": 569,
      "outputs": []
    },
    {
      "cell_type": "code",
      "source": [
        "market_caps_final = df_final['Market Cap'].astype(float)"
      ],
      "metadata": {
        "id": "Kh5QR4IZkyHW"
      },
      "execution_count": 570,
      "outputs": []
    },
    {
      "cell_type": "markdown",
      "source": [
        "###24h(Variação em %):"
      ],
      "metadata": {
        "id": "kHueQHARYQ-y"
      }
    },
    {
      "cell_type": "code",
      "source": [
        "df_final = df_final.rename(columns={'24h':'24h(%)'})"
      ],
      "metadata": {
        "id": "8H57jgygYQWO"
      },
      "execution_count": 571,
      "outputs": []
    },
    {
      "cell_type": "code",
      "source": [
        "df_final.head()"
      ],
      "metadata": {
        "colab": {
          "base_uri": "https://localhost:8080/",
          "height": 206
        },
        "id": "hwqsOMc4Y3Yv",
        "outputId": "732dcc13-9244-4bea-aea8-77b7725b6bbe"
      },
      "execution_count": 572,
      "outputs": [
        {
          "output_type": "execute_result",
          "data": {
            "text/html": [
              "\n",
              "  <div id=\"df-a448416e-be8e-4d46-a4e1-f73b2c50ffec\">\n",
              "    <div class=\"colab-df-container\">\n",
              "      <div>\n",
              "<style scoped>\n",
              "    .dataframe tbody tr th:only-of-type {\n",
              "        vertical-align: middle;\n",
              "    }\n",
              "\n",
              "    .dataframe tbody tr th {\n",
              "        vertical-align: top;\n",
              "    }\n",
              "\n",
              "    .dataframe thead th {\n",
              "        text-align: right;\n",
              "    }\n",
              "</style>\n",
              "<table border=\"1\" class=\"dataframe\">\n",
              "  <thead>\n",
              "    <tr style=\"text-align: right;\">\n",
              "      <th></th>\n",
              "      <th>#</th>\n",
              "      <th>NFT</th>\n",
              "      <th>Floor Price</th>\n",
              "      <th>24h(%)</th>\n",
              "      <th>7d</th>\n",
              "      <th>Market Cap</th>\n",
              "      <th>24h Volume</th>\n",
              "      <th>Owners</th>\n",
              "      <th>24h Owners</th>\n",
              "      <th>Total Assets</th>\n",
              "    </tr>\n",
              "  </thead>\n",
              "  <tbody>\n",
              "    <tr>\n",
              "      <th>0</th>\n",
              "      <td>1</td>\n",
              "      <td>Meebits</td>\n",
              "      <td>0.0</td>\n",
              "      <td>-1.6%</td>\n",
              "      <td>NaN</td>\n",
              "      <td>63800.0</td>\n",
              "      <td>16,724.45 ETH</td>\n",
              "      <td>5747.0</td>\n",
              "      <td>0.0%</td>\n",
              "      <td>20000.0</td>\n",
              "    </tr>\n",
              "    <tr>\n",
              "      <th>1</th>\n",
              "      <td>2</td>\n",
              "      <td>dotdotdots</td>\n",
              "      <td>0.0</td>\n",
              "      <td>-4.0%</td>\n",
              "      <td>NaN</td>\n",
              "      <td>925.3</td>\n",
              "      <td>6,356.47 ETH</td>\n",
              "      <td>2650.0</td>\n",
              "      <td>0.2%</td>\n",
              "      <td>4870.0</td>\n",
              "    </tr>\n",
              "    <tr>\n",
              "      <th>2</th>\n",
              "      <td>3</td>\n",
              "      <td>Azuki</td>\n",
              "      <td>0.0</td>\n",
              "      <td>8.6%</td>\n",
              "      <td>NaN</td>\n",
              "      <td>124900.0</td>\n",
              "      <td>1,563.55 ETH</td>\n",
              "      <td>5428.0</td>\n",
              "      <td>0.1%</td>\n",
              "      <td>10000.0</td>\n",
              "    </tr>\n",
              "    <tr>\n",
              "      <th>3</th>\n",
              "      <td>4</td>\n",
              "      <td>Bored Ape Yacht Club</td>\n",
              "      <td>0.0</td>\n",
              "      <td>-2.4%</td>\n",
              "      <td>NaN</td>\n",
              "      <td>990000.0</td>\n",
              "      <td>810.99 ETH</td>\n",
              "      <td>6312.0</td>\n",
              "      <td>0.0%</td>\n",
              "      <td>10000.0</td>\n",
              "    </tr>\n",
              "    <tr>\n",
              "      <th>4</th>\n",
              "      <td>5</td>\n",
              "      <td>CloneX</td>\n",
              "      <td>0.0</td>\n",
              "      <td>-1.8%</td>\n",
              "      <td>NaN</td>\n",
              "      <td>285910.8</td>\n",
              "      <td>713.86 ETH</td>\n",
              "      <td>8287.0</td>\n",
              "      <td>0.1%</td>\n",
              "      <td>18872.0</td>\n",
              "    </tr>\n",
              "  </tbody>\n",
              "</table>\n",
              "</div>\n",
              "      <button class=\"colab-df-convert\" onclick=\"convertToInteractive('df-a448416e-be8e-4d46-a4e1-f73b2c50ffec')\"\n",
              "              title=\"Convert this dataframe to an interactive table.\"\n",
              "              style=\"display:none;\">\n",
              "        \n",
              "  <svg xmlns=\"http://www.w3.org/2000/svg\" height=\"24px\"viewBox=\"0 0 24 24\"\n",
              "       width=\"24px\">\n",
              "    <path d=\"M0 0h24v24H0V0z\" fill=\"none\"/>\n",
              "    <path d=\"M18.56 5.44l.94 2.06.94-2.06 2.06-.94-2.06-.94-.94-2.06-.94 2.06-2.06.94zm-11 1L8.5 8.5l.94-2.06 2.06-.94-2.06-.94L8.5 2.5l-.94 2.06-2.06.94zm10 10l.94 2.06.94-2.06 2.06-.94-2.06-.94-.94-2.06-.94 2.06-2.06.94z\"/><path d=\"M17.41 7.96l-1.37-1.37c-.4-.4-.92-.59-1.43-.59-.52 0-1.04.2-1.43.59L10.3 9.45l-7.72 7.72c-.78.78-.78 2.05 0 2.83L4 21.41c.39.39.9.59 1.41.59.51 0 1.02-.2 1.41-.59l7.78-7.78 2.81-2.81c.8-.78.8-2.07 0-2.86zM5.41 20L4 18.59l7.72-7.72 1.47 1.35L5.41 20z\"/>\n",
              "  </svg>\n",
              "      </button>\n",
              "      \n",
              "  <style>\n",
              "    .colab-df-container {\n",
              "      display:flex;\n",
              "      flex-wrap:wrap;\n",
              "      gap: 12px;\n",
              "    }\n",
              "\n",
              "    .colab-df-convert {\n",
              "      background-color: #E8F0FE;\n",
              "      border: none;\n",
              "      border-radius: 50%;\n",
              "      cursor: pointer;\n",
              "      display: none;\n",
              "      fill: #1967D2;\n",
              "      height: 32px;\n",
              "      padding: 0 0 0 0;\n",
              "      width: 32px;\n",
              "    }\n",
              "\n",
              "    .colab-df-convert:hover {\n",
              "      background-color: #E2EBFA;\n",
              "      box-shadow: 0px 1px 2px rgba(60, 64, 67, 0.3), 0px 1px 3px 1px rgba(60, 64, 67, 0.15);\n",
              "      fill: #174EA6;\n",
              "    }\n",
              "\n",
              "    [theme=dark] .colab-df-convert {\n",
              "      background-color: #3B4455;\n",
              "      fill: #D2E3FC;\n",
              "    }\n",
              "\n",
              "    [theme=dark] .colab-df-convert:hover {\n",
              "      background-color: #434B5C;\n",
              "      box-shadow: 0px 1px 3px 1px rgba(0, 0, 0, 0.15);\n",
              "      filter: drop-shadow(0px 1px 2px rgba(0, 0, 0, 0.3));\n",
              "      fill: #FFFFFF;\n",
              "    }\n",
              "  </style>\n",
              "\n",
              "      <script>\n",
              "        const buttonEl =\n",
              "          document.querySelector('#df-a448416e-be8e-4d46-a4e1-f73b2c50ffec button.colab-df-convert');\n",
              "        buttonEl.style.display =\n",
              "          google.colab.kernel.accessAllowed ? 'block' : 'none';\n",
              "\n",
              "        async function convertToInteractive(key) {\n",
              "          const element = document.querySelector('#df-a448416e-be8e-4d46-a4e1-f73b2c50ffec');\n",
              "          const dataTable =\n",
              "            await google.colab.kernel.invokeFunction('convertToInteractive',\n",
              "                                                     [key], {});\n",
              "          if (!dataTable) return;\n",
              "\n",
              "          const docLinkHtml = 'Like what you see? Visit the ' +\n",
              "            '<a target=\"_blank\" href=https://colab.research.google.com/notebooks/data_table.ipynb>data table notebook</a>'\n",
              "            + ' to learn more about interactive tables.';\n",
              "          element.innerHTML = '';\n",
              "          dataTable['output_type'] = 'display_data';\n",
              "          await google.colab.output.renderOutput(dataTable, element);\n",
              "          const docLink = document.createElement('div');\n",
              "          docLink.innerHTML = docLinkHtml;\n",
              "          element.appendChild(docLink);\n",
              "        }\n",
              "      </script>\n",
              "    </div>\n",
              "  </div>\n",
              "  "
            ],
            "text/plain": [
              "   #                   NFT  Floor Price  ...  Owners  24h Owners Total Assets\n",
              "0  1               Meebits          0.0  ...  5747.0        0.0%      20000.0\n",
              "1  2            dotdotdots          0.0  ...  2650.0        0.2%       4870.0\n",
              "2  3                 Azuki          0.0  ...  5428.0        0.1%      10000.0\n",
              "3  4  Bored Ape Yacht Club          0.0  ...  6312.0        0.0%      10000.0\n",
              "4  5                CloneX          0.0  ...  8287.0        0.1%      18872.0\n",
              "\n",
              "[5 rows x 10 columns]"
            ]
          },
          "metadata": {},
          "execution_count": 572
        }
      ]
    },
    {
      "cell_type": "code",
      "source": [
        "tfhours = []\n",
        "try:\n",
        "  for per in df_final['24h(%)']:\n",
        "    per = per.split('%')\n",
        "    tfhours.append(float(per[0]))\n",
        "except:\n",
        "  print(\"not valid\")"
      ],
      "metadata": {
        "id": "-Va35MMwYTxl"
      },
      "execution_count": 573,
      "outputs": []
    },
    {
      "cell_type": "code",
      "source": [
        "if len(tfhours) > 0:\n",
        "  df_final['24h(%)'] = tfhours"
      ],
      "metadata": {
        "id": "kZKS5lkLYTz7"
      },
      "execution_count": 574,
      "outputs": []
    },
    {
      "cell_type": "code",
      "source": [
        "df_final.head()"
      ],
      "metadata": {
        "colab": {
          "base_uri": "https://localhost:8080/",
          "height": 206
        },
        "id": "G1HuslchYT2Z",
        "outputId": "c0d1b767-b35a-4341-e8c3-c8f9f1d4ab84"
      },
      "execution_count": 575,
      "outputs": [
        {
          "output_type": "execute_result",
          "data": {
            "text/html": [
              "\n",
              "  <div id=\"df-f76db577-a4f3-470b-b5b2-d1aadec8afb2\">\n",
              "    <div class=\"colab-df-container\">\n",
              "      <div>\n",
              "<style scoped>\n",
              "    .dataframe tbody tr th:only-of-type {\n",
              "        vertical-align: middle;\n",
              "    }\n",
              "\n",
              "    .dataframe tbody tr th {\n",
              "        vertical-align: top;\n",
              "    }\n",
              "\n",
              "    .dataframe thead th {\n",
              "        text-align: right;\n",
              "    }\n",
              "</style>\n",
              "<table border=\"1\" class=\"dataframe\">\n",
              "  <thead>\n",
              "    <tr style=\"text-align: right;\">\n",
              "      <th></th>\n",
              "      <th>#</th>\n",
              "      <th>NFT</th>\n",
              "      <th>Floor Price</th>\n",
              "      <th>24h(%)</th>\n",
              "      <th>7d</th>\n",
              "      <th>Market Cap</th>\n",
              "      <th>24h Volume</th>\n",
              "      <th>Owners</th>\n",
              "      <th>24h Owners</th>\n",
              "      <th>Total Assets</th>\n",
              "    </tr>\n",
              "  </thead>\n",
              "  <tbody>\n",
              "    <tr>\n",
              "      <th>0</th>\n",
              "      <td>1</td>\n",
              "      <td>Meebits</td>\n",
              "      <td>0.0</td>\n",
              "      <td>-1.6</td>\n",
              "      <td>NaN</td>\n",
              "      <td>63800.0</td>\n",
              "      <td>16,724.45 ETH</td>\n",
              "      <td>5747.0</td>\n",
              "      <td>0.0%</td>\n",
              "      <td>20000.0</td>\n",
              "    </tr>\n",
              "    <tr>\n",
              "      <th>1</th>\n",
              "      <td>2</td>\n",
              "      <td>dotdotdots</td>\n",
              "      <td>0.0</td>\n",
              "      <td>-4.0</td>\n",
              "      <td>NaN</td>\n",
              "      <td>925.3</td>\n",
              "      <td>6,356.47 ETH</td>\n",
              "      <td>2650.0</td>\n",
              "      <td>0.2%</td>\n",
              "      <td>4870.0</td>\n",
              "    </tr>\n",
              "    <tr>\n",
              "      <th>2</th>\n",
              "      <td>3</td>\n",
              "      <td>Azuki</td>\n",
              "      <td>0.0</td>\n",
              "      <td>8.6</td>\n",
              "      <td>NaN</td>\n",
              "      <td>124900.0</td>\n",
              "      <td>1,563.55 ETH</td>\n",
              "      <td>5428.0</td>\n",
              "      <td>0.1%</td>\n",
              "      <td>10000.0</td>\n",
              "    </tr>\n",
              "    <tr>\n",
              "      <th>3</th>\n",
              "      <td>4</td>\n",
              "      <td>Bored Ape Yacht Club</td>\n",
              "      <td>0.0</td>\n",
              "      <td>-2.4</td>\n",
              "      <td>NaN</td>\n",
              "      <td>990000.0</td>\n",
              "      <td>810.99 ETH</td>\n",
              "      <td>6312.0</td>\n",
              "      <td>0.0%</td>\n",
              "      <td>10000.0</td>\n",
              "    </tr>\n",
              "    <tr>\n",
              "      <th>4</th>\n",
              "      <td>5</td>\n",
              "      <td>CloneX</td>\n",
              "      <td>0.0</td>\n",
              "      <td>-1.8</td>\n",
              "      <td>NaN</td>\n",
              "      <td>285910.8</td>\n",
              "      <td>713.86 ETH</td>\n",
              "      <td>8287.0</td>\n",
              "      <td>0.1%</td>\n",
              "      <td>18872.0</td>\n",
              "    </tr>\n",
              "  </tbody>\n",
              "</table>\n",
              "</div>\n",
              "      <button class=\"colab-df-convert\" onclick=\"convertToInteractive('df-f76db577-a4f3-470b-b5b2-d1aadec8afb2')\"\n",
              "              title=\"Convert this dataframe to an interactive table.\"\n",
              "              style=\"display:none;\">\n",
              "        \n",
              "  <svg xmlns=\"http://www.w3.org/2000/svg\" height=\"24px\"viewBox=\"0 0 24 24\"\n",
              "       width=\"24px\">\n",
              "    <path d=\"M0 0h24v24H0V0z\" fill=\"none\"/>\n",
              "    <path d=\"M18.56 5.44l.94 2.06.94-2.06 2.06-.94-2.06-.94-.94-2.06-.94 2.06-2.06.94zm-11 1L8.5 8.5l.94-2.06 2.06-.94-2.06-.94L8.5 2.5l-.94 2.06-2.06.94zm10 10l.94 2.06.94-2.06 2.06-.94-2.06-.94-.94-2.06-.94 2.06-2.06.94z\"/><path d=\"M17.41 7.96l-1.37-1.37c-.4-.4-.92-.59-1.43-.59-.52 0-1.04.2-1.43.59L10.3 9.45l-7.72 7.72c-.78.78-.78 2.05 0 2.83L4 21.41c.39.39.9.59 1.41.59.51 0 1.02-.2 1.41-.59l7.78-7.78 2.81-2.81c.8-.78.8-2.07 0-2.86zM5.41 20L4 18.59l7.72-7.72 1.47 1.35L5.41 20z\"/>\n",
              "  </svg>\n",
              "      </button>\n",
              "      \n",
              "  <style>\n",
              "    .colab-df-container {\n",
              "      display:flex;\n",
              "      flex-wrap:wrap;\n",
              "      gap: 12px;\n",
              "    }\n",
              "\n",
              "    .colab-df-convert {\n",
              "      background-color: #E8F0FE;\n",
              "      border: none;\n",
              "      border-radius: 50%;\n",
              "      cursor: pointer;\n",
              "      display: none;\n",
              "      fill: #1967D2;\n",
              "      height: 32px;\n",
              "      padding: 0 0 0 0;\n",
              "      width: 32px;\n",
              "    }\n",
              "\n",
              "    .colab-df-convert:hover {\n",
              "      background-color: #E2EBFA;\n",
              "      box-shadow: 0px 1px 2px rgba(60, 64, 67, 0.3), 0px 1px 3px 1px rgba(60, 64, 67, 0.15);\n",
              "      fill: #174EA6;\n",
              "    }\n",
              "\n",
              "    [theme=dark] .colab-df-convert {\n",
              "      background-color: #3B4455;\n",
              "      fill: #D2E3FC;\n",
              "    }\n",
              "\n",
              "    [theme=dark] .colab-df-convert:hover {\n",
              "      background-color: #434B5C;\n",
              "      box-shadow: 0px 1px 3px 1px rgba(0, 0, 0, 0.15);\n",
              "      filter: drop-shadow(0px 1px 2px rgba(0, 0, 0, 0.3));\n",
              "      fill: #FFFFFF;\n",
              "    }\n",
              "  </style>\n",
              "\n",
              "      <script>\n",
              "        const buttonEl =\n",
              "          document.querySelector('#df-f76db577-a4f3-470b-b5b2-d1aadec8afb2 button.colab-df-convert');\n",
              "        buttonEl.style.display =\n",
              "          google.colab.kernel.accessAllowed ? 'block' : 'none';\n",
              "\n",
              "        async function convertToInteractive(key) {\n",
              "          const element = document.querySelector('#df-f76db577-a4f3-470b-b5b2-d1aadec8afb2');\n",
              "          const dataTable =\n",
              "            await google.colab.kernel.invokeFunction('convertToInteractive',\n",
              "                                                     [key], {});\n",
              "          if (!dataTable) return;\n",
              "\n",
              "          const docLinkHtml = 'Like what you see? Visit the ' +\n",
              "            '<a target=\"_blank\" href=https://colab.research.google.com/notebooks/data_table.ipynb>data table notebook</a>'\n",
              "            + ' to learn more about interactive tables.';\n",
              "          element.innerHTML = '';\n",
              "          dataTable['output_type'] = 'display_data';\n",
              "          await google.colab.output.renderOutput(dataTable, element);\n",
              "          const docLink = document.createElement('div');\n",
              "          docLink.innerHTML = docLinkHtml;\n",
              "          element.appendChild(docLink);\n",
              "        }\n",
              "      </script>\n",
              "    </div>\n",
              "  </div>\n",
              "  "
            ],
            "text/plain": [
              "   #                   NFT  Floor Price  ...  Owners  24h Owners Total Assets\n",
              "0  1               Meebits          0.0  ...  5747.0        0.0%      20000.0\n",
              "1  2            dotdotdots          0.0  ...  2650.0        0.2%       4870.0\n",
              "2  3                 Azuki          0.0  ...  5428.0        0.1%      10000.0\n",
              "3  4  Bored Ape Yacht Club          0.0  ...  6312.0        0.0%      10000.0\n",
              "4  5                CloneX          0.0  ...  8287.0        0.1%      18872.0\n",
              "\n",
              "[5 rows x 10 columns]"
            ]
          },
          "metadata": {},
          "execution_count": 575
        }
      ]
    },
    {
      "cell_type": "markdown",
      "source": [
        "###24h Volume:"
      ],
      "metadata": {
        "id": "g_qwfMLxnfGS"
      }
    },
    {
      "cell_type": "code",
      "source": [
        "df_final['24h Volume']"
      ],
      "metadata": {
        "colab": {
          "base_uri": "https://localhost:8080/"
        },
        "id": "bhTJ_s1Vnqjs",
        "outputId": "3bd35e64-8cd3-40c1-865a-1021365961fe"
      },
      "execution_count": 576,
      "outputs": [
        {
          "output_type": "execute_result",
          "data": {
            "text/plain": [
              "0      16,724.45 ETH\n",
              "1       6,356.47 ETH\n",
              "2       1,563.55 ETH\n",
              "3         810.99 ETH\n",
              "4         713.86 ETH\n",
              "           ...      \n",
              "120         0.01 ETH\n",
              "121         0.01 ETH\n",
              "122          0.0 ETH\n",
              "123          0.0 ETH\n",
              "124          0.0 ETH\n",
              "Name: 24h Volume, Length: 125, dtype: object"
            ]
          },
          "metadata": {},
          "execution_count": 576
        }
      ]
    },
    {
      "cell_type": "code",
      "source": [
        "daily_volumes  = []\n",
        "for daily_volume in df_final['24h Volume']:\n",
        "  if ',' in daily_volume:\n",
        "    daily_volume = daily_volume.split(',')\n",
        "    daily_volume = daily_volume[0] + '' + daily_volume[1]\n",
        "    daily_volume = daily_volume.split()\n",
        "    daily_volumes.append(daily_volume[0])\n",
        "  else:  \n",
        "    daily_volume = daily_volume.split()\n",
        "    daily_volume = daily_volume[0]\n",
        "    daily_volumes.append(daily_volume)\n"
      ],
      "metadata": {
        "id": "_2Boa-oXnqm5"
      },
      "execution_count": 577,
      "outputs": []
    },
    {
      "cell_type": "code",
      "source": [
        "daily_volumes\n",
        "    "
      ],
      "metadata": {
        "colab": {
          "base_uri": "https://localhost:8080/"
        },
        "id": "8fmKgFsInqqv",
        "outputId": "8b82263d-21b3-4c10-f672-0ae83faf8f62"
      },
      "execution_count": 578,
      "outputs": [
        {
          "output_type": "execute_result",
          "data": {
            "text/plain": [
              "['16724.45',\n",
              " '6356.47',\n",
              " '1563.55',\n",
              " '810.99',\n",
              " '713.86',\n",
              " '660.34',\n",
              " '412.25',\n",
              " '319.87',\n",
              " '218.18',\n",
              " '215.82',\n",
              " '193.79',\n",
              " '191.12',\n",
              " '142.95',\n",
              " '133.33',\n",
              " '114.87',\n",
              " '112.96',\n",
              " '101.43',\n",
              " '87.96',\n",
              " '84.0',\n",
              " '83.4',\n",
              " '71.75',\n",
              " '58.63',\n",
              " '54.78',\n",
              " '54.69',\n",
              " '53.27',\n",
              " '53.24',\n",
              " '49.95',\n",
              " '49.36',\n",
              " '46.55',\n",
              " '45.81',\n",
              " '45.35',\n",
              " '39.36',\n",
              " '36.4',\n",
              " '36.33',\n",
              " '32.37',\n",
              " '32.31',\n",
              " '28.68',\n",
              " '27.45',\n",
              " '25.39',\n",
              " '22.76',\n",
              " '21.99',\n",
              " '21.4',\n",
              " '21.37',\n",
              " '20.2',\n",
              " '19.78',\n",
              " '19.49',\n",
              " '18.18',\n",
              " '15.53',\n",
              " '14.91',\n",
              " '14.68',\n",
              " '14.49',\n",
              " '12.92',\n",
              " '12.45',\n",
              " '12.39',\n",
              " '12.34',\n",
              " '11.78',\n",
              " '11.54',\n",
              " '8.91',\n",
              " '8.39',\n",
              " '7.69',\n",
              " '5.99',\n",
              " '5.8',\n",
              " '5.54',\n",
              " '5.17',\n",
              " '4.63',\n",
              " '4.14',\n",
              " '3.5',\n",
              " '3.5',\n",
              " '3.39',\n",
              " '3.33',\n",
              " '2.95',\n",
              " '2.82',\n",
              " '2.69',\n",
              " '2.57',\n",
              " '2.53',\n",
              " '2.28',\n",
              " '2.15',\n",
              " '2.0',\n",
              " '1.98',\n",
              " '1.83',\n",
              " '1.78',\n",
              " '1.68',\n",
              " '1.59',\n",
              " '1.37',\n",
              " '1.21',\n",
              " '1.1',\n",
              " '1.09',\n",
              " '1.07',\n",
              " '0.95',\n",
              " '0.93',\n",
              " '0.81',\n",
              " '0.77',\n",
              " '0.64',\n",
              " '0.62',\n",
              " '0.62',\n",
              " '0.58',\n",
              " '0.54',\n",
              " '0.51',\n",
              " '0.51',\n",
              " '0.49',\n",
              " '0.45',\n",
              " '0.44',\n",
              " '0.39',\n",
              " '0.37',\n",
              " '0.37',\n",
              " '0.36',\n",
              " '0.34',\n",
              " '0.27',\n",
              " '0.26',\n",
              " '0.25',\n",
              " '0.25',\n",
              " '0.24',\n",
              " '0.22',\n",
              " '0.21',\n",
              " '0.21',\n",
              " '0.2',\n",
              " '0.17',\n",
              " '0.08',\n",
              " '0.04',\n",
              " '0.03',\n",
              " '0.01',\n",
              " '0.01',\n",
              " '0.0',\n",
              " '0.0',\n",
              " '0.0']"
            ]
          },
          "metadata": {},
          "execution_count": 578
        }
      ]
    },
    {
      "cell_type": "code",
      "source": [
        "df_final['24h Volume'] = daily_volumes"
      ],
      "metadata": {
        "id": "lVM5xe1YpoE8"
      },
      "execution_count": 579,
      "outputs": []
    },
    {
      "cell_type": "code",
      "source": [
        "df_final['24h Volume'].astype(float)"
      ],
      "metadata": {
        "colab": {
          "base_uri": "https://localhost:8080/"
        },
        "id": "wGFEst4BsfPP",
        "outputId": "7e438594-be97-4b7e-929b-6049593c0dd4"
      },
      "execution_count": 580,
      "outputs": [
        {
          "output_type": "execute_result",
          "data": {
            "text/plain": [
              "0      16724.45\n",
              "1       6356.47\n",
              "2       1563.55\n",
              "3        810.99\n",
              "4        713.86\n",
              "         ...   \n",
              "120        0.01\n",
              "121        0.01\n",
              "122        0.00\n",
              "123        0.00\n",
              "124        0.00\n",
              "Name: 24h Volume, Length: 125, dtype: float64"
            ]
          },
          "metadata": {},
          "execution_count": 580
        }
      ]
    },
    {
      "cell_type": "markdown",
      "source": [
        "###24h Owners:"
      ],
      "metadata": {
        "id": "xW7wRJPpstCt"
      }
    },
    {
      "cell_type": "code",
      "source": [
        "df_final['24h Owners']"
      ],
      "metadata": {
        "colab": {
          "base_uri": "https://localhost:8080/"
        },
        "id": "JaekVl2Esvpr",
        "outputId": "08cc0604-16ea-4437-c264-10cb554f8c7f"
      },
      "execution_count": 581,
      "outputs": [
        {
          "output_type": "execute_result",
          "data": {
            "text/plain": [
              "0      0.0%\n",
              "1      0.2%\n",
              "2      0.1%\n",
              "3      0.0%\n",
              "4      0.1%\n",
              "       ... \n",
              "120    0.0%\n",
              "121    0.0%\n",
              "122    0.0%\n",
              "123    0.0%\n",
              "124    0.0%\n",
              "Name: 24h Owners, Length: 125, dtype: object"
            ]
          },
          "metadata": {},
          "execution_count": 581
        }
      ]
    },
    {
      "cell_type": "code",
      "source": [
        "daily_owners = []\n",
        "for d_owner in df_final['24h Owners']:\n",
        "  d_owner = d_owner.split('%')\n",
        "  daily_owners.append(d_owner[0])"
      ],
      "metadata": {
        "id": "Cu9TppYysvz3"
      },
      "execution_count": 582,
      "outputs": []
    },
    {
      "cell_type": "code",
      "source": [
        "df_final['24h Owners'] = daily_owners"
      ],
      "metadata": {
        "id": "bTSulz1XtNpB"
      },
      "execution_count": 583,
      "outputs": []
    },
    {
      "cell_type": "code",
      "source": [
        "len(daily_owners)"
      ],
      "metadata": {
        "colab": {
          "base_uri": "https://localhost:8080/"
        },
        "id": "N47rTJSu65R3",
        "outputId": "6a878dca-69f9-4016-bef8-82ae05adaa62"
      },
      "execution_count": 584,
      "outputs": [
        {
          "output_type": "execute_result",
          "data": {
            "text/plain": [
              "125"
            ]
          },
          "metadata": {},
          "execution_count": 584
        }
      ]
    },
    {
      "cell_type": "code",
      "source": [
        "for els in df_final['24h Owners']:\n",
        "  if type(els) != type('str'):\n",
        "    df_final['24h Owners'].astype(float)"
      ],
      "metadata": {
        "id": "vd_cLZi2sv8w"
      },
      "execution_count": 585,
      "outputs": []
    },
    {
      "cell_type": "markdown",
      "source": [
        "##Razão dos proprietários (Owner Ratio):"
      ],
      "metadata": {
        "id": "J16Z8Oin0bd5"
      }
    },
    {
      "cell_type": "code",
      "source": [
        "df_final['Owner Ratio'] = df_final['Owners'] / df_final ['Total Assets']"
      ],
      "metadata": {
        "id": "4vwYveAK0f6M"
      },
      "execution_count": 586,
      "outputs": []
    },
    {
      "cell_type": "code",
      "source": [
        "df_final['Owner Ratio'] = df_final['Owner Ratio']*100"
      ],
      "metadata": {
        "id": "xJsR2g6Q0f6M"
      },
      "execution_count": 587,
      "outputs": []
    },
    {
      "cell_type": "markdown",
      "source": [
        "#2ºParte: Limpeza dos dados"
      ],
      "metadata": {
        "id": "Jl2hE-TUybQJ"
      }
    },
    {
      "cell_type": "code",
      "source": [
        "df_final.isnull().sum()"
      ],
      "metadata": {
        "id": "29urF9sSSPMj",
        "colab": {
          "base_uri": "https://localhost:8080/"
        },
        "outputId": "33ce76dc-454b-49ad-ce30-ecd4076f52bb"
      },
      "execution_count": 588,
      "outputs": [
        {
          "output_type": "execute_result",
          "data": {
            "text/plain": [
              "#                 0\n",
              "NFT               0\n",
              "Floor Price       0\n",
              "24h(%)            0\n",
              "7d              125\n",
              "Market Cap        0\n",
              "24h Volume        0\n",
              "Owners            0\n",
              "24h Owners        0\n",
              "Total Assets      0\n",
              "Owner Ratio       0\n",
              "dtype: int64"
            ]
          },
          "metadata": {},
          "execution_count": 588
        }
      ]
    },
    {
      "cell_type": "code",
      "source": [
        "df_final.drop(columns=[\"7d\", \"#\"], inplace=True)"
      ],
      "metadata": {
        "id": "fsZoVQ_Nysbo"
      },
      "execution_count": 589,
      "outputs": []
    },
    {
      "cell_type": "code",
      "source": [
        "df_final.duplicated().sum()"
      ],
      "metadata": {
        "id": "nW7zTundyzGL",
        "colab": {
          "base_uri": "https://localhost:8080/"
        },
        "outputId": "ba5d99dc-284d-4e39-f5d9-1485a81726da"
      },
      "execution_count": 590,
      "outputs": [
        {
          "output_type": "execute_result",
          "data": {
            "text/plain": [
              "0"
            ]
          },
          "metadata": {},
          "execution_count": 590
        }
      ]
    },
    {
      "cell_type": "code",
      "source": [
        "df = df_final"
      ],
      "metadata": {
        "id": "8xV1jvctdg2z"
      },
      "execution_count": 591,
      "outputs": []
    },
    {
      "cell_type": "markdown",
      "source": [
        "#Salvando em CSV:"
      ],
      "metadata": {
        "id": "mzaRze_yt0jw"
      }
    },
    {
      "cell_type": "code",
      "source": [
        "df.to_csv(r'/content/df_final.csv', index=False, header=True)"
      ],
      "metadata": {
        "id": "Qmfk_rEdt0B7"
      },
      "execution_count": 592,
      "outputs": []
    },
    {
      "cell_type": "code",
      "source": [
        "df_test = pd.read_csv(\"df_final.csv\")"
      ],
      "metadata": {
        "id": "Zbcx9Iiqt-b8"
      },
      "execution_count": 593,
      "outputs": []
    },
    {
      "cell_type": "code",
      "source": [
        "df_test.head()"
      ],
      "metadata": {
        "id": "4T7CXXhUuCFz",
        "outputId": "619218a2-cc95-4a58-9c69-fbb8329cc020",
        "colab": {
          "base_uri": "https://localhost:8080/",
          "height": 0
        }
      },
      "execution_count": 594,
      "outputs": [
        {
          "output_type": "execute_result",
          "data": {
            "text/html": [
              "\n",
              "  <div id=\"df-b5ceba28-1fc4-4954-8d28-eb2a804708f6\">\n",
              "    <div class=\"colab-df-container\">\n",
              "      <div>\n",
              "<style scoped>\n",
              "    .dataframe tbody tr th:only-of-type {\n",
              "        vertical-align: middle;\n",
              "    }\n",
              "\n",
              "    .dataframe tbody tr th {\n",
              "        vertical-align: top;\n",
              "    }\n",
              "\n",
              "    .dataframe thead th {\n",
              "        text-align: right;\n",
              "    }\n",
              "</style>\n",
              "<table border=\"1\" class=\"dataframe\">\n",
              "  <thead>\n",
              "    <tr style=\"text-align: right;\">\n",
              "      <th></th>\n",
              "      <th>NFT</th>\n",
              "      <th>Floor Price</th>\n",
              "      <th>24h(%)</th>\n",
              "      <th>Market Cap</th>\n",
              "      <th>24h Volume</th>\n",
              "      <th>Owners</th>\n",
              "      <th>24h Owners</th>\n",
              "      <th>Total Assets</th>\n",
              "      <th>Owner Ratio</th>\n",
              "    </tr>\n",
              "  </thead>\n",
              "  <tbody>\n",
              "    <tr>\n",
              "      <th>0</th>\n",
              "      <td>Meebits</td>\n",
              "      <td>0.0</td>\n",
              "      <td>-1.6</td>\n",
              "      <td>63800.0</td>\n",
              "      <td>16724.45</td>\n",
              "      <td>5747.0</td>\n",
              "      <td>0.0</td>\n",
              "      <td>20000.0</td>\n",
              "      <td>28.735000</td>\n",
              "    </tr>\n",
              "    <tr>\n",
              "      <th>1</th>\n",
              "      <td>dotdotdots</td>\n",
              "      <td>0.0</td>\n",
              "      <td>-4.0</td>\n",
              "      <td>925.3</td>\n",
              "      <td>6356.47</td>\n",
              "      <td>2650.0</td>\n",
              "      <td>0.2</td>\n",
              "      <td>4870.0</td>\n",
              "      <td>54.414784</td>\n",
              "    </tr>\n",
              "    <tr>\n",
              "      <th>2</th>\n",
              "      <td>Azuki</td>\n",
              "      <td>0.0</td>\n",
              "      <td>8.6</td>\n",
              "      <td>124900.0</td>\n",
              "      <td>1563.55</td>\n",
              "      <td>5428.0</td>\n",
              "      <td>0.1</td>\n",
              "      <td>10000.0</td>\n",
              "      <td>54.280000</td>\n",
              "    </tr>\n",
              "    <tr>\n",
              "      <th>3</th>\n",
              "      <td>Bored Ape Yacht Club</td>\n",
              "      <td>0.0</td>\n",
              "      <td>-2.4</td>\n",
              "      <td>990000.0</td>\n",
              "      <td>810.99</td>\n",
              "      <td>6312.0</td>\n",
              "      <td>0.0</td>\n",
              "      <td>10000.0</td>\n",
              "      <td>63.120000</td>\n",
              "    </tr>\n",
              "    <tr>\n",
              "      <th>4</th>\n",
              "      <td>CloneX</td>\n",
              "      <td>0.0</td>\n",
              "      <td>-1.8</td>\n",
              "      <td>285910.8</td>\n",
              "      <td>713.86</td>\n",
              "      <td>8287.0</td>\n",
              "      <td>0.1</td>\n",
              "      <td>18872.0</td>\n",
              "      <td>43.911615</td>\n",
              "    </tr>\n",
              "  </tbody>\n",
              "</table>\n",
              "</div>\n",
              "      <button class=\"colab-df-convert\" onclick=\"convertToInteractive('df-b5ceba28-1fc4-4954-8d28-eb2a804708f6')\"\n",
              "              title=\"Convert this dataframe to an interactive table.\"\n",
              "              style=\"display:none;\">\n",
              "        \n",
              "  <svg xmlns=\"http://www.w3.org/2000/svg\" height=\"24px\"viewBox=\"0 0 24 24\"\n",
              "       width=\"24px\">\n",
              "    <path d=\"M0 0h24v24H0V0z\" fill=\"none\"/>\n",
              "    <path d=\"M18.56 5.44l.94 2.06.94-2.06 2.06-.94-2.06-.94-.94-2.06-.94 2.06-2.06.94zm-11 1L8.5 8.5l.94-2.06 2.06-.94-2.06-.94L8.5 2.5l-.94 2.06-2.06.94zm10 10l.94 2.06.94-2.06 2.06-.94-2.06-.94-.94-2.06-.94 2.06-2.06.94z\"/><path d=\"M17.41 7.96l-1.37-1.37c-.4-.4-.92-.59-1.43-.59-.52 0-1.04.2-1.43.59L10.3 9.45l-7.72 7.72c-.78.78-.78 2.05 0 2.83L4 21.41c.39.39.9.59 1.41.59.51 0 1.02-.2 1.41-.59l7.78-7.78 2.81-2.81c.8-.78.8-2.07 0-2.86zM5.41 20L4 18.59l7.72-7.72 1.47 1.35L5.41 20z\"/>\n",
              "  </svg>\n",
              "      </button>\n",
              "      \n",
              "  <style>\n",
              "    .colab-df-container {\n",
              "      display:flex;\n",
              "      flex-wrap:wrap;\n",
              "      gap: 12px;\n",
              "    }\n",
              "\n",
              "    .colab-df-convert {\n",
              "      background-color: #E8F0FE;\n",
              "      border: none;\n",
              "      border-radius: 50%;\n",
              "      cursor: pointer;\n",
              "      display: none;\n",
              "      fill: #1967D2;\n",
              "      height: 32px;\n",
              "      padding: 0 0 0 0;\n",
              "      width: 32px;\n",
              "    }\n",
              "\n",
              "    .colab-df-convert:hover {\n",
              "      background-color: #E2EBFA;\n",
              "      box-shadow: 0px 1px 2px rgba(60, 64, 67, 0.3), 0px 1px 3px 1px rgba(60, 64, 67, 0.15);\n",
              "      fill: #174EA6;\n",
              "    }\n",
              "\n",
              "    [theme=dark] .colab-df-convert {\n",
              "      background-color: #3B4455;\n",
              "      fill: #D2E3FC;\n",
              "    }\n",
              "\n",
              "    [theme=dark] .colab-df-convert:hover {\n",
              "      background-color: #434B5C;\n",
              "      box-shadow: 0px 1px 3px 1px rgba(0, 0, 0, 0.15);\n",
              "      filter: drop-shadow(0px 1px 2px rgba(0, 0, 0, 0.3));\n",
              "      fill: #FFFFFF;\n",
              "    }\n",
              "  </style>\n",
              "\n",
              "      <script>\n",
              "        const buttonEl =\n",
              "          document.querySelector('#df-b5ceba28-1fc4-4954-8d28-eb2a804708f6 button.colab-df-convert');\n",
              "        buttonEl.style.display =\n",
              "          google.colab.kernel.accessAllowed ? 'block' : 'none';\n",
              "\n",
              "        async function convertToInteractive(key) {\n",
              "          const element = document.querySelector('#df-b5ceba28-1fc4-4954-8d28-eb2a804708f6');\n",
              "          const dataTable =\n",
              "            await google.colab.kernel.invokeFunction('convertToInteractive',\n",
              "                                                     [key], {});\n",
              "          if (!dataTable) return;\n",
              "\n",
              "          const docLinkHtml = 'Like what you see? Visit the ' +\n",
              "            '<a target=\"_blank\" href=https://colab.research.google.com/notebooks/data_table.ipynb>data table notebook</a>'\n",
              "            + ' to learn more about interactive tables.';\n",
              "          element.innerHTML = '';\n",
              "          dataTable['output_type'] = 'display_data';\n",
              "          await google.colab.output.renderOutput(dataTable, element);\n",
              "          const docLink = document.createElement('div');\n",
              "          docLink.innerHTML = docLinkHtml;\n",
              "          element.appendChild(docLink);\n",
              "        }\n",
              "      </script>\n",
              "    </div>\n",
              "  </div>\n",
              "  "
            ],
            "text/plain": [
              "                    NFT  Floor Price  ...  Total Assets  Owner Ratio\n",
              "0               Meebits          0.0  ...       20000.0    28.735000\n",
              "1            dotdotdots          0.0  ...        4870.0    54.414784\n",
              "2                 Azuki          0.0  ...       10000.0    54.280000\n",
              "3  Bored Ape Yacht Club          0.0  ...       10000.0    63.120000\n",
              "4                CloneX          0.0  ...       18872.0    43.911615\n",
              "\n",
              "[5 rows x 9 columns]"
            ]
          },
          "metadata": {},
          "execution_count": 594
        }
      ]
    },
    {
      "cell_type": "markdown",
      "source": [
        "#A continuação das partes será imediata para aproveitar a sincronicidade via API do dataset. No entanto, deixo o dataset salvo pós-tratamento para qualquer motivo que seja."
      ],
      "metadata": {
        "id": "jTtn9KaKZ5x3"
      }
    },
    {
      "cell_type": "markdown",
      "source": [
        "#3ºParte: Análise do dataframe\n",
        "\n",
        "\n"
      ],
      "metadata": {
        "id": "BcIfUoDYdMmj"
      }
    },
    {
      "cell_type": "markdown",
      "source": [
        "##Importando as bibliotecas:"
      ],
      "metadata": {
        "id": "gTXc22ZfX28V"
      }
    },
    {
      "cell_type": "code",
      "source": [
        "import pandas as pd\n",
        "import numpy as np\n",
        "\n",
        "import matplotlib.pyplot as plt\n",
        "import seaborn as sns"
      ],
      "metadata": {
        "id": "hQw1R9X_X5si"
      },
      "execution_count": 595,
      "outputs": []
    },
    {
      "cell_type": "markdown",
      "source": [
        "##Importando o dataset:"
      ],
      "metadata": {
        "id": "Bix_Y6OqVhyI"
      }
    },
    {
      "cell_type": "code",
      "source": [
        "df = pd.read_csv(\"df_final_sample.csv\")\n"
      ],
      "metadata": {
        "id": "S6HHIjA5Lmr8"
      },
      "execution_count": 596,
      "outputs": []
    },
    {
      "cell_type": "code",
      "source": [
        "df = df_final.copy()"
      ],
      "metadata": {
        "id": "T16yI_eFYGVN"
      },
      "execution_count": 597,
      "outputs": []
    },
    {
      "cell_type": "markdown",
      "source": [
        "##Quais colunas nos interessam?"
      ],
      "metadata": {
        "id": "lqfSDiaUdZFm"
      }
    },
    {
      "cell_type": "code",
      "source": [
        "df.columns"
      ],
      "metadata": {
        "id": "ko1W-gMhaINi",
        "colab": {
          "base_uri": "https://localhost:8080/"
        },
        "outputId": "6f041556-f392-4482-f9d6-2a11473cbb63"
      },
      "execution_count": 598,
      "outputs": [
        {
          "output_type": "execute_result",
          "data": {
            "text/plain": [
              "Index(['NFT', 'Floor Price', '24h(%)', 'Market Cap', '24h Volume', 'Owners',\n",
              "       '24h Owners', 'Total Assets', 'Owner Ratio'],\n",
              "      dtype='object')"
            ]
          },
          "metadata": {},
          "execution_count": 598
        }
      ]
    },
    {
      "cell_type": "code",
      "source": [
        "df.info()"
      ],
      "metadata": {
        "id": "iRQ9IqKJdbpC",
        "colab": {
          "base_uri": "https://localhost:8080/"
        },
        "outputId": "470ba622-27f4-4a0b-ed8e-a06a8111aa88"
      },
      "execution_count": 599,
      "outputs": [
        {
          "output_type": "stream",
          "name": "stdout",
          "text": [
            "<class 'pandas.core.frame.DataFrame'>\n",
            "RangeIndex: 125 entries, 0 to 124\n",
            "Data columns (total 9 columns):\n",
            " #   Column        Non-Null Count  Dtype  \n",
            "---  ------        --------------  -----  \n",
            " 0   NFT           125 non-null    object \n",
            " 1   Floor Price   125 non-null    float64\n",
            " 2   24h(%)        125 non-null    float64\n",
            " 3   Market Cap    125 non-null    object \n",
            " 4   24h Volume    125 non-null    object \n",
            " 5   Owners        125 non-null    float64\n",
            " 6   24h Owners    125 non-null    object \n",
            " 7   Total Assets  125 non-null    float64\n",
            " 8   Owner Ratio   125 non-null    float64\n",
            "dtypes: float64(5), object(4)\n",
            "memory usage: 8.9+ KB\n"
          ]
        }
      ]
    },
    {
      "cell_type": "code",
      "source": [
        "df.head()"
      ],
      "metadata": {
        "id": "PP16xP7Pe1fP",
        "colab": {
          "base_uri": "https://localhost:8080/",
          "height": 206
        },
        "outputId": "1b9b5790-1242-4a24-a26a-d90554c32810"
      },
      "execution_count": 600,
      "outputs": [
        {
          "output_type": "execute_result",
          "data": {
            "text/html": [
              "\n",
              "  <div id=\"df-cb500af1-f27f-4bf6-96f0-126be54ffa89\">\n",
              "    <div class=\"colab-df-container\">\n",
              "      <div>\n",
              "<style scoped>\n",
              "    .dataframe tbody tr th:only-of-type {\n",
              "        vertical-align: middle;\n",
              "    }\n",
              "\n",
              "    .dataframe tbody tr th {\n",
              "        vertical-align: top;\n",
              "    }\n",
              "\n",
              "    .dataframe thead th {\n",
              "        text-align: right;\n",
              "    }\n",
              "</style>\n",
              "<table border=\"1\" class=\"dataframe\">\n",
              "  <thead>\n",
              "    <tr style=\"text-align: right;\">\n",
              "      <th></th>\n",
              "      <th>NFT</th>\n",
              "      <th>Floor Price</th>\n",
              "      <th>24h(%)</th>\n",
              "      <th>Market Cap</th>\n",
              "      <th>24h Volume</th>\n",
              "      <th>Owners</th>\n",
              "      <th>24h Owners</th>\n",
              "      <th>Total Assets</th>\n",
              "      <th>Owner Ratio</th>\n",
              "    </tr>\n",
              "  </thead>\n",
              "  <tbody>\n",
              "    <tr>\n",
              "      <th>0</th>\n",
              "      <td>Meebits</td>\n",
              "      <td>0.0</td>\n",
              "      <td>-1.6</td>\n",
              "      <td>63800.0</td>\n",
              "      <td>16724.45</td>\n",
              "      <td>5747.0</td>\n",
              "      <td>0.0</td>\n",
              "      <td>20000.0</td>\n",
              "      <td>28.735000</td>\n",
              "    </tr>\n",
              "    <tr>\n",
              "      <th>1</th>\n",
              "      <td>dotdotdots</td>\n",
              "      <td>0.0</td>\n",
              "      <td>-4.0</td>\n",
              "      <td>925.3</td>\n",
              "      <td>6356.47</td>\n",
              "      <td>2650.0</td>\n",
              "      <td>0.2</td>\n",
              "      <td>4870.0</td>\n",
              "      <td>54.414784</td>\n",
              "    </tr>\n",
              "    <tr>\n",
              "      <th>2</th>\n",
              "      <td>Azuki</td>\n",
              "      <td>0.0</td>\n",
              "      <td>8.6</td>\n",
              "      <td>124900.0</td>\n",
              "      <td>1563.55</td>\n",
              "      <td>5428.0</td>\n",
              "      <td>0.1</td>\n",
              "      <td>10000.0</td>\n",
              "      <td>54.280000</td>\n",
              "    </tr>\n",
              "    <tr>\n",
              "      <th>3</th>\n",
              "      <td>Bored Ape Yacht Club</td>\n",
              "      <td>0.0</td>\n",
              "      <td>-2.4</td>\n",
              "      <td>990000.0</td>\n",
              "      <td>810.99</td>\n",
              "      <td>6312.0</td>\n",
              "      <td>0.0</td>\n",
              "      <td>10000.0</td>\n",
              "      <td>63.120000</td>\n",
              "    </tr>\n",
              "    <tr>\n",
              "      <th>4</th>\n",
              "      <td>CloneX</td>\n",
              "      <td>0.0</td>\n",
              "      <td>-1.8</td>\n",
              "      <td>285910.8</td>\n",
              "      <td>713.86</td>\n",
              "      <td>8287.0</td>\n",
              "      <td>0.1</td>\n",
              "      <td>18872.0</td>\n",
              "      <td>43.911615</td>\n",
              "    </tr>\n",
              "  </tbody>\n",
              "</table>\n",
              "</div>\n",
              "      <button class=\"colab-df-convert\" onclick=\"convertToInteractive('df-cb500af1-f27f-4bf6-96f0-126be54ffa89')\"\n",
              "              title=\"Convert this dataframe to an interactive table.\"\n",
              "              style=\"display:none;\">\n",
              "        \n",
              "  <svg xmlns=\"http://www.w3.org/2000/svg\" height=\"24px\"viewBox=\"0 0 24 24\"\n",
              "       width=\"24px\">\n",
              "    <path d=\"M0 0h24v24H0V0z\" fill=\"none\"/>\n",
              "    <path d=\"M18.56 5.44l.94 2.06.94-2.06 2.06-.94-2.06-.94-.94-2.06-.94 2.06-2.06.94zm-11 1L8.5 8.5l.94-2.06 2.06-.94-2.06-.94L8.5 2.5l-.94 2.06-2.06.94zm10 10l.94 2.06.94-2.06 2.06-.94-2.06-.94-.94-2.06-.94 2.06-2.06.94z\"/><path d=\"M17.41 7.96l-1.37-1.37c-.4-.4-.92-.59-1.43-.59-.52 0-1.04.2-1.43.59L10.3 9.45l-7.72 7.72c-.78.78-.78 2.05 0 2.83L4 21.41c.39.39.9.59 1.41.59.51 0 1.02-.2 1.41-.59l7.78-7.78 2.81-2.81c.8-.78.8-2.07 0-2.86zM5.41 20L4 18.59l7.72-7.72 1.47 1.35L5.41 20z\"/>\n",
              "  </svg>\n",
              "      </button>\n",
              "      \n",
              "  <style>\n",
              "    .colab-df-container {\n",
              "      display:flex;\n",
              "      flex-wrap:wrap;\n",
              "      gap: 12px;\n",
              "    }\n",
              "\n",
              "    .colab-df-convert {\n",
              "      background-color: #E8F0FE;\n",
              "      border: none;\n",
              "      border-radius: 50%;\n",
              "      cursor: pointer;\n",
              "      display: none;\n",
              "      fill: #1967D2;\n",
              "      height: 32px;\n",
              "      padding: 0 0 0 0;\n",
              "      width: 32px;\n",
              "    }\n",
              "\n",
              "    .colab-df-convert:hover {\n",
              "      background-color: #E2EBFA;\n",
              "      box-shadow: 0px 1px 2px rgba(60, 64, 67, 0.3), 0px 1px 3px 1px rgba(60, 64, 67, 0.15);\n",
              "      fill: #174EA6;\n",
              "    }\n",
              "\n",
              "    [theme=dark] .colab-df-convert {\n",
              "      background-color: #3B4455;\n",
              "      fill: #D2E3FC;\n",
              "    }\n",
              "\n",
              "    [theme=dark] .colab-df-convert:hover {\n",
              "      background-color: #434B5C;\n",
              "      box-shadow: 0px 1px 3px 1px rgba(0, 0, 0, 0.15);\n",
              "      filter: drop-shadow(0px 1px 2px rgba(0, 0, 0, 0.3));\n",
              "      fill: #FFFFFF;\n",
              "    }\n",
              "  </style>\n",
              "\n",
              "      <script>\n",
              "        const buttonEl =\n",
              "          document.querySelector('#df-cb500af1-f27f-4bf6-96f0-126be54ffa89 button.colab-df-convert');\n",
              "        buttonEl.style.display =\n",
              "          google.colab.kernel.accessAllowed ? 'block' : 'none';\n",
              "\n",
              "        async function convertToInteractive(key) {\n",
              "          const element = document.querySelector('#df-cb500af1-f27f-4bf6-96f0-126be54ffa89');\n",
              "          const dataTable =\n",
              "            await google.colab.kernel.invokeFunction('convertToInteractive',\n",
              "                                                     [key], {});\n",
              "          if (!dataTable) return;\n",
              "\n",
              "          const docLinkHtml = 'Like what you see? Visit the ' +\n",
              "            '<a target=\"_blank\" href=https://colab.research.google.com/notebooks/data_table.ipynb>data table notebook</a>'\n",
              "            + ' to learn more about interactive tables.';\n",
              "          element.innerHTML = '';\n",
              "          dataTable['output_type'] = 'display_data';\n",
              "          await google.colab.output.renderOutput(dataTable, element);\n",
              "          const docLink = document.createElement('div');\n",
              "          docLink.innerHTML = docLinkHtml;\n",
              "          element.appendChild(docLink);\n",
              "        }\n",
              "      </script>\n",
              "    </div>\n",
              "  </div>\n",
              "  "
            ],
            "text/plain": [
              "                    NFT  Floor Price  ...  Total Assets Owner Ratio\n",
              "0               Meebits          0.0  ...       20000.0   28.735000\n",
              "1            dotdotdots          0.0  ...        4870.0   54.414784\n",
              "2                 Azuki          0.0  ...       10000.0   54.280000\n",
              "3  Bored Ape Yacht Club          0.0  ...       10000.0   63.120000\n",
              "4                CloneX          0.0  ...       18872.0   43.911615\n",
              "\n",
              "[5 rows x 9 columns]"
            ]
          },
          "metadata": {},
          "execution_count": 600
        }
      ]
    },
    {
      "cell_type": "code",
      "source": [
        "df.tail()"
      ],
      "metadata": {
        "colab": {
          "base_uri": "https://localhost:8080/",
          "height": 206
        },
        "id": "R_wmETqXadqs",
        "outputId": "a792901d-6c42-401a-e1bd-81748b2c44b8"
      },
      "execution_count": 601,
      "outputs": [
        {
          "output_type": "execute_result",
          "data": {
            "text/html": [
              "\n",
              "  <div id=\"df-8e8b55d2-e1f6-40a3-8fbc-ed87d2731ef1\">\n",
              "    <div class=\"colab-df-container\">\n",
              "      <div>\n",
              "<style scoped>\n",
              "    .dataframe tbody tr th:only-of-type {\n",
              "        vertical-align: middle;\n",
              "    }\n",
              "\n",
              "    .dataframe tbody tr th {\n",
              "        vertical-align: top;\n",
              "    }\n",
              "\n",
              "    .dataframe thead th {\n",
              "        text-align: right;\n",
              "    }\n",
              "</style>\n",
              "<table border=\"1\" class=\"dataframe\">\n",
              "  <thead>\n",
              "    <tr style=\"text-align: right;\">\n",
              "      <th></th>\n",
              "      <th>NFT</th>\n",
              "      <th>Floor Price</th>\n",
              "      <th>24h(%)</th>\n",
              "      <th>Market Cap</th>\n",
              "      <th>24h Volume</th>\n",
              "      <th>Owners</th>\n",
              "      <th>24h Owners</th>\n",
              "      <th>Total Assets</th>\n",
              "      <th>Owner Ratio</th>\n",
              "    </tr>\n",
              "  </thead>\n",
              "  <tbody>\n",
              "    <tr>\n",
              "      <th>120</th>\n",
              "      <td>Night Kids</td>\n",
              "      <td>0.0</td>\n",
              "      <td>-1.5</td>\n",
              "      <td>66.09</td>\n",
              "      <td>0.01</td>\n",
              "      <td>2193.0</td>\n",
              "      <td>0.0</td>\n",
              "      <td>5554.0</td>\n",
              "      <td>39.485056</td>\n",
              "    </tr>\n",
              "    <tr>\n",
              "      <th>121</th>\n",
              "      <td>Pudgy Halloween</td>\n",
              "      <td>0.0</td>\n",
              "      <td>-85.4</td>\n",
              "      <td>0.0</td>\n",
              "      <td>0.01</td>\n",
              "      <td>1325.0</td>\n",
              "      <td>0.0</td>\n",
              "      <td>3.0</td>\n",
              "      <td>44166.666667</td>\n",
              "    </tr>\n",
              "    <tr>\n",
              "      <th>122</th>\n",
              "      <td>Strange Attractors</td>\n",
              "      <td>0.0</td>\n",
              "      <td>-100.0</td>\n",
              "      <td>0.0</td>\n",
              "      <td>0.0</td>\n",
              "      <td>292.0</td>\n",
              "      <td>0.0</td>\n",
              "      <td>526.0</td>\n",
              "      <td>55.513308</td>\n",
              "    </tr>\n",
              "    <tr>\n",
              "      <th>123</th>\n",
              "      <td>United Punks Union</td>\n",
              "      <td>0.0</td>\n",
              "      <td>101.7</td>\n",
              "      <td>362.4</td>\n",
              "      <td>0.0</td>\n",
              "      <td>1192.0</td>\n",
              "      <td>0.0</td>\n",
              "      <td>3624.0</td>\n",
              "      <td>32.891832</td>\n",
              "    </tr>\n",
              "    <tr>\n",
              "      <th>124</th>\n",
              "      <td>Bloot</td>\n",
              "      <td>0.0</td>\n",
              "      <td>-7.6</td>\n",
              "      <td>360.36</td>\n",
              "      <td>0.0</td>\n",
              "      <td>3963.0</td>\n",
              "      <td>0.0</td>\n",
              "      <td>8008.0</td>\n",
              "      <td>49.488012</td>\n",
              "    </tr>\n",
              "  </tbody>\n",
              "</table>\n",
              "</div>\n",
              "      <button class=\"colab-df-convert\" onclick=\"convertToInteractive('df-8e8b55d2-e1f6-40a3-8fbc-ed87d2731ef1')\"\n",
              "              title=\"Convert this dataframe to an interactive table.\"\n",
              "              style=\"display:none;\">\n",
              "        \n",
              "  <svg xmlns=\"http://www.w3.org/2000/svg\" height=\"24px\"viewBox=\"0 0 24 24\"\n",
              "       width=\"24px\">\n",
              "    <path d=\"M0 0h24v24H0V0z\" fill=\"none\"/>\n",
              "    <path d=\"M18.56 5.44l.94 2.06.94-2.06 2.06-.94-2.06-.94-.94-2.06-.94 2.06-2.06.94zm-11 1L8.5 8.5l.94-2.06 2.06-.94-2.06-.94L8.5 2.5l-.94 2.06-2.06.94zm10 10l.94 2.06.94-2.06 2.06-.94-2.06-.94-.94-2.06-.94 2.06-2.06.94z\"/><path d=\"M17.41 7.96l-1.37-1.37c-.4-.4-.92-.59-1.43-.59-.52 0-1.04.2-1.43.59L10.3 9.45l-7.72 7.72c-.78.78-.78 2.05 0 2.83L4 21.41c.39.39.9.59 1.41.59.51 0 1.02-.2 1.41-.59l7.78-7.78 2.81-2.81c.8-.78.8-2.07 0-2.86zM5.41 20L4 18.59l7.72-7.72 1.47 1.35L5.41 20z\"/>\n",
              "  </svg>\n",
              "      </button>\n",
              "      \n",
              "  <style>\n",
              "    .colab-df-container {\n",
              "      display:flex;\n",
              "      flex-wrap:wrap;\n",
              "      gap: 12px;\n",
              "    }\n",
              "\n",
              "    .colab-df-convert {\n",
              "      background-color: #E8F0FE;\n",
              "      border: none;\n",
              "      border-radius: 50%;\n",
              "      cursor: pointer;\n",
              "      display: none;\n",
              "      fill: #1967D2;\n",
              "      height: 32px;\n",
              "      padding: 0 0 0 0;\n",
              "      width: 32px;\n",
              "    }\n",
              "\n",
              "    .colab-df-convert:hover {\n",
              "      background-color: #E2EBFA;\n",
              "      box-shadow: 0px 1px 2px rgba(60, 64, 67, 0.3), 0px 1px 3px 1px rgba(60, 64, 67, 0.15);\n",
              "      fill: #174EA6;\n",
              "    }\n",
              "\n",
              "    [theme=dark] .colab-df-convert {\n",
              "      background-color: #3B4455;\n",
              "      fill: #D2E3FC;\n",
              "    }\n",
              "\n",
              "    [theme=dark] .colab-df-convert:hover {\n",
              "      background-color: #434B5C;\n",
              "      box-shadow: 0px 1px 3px 1px rgba(0, 0, 0, 0.15);\n",
              "      filter: drop-shadow(0px 1px 2px rgba(0, 0, 0, 0.3));\n",
              "      fill: #FFFFFF;\n",
              "    }\n",
              "  </style>\n",
              "\n",
              "      <script>\n",
              "        const buttonEl =\n",
              "          document.querySelector('#df-8e8b55d2-e1f6-40a3-8fbc-ed87d2731ef1 button.colab-df-convert');\n",
              "        buttonEl.style.display =\n",
              "          google.colab.kernel.accessAllowed ? 'block' : 'none';\n",
              "\n",
              "        async function convertToInteractive(key) {\n",
              "          const element = document.querySelector('#df-8e8b55d2-e1f6-40a3-8fbc-ed87d2731ef1');\n",
              "          const dataTable =\n",
              "            await google.colab.kernel.invokeFunction('convertToInteractive',\n",
              "                                                     [key], {});\n",
              "          if (!dataTable) return;\n",
              "\n",
              "          const docLinkHtml = 'Like what you see? Visit the ' +\n",
              "            '<a target=\"_blank\" href=https://colab.research.google.com/notebooks/data_table.ipynb>data table notebook</a>'\n",
              "            + ' to learn more about interactive tables.';\n",
              "          element.innerHTML = '';\n",
              "          dataTable['output_type'] = 'display_data';\n",
              "          await google.colab.output.renderOutput(dataTable, element);\n",
              "          const docLink = document.createElement('div');\n",
              "          docLink.innerHTML = docLinkHtml;\n",
              "          element.appendChild(docLink);\n",
              "        }\n",
              "      </script>\n",
              "    </div>\n",
              "  </div>\n",
              "  "
            ],
            "text/plain": [
              "                    NFT  Floor Price  ...  Total Assets   Owner Ratio\n",
              "120          Night Kids          0.0  ...        5554.0     39.485056\n",
              "121     Pudgy Halloween          0.0  ...           3.0  44166.666667\n",
              "122  Strange Attractors          0.0  ...         526.0     55.513308\n",
              "123  United Punks Union          0.0  ...        3624.0     32.891832\n",
              "124               Bloot          0.0  ...        8008.0     49.488012\n",
              "\n",
              "[5 rows x 9 columns]"
            ]
          },
          "metadata": {},
          "execution_count": 601
        }
      ]
    },
    {
      "cell_type": "code",
      "source": [
        "df.corr(method=\"pearson\")"
      ],
      "metadata": {
        "colab": {
          "base_uri": "https://localhost:8080/",
          "height": 206
        },
        "id": "1lCbXA44wpzu",
        "outputId": "98c03469-ccd9-4dd8-803c-c657f06aeb7b"
      },
      "execution_count": 602,
      "outputs": [
        {
          "output_type": "execute_result",
          "data": {
            "text/html": [
              "\n",
              "  <div id=\"df-6888f941-d478-4525-9fda-dbfa2c5caf6f\">\n",
              "    <div class=\"colab-df-container\">\n",
              "      <div>\n",
              "<style scoped>\n",
              "    .dataframe tbody tr th:only-of-type {\n",
              "        vertical-align: middle;\n",
              "    }\n",
              "\n",
              "    .dataframe tbody tr th {\n",
              "        vertical-align: top;\n",
              "    }\n",
              "\n",
              "    .dataframe thead th {\n",
              "        text-align: right;\n",
              "    }\n",
              "</style>\n",
              "<table border=\"1\" class=\"dataframe\">\n",
              "  <thead>\n",
              "    <tr style=\"text-align: right;\">\n",
              "      <th></th>\n",
              "      <th>Floor Price</th>\n",
              "      <th>24h(%)</th>\n",
              "      <th>Owners</th>\n",
              "      <th>Total Assets</th>\n",
              "      <th>Owner Ratio</th>\n",
              "    </tr>\n",
              "  </thead>\n",
              "  <tbody>\n",
              "    <tr>\n",
              "      <th>Floor Price</th>\n",
              "      <td>NaN</td>\n",
              "      <td>NaN</td>\n",
              "      <td>NaN</td>\n",
              "      <td>NaN</td>\n",
              "      <td>NaN</td>\n",
              "    </tr>\n",
              "    <tr>\n",
              "      <th>24h(%)</th>\n",
              "      <td>NaN</td>\n",
              "      <td>1.000000</td>\n",
              "      <td>-0.057025</td>\n",
              "      <td>-0.011332</td>\n",
              "      <td>-0.011251</td>\n",
              "    </tr>\n",
              "    <tr>\n",
              "      <th>Owners</th>\n",
              "      <td>NaN</td>\n",
              "      <td>-0.057025</td>\n",
              "      <td>1.000000</td>\n",
              "      <td>0.723156</td>\n",
              "      <td>-0.059809</td>\n",
              "    </tr>\n",
              "    <tr>\n",
              "      <th>Total Assets</th>\n",
              "      <td>NaN</td>\n",
              "      <td>-0.011332</td>\n",
              "      <td>0.723156</td>\n",
              "      <td>1.000000</td>\n",
              "      <td>-0.094755</td>\n",
              "    </tr>\n",
              "    <tr>\n",
              "      <th>Owner Ratio</th>\n",
              "      <td>NaN</td>\n",
              "      <td>-0.011251</td>\n",
              "      <td>-0.059809</td>\n",
              "      <td>-0.094755</td>\n",
              "      <td>1.000000</td>\n",
              "    </tr>\n",
              "  </tbody>\n",
              "</table>\n",
              "</div>\n",
              "      <button class=\"colab-df-convert\" onclick=\"convertToInteractive('df-6888f941-d478-4525-9fda-dbfa2c5caf6f')\"\n",
              "              title=\"Convert this dataframe to an interactive table.\"\n",
              "              style=\"display:none;\">\n",
              "        \n",
              "  <svg xmlns=\"http://www.w3.org/2000/svg\" height=\"24px\"viewBox=\"0 0 24 24\"\n",
              "       width=\"24px\">\n",
              "    <path d=\"M0 0h24v24H0V0z\" fill=\"none\"/>\n",
              "    <path d=\"M18.56 5.44l.94 2.06.94-2.06 2.06-.94-2.06-.94-.94-2.06-.94 2.06-2.06.94zm-11 1L8.5 8.5l.94-2.06 2.06-.94-2.06-.94L8.5 2.5l-.94 2.06-2.06.94zm10 10l.94 2.06.94-2.06 2.06-.94-2.06-.94-.94-2.06-.94 2.06-2.06.94z\"/><path d=\"M17.41 7.96l-1.37-1.37c-.4-.4-.92-.59-1.43-.59-.52 0-1.04.2-1.43.59L10.3 9.45l-7.72 7.72c-.78.78-.78 2.05 0 2.83L4 21.41c.39.39.9.59 1.41.59.51 0 1.02-.2 1.41-.59l7.78-7.78 2.81-2.81c.8-.78.8-2.07 0-2.86zM5.41 20L4 18.59l7.72-7.72 1.47 1.35L5.41 20z\"/>\n",
              "  </svg>\n",
              "      </button>\n",
              "      \n",
              "  <style>\n",
              "    .colab-df-container {\n",
              "      display:flex;\n",
              "      flex-wrap:wrap;\n",
              "      gap: 12px;\n",
              "    }\n",
              "\n",
              "    .colab-df-convert {\n",
              "      background-color: #E8F0FE;\n",
              "      border: none;\n",
              "      border-radius: 50%;\n",
              "      cursor: pointer;\n",
              "      display: none;\n",
              "      fill: #1967D2;\n",
              "      height: 32px;\n",
              "      padding: 0 0 0 0;\n",
              "      width: 32px;\n",
              "    }\n",
              "\n",
              "    .colab-df-convert:hover {\n",
              "      background-color: #E2EBFA;\n",
              "      box-shadow: 0px 1px 2px rgba(60, 64, 67, 0.3), 0px 1px 3px 1px rgba(60, 64, 67, 0.15);\n",
              "      fill: #174EA6;\n",
              "    }\n",
              "\n",
              "    [theme=dark] .colab-df-convert {\n",
              "      background-color: #3B4455;\n",
              "      fill: #D2E3FC;\n",
              "    }\n",
              "\n",
              "    [theme=dark] .colab-df-convert:hover {\n",
              "      background-color: #434B5C;\n",
              "      box-shadow: 0px 1px 3px 1px rgba(0, 0, 0, 0.15);\n",
              "      filter: drop-shadow(0px 1px 2px rgba(0, 0, 0, 0.3));\n",
              "      fill: #FFFFFF;\n",
              "    }\n",
              "  </style>\n",
              "\n",
              "      <script>\n",
              "        const buttonEl =\n",
              "          document.querySelector('#df-6888f941-d478-4525-9fda-dbfa2c5caf6f button.colab-df-convert');\n",
              "        buttonEl.style.display =\n",
              "          google.colab.kernel.accessAllowed ? 'block' : 'none';\n",
              "\n",
              "        async function convertToInteractive(key) {\n",
              "          const element = document.querySelector('#df-6888f941-d478-4525-9fda-dbfa2c5caf6f');\n",
              "          const dataTable =\n",
              "            await google.colab.kernel.invokeFunction('convertToInteractive',\n",
              "                                                     [key], {});\n",
              "          if (!dataTable) return;\n",
              "\n",
              "          const docLinkHtml = 'Like what you see? Visit the ' +\n",
              "            '<a target=\"_blank\" href=https://colab.research.google.com/notebooks/data_table.ipynb>data table notebook</a>'\n",
              "            + ' to learn more about interactive tables.';\n",
              "          element.innerHTML = '';\n",
              "          dataTable['output_type'] = 'display_data';\n",
              "          await google.colab.output.renderOutput(dataTable, element);\n",
              "          const docLink = document.createElement('div');\n",
              "          docLink.innerHTML = docLinkHtml;\n",
              "          element.appendChild(docLink);\n",
              "        }\n",
              "      </script>\n",
              "    </div>\n",
              "  </div>\n",
              "  "
            ],
            "text/plain": [
              "              Floor Price    24h(%)    Owners  Total Assets  Owner Ratio\n",
              "Floor Price           NaN       NaN       NaN           NaN          NaN\n",
              "24h(%)                NaN  1.000000 -0.057025     -0.011332    -0.011251\n",
              "Owners                NaN -0.057025  1.000000      0.723156    -0.059809\n",
              "Total Assets          NaN -0.011332  0.723156      1.000000    -0.094755\n",
              "Owner Ratio           NaN -0.011251 -0.059809     -0.094755     1.000000"
            ]
          },
          "metadata": {},
          "execution_count": 602
        }
      ]
    },
    {
      "cell_type": "code",
      "source": [
        "plt.figure(figsize=(14,10))\n",
        "heatmap = sns.heatmap(df.corr(), cmap=\"BuPu\", annot=True)\n",
        "heatmap.set_title('Correlation Heatmap', fontdict={'fontsize':18}, pad=12);"
      ],
      "metadata": {
        "colab": {
          "base_uri": "https://localhost:8080/",
          "height": 618
        },
        "id": "AsbnVcYjyVsy",
        "outputId": "ac1d72b7-232a-42d1-e085-3aebea9d0e82"
      },
      "execution_count": 603,
      "outputs": [
        {
          "output_type": "display_data",
          "data": {
            "image/png": "[encoded data removed]",
            "text/plain": [
              "<Figure size 1008x720 with 2 Axes>"
            ]
          },
          "metadata": {
            "needs_background": "light"
          }
        }
      ]
    },
    {
      "cell_type": "markdown",
      "source": [
        "- É importante notar que como essa análise é dinâmica, muitas vezes os números indicados serão completamente diferentes por questões de flutuação de mercado. Nesse sentido, tentei fazer uma análise das relações de forma *a priori*, respaldadas pelos projetos principais da opensea de fevereiro, daqui a uma semana ou um mês ou um ano serão completamente diferentes.  "
      ],
      "metadata": {
        "id": "AlD-KaJnE6yv"
      }
    },
    {
      "cell_type": "markdown",
      "source": [
        "##Análise de cada coluna:"
      ],
      "metadata": {
        "id": "ROnLSA7pe1xU"
      }
    },
    {
      "cell_type": "markdown",
      "source": [
        "###Floor Price:"
      ],
      "metadata": {
        "id": "0eq6pKY9xCIi"
      }
    },
    {
      "cell_type": "code",
      "source": [
        "df['Floor Price']"
      ],
      "metadata": {
        "id": "lyENhLtXftrB",
        "colab": {
          "base_uri": "https://localhost:8080/"
        },
        "outputId": "fdde8955-45d9-40ab-9d88-2f29bfdc6e2c"
      },
      "execution_count": 604,
      "outputs": [
        {
          "output_type": "execute_result",
          "data": {
            "text/plain": [
              "0      0.0\n",
              "1      0.0\n",
              "2      0.0\n",
              "3      0.0\n",
              "4      0.0\n",
              "      ... \n",
              "120    0.0\n",
              "121    0.0\n",
              "122    0.0\n",
              "123    0.0\n",
              "124    0.0\n",
              "Name: Floor Price, Length: 125, dtype: float64"
            ]
          },
          "metadata": {},
          "execution_count": 604
        }
      ]
    },
    {
      "cell_type": "code",
      "source": [
        "df['Floor Price'].describe()"
      ],
      "metadata": {
        "id": "CCa6ox0jftth",
        "colab": {
          "base_uri": "https://localhost:8080/"
        },
        "outputId": "eb3f8417-8614-4099-a1af-65588e28c65a"
      },
      "execution_count": 605,
      "outputs": [
        {
          "output_type": "execute_result",
          "data": {
            "text/plain": [
              "count    125.0\n",
              "mean       0.0\n",
              "std        0.0\n",
              "min        0.0\n",
              "25%        0.0\n",
              "50%        0.0\n",
              "75%        0.0\n",
              "max        0.0\n",
              "Name: Floor Price, dtype: float64"
            ]
          },
          "metadata": {},
          "execution_count": 605
        }
      ]
    },
    {
      "cell_type": "code",
      "source": [
        "df2 = df[df['Floor Price'] < 80]"
      ],
      "metadata": {
        "id": "cZXd5RYYvKXV"
      },
      "execution_count": 606,
      "outputs": []
    },
    {
      "cell_type": "code",
      "source": [
        "df2['Floor Price'].describe()"
      ],
      "metadata": {
        "colab": {
          "base_uri": "https://localhost:8080/"
        },
        "id": "5SvpGn46vbZY",
        "outputId": "3b152d50-07fa-4d05-86e4-79c130dd05df"
      },
      "execution_count": 607,
      "outputs": [
        {
          "output_type": "execute_result",
          "data": {
            "text/plain": [
              "count    125.0\n",
              "mean       0.0\n",
              "std        0.0\n",
              "min        0.0\n",
              "25%        0.0\n",
              "50%        0.0\n",
              "75%        0.0\n",
              "max        0.0\n",
              "Name: Floor Price, dtype: float64"
            ]
          },
          "metadata": {},
          "execution_count": 607
        }
      ]
    },
    {
      "cell_type": "code",
      "source": [
        "plt.figure(figsize=(12,6))\n",
        "df2.boxplot('Floor Price')\n",
        "plt.show()"
      ],
      "metadata": {
        "id": "keXhXAx8ftv8",
        "colab": {
          "base_uri": "https://localhost:8080/",
          "height": 374
        },
        "outputId": "0d8db244-6dd6-43e4-876d-4e14c278a17e"
      },
      "execution_count": 608,
      "outputs": [
        {
          "output_type": "display_data",
          "data": {
            "image/png": "[encoded data removed]",
            "text/plain": [
              "<Figure size 864x432 with 1 Axes>"
            ]
          },
          "metadata": {
            "needs_background": "light"
          }
        }
      ]
    },
    {
      "cell_type": "markdown",
      "source": [
        "- Os dados estão concentrados por volta de 0 e 5 ETH. O que nos indica lançamentos baixos, exceto por alguns outliers discrepantes."
      ],
      "metadata": {
        "id": "5Tw1wf1TvjvW"
      }
    },
    {
      "cell_type": "markdown",
      "source": [
        "####Visualização dos dados:"
      ],
      "metadata": {
        "id": "-fb5XnfbviD2"
      }
    },
    {
      "cell_type": "code",
      "source": [
        "plt.figure(figsize=(12,6))\n",
        "sns.distplot(df['Floor Price'], bins=10)"
      ],
      "metadata": {
        "colab": {
          "base_uri": "https://localhost:8080/",
          "height": 0
        },
        "id": "duW9MbToqVvY",
        "outputId": "5c31d393-d55c-4d60-ac1d-ba333c44bae2"
      },
      "execution_count": 609,
      "outputs": [
        {
          "output_type": "stream",
          "name": "stderr",
          "text": [
            "/usr/local/lib/python3.7/dist-packages/seaborn/distributions.py:2619: FutureWarning: `distplot` is a deprecated function and will be removed in a future version. Please adapt your code to use either `displot` (a figure-level function with similar flexibility) or `histplot` (an axes-level function for histograms).\n",
            "  warnings.warn(msg, FutureWarning)\n",
            "/usr/local/lib/python3.7/dist-packages/seaborn/distributions.py:316: UserWarning: Dataset has 0 variance; skipping density estimate. Pass `warn_singular=False` to disable this warning.\n",
            "  warnings.warn(msg, UserWarning)\n"
          ]
        },
        {
          "output_type": "execute_result",
          "data": {
            "text/plain": [
              "<matplotlib.axes._subplots.AxesSubplot at 0x7fd0d8c38c50>"
            ]
          },
          "metadata": {},
          "execution_count": 609
        },
        {
          "output_type": "display_data",
          "data": {
            "image/png": "[encoded data removed]",
            "text/plain": [
              "<Figure size 864x432 with 1 Axes>"
            ]
          },
          "metadata": {
            "needs_background": "light"
          }
        }
      ]
    },
    {
      "cell_type": "code",
      "source": [
        "plt.figure(figsize=(12,8))\n",
        "sns.kdeplot(df['Floor Price'])\n",
        "sns.rugplot(df['Floor Price'])"
      ],
      "metadata": {
        "colab": {
          "base_uri": "https://localhost:8080/",
          "height": 0
        },
        "id": "UYRCxJhnrH80",
        "outputId": "39e00536-efb5-44d1-f9f8-43115fd16f57"
      },
      "execution_count": 610,
      "outputs": [
        {
          "output_type": "stream",
          "name": "stderr",
          "text": [
            "/usr/local/lib/python3.7/dist-packages/seaborn/distributions.py:316: UserWarning: Dataset has 0 variance; skipping density estimate. Pass `warn_singular=False` to disable this warning.\n",
            "  warnings.warn(msg, UserWarning)\n"
          ]
        },
        {
          "output_type": "execute_result",
          "data": {
            "text/plain": [
              "<matplotlib.axes._subplots.AxesSubplot at 0x7fd0d8b46c90>"
            ]
          },
          "metadata": {},
          "execution_count": 610
        },
        {
          "output_type": "display_data",
          "data": {
            "image/png": "[encoded data removed]",
            "text/plain": [
              "<Figure size 864x576 with 1 Axes>"
            ]
          },
          "metadata": {
            "needs_background": "light"
          }
        }
      ]
    },
    {
      "cell_type": "code",
      "source": [
        "plt.figure(figsize=(12,8))\n",
        "sns.scatterplot(data=df['Floor Price'])"
      ],
      "metadata": {
        "colab": {
          "base_uri": "https://localhost:8080/",
          "height": 0
        },
        "id": "SoUCTB1Rr_gE",
        "outputId": "f8ae56de-01ec-4461-cece-1cd2f0d770c1"
      },
      "execution_count": 611,
      "outputs": [
        {
          "output_type": "execute_result",
          "data": {
            "text/plain": [
              "<matplotlib.axes._subplots.AxesSubplot at 0x7fd0d8b3cb50>"
            ]
          },
          "metadata": {},
          "execution_count": 611
        },
        {
          "output_type": "display_data",
          "data": {
            "image/png": "[encoded data removed]",
            "text/plain": [
              "<Figure size 864x576 with 1 Axes>"
            ]
          },
          "metadata": {
            "needs_background": "light"
          }
        }
      ]
    },
    {
      "cell_type": "markdown",
      "source": [
        "- As visualizações ajudam a gente perceber a distribuição concentrada entre 0 e 5 ETH. Lembrando que 1 ETH, atualmente (10/02/2022) está por volta de $3.000,00. O Floor Price é o valor mais baixo para alguém ser participante de um projeto NFT. Considerando que são os projetos mais valorizados, é natural que esses projetos tenham floor prices altos."
      ],
      "metadata": {
        "id": "R9rPzcHBwlDd"
      }
    },
    {
      "cell_type": "markdown",
      "source": [
        "###Variação nas últimas 24 horas:"
      ],
      "metadata": {
        "id": "kOqfOjfnzAsx"
      }
    },
    {
      "cell_type": "markdown",
      "source": [
        "- Essa coluna não nos informa muito sobre o dataset de um modo geral, visto que para termos uma informação de qualidade, sempre terá de ser dinâmica a relação mética fornecida nessa coluna, por isso as informações de estatística descritiva serão suficiente"
      ],
      "metadata": {
        "id": "FGFX790pzGOl"
      }
    },
    {
      "cell_type": "code",
      "source": [
        "df['24h(%)']"
      ],
      "metadata": {
        "colab": {
          "base_uri": "https://localhost:8080/"
        },
        "id": "NEcY_WbVzROy",
        "outputId": "2391a81f-64ca-4f16-ab76-116e67802fa5"
      },
      "execution_count": 612,
      "outputs": [
        {
          "output_type": "execute_result",
          "data": {
            "text/plain": [
              "0       -1.6\n",
              "1       -4.0\n",
              "2        8.6\n",
              "3       -2.4\n",
              "4       -1.8\n",
              "       ...  \n",
              "120     -1.5\n",
              "121    -85.4\n",
              "122   -100.0\n",
              "123    101.7\n",
              "124     -7.6\n",
              "Name: 24h(%), Length: 125, dtype: float64"
            ]
          },
          "metadata": {},
          "execution_count": 612
        }
      ]
    },
    {
      "cell_type": "code",
      "source": [
        "df[df['24h(%)'] == 904]"
      ],
      "metadata": {
        "colab": {
          "base_uri": "https://localhost:8080/",
          "height": 49
        },
        "id": "cnGI1w9-zZDF",
        "outputId": "c71db6cd-bc4e-41be-e21a-8de23eee11d7"
      },
      "execution_count": 613,
      "outputs": [
        {
          "output_type": "execute_result",
          "data": {
            "text/html": [
              "\n",
              "  <div id=\"df-ae39164a-62b0-46a4-8ad8-891dc9ccf8ce\">\n",
              "    <div class=\"colab-df-container\">\n",
              "      <div>\n",
              "<style scoped>\n",
              "    .dataframe tbody tr th:only-of-type {\n",
              "        vertical-align: middle;\n",
              "    }\n",
              "\n",
              "    .dataframe tbody tr th {\n",
              "        vertical-align: top;\n",
              "    }\n",
              "\n",
              "    .dataframe thead th {\n",
              "        text-align: right;\n",
              "    }\n",
              "</style>\n",
              "<table border=\"1\" class=\"dataframe\">\n",
              "  <thead>\n",
              "    <tr style=\"text-align: right;\">\n",
              "      <th></th>\n",
              "      <th>NFT</th>\n",
              "      <th>Floor Price</th>\n",
              "      <th>24h(%)</th>\n",
              "      <th>Market Cap</th>\n",
              "      <th>24h Volume</th>\n",
              "      <th>Owners</th>\n",
              "      <th>24h Owners</th>\n",
              "      <th>Total Assets</th>\n",
              "      <th>Owner Ratio</th>\n",
              "    </tr>\n",
              "  </thead>\n",
              "  <tbody>\n",
              "  </tbody>\n",
              "</table>\n",
              "</div>\n",
              "      <button class=\"colab-df-convert\" onclick=\"convertToInteractive('df-ae39164a-62b0-46a4-8ad8-891dc9ccf8ce')\"\n",
              "              title=\"Convert this dataframe to an interactive table.\"\n",
              "              style=\"display:none;\">\n",
              "        \n",
              "  <svg xmlns=\"http://www.w3.org/2000/svg\" height=\"24px\"viewBox=\"0 0 24 24\"\n",
              "       width=\"24px\">\n",
              "    <path d=\"M0 0h24v24H0V0z\" fill=\"none\"/>\n",
              "    <path d=\"M18.56 5.44l.94 2.06.94-2.06 2.06-.94-2.06-.94-.94-2.06-.94 2.06-2.06.94zm-11 1L8.5 8.5l.94-2.06 2.06-.94-2.06-.94L8.5 2.5l-.94 2.06-2.06.94zm10 10l.94 2.06.94-2.06 2.06-.94-2.06-.94-.94-2.06-.94 2.06-2.06.94z\"/><path d=\"M17.41 7.96l-1.37-1.37c-.4-.4-.92-.59-1.43-.59-.52 0-1.04.2-1.43.59L10.3 9.45l-7.72 7.72c-.78.78-.78 2.05 0 2.83L4 21.41c.39.39.9.59 1.41.59.51 0 1.02-.2 1.41-.59l7.78-7.78 2.81-2.81c.8-.78.8-2.07 0-2.86zM5.41 20L4 18.59l7.72-7.72 1.47 1.35L5.41 20z\"/>\n",
              "  </svg>\n",
              "      </button>\n",
              "      \n",
              "  <style>\n",
              "    .colab-df-container {\n",
              "      display:flex;\n",
              "      flex-wrap:wrap;\n",
              "      gap: 12px;\n",
              "    }\n",
              "\n",
              "    .colab-df-convert {\n",
              "      background-color: #E8F0FE;\n",
              "      border: none;\n",
              "      border-radius: 50%;\n",
              "      cursor: pointer;\n",
              "      display: none;\n",
              "      fill: #1967D2;\n",
              "      height: 32px;\n",
              "      padding: 0 0 0 0;\n",
              "      width: 32px;\n",
              "    }\n",
              "\n",
              "    .colab-df-convert:hover {\n",
              "      background-color: #E2EBFA;\n",
              "      box-shadow: 0px 1px 2px rgba(60, 64, 67, 0.3), 0px 1px 3px 1px rgba(60, 64, 67, 0.15);\n",
              "      fill: #174EA6;\n",
              "    }\n",
              "\n",
              "    [theme=dark] .colab-df-convert {\n",
              "      background-color: #3B4455;\n",
              "      fill: #D2E3FC;\n",
              "    }\n",
              "\n",
              "    [theme=dark] .colab-df-convert:hover {\n",
              "      background-color: #434B5C;\n",
              "      box-shadow: 0px 1px 3px 1px rgba(0, 0, 0, 0.15);\n",
              "      filter: drop-shadow(0px 1px 2px rgba(0, 0, 0, 0.3));\n",
              "      fill: #FFFFFF;\n",
              "    }\n",
              "  </style>\n",
              "\n",
              "      <script>\n",
              "        const buttonEl =\n",
              "          document.querySelector('#df-ae39164a-62b0-46a4-8ad8-891dc9ccf8ce button.colab-df-convert');\n",
              "        buttonEl.style.display =\n",
              "          google.colab.kernel.accessAllowed ? 'block' : 'none';\n",
              "\n",
              "        async function convertToInteractive(key) {\n",
              "          const element = document.querySelector('#df-ae39164a-62b0-46a4-8ad8-891dc9ccf8ce');\n",
              "          const dataTable =\n",
              "            await google.colab.kernel.invokeFunction('convertToInteractive',\n",
              "                                                     [key], {});\n",
              "          if (!dataTable) return;\n",
              "\n",
              "          const docLinkHtml = 'Like what you see? Visit the ' +\n",
              "            '<a target=\"_blank\" href=https://colab.research.google.com/notebooks/data_table.ipynb>data table notebook</a>'\n",
              "            + ' to learn more about interactive tables.';\n",
              "          element.innerHTML = '';\n",
              "          dataTable['output_type'] = 'display_data';\n",
              "          await google.colab.output.renderOutput(dataTable, element);\n",
              "          const docLink = document.createElement('div');\n",
              "          docLink.innerHTML = docLinkHtml;\n",
              "          element.appendChild(docLink);\n",
              "        }\n",
              "      </script>\n",
              "    </div>\n",
              "  </div>\n",
              "  "
            ],
            "text/plain": [
              "Empty DataFrame\n",
              "Columns: [NFT, Floor Price, 24h(%), Market Cap, 24h Volume, Owners, 24h Owners, Total Assets, Owner Ratio]\n",
              "Index: []"
            ]
          },
          "metadata": {},
          "execution_count": 613
        }
      ]
    },
    {
      "cell_type": "markdown",
      "source": [
        "- É possível sabermos os NFTs que tem um crescimento nas últimas 24 horas acima da média:"
      ],
      "metadata": {
        "id": "wPEfFafdzkVp"
      }
    },
    {
      "cell_type": "code",
      "source": [
        "df_mean24h = df[df['24h(%)'] > df['24h(%)'].mean() ]"
      ],
      "metadata": {
        "id": "TsZETMknzjzd"
      },
      "execution_count": 614,
      "outputs": []
    },
    {
      "cell_type": "code",
      "source": [
        "df_mean24h.describe()"
      ],
      "metadata": {
        "colab": {
          "base_uri": "https://localhost:8080/",
          "height": 300
        },
        "id": "wsTBz0uwz2RE",
        "outputId": "8e6e031e-26bb-4c64-947f-42325540de8d"
      },
      "execution_count": 615,
      "outputs": [
        {
          "output_type": "execute_result",
          "data": {
            "text/html": [
              "\n",
              "  <div id=\"df-0909cf03-2b06-4211-b0bb-4acc103b480b\">\n",
              "    <div class=\"colab-df-container\">\n",
              "      <div>\n",
              "<style scoped>\n",
              "    .dataframe tbody tr th:only-of-type {\n",
              "        vertical-align: middle;\n",
              "    }\n",
              "\n",
              "    .dataframe tbody tr th {\n",
              "        vertical-align: top;\n",
              "    }\n",
              "\n",
              "    .dataframe thead th {\n",
              "        text-align: right;\n",
              "    }\n",
              "</style>\n",
              "<table border=\"1\" class=\"dataframe\">\n",
              "  <thead>\n",
              "    <tr style=\"text-align: right;\">\n",
              "      <th></th>\n",
              "      <th>Floor Price</th>\n",
              "      <th>24h(%)</th>\n",
              "      <th>Owners</th>\n",
              "      <th>Total Assets</th>\n",
              "      <th>Owner Ratio</th>\n",
              "    </tr>\n",
              "  </thead>\n",
              "  <tbody>\n",
              "    <tr>\n",
              "      <th>count</th>\n",
              "      <td>1.0</td>\n",
              "      <td>1.0</td>\n",
              "      <td>1.0</td>\n",
              "      <td>1.0</td>\n",
              "      <td>1.000000</td>\n",
              "    </tr>\n",
              "    <tr>\n",
              "      <th>mean</th>\n",
              "      <td>0.0</td>\n",
              "      <td>120507.7</td>\n",
              "      <td>2065.0</td>\n",
              "      <td>8992.0</td>\n",
              "      <td>22.964858</td>\n",
              "    </tr>\n",
              "    <tr>\n",
              "      <th>std</th>\n",
              "      <td>NaN</td>\n",
              "      <td>NaN</td>\n",
              "      <td>NaN</td>\n",
              "      <td>NaN</td>\n",
              "      <td>NaN</td>\n",
              "    </tr>\n",
              "    <tr>\n",
              "      <th>min</th>\n",
              "      <td>0.0</td>\n",
              "      <td>120507.7</td>\n",
              "      <td>2065.0</td>\n",
              "      <td>8992.0</td>\n",
              "      <td>22.964858</td>\n",
              "    </tr>\n",
              "    <tr>\n",
              "      <th>25%</th>\n",
              "      <td>0.0</td>\n",
              "      <td>120507.7</td>\n",
              "      <td>2065.0</td>\n",
              "      <td>8992.0</td>\n",
              "      <td>22.964858</td>\n",
              "    </tr>\n",
              "    <tr>\n",
              "      <th>50%</th>\n",
              "      <td>0.0</td>\n",
              "      <td>120507.7</td>\n",
              "      <td>2065.0</td>\n",
              "      <td>8992.0</td>\n",
              "      <td>22.964858</td>\n",
              "    </tr>\n",
              "    <tr>\n",
              "      <th>75%</th>\n",
              "      <td>0.0</td>\n",
              "      <td>120507.7</td>\n",
              "      <td>2065.0</td>\n",
              "      <td>8992.0</td>\n",
              "      <td>22.964858</td>\n",
              "    </tr>\n",
              "    <tr>\n",
              "      <th>max</th>\n",
              "      <td>0.0</td>\n",
              "      <td>120507.7</td>\n",
              "      <td>2065.0</td>\n",
              "      <td>8992.0</td>\n",
              "      <td>22.964858</td>\n",
              "    </tr>\n",
              "  </tbody>\n",
              "</table>\n",
              "</div>\n",
              "      <button class=\"colab-df-convert\" onclick=\"convertToInteractive('df-0909cf03-2b06-4211-b0bb-4acc103b480b')\"\n",
              "              title=\"Convert this dataframe to an interactive table.\"\n",
              "              style=\"display:none;\">\n",
              "        \n",
              "  <svg xmlns=\"http://www.w3.org/2000/svg\" height=\"24px\"viewBox=\"0 0 24 24\"\n",
              "       width=\"24px\">\n",
              "    <path d=\"M0 0h24v24H0V0z\" fill=\"none\"/>\n",
              "    <path d=\"M18.56 5.44l.94 2.06.94-2.06 2.06-.94-2.06-.94-.94-2.06-.94 2.06-2.06.94zm-11 1L8.5 8.5l.94-2.06 2.06-.94-2.06-.94L8.5 2.5l-.94 2.06-2.06.94zm10 10l.94 2.06.94-2.06 2.06-.94-2.06-.94-.94-2.06-.94 2.06-2.06.94z\"/><path d=\"M17.41 7.96l-1.37-1.37c-.4-.4-.92-.59-1.43-.59-.52 0-1.04.2-1.43.59L10.3 9.45l-7.72 7.72c-.78.78-.78 2.05 0 2.83L4 21.41c.39.39.9.59 1.41.59.51 0 1.02-.2 1.41-.59l7.78-7.78 2.81-2.81c.8-.78.8-2.07 0-2.86zM5.41 20L4 18.59l7.72-7.72 1.47 1.35L5.41 20z\"/>\n",
              "  </svg>\n",
              "      </button>\n",
              "      \n",
              "  <style>\n",
              "    .colab-df-container {\n",
              "      display:flex;\n",
              "      flex-wrap:wrap;\n",
              "      gap: 12px;\n",
              "    }\n",
              "\n",
              "    .colab-df-convert {\n",
              "      background-color: #E8F0FE;\n",
              "      border: none;\n",
              "      border-radius: 50%;\n",
              "      cursor: pointer;\n",
              "      display: none;\n",
              "      fill: #1967D2;\n",
              "      height: 32px;\n",
              "      padding: 0 0 0 0;\n",
              "      width: 32px;\n",
              "    }\n",
              "\n",
              "    .colab-df-convert:hover {\n",
              "      background-color: #E2EBFA;\n",
              "      box-shadow: 0px 1px 2px rgba(60, 64, 67, 0.3), 0px 1px 3px 1px rgba(60, 64, 67, 0.15);\n",
              "      fill: #174EA6;\n",
              "    }\n",
              "\n",
              "    [theme=dark] .colab-df-convert {\n",
              "      background-color: #3B4455;\n",
              "      fill: #D2E3FC;\n",
              "    }\n",
              "\n",
              "    [theme=dark] .colab-df-convert:hover {\n",
              "      background-color: #434B5C;\n",
              "      box-shadow: 0px 1px 3px 1px rgba(0, 0, 0, 0.15);\n",
              "      filter: drop-shadow(0px 1px 2px rgba(0, 0, 0, 0.3));\n",
              "      fill: #FFFFFF;\n",
              "    }\n",
              "  </style>\n",
              "\n",
              "      <script>\n",
              "        const buttonEl =\n",
              "          document.querySelector('#df-0909cf03-2b06-4211-b0bb-4acc103b480b button.colab-df-convert');\n",
              "        buttonEl.style.display =\n",
              "          google.colab.kernel.accessAllowed ? 'block' : 'none';\n",
              "\n",
              "        async function convertToInteractive(key) {\n",
              "          const element = document.querySelector('#df-0909cf03-2b06-4211-b0bb-4acc103b480b');\n",
              "          const dataTable =\n",
              "            await google.colab.kernel.invokeFunction('convertToInteractive',\n",
              "                                                     [key], {});\n",
              "          if (!dataTable) return;\n",
              "\n",
              "          const docLinkHtml = 'Like what you see? Visit the ' +\n",
              "            '<a target=\"_blank\" href=https://colab.research.google.com/notebooks/data_table.ipynb>data table notebook</a>'\n",
              "            + ' to learn more about interactive tables.';\n",
              "          element.innerHTML = '';\n",
              "          dataTable['output_type'] = 'display_data';\n",
              "          await google.colab.output.renderOutput(dataTable, element);\n",
              "          const docLink = document.createElement('div');\n",
              "          docLink.innerHTML = docLinkHtml;\n",
              "          element.appendChild(docLink);\n",
              "        }\n",
              "      </script>\n",
              "    </div>\n",
              "  </div>\n",
              "  "
            ],
            "text/plain": [
              "       Floor Price    24h(%)  Owners  Total Assets  Owner Ratio\n",
              "count          1.0       1.0     1.0           1.0     1.000000\n",
              "mean           0.0  120507.7  2065.0        8992.0    22.964858\n",
              "std            NaN       NaN     NaN           NaN          NaN\n",
              "min            0.0  120507.7  2065.0        8992.0    22.964858\n",
              "25%            0.0  120507.7  2065.0        8992.0    22.964858\n",
              "50%            0.0  120507.7  2065.0        8992.0    22.964858\n",
              "75%            0.0  120507.7  2065.0        8992.0    22.964858\n",
              "max            0.0  120507.7  2065.0        8992.0    22.964858"
            ]
          },
          "metadata": {},
          "execution_count": 615
        }
      ]
    },
    {
      "cell_type": "markdown",
      "source": [
        "Essas informações são bem interessantes, válida para o dia 10/02/2022:\n",
        "- 25 NFTs dos 125 tem crescimento das últimas 24 horas acima da média\n",
        "- 1.96 ETH é a média do Floor Price"
      ],
      "metadata": {
        "id": "YUogrghKz6DA"
      }
    },
    {
      "cell_type": "markdown",
      "source": [
        "####Visualização de dados:"
      ],
      "metadata": {
        "id": "oYN7Zujh1eAf"
      }
    },
    {
      "cell_type": "code",
      "source": [
        "plt.figure(figsize=(12,6))\n",
        "df.boxplot('24h(%)')\n",
        "plt.show()"
      ],
      "metadata": {
        "colab": {
          "base_uri": "https://localhost:8080/",
          "height": 0
        },
        "id": "g6FDFJ2L1f8J",
        "outputId": "bd9e2740-bfae-45e6-80be-e6af8b6eb0fc"
      },
      "execution_count": 616,
      "outputs": [
        {
          "output_type": "display_data",
          "data": {
            "image/png": "[encoded data removed]",
            "text/plain": [
              "<Figure size 864x432 with 1 Axes>"
            ]
          },
          "metadata": {
            "needs_background": "light"
          }
        }
      ]
    },
    {
      "cell_type": "code",
      "source": [
        "plt.figure(figsize=(12,6))\n",
        "df_mean24h.boxplot('24h(%)')\n",
        "plt.show()"
      ],
      "metadata": {
        "id": "RfvH0-Ku1ptc",
        "colab": {
          "base_uri": "https://localhost:8080/",
          "height": 0
        },
        "outputId": "546c0f83-c1ab-4e06-9c55-93f9c6ffaff7"
      },
      "execution_count": 617,
      "outputs": [
        {
          "output_type": "display_data",
          "data": {
            "image/png": "[encoded data removed]",
            "text/plain": [
              "<Figure size 864x432 with 1 Axes>"
            ]
          },
          "metadata": {
            "needs_background": "light"
          }
        }
      ]
    },
    {
      "cell_type": "code",
      "source": [
        "plt.figure(figsize=(12,6))\n",
        "sns.distplot(df_mean24h['24h(%)'], bins=10)"
      ],
      "metadata": {
        "id": "QEGVXaEA1urS",
        "colab": {
          "base_uri": "https://localhost:8080/",
          "height": 0
        },
        "outputId": "3af37a0b-51b2-409b-c6bc-144dee0ed07d"
      },
      "execution_count": 618,
      "outputs": [
        {
          "output_type": "stream",
          "name": "stderr",
          "text": [
            "/usr/local/lib/python3.7/dist-packages/seaborn/distributions.py:2619: FutureWarning: `distplot` is a deprecated function and will be removed in a future version. Please adapt your code to use either `displot` (a figure-level function with similar flexibility) or `histplot` (an axes-level function for histograms).\n",
            "  warnings.warn(msg, FutureWarning)\n",
            "/usr/local/lib/python3.7/dist-packages/seaborn/distributions.py:316: UserWarning: Dataset has 0 variance; skipping density estimate. Pass `warn_singular=False` to disable this warning.\n",
            "  warnings.warn(msg, UserWarning)\n"
          ]
        },
        {
          "output_type": "execute_result",
          "data": {
            "text/plain": [
              "<matplotlib.axes._subplots.AxesSubplot at 0x7fd0d890c890>"
            ]
          },
          "metadata": {},
          "execution_count": 618
        },
        {
          "output_type": "display_data",
          "data": {
            "image/png": "[encoded data removed]",
            "text/plain": [
              "<Figure size 864x432 with 1 Axes>"
            ]
          },
          "metadata": {
            "needs_background": "light"
          }
        }
      ]
    },
    {
      "cell_type": "code",
      "source": [
        "plt.figure(figsize=(12,8))\n",
        "sns.kdeplot(df_mean24h['24h(%)'])\n",
        "sns.rugplot(df_mean24h['24h(%)'])"
      ],
      "metadata": {
        "id": "h_8gi2--1uuB",
        "colab": {
          "base_uri": "https://localhost:8080/",
          "height": 0
        },
        "outputId": "ede827e7-33e3-4b6e-d628-1767067803ac"
      },
      "execution_count": 619,
      "outputs": [
        {
          "output_type": "stream",
          "name": "stderr",
          "text": [
            "/usr/local/lib/python3.7/dist-packages/seaborn/distributions.py:316: UserWarning: Dataset has 0 variance; skipping density estimate. Pass `warn_singular=False` to disable this warning.\n",
            "  warnings.warn(msg, UserWarning)\n"
          ]
        },
        {
          "output_type": "execute_result",
          "data": {
            "text/plain": [
              "<matplotlib.axes._subplots.AxesSubplot at 0x7fd0d88f2910>"
            ]
          },
          "metadata": {},
          "execution_count": 619
        },
        {
          "output_type": "display_data",
          "data": {
            "image/png": "[encoded data removed]",
            "text/plain": [
              "<Figure size 864x576 with 1 Axes>"
            ]
          },
          "metadata": {
            "needs_background": "light"
          }
        }
      ]
    },
    {
      "cell_type": "code",
      "source": [
        "plt.figure(figsize=(12,8))\n",
        "sns.scatterplot(data=df_mean24h['24h(%)'])"
      ],
      "metadata": {
        "id": "DliypXLn1uw4",
        "colab": {
          "base_uri": "https://localhost:8080/",
          "height": 0
        },
        "outputId": "2cc7ad69-702c-4471-84f3-d4337e4f21bb"
      },
      "execution_count": 620,
      "outputs": [
        {
          "output_type": "execute_result",
          "data": {
            "text/plain": [
              "<matplotlib.axes._subplots.AxesSubplot at 0x7fd0d88f28d0>"
            ]
          },
          "metadata": {},
          "execution_count": 620
        },
        {
          "output_type": "display_data",
          "data": {
            "image/png": "[encoded data removed]",
            "text/plain": [
              "<Figure size 864x576 with 1 Axes>"
            ]
          },
          "metadata": {
            "needs_background": "light"
          }
        }
      ]
    },
    {
      "cell_type": "markdown",
      "source": [
        "- O Floor Price desses projetos com crescimento acima da média:"
      ],
      "metadata": {
        "id": "FBj5IBs42dIg"
      }
    },
    {
      "cell_type": "code",
      "source": [
        "plt.figure(figsize=(12,6))\n",
        "sns.distplot(df_mean24h['Floor Price'], bins=10)"
      ],
      "metadata": {
        "id": "9bahSerN2jTd",
        "colab": {
          "base_uri": "https://localhost:8080/",
          "height": 0
        },
        "outputId": "923818fa-65d8-442d-9bae-7fbd72901307"
      },
      "execution_count": 621,
      "outputs": [
        {
          "output_type": "stream",
          "name": "stderr",
          "text": [
            "/usr/local/lib/python3.7/dist-packages/seaborn/distributions.py:2619: FutureWarning: `distplot` is a deprecated function and will be removed in a future version. Please adapt your code to use either `displot` (a figure-level function with similar flexibility) or `histplot` (an axes-level function for histograms).\n",
            "  warnings.warn(msg, FutureWarning)\n",
            "/usr/local/lib/python3.7/dist-packages/seaborn/distributions.py:316: UserWarning: Dataset has 0 variance; skipping density estimate. Pass `warn_singular=False` to disable this warning.\n",
            "  warnings.warn(msg, UserWarning)\n"
          ]
        },
        {
          "output_type": "execute_result",
          "data": {
            "text/plain": [
              "<matplotlib.axes._subplots.AxesSubplot at 0x7fd0d87dbd50>"
            ]
          },
          "metadata": {},
          "execution_count": 621
        },
        {
          "output_type": "display_data",
          "data": {
            "image/png": "[encoded data removed]",
            "text/plain": [
              "<Figure size 864x432 with 1 Axes>"
            ]
          },
          "metadata": {
            "needs_background": "light"
          }
        }
      ]
    },
    {
      "cell_type": "code",
      "source": [
        "plt.figure(figsize=(12,8))\n",
        "sns.kdeplot(df_mean24h['Floor Price'])\n",
        "sns.rugplot(df_mean24h['Floor Price'])"
      ],
      "metadata": {
        "id": "N3KV2i-_2jdH",
        "colab": {
          "base_uri": "https://localhost:8080/",
          "height": 0
        },
        "outputId": "8d473b4c-3d90-4167-917b-ca1c4a6db5fe"
      },
      "execution_count": 622,
      "outputs": [
        {
          "output_type": "stream",
          "name": "stderr",
          "text": [
            "/usr/local/lib/python3.7/dist-packages/seaborn/distributions.py:316: UserWarning: Dataset has 0 variance; skipping density estimate. Pass `warn_singular=False` to disable this warning.\n",
            "  warnings.warn(msg, UserWarning)\n"
          ]
        },
        {
          "output_type": "execute_result",
          "data": {
            "text/plain": [
              "<matplotlib.axes._subplots.AxesSubplot at 0x7fd0d8790fd0>"
            ]
          },
          "metadata": {},
          "execution_count": 622
        },
        {
          "output_type": "display_data",
          "data": {
            "image/png": "[encoded data removed]",
            "text/plain": [
              "<Figure size 864x576 with 1 Axes>"
            ]
          },
          "metadata": {
            "needs_background": "light"
          }
        }
      ]
    },
    {
      "cell_type": "markdown",
      "source": [
        ""
      ],
      "metadata": {
        "id": "t1WMH9fO28uW"
      }
    },
    {
      "cell_type": "markdown",
      "source": [
        "###Market Cap:"
      ],
      "metadata": {
        "id": "mZsHwtmO2_s-"
      }
    },
    {
      "cell_type": "markdown",
      "source": [
        "- O market cap é o que entenderíamos pela receita total do projeto. No entanto, muitos indicadores (incluindo a coingecko), simplesmente multiplicam a quantidade de NFTs (total assets) pelo preço do NFT mais baixo (floor price), o que significa que não é exatamente confiável. O market cap é o melhor parâmetro para entender o crescimento do projeto a longo prazo e o seu sucesso, porém, como tudo em finanças, não é uma medida exata, existem diversos outros fatores que garantem o sucesso de um projeto."
      ],
      "metadata": {
        "id": "65I1dFiW6XPC"
      }
    },
    {
      "cell_type": "code",
      "source": [
        "df['Market Cap'] = df['Market Cap'].astype(float)"
      ],
      "metadata": {
        "id": "DfPqr9HR4Rzr"
      },
      "execution_count": 623,
      "outputs": []
    },
    {
      "cell_type": "code",
      "source": [
        "df['Market Cap'].describe()"
      ],
      "metadata": {
        "colab": {
          "base_uri": "https://localhost:8080/"
        },
        "id": "Drg2TDnD884z",
        "outputId": "9fac7a51-2799-4ff3-a8dc-521c8afc5c9c"
      },
      "execution_count": 624,
      "outputs": [
        {
          "output_type": "execute_result",
          "data": {
            "text/plain": [
              "count       125.000000\n",
              "mean      29164.350640\n",
              "std      109334.865912\n",
              "min           0.000000\n",
              "25%         615.680000\n",
              "50%        2452.750000\n",
              "75%       13500.000000\n",
              "max      990000.000000\n",
              "Name: Market Cap, dtype: float64"
            ]
          },
          "metadata": {},
          "execution_count": 624
        }
      ]
    },
    {
      "cell_type": "code",
      "source": [
        "plt.figure(figsize=(12,6))\n",
        "df.boxplot('Market Cap')\n",
        "plt.show()"
      ],
      "metadata": {
        "colab": {
          "base_uri": "https://localhost:8080/",
          "height": 0
        },
        "id": "YgbXwsKI887b",
        "outputId": "b0cb97ee-d299-44cb-be65-567f71a895a8"
      },
      "execution_count": 625,
      "outputs": [
        {
          "output_type": "display_data",
          "data": {
            "image/png": "[encoded data removed]",
            "text/plain": [
              "<Figure size 864x432 with 1 Axes>"
            ]
          },
          "metadata": {
            "needs_background": "light"
          }
        }
      ]
    },
    {
      "cell_type": "markdown",
      "source": [
        "####Visualização de dados:"
      ],
      "metadata": {
        "id": "q7IUJ5E__FUd"
      }
    },
    {
      "cell_type": "code",
      "source": [
        "plt.figure(figsize=(12,8))\n",
        "sns.scatterplot(data=df['Market Cap'])"
      ],
      "metadata": {
        "colab": {
          "base_uri": "https://localhost:8080/",
          "height": 0
        },
        "id": "B7u5J8Is_HCg",
        "outputId": "856f3c79-8070-4798-a24f-3fed29ba7c29"
      },
      "execution_count": 626,
      "outputs": [
        {
          "output_type": "execute_result",
          "data": {
            "text/plain": [
              "<matplotlib.axes._subplots.AxesSubplot at 0x7fd0d874e250>"
            ]
          },
          "metadata": {},
          "execution_count": 626
        },
        {
          "output_type": "display_data",
          "data": {
            "image/png": "[encoded data removed]",
            "text/plain": [
              "<Figure size 864x576 with 1 Axes>"
            ]
          },
          "metadata": {
            "needs_background": "light"
          }
        }
      ]
    },
    {
      "cell_type": "code",
      "source": [
        "plt.figure(figsize=(12,6))\n",
        "sns.distplot(df['Market Cap'], bins=10)"
      ],
      "metadata": {
        "colab": {
          "base_uri": "https://localhost:8080/",
          "height": 0
        },
        "id": "ZKhYujrW889_",
        "outputId": "631b46d8-2a44-4bb4-9675-0f899d670cc9"
      },
      "execution_count": 627,
      "outputs": [
        {
          "output_type": "stream",
          "name": "stderr",
          "text": [
            "/usr/local/lib/python3.7/dist-packages/seaborn/distributions.py:2619: FutureWarning: `distplot` is a deprecated function and will be removed in a future version. Please adapt your code to use either `displot` (a figure-level function with similar flexibility) or `histplot` (an axes-level function for histograms).\n",
            "  warnings.warn(msg, FutureWarning)\n"
          ]
        },
        {
          "output_type": "execute_result",
          "data": {
            "text/plain": [
              "<matplotlib.axes._subplots.AxesSubplot at 0x7fd0d860afd0>"
            ]
          },
          "metadata": {},
          "execution_count": 627
        },
        {
          "output_type": "display_data",
          "data": {
            "image/png": "[encoded data removed]",
            "text/plain": [
              "<Figure size 864x432 with 1 Axes>"
            ]
          },
          "metadata": {
            "needs_background": "light"
          }
        }
      ]
    },
    {
      "cell_type": "code",
      "source": [
        "plt.figure(figsize=(12,8))\n",
        "sns.kdeplot(df['Market Cap'])\n",
        "sns.rugplot(df['Market Cap'])"
      ],
      "metadata": {
        "colab": {
          "base_uri": "https://localhost:8080/",
          "height": 0
        },
        "id": "TikQ4hA8_HE1",
        "outputId": "4fe49d02-93b5-4c58-895b-aa712a53badb"
      },
      "execution_count": 628,
      "outputs": [
        {
          "output_type": "execute_result",
          "data": {
            "text/plain": [
              "<matplotlib.axes._subplots.AxesSubplot at 0x7fd0d85e8c90>"
            ]
          },
          "metadata": {},
          "execution_count": 628
        },
        {
          "output_type": "display_data",
          "data": {
            "image/png": "[encoded data removed]",
            "text/plain": [
              "<Figure size 864x576 with 1 Axes>"
            ]
          },
          "metadata": {
            "needs_background": "light"
          }
        }
      ]
    },
    {
      "cell_type": "markdown",
      "source": [
        "A conclusão é que o Market Cap se mantém estável de um modo geral, tirando alguns Outliers acima de 20.000, ou ainda, podemos considerar que os Outliers se comprometem bastante acima do 3º Quartil (75%): 13587.1 ETH. Ainda mais quando se considera que a mediana é 2179 ETH, podemos entender que a maior parte dos projetos deve estar por volta desse valor."
      ],
      "metadata": {
        "id": "_xELrNZ1_ka2"
      }
    },
    {
      "cell_type": "code",
      "source": [
        "df[df['Market Cap'] < 13587].describe()"
      ],
      "metadata": {
        "colab": {
          "base_uri": "https://localhost:8080/",
          "height": 0
        },
        "id": "0JnvtffW_HHV",
        "outputId": "acc04aad-93f7-453b-88ec-a971a32d136b"
      },
      "execution_count": 629,
      "outputs": [
        {
          "output_type": "execute_result",
          "data": {
            "text/html": [
              "\n",
              "  <div id=\"df-6abb4b0f-6b44-4367-aade-69e11fe81dcc\">\n",
              "    <div class=\"colab-df-container\">\n",
              "      <div>\n",
              "<style scoped>\n",
              "    .dataframe tbody tr th:only-of-type {\n",
              "        vertical-align: middle;\n",
              "    }\n",
              "\n",
              "    .dataframe tbody tr th {\n",
              "        vertical-align: top;\n",
              "    }\n",
              "\n",
              "    .dataframe thead th {\n",
              "        text-align: right;\n",
              "    }\n",
              "</style>\n",
              "<table border=\"1\" class=\"dataframe\">\n",
              "  <thead>\n",
              "    <tr style=\"text-align: right;\">\n",
              "      <th></th>\n",
              "      <th>Floor Price</th>\n",
              "      <th>24h(%)</th>\n",
              "      <th>Market Cap</th>\n",
              "      <th>Owners</th>\n",
              "      <th>Total Assets</th>\n",
              "      <th>Owner Ratio</th>\n",
              "    </tr>\n",
              "  </thead>\n",
              "  <tbody>\n",
              "    <tr>\n",
              "      <th>count</th>\n",
              "      <td>94.0</td>\n",
              "      <td>94.000000</td>\n",
              "      <td>94.000000</td>\n",
              "      <td>94.000000</td>\n",
              "      <td>94.000000</td>\n",
              "      <td>94.000000</td>\n",
              "    </tr>\n",
              "    <tr>\n",
              "      <th>mean</th>\n",
              "      <td>0.0</td>\n",
              "      <td>1276.817021</td>\n",
              "      <td>2987.448617</td>\n",
              "      <td>3117.840426</td>\n",
              "      <td>9006.170213</td>\n",
              "      <td>1533.267489</td>\n",
              "    </tr>\n",
              "    <tr>\n",
              "      <th>std</th>\n",
              "      <td>0.0</td>\n",
              "      <td>12429.976174</td>\n",
              "      <td>3722.744803</td>\n",
              "      <td>1834.764679</td>\n",
              "      <td>6405.540756</td>\n",
              "      <td>10893.265146</td>\n",
              "    </tr>\n",
              "    <tr>\n",
              "      <th>min</th>\n",
              "      <td>0.0</td>\n",
              "      <td>-100.000000</td>\n",
              "      <td>0.000000</td>\n",
              "      <td>292.000000</td>\n",
              "      <td>3.000000</td>\n",
              "      <td>5.160000</td>\n",
              "    </tr>\n",
              "    <tr>\n",
              "      <th>25%</th>\n",
              "      <td>0.0</td>\n",
              "      <td>-10.400000</td>\n",
              "      <td>381.250000</td>\n",
              "      <td>1789.500000</td>\n",
              "      <td>5137.500000</td>\n",
              "      <td>30.142291</td>\n",
              "    </tr>\n",
              "    <tr>\n",
              "      <th>50%</th>\n",
              "      <td>0.0</td>\n",
              "      <td>-3.900000</td>\n",
              "      <td>1178.855000</td>\n",
              "      <td>2868.000000</td>\n",
              "      <td>8888.000000</td>\n",
              "      <td>37.956876</td>\n",
              "    </tr>\n",
              "    <tr>\n",
              "      <th>75%</th>\n",
              "      <td>0.0</td>\n",
              "      <td>-1.250000</td>\n",
              "      <td>4747.500000</td>\n",
              "      <td>4251.500000</td>\n",
              "      <td>10000.000000</td>\n",
              "      <td>49.635729</td>\n",
              "    </tr>\n",
              "    <tr>\n",
              "      <th>max</th>\n",
              "      <td>0.0</td>\n",
              "      <td>120507.700000</td>\n",
              "      <td>13500.000000</td>\n",
              "      <td>9242.000000</td>\n",
              "      <td>46169.000000</td>\n",
              "      <td>96466.666667</td>\n",
              "    </tr>\n",
              "  </tbody>\n",
              "</table>\n",
              "</div>\n",
              "      <button class=\"colab-df-convert\" onclick=\"convertToInteractive('df-6abb4b0f-6b44-4367-aade-69e11fe81dcc')\"\n",
              "              title=\"Convert this dataframe to an interactive table.\"\n",
              "              style=\"display:none;\">\n",
              "        \n",
              "  <svg xmlns=\"http://www.w3.org/2000/svg\" height=\"24px\"viewBox=\"0 0 24 24\"\n",
              "       width=\"24px\">\n",
              "    <path d=\"M0 0h24v24H0V0z\" fill=\"none\"/>\n",
              "    <path d=\"M18.56 5.44l.94 2.06.94-2.06 2.06-.94-2.06-.94-.94-2.06-.94 2.06-2.06.94zm-11 1L8.5 8.5l.94-2.06 2.06-.94-2.06-.94L8.5 2.5l-.94 2.06-2.06.94zm10 10l.94 2.06.94-2.06 2.06-.94-2.06-.94-.94-2.06-.94 2.06-2.06.94z\"/><path d=\"M17.41 7.96l-1.37-1.37c-.4-.4-.92-.59-1.43-.59-.52 0-1.04.2-1.43.59L10.3 9.45l-7.72 7.72c-.78.78-.78 2.05 0 2.83L4 21.41c.39.39.9.59 1.41.59.51 0 1.02-.2 1.41-.59l7.78-7.78 2.81-2.81c.8-.78.8-2.07 0-2.86zM5.41 20L4 18.59l7.72-7.72 1.47 1.35L5.41 20z\"/>\n",
              "  </svg>\n",
              "      </button>\n",
              "      \n",
              "  <style>\n",
              "    .colab-df-container {\n",
              "      display:flex;\n",
              "      flex-wrap:wrap;\n",
              "      gap: 12px;\n",
              "    }\n",
              "\n",
              "    .colab-df-convert {\n",
              "      background-color: #E8F0FE;\n",
              "      border: none;\n",
              "      border-radius: 50%;\n",
              "      cursor: pointer;\n",
              "      display: none;\n",
              "      fill: #1967D2;\n",
              "      height: 32px;\n",
              "      padding: 0 0 0 0;\n",
              "      width: 32px;\n",
              "    }\n",
              "\n",
              "    .colab-df-convert:hover {\n",
              "      background-color: #E2EBFA;\n",
              "      box-shadow: 0px 1px 2px rgba(60, 64, 67, 0.3), 0px 1px 3px 1px rgba(60, 64, 67, 0.15);\n",
              "      fill: #174EA6;\n",
              "    }\n",
              "\n",
              "    [theme=dark] .colab-df-convert {\n",
              "      background-color: #3B4455;\n",
              "      fill: #D2E3FC;\n",
              "    }\n",
              "\n",
              "    [theme=dark] .colab-df-convert:hover {\n",
              "      background-color: #434B5C;\n",
              "      box-shadow: 0px 1px 3px 1px rgba(0, 0, 0, 0.15);\n",
              "      filter: drop-shadow(0px 1px 2px rgba(0, 0, 0, 0.3));\n",
              "      fill: #FFFFFF;\n",
              "    }\n",
              "  </style>\n",
              "\n",
              "      <script>\n",
              "        const buttonEl =\n",
              "          document.querySelector('#df-6abb4b0f-6b44-4367-aade-69e11fe81dcc button.colab-df-convert');\n",
              "        buttonEl.style.display =\n",
              "          google.colab.kernel.accessAllowed ? 'block' : 'none';\n",
              "\n",
              "        async function convertToInteractive(key) {\n",
              "          const element = document.querySelector('#df-6abb4b0f-6b44-4367-aade-69e11fe81dcc');\n",
              "          const dataTable =\n",
              "            await google.colab.kernel.invokeFunction('convertToInteractive',\n",
              "                                                     [key], {});\n",
              "          if (!dataTable) return;\n",
              "\n",
              "          const docLinkHtml = 'Like what you see? Visit the ' +\n",
              "            '<a target=\"_blank\" href=https://colab.research.google.com/notebooks/data_table.ipynb>data table notebook</a>'\n",
              "            + ' to learn more about interactive tables.';\n",
              "          element.innerHTML = '';\n",
              "          dataTable['output_type'] = 'display_data';\n",
              "          await google.colab.output.renderOutput(dataTable, element);\n",
              "          const docLink = document.createElement('div');\n",
              "          docLink.innerHTML = docLinkHtml;\n",
              "          element.appendChild(docLink);\n",
              "        }\n",
              "      </script>\n",
              "    </div>\n",
              "  </div>\n",
              "  "
            ],
            "text/plain": [
              "       Floor Price         24h(%)  ...  Total Assets   Owner Ratio\n",
              "count         94.0      94.000000  ...     94.000000     94.000000\n",
              "mean           0.0    1276.817021  ...   9006.170213   1533.267489\n",
              "std            0.0   12429.976174  ...   6405.540756  10893.265146\n",
              "min            0.0    -100.000000  ...      3.000000      5.160000\n",
              "25%            0.0     -10.400000  ...   5137.500000     30.142291\n",
              "50%            0.0      -3.900000  ...   8888.000000     37.956876\n",
              "75%            0.0      -1.250000  ...  10000.000000     49.635729\n",
              "max            0.0  120507.700000  ...  46169.000000  96466.666667\n",
              "\n",
              "[8 rows x 6 columns]"
            ]
          },
          "metadata": {},
          "execution_count": 629
        }
      ]
    },
    {
      "cell_type": "code",
      "source": [
        "df_cap = df[df['Market Cap'] < 13587]"
      ],
      "metadata": {
        "id": "S49Ewwsj7XnB"
      },
      "execution_count": 630,
      "outputs": []
    },
    {
      "cell_type": "code",
      "source": [
        "plt.figure(figsize=(12,6))\n",
        "df_cap.boxplot('Market Cap')\n",
        "plt.show()"
      ],
      "metadata": {
        "colab": {
          "base_uri": "https://localhost:8080/",
          "height": 0
        },
        "id": "6k9k_dN87hkB",
        "outputId": "c535081b-c581-4d73-8778-97a433d191f2"
      },
      "execution_count": 631,
      "outputs": [
        {
          "output_type": "display_data",
          "data": {
            "image/png": "[encoded data removed]",
            "text/plain": [
              "<Figure size 864x432 with 1 Axes>"
            ]
          },
          "metadata": {
            "needs_background": "light"
          }
        }
      ]
    },
    {
      "cell_type": "code",
      "source": [
        "plt.figure(figsize=(12,8))\n",
        "sns.kdeplot(df_cap['Market Cap'])\n",
        "sns.rugplot(df_cap['Market Cap'])"
      ],
      "metadata": {
        "colab": {
          "base_uri": "https://localhost:8080/",
          "height": 0
        },
        "id": "MxOP8Q4M7iw6",
        "outputId": "e40a363a-b281-4e9a-d734-cb0d1988774f"
      },
      "execution_count": 632,
      "outputs": [
        {
          "output_type": "execute_result",
          "data": {
            "text/plain": [
              "<matplotlib.axes._subplots.AxesSubplot at 0x7fd0d84fbd90>"
            ]
          },
          "metadata": {},
          "execution_count": 632
        },
        {
          "output_type": "display_data",
          "data": {
            "image/png": "[encoded data removed]",
            "text/plain": [
              "<Figure size 864x576 with 1 Axes>"
            ]
          },
          "metadata": {
            "needs_background": "light"
          }
        }
      ]
    },
    {
      "cell_type": "code",
      "source": [
        "plt.figure(figsize=(12,8))\n",
        "sns.scatterplot(data=df_cap['Market Cap'])"
      ],
      "metadata": {
        "colab": {
          "base_uri": "https://localhost:8080/",
          "height": 0
        },
        "id": "zSXOROKo7izS",
        "outputId": "247f87e4-1473-44a7-cd15-42fb214f8913"
      },
      "execution_count": 633,
      "outputs": [
        {
          "output_type": "execute_result",
          "data": {
            "text/plain": [
              "<matplotlib.axes._subplots.AxesSubplot at 0x7fd0d84fb550>"
            ]
          },
          "metadata": {},
          "execution_count": 633
        },
        {
          "output_type": "display_data",
          "data": {
            "image/png": "[encoded data removed]",
            "text/plain": [
              "<Figure size 864x576 with 1 Axes>"
            ]
          },
          "metadata": {
            "needs_background": "light"
          }
        }
      ]
    },
    {
      "cell_type": "markdown",
      "source": [
        "- Diante dos gráficos, conseguimos compreender que ainda existe uma boa dispersão acima de por volta de 3000 ETH de market cap. Os projetos acima disso, talvez sejam o que devam ter uma atenção interessante para um investidor."
      ],
      "metadata": {
        "id": "U0aXr2Qn8BtX"
      }
    },
    {
      "cell_type": "code",
      "source": [
        ""
      ],
      "metadata": {
        "id": "Hq6iQm437n_m"
      },
      "execution_count": 633,
      "outputs": []
    },
    {
      "cell_type": "markdown",
      "source": [
        "###Owners"
      ],
      "metadata": {
        "id": "7-07E3JW3KOE"
      }
    },
    {
      "cell_type": "code",
      "source": [
        "df['Owners'].head()"
      ],
      "metadata": {
        "colab": {
          "base_uri": "https://localhost:8080/"
        },
        "id": "KHPzZrZdhx0z",
        "outputId": "da6d9332-d429-45b2-cc14-b5c8e53f5459"
      },
      "execution_count": 634,
      "outputs": [
        {
          "output_type": "execute_result",
          "data": {
            "text/plain": [
              "0    5747.0\n",
              "1    2650.0\n",
              "2    5428.0\n",
              "3    6312.0\n",
              "4    8287.0\n",
              "Name: Owners, dtype: float64"
            ]
          },
          "metadata": {},
          "execution_count": 634
        }
      ]
    },
    {
      "cell_type": "code",
      "source": [
        "df['Owners'].tail()"
      ],
      "metadata": {
        "colab": {
          "base_uri": "https://localhost:8080/"
        },
        "id": "EUZIJm8rh2Oy",
        "outputId": "4ec5eb57-392c-411f-d1b0-50c2508584c3"
      },
      "execution_count": 635,
      "outputs": [
        {
          "output_type": "execute_result",
          "data": {
            "text/plain": [
              "120    2193.0\n",
              "121    1325.0\n",
              "122     292.0\n",
              "123    1192.0\n",
              "124    3963.0\n",
              "Name: Owners, dtype: float64"
            ]
          },
          "metadata": {},
          "execution_count": 635
        }
      ]
    },
    {
      "cell_type": "code",
      "source": [
        "df['Owners'].describe()"
      ],
      "metadata": {
        "colab": {
          "base_uri": "https://localhost:8080/"
        },
        "id": "Yovb3r62zx_x",
        "outputId": "57ba0da2-449e-455a-aa26-6d7b2bb2d31b"
      },
      "execution_count": 636,
      "outputs": [
        {
          "output_type": "execute_result",
          "data": {
            "text/plain": [
              "count      125.000000\n",
              "mean      3709.224000\n",
              "std       2601.799702\n",
              "min        292.000000\n",
              "25%       2085.000000\n",
              "50%       3358.000000\n",
              "75%       5025.000000\n",
              "max      19690.000000\n",
              "Name: Owners, dtype: float64"
            ]
          },
          "metadata": {},
          "execution_count": 636
        }
      ]
    },
    {
      "cell_type": "code",
      "source": [
        "plt.figure(figsize=(12,6))\n",
        "df.boxplot('Owners')\n",
        "plt.show()"
      ],
      "metadata": {
        "id": "J4uJdKlkzyER",
        "colab": {
          "base_uri": "https://localhost:8080/",
          "height": 0
        },
        "outputId": "8fdd2800-a7ee-43aa-b769-b77f7f9aa22b"
      },
      "execution_count": 637,
      "outputs": [
        {
          "output_type": "display_data",
          "data": {
            "image/png": "[encoded data removed]",
            "text/plain": [
              "<Figure size 864x432 with 1 Axes>"
            ]
          },
          "metadata": {
            "needs_background": "light"
          }
        }
      ]
    },
    {
      "cell_type": "markdown",
      "source": [
        "- Os proprietários do NFTs obedecem uma métrica muito mais concisa. O que isso nos indica? O fato é que um proprietário pode ter muitos NFTs e não possuímos esse número somente com essa feature. No entanto, o que podemos inferir é que os projetos que possuem muitos proprietários:\n",
        " - Estão completamente vendidos ou quase completamente.\n",
        " - Esses NFTs têm um preço baixo ou o projeto tem muita fama\n",
        " - Os projetos que têm poucos proprietários ou têm um preço alto ou têm pouco sucesso."
      ],
      "metadata": {
        "id": "vD32F8NuiNJB"
      }
    },
    {
      "cell_type": "markdown",
      "source": [
        "####Visualizações de dados:"
      ],
      "metadata": {
        "id": "mHnNzFXBnXGm"
      }
    },
    {
      "cell_type": "code",
      "source": [
        "plt.figure(figsize=(12,8))\n",
        "sns.scatterplot(data=df['Owners'])"
      ],
      "metadata": {
        "id": "SMS2nN7rzyic",
        "colab": {
          "base_uri": "https://localhost:8080/",
          "height": 0
        },
        "outputId": "5bbf2580-a0e6-43f6-adfd-852806ef5b55"
      },
      "execution_count": 638,
      "outputs": [
        {
          "output_type": "execute_result",
          "data": {
            "text/plain": [
              "<matplotlib.axes._subplots.AxesSubplot at 0x7fd0d8364ad0>"
            ]
          },
          "metadata": {},
          "execution_count": 638
        },
        {
          "output_type": "display_data",
          "data": {
            "image/png": "[encoded data removed]",
            "text/plain": [
              "<Figure size 864x576 with 1 Axes>"
            ]
          },
          "metadata": {
            "needs_background": "light"
          }
        }
      ]
    },
    {
      "cell_type": "code",
      "source": [
        "plt.figure(figsize=(12,6))\n",
        "sns.distplot(df[\"Owners\"], bins=10)"
      ],
      "metadata": {
        "colab": {
          "base_uri": "https://localhost:8080/",
          "height": 0
        },
        "id": "Hqcf3PuVoOk5",
        "outputId": "762678ca-ae95-41be-dac2-02ec2dfd3d42"
      },
      "execution_count": 639,
      "outputs": [
        {
          "output_type": "stream",
          "name": "stderr",
          "text": [
            "/usr/local/lib/python3.7/dist-packages/seaborn/distributions.py:2619: FutureWarning: `distplot` is a deprecated function and will be removed in a future version. Please adapt your code to use either `displot` (a figure-level function with similar flexibility) or `histplot` (an axes-level function for histograms).\n",
            "  warnings.warn(msg, FutureWarning)\n"
          ]
        },
        {
          "output_type": "execute_result",
          "data": {
            "text/plain": [
              "<matplotlib.axes._subplots.AxesSubplot at 0x7fd0d8349910>"
            ]
          },
          "metadata": {},
          "execution_count": 639
        },
        {
          "output_type": "display_data",
          "data": {
            "image/png": "[encoded data removed]",
            "text/plain": [
              "<Figure size 864x432 with 1 Axes>"
            ]
          },
          "metadata": {
            "needs_background": "light"
          }
        }
      ]
    },
    {
      "cell_type": "code",
      "source": [
        "plt.figure(figsize=(12,8))\n",
        "sns.kdeplot(df['Owners'])\n",
        "sns.rugplot(df['Owners'])"
      ],
      "metadata": {
        "colab": {
          "base_uri": "https://localhost:8080/",
          "height": 0
        },
        "id": "VwkmYpbYoOpi",
        "outputId": "80a7f26e-16d5-4c32-e9a9-215028ce3887"
      },
      "execution_count": 640,
      "outputs": [
        {
          "output_type": "execute_result",
          "data": {
            "text/plain": [
              "<matplotlib.axes._subplots.AxesSubplot at 0x7fd0d825c890>"
            ]
          },
          "metadata": {},
          "execution_count": 640
        },
        {
          "output_type": "display_data",
          "data": {
            "image/png": "[encoded data removed]",
            "text/plain": [
              "<Figure size 864x576 with 1 Axes>"
            ]
          },
          "metadata": {
            "needs_background": "light"
          }
        }
      ]
    },
    {
      "cell_type": "code",
      "source": [
        ""
      ],
      "metadata": {
        "id": "z9XVcRaz7a-v"
      },
      "execution_count": 640,
      "outputs": []
    },
    {
      "cell_type": "markdown",
      "source": [
        "###Total Assets"
      ],
      "metadata": {
        "id": "qTTPJcls3Nsh"
      }
    },
    {
      "cell_type": "code",
      "source": [
        "df['Total Assets'].head()"
      ],
      "metadata": {
        "id": "rTBgCSve4S0d",
        "colab": {
          "base_uri": "https://localhost:8080/"
        },
        "outputId": "5796168c-df15-451e-c4f9-dffc8d73a6b3"
      },
      "execution_count": 641,
      "outputs": [
        {
          "output_type": "execute_result",
          "data": {
            "text/plain": [
              "0    20000.0\n",
              "1     4870.0\n",
              "2    10000.0\n",
              "3    10000.0\n",
              "4    18872.0\n",
              "Name: Total Assets, dtype: float64"
            ]
          },
          "metadata": {},
          "execution_count": 641
        }
      ]
    },
    {
      "cell_type": "code",
      "source": [
        "df['Total Assets'].tail()"
      ],
      "metadata": {
        "colab": {
          "base_uri": "https://localhost:8080/"
        },
        "id": "13Twqka3qV3c",
        "outputId": "19dcec56-0c6b-436e-f7cf-550d4df64455"
      },
      "execution_count": 642,
      "outputs": [
        {
          "output_type": "execute_result",
          "data": {
            "text/plain": [
              "120    5554.0\n",
              "121       3.0\n",
              "122     526.0\n",
              "123    3624.0\n",
              "124    8008.0\n",
              "Name: Total Assets, dtype: float64"
            ]
          },
          "metadata": {},
          "execution_count": 642
        }
      ]
    },
    {
      "cell_type": "code",
      "source": [
        "df['Total Assets'].describe()"
      ],
      "metadata": {
        "colab": {
          "base_uri": "https://localhost:8080/"
        },
        "id": "KLPNTHsVqV6K",
        "outputId": "d62c10dd-bb85-445b-a30a-b9d3811fef9a"
      },
      "execution_count": 643,
      "outputs": [
        {
          "output_type": "execute_result",
          "data": {
            "text/plain": [
              "count       125.000000\n",
              "mean      10702.088000\n",
              "std       13593.807248\n",
              "min           3.000000\n",
              "25%        7025.000000\n",
              "50%        9995.000000\n",
              "75%       10000.000000\n",
              "max      145700.000000\n",
              "Name: Total Assets, dtype: float64"
            ]
          },
          "metadata": {},
          "execution_count": 643
        }
      ]
    },
    {
      "cell_type": "code",
      "source": [
        "plt.figure(figsize=(12,6))\n",
        "df.boxplot('Total Assets')\n",
        "plt.show()"
      ],
      "metadata": {
        "colab": {
          "base_uri": "https://localhost:8080/",
          "height": 0
        },
        "id": "GnoniPCyqV9G",
        "outputId": "bd90d9f4-f5e4-4734-a0ca-2d561d576823"
      },
      "execution_count": 644,
      "outputs": [
        {
          "output_type": "display_data",
          "data": {
            "image/png": "[encoded data removed]",
            "text/plain": [
              "<Figure size 864x432 with 1 Axes>"
            ]
          },
          "metadata": {
            "needs_background": "light"
          }
        }
      ]
    },
    {
      "cell_type": "code",
      "source": [
        "plt.figure(figsize=(12,6))\n",
        "df[df['Total Assets'] < 15000].boxplot('Total Assets')\n",
        "plt.show()"
      ],
      "metadata": {
        "colab": {
          "base_uri": "https://localhost:8080/",
          "height": 0
        },
        "id": "2wYOv39eqV__",
        "outputId": "d832eea1-6348-4ac5-aa0b-931af4c4607f"
      },
      "execution_count": 645,
      "outputs": [
        {
          "output_type": "display_data",
          "data": {
            "image/png": "[encoded data removed]",
            "text/plain": [
              "<Figure size 864x432 with 1 Axes>"
            ]
          },
          "metadata": {
            "needs_background": "light"
          }
        }
      ]
    },
    {
      "cell_type": "markdown",
      "source": [
        "- A maior parte dos projetos tem até 15000 NFTs."
      ],
      "metadata": {
        "id": "sQ0X1g4xq4cy"
      }
    },
    {
      "cell_type": "code",
      "source": [
        "df_assets = df[df['Total Assets'] < 15000]\n",
        "df_assets['Total Assets'].describe()"
      ],
      "metadata": {
        "colab": {
          "base_uri": "https://localhost:8080/"
        },
        "id": "bJdyiRVXq97V",
        "outputId": "0313e4e4-b778-4c92-ccc0-5fb343d905c7"
      },
      "execution_count": 646,
      "outputs": [
        {
          "output_type": "execute_result",
          "data": {
            "text/plain": [
              "count      110.000000\n",
              "mean      7936.327273\n",
              "std       3035.931395\n",
              "min          3.000000\n",
              "25%       5780.750000\n",
              "50%       9415.000000\n",
              "75%      10000.000000\n",
              "max      14533.000000\n",
              "Name: Total Assets, dtype: float64"
            ]
          },
          "metadata": {},
          "execution_count": 646
        }
      ]
    },
    {
      "cell_type": "markdown",
      "source": [
        "- 15 grandes outliers, ou seja, 15 projetos que tem uma quantidade NFTs que tão bem acima do 3º quartil. Ainda possuímos outliers com esse filtro, no entanto, é algo mais palatável."
      ],
      "metadata": {
        "id": "FDryZxvVsJ3U"
      }
    },
    {
      "cell_type": "markdown",
      "source": [
        "####Visualização de dados:"
      ],
      "metadata": {
        "id": "bU_GJpKbsjZ9"
      }
    },
    {
      "cell_type": "code",
      "source": [
        "plt.figure(figsize=(12,8))\n",
        "sns.scatterplot(data=df['Total Assets'])"
      ],
      "metadata": {
        "colab": {
          "base_uri": "https://localhost:8080/",
          "height": 0
        },
        "id": "oolZXGlDslTh",
        "outputId": "8d4600c0-c2da-43c7-f05c-5a0893fc2155"
      },
      "execution_count": 647,
      "outputs": [
        {
          "output_type": "execute_result",
          "data": {
            "text/plain": [
              "<matplotlib.axes._subplots.AxesSubplot at 0x7fd0d8003c50>"
            ]
          },
          "metadata": {},
          "execution_count": 647
        },
        {
          "output_type": "display_data",
          "data": {
            "image/png": "[encoded data removed]",
            "text/plain": [
              "<Figure size 864x576 with 1 Axes>"
            ]
          },
          "metadata": {
            "needs_background": "light"
          }
        }
      ]
    },
    {
      "cell_type": "code",
      "source": [
        "plt.figure(figsize=(12,8))\n",
        "sns.kdeplot(df['Total Assets'])\n",
        "sns.rugplot(df['Total Assets'])"
      ],
      "metadata": {
        "colab": {
          "base_uri": "https://localhost:8080/",
          "height": 0
        },
        "id": "6gDuO9xNslWU",
        "outputId": "c5627620-b662-4ab9-d2c5-0484e9d9c3be"
      },
      "execution_count": 648,
      "outputs": [
        {
          "output_type": "execute_result",
          "data": {
            "text/plain": [
              "<matplotlib.axes._subplots.AxesSubplot at 0x7fd0d7f8ce10>"
            ]
          },
          "metadata": {},
          "execution_count": 648
        },
        {
          "output_type": "display_data",
          "data": {
            "image/png": "[encoded data removed]",
            "text/plain": [
              "<Figure size 864x576 with 1 Axes>"
            ]
          },
          "metadata": {
            "needs_background": "light"
          }
        }
      ]
    },
    {
      "cell_type": "code",
      "source": [
        "plt.figure(figsize=(12,6))\n",
        "sns.distplot(df[\"Total Assets\"], bins=10)"
      ],
      "metadata": {
        "colab": {
          "base_uri": "https://localhost:8080/",
          "height": 0
        },
        "id": "8ILF_40jslY3",
        "outputId": "47b59cce-d25e-4f2e-e664-0597c620d7b1"
      },
      "execution_count": 649,
      "outputs": [
        {
          "output_type": "stream",
          "name": "stderr",
          "text": [
            "/usr/local/lib/python3.7/dist-packages/seaborn/distributions.py:2619: FutureWarning: `distplot` is a deprecated function and will be removed in a future version. Please adapt your code to use either `displot` (a figure-level function with similar flexibility) or `histplot` (an axes-level function for histograms).\n",
            "  warnings.warn(msg, FutureWarning)\n"
          ]
        },
        {
          "output_type": "execute_result",
          "data": {
            "text/plain": [
              "<matplotlib.axes._subplots.AxesSubplot at 0x7fd0d8009090>"
            ]
          },
          "metadata": {},
          "execution_count": 649
        },
        {
          "output_type": "display_data",
          "data": {
            "image/png": "[encoded data removed]",
            "text/plain": [
              "<Figure size 864x432 with 1 Axes>"
            ]
          },
          "metadata": {
            "needs_background": "light"
          }
        }
      ]
    },
    {
      "cell_type": "markdown",
      "source": [
        "- Visualizações com filtragem feita:"
      ],
      "metadata": {
        "id": "aLbhz-IVtI_w"
      }
    },
    {
      "cell_type": "code",
      "source": [
        "plt.figure(figsize=(12,8))\n",
        "sns.scatterplot(data=df_assets['Total Assets'])"
      ],
      "metadata": {
        "colab": {
          "base_uri": "https://localhost:8080/",
          "height": 0
        },
        "id": "Ump7AV9VtNNd",
        "outputId": "bb5fca37-60b9-4b02-8483-992ef2dd6b52"
      },
      "execution_count": 650,
      "outputs": [
        {
          "output_type": "execute_result",
          "data": {
            "text/plain": [
              "<matplotlib.axes._subplots.AxesSubplot at 0x7fd0d7f05250>"
            ]
          },
          "metadata": {},
          "execution_count": 650
        },
        {
          "output_type": "display_data",
          "data": {
            "image/png": "[encoded data removed]",
            "text/plain": [
              "<Figure size 864x576 with 1 Axes>"
            ]
          },
          "metadata": {
            "needs_background": "light"
          }
        }
      ]
    },
    {
      "cell_type": "code",
      "source": [
        "plt.figure(figsize=(12,8))\n",
        "sns.kdeplot(df_assets['Total Assets'])\n",
        "sns.rugplot(df_assets['Total Assets'])"
      ],
      "metadata": {
        "colab": {
          "base_uri": "https://localhost:8080/",
          "height": 0
        },
        "id": "D6EHILgRtNQK",
        "outputId": "ae9d586a-f7b7-4dc6-b3c0-4e77714bf0c4"
      },
      "execution_count": 651,
      "outputs": [
        {
          "output_type": "execute_result",
          "data": {
            "text/plain": [
              "<matplotlib.axes._subplots.AxesSubplot at 0x7fd0d7fff310>"
            ]
          },
          "metadata": {},
          "execution_count": 651
        },
        {
          "output_type": "display_data",
          "data": {
            "image/png": "[encoded data removed]",
            "text/plain": [
              "<Figure size 864x576 with 1 Axes>"
            ]
          },
          "metadata": {
            "needs_background": "light"
          }
        }
      ]
    },
    {
      "cell_type": "code",
      "source": [
        "plt.figure(figsize=(12,6))\n",
        "sns.distplot(df_assets[\"Total Assets\"], bins=10)"
      ],
      "metadata": {
        "colab": {
          "base_uri": "https://localhost:8080/",
          "height": 0
        },
        "id": "4owDnbmztNbU",
        "outputId": "827cdd1e-b990-480b-e19b-3fdab96ae2b4"
      },
      "execution_count": 652,
      "outputs": [
        {
          "output_type": "stream",
          "name": "stderr",
          "text": [
            "/usr/local/lib/python3.7/dist-packages/seaborn/distributions.py:2619: FutureWarning: `distplot` is a deprecated function and will be removed in a future version. Please adapt your code to use either `displot` (a figure-level function with similar flexibility) or `histplot` (an axes-level function for histograms).\n",
            "  warnings.warn(msg, FutureWarning)\n"
          ]
        },
        {
          "output_type": "execute_result",
          "data": {
            "text/plain": [
              "<matplotlib.axes._subplots.AxesSubplot at 0x7fd0d7e2c350>"
            ]
          },
          "metadata": {},
          "execution_count": 652
        },
        {
          "output_type": "display_data",
          "data": {
            "image/png": "[encoded data removed]",
            "text/plain": [
              "<Figure size 864x432 with 1 Axes>"
            ]
          },
          "metadata": {
            "needs_background": "light"
          }
        }
      ]
    },
    {
      "cell_type": "markdown",
      "source": [
        "- O interessante é pegarmos esses 14 projetos e entendê-los enquanto projetos que se distoam quanto a sua quantidade de NFTs, ver o seu Floor Price assim como a quantidade de Owners.\n",
        "\n",
        "- A média de totais de NFTs dos projetos é 7796. A maior parte dos projetos, no entanto se concentra em 9409 ~ 10.000 NFTs."
      ],
      "metadata": {
        "id": "O2LQy_9-tJEF"
      }
    },
    {
      "cell_type": "markdown",
      "source": [
        "###Owner Ratio:"
      ],
      "metadata": {
        "id": "iPKfd1aI3Sky"
      }
    },
    {
      "cell_type": "code",
      "source": [
        "df['Owner Ratio'].describe()"
      ],
      "metadata": {
        "id": "e_xeQUQu0d-w",
        "colab": {
          "base_uri": "https://localhost:8080/"
        },
        "outputId": "b1817502-ed8a-46eb-eb86-87d195c9c716"
      },
      "execution_count": 653,
      "outputs": [
        {
          "output_type": "execute_result",
          "data": {
            "text/plain": [
              "count      125.000000\n",
              "mean      1163.647602\n",
              "std       9455.955373\n",
              "min          3.440000\n",
              "25%         30.220000\n",
              "50%         39.479703\n",
              "75%         50.967597\n",
              "max      96466.666667\n",
              "Name: Owner Ratio, dtype: float64"
            ]
          },
          "metadata": {},
          "execution_count": 653
        }
      ]
    },
    {
      "cell_type": "code",
      "source": [
        "plt.figure(figsize=(12,6))\n",
        "df.boxplot('Owner Ratio')\n",
        "plt.show()"
      ],
      "metadata": {
        "id": "qJFMw61n4ZEz",
        "colab": {
          "base_uri": "https://localhost:8080/",
          "height": 374
        },
        "outputId": "51661625-d503-467c-8390-aa303eeb6512"
      },
      "execution_count": 654,
      "outputs": [
        {
          "output_type": "display_data",
          "data": {
            "image/png": "[encoded data removed]",
            "text/plain": [
              "<Figure size 864x432 with 1 Axes>"
            ]
          },
          "metadata": {
            "needs_background": "light"
          }
        }
      ]
    },
    {
      "cell_type": "markdown",
      "source": [
        "- Poucos outliers com considerações fortes."
      ],
      "metadata": {
        "id": "HwudOgl74gLR"
      }
    },
    {
      "cell_type": "code",
      "source": [
        "df_ratio = df[df['Owner Ratio'] < 2500]\n",
        "df_ratio"
      ],
      "metadata": {
        "id": "AZqJxLQJ4ZNT",
        "colab": {
          "base_uri": "https://localhost:8080/",
          "height": 424
        },
        "outputId": "5ef16fab-6819-4dec-e32a-8a480870e8b6"
      },
      "execution_count": 655,
      "outputs": [
        {
          "output_type": "execute_result",
          "data": {
            "text/html": [
              "\n",
              "  <div id=\"df-90cedf6d-8933-458f-953c-7dbeaf49736f\">\n",
              "    <div class=\"colab-df-container\">\n",
              "      <div>\n",
              "<style scoped>\n",
              "    .dataframe tbody tr th:only-of-type {\n",
              "        vertical-align: middle;\n",
              "    }\n",
              "\n",
              "    .dataframe tbody tr th {\n",
              "        vertical-align: top;\n",
              "    }\n",
              "\n",
              "    .dataframe thead th {\n",
              "        text-align: right;\n",
              "    }\n",
              "</style>\n",
              "<table border=\"1\" class=\"dataframe\">\n",
              "  <thead>\n",
              "    <tr style=\"text-align: right;\">\n",
              "      <th></th>\n",
              "      <th>NFT</th>\n",
              "      <th>Floor Price</th>\n",
              "      <th>24h(%)</th>\n",
              "      <th>Market Cap</th>\n",
              "      <th>24h Volume</th>\n",
              "      <th>Owners</th>\n",
              "      <th>24h Owners</th>\n",
              "      <th>Total Assets</th>\n",
              "      <th>Owner Ratio</th>\n",
              "    </tr>\n",
              "  </thead>\n",
              "  <tbody>\n",
              "    <tr>\n",
              "      <th>0</th>\n",
              "      <td>Meebits</td>\n",
              "      <td>0.0</td>\n",
              "      <td>-1.6</td>\n",
              "      <td>63800.00</td>\n",
              "      <td>16724.45</td>\n",
              "      <td>5747.0</td>\n",
              "      <td>0.0</td>\n",
              "      <td>20000.0</td>\n",
              "      <td>28.735000</td>\n",
              "    </tr>\n",
              "    <tr>\n",
              "      <th>1</th>\n",
              "      <td>dotdotdots</td>\n",
              "      <td>0.0</td>\n",
              "      <td>-4.0</td>\n",
              "      <td>925.30</td>\n",
              "      <td>6356.47</td>\n",
              "      <td>2650.0</td>\n",
              "      <td>0.2</td>\n",
              "      <td>4870.0</td>\n",
              "      <td>54.414784</td>\n",
              "    </tr>\n",
              "    <tr>\n",
              "      <th>2</th>\n",
              "      <td>Azuki</td>\n",
              "      <td>0.0</td>\n",
              "      <td>8.6</td>\n",
              "      <td>124900.00</td>\n",
              "      <td>1563.55</td>\n",
              "      <td>5428.0</td>\n",
              "      <td>0.1</td>\n",
              "      <td>10000.0</td>\n",
              "      <td>54.280000</td>\n",
              "    </tr>\n",
              "    <tr>\n",
              "      <th>3</th>\n",
              "      <td>Bored Ape Yacht Club</td>\n",
              "      <td>0.0</td>\n",
              "      <td>-2.4</td>\n",
              "      <td>990000.00</td>\n",
              "      <td>810.99</td>\n",
              "      <td>6312.0</td>\n",
              "      <td>0.0</td>\n",
              "      <td>10000.0</td>\n",
              "      <td>63.120000</td>\n",
              "    </tr>\n",
              "    <tr>\n",
              "      <th>4</th>\n",
              "      <td>CloneX</td>\n",
              "      <td>0.0</td>\n",
              "      <td>-1.8</td>\n",
              "      <td>285910.80</td>\n",
              "      <td>713.86</td>\n",
              "      <td>8287.0</td>\n",
              "      <td>0.1</td>\n",
              "      <td>18872.0</td>\n",
              "      <td>43.911615</td>\n",
              "    </tr>\n",
              "    <tr>\n",
              "      <th>...</th>\n",
              "      <td>...</td>\n",
              "      <td>...</td>\n",
              "      <td>...</td>\n",
              "      <td>...</td>\n",
              "      <td>...</td>\n",
              "      <td>...</td>\n",
              "      <td>...</td>\n",
              "      <td>...</td>\n",
              "      <td>...</td>\n",
              "    </tr>\n",
              "    <tr>\n",
              "      <th>119</th>\n",
              "      <td>Template</td>\n",
              "      <td>0.0</td>\n",
              "      <td>120507.7</td>\n",
              "      <td>107.90</td>\n",
              "      <td>0.03</td>\n",
              "      <td>2065.0</td>\n",
              "      <td>-0.1</td>\n",
              "      <td>8992.0</td>\n",
              "      <td>22.964858</td>\n",
              "    </tr>\n",
              "    <tr>\n",
              "      <th>120</th>\n",
              "      <td>Night Kids</td>\n",
              "      <td>0.0</td>\n",
              "      <td>-1.5</td>\n",
              "      <td>66.09</td>\n",
              "      <td>0.01</td>\n",
              "      <td>2193.0</td>\n",
              "      <td>0.0</td>\n",
              "      <td>5554.0</td>\n",
              "      <td>39.485056</td>\n",
              "    </tr>\n",
              "    <tr>\n",
              "      <th>122</th>\n",
              "      <td>Strange Attractors</td>\n",
              "      <td>0.0</td>\n",
              "      <td>-100.0</td>\n",
              "      <td>0.00</td>\n",
              "      <td>0.0</td>\n",
              "      <td>292.0</td>\n",
              "      <td>0.0</td>\n",
              "      <td>526.0</td>\n",
              "      <td>55.513308</td>\n",
              "    </tr>\n",
              "    <tr>\n",
              "      <th>123</th>\n",
              "      <td>United Punks Union</td>\n",
              "      <td>0.0</td>\n",
              "      <td>101.7</td>\n",
              "      <td>362.40</td>\n",
              "      <td>0.0</td>\n",
              "      <td>1192.0</td>\n",
              "      <td>0.0</td>\n",
              "      <td>3624.0</td>\n",
              "      <td>32.891832</td>\n",
              "    </tr>\n",
              "    <tr>\n",
              "      <th>124</th>\n",
              "      <td>Bloot</td>\n",
              "      <td>0.0</td>\n",
              "      <td>-7.6</td>\n",
              "      <td>360.36</td>\n",
              "      <td>0.0</td>\n",
              "      <td>3963.0</td>\n",
              "      <td>0.0</td>\n",
              "      <td>8008.0</td>\n",
              "      <td>49.488012</td>\n",
              "    </tr>\n",
              "  </tbody>\n",
              "</table>\n",
              "<p>123 rows × 9 columns</p>\n",
              "</div>\n",
              "      <button class=\"colab-df-convert\" onclick=\"convertToInteractive('df-90cedf6d-8933-458f-953c-7dbeaf49736f')\"\n",
              "              title=\"Convert this dataframe to an interactive table.\"\n",
              "              style=\"display:none;\">\n",
              "        \n",
              "  <svg xmlns=\"http://www.w3.org/2000/svg\" height=\"24px\"viewBox=\"0 0 24 24\"\n",
              "       width=\"24px\">\n",
              "    <path d=\"M0 0h24v24H0V0z\" fill=\"none\"/>\n",
              "    <path d=\"M18.56 5.44l.94 2.06.94-2.06 2.06-.94-2.06-.94-.94-2.06-.94 2.06-2.06.94zm-11 1L8.5 8.5l.94-2.06 2.06-.94-2.06-.94L8.5 2.5l-.94 2.06-2.06.94zm10 10l.94 2.06.94-2.06 2.06-.94-2.06-.94-.94-2.06-.94 2.06-2.06.94z\"/><path d=\"M17.41 7.96l-1.37-1.37c-.4-.4-.92-.59-1.43-.59-.52 0-1.04.2-1.43.59L10.3 9.45l-7.72 7.72c-.78.78-.78 2.05 0 2.83L4 21.41c.39.39.9.59 1.41.59.51 0 1.02-.2 1.41-.59l7.78-7.78 2.81-2.81c.8-.78.8-2.07 0-2.86zM5.41 20L4 18.59l7.72-7.72 1.47 1.35L5.41 20z\"/>\n",
              "  </svg>\n",
              "      </button>\n",
              "      \n",
              "  <style>\n",
              "    .colab-df-container {\n",
              "      display:flex;\n",
              "      flex-wrap:wrap;\n",
              "      gap: 12px;\n",
              "    }\n",
              "\n",
              "    .colab-df-convert {\n",
              "      background-color: #E8F0FE;\n",
              "      border: none;\n",
              "      border-radius: 50%;\n",
              "      cursor: pointer;\n",
              "      display: none;\n",
              "      fill: #1967D2;\n",
              "      height: 32px;\n",
              "      padding: 0 0 0 0;\n",
              "      width: 32px;\n",
              "    }\n",
              "\n",
              "    .colab-df-convert:hover {\n",
              "      background-color: #E2EBFA;\n",
              "      box-shadow: 0px 1px 2px rgba(60, 64, 67, 0.3), 0px 1px 3px 1px rgba(60, 64, 67, 0.15);\n",
              "      fill: #174EA6;\n",
              "    }\n",
              "\n",
              "    [theme=dark] .colab-df-convert {\n",
              "      background-color: #3B4455;\n",
              "      fill: #D2E3FC;\n",
              "    }\n",
              "\n",
              "    [theme=dark] .colab-df-convert:hover {\n",
              "      background-color: #434B5C;\n",
              "      box-shadow: 0px 1px 3px 1px rgba(0, 0, 0, 0.15);\n",
              "      filter: drop-shadow(0px 1px 2px rgba(0, 0, 0, 0.3));\n",
              "      fill: #FFFFFF;\n",
              "    }\n",
              "  </style>\n",
              "\n",
              "      <script>\n",
              "        const buttonEl =\n",
              "          document.querySelector('#df-90cedf6d-8933-458f-953c-7dbeaf49736f button.colab-df-convert');\n",
              "        buttonEl.style.display =\n",
              "          google.colab.kernel.accessAllowed ? 'block' : 'none';\n",
              "\n",
              "        async function convertToInteractive(key) {\n",
              "          const element = document.querySelector('#df-90cedf6d-8933-458f-953c-7dbeaf49736f');\n",
              "          const dataTable =\n",
              "            await google.colab.kernel.invokeFunction('convertToInteractive',\n",
              "                                                     [key], {});\n",
              "          if (!dataTable) return;\n",
              "\n",
              "          const docLinkHtml = 'Like what you see? Visit the ' +\n",
              "            '<a target=\"_blank\" href=https://colab.research.google.com/notebooks/data_table.ipynb>data table notebook</a>'\n",
              "            + ' to learn more about interactive tables.';\n",
              "          element.innerHTML = '';\n",
              "          dataTable['output_type'] = 'display_data';\n",
              "          await google.colab.output.renderOutput(dataTable, element);\n",
              "          const docLink = document.createElement('div');\n",
              "          docLink.innerHTML = docLinkHtml;\n",
              "          element.appendChild(docLink);\n",
              "        }\n",
              "      </script>\n",
              "    </div>\n",
              "  </div>\n",
              "  "
            ],
            "text/plain": [
              "                      NFT  Floor Price  ...  Total Assets  Owner Ratio\n",
              "0                 Meebits          0.0  ...       20000.0    28.735000\n",
              "1              dotdotdots          0.0  ...        4870.0    54.414784\n",
              "2                   Azuki          0.0  ...       10000.0    54.280000\n",
              "3    Bored Ape Yacht Club          0.0  ...       10000.0    63.120000\n",
              "4                  CloneX          0.0  ...       18872.0    43.911615\n",
              "..                    ...          ...  ...           ...          ...\n",
              "119              Template          0.0  ...        8992.0    22.964858\n",
              "120            Night Kids          0.0  ...        5554.0    39.485056\n",
              "122    Strange Attractors          0.0  ...         526.0    55.513308\n",
              "123    United Punks Union          0.0  ...        3624.0    32.891832\n",
              "124                 Bloot          0.0  ...        8008.0    49.488012\n",
              "\n",
              "[123 rows x 9 columns]"
            ]
          },
          "metadata": {},
          "execution_count": 655
        }
      ]
    },
    {
      "cell_type": "code",
      "source": [
        "df_ratio['Owner Ratio'].describe()"
      ],
      "metadata": {
        "id": "HIQ-TSex4peE",
        "colab": {
          "base_uri": "https://localhost:8080/"
        },
        "outputId": "c64339b4-4ca8-4b5f-e851-07733d2847ce"
      },
      "execution_count": 656,
      "outputs": [
        {
          "output_type": "execute_result",
          "data": {
            "text/plain": [
              "count    123.000000\n",
              "mean      39.208268\n",
              "std       15.567935\n",
              "min        3.440000\n",
              "25%       30.199582\n",
              "50%       39.471429\n",
              "75%       50.831519\n",
              "max       78.034420\n",
              "Name: Owner Ratio, dtype: float64"
            ]
          },
          "metadata": {},
          "execution_count": 656
        }
      ]
    },
    {
      "cell_type": "code",
      "source": [
        "plt.figure(figsize=(12,6))\n",
        "df_ratio.boxplot('Owner Ratio')\n",
        "plt.show()"
      ],
      "metadata": {
        "id": "GmHwymRY4pil",
        "colab": {
          "base_uri": "https://localhost:8080/",
          "height": 374
        },
        "outputId": "fa2396f4-fb6c-4b0c-c098-8b8e9d415c49"
      },
      "execution_count": 657,
      "outputs": [
        {
          "output_type": "display_data",
          "data": {
            "image/png": "[encoded data removed]",
            "text/plain": [
              "<Figure size 864x432 with 1 Axes>"
            ]
          },
          "metadata": {
            "needs_background": "light"
          }
        }
      ]
    },
    {
      "cell_type": "markdown",
      "source": [
        "- O que isso significa? O owner ratio é a razão entre a quantidade de proprietários que o projeto possui / Quantidade de NFTs do projeto. Portanto, quanto mais próximo de 1, mais próximo o projeto está de ter vendido tudo de certo. No entanto, isso não significa que quanto mais distante de 1 menos  chances do projeto ter vendido todos seus NFTs, visto que um proprietário pode ter mais de um NFT."
      ],
      "metadata": {
        "id": "aiE47NqI5V9E"
      }
    },
    {
      "cell_type": "markdown",
      "source": [
        "#4ºParte: Analisando as relações do início:"
      ],
      "metadata": {
        "id": "nXhvASnTfOBK"
      }
    },
    {
      "cell_type": "markdown",
      "source": [
        "##Premissas:\n",
        "\n",
        "1. O market cap é uma das features mais significativas, visto que é um dos parâmetros principais que os compradores olham ao avaliar um projeto NFT.\n",
        "\n",
        "2. Podemos considerar, por ser os top projetos NFTs, que eles deram sold out, ou seja, eles foram completamente vendidos. Por que isso é relevante? Quando um projeto tem todos seus NFTs vendidos, ele é considerado um bom projeto e o seu floor price se estabiliza, na maioria das vezes. Não é incomum um projeto estar completamente vendido.\n",
        "\n",
        "3. Como busco identificar quais projetos se destacam de alguma maneira e quais indicadores a maior parte dos projetos possuem, as colunas que devem ser ressaltadas são: o floor price, market cap e owners (preço de \"chão\" (preço do NFT mais barato), receita do projeto e os proprietários).\n"
      ],
      "metadata": {
        "id": "lWMhQ7iDCYDr"
      }
    },
    {
      "cell_type": "markdown",
      "source": [
        "##Hipóteses e demonstrações:\n"
      ],
      "metadata": {
        "id": "XVU74pytiHPb"
      }
    },
    {
      "cell_type": "markdown",
      "source": [
        "###O market cap é verdadeiro?"
      ],
      "metadata": {
        "id": "0A14GDtG_hVj"
      }
    },
    {
      "cell_type": "markdown",
      "source": [
        "- Muitos sites são conhecidos por não apresentar um market cap correto. O que posso fazer para verificar essa informação? Sei que, no mínimo, o market cap vai ser maior do que Total_assets (total de ativos) multiplicado floor_price (o preço do NFT mais baixo do projeto). "
      ],
      "metadata": {
        "id": "e5FOzTNw5tXn"
      }
    },
    {
      "cell_type": "code",
      "source": [
        "total_assets = []\n",
        "floor_price = []\n",
        "\n",
        "for price in df['Floor Price']:\n",
        "  floor_price.append(price)\n",
        "\n",
        "for asset in df['Total Assets']:\n",
        "  total_assets.append(asset)\n"
      ],
      "metadata": {
        "id": "-pPtRdIr4Yzn"
      },
      "execution_count": 658,
      "outputs": []
    },
    {
      "cell_type": "code",
      "source": [
        "makt_caps = []\n",
        "for i in range(len(total_assets)):\n",
        "  makt_cap = floor_price[i]*total_assets[i]\n",
        "  makt_caps.append(makt_cap)"
      ],
      "metadata": {
        "id": "4Zj8Pj-ozfur"
      },
      "execution_count": 659,
      "outputs": []
    },
    {
      "cell_type": "code",
      "source": [
        "makt_caps2 = []\n",
        "for makt_cap in df['Market Cap']:\n",
        "  makt_caps2.append(makt_cap)"
      ],
      "metadata": {
        "id": "4o0mLvu-zfww"
      },
      "execution_count": 660,
      "outputs": []
    },
    {
      "cell_type": "code",
      "source": [
        "larger = []\n",
        "equal = []\n",
        "smaller = []\n",
        "\n",
        "flag=0\n",
        "for i in range(len(makt_caps)):\n",
        "  if makt_caps[i] == makt_caps2[i]:\n",
        "    flag = 1\n",
        "    equal.append(flag)\n",
        "  elif makt_caps[i] > makt_caps2[i]:\n",
        "    flag = 2\n",
        "    equal.append(flag)\n",
        "  elif makt_caps[i] < makt_caps2[i]:\n",
        "    flag = 3\n",
        "    smaller.append(flag)"
      ],
      "metadata": {
        "id": "t-kTe6CK7DW2"
      },
      "execution_count": 661,
      "outputs": []
    },
    {
      "cell_type": "markdown",
      "source": [
        "- As flags indicam se o market cap do dataset é igual, menor ou maior que a multiplicação dos ativos totais do projeto com o floor price."
      ],
      "metadata": {
        "id": "T3RqOSOn_R4O"
      }
    },
    {
      "cell_type": "code",
      "source": [
        "print(len(equal), len(smaller), len(larger))"
      ],
      "metadata": {
        "colab": {
          "base_uri": "https://localhost:8080/"
        },
        "id": "_vyEheZn_fXy",
        "outputId": "71e8cb76-7170-4f01-dc12-05b631b4a0ba"
      },
      "execution_count": 662,
      "outputs": [
        {
          "output_type": "stream",
          "name": "stdout",
          "text": [
            "2 123 0\n"
          ]
        }
      ]
    },
    {
      "cell_type": "markdown",
      "source": [
        "- Aqui temos as relações. No dia 10/02, encontrei nenhum market cap maior que a multiplicação e inclusive, 19 marketcaps eram menores do que a relação floor_price * total_assets, o que indica que ele é *menor* do que o mínimo esperado. Portanto, o que indica que essa coluna não é verídica. No entanto, é importante ressaltar que não é um dado descartável visto que a maior parte (106) dos market caps indicam o market cap *mínimo*. O que podemos saber é que ele não é o verdadeiro market cap do projeto."
      ],
      "metadata": {
        "id": "6ZYuxNVK_xvx"
      }
    },
    {
      "cell_type": "markdown",
      "source": [
        "###Relações do floor price:"
      ],
      "metadata": {
        "id": "Ast_X_L8k1kS"
      }
    },
    {
      "cell_type": "code",
      "source": [
        "df_fp = pd.DataFrame([df['Floor Price'], df['Market Cap']])"
      ],
      "metadata": {
        "id": "32aOyZYFzfm0"
      },
      "execution_count": 663,
      "outputs": []
    },
    {
      "cell_type": "code",
      "source": [
        "df_fp = df_fp.transpose()"
      ],
      "metadata": {
        "id": "ODdLGQT3zfpQ"
      },
      "execution_count": 664,
      "outputs": []
    },
    {
      "cell_type": "code",
      "source": [
        "plt.figure(figsize=(12,8))\n",
        "heatmap = sns.heatmap(df_fp.corr(), cmap=\"BuPu\", annot=True)\n",
        "heatmap.set_title('Correlation Heatmap', fontdict={'fontsize':18}, pad=12);"
      ],
      "metadata": {
        "colab": {
          "base_uri": "https://localhost:8080/",
          "height": 509
        },
        "id": "Qj89Vmqrzfr_",
        "outputId": "d5b8c627-2164-4c32-fa8b-ce15a9dcd76b"
      },
      "execution_count": 665,
      "outputs": [
        {
          "output_type": "display_data",
          "data": {
            "image/png": "[encoded data removed]",
            "text/plain": [
              "<Figure size 864x576 with 2 Axes>"
            ]
          },
          "metadata": {
            "needs_background": "light"
          }
        }
      ]
    },
    {
      "cell_type": "markdown",
      "source": [
        "- Essa informação é importante, um alto indice de correlação, mas não é uma informação vital visto o que foi demonstrado acima."
      ],
      "metadata": {
        "id": "mYB938QMA8vp"
      }
    },
    {
      "cell_type": "markdown",
      "source": [
        "###Quanto mais ativos, mais proprietários terá o projeto?"
      ],
      "metadata": {
        "id": "W4nhMAZPC3QS"
      }
    },
    {
      "cell_type": "code",
      "source": [
        "df2 = pd.DataFrame([df['Owners'], df['Total Assets']])"
      ],
      "metadata": {
        "id": "c20h9sE04RPx"
      },
      "execution_count": 666,
      "outputs": []
    },
    {
      "cell_type": "code",
      "source": [
        "df2.transpose().describe()"
      ],
      "metadata": {
        "id": "H91mpFBAvtJC",
        "colab": {
          "base_uri": "https://localhost:8080/",
          "height": 300
        },
        "outputId": "2f5ca27b-f668-4e8f-b330-7b5a119b08b3"
      },
      "execution_count": 667,
      "outputs": [
        {
          "output_type": "execute_result",
          "data": {
            "text/html": [
              "\n",
              "  <div id=\"df-4d45c947-c612-4d90-badb-162634c28839\">\n",
              "    <div class=\"colab-df-container\">\n",
              "      <div>\n",
              "<style scoped>\n",
              "    .dataframe tbody tr th:only-of-type {\n",
              "        vertical-align: middle;\n",
              "    }\n",
              "\n",
              "    .dataframe tbody tr th {\n",
              "        vertical-align: top;\n",
              "    }\n",
              "\n",
              "    .dataframe thead th {\n",
              "        text-align: right;\n",
              "    }\n",
              "</style>\n",
              "<table border=\"1\" class=\"dataframe\">\n",
              "  <thead>\n",
              "    <tr style=\"text-align: right;\">\n",
              "      <th></th>\n",
              "      <th>Owners</th>\n",
              "      <th>Total Assets</th>\n",
              "    </tr>\n",
              "  </thead>\n",
              "  <tbody>\n",
              "    <tr>\n",
              "      <th>count</th>\n",
              "      <td>125.000000</td>\n",
              "      <td>125.000000</td>\n",
              "    </tr>\n",
              "    <tr>\n",
              "      <th>mean</th>\n",
              "      <td>3709.224000</td>\n",
              "      <td>10702.088000</td>\n",
              "    </tr>\n",
              "    <tr>\n",
              "      <th>std</th>\n",
              "      <td>2601.799702</td>\n",
              "      <td>13593.807248</td>\n",
              "    </tr>\n",
              "    <tr>\n",
              "      <th>min</th>\n",
              "      <td>292.000000</td>\n",
              "      <td>3.000000</td>\n",
              "    </tr>\n",
              "    <tr>\n",
              "      <th>25%</th>\n",
              "      <td>2085.000000</td>\n",
              "      <td>7025.000000</td>\n",
              "    </tr>\n",
              "    <tr>\n",
              "      <th>50%</th>\n",
              "      <td>3358.000000</td>\n",
              "      <td>9995.000000</td>\n",
              "    </tr>\n",
              "    <tr>\n",
              "      <th>75%</th>\n",
              "      <td>5025.000000</td>\n",
              "      <td>10000.000000</td>\n",
              "    </tr>\n",
              "    <tr>\n",
              "      <th>max</th>\n",
              "      <td>19690.000000</td>\n",
              "      <td>145700.000000</td>\n",
              "    </tr>\n",
              "  </tbody>\n",
              "</table>\n",
              "</div>\n",
              "      <button class=\"colab-df-convert\" onclick=\"convertToInteractive('df-4d45c947-c612-4d90-badb-162634c28839')\"\n",
              "              title=\"Convert this dataframe to an interactive table.\"\n",
              "              style=\"display:none;\">\n",
              "        \n",
              "  <svg xmlns=\"http://www.w3.org/2000/svg\" height=\"24px\"viewBox=\"0 0 24 24\"\n",
              "       width=\"24px\">\n",
              "    <path d=\"M0 0h24v24H0V0z\" fill=\"none\"/>\n",
              "    <path d=\"M18.56 5.44l.94 2.06.94-2.06 2.06-.94-2.06-.94-.94-2.06-.94 2.06-2.06.94zm-11 1L8.5 8.5l.94-2.06 2.06-.94-2.06-.94L8.5 2.5l-.94 2.06-2.06.94zm10 10l.94 2.06.94-2.06 2.06-.94-2.06-.94-.94-2.06-.94 2.06-2.06.94z\"/><path d=\"M17.41 7.96l-1.37-1.37c-.4-.4-.92-.59-1.43-.59-.52 0-1.04.2-1.43.59L10.3 9.45l-7.72 7.72c-.78.78-.78 2.05 0 2.83L4 21.41c.39.39.9.59 1.41.59.51 0 1.02-.2 1.41-.59l7.78-7.78 2.81-2.81c.8-.78.8-2.07 0-2.86zM5.41 20L4 18.59l7.72-7.72 1.47 1.35L5.41 20z\"/>\n",
              "  </svg>\n",
              "      </button>\n",
              "      \n",
              "  <style>\n",
              "    .colab-df-container {\n",
              "      display:flex;\n",
              "      flex-wrap:wrap;\n",
              "      gap: 12px;\n",
              "    }\n",
              "\n",
              "    .colab-df-convert {\n",
              "      background-color: #E8F0FE;\n",
              "      border: none;\n",
              "      border-radius: 50%;\n",
              "      cursor: pointer;\n",
              "      display: none;\n",
              "      fill: #1967D2;\n",
              "      height: 32px;\n",
              "      padding: 0 0 0 0;\n",
              "      width: 32px;\n",
              "    }\n",
              "\n",
              "    .colab-df-convert:hover {\n",
              "      background-color: #E2EBFA;\n",
              "      box-shadow: 0px 1px 2px rgba(60, 64, 67, 0.3), 0px 1px 3px 1px rgba(60, 64, 67, 0.15);\n",
              "      fill: #174EA6;\n",
              "    }\n",
              "\n",
              "    [theme=dark] .colab-df-convert {\n",
              "      background-color: #3B4455;\n",
              "      fill: #D2E3FC;\n",
              "    }\n",
              "\n",
              "    [theme=dark] .colab-df-convert:hover {\n",
              "      background-color: #434B5C;\n",
              "      box-shadow: 0px 1px 3px 1px rgba(0, 0, 0, 0.15);\n",
              "      filter: drop-shadow(0px 1px 2px rgba(0, 0, 0, 0.3));\n",
              "      fill: #FFFFFF;\n",
              "    }\n",
              "  </style>\n",
              "\n",
              "      <script>\n",
              "        const buttonEl =\n",
              "          document.querySelector('#df-4d45c947-c612-4d90-badb-162634c28839 button.colab-df-convert');\n",
              "        buttonEl.style.display =\n",
              "          google.colab.kernel.accessAllowed ? 'block' : 'none';\n",
              "\n",
              "        async function convertToInteractive(key) {\n",
              "          const element = document.querySelector('#df-4d45c947-c612-4d90-badb-162634c28839');\n",
              "          const dataTable =\n",
              "            await google.colab.kernel.invokeFunction('convertToInteractive',\n",
              "                                                     [key], {});\n",
              "          if (!dataTable) return;\n",
              "\n",
              "          const docLinkHtml = 'Like what you see? Visit the ' +\n",
              "            '<a target=\"_blank\" href=https://colab.research.google.com/notebooks/data_table.ipynb>data table notebook</a>'\n",
              "            + ' to learn more about interactive tables.';\n",
              "          element.innerHTML = '';\n",
              "          dataTable['output_type'] = 'display_data';\n",
              "          await google.colab.output.renderOutput(dataTable, element);\n",
              "          const docLink = document.createElement('div');\n",
              "          docLink.innerHTML = docLinkHtml;\n",
              "          element.appendChild(docLink);\n",
              "        }\n",
              "      </script>\n",
              "    </div>\n",
              "  </div>\n",
              "  "
            ],
            "text/plain": [
              "             Owners   Total Assets\n",
              "count    125.000000     125.000000\n",
              "mean    3709.224000   10702.088000\n",
              "std     2601.799702   13593.807248\n",
              "min      292.000000       3.000000\n",
              "25%     2085.000000    7025.000000\n",
              "50%     3358.000000    9995.000000\n",
              "75%     5025.000000   10000.000000\n",
              "max    19690.000000  145700.000000"
            ]
          },
          "metadata": {},
          "execution_count": 667
        }
      ]
    },
    {
      "cell_type": "code",
      "source": [
        "df2.head()"
      ],
      "metadata": {
        "id": "tGJzaYtrvwQ4",
        "colab": {
          "base_uri": "https://localhost:8080/",
          "height": 223
        },
        "outputId": "02207070-5f89-4b96-b8ce-d8044e97a19e"
      },
      "execution_count": 668,
      "outputs": [
        {
          "output_type": "execute_result",
          "data": {
            "text/html": [
              "\n",
              "  <div id=\"df-a3c8460c-daf4-4862-8ce0-cd65e33e5af7\">\n",
              "    <div class=\"colab-df-container\">\n",
              "      <div>\n",
              "<style scoped>\n",
              "    .dataframe tbody tr th:only-of-type {\n",
              "        vertical-align: middle;\n",
              "    }\n",
              "\n",
              "    .dataframe tbody tr th {\n",
              "        vertical-align: top;\n",
              "    }\n",
              "\n",
              "    .dataframe thead th {\n",
              "        text-align: right;\n",
              "    }\n",
              "</style>\n",
              "<table border=\"1\" class=\"dataframe\">\n",
              "  <thead>\n",
              "    <tr style=\"text-align: right;\">\n",
              "      <th></th>\n",
              "      <th>0</th>\n",
              "      <th>1</th>\n",
              "      <th>2</th>\n",
              "      <th>3</th>\n",
              "      <th>4</th>\n",
              "      <th>5</th>\n",
              "      <th>6</th>\n",
              "      <th>7</th>\n",
              "      <th>8</th>\n",
              "      <th>9</th>\n",
              "      <th>10</th>\n",
              "      <th>11</th>\n",
              "      <th>12</th>\n",
              "      <th>13</th>\n",
              "      <th>14</th>\n",
              "      <th>15</th>\n",
              "      <th>16</th>\n",
              "      <th>17</th>\n",
              "      <th>18</th>\n",
              "      <th>19</th>\n",
              "      <th>20</th>\n",
              "      <th>21</th>\n",
              "      <th>22</th>\n",
              "      <th>23</th>\n",
              "      <th>24</th>\n",
              "      <th>25</th>\n",
              "      <th>26</th>\n",
              "      <th>27</th>\n",
              "      <th>28</th>\n",
              "      <th>29</th>\n",
              "      <th>30</th>\n",
              "      <th>31</th>\n",
              "      <th>32</th>\n",
              "      <th>33</th>\n",
              "      <th>34</th>\n",
              "      <th>35</th>\n",
              "      <th>36</th>\n",
              "      <th>37</th>\n",
              "      <th>38</th>\n",
              "      <th>39</th>\n",
              "      <th>...</th>\n",
              "      <th>85</th>\n",
              "      <th>86</th>\n",
              "      <th>87</th>\n",
              "      <th>88</th>\n",
              "      <th>89</th>\n",
              "      <th>90</th>\n",
              "      <th>91</th>\n",
              "      <th>92</th>\n",
              "      <th>93</th>\n",
              "      <th>94</th>\n",
              "      <th>95</th>\n",
              "      <th>96</th>\n",
              "      <th>97</th>\n",
              "      <th>98</th>\n",
              "      <th>99</th>\n",
              "      <th>100</th>\n",
              "      <th>101</th>\n",
              "      <th>102</th>\n",
              "      <th>103</th>\n",
              "      <th>104</th>\n",
              "      <th>105</th>\n",
              "      <th>106</th>\n",
              "      <th>107</th>\n",
              "      <th>108</th>\n",
              "      <th>109</th>\n",
              "      <th>110</th>\n",
              "      <th>111</th>\n",
              "      <th>112</th>\n",
              "      <th>113</th>\n",
              "      <th>114</th>\n",
              "      <th>115</th>\n",
              "      <th>116</th>\n",
              "      <th>117</th>\n",
              "      <th>118</th>\n",
              "      <th>119</th>\n",
              "      <th>120</th>\n",
              "      <th>121</th>\n",
              "      <th>122</th>\n",
              "      <th>123</th>\n",
              "      <th>124</th>\n",
              "    </tr>\n",
              "  </thead>\n",
              "  <tbody>\n",
              "    <tr>\n",
              "      <th>Owners</th>\n",
              "      <td>5747.0</td>\n",
              "      <td>2650.0</td>\n",
              "      <td>5428.0</td>\n",
              "      <td>6312.0</td>\n",
              "      <td>8287.0</td>\n",
              "      <td>11740.0</td>\n",
              "      <td>19690.0</td>\n",
              "      <td>10743.0</td>\n",
              "      <td>5076.0</td>\n",
              "      <td>5996.0</td>\n",
              "      <td>3535.0</td>\n",
              "      <td>5177.0</td>\n",
              "      <td>8696.0</td>\n",
              "      <td>3358.0</td>\n",
              "      <td>3272.0</td>\n",
              "      <td>2894.0</td>\n",
              "      <td>4913.0</td>\n",
              "      <td>1393.0</td>\n",
              "      <td>516.0</td>\n",
              "      <td>2435.0</td>\n",
              "      <td>2986.0</td>\n",
              "      <td>519.0</td>\n",
              "      <td>4738.0</td>\n",
              "      <td>5202.0</td>\n",
              "      <td>3770.0</td>\n",
              "      <td>5427.0</td>\n",
              "      <td>2466.0</td>\n",
              "      <td>3341.0</td>\n",
              "      <td>8179.0</td>\n",
              "      <td>2547.0</td>\n",
              "      <td>6914.0</td>\n",
              "      <td>6157.0</td>\n",
              "      <td>3865.0</td>\n",
              "      <td>3965.0</td>\n",
              "      <td>4529.0</td>\n",
              "      <td>8429.0</td>\n",
              "      <td>5025.0</td>\n",
              "      <td>5430.0</td>\n",
              "      <td>603.0</td>\n",
              "      <td>6196.0</td>\n",
              "      <td>...</td>\n",
              "      <td>2703.0</td>\n",
              "      <td>1061.0</td>\n",
              "      <td>3720.0</td>\n",
              "      <td>755.0</td>\n",
              "      <td>1824.0</td>\n",
              "      <td>3013.0</td>\n",
              "      <td>5109.0</td>\n",
              "      <td>1145.0</td>\n",
              "      <td>3238.0</td>\n",
              "      <td>3459.0</td>\n",
              "      <td>1104.0</td>\n",
              "      <td>2274.0</td>\n",
              "      <td>2763.0</td>\n",
              "      <td>3459.0</td>\n",
              "      <td>2085.0</td>\n",
              "      <td>2846.0</td>\n",
              "      <td>1475.0</td>\n",
              "      <td>1378.0</td>\n",
              "      <td>813.0</td>\n",
              "      <td>4963.0</td>\n",
              "      <td>2903.0</td>\n",
              "      <td>3840.0</td>\n",
              "      <td>2859.0</td>\n",
              "      <td>5107.0</td>\n",
              "      <td>679.0</td>\n",
              "      <td>2572.0</td>\n",
              "      <td>1839.0</td>\n",
              "      <td>4949.0</td>\n",
              "      <td>3546.0</td>\n",
              "      <td>3997.0</td>\n",
              "      <td>1381.0</td>\n",
              "      <td>3396.0</td>\n",
              "      <td>2788.0</td>\n",
              "      <td>2675.0</td>\n",
              "      <td>2065.0</td>\n",
              "      <td>2193.0</td>\n",
              "      <td>1325.0</td>\n",
              "      <td>292.0</td>\n",
              "      <td>1192.0</td>\n",
              "      <td>3963.0</td>\n",
              "    </tr>\n",
              "    <tr>\n",
              "      <th>Total Assets</th>\n",
              "      <td>20000.0</td>\n",
              "      <td>4870.0</td>\n",
              "      <td>10000.0</td>\n",
              "      <td>10000.0</td>\n",
              "      <td>18872.0</td>\n",
              "      <td>17958.0</td>\n",
              "      <td>145700.0</td>\n",
              "      <td>18401.0</td>\n",
              "      <td>10000.0</td>\n",
              "      <td>10000.0</td>\n",
              "      <td>10000.0</td>\n",
              "      <td>9933.0</td>\n",
              "      <td>24999.0</td>\n",
              "      <td>14533.0</td>\n",
              "      <td>10000.0</td>\n",
              "      <td>3.0</td>\n",
              "      <td>8888.0</td>\n",
              "      <td>8888.0</td>\n",
              "      <td>10000.0</td>\n",
              "      <td>5000.0</td>\n",
              "      <td>9500.0</td>\n",
              "      <td>10000.0</td>\n",
              "      <td>9757.0</td>\n",
              "      <td>10255.0</td>\n",
              "      <td>10000.0</td>\n",
              "      <td>10000.0</td>\n",
              "      <td>7216.0</td>\n",
              "      <td>10000.0</td>\n",
              "      <td>23204.0</td>\n",
              "      <td>7779.0</td>\n",
              "      <td>10000.0</td>\n",
              "      <td>10000.0</td>\n",
              "      <td>7025.0</td>\n",
              "      <td>7776.0</td>\n",
              "      <td>8732.0</td>\n",
              "      <td>27681.0</td>\n",
              "      <td>10080.0</td>\n",
              "      <td>10000.0</td>\n",
              "      <td>1700.0</td>\n",
              "      <td>10000.0</td>\n",
              "      <td>...</td>\n",
              "      <td>9999.0</td>\n",
              "      <td>10000.0</td>\n",
              "      <td>9999.0</td>\n",
              "      <td>1600.0</td>\n",
              "      <td>4096.0</td>\n",
              "      <td>10000.0</td>\n",
              "      <td>10000.0</td>\n",
              "      <td>2250.0</td>\n",
              "      <td>7335.0</td>\n",
              "      <td>12442.0</td>\n",
              "      <td>2048.0</td>\n",
              "      <td>7535.0</td>\n",
              "      <td>7000.0</td>\n",
              "      <td>9999.0</td>\n",
              "      <td>4950.0</td>\n",
              "      <td>7777.0</td>\n",
              "      <td>4160.0</td>\n",
              "      <td>2799.0</td>\n",
              "      <td>5555.0</td>\n",
              "      <td>25456.0</td>\n",
              "      <td>7777.0</td>\n",
              "      <td>10000.0</td>\n",
              "      <td>15000.0</td>\n",
              "      <td>10000.0</td>\n",
              "      <td>11357.0</td>\n",
              "      <td>10000.0</td>\n",
              "      <td>4027.0</td>\n",
              "      <td>8888.0</td>\n",
              "      <td>10000.0</td>\n",
              "      <td>9899.0</td>\n",
              "      <td>3498.0</td>\n",
              "      <td>7976.0</td>\n",
              "      <td>10100.0</td>\n",
              "      <td>8888.0</td>\n",
              "      <td>8992.0</td>\n",
              "      <td>5554.0</td>\n",
              "      <td>3.0</td>\n",
              "      <td>526.0</td>\n",
              "      <td>3624.0</td>\n",
              "      <td>8008.0</td>\n",
              "    </tr>\n",
              "  </tbody>\n",
              "</table>\n",
              "<p>2 rows × 125 columns</p>\n",
              "</div>\n",
              "      <button class=\"colab-df-convert\" onclick=\"convertToInteractive('df-a3c8460c-daf4-4862-8ce0-cd65e33e5af7')\"\n",
              "              title=\"Convert this dataframe to an interactive table.\"\n",
              "              style=\"display:none;\">\n",
              "        \n",
              "  <svg xmlns=\"http://www.w3.org/2000/svg\" height=\"24px\"viewBox=\"0 0 24 24\"\n",
              "       width=\"24px\">\n",
              "    <path d=\"M0 0h24v24H0V0z\" fill=\"none\"/>\n",
              "    <path d=\"M18.56 5.44l.94 2.06.94-2.06 2.06-.94-2.06-.94-.94-2.06-.94 2.06-2.06.94zm-11 1L8.5 8.5l.94-2.06 2.06-.94-2.06-.94L8.5 2.5l-.94 2.06-2.06.94zm10 10l.94 2.06.94-2.06 2.06-.94-2.06-.94-.94-2.06-.94 2.06-2.06.94z\"/><path d=\"M17.41 7.96l-1.37-1.37c-.4-.4-.92-.59-1.43-.59-.52 0-1.04.2-1.43.59L10.3 9.45l-7.72 7.72c-.78.78-.78 2.05 0 2.83L4 21.41c.39.39.9.59 1.41.59.51 0 1.02-.2 1.41-.59l7.78-7.78 2.81-2.81c.8-.78.8-2.07 0-2.86zM5.41 20L4 18.59l7.72-7.72 1.47 1.35L5.41 20z\"/>\n",
              "  </svg>\n",
              "      </button>\n",
              "      \n",
              "  <style>\n",
              "    .colab-df-container {\n",
              "      display:flex;\n",
              "      flex-wrap:wrap;\n",
              "      gap: 12px;\n",
              "    }\n",
              "\n",
              "    .colab-df-convert {\n",
              "      background-color: #E8F0FE;\n",
              "      border: none;\n",
              "      border-radius: 50%;\n",
              "      cursor: pointer;\n",
              "      display: none;\n",
              "      fill: #1967D2;\n",
              "      height: 32px;\n",
              "      padding: 0 0 0 0;\n",
              "      width: 32px;\n",
              "    }\n",
              "\n",
              "    .colab-df-convert:hover {\n",
              "      background-color: #E2EBFA;\n",
              "      box-shadow: 0px 1px 2px rgba(60, 64, 67, 0.3), 0px 1px 3px 1px rgba(60, 64, 67, 0.15);\n",
              "      fill: #174EA6;\n",
              "    }\n",
              "\n",
              "    [theme=dark] .colab-df-convert {\n",
              "      background-color: #3B4455;\n",
              "      fill: #D2E3FC;\n",
              "    }\n",
              "\n",
              "    [theme=dark] .colab-df-convert:hover {\n",
              "      background-color: #434B5C;\n",
              "      box-shadow: 0px 1px 3px 1px rgba(0, 0, 0, 0.15);\n",
              "      filter: drop-shadow(0px 1px 2px rgba(0, 0, 0, 0.3));\n",
              "      fill: #FFFFFF;\n",
              "    }\n",
              "  </style>\n",
              "\n",
              "      <script>\n",
              "        const buttonEl =\n",
              "          document.querySelector('#df-a3c8460c-daf4-4862-8ce0-cd65e33e5af7 button.colab-df-convert');\n",
              "        buttonEl.style.display =\n",
              "          google.colab.kernel.accessAllowed ? 'block' : 'none';\n",
              "\n",
              "        async function convertToInteractive(key) {\n",
              "          const element = document.querySelector('#df-a3c8460c-daf4-4862-8ce0-cd65e33e5af7');\n",
              "          const dataTable =\n",
              "            await google.colab.kernel.invokeFunction('convertToInteractive',\n",
              "                                                     [key], {});\n",
              "          if (!dataTable) return;\n",
              "\n",
              "          const docLinkHtml = 'Like what you see? Visit the ' +\n",
              "            '<a target=\"_blank\" href=https://colab.research.google.com/notebooks/data_table.ipynb>data table notebook</a>'\n",
              "            + ' to learn more about interactive tables.';\n",
              "          element.innerHTML = '';\n",
              "          dataTable['output_type'] = 'display_data';\n",
              "          await google.colab.output.renderOutput(dataTable, element);\n",
              "          const docLink = document.createElement('div');\n",
              "          docLink.innerHTML = docLinkHtml;\n",
              "          element.appendChild(docLink);\n",
              "        }\n",
              "      </script>\n",
              "    </div>\n",
              "  </div>\n",
              "  "
            ],
            "text/plain": [
              "                  0       1        2        3    ...     121    122     123     124\n",
              "Owners         5747.0  2650.0   5428.0   6312.0  ...  1325.0  292.0  1192.0  3963.0\n",
              "Total Assets  20000.0  4870.0  10000.0  10000.0  ...     3.0  526.0  3624.0  8008.0\n",
              "\n",
              "[2 rows x 125 columns]"
            ]
          },
          "metadata": {},
          "execution_count": 668
        }
      ]
    },
    {
      "cell_type": "code",
      "source": [
        "df2 = df2.transpose()"
      ],
      "metadata": {
        "id": "Z-nAYlKh72Yy"
      },
      "execution_count": 669,
      "outputs": []
    },
    {
      "cell_type": "code",
      "source": [
        "df2"
      ],
      "metadata": {
        "colab": {
          "base_uri": "https://localhost:8080/",
          "height": 424
        },
        "id": "k9eNflBx79r6",
        "outputId": "ed7280f0-092a-4c68-dc34-3c0647684b4a"
      },
      "execution_count": 670,
      "outputs": [
        {
          "output_type": "execute_result",
          "data": {
            "text/html": [
              "\n",
              "  <div id=\"df-7bb4ca66-7a17-43b9-9f40-7a1f9c40f8e4\">\n",
              "    <div class=\"colab-df-container\">\n",
              "      <div>\n",
              "<style scoped>\n",
              "    .dataframe tbody tr th:only-of-type {\n",
              "        vertical-align: middle;\n",
              "    }\n",
              "\n",
              "    .dataframe tbody tr th {\n",
              "        vertical-align: top;\n",
              "    }\n",
              "\n",
              "    .dataframe thead th {\n",
              "        text-align: right;\n",
              "    }\n",
              "</style>\n",
              "<table border=\"1\" class=\"dataframe\">\n",
              "  <thead>\n",
              "    <tr style=\"text-align: right;\">\n",
              "      <th></th>\n",
              "      <th>Owners</th>\n",
              "      <th>Total Assets</th>\n",
              "    </tr>\n",
              "  </thead>\n",
              "  <tbody>\n",
              "    <tr>\n",
              "      <th>0</th>\n",
              "      <td>5747.0</td>\n",
              "      <td>20000.0</td>\n",
              "    </tr>\n",
              "    <tr>\n",
              "      <th>1</th>\n",
              "      <td>2650.0</td>\n",
              "      <td>4870.0</td>\n",
              "    </tr>\n",
              "    <tr>\n",
              "      <th>2</th>\n",
              "      <td>5428.0</td>\n",
              "      <td>10000.0</td>\n",
              "    </tr>\n",
              "    <tr>\n",
              "      <th>3</th>\n",
              "      <td>6312.0</td>\n",
              "      <td>10000.0</td>\n",
              "    </tr>\n",
              "    <tr>\n",
              "      <th>4</th>\n",
              "      <td>8287.0</td>\n",
              "      <td>18872.0</td>\n",
              "    </tr>\n",
              "    <tr>\n",
              "      <th>...</th>\n",
              "      <td>...</td>\n",
              "      <td>...</td>\n",
              "    </tr>\n",
              "    <tr>\n",
              "      <th>120</th>\n",
              "      <td>2193.0</td>\n",
              "      <td>5554.0</td>\n",
              "    </tr>\n",
              "    <tr>\n",
              "      <th>121</th>\n",
              "      <td>1325.0</td>\n",
              "      <td>3.0</td>\n",
              "    </tr>\n",
              "    <tr>\n",
              "      <th>122</th>\n",
              "      <td>292.0</td>\n",
              "      <td>526.0</td>\n",
              "    </tr>\n",
              "    <tr>\n",
              "      <th>123</th>\n",
              "      <td>1192.0</td>\n",
              "      <td>3624.0</td>\n",
              "    </tr>\n",
              "    <tr>\n",
              "      <th>124</th>\n",
              "      <td>3963.0</td>\n",
              "      <td>8008.0</td>\n",
              "    </tr>\n",
              "  </tbody>\n",
              "</table>\n",
              "<p>125 rows × 2 columns</p>\n",
              "</div>\n",
              "      <button class=\"colab-df-convert\" onclick=\"convertToInteractive('df-7bb4ca66-7a17-43b9-9f40-7a1f9c40f8e4')\"\n",
              "              title=\"Convert this dataframe to an interactive table.\"\n",
              "              style=\"display:none;\">\n",
              "        \n",
              "  <svg xmlns=\"http://www.w3.org/2000/svg\" height=\"24px\"viewBox=\"0 0 24 24\"\n",
              "       width=\"24px\">\n",
              "    <path d=\"M0 0h24v24H0V0z\" fill=\"none\"/>\n",
              "    <path d=\"M18.56 5.44l.94 2.06.94-2.06 2.06-.94-2.06-.94-.94-2.06-.94 2.06-2.06.94zm-11 1L8.5 8.5l.94-2.06 2.06-.94-2.06-.94L8.5 2.5l-.94 2.06-2.06.94zm10 10l.94 2.06.94-2.06 2.06-.94-2.06-.94-.94-2.06-.94 2.06-2.06.94z\"/><path d=\"M17.41 7.96l-1.37-1.37c-.4-.4-.92-.59-1.43-.59-.52 0-1.04.2-1.43.59L10.3 9.45l-7.72 7.72c-.78.78-.78 2.05 0 2.83L4 21.41c.39.39.9.59 1.41.59.51 0 1.02-.2 1.41-.59l7.78-7.78 2.81-2.81c.8-.78.8-2.07 0-2.86zM5.41 20L4 18.59l7.72-7.72 1.47 1.35L5.41 20z\"/>\n",
              "  </svg>\n",
              "      </button>\n",
              "      \n",
              "  <style>\n",
              "    .colab-df-container {\n",
              "      display:flex;\n",
              "      flex-wrap:wrap;\n",
              "      gap: 12px;\n",
              "    }\n",
              "\n",
              "    .colab-df-convert {\n",
              "      background-color: #E8F0FE;\n",
              "      border: none;\n",
              "      border-radius: 50%;\n",
              "      cursor: pointer;\n",
              "      display: none;\n",
              "      fill: #1967D2;\n",
              "      height: 32px;\n",
              "      padding: 0 0 0 0;\n",
              "      width: 32px;\n",
              "    }\n",
              "\n",
              "    .colab-df-convert:hover {\n",
              "      background-color: #E2EBFA;\n",
              "      box-shadow: 0px 1px 2px rgba(60, 64, 67, 0.3), 0px 1px 3px 1px rgba(60, 64, 67, 0.15);\n",
              "      fill: #174EA6;\n",
              "    }\n",
              "\n",
              "    [theme=dark] .colab-df-convert {\n",
              "      background-color: #3B4455;\n",
              "      fill: #D2E3FC;\n",
              "    }\n",
              "\n",
              "    [theme=dark] .colab-df-convert:hover {\n",
              "      background-color: #434B5C;\n",
              "      box-shadow: 0px 1px 3px 1px rgba(0, 0, 0, 0.15);\n",
              "      filter: drop-shadow(0px 1px 2px rgba(0, 0, 0, 0.3));\n",
              "      fill: #FFFFFF;\n",
              "    }\n",
              "  </style>\n",
              "\n",
              "      <script>\n",
              "        const buttonEl =\n",
              "          document.querySelector('#df-7bb4ca66-7a17-43b9-9f40-7a1f9c40f8e4 button.colab-df-convert');\n",
              "        buttonEl.style.display =\n",
              "          google.colab.kernel.accessAllowed ? 'block' : 'none';\n",
              "\n",
              "        async function convertToInteractive(key) {\n",
              "          const element = document.querySelector('#df-7bb4ca66-7a17-43b9-9f40-7a1f9c40f8e4');\n",
              "          const dataTable =\n",
              "            await google.colab.kernel.invokeFunction('convertToInteractive',\n",
              "                                                     [key], {});\n",
              "          if (!dataTable) return;\n",
              "\n",
              "          const docLinkHtml = 'Like what you see? Visit the ' +\n",
              "            '<a target=\"_blank\" href=https://colab.research.google.com/notebooks/data_table.ipynb>data table notebook</a>'\n",
              "            + ' to learn more about interactive tables.';\n",
              "          element.innerHTML = '';\n",
              "          dataTable['output_type'] = 'display_data';\n",
              "          await google.colab.output.renderOutput(dataTable, element);\n",
              "          const docLink = document.createElement('div');\n",
              "          docLink.innerHTML = docLinkHtml;\n",
              "          element.appendChild(docLink);\n",
              "        }\n",
              "      </script>\n",
              "    </div>\n",
              "  </div>\n",
              "  "
            ],
            "text/plain": [
              "     Owners  Total Assets\n",
              "0    5747.0       20000.0\n",
              "1    2650.0        4870.0\n",
              "2    5428.0       10000.0\n",
              "3    6312.0       10000.0\n",
              "4    8287.0       18872.0\n",
              "..      ...           ...\n",
              "120  2193.0        5554.0\n",
              "121  1325.0           3.0\n",
              "122   292.0         526.0\n",
              "123  1192.0        3624.0\n",
              "124  3963.0        8008.0\n",
              "\n",
              "[125 rows x 2 columns]"
            ]
          },
          "metadata": {},
          "execution_count": 670
        }
      ]
    },
    {
      "cell_type": "code",
      "source": [
        "plt.figure(figsize=(10,6))\n",
        "heatmap = sns.heatmap(df2.corr(), cmap=\"BuPu\", annot=True)\n",
        "heatmap.set_title('Correlation Heatmap', fontdict={'fontsize':18}, pad=12);"
      ],
      "metadata": {
        "id": "eD_FNXwJwFoM",
        "colab": {
          "base_uri": "https://localhost:8080/",
          "height": 400
        },
        "outputId": "fb0b849f-97d7-419a-96a1-4a95b86a91f8"
      },
      "execution_count": 671,
      "outputs": [
        {
          "output_type": "display_data",
          "data": {
            "image/png": "[encoded data removed]",
            "text/plain": [
              "<Figure size 720x432 with 2 Axes>"
            ]
          },
          "metadata": {
            "needs_background": "light"
          }
        }
      ]
    },
    {
      "cell_type": "markdown",
      "source": [
        "- Correlação forte! Não necessariamente um projeto terá mais proprietários quando se tem mais ativos, visto que um projeto pode ter muitos ativos e poucos donos - o que indicaria, muito provavelmente, que os ativos estão em um preço baixo, mas com expectativa de lucro. \n",
        "\n",
        "- Se o projeto tem muitos ativos e muitos donos, é muito provável que o preço esteja razoalvemente equilibrado na proporção entre os dois. Essa relação é espelhada na coluna owners_ratio."
      ],
      "metadata": {
        "id": "hHzI96i3wLvK"
      }
    },
    {
      "cell_type": "markdown",
      "source": [
        "###Há alguma relação entre o market cap e o total de ativos?"
      ],
      "metadata": {
        "id": "galurW-WDeO7"
      }
    },
    {
      "cell_type": "code",
      "source": [
        "df3 = pd.DataFrame([df['Market Cap'], df['Total Assets']])"
      ],
      "metadata": {
        "id": "-cwFEJVnxA5b"
      },
      "execution_count": 672,
      "outputs": []
    },
    {
      "cell_type": "code",
      "source": [
        "df3 = df3.transpose()"
      ],
      "metadata": {
        "id": "N5segWZTxGZB"
      },
      "execution_count": 673,
      "outputs": []
    },
    {
      "cell_type": "code",
      "source": [
        "plt.figure(figsize=(10,6))\n",
        "heatmap = sns.heatmap(df3.corr(), cmap=\"BuPu\", annot=True)\n",
        "heatmap.set_title('Correlation Heatmap', fontdict={'fontsize':18}, pad=12);"
      ],
      "metadata": {
        "id": "vr0eOPgWxJGS",
        "colab": {
          "base_uri": "https://localhost:8080/",
          "height": 400
        },
        "outputId": "61d3aac2-b482-4430-a977-d98c5937c0bc"
      },
      "execution_count": 674,
      "outputs": [
        {
          "output_type": "display_data",
          "data": {
            "image/png": "[encoded data removed]",
            "text/plain": [
              "<Figure size 720x432 with 2 Axes>"
            ]
          },
          "metadata": {
            "needs_background": "light"
          }
        }
      ]
    },
    {
      "cell_type": "markdown",
      "source": [
        "- Resposta: não é uma correlação forte, mas existe um indicativo. Não necessariamente quanto mais ativos, mais receita aquele projeto terá."
      ],
      "metadata": {
        "id": "JO4klX05DiHd"
      }
    },
    {
      "cell_type": "markdown",
      "source": [
        "###Correlacionando o proprietários, total de ativos e market cap:"
      ],
      "metadata": {
        "id": "ksF2C1_x0bwF"
      }
    },
    {
      "cell_type": "code",
      "source": [
        "df4 = pd.DataFrame([df['Owners'], df['Total Assets'], df['Market Cap']])"
      ],
      "metadata": {
        "id": "_JwgbOit0d52"
      },
      "execution_count": 675,
      "outputs": []
    },
    {
      "cell_type": "code",
      "source": [
        "df4 = df4.transpose()"
      ],
      "metadata": {
        "id": "wzQf83E51oFs"
      },
      "execution_count": 676,
      "outputs": []
    },
    {
      "cell_type": "code",
      "source": [
        "plt.figure(figsize=(12,8))\n",
        "heatmap = sns.heatmap(df4.corr(), cmap=\"BuPu\", annot=True)\n",
        "heatmap.set_title('Correlation Heatmap', fontdict={'fontsize':18}, pad=12);"
      ],
      "metadata": {
        "id": "uMRz5q950d8P",
        "colab": {
          "base_uri": "https://localhost:8080/",
          "height": 509
        },
        "outputId": "22e6391b-1a53-47db-ea80-29fb68dde96c"
      },
      "execution_count": 677,
      "outputs": [
        {
          "output_type": "display_data",
          "data": {
            "image/png": "[encoded data removed]",
            "text/plain": [
              "<Figure size 864x576 with 2 Axes>"
            ]
          },
          "metadata": {
            "needs_background": "light"
          }
        }
      ]
    },
    {
      "cell_type": "markdown",
      "source": [
        "- Como podemos observar, a interação nova é entre proprietários e market cap"
      ],
      "metadata": {
        "id": "BILdixI_Dvr-"
      }
    },
    {
      "cell_type": "code",
      "source": [
        ""
      ],
      "metadata": {
        "id": "2M-saMEeBTvH"
      },
      "execution_count": 677,
      "outputs": []
    },
    {
      "cell_type": "markdown",
      "source": [
        "##Conclusões\n"
      ],
      "metadata": {
        "id": "QF4MGFchCeHE"
      }
    }
  ]
}